<<<<<<< HEAD
{
 "cells": [
  {
   "cell_type": "code",
   "execution_count": 15,
   "id": "96c2214f-9700-4745-964c-38409be1ebf5",
   "metadata": {},
   "outputs": [],
   "source": [
    "import pandas as pd\n",
    "from sklearn.model_selection import StratifiedShuffleSplit\n",
    "from scipy.stats import skew\n",
    "import os\n",
    "import csv\n",
    "import pandas as pd\n",
    "from tqdm import tqdm"
   ]
  },
  {
   "cell_type": "code",
   "execution_count": 23,
   "id": "14ca5cc4-5a4b-4993-9f9c-1444d7c33f44",
   "metadata": {},
   "outputs": [
    {
     "data": {
      "text/html": [
       "<div>\n",
       "<style scoped>\n",
       "    .dataframe tbody tr th:only-of-type {\n",
       "        vertical-align: middle;\n",
       "    }\n",
       "\n",
       "    .dataframe tbody tr th {\n",
       "        vertical-align: top;\n",
       "    }\n",
       "\n",
       "    .dataframe thead th {\n",
       "        text-align: right;\n",
       "    }\n",
       "</style>\n",
       "<table border=\"1\" class=\"dataframe\">\n",
       "  <thead>\n",
       "    <tr style=\"text-align: right;\">\n",
       "      <th></th>\n",
       "      <th>id</th>\n",
       "      <th>Sex</th>\n",
       "      <th>Length</th>\n",
       "      <th>Diameter</th>\n",
       "      <th>Height</th>\n",
       "      <th>Whole_weight</th>\n",
       "      <th>Shucked_weight</th>\n",
       "      <th>Viscera_weight</th>\n",
       "      <th>Shell_weight</th>\n",
       "      <th>Rings</th>\n",
       "    </tr>\n",
       "  </thead>\n",
       "  <tbody>\n",
       "    <tr>\n",
       "      <th>0</th>\n",
       "      <td>0</td>\n",
       "      <td>M</td>\n",
       "      <td>0.455</td>\n",
       "      <td>0.365</td>\n",
       "      <td>0.095</td>\n",
       "      <td>0.5140</td>\n",
       "      <td>0.2245</td>\n",
       "      <td>0.1010</td>\n",
       "      <td>0.1500</td>\n",
       "      <td>15</td>\n",
       "    </tr>\n",
       "    <tr>\n",
       "      <th>1</th>\n",
       "      <td>1</td>\n",
       "      <td>M</td>\n",
       "      <td>0.350</td>\n",
       "      <td>0.265</td>\n",
       "      <td>0.090</td>\n",
       "      <td>0.2255</td>\n",
       "      <td>0.0995</td>\n",
       "      <td>0.0485</td>\n",
       "      <td>0.0700</td>\n",
       "      <td>7</td>\n",
       "    </tr>\n",
       "    <tr>\n",
       "      <th>2</th>\n",
       "      <td>2</td>\n",
       "      <td>F</td>\n",
       "      <td>0.530</td>\n",
       "      <td>0.420</td>\n",
       "      <td>0.135</td>\n",
       "      <td>0.6770</td>\n",
       "      <td>0.2565</td>\n",
       "      <td>0.1415</td>\n",
       "      <td>0.2100</td>\n",
       "      <td>9</td>\n",
       "    </tr>\n",
       "    <tr>\n",
       "      <th>3</th>\n",
       "      <td>3</td>\n",
       "      <td>M</td>\n",
       "      <td>0.440</td>\n",
       "      <td>0.365</td>\n",
       "      <td>0.125</td>\n",
       "      <td>0.5160</td>\n",
       "      <td>0.2155</td>\n",
       "      <td>0.1140</td>\n",
       "      <td>0.1550</td>\n",
       "      <td>10</td>\n",
       "    </tr>\n",
       "    <tr>\n",
       "      <th>4</th>\n",
       "      <td>4</td>\n",
       "      <td>I</td>\n",
       "      <td>0.330</td>\n",
       "      <td>0.255</td>\n",
       "      <td>0.080</td>\n",
       "      <td>0.2050</td>\n",
       "      <td>0.0895</td>\n",
       "      <td>0.0395</td>\n",
       "      <td>0.0550</td>\n",
       "      <td>7</td>\n",
       "    </tr>\n",
       "    <tr>\n",
       "      <th>...</th>\n",
       "      <td>...</td>\n",
       "      <td>...</td>\n",
       "      <td>...</td>\n",
       "      <td>...</td>\n",
       "      <td>...</td>\n",
       "      <td>...</td>\n",
       "      <td>...</td>\n",
       "      <td>...</td>\n",
       "      <td>...</td>\n",
       "      <td>...</td>\n",
       "    </tr>\n",
       "    <tr>\n",
       "      <th>4172</th>\n",
       "      <td>4172</td>\n",
       "      <td>F</td>\n",
       "      <td>0.565</td>\n",
       "      <td>0.450</td>\n",
       "      <td>0.165</td>\n",
       "      <td>0.8870</td>\n",
       "      <td>0.3700</td>\n",
       "      <td>0.2390</td>\n",
       "      <td>0.2490</td>\n",
       "      <td>11</td>\n",
       "    </tr>\n",
       "    <tr>\n",
       "      <th>4173</th>\n",
       "      <td>4173</td>\n",
       "      <td>M</td>\n",
       "      <td>0.590</td>\n",
       "      <td>0.440</td>\n",
       "      <td>0.135</td>\n",
       "      <td>0.9660</td>\n",
       "      <td>0.4390</td>\n",
       "      <td>0.2145</td>\n",
       "      <td>0.2605</td>\n",
       "      <td>10</td>\n",
       "    </tr>\n",
       "    <tr>\n",
       "      <th>4174</th>\n",
       "      <td>4174</td>\n",
       "      <td>M</td>\n",
       "      <td>0.600</td>\n",
       "      <td>0.475</td>\n",
       "      <td>0.205</td>\n",
       "      <td>1.1760</td>\n",
       "      <td>0.5255</td>\n",
       "      <td>0.2875</td>\n",
       "      <td>0.3080</td>\n",
       "      <td>9</td>\n",
       "    </tr>\n",
       "    <tr>\n",
       "      <th>4175</th>\n",
       "      <td>4175</td>\n",
       "      <td>F</td>\n",
       "      <td>0.625</td>\n",
       "      <td>0.485</td>\n",
       "      <td>0.150</td>\n",
       "      <td>1.0945</td>\n",
       "      <td>0.5310</td>\n",
       "      <td>0.2610</td>\n",
       "      <td>0.2960</td>\n",
       "      <td>10</td>\n",
       "    </tr>\n",
       "    <tr>\n",
       "      <th>4176</th>\n",
       "      <td>4176</td>\n",
       "      <td>M</td>\n",
       "      <td>0.710</td>\n",
       "      <td>0.555</td>\n",
       "      <td>0.195</td>\n",
       "      <td>1.9485</td>\n",
       "      <td>0.9455</td>\n",
       "      <td>0.3765</td>\n",
       "      <td>0.4950</td>\n",
       "      <td>12</td>\n",
       "    </tr>\n",
       "  </tbody>\n",
       "</table>\n",
       "<p>4177 rows × 10 columns</p>\n",
       "</div>"
      ],
      "text/plain": [
       "        id Sex  Length  Diameter  Height  Whole_weight  Shucked_weight  \\\n",
       "0        0   M   0.455     0.365   0.095        0.5140          0.2245   \n",
       "1        1   M   0.350     0.265   0.090        0.2255          0.0995   \n",
       "2        2   F   0.530     0.420   0.135        0.6770          0.2565   \n",
       "3        3   M   0.440     0.365   0.125        0.5160          0.2155   \n",
       "4        4   I   0.330     0.255   0.080        0.2050          0.0895   \n",
       "...    ...  ..     ...       ...     ...           ...             ...   \n",
       "4172  4172   F   0.565     0.450   0.165        0.8870          0.3700   \n",
       "4173  4173   M   0.590     0.440   0.135        0.9660          0.4390   \n",
       "4174  4174   M   0.600     0.475   0.205        1.1760          0.5255   \n",
       "4175  4175   F   0.625     0.485   0.150        1.0945          0.5310   \n",
       "4176  4176   M   0.710     0.555   0.195        1.9485          0.9455   \n",
       "\n",
       "      Viscera_weight  Shell_weight  Rings  \n",
       "0             0.1010        0.1500     15  \n",
       "1             0.0485        0.0700      7  \n",
       "2             0.1415        0.2100      9  \n",
       "3             0.1140        0.1550     10  \n",
       "4             0.0395        0.0550      7  \n",
       "...              ...           ...    ...  \n",
       "4172          0.2390        0.2490     11  \n",
       "4173          0.2145        0.2605     10  \n",
       "4174          0.2875        0.3080      9  \n",
       "4175          0.2610        0.2960     10  \n",
       "4176          0.3765        0.4950     12  \n",
       "\n",
       "[4177 rows x 10 columns]"
      ]
     },
     "execution_count": 23,
     "metadata": {},
     "output_type": "execute_result"
    }
   ],
   "source": [
    "df = pd.read_csv(\"C:/Users/wjdwl/Desktop/Data/abalone.csv\")\n",
    "df"
   ]
  },
  {
   "cell_type": "code",
   "execution_count": 27,
   "id": "7b8f66ec-02bb-4247-9324-3c2001edc0a5",
   "metadata": {},
   "outputs": [
    {
     "data": {
      "text/plain": [
       "Index(['id', 'Sex', 'Length', 'Diameter', 'Height', 'Whole_weight',\n",
       "       'Shucked_weight', 'Viscera_weight', 'Shell_weight', 'Rings'],\n",
       "      dtype='object')"
      ]
     },
     "execution_count": 27,
     "metadata": {},
     "output_type": "execute_result"
    }
   ],
   "source": [
    "df.columns"
   ]
  },
  {
   "cell_type": "code",
   "execution_count": 29,
   "id": "552d9ef7-be61-4f41-b6ed-3e1110d826c6",
   "metadata": {},
   "outputs": [
    {
     "data": {
      "text/plain": [
       "Rings\n",
       "9     689\n",
       "10    634\n",
       "8     568\n",
       "11    487\n",
       "7     391\n",
       "12    267\n",
       "6     259\n",
       "13    203\n",
       "14    126\n",
       "5     115\n",
       "15    103\n",
       "16     67\n",
       "17     58\n",
       "4      57\n",
       "18     42\n",
       "19     32\n",
       "20     26\n",
       "3      15\n",
       "21     14\n",
       "23      9\n",
       "22      6\n",
       "27      2\n",
       "24      2\n",
       "1       1\n",
       "26      1\n",
       "29      1\n",
       "2       1\n",
       "25      1\n",
       "Name: count, dtype: int64"
      ]
     },
     "execution_count": 29,
     "metadata": {},
     "output_type": "execute_result"
    }
   ],
   "source": [
    "df['Rings'].value_counts()"
   ]
  },
  {
   "cell_type": "code",
   "execution_count": 72,
   "id": "fbe1ac9c-0bdb-42bc-83de-95d5349308cc",
   "metadata": {},
   "outputs": [
    {
     "data": {
      "text/plain": [
       "Text(0, 0.5, 'Count')"
      ]
     },
     "execution_count": 72,
     "metadata": {},
     "output_type": "execute_result"
    },
    {
     "data": {
      "image/png": "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",
      "text/plain": [
       "<Figure size 640x480 with 1 Axes>"
      ]
     },
     "metadata": {},
     "output_type": "display_data"
    }
   ],
   "source": [
    "import pandas as pd\n",
    "import matplotlib.pyplot as plt\n",
    "\n",
    "# 레이블별 갯수 확인\n",
    "label_counts = df['Rings'].value_counts()\n",
    "\n",
    "# 바 그래프 그리기\n",
    "label_counts.plot(kind='bar')\n",
    "\n",
    "# 그래프 제목 및 라벨 설정\n",
    "plt.title('Rings')\n",
    "plt.xlabel('Rings')\n",
    "plt.ylabel('Count')"
   ]
  },
  {
   "cell_type": "code",
   "execution_count": 74,
   "id": "9ed41f08-bde6-475d-b63d-d6e3822679bf",
   "metadata": {},
   "outputs": [],
   "source": [
    "\n",
    "from sklearn.preprocessing import LabelEncoder\n",
    "\n",
    "# LabelEncoder 객체 생성\n",
    "label_encoder = LabelEncoder()\n",
    "\n",
    "# 'label' 컬럼을 숫자로 변환\n",
    "df['Sex'] = label_encoder.fit_transform(df['Sex'])\n",
    "\n",
    "# LabelEncoder 객체 생성\n",
    "label_encoder = LabelEncoder()\n",
    "# 'label' 컬럼을 숫자로 변환\n",
    "df['Sex'] = label_encoder.fit_transform(df['Sex'])"
   ]
  },
  {
   "cell_type": "code",
   "execution_count": 76,
   "id": "e8861ff7-1bcc-45f9-b5d2-8b1bccadf282",
   "metadata": {},
   "outputs": [
    {
     "data": {
      "text/plain": [
       "Rings\n",
       "9     689\n",
       "10    634\n",
       "8     568\n",
       "11    487\n",
       "7     391\n",
       "12    267\n",
       "6     259\n",
       "13    203\n",
       "14    126\n",
       "5     115\n",
       "15    103\n",
       "16     67\n",
       "17     58\n",
       "4      57\n",
       "18     42\n",
       "19     32\n",
       "20     26\n",
       "3      15\n",
       "21     14\n",
       "23      9\n",
       "22      6\n",
       "27      2\n",
       "24      2\n",
       "1       1\n",
       "26      1\n",
       "29      1\n",
       "2       1\n",
       "25      1\n",
       "Name: count, dtype: int64"
      ]
     },
     "execution_count": 76,
     "metadata": {},
     "output_type": "execute_result"
    }
   ],
   "source": [
    "df['Rings'].value_counts()"
   ]
  },
  {
   "cell_type": "code",
   "execution_count": 78,
   "id": "2300932b-4927-4519-ba55-62f6812ed229",
   "metadata": {},
   "outputs": [
    {
     "data": {
      "text/html": [
       "<div>\n",
       "<style scoped>\n",
       "    .dataframe tbody tr th:only-of-type {\n",
       "        vertical-align: middle;\n",
       "    }\n",
       "\n",
       "    .dataframe tbody tr th {\n",
       "        vertical-align: top;\n",
       "    }\n",
       "\n",
       "    .dataframe thead th {\n",
       "        text-align: right;\n",
       "    }\n",
       "</style>\n",
       "<table border=\"1\" class=\"dataframe\">\n",
       "  <thead>\n",
       "    <tr style=\"text-align: right;\">\n",
       "      <th></th>\n",
       "      <th>id</th>\n",
       "      <th>Sex</th>\n",
       "      <th>Length</th>\n",
       "      <th>Diameter</th>\n",
       "      <th>Height</th>\n",
       "      <th>Whole_weight</th>\n",
       "      <th>Shucked_weight</th>\n",
       "      <th>Viscera_weight</th>\n",
       "      <th>Shell_weight</th>\n",
       "    </tr>\n",
       "  </thead>\n",
       "  <tbody>\n",
       "    <tr>\n",
       "      <th>0</th>\n",
       "      <td>0</td>\n",
       "      <td>2</td>\n",
       "      <td>0.455</td>\n",
       "      <td>0.365</td>\n",
       "      <td>0.095</td>\n",
       "      <td>0.5140</td>\n",
       "      <td>0.2245</td>\n",
       "      <td>0.1010</td>\n",
       "      <td>0.150</td>\n",
       "    </tr>\n",
       "    <tr>\n",
       "      <th>1</th>\n",
       "      <td>1</td>\n",
       "      <td>2</td>\n",
       "      <td>0.350</td>\n",
       "      <td>0.265</td>\n",
       "      <td>0.090</td>\n",
       "      <td>0.2255</td>\n",
       "      <td>0.0995</td>\n",
       "      <td>0.0485</td>\n",
       "      <td>0.070</td>\n",
       "    </tr>\n",
       "    <tr>\n",
       "      <th>2</th>\n",
       "      <td>2</td>\n",
       "      <td>0</td>\n",
       "      <td>0.530</td>\n",
       "      <td>0.420</td>\n",
       "      <td>0.135</td>\n",
       "      <td>0.6770</td>\n",
       "      <td>0.2565</td>\n",
       "      <td>0.1415</td>\n",
       "      <td>0.210</td>\n",
       "    </tr>\n",
       "    <tr>\n",
       "      <th>3</th>\n",
       "      <td>3</td>\n",
       "      <td>2</td>\n",
       "      <td>0.440</td>\n",
       "      <td>0.365</td>\n",
       "      <td>0.125</td>\n",
       "      <td>0.5160</td>\n",
       "      <td>0.2155</td>\n",
       "      <td>0.1140</td>\n",
       "      <td>0.155</td>\n",
       "    </tr>\n",
       "    <tr>\n",
       "      <th>4</th>\n",
       "      <td>4</td>\n",
       "      <td>1</td>\n",
       "      <td>0.330</td>\n",
       "      <td>0.255</td>\n",
       "      <td>0.080</td>\n",
       "      <td>0.2050</td>\n",
       "      <td>0.0895</td>\n",
       "      <td>0.0395</td>\n",
       "      <td>0.055</td>\n",
       "    </tr>\n",
       "  </tbody>\n",
       "</table>\n",
       "</div>"
      ],
      "text/plain": [
       "   id  Sex  Length  Diameter  Height  Whole_weight  Shucked_weight  \\\n",
       "0   0    2   0.455     0.365   0.095        0.5140          0.2245   \n",
       "1   1    2   0.350     0.265   0.090        0.2255          0.0995   \n",
       "2   2    0   0.530     0.420   0.135        0.6770          0.2565   \n",
       "3   3    2   0.440     0.365   0.125        0.5160          0.2155   \n",
       "4   4    1   0.330     0.255   0.080        0.2050          0.0895   \n",
       "\n",
       "   Viscera_weight  Shell_weight  \n",
       "0          0.1010         0.150  \n",
       "1          0.0485         0.070  \n",
       "2          0.1415         0.210  \n",
       "3          0.1140         0.155  \n",
       "4          0.0395         0.055  "
      ]
     },
     "execution_count": 78,
     "metadata": {},
     "output_type": "execute_result"
    }
   ],
   "source": [
    "X=df.drop('Rings',axis=1)\n",
    "X.head()"
   ]
  },
  {
   "cell_type": "code",
   "execution_count": 79,
   "id": "45c3cb86-8d17-4f9b-acb7-bb6cb70ddd5a",
   "metadata": {},
   "outputs": [
    {
     "data": {
      "text/plain": [
       "Rings\n",
       "9     689\n",
       "10    634\n",
       "8     568\n",
       "11    487\n",
       "7     391\n",
       "12    267\n",
       "6     259\n",
       "13    203\n",
       "14    126\n",
       "5     115\n",
       "15    103\n",
       "16     67\n",
       "17     58\n",
       "4      57\n",
       "18     42\n",
       "19     32\n",
       "20     26\n",
       "3      15\n",
       "21     14\n",
       "23      9\n",
       "22      6\n",
       "27      2\n",
       "24      2\n",
       "1       1\n",
       "26      1\n",
       "29      1\n",
       "2       1\n",
       "25      1\n",
       "Name: count, dtype: int64"
      ]
     },
     "execution_count": 79,
     "metadata": {},
     "output_type": "execute_result"
    }
   ],
   "source": [
    "y=df['Rings']\n",
    "y.value_counts()"
   ]
  },
  {
   "cell_type": "code",
   "execution_count": 82,
   "id": "6b3dbbc1-277f-4801-a5f2-1c5d600f61f2",
   "metadata": {},
   "outputs": [
    {
     "data": {
      "text/plain": [
       "0    15\n",
       "1     7\n",
       "2     9\n",
       "3    10\n",
       "4     7\n",
       "Name: Rings, dtype: int64"
      ]
     },
     "execution_count": 82,
     "metadata": {},
     "output_type": "execute_result"
    }
   ],
   "source": [
    "y.head()"
   ]
  },
  {
   "cell_type": "code",
   "execution_count": 83,
   "id": "800c0309-071e-4412-b8cd-cda93bb26c28",
   "metadata": {},
   "outputs": [],
   "source": [
    "Y = pd.get_dummies(y).values\n"
   ]
  },
  {
   "cell_type": "code",
   "execution_count": 84,
   "id": "5cd247d9-9f0e-48be-a398-bde08e000da6",
   "metadata": {},
   "outputs": [],
   "source": [
    "X = X.values\n"
   ]
  },
  {
   "cell_type": "code",
   "execution_count": 88,
   "id": "6d4faabc-a655-4f69-98d8-b82d9f0f185a",
   "metadata": {},
   "outputs": [
    {
     "data": {
      "text/plain": [
       "array([[0.000e+00, 2.000e+00, 4.550e-01, ..., 2.245e-01, 1.010e-01,\n",
       "        1.500e-01],\n",
       "       [1.000e+00, 2.000e+00, 3.500e-01, ..., 9.950e-02, 4.850e-02,\n",
       "        7.000e-02],\n",
       "       [2.000e+00, 0.000e+00, 5.300e-01, ..., 2.565e-01, 1.415e-01,\n",
       "        2.100e-01],\n",
       "       ...,\n",
       "       [4.174e+03, 2.000e+00, 6.000e-01, ..., 5.255e-01, 2.875e-01,\n",
       "        3.080e-01],\n",
       "       [4.175e+03, 0.000e+00, 6.250e-01, ..., 5.310e-01, 2.610e-01,\n",
       "        2.960e-01],\n",
       "       [4.176e+03, 2.000e+00, 7.100e-01, ..., 9.455e-01, 3.765e-01,\n",
       "        4.950e-01]])"
      ]
     },
     "execution_count": 88,
     "metadata": {},
     "output_type": "execute_result"
    }
   ],
   "source": [
    "X"
   ]
  },
  {
   "cell_type": "code",
   "execution_count": 89,
   "id": "f6e15b98-38ff-4c6d-99e0-775d04b88c8a",
   "metadata": {},
   "outputs": [
    {
     "data": {
      "text/plain": [
       "0       15\n",
       "1        7\n",
       "2        9\n",
       "3       10\n",
       "4        7\n",
       "        ..\n",
       "4172    11\n",
       "4173    10\n",
       "4174     9\n",
       "4175    10\n",
       "4176    12\n",
       "Name: Rings, Length: 4177, dtype: int64"
      ]
     },
     "execution_count": 89,
     "metadata": {},
     "output_type": "execute_result"
    }
   ],
   "source": [
    "y"
   ]
  },
  {
   "cell_type": "code",
   "execution_count": 267,
   "id": "e8fc6856-8322-4ec4-9374-c13e0e18ca2b",
   "metadata": {},
   "outputs": [
    {
     "data": {
      "text/plain": [
       "((3132, 9), (1045, 9), (3132, 28), (1045, 28))"
      ]
     },
     "execution_count": 267,
     "metadata": {},
     "output_type": "execute_result"
    }
   ],
   "source": [
    "X_train.shape, X_test.shape, y_train.shape, y_test.shape"
   ]
  },
  {
   "cell_type": "code",
   "execution_count": 269,
   "id": "1f4bf6de-bf78-4049-9169-b72f590bf445",
   "metadata": {},
   "outputs": [],
   "source": [
    "from keras.utils import to_categorical\n",
    "y_train_seq = to_categorical(y_train_seq)"
   ]
  },
  {
   "cell_type": "code",
   "execution_count": 271,
   "id": "0791220a-6666-4aca-96c2-361155d8d5e6",
   "metadata": {},
   "outputs": [],
   "source": [
    "from sklearn.model_selection import train_test_split\n",
    "X_train, X_test, y_train, y_test = train_test_split(X,Y,test_size=0.2,random_state=0) "
   ]
  },
  {
   "cell_type": "code",
   "execution_count": 273,
   "id": "b4f13312-f819-47f7-9500-f8cbf2f2fff1",
   "metadata": {},
   "outputs": [],
   "source": [
    "\n",
    "from sklearn.model_selection import train_test_split\n",
    "\n",
    "X_train, X_test, y_train, y_test = train_test_split(X, \n",
    "                                                    Y,\n",
    "                                                    test_size = 0.25, \n",
    "                                                    random_state = 21)"
   ]
  },
  {
   "cell_type": "code",
   "execution_count": 275,
   "id": "040b851c-3efe-4918-8fe9-76af8c42e3af",
   "metadata": {},
   "outputs": [],
   "source": [
    "from collections import Counter\n",
    "import numpy as np\n",
    "\n",
    "def split_sequences(sequences, n_steps):\n",
    "    X, y = list(), list()  # 빈 리스트를 생성하여 시퀀스 데이터와 레이블을 담을 공간을 만듦\n",
    "    for i in range(len(sequences)):  # 전체 시퀀스 데이터를 순회\n",
    "        # find the end of this pattern\n",
    "        end_ix = i + n_steps  # 현재 인덱스(i)에서 n_steps만큼 떨어진 시퀀스의 끝을 계산\n",
    "        # check if we are beyond the dataset\n",
    "        if end_ix > len(sequences):  # 시퀀스 끝이 데이터의 범위를 넘어서는지 확인\n",
    "            break  # 범위를 넘으면 루프 종료\n",
    "        # gather input (X) and output parts (y)\n",
    "        seq_x = sequences[i:end_ix, :-1]  # 입력 데이터 (특징 데이터)\n",
    "        seq_y_values = sequences[i:end_ix, -1]  # 시퀀스 동안의 출력 데이터 (레이블들)\n",
    "        \n",
    "        # 가장 빈번하게 나온 레이블 찾기\n",
    "        most_common_label = Counter(seq_y_values).most_common(1)[0][0]\n",
    "        \n",
    "        X.append(seq_x)  # 입력 데이터 추가\n",
    "        y.append(most_common_label)  # 가장 많이 나온 레이블 추가\n",
    "    \n",
    "    return np.array(X), np.array(y)  # 리스트를 numpy 배열로 변환하여 반환"
   ]
  },
  {
   "cell_type": "code",
   "execution_count": 277,
   "id": "8dc02839-f85d-4806-890a-f27795093b04",
   "metadata": {},
   "outputs": [],
   "source": [
    "# Merge train and test X/y data to apply sequence transformation function\n",
    "y_train_array = np.array(y_train)\n",
    "train_set = np.c_[X_train, y_train_array]\n",
    "\n",
    "y_test_array = np.array(y_test)\n",
    "test_set = np.c_[X_test, y_test_array]"
   ]
  },
  {
   "cell_type": "code",
   "execution_count": 279,
   "id": "d47620e8-799f-4629-97b1-4a8b7002fe71",
   "metadata": {},
   "outputs": [
    {
     "name": "stdout",
     "output_type": "stream",
     "text": [
      "(3130, 3, 36) (3130,)\n",
      "(1043, 3, 36) (1043,)\n"
     ]
    }
   ],
   "source": [
    "n_step = 3 \n",
    "\n",
    "X_train_seq, y_train_seq = split_sequences(train_set, n_step)\n",
    "print(X_train_seq.shape, y_train_seq.shape)\n",
    "\n",
    "X_test_seq, y_test_seq = split_sequences(test_set, n_step)\n",
    "print(X_test_seq.shape, y_test_seq.shape)"
   ]
  },
  {
   "cell_type": "code",
   "execution_count": 281,
   "id": "34784a83-2392-4830-b41a-ed179e11a658",
   "metadata": {},
   "outputs": [],
   "source": [
    "# Merge train and test X/y data to apply sequence transformation function\n",
    "y_train_array = np.array(y_train)\n",
    "train_set = np.c_[X_train, y_train_array]\n",
    "\n",
    "y_test_array = np.array(y_test)\n",
    "test_set = np.c_[X_test, y_test_array]"
   ]
  },
  {
   "cell_type": "code",
   "execution_count": 283,
   "id": "0b45d234-ccfd-4b4d-92e6-063c77a1eb5f",
   "metadata": {},
   "outputs": [
    {
     "name": "stdout",
     "output_type": "stream",
     "text": [
      "(3130, 3, 36) (3130,)\n",
      "(1043, 3, 36) (1043,)\n"
     ]
    }
   ],
   "source": [
    "n_step = 3 \n",
    "\n",
    "X_train_seq, y_train_seq = split_sequences(train_set, n_step)\n",
    "print(X_train_seq.shape, y_train_seq.shape)\n",
    "\n",
    "X_test_seq, y_test_seq = split_sequences(test_set, n_step)\n",
    "print(X_test_seq.shape, y_test_seq.shape)"
   ]
  },
  {
   "cell_type": "code",
   "execution_count": 285,
   "id": "18f661b4-0a92-46c5-a6d4-e5756432a852",
   "metadata": {},
   "outputs": [
    {
     "name": "stdout",
     "output_type": "stream",
     "text": [
      "(3130, 1)\n",
      "(1043, 1)\n"
     ]
    }
   ],
   "source": [
    "from keras.utils import to_categorical\n",
    "\n",
    "# Convert output variables to categorical for CNN\n",
    "y_train_seq = to_categorical(y_train_seq)\n",
    "print(y_train_seq.shape)\n",
    "\n",
    "y_test_seq = to_categorical(y_test_seq)\n",
    "print(y_test_seq.shape)"
   ]
  },
  {
   "cell_type": "code",
   "execution_count": 287,
   "id": "17d2f613-e135-4003-955f-5039a4617ea6",
   "metadata": {},
   "outputs": [
    {
     "name": "stdout",
     "output_type": "stream",
     "text": [
      "(3130, 2)\n",
      "(1043, 2)\n"
     ]
    }
   ],
   "source": [
    "# Convert output variables to categorical for CNN\n",
    "y_train_seq = to_categorical(y_train_seq)\n",
    "print(y_train_seq.shape)\n",
    "\n",
    "y_test_seq = to_categorical(y_test_seq)\n",
    "print(y_test_seq.shape)"
   ]
  },
  {
   "cell_type": "code",
   "execution_count": 289,
   "id": "b437daff-e0a6-4d77-87db-a83f13838d6b",
   "metadata": {},
   "outputs": [
    {
     "name": "stdout",
     "output_type": "stream",
     "text": [
      "3 36 2\n"
     ]
    }
   ],
   "source": [
    "# Produce variables for CNN input/output shape\n",
    "n_timesteps, n_features, n_outputs = X_train_seq.shape[1], X_train_seq.shape[2], y_train_seq.shape[1]\n",
    "print(n_timesteps, n_features, n_outputs)"
   ]
  },
  {
   "cell_type": "code",
   "execution_count": 291,
   "id": "e65ebfab-5f92-40a3-bd2c-356c1fe3fc1b",
   "metadata": {},
   "outputs": [],
   "source": [
    "\n",
    "import tensorflow as tf\n",
    "from tensorflow import keras\n",
    "from tensorflow.keras import layers\n",
    "\n",
    "# cnn model vary kernel size\n",
    "from numpy import mean\n",
    "from numpy import std\n",
    "from numpy import dstack\n",
    "from pandas import read_csv\n",
    "from matplotlib import pyplot\n",
    "from tensorflow.keras.models import Sequential\n",
    "from tensorflow.keras.layers import Dense\n",
    "from tensorflow.keras.layers import Flatten\n",
    "from tensorflow.keras.layers import Dropout\n",
    "from keras.utils import to_categorical\n",
    "\n",
    "import tensorflow.keras\n",
    "from tensorflow.keras.models import Sequential\n",
    "from tensorflow.keras.layers import Dense, Dropout, Flatten, Reshape, LSTM, Conv1D, MaxPooling1D\n",
    "from tensorflow.keras.layers import TimeDistributed, Conv1D, MaxPooling1D"
   ]
  },
  {
   "cell_type": "code",
   "execution_count": 293,
   "id": "59a722b4-d5d6-4af9-987d-26b4d3566ef1",
   "metadata": {},
   "outputs": [
    {
     "name": "stderr",
     "output_type": "stream",
     "text": [
      "C:\\Users\\wjdwl\\anaconda3\\Lib\\site-packages\\keras\\src\\layers\\rnn\\rnn.py:204: UserWarning: Do not pass an `input_shape`/`input_dim` argument to a layer. When using Sequential models, prefer using an `Input(shape)` object as the first layer in the model instead.\n",
      "  super().__init__(**kwargs)\n"
     ]
    }
   ],
   "source": [
    "# Build CNN model using keras. For model building suggestions, referenced:\n",
    "# https://machinelearningmastery.com/deep-learning-models-for-human-activity-recognition/\n",
    "# https://machinelearningmastery.com/how-to-choose-loss-functions-when-training-deep-learning-neural-networks/\n",
    "# https://machinelearningmastery.com/how-to-develop-convolutional-neural-network-models-for-time-series-forecasting/\n",
    "\n",
    "# Sequential model type\n",
    "model = Sequential()\n",
    "model.add(LSTM(units=128, input_shape = (n_timesteps,n_features,)))\n",
    "model.add(Dense(128, activation='relu'))\n",
    "model.add(Dense(n_outputs, activation='softmax'))\n",
    "model.compile(optimizer='adam', metrics=['accuracy'], loss='categorical_crossentropy')"
   ]
  },
  {
   "cell_type": "code",
   "execution_count": 295,
   "id": "a649c5fe-3df7-4cd8-937c-26d83965d1db",
   "metadata": {},
   "outputs": [
    {
     "data": {
      "text/html": [
       "<pre style=\"white-space:pre;overflow-x:auto;line-height:normal;font-family:Menlo,'DejaVu Sans Mono',consolas,'Courier New',monospace\"><span style=\"font-weight: bold\">Model: \"sequential_3\"</span>\n",
       "</pre>\n"
      ],
      "text/plain": [
       "\u001b[1mModel: \"sequential_3\"\u001b[0m\n"
      ]
     },
     "metadata": {},
     "output_type": "display_data"
    },
    {
     "data": {
      "text/html": [
       "<pre style=\"white-space:pre;overflow-x:auto;line-height:normal;font-family:Menlo,'DejaVu Sans Mono',consolas,'Courier New',monospace\">┏━━━━━━━━━━━━━━━━━━━━━━━━━━━━━━━━━━━━━━┳━━━━━━━━━━━━━━━━━━━━━━━━━━━━━┳━━━━━━━━━━━━━━━━━┓\n",
       "┃<span style=\"font-weight: bold\"> Layer (type)                         </span>┃<span style=\"font-weight: bold\"> Output Shape                </span>┃<span style=\"font-weight: bold\">         Param # </span>┃\n",
       "┡━━━━━━━━━━━━━━━━━━━━━━━━━━━━━━━━━━━━━━╇━━━━━━━━━━━━━━━━━━━━━━━━━━━━━╇━━━━━━━━━━━━━━━━━┩\n",
       "│ lstm_3 (<span style=\"color: #0087ff; text-decoration-color: #0087ff\">LSTM</span>)                        │ (<span style=\"color: #00d7ff; text-decoration-color: #00d7ff\">None</span>, <span style=\"color: #00af00; text-decoration-color: #00af00\">128</span>)                 │          <span style=\"color: #00af00; text-decoration-color: #00af00\">84,480</span> │\n",
       "├──────────────────────────────────────┼─────────────────────────────┼─────────────────┤\n",
       "│ dense_6 (<span style=\"color: #0087ff; text-decoration-color: #0087ff\">Dense</span>)                      │ (<span style=\"color: #00d7ff; text-decoration-color: #00d7ff\">None</span>, <span style=\"color: #00af00; text-decoration-color: #00af00\">128</span>)                 │          <span style=\"color: #00af00; text-decoration-color: #00af00\">16,512</span> │\n",
       "├──────────────────────────────────────┼─────────────────────────────┼─────────────────┤\n",
       "│ dense_7 (<span style=\"color: #0087ff; text-decoration-color: #0087ff\">Dense</span>)                      │ (<span style=\"color: #00d7ff; text-decoration-color: #00d7ff\">None</span>, <span style=\"color: #00af00; text-decoration-color: #00af00\">2</span>)                   │             <span style=\"color: #00af00; text-decoration-color: #00af00\">258</span> │\n",
       "└──────────────────────────────────────┴─────────────────────────────┴─────────────────┘\n",
       "</pre>\n"
      ],
      "text/plain": [
       "┏━━━━━━━━━━━━━━━━━━━━━━━━━━━━━━━━━━━━━━┳━━━━━━━━━━━━━━━━━━━━━━━━━━━━━┳━━━━━━━━━━━━━━━━━┓\n",
       "┃\u001b[1m \u001b[0m\u001b[1mLayer (type)                        \u001b[0m\u001b[1m \u001b[0m┃\u001b[1m \u001b[0m\u001b[1mOutput Shape               \u001b[0m\u001b[1m \u001b[0m┃\u001b[1m \u001b[0m\u001b[1m        Param #\u001b[0m\u001b[1m \u001b[0m┃\n",
       "┡━━━━━━━━━━━━━━━━━━━━━━━━━━━━━━━━━━━━━━╇━━━━━━━━━━━━━━━━━━━━━━━━━━━━━╇━━━━━━━━━━━━━━━━━┩\n",
       "│ lstm_3 (\u001b[38;5;33mLSTM\u001b[0m)                        │ (\u001b[38;5;45mNone\u001b[0m, \u001b[38;5;34m128\u001b[0m)                 │          \u001b[38;5;34m84,480\u001b[0m │\n",
       "├──────────────────────────────────────┼─────────────────────────────┼─────────────────┤\n",
       "│ dense_6 (\u001b[38;5;33mDense\u001b[0m)                      │ (\u001b[38;5;45mNone\u001b[0m, \u001b[38;5;34m128\u001b[0m)                 │          \u001b[38;5;34m16,512\u001b[0m │\n",
       "├──────────────────────────────────────┼─────────────────────────────┼─────────────────┤\n",
       "│ dense_7 (\u001b[38;5;33mDense\u001b[0m)                      │ (\u001b[38;5;45mNone\u001b[0m, \u001b[38;5;34m2\u001b[0m)                   │             \u001b[38;5;34m258\u001b[0m │\n",
       "└──────────────────────────────────────┴─────────────────────────────┴─────────────────┘\n"
      ]
     },
     "metadata": {},
     "output_type": "display_data"
    },
    {
     "data": {
      "text/html": [
       "<pre style=\"white-space:pre;overflow-x:auto;line-height:normal;font-family:Menlo,'DejaVu Sans Mono',consolas,'Courier New',monospace\"><span style=\"font-weight: bold\"> Total params: </span><span style=\"color: #00af00; text-decoration-color: #00af00\">101,250</span> (395.51 KB)\n",
       "</pre>\n"
      ],
      "text/plain": [
       "\u001b[1m Total params: \u001b[0m\u001b[38;5;34m101,250\u001b[0m (395.51 KB)\n"
      ]
     },
     "metadata": {},
     "output_type": "display_data"
    },
    {
     "data": {
      "text/html": [
       "<pre style=\"white-space:pre;overflow-x:auto;line-height:normal;font-family:Menlo,'DejaVu Sans Mono',consolas,'Courier New',monospace\"><span style=\"font-weight: bold\"> Trainable params: </span><span style=\"color: #00af00; text-decoration-color: #00af00\">101,250</span> (395.51 KB)\n",
       "</pre>\n"
      ],
      "text/plain": [
       "\u001b[1m Trainable params: \u001b[0m\u001b[38;5;34m101,250\u001b[0m (395.51 KB)\n"
      ]
     },
     "metadata": {},
     "output_type": "display_data"
    },
    {
     "data": {
      "text/html": [
       "<pre style=\"white-space:pre;overflow-x:auto;line-height:normal;font-family:Menlo,'DejaVu Sans Mono',consolas,'Courier New',monospace\"><span style=\"font-weight: bold\"> Non-trainable params: </span><span style=\"color: #00af00; text-decoration-color: #00af00\">0</span> (0.00 B)\n",
       "</pre>\n"
      ],
      "text/plain": [
       "\u001b[1m Non-trainable params: \u001b[0m\u001b[38;5;34m0\u001b[0m (0.00 B)\n"
      ]
     },
     "metadata": {},
     "output_type": "display_data"
    }
   ],
   "source": [
    "model.summary()"
   ]
  },
  {
   "cell_type": "code",
   "execution_count": 297,
   "id": "24352419-fd97-44d0-a624-64dda67d093c",
   "metadata": {},
   "outputs": [
    {
     "name": "stdout",
     "output_type": "stream",
     "text": [
      "Epoch 1/20\n",
      "\u001b[1m89/89\u001b[0m \u001b[32m━━━━━━━━━━━━━━━━━━━━\u001b[0m\u001b[37m\u001b[0m \u001b[1m2s\u001b[0m 5ms/step - accuracy: 1.0000 - loss: 0.0961 - val_accuracy: 1.0000 - val_loss: 1.5046e-05\n",
      "Epoch 2/20\n",
      "\u001b[1m89/89\u001b[0m \u001b[32m━━━━━━━━━━━━━━━━━━━━\u001b[0m\u001b[37m\u001b[0m \u001b[1m0s\u001b[0m 2ms/step - accuracy: 1.0000 - loss: 8.2633e-06 - val_accuracy: 1.0000 - val_loss: 2.5791e-06\n",
      "Epoch 3/20\n",
      "\u001b[1m89/89\u001b[0m \u001b[32m━━━━━━━━━━━━━━━━━━━━\u001b[0m\u001b[37m\u001b[0m \u001b[1m0s\u001b[0m 2ms/step - accuracy: 1.0000 - loss: 1.7492e-06 - val_accuracy: 1.0000 - val_loss: 1.3204e-06\n",
      "Epoch 4/20\n",
      "\u001b[1m89/89\u001b[0m \u001b[32m━━━━━━━━━━━━━━━━━━━━\u001b[0m\u001b[37m\u001b[0m \u001b[1m0s\u001b[0m 2ms/step - accuracy: 1.0000 - loss: 9.1905e-07 - val_accuracy: 1.0000 - val_loss: 7.8076e-07\n",
      "Epoch 5/20\n",
      "\u001b[1m89/89\u001b[0m \u001b[32m━━━━━━━━━━━━━━━━━━━━\u001b[0m\u001b[37m\u001b[0m \u001b[1m0s\u001b[0m 2ms/step - accuracy: 1.0000 - loss: 5.4281e-07 - val_accuracy: 1.0000 - val_loss: 5.0007e-07\n",
      "Epoch 6/20\n",
      "\u001b[1m89/89\u001b[0m \u001b[32m━━━━━━━━━━━━━━━━━━━━\u001b[0m\u001b[37m\u001b[0m \u001b[1m0s\u001b[0m 2ms/step - accuracy: 1.0000 - loss: 3.4959e-07 - val_accuracy: 1.0000 - val_loss: 3.5229e-07\n",
      "Epoch 7/20\n",
      "\u001b[1m89/89\u001b[0m \u001b[32m━━━━━━━━━━━━━━━━━━━━\u001b[0m\u001b[37m\u001b[0m \u001b[1m0s\u001b[0m 2ms/step - accuracy: 1.0000 - loss: 2.7905e-07 - val_accuracy: 1.0000 - val_loss: 3.0354e-07\n",
      "Epoch 8/20\n",
      "\u001b[1m89/89\u001b[0m \u001b[32m━━━━━━━━━━━━━━━━━━━━\u001b[0m\u001b[37m\u001b[0m \u001b[1m0s\u001b[0m 2ms/step - accuracy: 1.0000 - loss: 2.2166e-07 - val_accuracy: 1.0000 - val_loss: 1.9500e-07\n",
      "Epoch 9/20\n",
      "\u001b[1m89/89\u001b[0m \u001b[32m━━━━━━━━━━━━━━━━━━━━\u001b[0m\u001b[37m\u001b[0m \u001b[1m0s\u001b[0m 2ms/step - accuracy: 1.0000 - loss: 1.4908e-07 - val_accuracy: 1.0000 - val_loss: 1.7748e-07\n",
      "Epoch 10/20\n",
      "\u001b[1m89/89\u001b[0m \u001b[32m━━━━━━━━━━━━━━━━━━━━\u001b[0m\u001b[37m\u001b[0m \u001b[1m0s\u001b[0m 2ms/step - accuracy: 1.0000 - loss: 1.2528e-07 - val_accuracy: 1.0000 - val_loss: 1.5463e-07\n",
      "Epoch 11/20\n",
      "\u001b[1m89/89\u001b[0m \u001b[32m━━━━━━━━━━━━━━━━━━━━\u001b[0m\u001b[37m\u001b[0m \u001b[1m0s\u001b[0m 2ms/step - accuracy: 1.0000 - loss: 1.0669e-07 - val_accuracy: 1.0000 - val_loss: 1.0931e-07\n",
      "Epoch 12/20\n",
      "\u001b[1m89/89\u001b[0m \u001b[32m━━━━━━━━━━━━━━━━━━━━\u001b[0m\u001b[37m\u001b[0m \u001b[1m0s\u001b[0m 2ms/step - accuracy: 1.0000 - loss: 3.3589e-08 - val_accuracy: 1.0000 - val_loss: 3.2373e-08\n",
      "Epoch 13/20\n",
      "\u001b[1m89/89\u001b[0m \u001b[32m━━━━━━━━━━━━━━━━━━━━\u001b[0m\u001b[37m\u001b[0m \u001b[1m0s\u001b[0m 2ms/step - accuracy: 1.0000 - loss: 4.8504e-09 - val_accuracy: 1.0000 - val_loss: 2.8184e-08\n",
      "Epoch 14/20\n",
      "\u001b[1m89/89\u001b[0m \u001b[32m━━━━━━━━━━━━━━━━━━━━\u001b[0m\u001b[37m\u001b[0m \u001b[1m0s\u001b[0m 2ms/step - accuracy: 1.0000 - loss: 3.5580e-09 - val_accuracy: 1.0000 - val_loss: 2.4756e-08\n",
      "Epoch 15/20\n",
      "\u001b[1m89/89\u001b[0m \u001b[32m━━━━━━━━━━━━━━━━━━━━\u001b[0m\u001b[37m\u001b[0m \u001b[1m0s\u001b[0m 2ms/step - accuracy: 1.0000 - loss: 4.4926e-09 - val_accuracy: 1.0000 - val_loss: 2.2090e-08\n",
      "Epoch 16/20\n",
      "\u001b[1m89/89\u001b[0m \u001b[32m━━━━━━━━━━━━━━━━━━━━\u001b[0m\u001b[37m\u001b[0m \u001b[1m0s\u001b[0m 2ms/step - accuracy: 1.0000 - loss: 3.6614e-09 - val_accuracy: 1.0000 - val_loss: 1.9424e-08\n",
      "Epoch 17/20\n",
      "\u001b[1m89/89\u001b[0m \u001b[32m━━━━━━━━━━━━━━━━━━━━\u001b[0m\u001b[37m\u001b[0m \u001b[1m0s\u001b[0m 2ms/step - accuracy: 1.0000 - loss: 2.0749e-09 - val_accuracy: 1.0000 - val_loss: 1.7520e-08\n",
      "Epoch 18/20\n",
      "\u001b[1m89/89\u001b[0m \u001b[32m━━━━━━━━━━━━━━━━━━━━\u001b[0m\u001b[37m\u001b[0m \u001b[1m0s\u001b[0m 2ms/step - accuracy: 1.0000 - loss: 1.4367e-09 - val_accuracy: 1.0000 - val_loss: 1.5996e-08\n",
      "Epoch 19/20\n",
      "\u001b[1m89/89\u001b[0m \u001b[32m━━━━━━━━━━━━━━━━━━━━\u001b[0m\u001b[37m\u001b[0m \u001b[1m0s\u001b[0m 2ms/step - accuracy: 1.0000 - loss: 1.1442e-09 - val_accuracy: 1.0000 - val_loss: 1.3711e-08\n",
      "Epoch 20/20\n",
      "\u001b[1m89/89\u001b[0m \u001b[32m━━━━━━━━━━━━━━━━━━━━\u001b[0m\u001b[37m\u001b[0m \u001b[1m0s\u001b[0m 2ms/step - accuracy: 1.0000 - loss: 4.9748e-09 - val_accuracy: 1.0000 - val_loss: 1.2188e-08\n"
     ]
    }
   ],
   "source": [
    "history = model.fit(X_train_seq, y_train_seq, epochs = 20, batch_size = 32, validation_split = 0.1, shuffle = True)"
   ]
  },
  {
   "cell_type": "code",
   "execution_count": 298,
   "id": "1a6e34ea-96d7-4b23-afef-f4a87313b39f",
   "metadata": {},
   "outputs": [
    {
     "data": {
      "text/plain": [
       "<matplotlib.legend.Legend at 0x12733ebd1f0>"
      ]
     },
     "execution_count": 298,
     "metadata": {},
     "output_type": "execute_result"
    },
    {
     "data": {
      "image/png": "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",
      "text/plain": [
       "<Figure size 640x480 with 1 Axes>"
      ]
     },
     "metadata": {},
     "output_type": "display_data"
    }
   ],
   "source": [
    "plt.plot(history.history[\"loss\"], label = \"train\")\n",
    "plt.plot(history.history[\"val_loss\"], label = \"test\")\n",
    "plt.legend()"
   ]
  },
  {
   "cell_type": "code",
   "execution_count": 301,
   "id": "e306765d-4047-48c4-a32a-8fd6c78ae529",
   "metadata": {},
   "outputs": [
    {
     "name": "stdout",
     "output_type": "stream",
     "text": [
      "\u001b[1m98/98\u001b[0m \u001b[32m━━━━━━━━━━━━━━━━━━━━\u001b[0m\u001b[37m\u001b[0m \u001b[1m0s\u001b[0m 1ms/step - accuracy: 1.0000 - loss: 2.1731e-09\n"
     ]
    },
    {
     "data": {
      "text/plain": [
       "[3.1611377959706033e-09, 1.0]"
      ]
     },
     "execution_count": 301,
     "metadata": {},
     "output_type": "execute_result"
    }
   ],
   "source": [
    "model.evaluate(X_train_seq, y_train_seq)\n"
   ]
  },
  {
   "cell_type": "code",
   "execution_count": 303,
   "id": "6412b079-7316-48cc-9e59-661d64bc5406",
   "metadata": {},
   "outputs": [
    {
     "name": "stdout",
     "output_type": "stream",
     "text": [
      "\u001b[1m33/33\u001b[0m \u001b[32m━━━━━━━━━━━━━━━━━━━━\u001b[0m\u001b[37m\u001b[0m \u001b[1m0s\u001b[0m 1ms/step - accuracy: 1.0000 - loss: 6.3807e-10 \n"
     ]
    },
    {
     "data": {
      "text/plain": [
       "[1.8287127367955236e-09, 1.0]"
      ]
     },
     "execution_count": 303,
     "metadata": {},
     "output_type": "execute_result"
    }
   ],
   "source": [
    "model.evaluate(X_test_seq, y_test_seq)\n"
   ]
  },
  {
   "cell_type": "code",
   "execution_count": 305,
   "id": "aa707518-152f-440f-8660-aff0b5f2de00",
   "metadata": {},
   "outputs": [
    {
     "name": "stdout",
     "output_type": "stream",
     "text": [
      "\u001b[1m33/33\u001b[0m \u001b[32m━━━━━━━━━━━━━━━━━━━━\u001b[0m\u001b[37m\u001b[0m \u001b[1m0s\u001b[0m 5ms/step\n",
      "Confusion Matrix\n"
     ]
    },
    {
     "name": "stderr",
     "output_type": "stream",
     "text": [
      "C:\\Users\\wjdwl\\anaconda3\\Lib\\site-packages\\sklearn\\metrics\\_classification.py:386: UserWarning: A single label was found in 'y_true' and 'y_pred'. For the confusion matrix to have the correct shape, use the 'labels' parameter to pass all known labels.\n",
      "  warnings.warn(\n"
     ]
    },
    {
     "data": {
      "text/plain": [
       "<Axes: >"
      ]
     },
     "execution_count": 305,
     "metadata": {},
     "output_type": "execute_result"
    },
    {
     "data": {
      "image/png": "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",
      "text/plain": [
       "<Figure size 800x600 with 2 Axes>"
      ]
     },
     "metadata": {},
     "output_type": "display_data"
    }
   ],
   "source": [
    "import matplotlib.pyplot as plt\n",
    "import seaborn as sns\n",
    "from sklearn.metrics import confusion_matrix\n",
    "\n",
    "from sklearn.metrics import confusion_matrix,classification_report,accuracy_score\n",
    "\n",
    "y_test_arg=np.argmax(y_test_seq, axis=1)\n",
    "Y_pred = np.argmax(model.predict(X_test_seq),axis=1)\n",
    "print('Confusion Matrix')\n",
    "cm = confusion_matrix(y_test_arg, Y_pred)\n",
    "# 시각화\n",
    "plt.figure(figsize=(8, 6))  # 그래프 크기 조절 (너비 8, 높이 6)\n",
    "sns.heatmap(cm, annot=True, fmt=\"d\", cmap=\"Blues\")"
   ]
  },
  {
   "cell_type": "code",
   "execution_count": 306,
   "id": "39b0fc78-65cd-4bd0-b963-23e70d494469",
   "metadata": {},
   "outputs": [
    {
     "name": "stdout",
     "output_type": "stream",
     "text": [
      "\u001b[1m33/33\u001b[0m \u001b[32m━━━━━━━━━━━━━━━━━━━━\u001b[0m\u001b[37m\u001b[0m \u001b[1m0s\u001b[0m 995us/step - accuracy: 1.0000 - loss: 6.3807e-10\n"
     ]
    },
    {
     "name": "stderr",
     "output_type": "stream",
     "text": [
      "WARNING:absl:You are saving your model as an HDF5 file via `model.save()` or `keras.saving.save_model(model)`. This file format is considered legacy. We recommend using instead the native Keras format, e.g. `model.save('my_model.keras')` or `keras.saving.save_model(model, 'my_model.keras')`. \n"
     ]
    },
    {
     "name": "stdout",
     "output_type": "stream",
     "text": [
      "model saved at  C:/Users/wjdwl/Desktop/Data/RA_Model.h5\n",
      "Accuracy >100.000000\n",
      "Base Loss >0.00\n"
     ]
    }
   ],
   "source": [
    "base_loss,base_accuracy=model.evaluate(X_test_seq, y_test_seq)\n",
    "\n",
    "model_file='C:/Users/wjdwl/Desktop/Data/RA_Model.h5'\n",
    "  \n",
    "tf.keras.models.save_model(model, model_file, include_optimizer=False)\n",
    "print('model saved at ', model_file)\n",
    "#score,keras_file=evaluate_model(trainX,trainy,testX,testy)\n",
    "score=base_accuracy*100\n",
    "print('Accuracy >{:f}'.format(score))\n",
    "print('Base Loss >{:.2f}'.format(base_loss))"
   ]
  },
  {
   "cell_type": "code",
   "execution_count": 319,
   "id": "6dad623d-46db-4e79-aa8e-6291203533d0",
   "metadata": {},
   "outputs": [
    {
     "name": "stderr",
     "output_type": "stream",
     "text": [
      "C:\\Users\\wjdwl\\anaconda3\\Lib\\site-packages\\keras\\src\\layers\\rnn\\rnn.py:204: UserWarning: Do not pass an `input_shape`/`input_dim` argument to a layer. When using Sequential models, prefer using an `Input(shape)` object as the first layer in the model instead.\n",
      "  super().__init__(**kwargs)\n"
     ]
    }
   ],
   "source": [
    "\n",
    "# Build CNN model using keras. For model building suggestions, referenced:\n",
    "# https://machinelearningmastery.com/deep-learning-models-for-human-activity-recognition/\n",
    "# https://machinelearningmastery.com/how-to-choose-loss-functions-when-training-deep-learning-neural-networks/\n",
    "# https://machinelearningmastery.com/how-to-develop-convolutional-neural-network-models-for-time-series-forecasting/\n",
    "\n",
    "# Sequential model type\n",
    "model2 = Sequential()\n",
    "model2.add(LSTM(units=128, input_shape = (n_timesteps,n_features)))\n",
    "model2.add(Dense(128, activation='relu'))\n",
    "model2.add(Dense(n_outputs, activation='softmax'))\n",
    "model2.compile(optimizer='adam', metrics=['accuracy'], loss='categorical_crossentropy')"
   ]
  },
  {
   "cell_type": "code",
   "execution_count": 321,
   "id": "0d374112-63ec-4990-b606-00b5daa9cedd",
   "metadata": {},
   "outputs": [
    {
     "data": {
      "text/html": [
       "<pre style=\"white-space:pre;overflow-x:auto;line-height:normal;font-family:Menlo,'DejaVu Sans Mono',consolas,'Courier New',monospace\"><span style=\"font-weight: bold\">Model: \"sequential_5\"</span>\n",
       "</pre>\n"
      ],
      "text/plain": [
       "\u001b[1mModel: \"sequential_5\"\u001b[0m\n"
      ]
     },
     "metadata": {},
     "output_type": "display_data"
    },
    {
     "data": {
      "text/html": [
       "<pre style=\"white-space:pre;overflow-x:auto;line-height:normal;font-family:Menlo,'DejaVu Sans Mono',consolas,'Courier New',monospace\">┏━━━━━━━━━━━━━━━━━━━━━━━━━━━━━━━━━━━━━━┳━━━━━━━━━━━━━━━━━━━━━━━━━━━━━┳━━━━━━━━━━━━━━━━━┓\n",
       "┃<span style=\"font-weight: bold\"> Layer (type)                         </span>┃<span style=\"font-weight: bold\"> Output Shape                </span>┃<span style=\"font-weight: bold\">         Param # </span>┃\n",
       "┡━━━━━━━━━━━━━━━━━━━━━━━━━━━━━━━━━━━━━━╇━━━━━━━━━━━━━━━━━━━━━━━━━━━━━╇━━━━━━━━━━━━━━━━━┩\n",
       "│ lstm_5 (<span style=\"color: #0087ff; text-decoration-color: #0087ff\">LSTM</span>)                        │ (<span style=\"color: #00d7ff; text-decoration-color: #00d7ff\">None</span>, <span style=\"color: #00af00; text-decoration-color: #00af00\">128</span>)                 │          <span style=\"color: #00af00; text-decoration-color: #00af00\">84,480</span> │\n",
       "├──────────────────────────────────────┼─────────────────────────────┼─────────────────┤\n",
       "│ dense_10 (<span style=\"color: #0087ff; text-decoration-color: #0087ff\">Dense</span>)                     │ (<span style=\"color: #00d7ff; text-decoration-color: #00d7ff\">None</span>, <span style=\"color: #00af00; text-decoration-color: #00af00\">128</span>)                 │          <span style=\"color: #00af00; text-decoration-color: #00af00\">16,512</span> │\n",
       "├──────────────────────────────────────┼─────────────────────────────┼─────────────────┤\n",
       "│ dense_11 (<span style=\"color: #0087ff; text-decoration-color: #0087ff\">Dense</span>)                     │ (<span style=\"color: #00d7ff; text-decoration-color: #00d7ff\">None</span>, <span style=\"color: #00af00; text-decoration-color: #00af00\">2</span>)                   │             <span style=\"color: #00af00; text-decoration-color: #00af00\">258</span> │\n",
       "└──────────────────────────────────────┴─────────────────────────────┴─────────────────┘\n",
       "</pre>\n"
      ],
      "text/plain": [
       "┏━━━━━━━━━━━━━━━━━━━━━━━━━━━━━━━━━━━━━━┳━━━━━━━━━━━━━━━━━━━━━━━━━━━━━┳━━━━━━━━━━━━━━━━━┓\n",
       "┃\u001b[1m \u001b[0m\u001b[1mLayer (type)                        \u001b[0m\u001b[1m \u001b[0m┃\u001b[1m \u001b[0m\u001b[1mOutput Shape               \u001b[0m\u001b[1m \u001b[0m┃\u001b[1m \u001b[0m\u001b[1m        Param #\u001b[0m\u001b[1m \u001b[0m┃\n",
       "┡━━━━━━━━━━━━━━━━━━━━━━━━━━━━━━━━━━━━━━╇━━━━━━━━━━━━━━━━━━━━━━━━━━━━━╇━━━━━━━━━━━━━━━━━┩\n",
       "│ lstm_5 (\u001b[38;5;33mLSTM\u001b[0m)                        │ (\u001b[38;5;45mNone\u001b[0m, \u001b[38;5;34m128\u001b[0m)                 │          \u001b[38;5;34m84,480\u001b[0m │\n",
       "├──────────────────────────────────────┼─────────────────────────────┼─────────────────┤\n",
       "│ dense_10 (\u001b[38;5;33mDense\u001b[0m)                     │ (\u001b[38;5;45mNone\u001b[0m, \u001b[38;5;34m128\u001b[0m)                 │          \u001b[38;5;34m16,512\u001b[0m │\n",
       "├──────────────────────────────────────┼─────────────────────────────┼─────────────────┤\n",
       "│ dense_11 (\u001b[38;5;33mDense\u001b[0m)                     │ (\u001b[38;5;45mNone\u001b[0m, \u001b[38;5;34m2\u001b[0m)                   │             \u001b[38;5;34m258\u001b[0m │\n",
       "└──────────────────────────────────────┴─────────────────────────────┴─────────────────┘\n"
      ]
     },
     "metadata": {},
     "output_type": "display_data"
    },
    {
     "data": {
      "text/html": [
       "<pre style=\"white-space:pre;overflow-x:auto;line-height:normal;font-family:Menlo,'DejaVu Sans Mono',consolas,'Courier New',monospace\"><span style=\"font-weight: bold\"> Total params: </span><span style=\"color: #00af00; text-decoration-color: #00af00\">101,250</span> (395.51 KB)\n",
       "</pre>\n"
      ],
      "text/plain": [
       "\u001b[1m Total params: \u001b[0m\u001b[38;5;34m101,250\u001b[0m (395.51 KB)\n"
      ]
     },
     "metadata": {},
     "output_type": "display_data"
    },
    {
     "data": {
      "text/html": [
       "<pre style=\"white-space:pre;overflow-x:auto;line-height:normal;font-family:Menlo,'DejaVu Sans Mono',consolas,'Courier New',monospace\"><span style=\"font-weight: bold\"> Trainable params: </span><span style=\"color: #00af00; text-decoration-color: #00af00\">101,250</span> (395.51 KB)\n",
       "</pre>\n"
      ],
      "text/plain": [
       "\u001b[1m Trainable params: \u001b[0m\u001b[38;5;34m101,250\u001b[0m (395.51 KB)\n"
      ]
     },
     "metadata": {},
     "output_type": "display_data"
    },
    {
     "data": {
      "text/html": [
       "<pre style=\"white-space:pre;overflow-x:auto;line-height:normal;font-family:Menlo,'DejaVu Sans Mono',consolas,'Courier New',monospace\"><span style=\"font-weight: bold\"> Non-trainable params: </span><span style=\"color: #00af00; text-decoration-color: #00af00\">0</span> (0.00 B)\n",
       "</pre>\n"
      ],
      "text/plain": [
       "\u001b[1m Non-trainable params: \u001b[0m\u001b[38;5;34m0\u001b[0m (0.00 B)\n"
      ]
     },
     "metadata": {},
     "output_type": "display_data"
    }
   ],
   "source": [
    "model2.summary()\n"
   ]
  },
  {
   "cell_type": "code",
   "execution_count": 327,
   "id": "83f8b417-c4df-49f1-b7cf-575c80bdbd3d",
   "metadata": {},
   "outputs": [
    {
     "name": "stdout",
     "output_type": "stream",
     "text": [
      "Epoch 1/20\n",
      "\u001b[1m89/89\u001b[0m \u001b[32m━━━━━━━━━━━━━━━━━━━━\u001b[0m\u001b[37m\u001b[0m \u001b[1m2s\u001b[0m 2ms/step - accuracy: 0.8118 - loss: 0.2903 - val_accuracy: 1.0000 - val_loss: 6.6713e-05\n",
      "Epoch 2/20\n",
      "\u001b[1m89/89\u001b[0m \u001b[32m━━━━━━━━━━━━━━━━━━━━\u001b[0m\u001b[37m\u001b[0m \u001b[1m0s\u001b[0m 2ms/step - accuracy: 1.0000 - loss: 4.0408e-05 - val_accuracy: 1.0000 - val_loss: 1.0157e-05\n",
      "Epoch 3/20\n",
      "\u001b[1m89/89\u001b[0m \u001b[32m━━━━━━━━━━━━━━━━━━━━\u001b[0m\u001b[37m\u001b[0m \u001b[1m0s\u001b[0m 2ms/step - accuracy: 1.0000 - loss: 7.8313e-06 - val_accuracy: 1.0000 - val_loss: 3.9137e-06\n",
      "Epoch 4/20\n",
      "\u001b[1m89/89\u001b[0m \u001b[32m━━━━━━━━━━━━━━━━━━━━\u001b[0m\u001b[37m\u001b[0m \u001b[1m0s\u001b[0m 2ms/step - accuracy: 1.0000 - loss: 3.2691e-06 - val_accuracy: 1.0000 - val_loss: 2.0387e-06\n",
      "Epoch 5/20\n",
      "\u001b[1m89/89\u001b[0m \u001b[32m━━━━━━━━━━━━━━━━━━━━\u001b[0m\u001b[37m\u001b[0m \u001b[1m0s\u001b[0m 2ms/step - accuracy: 1.0000 - loss: 1.7821e-06 - val_accuracy: 1.0000 - val_loss: 1.3071e-06\n",
      "Epoch 6/20\n",
      "\u001b[1m89/89\u001b[0m \u001b[32m━━━━━━━━━━━━━━━━━━━━\u001b[0m\u001b[37m\u001b[0m \u001b[1m0s\u001b[0m 2ms/step - accuracy: 1.0000 - loss: 1.1369e-06 - val_accuracy: 1.0000 - val_loss: 8.5160e-07\n",
      "Epoch 7/20\n",
      "\u001b[1m89/89\u001b[0m \u001b[32m━━━━━━━━━━━━━━━━━━━━\u001b[0m\u001b[37m\u001b[0m \u001b[1m0s\u001b[0m 2ms/step - accuracy: 1.0000 - loss: 7.8255e-07 - val_accuracy: 1.0000 - val_loss: 6.1509e-07\n",
      "Epoch 8/20\n",
      "\u001b[1m89/89\u001b[0m \u001b[32m━━━━━━━━━━━━━━━━━━━━\u001b[0m\u001b[37m\u001b[0m \u001b[1m0s\u001b[0m 2ms/step - accuracy: 1.0000 - loss: 5.6946e-07 - val_accuracy: 1.0000 - val_loss: 4.8674e-07\n",
      "Epoch 9/20\n",
      "\u001b[1m89/89\u001b[0m \u001b[32m━━━━━━━━━━━━━━━━━━━━\u001b[0m\u001b[37m\u001b[0m \u001b[1m0s\u001b[0m 2ms/step - accuracy: 1.0000 - loss: 4.4196e-07 - val_accuracy: 1.0000 - val_loss: 3.7362e-07\n",
      "Epoch 10/20\n",
      "\u001b[1m89/89\u001b[0m \u001b[32m━━━━━━━━━━━━━━━━━━━━\u001b[0m\u001b[37m\u001b[0m \u001b[1m0s\u001b[0m 2ms/step - accuracy: 1.0000 - loss: 3.4761e-07 - val_accuracy: 1.0000 - val_loss: 3.3173e-07\n",
      "Epoch 11/20\n",
      "\u001b[1m89/89\u001b[0m \u001b[32m━━━━━━━━━━━━━━━━━━━━\u001b[0m\u001b[37m\u001b[0m \u001b[1m0s\u001b[0m 2ms/step - accuracy: 1.0000 - loss: 2.5090e-07 - val_accuracy: 1.0000 - val_loss: 2.5137e-07\n",
      "Epoch 12/20\n",
      "\u001b[1m89/89\u001b[0m \u001b[32m━━━━━━━━━━━━━━━━━━━━\u001b[0m\u001b[37m\u001b[0m \u001b[1m0s\u001b[0m 2ms/step - accuracy: 1.0000 - loss: 2.3534e-07 - val_accuracy: 1.0000 - val_loss: 2.3651e-07\n",
      "Epoch 13/20\n",
      "\u001b[1m89/89\u001b[0m \u001b[32m━━━━━━━━━━━━━━━━━━━━\u001b[0m\u001b[37m\u001b[0m \u001b[1m0s\u001b[0m 2ms/step - accuracy: 1.0000 - loss: 2.2053e-07 - val_accuracy: 1.0000 - val_loss: 1.3368e-07\n",
      "Epoch 14/20\n",
      "\u001b[1m89/89\u001b[0m \u001b[32m━━━━━━━━━━━━━━━━━━━━\u001b[0m\u001b[37m\u001b[0m \u001b[1m0s\u001b[0m 2ms/step - accuracy: 1.0000 - loss: 1.2202e-07 - val_accuracy: 1.0000 - val_loss: 1.3216e-07\n",
      "Epoch 15/20\n",
      "\u001b[1m89/89\u001b[0m \u001b[32m━━━━━━━━━━━━━━━━━━━━\u001b[0m\u001b[37m\u001b[0m \u001b[1m0s\u001b[0m 2ms/step - accuracy: 1.0000 - loss: 1.2181e-07 - val_accuracy: 1.0000 - val_loss: 1.2949e-07\n",
      "Epoch 16/20\n",
      "\u001b[1m89/89\u001b[0m \u001b[32m━━━━━━━━━━━━━━━━━━━━\u001b[0m\u001b[37m\u001b[0m \u001b[1m0s\u001b[0m 2ms/step - accuracy: 1.0000 - loss: 1.2035e-07 - val_accuracy: 1.0000 - val_loss: 1.2683e-07\n",
      "Epoch 17/20\n",
      "\u001b[1m89/89\u001b[0m \u001b[32m━━━━━━━━━━━━━━━━━━━━\u001b[0m\u001b[37m\u001b[0m \u001b[1m0s\u001b[0m 2ms/step - accuracy: 1.0000 - loss: 1.1860e-07 - val_accuracy: 1.0000 - val_loss: 1.2492e-07\n",
      "Epoch 18/20\n",
      "\u001b[1m89/89\u001b[0m \u001b[32m━━━━━━━━━━━━━━━━━━━━\u001b[0m\u001b[37m\u001b[0m \u001b[1m0s\u001b[0m 2ms/step - accuracy: 1.0000 - loss: 1.1862e-07 - val_accuracy: 1.0000 - val_loss: 1.2264e-07\n",
      "Epoch 19/20\n",
      "\u001b[1m89/89\u001b[0m \u001b[32m━━━━━━━━━━━━━━━━━━━━\u001b[0m\u001b[37m\u001b[0m \u001b[1m0s\u001b[0m 3ms/step - accuracy: 1.0000 - loss: 1.1651e-07 - val_accuracy: 1.0000 - val_loss: 1.1730e-07\n",
      "Epoch 20/20\n",
      "\u001b[1m89/89\u001b[0m \u001b[32m━━━━━━━━━━━━━━━━━━━━\u001b[0m\u001b[37m\u001b[0m \u001b[1m0s\u001b[0m 2ms/step - accuracy: 1.0000 - loss: 1.0925e-07 - val_accuracy: 1.0000 - val_loss: 1.0055e-07\n"
     ]
    }
   ],
   "source": [
    "history2 = model2.fit(X_train_seq, y_train_seq, epochs = 20, batch_size = 32, validation_split = 0.1, shuffle = True)"
   ]
  },
  {
   "cell_type": "code",
   "execution_count": 331,
   "id": "69fe7b79-7400-4aea-931a-ba6715be0651",
   "metadata": {},
   "outputs": [
    {
     "data": {
      "text/plain": [
       "<matplotlib.legend.Legend at 0x12739b26f30>"
      ]
     },
     "execution_count": 331,
     "metadata": {},
     "output_type": "execute_result"
    },
    {
     "data": {
      "image/png": "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",
      "text/plain": [
       "<Figure size 640x480 with 1 Axes>"
      ]
     },
     "metadata": {},
     "output_type": "display_data"
    }
   ],
   "source": [
    "plt.plot(history2.history[\"loss\"], label = \"train\")\n",
    "plt.plot(history2.history[\"val_loss\"], label = \"test\")\n",
    "plt.legend()"
   ]
  },
  {
   "cell_type": "code",
   "execution_count": 341,
   "id": "78e45105-935d-45c0-bb56-1b0d7039138f",
   "metadata": {},
   "outputs": [
    {
     "name": "stdout",
     "output_type": "stream",
     "text": [
      "\u001b[1m98/98\u001b[0m \u001b[32m━━━━━━━━━━━━━━━━━━━━\u001b[0m\u001b[37m\u001b[0m \u001b[1m0s\u001b[0m 1ms/step - accuracy: 1.0000 - loss: 9.9951e-08\n"
     ]
    },
    {
     "data": {
      "text/plain": [
       "[9.856665172947032e-08, 1.0]"
      ]
     },
     "execution_count": 341,
     "metadata": {},
     "output_type": "execute_result"
    }
   ],
   "source": [
    "model2.evaluate(X_train_seq, y_train_seq)\n"
   ]
  },
  {
   "cell_type": "code",
   "execution_count": 343,
   "id": "702c2024-a960-48b4-adb2-58149d24d830",
   "metadata": {},
   "outputs": [
    {
     "name": "stdout",
     "output_type": "stream",
     "text": [
      "\u001b[1m33/33\u001b[0m \u001b[32m━━━━━━━━━━━━━━━━━━━━\u001b[0m\u001b[37m\u001b[0m \u001b[1m0s\u001b[0m 941us/step - accuracy: 1.0000 - loss: 9.5604e-08\n"
     ]
    },
    {
     "data": {
      "text/plain": [
       "[9.726471716930973e-08, 1.0]"
      ]
     },
     "execution_count": 343,
     "metadata": {},
     "output_type": "execute_result"
    }
   ],
   "source": [
    "model2.evaluate(X_test_seq, y_test_seq)\n"
   ]
  },
  {
   "cell_type": "code",
   "execution_count": 351,
   "id": "384e7d86-80c9-4a9b-b931-da1ebfa25e7c",
   "metadata": {},
   "outputs": [
    {
     "name": "stdout",
     "output_type": "stream",
     "text": [
      "\u001b[1m33/33\u001b[0m \u001b[32m━━━━━━━━━━━━━━━━━━━━\u001b[0m\u001b[37m\u001b[0m \u001b[1m0s\u001b[0m 5ms/step\n",
      "Confusion Matrix\n"
     ]
    },
    {
     "name": "stderr",
     "output_type": "stream",
     "text": [
      "C:\\Users\\wjdwl\\anaconda3\\Lib\\site-packages\\sklearn\\metrics\\_classification.py:386: UserWarning: A single label was found in 'y_true' and 'y_pred'. For the confusion matrix to have the correct shape, use the 'labels' parameter to pass all known labels.\n",
      "  warnings.warn(\n"
     ]
    },
    {
     "data": {
      "image/png": "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",
      "text/plain": [
       "<Figure size 800x600 with 2 Axes>"
      ]
     },
     "metadata": {},
     "output_type": "display_data"
    }
   ],
   "source": [
    "import matplotlib.pyplot as plt\n",
    "import seaborn as sns\n",
    "from sklearn.metrics import confusion_matrix\n",
    "\n",
    "from sklearn.metrics import confusion_matrix,classification_report,accuracy_score\n",
    "\n",
    "y_test_arg=np.argmax(y_test_seq, axis=1)\n",
    "Y_pred = np.argmax(model2.predict(X_test_seq),axis=1)\n",
    "print('Confusion Matrix')\n",
    "cm = confusion_matrix(y_test_arg, Y_pred)\n",
    "# 시각화\n",
    "plt.figure(figsize=(8, 6))  # 그래프 크기 조절 (너비 8, 높이 6)\n",
    "sns.heatmap(cm, annot=True, fmt=\"d\", cmap=\"Greens\")\n",
    "\n",
    "# 그래프 표시\n",
    "plt.show()"
   ]
  },
  {
   "cell_type": "code",
   "execution_count": 353,
   "id": "ebd6bbce-3c55-4d84-bbee-62eb5ab699de",
   "metadata": {},
   "outputs": [
    {
     "name": "stdout",
     "output_type": "stream",
     "text": [
      "\u001b[1m33/33\u001b[0m \u001b[32m━━━━━━━━━━━━━━━━━━━━\u001b[0m\u001b[37m\u001b[0m \u001b[1m0s\u001b[0m 1ms/step - accuracy: 1.0000 - loss: 9.5604e-08 \n"
     ]
    },
    {
     "name": "stderr",
     "output_type": "stream",
     "text": [
      "WARNING:absl:You are saving your model as an HDF5 file via `model.save()` or `keras.saving.save_model(model)`. This file format is considered legacy. We recommend using instead the native Keras format, e.g. `model.save('my_model.keras')` or `keras.saving.save_model(model, 'my_model.keras')`. \n"
     ]
    },
    {
     "name": "stdout",
     "output_type": "stream",
     "text": [
      "model saved at  C:/Users/wjdwl/Desktop/Data/Model.h5\n",
      "Accuracy >100.000000\n",
      "Base Loss >0.00\n"
     ]
    }
   ],
   "source": [
    "\n",
    "base_loss,base_accuracy=model2.evaluate(X_test_seq, y_test_seq)\n",
    "\n",
    "model_file2='C:/Users/wjdwl/Desktop/Data/Model.h5'\n",
    "  \n",
    "tf.keras.models.save_model(model2, model_file2, include_optimizer=False)\n",
    "print('model saved at ', model_file2)\n",
    "score=base_accuracy*100\n",
    "print('Accuracy >{:f}'.format(score))\n",
    "print('Base Loss >{:.2f}'.format(base_loss))"
   ]
  },
  {
   "cell_type": "markdown",
   "id": "f063a8a1-f540-4914-8737-b29f66350237",
   "metadata": {},
   "source": [
    "# Pre-trained Model"
   ]
  },
  {
   "cell_type": "code",
   "execution_count": 355,
   "id": "35d4d616-f5e5-4fb6-868e-854579a87dc5",
   "metadata": {},
   "outputs": [],
   "source": [
    "# https://www.tensorflow.org/guide/keras/transfer_learning?hl=ko"
   ]
  },
  {
   "cell_type": "code",
   "execution_count": 357,
   "id": "104e8ed5-231c-42a4-866a-f37ba60eb542",
   "metadata": {},
   "outputs": [
    {
     "name": "stderr",
     "output_type": "stream",
     "text": [
      "WARNING:absl:No training configuration found in the save file, so the model was *not* compiled. Compile it manually.\n"
     ]
    }
   ],
   "source": [
    "# Base 모델을 로드 (LA_Model.h5)\n",
    "from tensorflow.keras.models import load_model\n",
    "\n",
    "base_model = load_model(model_file2)"
   ]
  },
  {
   "cell_type": "code",
   "execution_count": 358,
   "id": "91dd64cd-54b6-4702-81f1-b3e37c390911",
   "metadata": {},
   "outputs": [
    {
     "name": "stdout",
     "output_type": "stream",
     "text": [
      "\u001b[1m33/33\u001b[0m \u001b[32m━━━━━━━━━━━━━━━━━━━━\u001b[0m\u001b[37m\u001b[0m \u001b[1m0s\u001b[0m 2ms/step - accuracy: 1.0000 - loss: 9.5604e-08 \n"
     ]
    },
    {
     "data": {
      "text/plain": [
       "[9.726471716930973e-08, 1.0]"
      ]
     },
     "execution_count": 358,
     "metadata": {},
     "output_type": "execute_result"
    }
   ],
   "source": [
    "base_model.compile(optimizer='adam', metrics=['accuracy'], loss='categorical_crossentropy')\n",
    "base_model.evaluate(X_test_seq, y_test_seq)"
   ]
  },
  {
   "cell_type": "code",
   "execution_count": 360,
   "id": "aa859371-f002-44e4-95c3-79c65dcf61fd",
   "metadata": {},
   "outputs": [
    {
     "name": "stdout",
     "output_type": "stream",
     "text": [
      "Number of layers in the base model:  3\n"
     ]
    }
   ],
   "source": [
    "print(\"Number of layers in the base model: \", len(base_model.layers))"
   ]
  },
  {
   "cell_type": "markdown",
   "id": "4b5f8eee-433c-4858-a034-8a9f9f311f6d",
   "metadata": {},
   "source": [
    "# 기존의 출력층을 빼고 새로운 모델에 해당 레이어들 추가\n"
   ]
  },
  {
   "cell_type": "code",
   "execution_count": 362,
   "id": "48a892e8-31f3-4ddc-9809-32bc9b64f4b1",
   "metadata": {},
   "outputs": [
    {
     "data": {
      "text/html": [
       "<pre style=\"white-space:pre;overflow-x:auto;line-height:normal;font-family:Menlo,'DejaVu Sans Mono',consolas,'Courier New',monospace\"><span style=\"font-weight: bold\">Model: \"sequential_6\"</span>\n",
       "</pre>\n"
      ],
      "text/plain": [
       "\u001b[1mModel: \"sequential_6\"\u001b[0m\n"
      ]
     },
     "metadata": {},
     "output_type": "display_data"
    },
    {
     "data": {
      "text/html": [
       "<pre style=\"white-space:pre;overflow-x:auto;line-height:normal;font-family:Menlo,'DejaVu Sans Mono',consolas,'Courier New',monospace\">┏━━━━━━━━━━━━━━━━━━━━━━━━━━━━━━━━━━━━━━┳━━━━━━━━━━━━━━━━━━━━━━━━━━━━━┳━━━━━━━━━━━━━━━━━┓\n",
       "┃<span style=\"font-weight: bold\"> Layer (type)                         </span>┃<span style=\"font-weight: bold\"> Output Shape                </span>┃<span style=\"font-weight: bold\">         Param # </span>┃\n",
       "┡━━━━━━━━━━━━━━━━━━━━━━━━━━━━━━━━━━━━━━╇━━━━━━━━━━━━━━━━━━━━━━━━━━━━━╇━━━━━━━━━━━━━━━━━┩\n",
       "│ lstm_5 (<span style=\"color: #0087ff; text-decoration-color: #0087ff\">LSTM</span>)                        │ (<span style=\"color: #00d7ff; text-decoration-color: #00d7ff\">None</span>, <span style=\"color: #00af00; text-decoration-color: #00af00\">128</span>)                 │          <span style=\"color: #00af00; text-decoration-color: #00af00\">84,480</span> │\n",
       "├──────────────────────────────────────┼─────────────────────────────┼─────────────────┤\n",
       "│ dense_10 (<span style=\"color: #0087ff; text-decoration-color: #0087ff\">Dense</span>)                     │ (<span style=\"color: #00d7ff; text-decoration-color: #00d7ff\">None</span>, <span style=\"color: #00af00; text-decoration-color: #00af00\">128</span>)                 │          <span style=\"color: #00af00; text-decoration-color: #00af00\">16,512</span> │\n",
       "├──────────────────────────────────────┼─────────────────────────────┼─────────────────┤\n",
       "│ dense_12 (<span style=\"color: #0087ff; text-decoration-color: #0087ff\">Dense</span>)                     │ ?                           │     <span style=\"color: #00af00; text-decoration-color: #00af00\">0</span> (unbuilt) │\n",
       "├──────────────────────────────────────┼─────────────────────────────┼─────────────────┤\n",
       "│ dense_13 (<span style=\"color: #0087ff; text-decoration-color: #0087ff\">Dense</span>)                     │ ?                           │     <span style=\"color: #00af00; text-decoration-color: #00af00\">0</span> (unbuilt) │\n",
       "└──────────────────────────────────────┴─────────────────────────────┴─────────────────┘\n",
       "</pre>\n"
      ],
      "text/plain": [
       "┏━━━━━━━━━━━━━━━━━━━━━━━━━━━━━━━━━━━━━━┳━━━━━━━━━━━━━━━━━━━━━━━━━━━━━┳━━━━━━━━━━━━━━━━━┓\n",
       "┃\u001b[1m \u001b[0m\u001b[1mLayer (type)                        \u001b[0m\u001b[1m \u001b[0m┃\u001b[1m \u001b[0m\u001b[1mOutput Shape               \u001b[0m\u001b[1m \u001b[0m┃\u001b[1m \u001b[0m\u001b[1m        Param #\u001b[0m\u001b[1m \u001b[0m┃\n",
       "┡━━━━━━━━━━━━━━━━━━━━━━━━━━━━━━━━━━━━━━╇━━━━━━━━━━━━━━━━━━━━━━━━━━━━━╇━━━━━━━━━━━━━━━━━┩\n",
       "│ lstm_5 (\u001b[38;5;33mLSTM\u001b[0m)                        │ (\u001b[38;5;45mNone\u001b[0m, \u001b[38;5;34m128\u001b[0m)                 │          \u001b[38;5;34m84,480\u001b[0m │\n",
       "├──────────────────────────────────────┼─────────────────────────────┼─────────────────┤\n",
       "│ dense_10 (\u001b[38;5;33mDense\u001b[0m)                     │ (\u001b[38;5;45mNone\u001b[0m, \u001b[38;5;34m128\u001b[0m)                 │          \u001b[38;5;34m16,512\u001b[0m │\n",
       "├──────────────────────────────────────┼─────────────────────────────┼─────────────────┤\n",
       "│ dense_12 (\u001b[38;5;33mDense\u001b[0m)                     │ ?                           │     \u001b[38;5;34m0\u001b[0m (unbuilt) │\n",
       "├──────────────────────────────────────┼─────────────────────────────┼─────────────────┤\n",
       "│ dense_13 (\u001b[38;5;33mDense\u001b[0m)                     │ ?                           │     \u001b[38;5;34m0\u001b[0m (unbuilt) │\n",
       "└──────────────────────────────────────┴─────────────────────────────┴─────────────────┘\n"
      ]
     },
     "metadata": {},
     "output_type": "display_data"
    },
    {
     "data": {
      "text/html": [
       "<pre style=\"white-space:pre;overflow-x:auto;line-height:normal;font-family:Menlo,'DejaVu Sans Mono',consolas,'Courier New',monospace\"><span style=\"font-weight: bold\"> Total params: </span><span style=\"color: #00af00; text-decoration-color: #00af00\">100,992</span> (394.50 KB)\n",
       "</pre>\n"
      ],
      "text/plain": [
       "\u001b[1m Total params: \u001b[0m\u001b[38;5;34m100,992\u001b[0m (394.50 KB)\n"
      ]
     },
     "metadata": {},
     "output_type": "display_data"
    },
    {
     "data": {
      "text/html": [
       "<pre style=\"white-space:pre;overflow-x:auto;line-height:normal;font-family:Menlo,'DejaVu Sans Mono',consolas,'Courier New',monospace\"><span style=\"font-weight: bold\"> Trainable params: </span><span style=\"color: #00af00; text-decoration-color: #00af00\">0</span> (0.00 B)\n",
       "</pre>\n"
      ],
      "text/plain": [
       "\u001b[1m Trainable params: \u001b[0m\u001b[38;5;34m0\u001b[0m (0.00 B)\n"
      ]
     },
     "metadata": {},
     "output_type": "display_data"
    },
    {
     "data": {
      "text/html": [
       "<pre style=\"white-space:pre;overflow-x:auto;line-height:normal;font-family:Menlo,'DejaVu Sans Mono',consolas,'Courier New',monospace\"><span style=\"font-weight: bold\"> Non-trainable params: </span><span style=\"color: #00af00; text-decoration-color: #00af00\">100,992</span> (394.50 KB)\n",
       "</pre>\n"
      ],
      "text/plain": [
       "\u001b[1m Non-trainable params: \u001b[0m\u001b[38;5;34m100,992\u001b[0m (394.50 KB)\n"
      ]
     },
     "metadata": {},
     "output_type": "display_data"
    }
   ],
   "source": [
    "# 기존 모델의 층을 동결 (학습되지 않도록 설정)\n",
    "base_model.trainable = False\n",
    "\n",
    "from tensorflow.keras.applications import VGG16\n",
    "from tensorflow.keras import layers, models\n",
    "\n",
    "def remove_last_layers(model, num_layers_to_remove):\n",
    "    # 모델의 레이어를 하나씩 슬라이스해서 앞의 레이어만 가져옴\n",
    "    model_layers = model.layers[:-num_layers_to_remove]  # 마지막 레이어부터 지정된 갯수만큼 제외\n",
    "    new_model = models.Sequential(model_layers)  # 새로운 모델에 해당 레이어들만 추가\n",
    "    return new_model\n",
    "\n",
    "\n",
    "# 출력층부터 1개의 레이어를 삭제\n",
    "new_model = remove_last_layers(base_model, 1)\n",
    "\n",
    "# 새로운 출력층 추가\n",
    "new_model.add(layers.Dense(256, activation='relu'))\n",
    "new_model.add(layers.Dense(2, activation='softmax'))  # 예: 10개의 클래스\n",
    "new_model.compile(optimizer='adam', metrics=['accuracy'], loss='categorical_crossentropy')\n",
    "\n",
    "# 모델 요약 출력\n",
    "new_model.summary()"
   ]
  },
  {
   "cell_type": "code",
   "execution_count": 363,
   "id": "a35df0c6-aae6-4d34-9783-c724a7e698af",
   "metadata": {},
   "outputs": [
    {
     "data": {
      "text/html": [
       "<div>\n",
       "<style scoped>\n",
       "    .dataframe tbody tr th:only-of-type {\n",
       "        vertical-align: middle;\n",
       "    }\n",
       "\n",
       "    .dataframe tbody tr th {\n",
       "        vertical-align: top;\n",
       "    }\n",
       "\n",
       "    .dataframe thead th {\n",
       "        text-align: right;\n",
       "    }\n",
       "</style>\n",
       "<table border=\"1\" class=\"dataframe\">\n",
       "  <thead>\n",
       "    <tr style=\"text-align: right;\">\n",
       "      <th></th>\n",
       "      <th>Layer Type</th>\n",
       "      <th>Layer Name</th>\n",
       "      <th>Layer Trainable</th>\n",
       "    </tr>\n",
       "  </thead>\n",
       "  <tbody>\n",
       "    <tr>\n",
       "      <th>0</th>\n",
       "      <td>&lt;LSTM name=lstm_5, built=True&gt;</td>\n",
       "      <td>lstm_5</td>\n",
       "      <td>False</td>\n",
       "    </tr>\n",
       "    <tr>\n",
       "      <th>1</th>\n",
       "      <td>&lt;Dense name=dense_10, built=True&gt;</td>\n",
       "      <td>dense_10</td>\n",
       "      <td>False</td>\n",
       "    </tr>\n",
       "    <tr>\n",
       "      <th>2</th>\n",
       "      <td>&lt;Dense name=dense_12, built=False&gt;</td>\n",
       "      <td>dense_12</td>\n",
       "      <td>True</td>\n",
       "    </tr>\n",
       "    <tr>\n",
       "      <th>3</th>\n",
       "      <td>&lt;Dense name=dense_13, built=False&gt;</td>\n",
       "      <td>dense_13</td>\n",
       "      <td>True</td>\n",
       "    </tr>\n",
       "  </tbody>\n",
       "</table>\n",
       "</div>"
      ],
      "text/plain": [
       "                           Layer Type Layer Name  Layer Trainable\n",
       "0      <LSTM name=lstm_5, built=True>     lstm_5            False\n",
       "1   <Dense name=dense_10, built=True>   dense_10            False\n",
       "2  <Dense name=dense_12, built=False>   dense_12             True\n",
       "3  <Dense name=dense_13, built=False>   dense_13             True"
      ]
     },
     "execution_count": 363,
     "metadata": {},
     "output_type": "execute_result"
    }
   ],
   "source": [
    "import pandas as pd\n",
    "display_layers = [(layer, layer.name, layer.trainable) for layer in new_model.layers]\n",
    "pd.DataFrame(display_layers, columns=['Layer Type', 'Layer Name', 'Layer Trainable'])"
   ]
  },
  {
   "cell_type": "code",
   "execution_count": 364,
   "id": "3941def4-9155-4b96-aaa5-906f50b68a6e",
   "metadata": {},
   "outputs": [
    {
     "name": "stdout",
     "output_type": "stream",
     "text": [
      "Epoch 1/20\n",
      "\u001b[1m89/89\u001b[0m \u001b[32m━━━━━━━━━━━━━━━━━━━━\u001b[0m\u001b[37m\u001b[0m \u001b[1m2s\u001b[0m 4ms/step - accuracy: 0.8969 - loss: 0.2223 - val_accuracy: 1.0000 - val_loss: 6.4030e-06\n",
      "Epoch 2/20\n",
      "\u001b[1m89/89\u001b[0m \u001b[32m━━━━━━━━━━━━━━━━━━━━\u001b[0m\u001b[37m\u001b[0m \u001b[1m0s\u001b[0m 1ms/step - accuracy: 1.0000 - loss: 3.9151e-06 - val_accuracy: 1.0000 - val_loss: 1.0900e-06\n",
      "Epoch 3/20\n",
      "\u001b[1m89/89\u001b[0m \u001b[32m━━━━━━━━━━━━━━━━━━━━\u001b[0m\u001b[37m\u001b[0m \u001b[1m0s\u001b[0m 2ms/step - accuracy: 1.0000 - loss: 8.2192e-07 - val_accuracy: 1.0000 - val_loss: 4.6693e-07\n",
      "Epoch 4/20\n",
      "\u001b[1m89/89\u001b[0m \u001b[32m━━━━━━━━━━━━━━━━━━━━\u001b[0m\u001b[37m\u001b[0m \u001b[1m0s\u001b[0m 1ms/step - accuracy: 1.0000 - loss: 3.5807e-07 - val_accuracy: 1.0000 - val_loss: 2.4908e-07\n",
      "Epoch 5/20\n",
      "\u001b[1m89/89\u001b[0m \u001b[32m━━━━━━━━━━━━━━━━━━━━\u001b[0m\u001b[37m\u001b[0m \u001b[1m0s\u001b[0m 2ms/step - accuracy: 1.0000 - loss: 2.1810e-07 - val_accuracy: 1.0000 - val_loss: 1.3064e-07\n",
      "Epoch 6/20\n",
      "\u001b[1m89/89\u001b[0m \u001b[32m━━━━━━━━━━━━━━━━━━━━\u001b[0m\u001b[37m\u001b[0m \u001b[1m0s\u001b[0m 2ms/step - accuracy: 1.0000 - loss: 1.2087e-07 - val_accuracy: 1.0000 - val_loss: 1.2378e-07\n",
      "Epoch 7/20\n",
      "\u001b[1m89/89\u001b[0m \u001b[32m━━━━━━━━━━━━━━━━━━━━\u001b[0m\u001b[37m\u001b[0m \u001b[1m0s\u001b[0m 1ms/step - accuracy: 1.0000 - loss: 1.1897e-07 - val_accuracy: 1.0000 - val_loss: 1.1769e-07\n",
      "Epoch 8/20\n",
      "\u001b[1m89/89\u001b[0m \u001b[32m━━━━━━━━━━━━━━━━━━━━\u001b[0m\u001b[37m\u001b[0m \u001b[1m0s\u001b[0m 2ms/step - accuracy: 1.0000 - loss: 9.5495e-08 - val_accuracy: 1.0000 - val_loss: 6.0938e-09\n",
      "Epoch 9/20\n",
      "\u001b[1m89/89\u001b[0m \u001b[32m━━━━━━━━━━━━━━━━━━━━\u001b[0m\u001b[37m\u001b[0m \u001b[1m0s\u001b[0m 1ms/step - accuracy: 1.0000 - loss: 1.5355e-09 - val_accuracy: 1.0000 - val_loss: 4.9512e-09\n",
      "Epoch 10/20\n",
      "\u001b[1m89/89\u001b[0m \u001b[32m━━━━━━━━━━━━━━━━━━━━\u001b[0m\u001b[37m\u001b[0m \u001b[1m0s\u001b[0m 1ms/step - accuracy: 1.0000 - loss: 5.6251e-10 - val_accuracy: 1.0000 - val_loss: 4.1895e-09\n",
      "Epoch 11/20\n",
      "\u001b[1m89/89\u001b[0m \u001b[32m━━━━━━━━━━━━━━━━━━━━\u001b[0m\u001b[37m\u001b[0m \u001b[1m0s\u001b[0m 2ms/step - accuracy: 1.0000 - loss: 1.1849e-09 - val_accuracy: 1.0000 - val_loss: 3.8086e-09\n",
      "Epoch 12/20\n",
      "\u001b[1m89/89\u001b[0m \u001b[32m━━━━━━━━━━━━━━━━━━━━\u001b[0m\u001b[37m\u001b[0m \u001b[1m0s\u001b[0m 1ms/step - accuracy: 1.0000 - loss: 1.0275e-09 - val_accuracy: 1.0000 - val_loss: 3.4277e-09\n",
      "Epoch 13/20\n",
      "\u001b[1m89/89\u001b[0m \u001b[32m━━━━━━━━━━━━━━━━━━━━\u001b[0m\u001b[37m\u001b[0m \u001b[1m0s\u001b[0m 1ms/step - accuracy: 1.0000 - loss: 5.0520e-10 - val_accuracy: 1.0000 - val_loss: 3.0469e-09\n",
      "Epoch 14/20\n",
      "\u001b[1m89/89\u001b[0m \u001b[32m━━━━━━━━━━━━━━━━━━━━\u001b[0m\u001b[37m\u001b[0m \u001b[1m0s\u001b[0m 1ms/step - accuracy: 1.0000 - loss: 8.9278e-10 - val_accuracy: 1.0000 - val_loss: 2.6660e-09\n",
      "Epoch 15/20\n",
      "\u001b[1m89/89\u001b[0m \u001b[32m━━━━━━━━━━━━━━━━━━━━\u001b[0m\u001b[37m\u001b[0m \u001b[1m0s\u001b[0m 1ms/step - accuracy: 1.0000 - loss: 4.9243e-10 - val_accuracy: 1.0000 - val_loss: 2.6660e-09\n",
      "Epoch 16/20\n",
      "\u001b[1m89/89\u001b[0m \u001b[32m━━━━━━━━━━━━━━━━━━━━\u001b[0m\u001b[37m\u001b[0m \u001b[1m0s\u001b[0m 1ms/step - accuracy: 1.0000 - loss: 2.9932e-10 - val_accuracy: 1.0000 - val_loss: 2.2852e-09\n",
      "Epoch 17/20\n",
      "\u001b[1m89/89\u001b[0m \u001b[32m━━━━━━━━━━━━━━━━━━━━\u001b[0m\u001b[37m\u001b[0m \u001b[1m0s\u001b[0m 1ms/step - accuracy: 1.0000 - loss: 6.3110e-10 - val_accuracy: 1.0000 - val_loss: 2.2852e-09\n",
      "Epoch 18/20\n",
      "\u001b[1m89/89\u001b[0m \u001b[32m━━━━━━━━━━━━━━━━━━━━\u001b[0m\u001b[37m\u001b[0m \u001b[1m0s\u001b[0m 1ms/step - accuracy: 1.0000 - loss: 7.1348e-10 - val_accuracy: 1.0000 - val_loss: 2.2852e-09\n",
      "Epoch 19/20\n",
      "\u001b[1m89/89\u001b[0m \u001b[32m━━━━━━━━━━━━━━━━━━━━\u001b[0m\u001b[37m\u001b[0m \u001b[1m0s\u001b[0m 1ms/step - accuracy: 1.0000 - loss: 5.5245e-10 - val_accuracy: 1.0000 - val_loss: 1.5234e-09\n",
      "Epoch 20/20\n",
      "\u001b[1m89/89\u001b[0m \u001b[32m━━━━━━━━━━━━━━━━━━━━\u001b[0m\u001b[37m\u001b[0m \u001b[1m0s\u001b[0m 2ms/step - accuracy: 1.0000 - loss: 6.0058e-10 - val_accuracy: 1.0000 - val_loss: 1.5234e-09\n"
     ]
    },
    {
     "data": {
      "text/html": [
       "<pre style=\"white-space:pre;overflow-x:auto;line-height:normal;font-family:Menlo,'DejaVu Sans Mono',consolas,'Courier New',monospace\"><span style=\"font-weight: bold\">Model: \"sequential_6\"</span>\n",
       "</pre>\n"
      ],
      "text/plain": [
       "\u001b[1mModel: \"sequential_6\"\u001b[0m\n"
      ]
     },
     "metadata": {},
     "output_type": "display_data"
    },
    {
     "data": {
      "text/html": [
       "<pre style=\"white-space:pre;overflow-x:auto;line-height:normal;font-family:Menlo,'DejaVu Sans Mono',consolas,'Courier New',monospace\">┏━━━━━━━━━━━━━━━━━━━━━━━━━━━━━━━━━━━━━━┳━━━━━━━━━━━━━━━━━━━━━━━━━━━━━┳━━━━━━━━━━━━━━━━━┓\n",
       "┃<span style=\"font-weight: bold\"> Layer (type)                         </span>┃<span style=\"font-weight: bold\"> Output Shape                </span>┃<span style=\"font-weight: bold\">         Param # </span>┃\n",
       "┡━━━━━━━━━━━━━━━━━━━━━━━━━━━━━━━━━━━━━━╇━━━━━━━━━━━━━━━━━━━━━━━━━━━━━╇━━━━━━━━━━━━━━━━━┩\n",
       "│ lstm_5 (<span style=\"color: #0087ff; text-decoration-color: #0087ff\">LSTM</span>)                        │ (<span style=\"color: #00d7ff; text-decoration-color: #00d7ff\">None</span>, <span style=\"color: #00af00; text-decoration-color: #00af00\">128</span>)                 │          <span style=\"color: #00af00; text-decoration-color: #00af00\">84,480</span> │\n",
       "├──────────────────────────────────────┼─────────────────────────────┼─────────────────┤\n",
       "│ dense_10 (<span style=\"color: #0087ff; text-decoration-color: #0087ff\">Dense</span>)                     │ (<span style=\"color: #00d7ff; text-decoration-color: #00d7ff\">None</span>, <span style=\"color: #00af00; text-decoration-color: #00af00\">128</span>)                 │          <span style=\"color: #00af00; text-decoration-color: #00af00\">16,512</span> │\n",
       "├──────────────────────────────────────┼─────────────────────────────┼─────────────────┤\n",
       "│ dense_12 (<span style=\"color: #0087ff; text-decoration-color: #0087ff\">Dense</span>)                     │ (<span style=\"color: #00d7ff; text-decoration-color: #00d7ff\">None</span>, <span style=\"color: #00af00; text-decoration-color: #00af00\">256</span>)                 │          <span style=\"color: #00af00; text-decoration-color: #00af00\">33,024</span> │\n",
       "├──────────────────────────────────────┼─────────────────────────────┼─────────────────┤\n",
       "│ dense_13 (<span style=\"color: #0087ff; text-decoration-color: #0087ff\">Dense</span>)                     │ (<span style=\"color: #00d7ff; text-decoration-color: #00d7ff\">None</span>, <span style=\"color: #00af00; text-decoration-color: #00af00\">2</span>)                   │             <span style=\"color: #00af00; text-decoration-color: #00af00\">514</span> │\n",
       "└──────────────────────────────────────┴─────────────────────────────┴─────────────────┘\n",
       "</pre>\n"
      ],
      "text/plain": [
       "┏━━━━━━━━━━━━━━━━━━━━━━━━━━━━━━━━━━━━━━┳━━━━━━━━━━━━━━━━━━━━━━━━━━━━━┳━━━━━━━━━━━━━━━━━┓\n",
       "┃\u001b[1m \u001b[0m\u001b[1mLayer (type)                        \u001b[0m\u001b[1m \u001b[0m┃\u001b[1m \u001b[0m\u001b[1mOutput Shape               \u001b[0m\u001b[1m \u001b[0m┃\u001b[1m \u001b[0m\u001b[1m        Param #\u001b[0m\u001b[1m \u001b[0m┃\n",
       "┡━━━━━━━━━━━━━━━━━━━━━━━━━━━━━━━━━━━━━━╇━━━━━━━━━━━━━━━━━━━━━━━━━━━━━╇━━━━━━━━━━━━━━━━━┩\n",
       "│ lstm_5 (\u001b[38;5;33mLSTM\u001b[0m)                        │ (\u001b[38;5;45mNone\u001b[0m, \u001b[38;5;34m128\u001b[0m)                 │          \u001b[38;5;34m84,480\u001b[0m │\n",
       "├──────────────────────────────────────┼─────────────────────────────┼─────────────────┤\n",
       "│ dense_10 (\u001b[38;5;33mDense\u001b[0m)                     │ (\u001b[38;5;45mNone\u001b[0m, \u001b[38;5;34m128\u001b[0m)                 │          \u001b[38;5;34m16,512\u001b[0m │\n",
       "├──────────────────────────────────────┼─────────────────────────────┼─────────────────┤\n",
       "│ dense_12 (\u001b[38;5;33mDense\u001b[0m)                     │ (\u001b[38;5;45mNone\u001b[0m, \u001b[38;5;34m256\u001b[0m)                 │          \u001b[38;5;34m33,024\u001b[0m │\n",
       "├──────────────────────────────────────┼─────────────────────────────┼─────────────────┤\n",
       "│ dense_13 (\u001b[38;5;33mDense\u001b[0m)                     │ (\u001b[38;5;45mNone\u001b[0m, \u001b[38;5;34m2\u001b[0m)                   │             \u001b[38;5;34m514\u001b[0m │\n",
       "└──────────────────────────────────────┴─────────────────────────────┴─────────────────┘\n"
      ]
     },
     "metadata": {},
     "output_type": "display_data"
    },
    {
     "data": {
      "text/html": [
       "<pre style=\"white-space:pre;overflow-x:auto;line-height:normal;font-family:Menlo,'DejaVu Sans Mono',consolas,'Courier New',monospace\"><span style=\"font-weight: bold\"> Total params: </span><span style=\"color: #00af00; text-decoration-color: #00af00\">201,608</span> (787.54 KB)\n",
       "</pre>\n"
      ],
      "text/plain": [
       "\u001b[1m Total params: \u001b[0m\u001b[38;5;34m201,608\u001b[0m (787.54 KB)\n"
      ]
     },
     "metadata": {},
     "output_type": "display_data"
    },
    {
     "data": {
      "text/html": [
       "<pre style=\"white-space:pre;overflow-x:auto;line-height:normal;font-family:Menlo,'DejaVu Sans Mono',consolas,'Courier New',monospace\"><span style=\"font-weight: bold\"> Trainable params: </span><span style=\"color: #00af00; text-decoration-color: #00af00\">33,538</span> (131.01 KB)\n",
       "</pre>\n"
      ],
      "text/plain": [
       "\u001b[1m Trainable params: \u001b[0m\u001b[38;5;34m33,538\u001b[0m (131.01 KB)\n"
      ]
     },
     "metadata": {},
     "output_type": "display_data"
    },
    {
     "data": {
      "text/html": [
       "<pre style=\"white-space:pre;overflow-x:auto;line-height:normal;font-family:Menlo,'DejaVu Sans Mono',consolas,'Courier New',monospace\"><span style=\"font-weight: bold\"> Non-trainable params: </span><span style=\"color: #00af00; text-decoration-color: #00af00\">100,992</span> (394.50 KB)\n",
       "</pre>\n"
      ],
      "text/plain": [
       "\u001b[1m Non-trainable params: \u001b[0m\u001b[38;5;34m100,992\u001b[0m (394.50 KB)\n"
      ]
     },
     "metadata": {},
     "output_type": "display_data"
    },
    {
     "data": {
      "text/html": [
       "<pre style=\"white-space:pre;overflow-x:auto;line-height:normal;font-family:Menlo,'DejaVu Sans Mono',consolas,'Courier New',monospace\"><span style=\"font-weight: bold\"> Optimizer params: </span><span style=\"color: #00af00; text-decoration-color: #00af00\">67,078</span> (262.03 KB)\n",
       "</pre>\n"
      ],
      "text/plain": [
       "\u001b[1m Optimizer params: \u001b[0m\u001b[38;5;34m67,078\u001b[0m (262.03 KB)\n"
      ]
     },
     "metadata": {},
     "output_type": "display_data"
    }
   ],
   "source": [
    "history3 = new_model.fit(X_train_seq, y_train_seq, epochs = 20, batch_size = 32, validation_split = 0.1, shuffle = True)\n",
    "\n",
    "new_model.summary()"
   ]
  },
  {
   "cell_type": "code",
   "execution_count": 365,
   "id": "afd7be11-df29-424c-be2b-75030a715a94",
   "metadata": {},
   "outputs": [
    {
     "name": "stdout",
     "output_type": "stream",
     "text": [
      "\u001b[1m33/33\u001b[0m \u001b[32m━━━━━━━━━━━━━━━━━━━━\u001b[0m\u001b[37m\u001b[0m \u001b[1m0s\u001b[0m 965us/step - accuracy: 1.0000 - loss: 6.6595e-11\n"
     ]
    },
    {
     "data": {
      "text/plain": [
       "[2.2858921699953072e-10, 1.0]"
      ]
     },
     "execution_count": 365,
     "metadata": {},
     "output_type": "execute_result"
    }
   ],
   "source": [
    "new_model.evaluate(X_test_seq, y_test_seq)"
   ]
  },
  {
   "cell_type": "markdown",
   "id": "7fcb6951-7a00-4e8d-ad72-7bfcbaad74c1",
   "metadata": {},
   "source": [
    "# Fine Tunning 미세 조정"
   ]
  },
  {
   "cell_type": "code",
   "execution_count": 367,
   "id": "41f19b75-91d7-40cc-9e9b-9b62753d3135",
   "metadata": {},
   "outputs": [],
   "source": [
    "base_model.trainable = True\n",
    "new_model.compile(optimizer='adam', metrics=['accuracy'], loss='categorical_crossentropy')"
   ]
  },
  {
   "cell_type": "code",
   "execution_count": 368,
   "id": "066acc93-f1f2-418b-8f13-f25011816649",
   "metadata": {},
   "outputs": [
    {
     "data": {
      "text/html": [
       "<div>\n",
       "<style scoped>\n",
       "    .dataframe tbody tr th:only-of-type {\n",
       "        vertical-align: middle;\n",
       "    }\n",
       "\n",
       "    .dataframe tbody tr th {\n",
       "        vertical-align: top;\n",
       "    }\n",
       "\n",
       "    .dataframe thead th {\n",
       "        text-align: right;\n",
       "    }\n",
       "</style>\n",
       "<table border=\"1\" class=\"dataframe\">\n",
       "  <thead>\n",
       "    <tr style=\"text-align: right;\">\n",
       "      <th></th>\n",
       "      <th>Layer Type</th>\n",
       "      <th>Layer Name</th>\n",
       "      <th>Layer Trainable</th>\n",
       "    </tr>\n",
       "  </thead>\n",
       "  <tbody>\n",
       "    <tr>\n",
       "      <th>0</th>\n",
       "      <td>&lt;LSTM name=lstm_5, built=True&gt;</td>\n",
       "      <td>lstm_5</td>\n",
       "      <td>True</td>\n",
       "    </tr>\n",
       "    <tr>\n",
       "      <th>1</th>\n",
       "      <td>&lt;Dense name=dense_10, built=True&gt;</td>\n",
       "      <td>dense_10</td>\n",
       "      <td>True</td>\n",
       "    </tr>\n",
       "    <tr>\n",
       "      <th>2</th>\n",
       "      <td>&lt;Dense name=dense_12, built=True&gt;</td>\n",
       "      <td>dense_12</td>\n",
       "      <td>True</td>\n",
       "    </tr>\n",
       "    <tr>\n",
       "      <th>3</th>\n",
       "      <td>&lt;Dense name=dense_13, built=True&gt;</td>\n",
       "      <td>dense_13</td>\n",
       "      <td>True</td>\n",
       "    </tr>\n",
       "  </tbody>\n",
       "</table>\n",
       "</div>"
      ],
      "text/plain": [
       "                          Layer Type Layer Name  Layer Trainable\n",
       "0     <LSTM name=lstm_5, built=True>     lstm_5             True\n",
       "1  <Dense name=dense_10, built=True>   dense_10             True\n",
       "2  <Dense name=dense_12, built=True>   dense_12             True\n",
       "3  <Dense name=dense_13, built=True>   dense_13             True"
      ]
     },
     "execution_count": 368,
     "metadata": {},
     "output_type": "execute_result"
    }
   ],
   "source": [
    "import pandas as pd\n",
    "display_layers = [(layer, layer.name, layer.trainable) for layer in new_model.layers]\n",
    "pd.DataFrame(display_layers, columns=['Layer Type', 'Layer Name', 'Layer Trainable'])"
   ]
  },
  {
   "cell_type": "code",
   "execution_count": 369,
   "id": "e0cacf46-0cb0-4f88-a7c5-60b7c02552fa",
   "metadata": {},
   "outputs": [
    {
     "name": "stdout",
     "output_type": "stream",
     "text": [
      "Epoch 1/20\n",
      "\u001b[1m89/89\u001b[0m \u001b[32m━━━━━━━━━━━━━━━━━━━━\u001b[0m\u001b[37m\u001b[0m \u001b[1m2s\u001b[0m 5ms/step - accuracy: 1.0000 - loss: 8.7647e-11 - val_accuracy: 1.0000 - val_loss: 7.6172e-10\n",
      "Epoch 2/20\n",
      "\u001b[1m89/89\u001b[0m \u001b[32m━━━━━━━━━━━━━━━━━━━━\u001b[0m\u001b[37m\u001b[0m \u001b[1m0s\u001b[0m 2ms/step - accuracy: 1.0000 - loss: 2.1645e-10 - val_accuracy: 1.0000 - val_loss: 3.8086e-10\n",
      "Epoch 3/20\n",
      "\u001b[1m89/89\u001b[0m \u001b[32m━━━━━━━━━━━━━━━━━━━━\u001b[0m\u001b[37m\u001b[0m \u001b[1m0s\u001b[0m 2ms/step - accuracy: 1.0000 - loss: 6.5724e-11 - val_accuracy: 1.0000 - val_loss: 3.8086e-10\n",
      "Epoch 4/20\n",
      "\u001b[1m89/89\u001b[0m \u001b[32m━━━━━━━━━━━━━━━━━━━━\u001b[0m\u001b[37m\u001b[0m \u001b[1m0s\u001b[0m 2ms/step - accuracy: 1.0000 - loss: 0.0000e+00 - val_accuracy: 1.0000 - val_loss: 3.8086e-10\n",
      "Epoch 5/20\n",
      "\u001b[1m89/89\u001b[0m \u001b[32m━━━━━━━━━━━━━━━━━━━━\u001b[0m\u001b[37m\u001b[0m \u001b[1m0s\u001b[0m 2ms/step - accuracy: 1.0000 - loss: 0.0000e+00 - val_accuracy: 1.0000 - val_loss: 0.0000e+00\n",
      "Epoch 6/20\n",
      "\u001b[1m89/89\u001b[0m \u001b[32m━━━━━━━━━━━━━━━━━━━━\u001b[0m\u001b[37m\u001b[0m \u001b[1m0s\u001b[0m 2ms/step - accuracy: 1.0000 - loss: 0.0000e+00 - val_accuracy: 1.0000 - val_loss: 0.0000e+00\n",
      "Epoch 7/20\n",
      "\u001b[1m89/89\u001b[0m \u001b[32m━━━━━━━━━━━━━━━━━━━━\u001b[0m\u001b[37m\u001b[0m \u001b[1m0s\u001b[0m 2ms/step - accuracy: 1.0000 - loss: 0.0000e+00 - val_accuracy: 1.0000 - val_loss: 0.0000e+00\n",
      "Epoch 8/20\n",
      "\u001b[1m89/89\u001b[0m \u001b[32m━━━━━━━━━━━━━━━━━━━━\u001b[0m\u001b[37m\u001b[0m \u001b[1m0s\u001b[0m 2ms/step - accuracy: 1.0000 - loss: 0.0000e+00 - val_accuracy: 1.0000 - val_loss: 0.0000e+00\n",
      "Epoch 9/20\n",
      "\u001b[1m89/89\u001b[0m \u001b[32m━━━━━━━━━━━━━━━━━━━━\u001b[0m\u001b[37m\u001b[0m \u001b[1m0s\u001b[0m 2ms/step - accuracy: 1.0000 - loss: 0.0000e+00 - val_accuracy: 1.0000 - val_loss: 0.0000e+00\n",
      "Epoch 10/20\n",
      "\u001b[1m89/89\u001b[0m \u001b[32m━━━━━━━━━━━━━━━━━━━━\u001b[0m\u001b[37m\u001b[0m \u001b[1m0s\u001b[0m 2ms/step - accuracy: 1.0000 - loss: 0.0000e+00 - val_accuracy: 1.0000 - val_loss: 0.0000e+00\n",
      "Epoch 11/20\n",
      "\u001b[1m89/89\u001b[0m \u001b[32m━━━━━━━━━━━━━━━━━━━━\u001b[0m\u001b[37m\u001b[0m \u001b[1m0s\u001b[0m 2ms/step - accuracy: 1.0000 - loss: 0.0000e+00 - val_accuracy: 1.0000 - val_loss: 0.0000e+00\n",
      "Epoch 12/20\n",
      "\u001b[1m89/89\u001b[0m \u001b[32m━━━━━━━━━━━━━━━━━━━━\u001b[0m\u001b[37m\u001b[0m \u001b[1m0s\u001b[0m 2ms/step - accuracy: 1.0000 - loss: 0.0000e+00 - val_accuracy: 1.0000 - val_loss: 0.0000e+00\n",
      "Epoch 13/20\n",
      "\u001b[1m89/89\u001b[0m \u001b[32m━━━━━━━━━━━━━━━━━━━━\u001b[0m\u001b[37m\u001b[0m \u001b[1m0s\u001b[0m 2ms/step - accuracy: 1.0000 - loss: 0.0000e+00 - val_accuracy: 1.0000 - val_loss: 0.0000e+00\n",
      "Epoch 14/20\n",
      "\u001b[1m89/89\u001b[0m \u001b[32m━━━━━━━━━━━━━━━━━━━━\u001b[0m\u001b[37m\u001b[0m \u001b[1m0s\u001b[0m 2ms/step - accuracy: 1.0000 - loss: 0.0000e+00 - val_accuracy: 1.0000 - val_loss: 0.0000e+00\n",
      "Epoch 15/20\n",
      "\u001b[1m89/89\u001b[0m \u001b[32m━━━━━━━━━━━━━━━━━━━━\u001b[0m\u001b[37m\u001b[0m \u001b[1m0s\u001b[0m 2ms/step - accuracy: 1.0000 - loss: 0.0000e+00 - val_accuracy: 1.0000 - val_loss: 0.0000e+00\n",
      "Epoch 16/20\n",
      "\u001b[1m89/89\u001b[0m \u001b[32m━━━━━━━━━━━━━━━━━━━━\u001b[0m\u001b[37m\u001b[0m \u001b[1m0s\u001b[0m 2ms/step - accuracy: 1.0000 - loss: 0.0000e+00 - val_accuracy: 1.0000 - val_loss: 0.0000e+00\n",
      "Epoch 17/20\n",
      "\u001b[1m89/89\u001b[0m \u001b[32m━━━━━━━━━━━━━━━━━━━━\u001b[0m\u001b[37m\u001b[0m \u001b[1m0s\u001b[0m 2ms/step - accuracy: 1.0000 - loss: 0.0000e+00 - val_accuracy: 1.0000 - val_loss: 0.0000e+00\n",
      "Epoch 18/20\n",
      "\u001b[1m89/89\u001b[0m \u001b[32m━━━━━━━━━━━━━━━━━━━━\u001b[0m\u001b[37m\u001b[0m \u001b[1m0s\u001b[0m 2ms/step - accuracy: 1.0000 - loss: 0.0000e+00 - val_accuracy: 1.0000 - val_loss: 0.0000e+00\n",
      "Epoch 19/20\n",
      "\u001b[1m89/89\u001b[0m \u001b[32m━━━━━━━━━━━━━━━━━━━━\u001b[0m\u001b[37m\u001b[0m \u001b[1m0s\u001b[0m 2ms/step - accuracy: 1.0000 - loss: 0.0000e+00 - val_accuracy: 1.0000 - val_loss: 0.0000e+00\n",
      "Epoch 20/20\n",
      "\u001b[1m89/89\u001b[0m \u001b[32m━━━━━━━━━━━━━━━━━━━━\u001b[0m\u001b[37m\u001b[0m \u001b[1m0s\u001b[0m 2ms/step - accuracy: 1.0000 - loss: 0.0000e+00 - val_accuracy: 1.0000 - val_loss: 0.0000e+00\n"
     ]
    },
    {
     "data": {
      "text/html": [
       "<pre style=\"white-space:pre;overflow-x:auto;line-height:normal;font-family:Menlo,'DejaVu Sans Mono',consolas,'Courier New',monospace\"><span style=\"font-weight: bold\">Model: \"sequential_6\"</span>\n",
       "</pre>\n"
      ],
      "text/plain": [
       "\u001b[1mModel: \"sequential_6\"\u001b[0m\n"
      ]
     },
     "metadata": {},
     "output_type": "display_data"
    },
    {
     "data": {
      "text/html": [
       "<pre style=\"white-space:pre;overflow-x:auto;line-height:normal;font-family:Menlo,'DejaVu Sans Mono',consolas,'Courier New',monospace\">┏━━━━━━━━━━━━━━━━━━━━━━━━━━━━━━━━━━━━━━┳━━━━━━━━━━━━━━━━━━━━━━━━━━━━━┳━━━━━━━━━━━━━━━━━┓\n",
       "┃<span style=\"font-weight: bold\"> Layer (type)                         </span>┃<span style=\"font-weight: bold\"> Output Shape                </span>┃<span style=\"font-weight: bold\">         Param # </span>┃\n",
       "┡━━━━━━━━━━━━━━━━━━━━━━━━━━━━━━━━━━━━━━╇━━━━━━━━━━━━━━━━━━━━━━━━━━━━━╇━━━━━━━━━━━━━━━━━┩\n",
       "│ lstm_5 (<span style=\"color: #0087ff; text-decoration-color: #0087ff\">LSTM</span>)                        │ (<span style=\"color: #00d7ff; text-decoration-color: #00d7ff\">None</span>, <span style=\"color: #00af00; text-decoration-color: #00af00\">128</span>)                 │          <span style=\"color: #00af00; text-decoration-color: #00af00\">84,480</span> │\n",
       "├──────────────────────────────────────┼─────────────────────────────┼─────────────────┤\n",
       "│ dense_10 (<span style=\"color: #0087ff; text-decoration-color: #0087ff\">Dense</span>)                     │ (<span style=\"color: #00d7ff; text-decoration-color: #00d7ff\">None</span>, <span style=\"color: #00af00; text-decoration-color: #00af00\">128</span>)                 │          <span style=\"color: #00af00; text-decoration-color: #00af00\">16,512</span> │\n",
       "├──────────────────────────────────────┼─────────────────────────────┼─────────────────┤\n",
       "│ dense_12 (<span style=\"color: #0087ff; text-decoration-color: #0087ff\">Dense</span>)                     │ (<span style=\"color: #00d7ff; text-decoration-color: #00d7ff\">None</span>, <span style=\"color: #00af00; text-decoration-color: #00af00\">256</span>)                 │          <span style=\"color: #00af00; text-decoration-color: #00af00\">33,024</span> │\n",
       "├──────────────────────────────────────┼─────────────────────────────┼─────────────────┤\n",
       "│ dense_13 (<span style=\"color: #0087ff; text-decoration-color: #0087ff\">Dense</span>)                     │ (<span style=\"color: #00d7ff; text-decoration-color: #00d7ff\">None</span>, <span style=\"color: #00af00; text-decoration-color: #00af00\">2</span>)                   │             <span style=\"color: #00af00; text-decoration-color: #00af00\">514</span> │\n",
       "└──────────────────────────────────────┴─────────────────────────────┴─────────────────┘\n",
       "</pre>\n"
      ],
      "text/plain": [
       "┏━━━━━━━━━━━━━━━━━━━━━━━━━━━━━━━━━━━━━━┳━━━━━━━━━━━━━━━━━━━━━━━━━━━━━┳━━━━━━━━━━━━━━━━━┓\n",
       "┃\u001b[1m \u001b[0m\u001b[1mLayer (type)                        \u001b[0m\u001b[1m \u001b[0m┃\u001b[1m \u001b[0m\u001b[1mOutput Shape               \u001b[0m\u001b[1m \u001b[0m┃\u001b[1m \u001b[0m\u001b[1m        Param #\u001b[0m\u001b[1m \u001b[0m┃\n",
       "┡━━━━━━━━━━━━━━━━━━━━━━━━━━━━━━━━━━━━━━╇━━━━━━━━━━━━━━━━━━━━━━━━━━━━━╇━━━━━━━━━━━━━━━━━┩\n",
       "│ lstm_5 (\u001b[38;5;33mLSTM\u001b[0m)                        │ (\u001b[38;5;45mNone\u001b[0m, \u001b[38;5;34m128\u001b[0m)                 │          \u001b[38;5;34m84,480\u001b[0m │\n",
       "├──────────────────────────────────────┼─────────────────────────────┼─────────────────┤\n",
       "│ dense_10 (\u001b[38;5;33mDense\u001b[0m)                     │ (\u001b[38;5;45mNone\u001b[0m, \u001b[38;5;34m128\u001b[0m)                 │          \u001b[38;5;34m16,512\u001b[0m │\n",
       "├──────────────────────────────────────┼─────────────────────────────┼─────────────────┤\n",
       "│ dense_12 (\u001b[38;5;33mDense\u001b[0m)                     │ (\u001b[38;5;45mNone\u001b[0m, \u001b[38;5;34m256\u001b[0m)                 │          \u001b[38;5;34m33,024\u001b[0m │\n",
       "├──────────────────────────────────────┼─────────────────────────────┼─────────────────┤\n",
       "│ dense_13 (\u001b[38;5;33mDense\u001b[0m)                     │ (\u001b[38;5;45mNone\u001b[0m, \u001b[38;5;34m2\u001b[0m)                   │             \u001b[38;5;34m514\u001b[0m │\n",
       "└──────────────────────────────────────┴─────────────────────────────┴─────────────────┘\n"
      ]
     },
     "metadata": {},
     "output_type": "display_data"
    },
    {
     "data": {
      "text/html": [
       "<pre style=\"white-space:pre;overflow-x:auto;line-height:normal;font-family:Menlo,'DejaVu Sans Mono',consolas,'Courier New',monospace\"><span style=\"font-weight: bold\"> Total params: </span><span style=\"color: #00af00; text-decoration-color: #00af00\">403,592</span> (1.54 MB)\n",
       "</pre>\n"
      ],
      "text/plain": [
       "\u001b[1m Total params: \u001b[0m\u001b[38;5;34m403,592\u001b[0m (1.54 MB)\n"
      ]
     },
     "metadata": {},
     "output_type": "display_data"
    },
    {
     "data": {
      "text/html": [
       "<pre style=\"white-space:pre;overflow-x:auto;line-height:normal;font-family:Menlo,'DejaVu Sans Mono',consolas,'Courier New',monospace\"><span style=\"font-weight: bold\"> Trainable params: </span><span style=\"color: #00af00; text-decoration-color: #00af00\">134,530</span> (525.51 KB)\n",
       "</pre>\n"
      ],
      "text/plain": [
       "\u001b[1m Trainable params: \u001b[0m\u001b[38;5;34m134,530\u001b[0m (525.51 KB)\n"
      ]
     },
     "metadata": {},
     "output_type": "display_data"
    },
    {
     "data": {
      "text/html": [
       "<pre style=\"white-space:pre;overflow-x:auto;line-height:normal;font-family:Menlo,'DejaVu Sans Mono',consolas,'Courier New',monospace\"><span style=\"font-weight: bold\"> Non-trainable params: </span><span style=\"color: #00af00; text-decoration-color: #00af00\">0</span> (0.00 B)\n",
       "</pre>\n"
      ],
      "text/plain": [
       "\u001b[1m Non-trainable params: \u001b[0m\u001b[38;5;34m0\u001b[0m (0.00 B)\n"
      ]
     },
     "metadata": {},
     "output_type": "display_data"
    },
    {
     "data": {
      "text/html": [
       "<pre style=\"white-space:pre;overflow-x:auto;line-height:normal;font-family:Menlo,'DejaVu Sans Mono',consolas,'Courier New',monospace\"><span style=\"font-weight: bold\"> Optimizer params: </span><span style=\"color: #00af00; text-decoration-color: #00af00\">269,062</span> (1.03 MB)\n",
       "</pre>\n"
      ],
      "text/plain": [
       "\u001b[1m Optimizer params: \u001b[0m\u001b[38;5;34m269,062\u001b[0m (1.03 MB)\n"
      ]
     },
     "metadata": {},
     "output_type": "display_data"
    }
   ],
   "source": [
    "history3 = new_model.fit(X_train_seq, y_train_seq, epochs = 20, batch_size = 32, validation_split = 0.1, shuffle = True)\n",
    "\n",
    "new_model.summary()"
   ]
  },
  {
   "cell_type": "code",
   "execution_count": 370,
   "id": "6c1e3af5-418f-40c1-8f38-7eba01c3f0ad",
   "metadata": {},
   "outputs": [
    {
     "name": "stdout",
     "output_type": "stream",
     "text": [
      "\u001b[1m33/33\u001b[0m \u001b[32m━━━━━━━━━━━━━━━━━━━━\u001b[0m\u001b[37m\u001b[0m \u001b[1m0s\u001b[0m 1ms/step - accuracy: 1.0000 - loss: 0.0000e+00 \n"
     ]
    },
    {
     "data": {
      "text/plain": [
       "[0.0, 1.0]"
      ]
     },
     "execution_count": 370,
     "metadata": {},
     "output_type": "execute_result"
    }
   ],
   "source": [
    "new_model.evaluate(X_test_seq, y_test_seq)"
   ]
  },
  {
   "cell_type": "markdown",
   "id": "76649cdd-9e6e-4025-be01-312adf7c3911",
   "metadata": {},
   "source": [
    "# RA모델을 불러서 LA로"
   ]
  },
  {
   "cell_type": "code",
   "execution_count": 372,
   "id": "34923c2b-16b4-4254-a8f0-88d93dabde29",
   "metadata": {},
   "outputs": [
    {
     "name": "stderr",
     "output_type": "stream",
     "text": [
      "WARNING:absl:No training configuration found in the save file, so the model was *not* compiled. Compile it manually.\n"
     ]
    }
   ],
   "source": [
    "# Base 모델을 로드 (LA_Model.h5)\n",
    "from tensorflow.keras.models import load_model\n",
    "\n",
    "base_model = load_model(model_file)"
   ]
  },
  {
   "cell_type": "code",
   "execution_count": 373,
   "id": "087919ad-39ce-41bb-a005-40e355c01131",
   "metadata": {},
   "outputs": [
    {
     "name": "stdout",
     "output_type": "stream",
     "text": [
      "\u001b[1m33/33\u001b[0m \u001b[32m━━━━━━━━━━━━━━━━━━━━\u001b[0m\u001b[37m\u001b[0m \u001b[1m0s\u001b[0m 1ms/step - accuracy: 1.0000 - loss: 6.3807e-10   \n"
     ]
    },
    {
     "data": {
      "text/plain": [
       "[1.8287127367955236e-09, 1.0]"
      ]
     },
     "execution_count": 373,
     "metadata": {},
     "output_type": "execute_result"
    }
   ],
   "source": [
    "\n",
    "base_model.compile(optimizer='adam', metrics=['accuracy'], loss='categorical_crossentropy')\n",
    "base_model.evaluate(X_test_seq, y_test_seq)"
   ]
  },
  {
   "cell_type": "code",
   "execution_count": 374,
   "id": "4c969683-7bf4-436f-af06-c36bde799149",
   "metadata": {},
   "outputs": [
    {
     "name": "stdout",
     "output_type": "stream",
     "text": [
      "\u001b[1m33/33\u001b[0m \u001b[32m━━━━━━━━━━━━━━━━━━━━\u001b[0m\u001b[37m\u001b[0m \u001b[1m0s\u001b[0m 910us/step - accuracy: 1.0000 - loss: 6.3807e-10\n"
     ]
    },
    {
     "data": {
      "text/plain": [
       "[1.8287127367955236e-09, 1.0]"
      ]
     },
     "execution_count": 374,
     "metadata": {},
     "output_type": "execute_result"
    }
   ],
   "source": [
    "base_model.evaluate(X_test_seq, y_test_seq)"
   ]
  },
  {
   "cell_type": "code",
   "execution_count": 375,
   "id": "c829ff94-6439-4ac1-88d4-ec9c57b5a070",
   "metadata": {},
   "outputs": [
    {
     "name": "stdout",
     "output_type": "stream",
     "text": [
      "Number of layers in the base model:  3\n"
     ]
    }
   ],
   "source": [
    "print(\"Number of layers in the base model: \", len(base_model.layers))"
   ]
  },
  {
   "cell_type": "code",
   "execution_count": 376,
   "id": "d428999d-182a-4b1c-b2ba-a4f8eb961343",
   "metadata": {},
   "outputs": [],
   "source": [
    "# 기존 모델의 층을 동결 (학습되지 않도록 설정)\n",
    "base_model.trainable = False"
   ]
  },
  {
   "cell_type": "code",
   "execution_count": 377,
   "id": "3215adde-83b9-4252-b754-bf3fb94a3860",
   "metadata": {},
   "outputs": [],
   "source": [
    "# 기존 모델의 층을 동결 (학습되지 않도록 설정)\n",
    "base_model.trainable = False\n",
    "\n",
    "from tensorflow.keras.applications import VGG16\n",
    "from tensorflow.keras import layers, models\n",
    "\n",
    "def remove_last_layers(model, num_layers_to_remove):\n",
    "    # 모델의 레이어를 하나씩 슬라이스해서 앞의 레이어만 가져옴\n",
    "    model_layers = model.layers[:-num_layers_to_remove]  # 마지막 레이어부터 지정된 갯수만큼 제외\n",
    "    new_model = models.Sequential(model_layers)  # 새로운 모델에 해당 레이어들만 추가\n",
    "    return new_model"
   ]
  },
  {
   "cell_type": "code",
   "execution_count": 378,
   "id": "bfa3c4be-73f4-4de0-98b0-4617024532ec",
   "metadata": {},
   "outputs": [
    {
     "data": {
      "text/html": [
       "<pre style=\"white-space:pre;overflow-x:auto;line-height:normal;font-family:Menlo,'DejaVu Sans Mono',consolas,'Courier New',monospace\"><span style=\"font-weight: bold\">Model: \"sequential_7\"</span>\n",
       "</pre>\n"
      ],
      "text/plain": [
       "\u001b[1mModel: \"sequential_7\"\u001b[0m\n"
      ]
     },
     "metadata": {},
     "output_type": "display_data"
    },
    {
     "data": {
      "text/html": [
       "<pre style=\"white-space:pre;overflow-x:auto;line-height:normal;font-family:Menlo,'DejaVu Sans Mono',consolas,'Courier New',monospace\">┏━━━━━━━━━━━━━━━━━━━━━━━━━━━━━━━━━━━━━━┳━━━━━━━━━━━━━━━━━━━━━━━━━━━━━┳━━━━━━━━━━━━━━━━━┓\n",
       "┃<span style=\"font-weight: bold\"> Layer (type)                         </span>┃<span style=\"font-weight: bold\"> Output Shape                </span>┃<span style=\"font-weight: bold\">         Param # </span>┃\n",
       "┡━━━━━━━━━━━━━━━━━━━━━━━━━━━━━━━━━━━━━━╇━━━━━━━━━━━━━━━━━━━━━━━━━━━━━╇━━━━━━━━━━━━━━━━━┩\n",
       "│ lstm_3 (<span style=\"color: #0087ff; text-decoration-color: #0087ff\">LSTM</span>)                        │ (<span style=\"color: #00d7ff; text-decoration-color: #00d7ff\">None</span>, <span style=\"color: #00af00; text-decoration-color: #00af00\">128</span>)                 │          <span style=\"color: #00af00; text-decoration-color: #00af00\">84,480</span> │\n",
       "├──────────────────────────────────────┼─────────────────────────────┼─────────────────┤\n",
       "│ dense_6 (<span style=\"color: #0087ff; text-decoration-color: #0087ff\">Dense</span>)                      │ (<span style=\"color: #00d7ff; text-decoration-color: #00d7ff\">None</span>, <span style=\"color: #00af00; text-decoration-color: #00af00\">128</span>)                 │          <span style=\"color: #00af00; text-decoration-color: #00af00\">16,512</span> │\n",
       "├──────────────────────────────────────┼─────────────────────────────┼─────────────────┤\n",
       "│ dense_14 (<span style=\"color: #0087ff; text-decoration-color: #0087ff\">Dense</span>)                     │ ?                           │     <span style=\"color: #00af00; text-decoration-color: #00af00\">0</span> (unbuilt) │\n",
       "├──────────────────────────────────────┼─────────────────────────────┼─────────────────┤\n",
       "│ dense_15 (<span style=\"color: #0087ff; text-decoration-color: #0087ff\">Dense</span>)                     │ ?                           │     <span style=\"color: #00af00; text-decoration-color: #00af00\">0</span> (unbuilt) │\n",
       "└──────────────────────────────────────┴─────────────────────────────┴─────────────────┘\n",
       "</pre>\n"
      ],
      "text/plain": [
       "┏━━━━━━━━━━━━━━━━━━━━━━━━━━━━━━━━━━━━━━┳━━━━━━━━━━━━━━━━━━━━━━━━━━━━━┳━━━━━━━━━━━━━━━━━┓\n",
       "┃\u001b[1m \u001b[0m\u001b[1mLayer (type)                        \u001b[0m\u001b[1m \u001b[0m┃\u001b[1m \u001b[0m\u001b[1mOutput Shape               \u001b[0m\u001b[1m \u001b[0m┃\u001b[1m \u001b[0m\u001b[1m        Param #\u001b[0m\u001b[1m \u001b[0m┃\n",
       "┡━━━━━━━━━━━━━━━━━━━━━━━━━━━━━━━━━━━━━━╇━━━━━━━━━━━━━━━━━━━━━━━━━━━━━╇━━━━━━━━━━━━━━━━━┩\n",
       "│ lstm_3 (\u001b[38;5;33mLSTM\u001b[0m)                        │ (\u001b[38;5;45mNone\u001b[0m, \u001b[38;5;34m128\u001b[0m)                 │          \u001b[38;5;34m84,480\u001b[0m │\n",
       "├──────────────────────────────────────┼─────────────────────────────┼─────────────────┤\n",
       "│ dense_6 (\u001b[38;5;33mDense\u001b[0m)                      │ (\u001b[38;5;45mNone\u001b[0m, \u001b[38;5;34m128\u001b[0m)                 │          \u001b[38;5;34m16,512\u001b[0m │\n",
       "├──────────────────────────────────────┼─────────────────────────────┼─────────────────┤\n",
       "│ dense_14 (\u001b[38;5;33mDense\u001b[0m)                     │ ?                           │     \u001b[38;5;34m0\u001b[0m (unbuilt) │\n",
       "├──────────────────────────────────────┼─────────────────────────────┼─────────────────┤\n",
       "│ dense_15 (\u001b[38;5;33mDense\u001b[0m)                     │ ?                           │     \u001b[38;5;34m0\u001b[0m (unbuilt) │\n",
       "└──────────────────────────────────────┴─────────────────────────────┴─────────────────┘\n"
      ]
     },
     "metadata": {},
     "output_type": "display_data"
    },
    {
     "data": {
      "text/html": [
       "<pre style=\"white-space:pre;overflow-x:auto;line-height:normal;font-family:Menlo,'DejaVu Sans Mono',consolas,'Courier New',monospace\"><span style=\"font-weight: bold\"> Total params: </span><span style=\"color: #00af00; text-decoration-color: #00af00\">100,992</span> (394.50 KB)\n",
       "</pre>\n"
      ],
      "text/plain": [
       "\u001b[1m Total params: \u001b[0m\u001b[38;5;34m100,992\u001b[0m (394.50 KB)\n"
      ]
     },
     "metadata": {},
     "output_type": "display_data"
    },
    {
     "data": {
      "text/html": [
       "<pre style=\"white-space:pre;overflow-x:auto;line-height:normal;font-family:Menlo,'DejaVu Sans Mono',consolas,'Courier New',monospace\"><span style=\"font-weight: bold\"> Trainable params: </span><span style=\"color: #00af00; text-decoration-color: #00af00\">0</span> (0.00 B)\n",
       "</pre>\n"
      ],
      "text/plain": [
       "\u001b[1m Trainable params: \u001b[0m\u001b[38;5;34m0\u001b[0m (0.00 B)\n"
      ]
     },
     "metadata": {},
     "output_type": "display_data"
    },
    {
     "data": {
      "text/html": [
       "<pre style=\"white-space:pre;overflow-x:auto;line-height:normal;font-family:Menlo,'DejaVu Sans Mono',consolas,'Courier New',monospace\"><span style=\"font-weight: bold\"> Non-trainable params: </span><span style=\"color: #00af00; text-decoration-color: #00af00\">100,992</span> (394.50 KB)\n",
       "</pre>\n"
      ],
      "text/plain": [
       "\u001b[1m Non-trainable params: \u001b[0m\u001b[38;5;34m100,992\u001b[0m (394.50 KB)\n"
      ]
     },
     "metadata": {},
     "output_type": "display_data"
    }
   ],
   "source": [
    "# 출력층부터 1개의 레이어를 삭제\n",
    "new_model = remove_last_layers(base_model, 1)\n",
    "\n",
    "# 새로운 출력층 추가\n",
    "new_model.add(layers.Dense(256, activation='relu'))\n",
    "new_model.add(layers.Dense(2, activation='softmax'))  # 예: 10개의 클래스\n",
    "new_model.compile(optimizer='adam', metrics=['accuracy'], loss='categorical_crossentropy')\n",
    "\n",
    "# 모델 요약 출력\n",
    "new_model.summary()"
   ]
  },
  {
   "cell_type": "code",
   "execution_count": 379,
   "id": "1312c86f-494e-48a6-b234-fcef421619ff",
   "metadata": {},
   "outputs": [
    {
     "data": {
      "text/html": [
       "<div>\n",
       "<style scoped>\n",
       "    .dataframe tbody tr th:only-of-type {\n",
       "        vertical-align: middle;\n",
       "    }\n",
       "\n",
       "    .dataframe tbody tr th {\n",
       "        vertical-align: top;\n",
       "    }\n",
       "\n",
       "    .dataframe thead th {\n",
       "        text-align: right;\n",
       "    }\n",
       "</style>\n",
       "<table border=\"1\" class=\"dataframe\">\n",
       "  <thead>\n",
       "    <tr style=\"text-align: right;\">\n",
       "      <th></th>\n",
       "      <th>Layer Type</th>\n",
       "      <th>Layer Name</th>\n",
       "      <th>Layer Trainable</th>\n",
       "    </tr>\n",
       "  </thead>\n",
       "  <tbody>\n",
       "    <tr>\n",
       "      <th>0</th>\n",
       "      <td>&lt;LSTM name=lstm_3, built=True&gt;</td>\n",
       "      <td>lstm_3</td>\n",
       "      <td>False</td>\n",
       "    </tr>\n",
       "    <tr>\n",
       "      <th>1</th>\n",
       "      <td>&lt;Dense name=dense_6, built=True&gt;</td>\n",
       "      <td>dense_6</td>\n",
       "      <td>False</td>\n",
       "    </tr>\n",
       "    <tr>\n",
       "      <th>2</th>\n",
       "      <td>&lt;Dense name=dense_14, built=False&gt;</td>\n",
       "      <td>dense_14</td>\n",
       "      <td>True</td>\n",
       "    </tr>\n",
       "    <tr>\n",
       "      <th>3</th>\n",
       "      <td>&lt;Dense name=dense_15, built=False&gt;</td>\n",
       "      <td>dense_15</td>\n",
       "      <td>True</td>\n",
       "    </tr>\n",
       "  </tbody>\n",
       "</table>\n",
       "</div>"
      ],
      "text/plain": [
       "                           Layer Type Layer Name  Layer Trainable\n",
       "0      <LSTM name=lstm_3, built=True>     lstm_3            False\n",
       "1    <Dense name=dense_6, built=True>    dense_6            False\n",
       "2  <Dense name=dense_14, built=False>   dense_14             True\n",
       "3  <Dense name=dense_15, built=False>   dense_15             True"
      ]
     },
     "execution_count": 379,
     "metadata": {},
     "output_type": "execute_result"
    }
   ],
   "source": [
    "import pandas as pd\n",
    "display_layers = [(layer, layer.name, layer.trainable) for layer in new_model.layers]\n",
    "pd.DataFrame(display_layers, columns=['Layer Type', 'Layer Name', 'Layer Trainable'])"
   ]
  },
  {
   "cell_type": "code",
   "execution_count": 382,
   "id": "a981267c-81df-4de7-9b67-c8fdd2614960",
   "metadata": {},
   "outputs": [
    {
     "name": "stdout",
     "output_type": "stream",
     "text": [
      "Epoch 1/20\n",
      "\u001b[1m89/89\u001b[0m \u001b[32m━━━━━━━━━━━━━━━━━━━━\u001b[0m\u001b[37m\u001b[0m \u001b[1m2s\u001b[0m 5ms/step - accuracy: 1.0000 - loss: 0.0322 - val_accuracy: 1.0000 - val_loss: 5.6112e-06\n",
      "Epoch 2/20\n",
      "\u001b[1m89/89\u001b[0m \u001b[32m━━━━━━━━━━━━━━━━━━━━\u001b[0m\u001b[37m\u001b[0m \u001b[1m0s\u001b[0m 1ms/step - accuracy: 1.0000 - loss: 3.9758e-06 - val_accuracy: 1.0000 - val_loss: 7.7124e-07\n",
      "Epoch 3/20\n",
      "\u001b[1m89/89\u001b[0m \u001b[32m━━━━━━━━━━━━━━━━━━━━\u001b[0m\u001b[37m\u001b[0m \u001b[1m0s\u001b[0m 1ms/step - accuracy: 1.0000 - loss: 4.3862e-07 - val_accuracy: 1.0000 - val_loss: 1.5120e-07\n",
      "Epoch 4/20\n",
      "\u001b[1m89/89\u001b[0m \u001b[32m━━━━━━━━━━━━━━━━━━━━\u001b[0m\u001b[37m\u001b[0m \u001b[1m0s\u001b[0m 1ms/step - accuracy: 1.0000 - loss: 1.1269e-07 - val_accuracy: 1.0000 - val_loss: 1.7900e-08\n",
      "Epoch 5/20\n",
      "\u001b[1m89/89\u001b[0m \u001b[32m━━━━━━━━━━━━━━━━━━━━\u001b[0m\u001b[37m\u001b[0m \u001b[1m0s\u001b[0m 1ms/step - accuracy: 1.0000 - loss: 2.1932e-09 - val_accuracy: 1.0000 - val_loss: 1.4854e-08\n",
      "Epoch 6/20\n",
      "\u001b[1m89/89\u001b[0m \u001b[32m━━━━━━━━━━━━━━━━━━━━\u001b[0m\u001b[37m\u001b[0m \u001b[1m0s\u001b[0m 1ms/step - accuracy: 1.0000 - loss: 2.5599e-09 - val_accuracy: 1.0000 - val_loss: 1.1807e-08\n",
      "Epoch 7/20\n",
      "\u001b[1m89/89\u001b[0m \u001b[32m━━━━━━━━━━━━━━━━━━━━\u001b[0m\u001b[37m\u001b[0m \u001b[1m0s\u001b[0m 1ms/step - accuracy: 1.0000 - loss: 2.0906e-09 - val_accuracy: 1.0000 - val_loss: 1.0283e-08\n",
      "Epoch 8/20\n",
      "\u001b[1m89/89\u001b[0m \u001b[32m━━━━━━━━━━━━━━━━━━━━\u001b[0m\u001b[37m\u001b[0m \u001b[1m0s\u001b[0m 1ms/step - accuracy: 1.0000 - loss: 1.7375e-09 - val_accuracy: 1.0000 - val_loss: 8.3789e-09\n",
      "Epoch 9/20\n",
      "\u001b[1m89/89\u001b[0m \u001b[32m━━━━━━━━━━━━━━━━━━━━\u001b[0m\u001b[37m\u001b[0m \u001b[1m0s\u001b[0m 1ms/step - accuracy: 1.0000 - loss: 7.7035e-10 - val_accuracy: 1.0000 - val_loss: 7.6172e-09\n",
      "Epoch 10/20\n",
      "\u001b[1m89/89\u001b[0m \u001b[32m━━━━━━━━━━━━━━━━━━━━\u001b[0m\u001b[37m\u001b[0m \u001b[1m0s\u001b[0m 1ms/step - accuracy: 1.0000 - loss: 1.1601e-09 - val_accuracy: 1.0000 - val_loss: 6.4746e-09\n",
      "Epoch 11/20\n",
      "\u001b[1m89/89\u001b[0m \u001b[32m━━━━━━━━━━━━━━━━━━━━\u001b[0m\u001b[37m\u001b[0m \u001b[1m0s\u001b[0m 1ms/step - accuracy: 1.0000 - loss: 6.9312e-10 - val_accuracy: 1.0000 - val_loss: 5.7129e-09\n",
      "Epoch 12/20\n",
      "\u001b[1m89/89\u001b[0m \u001b[32m━━━━━━━━━━━━━━━━━━━━\u001b[0m\u001b[37m\u001b[0m \u001b[1m0s\u001b[0m 1ms/step - accuracy: 1.0000 - loss: 5.9791e-10 - val_accuracy: 1.0000 - val_loss: 5.3320e-09\n",
      "Epoch 13/20\n",
      "\u001b[1m89/89\u001b[0m \u001b[32m━━━━━━━━━━━━━━━━━━━━\u001b[0m\u001b[37m\u001b[0m \u001b[1m0s\u001b[0m 1ms/step - accuracy: 1.0000 - loss: 8.1562e-10 - val_accuracy: 1.0000 - val_loss: 4.9512e-09\n",
      "Epoch 14/20\n",
      "\u001b[1m89/89\u001b[0m \u001b[32m━━━━━━━━━━━━━━━━━━━━\u001b[0m\u001b[37m\u001b[0m \u001b[1m0s\u001b[0m 1ms/step - accuracy: 1.0000 - loss: 5.2542e-10 - val_accuracy: 1.0000 - val_loss: 4.1895e-09\n",
      "Epoch 15/20\n",
      "\u001b[1m89/89\u001b[0m \u001b[32m━━━━━━━━━━━━━━━━━━━━\u001b[0m\u001b[37m\u001b[0m \u001b[1m0s\u001b[0m 1ms/step - accuracy: 1.0000 - loss: 6.1348e-10 - val_accuracy: 1.0000 - val_loss: 3.8086e-09\n",
      "Epoch 16/20\n",
      "\u001b[1m89/89\u001b[0m \u001b[32m━━━━━━━━━━━━━━━━━━━━\u001b[0m\u001b[37m\u001b[0m \u001b[1m0s\u001b[0m 1ms/step - accuracy: 1.0000 - loss: 3.5775e-10 - val_accuracy: 1.0000 - val_loss: 3.4277e-09\n",
      "Epoch 17/20\n",
      "\u001b[1m89/89\u001b[0m \u001b[32m━━━━━━━━━━━━━━━━━━━━\u001b[0m\u001b[37m\u001b[0m \u001b[1m0s\u001b[0m 1ms/step - accuracy: 1.0000 - loss: 1.2610e-09 - val_accuracy: 1.0000 - val_loss: 3.0469e-09\n",
      "Epoch 18/20\n",
      "\u001b[1m89/89\u001b[0m \u001b[32m━━━━━━━━━━━━━━━━━━━━\u001b[0m\u001b[37m\u001b[0m \u001b[1m0s\u001b[0m 1ms/step - accuracy: 1.0000 - loss: 7.3027e-10 - val_accuracy: 1.0000 - val_loss: 2.6660e-09\n",
      "Epoch 19/20\n",
      "\u001b[1m89/89\u001b[0m \u001b[32m━━━━━━━━━━━━━━━━━━━━\u001b[0m\u001b[37m\u001b[0m \u001b[1m0s\u001b[0m 1ms/step - accuracy: 1.0000 - loss: 4.6856e-10 - val_accuracy: 1.0000 - val_loss: 2.6660e-09\n",
      "Epoch 20/20\n",
      "\u001b[1m89/89\u001b[0m \u001b[32m━━━━━━━━━━━━━━━━━━━━\u001b[0m\u001b[37m\u001b[0m \u001b[1m0s\u001b[0m 1ms/step - accuracy: 1.0000 - loss: 9.6857e-10 - val_accuracy: 1.0000 - val_loss: 2.2852e-09\n"
     ]
    },
    {
     "data": {
      "text/html": [
       "<pre style=\"white-space:pre;overflow-x:auto;line-height:normal;font-family:Menlo,'DejaVu Sans Mono',consolas,'Courier New',monospace\"><span style=\"font-weight: bold\">Model: \"sequential_7\"</span>\n",
       "</pre>\n"
      ],
      "text/plain": [
       "\u001b[1mModel: \"sequential_7\"\u001b[0m\n"
      ]
     },
     "metadata": {},
     "output_type": "display_data"
    },
    {
     "data": {
      "text/html": [
       "<pre style=\"white-space:pre;overflow-x:auto;line-height:normal;font-family:Menlo,'DejaVu Sans Mono',consolas,'Courier New',monospace\">┏━━━━━━━━━━━━━━━━━━━━━━━━━━━━━━━━━━━━━━┳━━━━━━━━━━━━━━━━━━━━━━━━━━━━━┳━━━━━━━━━━━━━━━━━┓\n",
       "┃<span style=\"font-weight: bold\"> Layer (type)                         </span>┃<span style=\"font-weight: bold\"> Output Shape                </span>┃<span style=\"font-weight: bold\">         Param # </span>┃\n",
       "┡━━━━━━━━━━━━━━━━━━━━━━━━━━━━━━━━━━━━━━╇━━━━━━━━━━━━━━━━━━━━━━━━━━━━━╇━━━━━━━━━━━━━━━━━┩\n",
       "│ lstm_3 (<span style=\"color: #0087ff; text-decoration-color: #0087ff\">LSTM</span>)                        │ (<span style=\"color: #00d7ff; text-decoration-color: #00d7ff\">None</span>, <span style=\"color: #00af00; text-decoration-color: #00af00\">128</span>)                 │          <span style=\"color: #00af00; text-decoration-color: #00af00\">84,480</span> │\n",
       "├──────────────────────────────────────┼─────────────────────────────┼─────────────────┤\n",
       "│ dense_6 (<span style=\"color: #0087ff; text-decoration-color: #0087ff\">Dense</span>)                      │ (<span style=\"color: #00d7ff; text-decoration-color: #00d7ff\">None</span>, <span style=\"color: #00af00; text-decoration-color: #00af00\">128</span>)                 │          <span style=\"color: #00af00; text-decoration-color: #00af00\">16,512</span> │\n",
       "├──────────────────────────────────────┼─────────────────────────────┼─────────────────┤\n",
       "│ dense_14 (<span style=\"color: #0087ff; text-decoration-color: #0087ff\">Dense</span>)                     │ (<span style=\"color: #00d7ff; text-decoration-color: #00d7ff\">None</span>, <span style=\"color: #00af00; text-decoration-color: #00af00\">256</span>)                 │          <span style=\"color: #00af00; text-decoration-color: #00af00\">33,024</span> │\n",
       "├──────────────────────────────────────┼─────────────────────────────┼─────────────────┤\n",
       "│ dense_15 (<span style=\"color: #0087ff; text-decoration-color: #0087ff\">Dense</span>)                     │ (<span style=\"color: #00d7ff; text-decoration-color: #00d7ff\">None</span>, <span style=\"color: #00af00; text-decoration-color: #00af00\">2</span>)                   │             <span style=\"color: #00af00; text-decoration-color: #00af00\">514</span> │\n",
       "└──────────────────────────────────────┴─────────────────────────────┴─────────────────┘\n",
       "</pre>\n"
      ],
      "text/plain": [
       "┏━━━━━━━━━━━━━━━━━━━━━━━━━━━━━━━━━━━━━━┳━━━━━━━━━━━━━━━━━━━━━━━━━━━━━┳━━━━━━━━━━━━━━━━━┓\n",
       "┃\u001b[1m \u001b[0m\u001b[1mLayer (type)                        \u001b[0m\u001b[1m \u001b[0m┃\u001b[1m \u001b[0m\u001b[1mOutput Shape               \u001b[0m\u001b[1m \u001b[0m┃\u001b[1m \u001b[0m\u001b[1m        Param #\u001b[0m\u001b[1m \u001b[0m┃\n",
       "┡━━━━━━━━━━━━━━━━━━━━━━━━━━━━━━━━━━━━━━╇━━━━━━━━━━━━━━━━━━━━━━━━━━━━━╇━━━━━━━━━━━━━━━━━┩\n",
       "│ lstm_3 (\u001b[38;5;33mLSTM\u001b[0m)                        │ (\u001b[38;5;45mNone\u001b[0m, \u001b[38;5;34m128\u001b[0m)                 │          \u001b[38;5;34m84,480\u001b[0m │\n",
       "├──────────────────────────────────────┼─────────────────────────────┼─────────────────┤\n",
       "│ dense_6 (\u001b[38;5;33mDense\u001b[0m)                      │ (\u001b[38;5;45mNone\u001b[0m, \u001b[38;5;34m128\u001b[0m)                 │          \u001b[38;5;34m16,512\u001b[0m │\n",
       "├──────────────────────────────────────┼─────────────────────────────┼─────────────────┤\n",
       "│ dense_14 (\u001b[38;5;33mDense\u001b[0m)                     │ (\u001b[38;5;45mNone\u001b[0m, \u001b[38;5;34m256\u001b[0m)                 │          \u001b[38;5;34m33,024\u001b[0m │\n",
       "├──────────────────────────────────────┼─────────────────────────────┼─────────────────┤\n",
       "│ dense_15 (\u001b[38;5;33mDense\u001b[0m)                     │ (\u001b[38;5;45mNone\u001b[0m, \u001b[38;5;34m2\u001b[0m)                   │             \u001b[38;5;34m514\u001b[0m │\n",
       "└──────────────────────────────────────┴─────────────────────────────┴─────────────────┘\n"
      ]
     },
     "metadata": {},
     "output_type": "display_data"
    },
    {
     "data": {
      "text/html": [
       "<pre style=\"white-space:pre;overflow-x:auto;line-height:normal;font-family:Menlo,'DejaVu Sans Mono',consolas,'Courier New',monospace\"><span style=\"font-weight: bold\"> Total params: </span><span style=\"color: #00af00; text-decoration-color: #00af00\">201,608</span> (787.54 KB)\n",
       "</pre>\n"
      ],
      "text/plain": [
       "\u001b[1m Total params: \u001b[0m\u001b[38;5;34m201,608\u001b[0m (787.54 KB)\n"
      ]
     },
     "metadata": {},
     "output_type": "display_data"
    },
    {
     "data": {
      "text/html": [
       "<pre style=\"white-space:pre;overflow-x:auto;line-height:normal;font-family:Menlo,'DejaVu Sans Mono',consolas,'Courier New',monospace\"><span style=\"font-weight: bold\"> Trainable params: </span><span style=\"color: #00af00; text-decoration-color: #00af00\">33,538</span> (131.01 KB)\n",
       "</pre>\n"
      ],
      "text/plain": [
       "\u001b[1m Trainable params: \u001b[0m\u001b[38;5;34m33,538\u001b[0m (131.01 KB)\n"
      ]
     },
     "metadata": {},
     "output_type": "display_data"
    },
    {
     "data": {
      "text/html": [
       "<pre style=\"white-space:pre;overflow-x:auto;line-height:normal;font-family:Menlo,'DejaVu Sans Mono',consolas,'Courier New',monospace\"><span style=\"font-weight: bold\"> Non-trainable params: </span><span style=\"color: #00af00; text-decoration-color: #00af00\">100,992</span> (394.50 KB)\n",
       "</pre>\n"
      ],
      "text/plain": [
       "\u001b[1m Non-trainable params: \u001b[0m\u001b[38;5;34m100,992\u001b[0m (394.50 KB)\n"
      ]
     },
     "metadata": {},
     "output_type": "display_data"
    },
    {
     "data": {
      "text/html": [
       "<pre style=\"white-space:pre;overflow-x:auto;line-height:normal;font-family:Menlo,'DejaVu Sans Mono',consolas,'Courier New',monospace\"><span style=\"font-weight: bold\"> Optimizer params: </span><span style=\"color: #00af00; text-decoration-color: #00af00\">67,078</span> (262.03 KB)\n",
       "</pre>\n"
      ],
      "text/plain": [
       "\u001b[1m Optimizer params: \u001b[0m\u001b[38;5;34m67,078\u001b[0m (262.03 KB)\n"
      ]
     },
     "metadata": {},
     "output_type": "display_data"
    }
   ],
   "source": [
    "history3 = new_model.fit(X_train_seq, y_train_seq, epochs = 20, batch_size = 32, validation_split = 0.1, shuffle = True)\n",
    "\n",
    "new_model.summary()"
   ]
  },
  {
   "cell_type": "code",
   "execution_count": 385,
   "id": "87949d16-d819-4c1d-b21a-0b717e8df883",
   "metadata": {},
   "outputs": [
    {
     "name": "stdout",
     "output_type": "stream",
     "text": [
      "\u001b[1m33/33\u001b[0m \u001b[32m━━━━━━━━━━━━━━━━━━━━\u001b[0m\u001b[37m\u001b[0m \u001b[1m0s\u001b[0m 1ms/step - accuracy: 1.0000 - loss: 6.6595e-11 \n"
     ]
    },
    {
     "data": {
      "text/plain": [
       "[2.2858921699953072e-10, 1.0]"
      ]
     },
     "execution_count": 385,
     "metadata": {},
     "output_type": "execute_result"
    }
   ],
   "source": [
    "new_model.evaluate(X_test_seq, y_test_seq)"
   ]
  },
  {
   "cell_type": "markdown",
   "id": "c3b39dc2-46db-4dc4-b829-15744d86c760",
   "metadata": {},
   "source": [
    "# 미세조정"
   ]
  },
  {
   "cell_type": "code",
   "execution_count": 387,
   "id": "8ecef4be-a1d9-44b4-8428-91fc26315fe5",
   "metadata": {},
   "outputs": [],
   "source": [
    "base_model.trainable = True\n",
    "new_model.compile(optimizer='adam', metrics=['accuracy'], loss='categorical_crossentropy')"
   ]
  },
  {
   "cell_type": "code",
   "execution_count": 388,
   "id": "736fbd19-182a-42f4-998d-a3ffa05bb559",
   "metadata": {},
   "outputs": [
    {
     "data": {
      "text/html": [
       "<div>\n",
       "<style scoped>\n",
       "    .dataframe tbody tr th:only-of-type {\n",
       "        vertical-align: middle;\n",
       "    }\n",
       "\n",
       "    .dataframe tbody tr th {\n",
       "        vertical-align: top;\n",
       "    }\n",
       "\n",
       "    .dataframe thead th {\n",
       "        text-align: right;\n",
       "    }\n",
       "</style>\n",
       "<table border=\"1\" class=\"dataframe\">\n",
       "  <thead>\n",
       "    <tr style=\"text-align: right;\">\n",
       "      <th></th>\n",
       "      <th>Layer Type</th>\n",
       "      <th>Layer Name</th>\n",
       "      <th>Layer Trainable</th>\n",
       "    </tr>\n",
       "  </thead>\n",
       "  <tbody>\n",
       "    <tr>\n",
       "      <th>0</th>\n",
       "      <td>&lt;LSTM name=lstm_3, built=True&gt;</td>\n",
       "      <td>lstm_3</td>\n",
       "      <td>True</td>\n",
       "    </tr>\n",
       "    <tr>\n",
       "      <th>1</th>\n",
       "      <td>&lt;Dense name=dense_6, built=True&gt;</td>\n",
       "      <td>dense_6</td>\n",
       "      <td>True</td>\n",
       "    </tr>\n",
       "    <tr>\n",
       "      <th>2</th>\n",
       "      <td>&lt;Dense name=dense_14, built=True&gt;</td>\n",
       "      <td>dense_14</td>\n",
       "      <td>True</td>\n",
       "    </tr>\n",
       "    <tr>\n",
       "      <th>3</th>\n",
       "      <td>&lt;Dense name=dense_15, built=True&gt;</td>\n",
       "      <td>dense_15</td>\n",
       "      <td>True</td>\n",
       "    </tr>\n",
       "  </tbody>\n",
       "</table>\n",
       "</div>"
      ],
      "text/plain": [
       "                          Layer Type Layer Name  Layer Trainable\n",
       "0     <LSTM name=lstm_3, built=True>     lstm_3             True\n",
       "1   <Dense name=dense_6, built=True>    dense_6             True\n",
       "2  <Dense name=dense_14, built=True>   dense_14             True\n",
       "3  <Dense name=dense_15, built=True>   dense_15             True"
      ]
     },
     "execution_count": 388,
     "metadata": {},
     "output_type": "execute_result"
    }
   ],
   "source": [
    "import pandas as pd\n",
    "display_layers = [(layer, layer.name, layer.trainable) for layer in new_model.layers]\n",
    "pd.DataFrame(display_layers, columns=['Layer Type', 'Layer Name', 'Layer Trainable'])"
   ]
  },
  {
   "cell_type": "code",
   "execution_count": 389,
   "id": "21192ff1-9f90-4f86-bd39-4d17cb3da374",
   "metadata": {},
   "outputs": [
    {
     "name": "stdout",
     "output_type": "stream",
     "text": [
      "Epoch 1/20\n",
      "\u001b[1m89/89\u001b[0m \u001b[32m━━━━━━━━━━━━━━━━━━━━\u001b[0m\u001b[37m\u001b[0m \u001b[1m2s\u001b[0m 5ms/step - accuracy: 1.0000 - loss: 7.9695e-10 - val_accuracy: 1.0000 - val_loss: 1.5234e-09\n",
      "Epoch 2/20\n",
      "\u001b[1m89/89\u001b[0m \u001b[32m━━━━━━━━━━━━━━━━━━━━\u001b[0m\u001b[37m\u001b[0m \u001b[1m0s\u001b[0m 2ms/step - accuracy: 1.0000 - loss: 1.2776e-10 - val_accuracy: 1.0000 - val_loss: 1.1426e-09\n",
      "Epoch 3/20\n",
      "\u001b[1m89/89\u001b[0m \u001b[32m━━━━━━━━━━━━━━━━━━━━\u001b[0m\u001b[37m\u001b[0m \u001b[1m0s\u001b[0m 2ms/step - accuracy: 1.0000 - loss: 4.8186e-11 - val_accuracy: 1.0000 - val_loss: 7.6172e-10\n",
      "Epoch 4/20\n",
      "\u001b[1m89/89\u001b[0m \u001b[32m━━━━━━━━━━━━━━━━━━━━\u001b[0m\u001b[37m\u001b[0m \u001b[1m0s\u001b[0m 2ms/step - accuracy: 1.0000 - loss: 1.0789e-10 - val_accuracy: 1.0000 - val_loss: 7.6172e-10\n",
      "Epoch 5/20\n",
      "\u001b[1m89/89\u001b[0m \u001b[32m━━━━━━━━━━━━━━━━━━━━\u001b[0m\u001b[37m\u001b[0m \u001b[1m0s\u001b[0m 2ms/step - accuracy: 1.0000 - loss: 1.0352e-11 - val_accuracy: 1.0000 - val_loss: 7.6172e-10\n",
      "Epoch 6/20\n",
      "\u001b[1m89/89\u001b[0m \u001b[32m━━━━━━━━━━━━━━━━━━━━\u001b[0m\u001b[37m\u001b[0m \u001b[1m0s\u001b[0m 2ms/step - accuracy: 1.0000 - loss: 4.7840e-11 - val_accuracy: 1.0000 - val_loss: 7.6172e-10\n",
      "Epoch 7/20\n",
      "\u001b[1m89/89\u001b[0m \u001b[32m━━━━━━━━━━━━━━━━━━━━\u001b[0m\u001b[37m\u001b[0m \u001b[1m0s\u001b[0m 2ms/step - accuracy: 1.0000 - loss: 5.4099e-11 - val_accuracy: 1.0000 - val_loss: 3.8086e-10\n",
      "Epoch 8/20\n",
      "\u001b[1m89/89\u001b[0m \u001b[32m━━━━━━━━━━━━━━━━━━━━\u001b[0m\u001b[37m\u001b[0m \u001b[1m0s\u001b[0m 2ms/step - accuracy: 1.0000 - loss: 1.0352e-11 - val_accuracy: 1.0000 - val_loss: 3.8086e-10\n",
      "Epoch 9/20\n",
      "\u001b[1m89/89\u001b[0m \u001b[32m━━━━━━━━━━━━━━━━━━━━\u001b[0m\u001b[37m\u001b[0m \u001b[1m0s\u001b[0m 2ms/step - accuracy: 1.0000 - loss: 3.5392e-11 - val_accuracy: 1.0000 - val_loss: 3.8086e-10\n",
      "Epoch 10/20\n",
      "\u001b[1m89/89\u001b[0m \u001b[32m━━━━━━━━━━━━━━━━━━━━\u001b[0m\u001b[37m\u001b[0m \u001b[1m0s\u001b[0m 2ms/step - accuracy: 1.0000 - loss: 6.1476e-11 - val_accuracy: 1.0000 - val_loss: 3.8086e-10\n",
      "Epoch 11/20\n",
      "\u001b[1m89/89\u001b[0m \u001b[32m━━━━━━━━━━━━━━━━━━━━\u001b[0m\u001b[37m\u001b[0m \u001b[1m0s\u001b[0m 2ms/step - accuracy: 1.0000 - loss: 2.4990e-11 - val_accuracy: 1.0000 - val_loss: 3.8086e-10\n",
      "Epoch 12/20\n",
      "\u001b[1m89/89\u001b[0m \u001b[32m━━━━━━━━━━━━━━━━━━━━\u001b[0m\u001b[37m\u001b[0m \u001b[1m0s\u001b[0m 2ms/step - accuracy: 1.0000 - loss: 1.4108e-12 - val_accuracy: 1.0000 - val_loss: 3.8086e-10\n",
      "Epoch 13/20\n",
      "\u001b[1m89/89\u001b[0m \u001b[32m━━━━━━━━━━━━━━━━━━━━\u001b[0m\u001b[37m\u001b[0m \u001b[1m0s\u001b[0m 2ms/step - accuracy: 1.0000 - loss: 1.9515e-11 - val_accuracy: 1.0000 - val_loss: 3.8086e-10\n",
      "Epoch 14/20\n",
      "\u001b[1m89/89\u001b[0m \u001b[32m━━━━━━━━━━━━━━━━━━━━\u001b[0m\u001b[37m\u001b[0m \u001b[1m0s\u001b[0m 2ms/step - accuracy: 1.0000 - loss: 0.0000e+00 - val_accuracy: 1.0000 - val_loss: 3.8086e-10\n",
      "Epoch 15/20\n",
      "\u001b[1m89/89\u001b[0m \u001b[32m━━━━━━━━━━━━━━━━━━━━\u001b[0m\u001b[37m\u001b[0m \u001b[1m0s\u001b[0m 2ms/step - accuracy: 1.0000 - loss: 0.0000e+00 - val_accuracy: 1.0000 - val_loss: 3.8086e-10\n",
      "Epoch 16/20\n",
      "\u001b[1m89/89\u001b[0m \u001b[32m━━━━━━━━━━━━━━━━━━━━\u001b[0m\u001b[37m\u001b[0m \u001b[1m0s\u001b[0m 2ms/step - accuracy: 1.0000 - loss: 0.0000e+00 - val_accuracy: 1.0000 - val_loss: 3.8086e-10\n",
      "Epoch 17/20\n",
      "\u001b[1m89/89\u001b[0m \u001b[32m━━━━━━━━━━━━━━━━━━━━\u001b[0m\u001b[37m\u001b[0m \u001b[1m0s\u001b[0m 2ms/step - accuracy: 1.0000 - loss: 0.0000e+00 - val_accuracy: 1.0000 - val_loss: 3.8086e-10\n",
      "Epoch 18/20\n",
      "\u001b[1m89/89\u001b[0m \u001b[32m━━━━━━━━━━━━━━━━━━━━\u001b[0m\u001b[37m\u001b[0m \u001b[1m0s\u001b[0m 2ms/step - accuracy: 1.0000 - loss: 0.0000e+00 - val_accuracy: 1.0000 - val_loss: 3.8086e-10\n",
      "Epoch 19/20\n",
      "\u001b[1m89/89\u001b[0m \u001b[32m━━━━━━━━━━━━━━━━━━━━\u001b[0m\u001b[37m\u001b[0m \u001b[1m0s\u001b[0m 2ms/step - accuracy: 1.0000 - loss: 0.0000e+00 - val_accuracy: 1.0000 - val_loss: 3.8086e-10\n",
      "Epoch 20/20\n",
      "\u001b[1m89/89\u001b[0m \u001b[32m━━━━━━━━━━━━━━━━━━━━\u001b[0m\u001b[37m\u001b[0m \u001b[1m0s\u001b[0m 2ms/step - accuracy: 1.0000 - loss: 0.0000e+00 - val_accuracy: 1.0000 - val_loss: 3.8086e-10\n"
     ]
    },
    {
     "data": {
      "text/html": [
       "<pre style=\"white-space:pre;overflow-x:auto;line-height:normal;font-family:Menlo,'DejaVu Sans Mono',consolas,'Courier New',monospace\"><span style=\"font-weight: bold\">Model: \"sequential_7\"</span>\n",
       "</pre>\n"
      ],
      "text/plain": [
       "\u001b[1mModel: \"sequential_7\"\u001b[0m\n"
      ]
     },
     "metadata": {},
     "output_type": "display_data"
    },
    {
     "data": {
      "text/html": [
       "<pre style=\"white-space:pre;overflow-x:auto;line-height:normal;font-family:Menlo,'DejaVu Sans Mono',consolas,'Courier New',monospace\">┏━━━━━━━━━━━━━━━━━━━━━━━━━━━━━━━━━━━━━━┳━━━━━━━━━━━━━━━━━━━━━━━━━━━━━┳━━━━━━━━━━━━━━━━━┓\n",
       "┃<span style=\"font-weight: bold\"> Layer (type)                         </span>┃<span style=\"font-weight: bold\"> Output Shape                </span>┃<span style=\"font-weight: bold\">         Param # </span>┃\n",
       "┡━━━━━━━━━━━━━━━━━━━━━━━━━━━━━━━━━━━━━━╇━━━━━━━━━━━━━━━━━━━━━━━━━━━━━╇━━━━━━━━━━━━━━━━━┩\n",
       "│ lstm_3 (<span style=\"color: #0087ff; text-decoration-color: #0087ff\">LSTM</span>)                        │ (<span style=\"color: #00d7ff; text-decoration-color: #00d7ff\">None</span>, <span style=\"color: #00af00; text-decoration-color: #00af00\">128</span>)                 │          <span style=\"color: #00af00; text-decoration-color: #00af00\">84,480</span> │\n",
       "├──────────────────────────────────────┼─────────────────────────────┼─────────────────┤\n",
       "│ dense_6 (<span style=\"color: #0087ff; text-decoration-color: #0087ff\">Dense</span>)                      │ (<span style=\"color: #00d7ff; text-decoration-color: #00d7ff\">None</span>, <span style=\"color: #00af00; text-decoration-color: #00af00\">128</span>)                 │          <span style=\"color: #00af00; text-decoration-color: #00af00\">16,512</span> │\n",
       "├──────────────────────────────────────┼─────────────────────────────┼─────────────────┤\n",
       "│ dense_14 (<span style=\"color: #0087ff; text-decoration-color: #0087ff\">Dense</span>)                     │ (<span style=\"color: #00d7ff; text-decoration-color: #00d7ff\">None</span>, <span style=\"color: #00af00; text-decoration-color: #00af00\">256</span>)                 │          <span style=\"color: #00af00; text-decoration-color: #00af00\">33,024</span> │\n",
       "├──────────────────────────────────────┼─────────────────────────────┼─────────────────┤\n",
       "│ dense_15 (<span style=\"color: #0087ff; text-decoration-color: #0087ff\">Dense</span>)                     │ (<span style=\"color: #00d7ff; text-decoration-color: #00d7ff\">None</span>, <span style=\"color: #00af00; text-decoration-color: #00af00\">2</span>)                   │             <span style=\"color: #00af00; text-decoration-color: #00af00\">514</span> │\n",
       "└──────────────────────────────────────┴─────────────────────────────┴─────────────────┘\n",
       "</pre>\n"
      ],
      "text/plain": [
       "┏━━━━━━━━━━━━━━━━━━━━━━━━━━━━━━━━━━━━━━┳━━━━━━━━━━━━━━━━━━━━━━━━━━━━━┳━━━━━━━━━━━━━━━━━┓\n",
       "┃\u001b[1m \u001b[0m\u001b[1mLayer (type)                        \u001b[0m\u001b[1m \u001b[0m┃\u001b[1m \u001b[0m\u001b[1mOutput Shape               \u001b[0m\u001b[1m \u001b[0m┃\u001b[1m \u001b[0m\u001b[1m        Param #\u001b[0m\u001b[1m \u001b[0m┃\n",
       "┡━━━━━━━━━━━━━━━━━━━━━━━━━━━━━━━━━━━━━━╇━━━━━━━━━━━━━━━━━━━━━━━━━━━━━╇━━━━━━━━━━━━━━━━━┩\n",
       "│ lstm_3 (\u001b[38;5;33mLSTM\u001b[0m)                        │ (\u001b[38;5;45mNone\u001b[0m, \u001b[38;5;34m128\u001b[0m)                 │          \u001b[38;5;34m84,480\u001b[0m │\n",
       "├──────────────────────────────────────┼─────────────────────────────┼─────────────────┤\n",
       "│ dense_6 (\u001b[38;5;33mDense\u001b[0m)                      │ (\u001b[38;5;45mNone\u001b[0m, \u001b[38;5;34m128\u001b[0m)                 │          \u001b[38;5;34m16,512\u001b[0m │\n",
       "├──────────────────────────────────────┼─────────────────────────────┼─────────────────┤\n",
       "│ dense_14 (\u001b[38;5;33mDense\u001b[0m)                     │ (\u001b[38;5;45mNone\u001b[0m, \u001b[38;5;34m256\u001b[0m)                 │          \u001b[38;5;34m33,024\u001b[0m │\n",
       "├──────────────────────────────────────┼─────────────────────────────┼─────────────────┤\n",
       "│ dense_15 (\u001b[38;5;33mDense\u001b[0m)                     │ (\u001b[38;5;45mNone\u001b[0m, \u001b[38;5;34m2\u001b[0m)                   │             \u001b[38;5;34m514\u001b[0m │\n",
       "└──────────────────────────────────────┴─────────────────────────────┴─────────────────┘\n"
      ]
     },
     "metadata": {},
     "output_type": "display_data"
    },
    {
     "data": {
      "text/html": [
       "<pre style=\"white-space:pre;overflow-x:auto;line-height:normal;font-family:Menlo,'DejaVu Sans Mono',consolas,'Courier New',monospace\"><span style=\"font-weight: bold\"> Total params: </span><span style=\"color: #00af00; text-decoration-color: #00af00\">403,592</span> (1.54 MB)\n",
       "</pre>\n"
      ],
      "text/plain": [
       "\u001b[1m Total params: \u001b[0m\u001b[38;5;34m403,592\u001b[0m (1.54 MB)\n"
      ]
     },
     "metadata": {},
     "output_type": "display_data"
    },
    {
     "data": {
      "text/html": [
       "<pre style=\"white-space:pre;overflow-x:auto;line-height:normal;font-family:Menlo,'DejaVu Sans Mono',consolas,'Courier New',monospace\"><span style=\"font-weight: bold\"> Trainable params: </span><span style=\"color: #00af00; text-decoration-color: #00af00\">134,530</span> (525.51 KB)\n",
       "</pre>\n"
      ],
      "text/plain": [
       "\u001b[1m Trainable params: \u001b[0m\u001b[38;5;34m134,530\u001b[0m (525.51 KB)\n"
      ]
     },
     "metadata": {},
     "output_type": "display_data"
    },
    {
     "data": {
      "text/html": [
       "<pre style=\"white-space:pre;overflow-x:auto;line-height:normal;font-family:Menlo,'DejaVu Sans Mono',consolas,'Courier New',monospace\"><span style=\"font-weight: bold\"> Non-trainable params: </span><span style=\"color: #00af00; text-decoration-color: #00af00\">0</span> (0.00 B)\n",
       "</pre>\n"
      ],
      "text/plain": [
       "\u001b[1m Non-trainable params: \u001b[0m\u001b[38;5;34m0\u001b[0m (0.00 B)\n"
      ]
     },
     "metadata": {},
     "output_type": "display_data"
    },
    {
     "data": {
      "text/html": [
       "<pre style=\"white-space:pre;overflow-x:auto;line-height:normal;font-family:Menlo,'DejaVu Sans Mono',consolas,'Courier New',monospace\"><span style=\"font-weight: bold\"> Optimizer params: </span><span style=\"color: #00af00; text-decoration-color: #00af00\">269,062</span> (1.03 MB)\n",
       "</pre>\n"
      ],
      "text/plain": [
       "\u001b[1m Optimizer params: \u001b[0m\u001b[38;5;34m269,062\u001b[0m (1.03 MB)\n"
      ]
     },
     "metadata": {},
     "output_type": "display_data"
    }
   ],
   "source": [
    "history3 = new_model.fit(X_train_seq, y_train_seq, epochs = 20, batch_size = 32, validation_split = 0.1, shuffle = True)\n",
    "\n",
    "new_model.summary()"
   ]
  },
  {
   "cell_type": "code",
   "execution_count": 390,
   "id": "73040c47-c061-42f6-a708-0e8773eb9115",
   "metadata": {},
   "outputs": [
    {
     "name": "stdout",
     "output_type": "stream",
     "text": [
      "\u001b[1m33/33\u001b[0m \u001b[32m━━━━━━━━━━━━━━━━━━━━\u001b[0m\u001b[37m\u001b[0m \u001b[1m0s\u001b[0m 1ms/step - accuracy: 1.0000 - loss: 0.0000e+00 \n"
     ]
    },
    {
     "data": {
      "text/plain": [
       "[0.0, 1.0]"
      ]
     },
     "execution_count": 390,
     "metadata": {},
     "output_type": "execute_result"
    }
   ],
   "source": [
    "new_model.evaluate(X_test_seq, y_test_seq)"
   ]
  }
 ],
 "metadata": {
  "kernelspec": {
   "display_name": "Python 3 (ipykernel)",
   "language": "python",
   "name": "python3"
  },
  "language_info": {
   "codemirror_mode": {
    "name": "ipython",
    "version": 3
   },
   "file_extension": ".py",
   "mimetype": "text/x-python",
   "name": "python",
   "nbconvert_exporter": "python",
   "pygments_lexer": "ipython3",
   "version": "3.12.4"
  }
 },
 "nbformat": 4,
 "nbformat_minor": 5
}
=======
{
 "cells": [
  {
   "cell_type": "code",
   "execution_count": 15,
   "id": "96c2214f-9700-4745-964c-38409be1ebf5",
   "metadata": {},
   "outputs": [],
   "source": [
    "import pandas as pd\n",
    "from sklearn.model_selection import StratifiedShuffleSplit\n",
    "from scipy.stats import skew\n",
    "import os\n",
    "import csv\n",
    "import pandas as pd\n",
    "from tqdm import tqdm"
   ]
  },
  {
   "cell_type": "code",
   "execution_count": 23,
   "id": "14ca5cc4-5a4b-4993-9f9c-1444d7c33f44",
   "metadata": {},
   "outputs": [
    {
     "data": {
      "text/html": [
       "<div>\n",
       "<style scoped>\n",
       "    .dataframe tbody tr th:only-of-type {\n",
       "        vertical-align: middle;\n",
       "    }\n",
       "\n",
       "    .dataframe tbody tr th {\n",
       "        vertical-align: top;\n",
       "    }\n",
       "\n",
       "    .dataframe thead th {\n",
       "        text-align: right;\n",
       "    }\n",
       "</style>\n",
       "<table border=\"1\" class=\"dataframe\">\n",
       "  <thead>\n",
       "    <tr style=\"text-align: right;\">\n",
       "      <th></th>\n",
       "      <th>id</th>\n",
       "      <th>Sex</th>\n",
       "      <th>Length</th>\n",
       "      <th>Diameter</th>\n",
       "      <th>Height</th>\n",
       "      <th>Whole_weight</th>\n",
       "      <th>Shucked_weight</th>\n",
       "      <th>Viscera_weight</th>\n",
       "      <th>Shell_weight</th>\n",
       "      <th>Rings</th>\n",
       "    </tr>\n",
       "  </thead>\n",
       "  <tbody>\n",
       "    <tr>\n",
       "      <th>0</th>\n",
       "      <td>0</td>\n",
       "      <td>M</td>\n",
       "      <td>0.455</td>\n",
       "      <td>0.365</td>\n",
       "      <td>0.095</td>\n",
       "      <td>0.5140</td>\n",
       "      <td>0.2245</td>\n",
       "      <td>0.1010</td>\n",
       "      <td>0.1500</td>\n",
       "      <td>15</td>\n",
       "    </tr>\n",
       "    <tr>\n",
       "      <th>1</th>\n",
       "      <td>1</td>\n",
       "      <td>M</td>\n",
       "      <td>0.350</td>\n",
       "      <td>0.265</td>\n",
       "      <td>0.090</td>\n",
       "      <td>0.2255</td>\n",
       "      <td>0.0995</td>\n",
       "      <td>0.0485</td>\n",
       "      <td>0.0700</td>\n",
       "      <td>7</td>\n",
       "    </tr>\n",
       "    <tr>\n",
       "      <th>2</th>\n",
       "      <td>2</td>\n",
       "      <td>F</td>\n",
       "      <td>0.530</td>\n",
       "      <td>0.420</td>\n",
       "      <td>0.135</td>\n",
       "      <td>0.6770</td>\n",
       "      <td>0.2565</td>\n",
       "      <td>0.1415</td>\n",
       "      <td>0.2100</td>\n",
       "      <td>9</td>\n",
       "    </tr>\n",
       "    <tr>\n",
       "      <th>3</th>\n",
       "      <td>3</td>\n",
       "      <td>M</td>\n",
       "      <td>0.440</td>\n",
       "      <td>0.365</td>\n",
       "      <td>0.125</td>\n",
       "      <td>0.5160</td>\n",
       "      <td>0.2155</td>\n",
       "      <td>0.1140</td>\n",
       "      <td>0.1550</td>\n",
       "      <td>10</td>\n",
       "    </tr>\n",
       "    <tr>\n",
       "      <th>4</th>\n",
       "      <td>4</td>\n",
       "      <td>I</td>\n",
       "      <td>0.330</td>\n",
       "      <td>0.255</td>\n",
       "      <td>0.080</td>\n",
       "      <td>0.2050</td>\n",
       "      <td>0.0895</td>\n",
       "      <td>0.0395</td>\n",
       "      <td>0.0550</td>\n",
       "      <td>7</td>\n",
       "    </tr>\n",
       "    <tr>\n",
       "      <th>...</th>\n",
       "      <td>...</td>\n",
       "      <td>...</td>\n",
       "      <td>...</td>\n",
       "      <td>...</td>\n",
       "      <td>...</td>\n",
       "      <td>...</td>\n",
       "      <td>...</td>\n",
       "      <td>...</td>\n",
       "      <td>...</td>\n",
       "      <td>...</td>\n",
       "    </tr>\n",
       "    <tr>\n",
       "      <th>4172</th>\n",
       "      <td>4172</td>\n",
       "      <td>F</td>\n",
       "      <td>0.565</td>\n",
       "      <td>0.450</td>\n",
       "      <td>0.165</td>\n",
       "      <td>0.8870</td>\n",
       "      <td>0.3700</td>\n",
       "      <td>0.2390</td>\n",
       "      <td>0.2490</td>\n",
       "      <td>11</td>\n",
       "    </tr>\n",
       "    <tr>\n",
       "      <th>4173</th>\n",
       "      <td>4173</td>\n",
       "      <td>M</td>\n",
       "      <td>0.590</td>\n",
       "      <td>0.440</td>\n",
       "      <td>0.135</td>\n",
       "      <td>0.9660</td>\n",
       "      <td>0.4390</td>\n",
       "      <td>0.2145</td>\n",
       "      <td>0.2605</td>\n",
       "      <td>10</td>\n",
       "    </tr>\n",
       "    <tr>\n",
       "      <th>4174</th>\n",
       "      <td>4174</td>\n",
       "      <td>M</td>\n",
       "      <td>0.600</td>\n",
       "      <td>0.475</td>\n",
       "      <td>0.205</td>\n",
       "      <td>1.1760</td>\n",
       "      <td>0.5255</td>\n",
       "      <td>0.2875</td>\n",
       "      <td>0.3080</td>\n",
       "      <td>9</td>\n",
       "    </tr>\n",
       "    <tr>\n",
       "      <th>4175</th>\n",
       "      <td>4175</td>\n",
       "      <td>F</td>\n",
       "      <td>0.625</td>\n",
       "      <td>0.485</td>\n",
       "      <td>0.150</td>\n",
       "      <td>1.0945</td>\n",
       "      <td>0.5310</td>\n",
       "      <td>0.2610</td>\n",
       "      <td>0.2960</td>\n",
       "      <td>10</td>\n",
       "    </tr>\n",
       "    <tr>\n",
       "      <th>4176</th>\n",
       "      <td>4176</td>\n",
       "      <td>M</td>\n",
       "      <td>0.710</td>\n",
       "      <td>0.555</td>\n",
       "      <td>0.195</td>\n",
       "      <td>1.9485</td>\n",
       "      <td>0.9455</td>\n",
       "      <td>0.3765</td>\n",
       "      <td>0.4950</td>\n",
       "      <td>12</td>\n",
       "    </tr>\n",
       "  </tbody>\n",
       "</table>\n",
       "<p>4177 rows × 10 columns</p>\n",
       "</div>"
      ],
      "text/plain": [
       "        id Sex  Length  Diameter  Height  Whole_weight  Shucked_weight  \\\n",
       "0        0   M   0.455     0.365   0.095        0.5140          0.2245   \n",
       "1        1   M   0.350     0.265   0.090        0.2255          0.0995   \n",
       "2        2   F   0.530     0.420   0.135        0.6770          0.2565   \n",
       "3        3   M   0.440     0.365   0.125        0.5160          0.2155   \n",
       "4        4   I   0.330     0.255   0.080        0.2050          0.0895   \n",
       "...    ...  ..     ...       ...     ...           ...             ...   \n",
       "4172  4172   F   0.565     0.450   0.165        0.8870          0.3700   \n",
       "4173  4173   M   0.590     0.440   0.135        0.9660          0.4390   \n",
       "4174  4174   M   0.600     0.475   0.205        1.1760          0.5255   \n",
       "4175  4175   F   0.625     0.485   0.150        1.0945          0.5310   \n",
       "4176  4176   M   0.710     0.555   0.195        1.9485          0.9455   \n",
       "\n",
       "      Viscera_weight  Shell_weight  Rings  \n",
       "0             0.1010        0.1500     15  \n",
       "1             0.0485        0.0700      7  \n",
       "2             0.1415        0.2100      9  \n",
       "3             0.1140        0.1550     10  \n",
       "4             0.0395        0.0550      7  \n",
       "...              ...           ...    ...  \n",
       "4172          0.2390        0.2490     11  \n",
       "4173          0.2145        0.2605     10  \n",
       "4174          0.2875        0.3080      9  \n",
       "4175          0.2610        0.2960     10  \n",
       "4176          0.3765        0.4950     12  \n",
       "\n",
       "[4177 rows x 10 columns]"
      ]
     },
     "execution_count": 23,
     "metadata": {},
     "output_type": "execute_result"
    }
   ],
   "source": [
    "df = pd.read_csv(\"C:/Users/wjdwl/Desktop/Data/abalone.csv\")\n",
    "df"
   ]
  },
  {
   "cell_type": "code",
   "execution_count": 27,
   "id": "7b8f66ec-02bb-4247-9324-3c2001edc0a5",
   "metadata": {},
   "outputs": [
    {
     "data": {
      "text/plain": [
       "Index(['id', 'Sex', 'Length', 'Diameter', 'Height', 'Whole_weight',\n",
       "       'Shucked_weight', 'Viscera_weight', 'Shell_weight', 'Rings'],\n",
       "      dtype='object')"
      ]
     },
     "execution_count": 27,
     "metadata": {},
     "output_type": "execute_result"
    }
   ],
   "source": [
    "df.columns"
   ]
  },
  {
   "cell_type": "code",
   "execution_count": 29,
   "id": "552d9ef7-be61-4f41-b6ed-3e1110d826c6",
   "metadata": {},
   "outputs": [
    {
     "data": {
      "text/plain": [
       "Rings\n",
       "9     689\n",
       "10    634\n",
       "8     568\n",
       "11    487\n",
       "7     391\n",
       "12    267\n",
       "6     259\n",
       "13    203\n",
       "14    126\n",
       "5     115\n",
       "15    103\n",
       "16     67\n",
       "17     58\n",
       "4      57\n",
       "18     42\n",
       "19     32\n",
       "20     26\n",
       "3      15\n",
       "21     14\n",
       "23      9\n",
       "22      6\n",
       "27      2\n",
       "24      2\n",
       "1       1\n",
       "26      1\n",
       "29      1\n",
       "2       1\n",
       "25      1\n",
       "Name: count, dtype: int64"
      ]
     },
     "execution_count": 29,
     "metadata": {},
     "output_type": "execute_result"
    }
   ],
   "source": [
    "df['Rings'].value_counts()"
   ]
  },
  {
   "cell_type": "code",
   "execution_count": 72,
   "id": "fbe1ac9c-0bdb-42bc-83de-95d5349308cc",
   "metadata": {},
   "outputs": [
    {
     "data": {
      "text/plain": [
       "Text(0, 0.5, 'Count')"
      ]
     },
     "execution_count": 72,
     "metadata": {},
     "output_type": "execute_result"
    },
    {
     "data": {
      "image/png": "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",
      "text/plain": [
       "<Figure size 640x480 with 1 Axes>"
      ]
     },
     "metadata": {},
     "output_type": "display_data"
    }
   ],
   "source": [
    "import pandas as pd\n",
    "import matplotlib.pyplot as plt\n",
    "\n",
    "# 레이블별 갯수 확인\n",
    "label_counts = df['Rings'].value_counts()\n",
    "\n",
    "# 바 그래프 그리기\n",
    "label_counts.plot(kind='bar')\n",
    "\n",
    "# 그래프 제목 및 라벨 설정\n",
    "plt.title('Rings')\n",
    "plt.xlabel('Rings')\n",
    "plt.ylabel('Count')"
   ]
  },
  {
   "cell_type": "code",
   "execution_count": 74,
   "id": "9ed41f08-bde6-475d-b63d-d6e3822679bf",
   "metadata": {},
   "outputs": [],
   "source": [
    "\n",
    "from sklearn.preprocessing import LabelEncoder\n",
    "\n",
    "# LabelEncoder 객체 생성\n",
    "label_encoder = LabelEncoder()\n",
    "\n",
    "# 'label' 컬럼을 숫자로 변환\n",
    "df['Sex'] = label_encoder.fit_transform(df['Sex'])\n",
    "\n",
    "# LabelEncoder 객체 생성\n",
    "label_encoder = LabelEncoder()\n",
    "# 'label' 컬럼을 숫자로 변환\n",
    "df['Sex'] = label_encoder.fit_transform(df['Sex'])"
   ]
  },
  {
   "cell_type": "code",
   "execution_count": 76,
   "id": "e8861ff7-1bcc-45f9-b5d2-8b1bccadf282",
   "metadata": {},
   "outputs": [
    {
     "data": {
      "text/plain": [
       "Rings\n",
       "9     689\n",
       "10    634\n",
       "8     568\n",
       "11    487\n",
       "7     391\n",
       "12    267\n",
       "6     259\n",
       "13    203\n",
       "14    126\n",
       "5     115\n",
       "15    103\n",
       "16     67\n",
       "17     58\n",
       "4      57\n",
       "18     42\n",
       "19     32\n",
       "20     26\n",
       "3      15\n",
       "21     14\n",
       "23      9\n",
       "22      6\n",
       "27      2\n",
       "24      2\n",
       "1       1\n",
       "26      1\n",
       "29      1\n",
       "2       1\n",
       "25      1\n",
       "Name: count, dtype: int64"
      ]
     },
     "execution_count": 76,
     "metadata": {},
     "output_type": "execute_result"
    }
   ],
   "source": [
    "df['Rings'].value_counts()"
   ]
  },
  {
   "cell_type": "code",
   "execution_count": 78,
   "id": "2300932b-4927-4519-ba55-62f6812ed229",
   "metadata": {},
   "outputs": [
    {
     "data": {
      "text/html": [
       "<div>\n",
       "<style scoped>\n",
       "    .dataframe tbody tr th:only-of-type {\n",
       "        vertical-align: middle;\n",
       "    }\n",
       "\n",
       "    .dataframe tbody tr th {\n",
       "        vertical-align: top;\n",
       "    }\n",
       "\n",
       "    .dataframe thead th {\n",
       "        text-align: right;\n",
       "    }\n",
       "</style>\n",
       "<table border=\"1\" class=\"dataframe\">\n",
       "  <thead>\n",
       "    <tr style=\"text-align: right;\">\n",
       "      <th></th>\n",
       "      <th>id</th>\n",
       "      <th>Sex</th>\n",
       "      <th>Length</th>\n",
       "      <th>Diameter</th>\n",
       "      <th>Height</th>\n",
       "      <th>Whole_weight</th>\n",
       "      <th>Shucked_weight</th>\n",
       "      <th>Viscera_weight</th>\n",
       "      <th>Shell_weight</th>\n",
       "    </tr>\n",
       "  </thead>\n",
       "  <tbody>\n",
       "    <tr>\n",
       "      <th>0</th>\n",
       "      <td>0</td>\n",
       "      <td>2</td>\n",
       "      <td>0.455</td>\n",
       "      <td>0.365</td>\n",
       "      <td>0.095</td>\n",
       "      <td>0.5140</td>\n",
       "      <td>0.2245</td>\n",
       "      <td>0.1010</td>\n",
       "      <td>0.150</td>\n",
       "    </tr>\n",
       "    <tr>\n",
       "      <th>1</th>\n",
       "      <td>1</td>\n",
       "      <td>2</td>\n",
       "      <td>0.350</td>\n",
       "      <td>0.265</td>\n",
       "      <td>0.090</td>\n",
       "      <td>0.2255</td>\n",
       "      <td>0.0995</td>\n",
       "      <td>0.0485</td>\n",
       "      <td>0.070</td>\n",
       "    </tr>\n",
       "    <tr>\n",
       "      <th>2</th>\n",
       "      <td>2</td>\n",
       "      <td>0</td>\n",
       "      <td>0.530</td>\n",
       "      <td>0.420</td>\n",
       "      <td>0.135</td>\n",
       "      <td>0.6770</td>\n",
       "      <td>0.2565</td>\n",
       "      <td>0.1415</td>\n",
       "      <td>0.210</td>\n",
       "    </tr>\n",
       "    <tr>\n",
       "      <th>3</th>\n",
       "      <td>3</td>\n",
       "      <td>2</td>\n",
       "      <td>0.440</td>\n",
       "      <td>0.365</td>\n",
       "      <td>0.125</td>\n",
       "      <td>0.5160</td>\n",
       "      <td>0.2155</td>\n",
       "      <td>0.1140</td>\n",
       "      <td>0.155</td>\n",
       "    </tr>\n",
       "    <tr>\n",
       "      <th>4</th>\n",
       "      <td>4</td>\n",
       "      <td>1</td>\n",
       "      <td>0.330</td>\n",
       "      <td>0.255</td>\n",
       "      <td>0.080</td>\n",
       "      <td>0.2050</td>\n",
       "      <td>0.0895</td>\n",
       "      <td>0.0395</td>\n",
       "      <td>0.055</td>\n",
       "    </tr>\n",
       "  </tbody>\n",
       "</table>\n",
       "</div>"
      ],
      "text/plain": [
       "   id  Sex  Length  Diameter  Height  Whole_weight  Shucked_weight  \\\n",
       "0   0    2   0.455     0.365   0.095        0.5140          0.2245   \n",
       "1   1    2   0.350     0.265   0.090        0.2255          0.0995   \n",
       "2   2    0   0.530     0.420   0.135        0.6770          0.2565   \n",
       "3   3    2   0.440     0.365   0.125        0.5160          0.2155   \n",
       "4   4    1   0.330     0.255   0.080        0.2050          0.0895   \n",
       "\n",
       "   Viscera_weight  Shell_weight  \n",
       "0          0.1010         0.150  \n",
       "1          0.0485         0.070  \n",
       "2          0.1415         0.210  \n",
       "3          0.1140         0.155  \n",
       "4          0.0395         0.055  "
      ]
     },
     "execution_count": 78,
     "metadata": {},
     "output_type": "execute_result"
    }
   ],
   "source": [
    "X=df.drop('Rings',axis=1)\n",
    "X.head()"
   ]
  },
  {
   "cell_type": "code",
   "execution_count": 79,
   "id": "45c3cb86-8d17-4f9b-acb7-bb6cb70ddd5a",
   "metadata": {},
   "outputs": [
    {
     "data": {
      "text/plain": [
       "Rings\n",
       "9     689\n",
       "10    634\n",
       "8     568\n",
       "11    487\n",
       "7     391\n",
       "12    267\n",
       "6     259\n",
       "13    203\n",
       "14    126\n",
       "5     115\n",
       "15    103\n",
       "16     67\n",
       "17     58\n",
       "4      57\n",
       "18     42\n",
       "19     32\n",
       "20     26\n",
       "3      15\n",
       "21     14\n",
       "23      9\n",
       "22      6\n",
       "27      2\n",
       "24      2\n",
       "1       1\n",
       "26      1\n",
       "29      1\n",
       "2       1\n",
       "25      1\n",
       "Name: count, dtype: int64"
      ]
     },
     "execution_count": 79,
     "metadata": {},
     "output_type": "execute_result"
    }
   ],
   "source": [
    "y=df['Rings']\n",
    "y.value_counts()"
   ]
  },
  {
   "cell_type": "code",
   "execution_count": 82,
   "id": "6b3dbbc1-277f-4801-a5f2-1c5d600f61f2",
   "metadata": {},
   "outputs": [
    {
     "data": {
      "text/plain": [
       "0    15\n",
       "1     7\n",
       "2     9\n",
       "3    10\n",
       "4     7\n",
       "Name: Rings, dtype: int64"
      ]
     },
     "execution_count": 82,
     "metadata": {},
     "output_type": "execute_result"
    }
   ],
   "source": [
    "y.head()"
   ]
  },
  {
   "cell_type": "code",
   "execution_count": 83,
   "id": "800c0309-071e-4412-b8cd-cda93bb26c28",
   "metadata": {},
   "outputs": [],
   "source": [
    "Y = pd.get_dummies(y).values\n"
   ]
  },
  {
   "cell_type": "code",
   "execution_count": 84,
   "id": "5cd247d9-9f0e-48be-a398-bde08e000da6",
   "metadata": {},
   "outputs": [],
   "source": [
    "X = X.values\n"
   ]
  },
  {
   "cell_type": "code",
   "execution_count": 88,
   "id": "6d4faabc-a655-4f69-98d8-b82d9f0f185a",
   "metadata": {},
   "outputs": [
    {
     "data": {
      "text/plain": [
       "array([[0.000e+00, 2.000e+00, 4.550e-01, ..., 2.245e-01, 1.010e-01,\n",
       "        1.500e-01],\n",
       "       [1.000e+00, 2.000e+00, 3.500e-01, ..., 9.950e-02, 4.850e-02,\n",
       "        7.000e-02],\n",
       "       [2.000e+00, 0.000e+00, 5.300e-01, ..., 2.565e-01, 1.415e-01,\n",
       "        2.100e-01],\n",
       "       ...,\n",
       "       [4.174e+03, 2.000e+00, 6.000e-01, ..., 5.255e-01, 2.875e-01,\n",
       "        3.080e-01],\n",
       "       [4.175e+03, 0.000e+00, 6.250e-01, ..., 5.310e-01, 2.610e-01,\n",
       "        2.960e-01],\n",
       "       [4.176e+03, 2.000e+00, 7.100e-01, ..., 9.455e-01, 3.765e-01,\n",
       "        4.950e-01]])"
      ]
     },
     "execution_count": 88,
     "metadata": {},
     "output_type": "execute_result"
    }
   ],
   "source": [
    "X"
   ]
  },
  {
   "cell_type": "code",
   "execution_count": 89,
   "id": "f6e15b98-38ff-4c6d-99e0-775d04b88c8a",
   "metadata": {},
   "outputs": [
    {
     "data": {
      "text/plain": [
       "0       15\n",
       "1        7\n",
       "2        9\n",
       "3       10\n",
       "4        7\n",
       "        ..\n",
       "4172    11\n",
       "4173    10\n",
       "4174     9\n",
       "4175    10\n",
       "4176    12\n",
       "Name: Rings, Length: 4177, dtype: int64"
      ]
     },
     "execution_count": 89,
     "metadata": {},
     "output_type": "execute_result"
    }
   ],
   "source": [
    "y"
   ]
  },
  {
   "cell_type": "code",
   "execution_count": 267,
   "id": "e8fc6856-8322-4ec4-9374-c13e0e18ca2b",
   "metadata": {},
   "outputs": [
    {
     "data": {
      "text/plain": [
       "((3132, 9), (1045, 9), (3132, 28), (1045, 28))"
      ]
     },
     "execution_count": 267,
     "metadata": {},
     "output_type": "execute_result"
    }
   ],
   "source": [
    "X_train.shape, X_test.shape, y_train.shape, y_test.shape"
   ]
  },
  {
   "cell_type": "code",
   "execution_count": 269,
   "id": "1f4bf6de-bf78-4049-9169-b72f590bf445",
   "metadata": {},
   "outputs": [],
   "source": [
    "from keras.utils import to_categorical\n",
    "y_train_seq = to_categorical(y_train_seq)"
   ]
  },
  {
   "cell_type": "code",
   "execution_count": 271,
   "id": "0791220a-6666-4aca-96c2-361155d8d5e6",
   "metadata": {},
   "outputs": [],
   "source": [
    "from sklearn.model_selection import train_test_split\n",
    "X_train, X_test, y_train, y_test = train_test_split(X,Y,test_size=0.2,random_state=0) "
   ]
  },
  {
   "cell_type": "code",
   "execution_count": 273,
   "id": "b4f13312-f819-47f7-9500-f8cbf2f2fff1",
   "metadata": {},
   "outputs": [],
   "source": [
    "\n",
    "from sklearn.model_selection import train_test_split\n",
    "\n",
    "X_train, X_test, y_train, y_test = train_test_split(X, \n",
    "                                                    Y,\n",
    "                                                    test_size = 0.25, \n",
    "                                                    random_state = 21)"
   ]
  },
  {
   "cell_type": "code",
   "execution_count": 275,
   "id": "040b851c-3efe-4918-8fe9-76af8c42e3af",
   "metadata": {},
   "outputs": [],
   "source": [
    "from collections import Counter\n",
    "import numpy as np\n",
    "\n",
    "def split_sequences(sequences, n_steps):\n",
    "    X, y = list(), list()  # 빈 리스트를 생성하여 시퀀스 데이터와 레이블을 담을 공간을 만듦\n",
    "    for i in range(len(sequences)):  # 전체 시퀀스 데이터를 순회\n",
    "        # find the end of this pattern\n",
    "        end_ix = i + n_steps  # 현재 인덱스(i)에서 n_steps만큼 떨어진 시퀀스의 끝을 계산\n",
    "        # check if we are beyond the dataset\n",
    "        if end_ix > len(sequences):  # 시퀀스 끝이 데이터의 범위를 넘어서는지 확인\n",
    "            break  # 범위를 넘으면 루프 종료\n",
    "        # gather input (X) and output parts (y)\n",
    "        seq_x = sequences[i:end_ix, :-1]  # 입력 데이터 (특징 데이터)\n",
    "        seq_y_values = sequences[i:end_ix, -1]  # 시퀀스 동안의 출력 데이터 (레이블들)\n",
    "        \n",
    "        # 가장 빈번하게 나온 레이블 찾기\n",
    "        most_common_label = Counter(seq_y_values).most_common(1)[0][0]\n",
    "        \n",
    "        X.append(seq_x)  # 입력 데이터 추가\n",
    "        y.append(most_common_label)  # 가장 많이 나온 레이블 추가\n",
    "    \n",
    "    return np.array(X), np.array(y)  # 리스트를 numpy 배열로 변환하여 반환"
   ]
  },
  {
   "cell_type": "code",
   "execution_count": 277,
   "id": "8dc02839-f85d-4806-890a-f27795093b04",
   "metadata": {},
   "outputs": [],
   "source": [
    "# Merge train and test X/y data to apply sequence transformation function\n",
    "y_train_array = np.array(y_train)\n",
    "train_set = np.c_[X_train, y_train_array]\n",
    "\n",
    "y_test_array = np.array(y_test)\n",
    "test_set = np.c_[X_test, y_test_array]"
   ]
  },
  {
   "cell_type": "code",
   "execution_count": 279,
   "id": "d47620e8-799f-4629-97b1-4a8b7002fe71",
   "metadata": {},
   "outputs": [
    {
     "name": "stdout",
     "output_type": "stream",
     "text": [
      "(3130, 3, 36) (3130,)\n",
      "(1043, 3, 36) (1043,)\n"
     ]
    }
   ],
   "source": [
    "n_step = 3 \n",
    "\n",
    "X_train_seq, y_train_seq = split_sequences(train_set, n_step)\n",
    "print(X_train_seq.shape, y_train_seq.shape)\n",
    "\n",
    "X_test_seq, y_test_seq = split_sequences(test_set, n_step)\n",
    "print(X_test_seq.shape, y_test_seq.shape)"
   ]
  },
  {
   "cell_type": "code",
   "execution_count": 281,
   "id": "34784a83-2392-4830-b41a-ed179e11a658",
   "metadata": {},
   "outputs": [],
   "source": [
    "# Merge train and test X/y data to apply sequence transformation function\n",
    "y_train_array = np.array(y_train)\n",
    "train_set = np.c_[X_train, y_train_array]\n",
    "\n",
    "y_test_array = np.array(y_test)\n",
    "test_set = np.c_[X_test, y_test_array]"
   ]
  },
  {
   "cell_type": "code",
   "execution_count": 283,
   "id": "0b45d234-ccfd-4b4d-92e6-063c77a1eb5f",
   "metadata": {},
   "outputs": [
    {
     "name": "stdout",
     "output_type": "stream",
     "text": [
      "(3130, 3, 36) (3130,)\n",
      "(1043, 3, 36) (1043,)\n"
     ]
    }
   ],
   "source": [
    "n_step = 3 \n",
    "\n",
    "X_train_seq, y_train_seq = split_sequences(train_set, n_step)\n",
    "print(X_train_seq.shape, y_train_seq.shape)\n",
    "\n",
    "X_test_seq, y_test_seq = split_sequences(test_set, n_step)\n",
    "print(X_test_seq.shape, y_test_seq.shape)"
   ]
  },
  {
   "cell_type": "code",
   "execution_count": 285,
   "id": "18f661b4-0a92-46c5-a6d4-e5756432a852",
   "metadata": {},
   "outputs": [
    {
     "name": "stdout",
     "output_type": "stream",
     "text": [
      "(3130, 1)\n",
      "(1043, 1)\n"
     ]
    }
   ],
   "source": [
    "from keras.utils import to_categorical\n",
    "\n",
    "# Convert output variables to categorical for CNN\n",
    "y_train_seq = to_categorical(y_train_seq)\n",
    "print(y_train_seq.shape)\n",
    "\n",
    "y_test_seq = to_categorical(y_test_seq)\n",
    "print(y_test_seq.shape)"
   ]
  },
  {
   "cell_type": "code",
   "execution_count": 287,
   "id": "17d2f613-e135-4003-955f-5039a4617ea6",
   "metadata": {},
   "outputs": [
    {
     "name": "stdout",
     "output_type": "stream",
     "text": [
      "(3130, 2)\n",
      "(1043, 2)\n"
     ]
    }
   ],
   "source": [
    "# Convert output variables to categorical for CNN\n",
    "y_train_seq = to_categorical(y_train_seq)\n",
    "print(y_train_seq.shape)\n",
    "\n",
    "y_test_seq = to_categorical(y_test_seq)\n",
    "print(y_test_seq.shape)"
   ]
  },
  {
   "cell_type": "code",
   "execution_count": 289,
   "id": "b437daff-e0a6-4d77-87db-a83f13838d6b",
   "metadata": {},
   "outputs": [
    {
     "name": "stdout",
     "output_type": "stream",
     "text": [
      "3 36 2\n"
     ]
    }
   ],
   "source": [
    "# Produce variables for CNN input/output shape\n",
    "n_timesteps, n_features, n_outputs = X_train_seq.shape[1], X_train_seq.shape[2], y_train_seq.shape[1]\n",
    "print(n_timesteps, n_features, n_outputs)"
   ]
  },
  {
   "cell_type": "code",
   "execution_count": 291,
   "id": "e65ebfab-5f92-40a3-bd2c-356c1fe3fc1b",
   "metadata": {},
   "outputs": [],
   "source": [
    "\n",
    "import tensorflow as tf\n",
    "from tensorflow import keras\n",
    "from tensorflow.keras import layers\n",
    "\n",
    "# cnn model vary kernel size\n",
    "from numpy import mean\n",
    "from numpy import std\n",
    "from numpy import dstack\n",
    "from pandas import read_csv\n",
    "from matplotlib import pyplot\n",
    "from tensorflow.keras.models import Sequential\n",
    "from tensorflow.keras.layers import Dense\n",
    "from tensorflow.keras.layers import Flatten\n",
    "from tensorflow.keras.layers import Dropout\n",
    "from keras.utils import to_categorical\n",
    "\n",
    "import tensorflow.keras\n",
    "from tensorflow.keras.models import Sequential\n",
    "from tensorflow.keras.layers import Dense, Dropout, Flatten, Reshape, LSTM, Conv1D, MaxPooling1D\n",
    "from tensorflow.keras.layers import TimeDistributed, Conv1D, MaxPooling1D"
   ]
  },
  {
   "cell_type": "code",
   "execution_count": 293,
   "id": "59a722b4-d5d6-4af9-987d-26b4d3566ef1",
   "metadata": {},
   "outputs": [
    {
     "name": "stderr",
     "output_type": "stream",
     "text": [
      "C:\\Users\\wjdwl\\anaconda3\\Lib\\site-packages\\keras\\src\\layers\\rnn\\rnn.py:204: UserWarning: Do not pass an `input_shape`/`input_dim` argument to a layer. When using Sequential models, prefer using an `Input(shape)` object as the first layer in the model instead.\n",
      "  super().__init__(**kwargs)\n"
     ]
    }
   ],
   "source": [
    "# Build CNN model using keras. For model building suggestions, referenced:\n",
    "# https://machinelearningmastery.com/deep-learning-models-for-human-activity-recognition/\n",
    "# https://machinelearningmastery.com/how-to-choose-loss-functions-when-training-deep-learning-neural-networks/\n",
    "# https://machinelearningmastery.com/how-to-develop-convolutional-neural-network-models-for-time-series-forecasting/\n",
    "\n",
    "# Sequential model type\n",
    "model = Sequential()\n",
    "model.add(LSTM(units=128, input_shape = (n_timesteps,n_features,)))\n",
    "model.add(Dense(128, activation='relu'))\n",
    "model.add(Dense(n_outputs, activation='softmax'))\n",
    "model.compile(optimizer='adam', metrics=['accuracy'], loss='categorical_crossentropy')"
   ]
  },
  {
   "cell_type": "code",
   "execution_count": 295,
   "id": "a649c5fe-3df7-4cd8-937c-26d83965d1db",
   "metadata": {},
   "outputs": [
    {
     "data": {
      "text/html": [
       "<pre style=\"white-space:pre;overflow-x:auto;line-height:normal;font-family:Menlo,'DejaVu Sans Mono',consolas,'Courier New',monospace\"><span style=\"font-weight: bold\">Model: \"sequential_3\"</span>\n",
       "</pre>\n"
      ],
      "text/plain": [
       "\u001b[1mModel: \"sequential_3\"\u001b[0m\n"
      ]
     },
     "metadata": {},
     "output_type": "display_data"
    },
    {
     "data": {
      "text/html": [
       "<pre style=\"white-space:pre;overflow-x:auto;line-height:normal;font-family:Menlo,'DejaVu Sans Mono',consolas,'Courier New',monospace\">┏━━━━━━━━━━━━━━━━━━━━━━━━━━━━━━━━━━━━━━┳━━━━━━━━━━━━━━━━━━━━━━━━━━━━━┳━━━━━━━━━━━━━━━━━┓\n",
       "┃<span style=\"font-weight: bold\"> Layer (type)                         </span>┃<span style=\"font-weight: bold\"> Output Shape                </span>┃<span style=\"font-weight: bold\">         Param # </span>┃\n",
       "┡━━━━━━━━━━━━━━━━━━━━━━━━━━━━━━━━━━━━━━╇━━━━━━━━━━━━━━━━━━━━━━━━━━━━━╇━━━━━━━━━━━━━━━━━┩\n",
       "│ lstm_3 (<span style=\"color: #0087ff; text-decoration-color: #0087ff\">LSTM</span>)                        │ (<span style=\"color: #00d7ff; text-decoration-color: #00d7ff\">None</span>, <span style=\"color: #00af00; text-decoration-color: #00af00\">128</span>)                 │          <span style=\"color: #00af00; text-decoration-color: #00af00\">84,480</span> │\n",
       "├──────────────────────────────────────┼─────────────────────────────┼─────────────────┤\n",
       "│ dense_6 (<span style=\"color: #0087ff; text-decoration-color: #0087ff\">Dense</span>)                      │ (<span style=\"color: #00d7ff; text-decoration-color: #00d7ff\">None</span>, <span style=\"color: #00af00; text-decoration-color: #00af00\">128</span>)                 │          <span style=\"color: #00af00; text-decoration-color: #00af00\">16,512</span> │\n",
       "├──────────────────────────────────────┼─────────────────────────────┼─────────────────┤\n",
       "│ dense_7 (<span style=\"color: #0087ff; text-decoration-color: #0087ff\">Dense</span>)                      │ (<span style=\"color: #00d7ff; text-decoration-color: #00d7ff\">None</span>, <span style=\"color: #00af00; text-decoration-color: #00af00\">2</span>)                   │             <span style=\"color: #00af00; text-decoration-color: #00af00\">258</span> │\n",
       "└──────────────────────────────────────┴─────────────────────────────┴─────────────────┘\n",
       "</pre>\n"
      ],
      "text/plain": [
       "┏━━━━━━━━━━━━━━━━━━━━━━━━━━━━━━━━━━━━━━┳━━━━━━━━━━━━━━━━━━━━━━━━━━━━━┳━━━━━━━━━━━━━━━━━┓\n",
       "┃\u001b[1m \u001b[0m\u001b[1mLayer (type)                        \u001b[0m\u001b[1m \u001b[0m┃\u001b[1m \u001b[0m\u001b[1mOutput Shape               \u001b[0m\u001b[1m \u001b[0m┃\u001b[1m \u001b[0m\u001b[1m        Param #\u001b[0m\u001b[1m \u001b[0m┃\n",
       "┡━━━━━━━━━━━━━━━━━━━━━━━━━━━━━━━━━━━━━━╇━━━━━━━━━━━━━━━━━━━━━━━━━━━━━╇━━━━━━━━━━━━━━━━━┩\n",
       "│ lstm_3 (\u001b[38;5;33mLSTM\u001b[0m)                        │ (\u001b[38;5;45mNone\u001b[0m, \u001b[38;5;34m128\u001b[0m)                 │          \u001b[38;5;34m84,480\u001b[0m │\n",
       "├──────────────────────────────────────┼─────────────────────────────┼─────────────────┤\n",
       "│ dense_6 (\u001b[38;5;33mDense\u001b[0m)                      │ (\u001b[38;5;45mNone\u001b[0m, \u001b[38;5;34m128\u001b[0m)                 │          \u001b[38;5;34m16,512\u001b[0m │\n",
       "├──────────────────────────────────────┼─────────────────────────────┼─────────────────┤\n",
       "│ dense_7 (\u001b[38;5;33mDense\u001b[0m)                      │ (\u001b[38;5;45mNone\u001b[0m, \u001b[38;5;34m2\u001b[0m)                   │             \u001b[38;5;34m258\u001b[0m │\n",
       "└──────────────────────────────────────┴─────────────────────────────┴─────────────────┘\n"
      ]
     },
     "metadata": {},
     "output_type": "display_data"
    },
    {
     "data": {
      "text/html": [
       "<pre style=\"white-space:pre;overflow-x:auto;line-height:normal;font-family:Menlo,'DejaVu Sans Mono',consolas,'Courier New',monospace\"><span style=\"font-weight: bold\"> Total params: </span><span style=\"color: #00af00; text-decoration-color: #00af00\">101,250</span> (395.51 KB)\n",
       "</pre>\n"
      ],
      "text/plain": [
       "\u001b[1m Total params: \u001b[0m\u001b[38;5;34m101,250\u001b[0m (395.51 KB)\n"
      ]
     },
     "metadata": {},
     "output_type": "display_data"
    },
    {
     "data": {
      "text/html": [
       "<pre style=\"white-space:pre;overflow-x:auto;line-height:normal;font-family:Menlo,'DejaVu Sans Mono',consolas,'Courier New',monospace\"><span style=\"font-weight: bold\"> Trainable params: </span><span style=\"color: #00af00; text-decoration-color: #00af00\">101,250</span> (395.51 KB)\n",
       "</pre>\n"
      ],
      "text/plain": [
       "\u001b[1m Trainable params: \u001b[0m\u001b[38;5;34m101,250\u001b[0m (395.51 KB)\n"
      ]
     },
     "metadata": {},
     "output_type": "display_data"
    },
    {
     "data": {
      "text/html": [
       "<pre style=\"white-space:pre;overflow-x:auto;line-height:normal;font-family:Menlo,'DejaVu Sans Mono',consolas,'Courier New',monospace\"><span style=\"font-weight: bold\"> Non-trainable params: </span><span style=\"color: #00af00; text-decoration-color: #00af00\">0</span> (0.00 B)\n",
       "</pre>\n"
      ],
      "text/plain": [
       "\u001b[1m Non-trainable params: \u001b[0m\u001b[38;5;34m0\u001b[0m (0.00 B)\n"
      ]
     },
     "metadata": {},
     "output_type": "display_data"
    }
   ],
   "source": [
    "model.summary()"
   ]
  },
  {
   "cell_type": "code",
   "execution_count": 297,
   "id": "24352419-fd97-44d0-a624-64dda67d093c",
   "metadata": {},
   "outputs": [
    {
     "name": "stdout",
     "output_type": "stream",
     "text": [
      "Epoch 1/20\n",
      "\u001b[1m89/89\u001b[0m \u001b[32m━━━━━━━━━━━━━━━━━━━━\u001b[0m\u001b[37m\u001b[0m \u001b[1m2s\u001b[0m 5ms/step - accuracy: 1.0000 - loss: 0.0961 - val_accuracy: 1.0000 - val_loss: 1.5046e-05\n",
      "Epoch 2/20\n",
      "\u001b[1m89/89\u001b[0m \u001b[32m━━━━━━━━━━━━━━━━━━━━\u001b[0m\u001b[37m\u001b[0m \u001b[1m0s\u001b[0m 2ms/step - accuracy: 1.0000 - loss: 8.2633e-06 - val_accuracy: 1.0000 - val_loss: 2.5791e-06\n",
      "Epoch 3/20\n",
      "\u001b[1m89/89\u001b[0m \u001b[32m━━━━━━━━━━━━━━━━━━━━\u001b[0m\u001b[37m\u001b[0m \u001b[1m0s\u001b[0m 2ms/step - accuracy: 1.0000 - loss: 1.7492e-06 - val_accuracy: 1.0000 - val_loss: 1.3204e-06\n",
      "Epoch 4/20\n",
      "\u001b[1m89/89\u001b[0m \u001b[32m━━━━━━━━━━━━━━━━━━━━\u001b[0m\u001b[37m\u001b[0m \u001b[1m0s\u001b[0m 2ms/step - accuracy: 1.0000 - loss: 9.1905e-07 - val_accuracy: 1.0000 - val_loss: 7.8076e-07\n",
      "Epoch 5/20\n",
      "\u001b[1m89/89\u001b[0m \u001b[32m━━━━━━━━━━━━━━━━━━━━\u001b[0m\u001b[37m\u001b[0m \u001b[1m0s\u001b[0m 2ms/step - accuracy: 1.0000 - loss: 5.4281e-07 - val_accuracy: 1.0000 - val_loss: 5.0007e-07\n",
      "Epoch 6/20\n",
      "\u001b[1m89/89\u001b[0m \u001b[32m━━━━━━━━━━━━━━━━━━━━\u001b[0m\u001b[37m\u001b[0m \u001b[1m0s\u001b[0m 2ms/step - accuracy: 1.0000 - loss: 3.4959e-07 - val_accuracy: 1.0000 - val_loss: 3.5229e-07\n",
      "Epoch 7/20\n",
      "\u001b[1m89/89\u001b[0m \u001b[32m━━━━━━━━━━━━━━━━━━━━\u001b[0m\u001b[37m\u001b[0m \u001b[1m0s\u001b[0m 2ms/step - accuracy: 1.0000 - loss: 2.7905e-07 - val_accuracy: 1.0000 - val_loss: 3.0354e-07\n",
      "Epoch 8/20\n",
      "\u001b[1m89/89\u001b[0m \u001b[32m━━━━━━━━━━━━━━━━━━━━\u001b[0m\u001b[37m\u001b[0m \u001b[1m0s\u001b[0m 2ms/step - accuracy: 1.0000 - loss: 2.2166e-07 - val_accuracy: 1.0000 - val_loss: 1.9500e-07\n",
      "Epoch 9/20\n",
      "\u001b[1m89/89\u001b[0m \u001b[32m━━━━━━━━━━━━━━━━━━━━\u001b[0m\u001b[37m\u001b[0m \u001b[1m0s\u001b[0m 2ms/step - accuracy: 1.0000 - loss: 1.4908e-07 - val_accuracy: 1.0000 - val_loss: 1.7748e-07\n",
      "Epoch 10/20\n",
      "\u001b[1m89/89\u001b[0m \u001b[32m━━━━━━━━━━━━━━━━━━━━\u001b[0m\u001b[37m\u001b[0m \u001b[1m0s\u001b[0m 2ms/step - accuracy: 1.0000 - loss: 1.2528e-07 - val_accuracy: 1.0000 - val_loss: 1.5463e-07\n",
      "Epoch 11/20\n",
      "\u001b[1m89/89\u001b[0m \u001b[32m━━━━━━━━━━━━━━━━━━━━\u001b[0m\u001b[37m\u001b[0m \u001b[1m0s\u001b[0m 2ms/step - accuracy: 1.0000 - loss: 1.0669e-07 - val_accuracy: 1.0000 - val_loss: 1.0931e-07\n",
      "Epoch 12/20\n",
      "\u001b[1m89/89\u001b[0m \u001b[32m━━━━━━━━━━━━━━━━━━━━\u001b[0m\u001b[37m\u001b[0m \u001b[1m0s\u001b[0m 2ms/step - accuracy: 1.0000 - loss: 3.3589e-08 - val_accuracy: 1.0000 - val_loss: 3.2373e-08\n",
      "Epoch 13/20\n",
      "\u001b[1m89/89\u001b[0m \u001b[32m━━━━━━━━━━━━━━━━━━━━\u001b[0m\u001b[37m\u001b[0m \u001b[1m0s\u001b[0m 2ms/step - accuracy: 1.0000 - loss: 4.8504e-09 - val_accuracy: 1.0000 - val_loss: 2.8184e-08\n",
      "Epoch 14/20\n",
      "\u001b[1m89/89\u001b[0m \u001b[32m━━━━━━━━━━━━━━━━━━━━\u001b[0m\u001b[37m\u001b[0m \u001b[1m0s\u001b[0m 2ms/step - accuracy: 1.0000 - loss: 3.5580e-09 - val_accuracy: 1.0000 - val_loss: 2.4756e-08\n",
      "Epoch 15/20\n",
      "\u001b[1m89/89\u001b[0m \u001b[32m━━━━━━━━━━━━━━━━━━━━\u001b[0m\u001b[37m\u001b[0m \u001b[1m0s\u001b[0m 2ms/step - accuracy: 1.0000 - loss: 4.4926e-09 - val_accuracy: 1.0000 - val_loss: 2.2090e-08\n",
      "Epoch 16/20\n",
      "\u001b[1m89/89\u001b[0m \u001b[32m━━━━━━━━━━━━━━━━━━━━\u001b[0m\u001b[37m\u001b[0m \u001b[1m0s\u001b[0m 2ms/step - accuracy: 1.0000 - loss: 3.6614e-09 - val_accuracy: 1.0000 - val_loss: 1.9424e-08\n",
      "Epoch 17/20\n",
      "\u001b[1m89/89\u001b[0m \u001b[32m━━━━━━━━━━━━━━━━━━━━\u001b[0m\u001b[37m\u001b[0m \u001b[1m0s\u001b[0m 2ms/step - accuracy: 1.0000 - loss: 2.0749e-09 - val_accuracy: 1.0000 - val_loss: 1.7520e-08\n",
      "Epoch 18/20\n",
      "\u001b[1m89/89\u001b[0m \u001b[32m━━━━━━━━━━━━━━━━━━━━\u001b[0m\u001b[37m\u001b[0m \u001b[1m0s\u001b[0m 2ms/step - accuracy: 1.0000 - loss: 1.4367e-09 - val_accuracy: 1.0000 - val_loss: 1.5996e-08\n",
      "Epoch 19/20\n",
      "\u001b[1m89/89\u001b[0m \u001b[32m━━━━━━━━━━━━━━━━━━━━\u001b[0m\u001b[37m\u001b[0m \u001b[1m0s\u001b[0m 2ms/step - accuracy: 1.0000 - loss: 1.1442e-09 - val_accuracy: 1.0000 - val_loss: 1.3711e-08\n",
      "Epoch 20/20\n",
      "\u001b[1m89/89\u001b[0m \u001b[32m━━━━━━━━━━━━━━━━━━━━\u001b[0m\u001b[37m\u001b[0m \u001b[1m0s\u001b[0m 2ms/step - accuracy: 1.0000 - loss: 4.9748e-09 - val_accuracy: 1.0000 - val_loss: 1.2188e-08\n"
     ]
    }
   ],
   "source": [
    "history = model.fit(X_train_seq, y_train_seq, epochs = 20, batch_size = 32, validation_split = 0.1, shuffle = True)"
   ]
  },
  {
   "cell_type": "code",
   "execution_count": 298,
   "id": "1a6e34ea-96d7-4b23-afef-f4a87313b39f",
   "metadata": {},
   "outputs": [
    {
     "data": {
      "text/plain": [
       "<matplotlib.legend.Legend at 0x12733ebd1f0>"
      ]
     },
     "execution_count": 298,
     "metadata": {},
     "output_type": "execute_result"
    },
    {
     "data": {
      "image/png": "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",
      "text/plain": [
       "<Figure size 640x480 with 1 Axes>"
      ]
     },
     "metadata": {},
     "output_type": "display_data"
    }
   ],
   "source": [
    "plt.plot(history.history[\"loss\"], label = \"train\")\n",
    "plt.plot(history.history[\"val_loss\"], label = \"test\")\n",
    "plt.legend()"
   ]
  },
  {
   "cell_type": "code",
   "execution_count": 301,
   "id": "e306765d-4047-48c4-a32a-8fd6c78ae529",
   "metadata": {},
   "outputs": [
    {
     "name": "stdout",
     "output_type": "stream",
     "text": [
      "\u001b[1m98/98\u001b[0m \u001b[32m━━━━━━━━━━━━━━━━━━━━\u001b[0m\u001b[37m\u001b[0m \u001b[1m0s\u001b[0m 1ms/step - accuracy: 1.0000 - loss: 2.1731e-09\n"
     ]
    },
    {
     "data": {
      "text/plain": [
       "[3.1611377959706033e-09, 1.0]"
      ]
     },
     "execution_count": 301,
     "metadata": {},
     "output_type": "execute_result"
    }
   ],
   "source": [
    "model.evaluate(X_train_seq, y_train_seq)\n"
   ]
  },
  {
   "cell_type": "code",
   "execution_count": 303,
   "id": "6412b079-7316-48cc-9e59-661d64bc5406",
   "metadata": {},
   "outputs": [
    {
     "name": "stdout",
     "output_type": "stream",
     "text": [
      "\u001b[1m33/33\u001b[0m \u001b[32m━━━━━━━━━━━━━━━━━━━━\u001b[0m\u001b[37m\u001b[0m \u001b[1m0s\u001b[0m 1ms/step - accuracy: 1.0000 - loss: 6.3807e-10 \n"
     ]
    },
    {
     "data": {
      "text/plain": [
       "[1.8287127367955236e-09, 1.0]"
      ]
     },
     "execution_count": 303,
     "metadata": {},
     "output_type": "execute_result"
    }
   ],
   "source": [
    "model.evaluate(X_test_seq, y_test_seq)\n"
   ]
  },
  {
   "cell_type": "code",
   "execution_count": 305,
   "id": "aa707518-152f-440f-8660-aff0b5f2de00",
   "metadata": {},
   "outputs": [
    {
     "name": "stdout",
     "output_type": "stream",
     "text": [
      "\u001b[1m33/33\u001b[0m \u001b[32m━━━━━━━━━━━━━━━━━━━━\u001b[0m\u001b[37m\u001b[0m \u001b[1m0s\u001b[0m 5ms/step\n",
      "Confusion Matrix\n"
     ]
    },
    {
     "name": "stderr",
     "output_type": "stream",
     "text": [
      "C:\\Users\\wjdwl\\anaconda3\\Lib\\site-packages\\sklearn\\metrics\\_classification.py:386: UserWarning: A single label was found in 'y_true' and 'y_pred'. For the confusion matrix to have the correct shape, use the 'labels' parameter to pass all known labels.\n",
      "  warnings.warn(\n"
     ]
    },
    {
     "data": {
      "text/plain": [
       "<Axes: >"
      ]
     },
     "execution_count": 305,
     "metadata": {},
     "output_type": "execute_result"
    },
    {
     "data": {
      "image/png": "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",
      "text/plain": [
       "<Figure size 800x600 with 2 Axes>"
      ]
     },
     "metadata": {},
     "output_type": "display_data"
    }
   ],
   "source": [
    "import matplotlib.pyplot as plt\n",
    "import seaborn as sns\n",
    "from sklearn.metrics import confusion_matrix\n",
    "\n",
    "from sklearn.metrics import confusion_matrix,classification_report,accuracy_score\n",
    "\n",
    "y_test_arg=np.argmax(y_test_seq, axis=1)\n",
    "Y_pred = np.argmax(model.predict(X_test_seq),axis=1)\n",
    "print('Confusion Matrix')\n",
    "cm = confusion_matrix(y_test_arg, Y_pred)\n",
    "# 시각화\n",
    "plt.figure(figsize=(8, 6))  # 그래프 크기 조절 (너비 8, 높이 6)\n",
    "sns.heatmap(cm, annot=True, fmt=\"d\", cmap=\"Blues\")"
   ]
  },
  {
   "cell_type": "code",
   "execution_count": 306,
   "id": "39b0fc78-65cd-4bd0-b963-23e70d494469",
   "metadata": {},
   "outputs": [
    {
     "name": "stdout",
     "output_type": "stream",
     "text": [
      "\u001b[1m33/33\u001b[0m \u001b[32m━━━━━━━━━━━━━━━━━━━━\u001b[0m\u001b[37m\u001b[0m \u001b[1m0s\u001b[0m 995us/step - accuracy: 1.0000 - loss: 6.3807e-10\n"
     ]
    },
    {
     "name": "stderr",
     "output_type": "stream",
     "text": [
      "WARNING:absl:You are saving your model as an HDF5 file via `model.save()` or `keras.saving.save_model(model)`. This file format is considered legacy. We recommend using instead the native Keras format, e.g. `model.save('my_model.keras')` or `keras.saving.save_model(model, 'my_model.keras')`. \n"
     ]
    },
    {
     "name": "stdout",
     "output_type": "stream",
     "text": [
      "model saved at  C:/Users/wjdwl/Desktop/Data/RA_Model.h5\n",
      "Accuracy >100.000000\n",
      "Base Loss >0.00\n"
     ]
    }
   ],
   "source": [
    "base_loss,base_accuracy=model.evaluate(X_test_seq, y_test_seq)\n",
    "\n",
    "model_file='C:/Users/wjdwl/Desktop/Data/RA_Model.h5'\n",
    "  \n",
    "tf.keras.models.save_model(model, model_file, include_optimizer=False)\n",
    "print('model saved at ', model_file)\n",
    "#score,keras_file=evaluate_model(trainX,trainy,testX,testy)\n",
    "score=base_accuracy*100\n",
    "print('Accuracy >{:f}'.format(score))\n",
    "print('Base Loss >{:.2f}'.format(base_loss))"
   ]
  },
  {
   "cell_type": "code",
   "execution_count": 319,
   "id": "6dad623d-46db-4e79-aa8e-6291203533d0",
   "metadata": {},
   "outputs": [
    {
     "name": "stderr",
     "output_type": "stream",
     "text": [
      "C:\\Users\\wjdwl\\anaconda3\\Lib\\site-packages\\keras\\src\\layers\\rnn\\rnn.py:204: UserWarning: Do not pass an `input_shape`/`input_dim` argument to a layer. When using Sequential models, prefer using an `Input(shape)` object as the first layer in the model instead.\n",
      "  super().__init__(**kwargs)\n"
     ]
    }
   ],
   "source": [
    "\n",
    "# Build CNN model using keras. For model building suggestions, referenced:\n",
    "# https://machinelearningmastery.com/deep-learning-models-for-human-activity-recognition/\n",
    "# https://machinelearningmastery.com/how-to-choose-loss-functions-when-training-deep-learning-neural-networks/\n",
    "# https://machinelearningmastery.com/how-to-develop-convolutional-neural-network-models-for-time-series-forecasting/\n",
    "\n",
    "# Sequential model type\n",
    "model2 = Sequential()\n",
    "model2.add(LSTM(units=128, input_shape = (n_timesteps,n_features)))\n",
    "model2.add(Dense(128, activation='relu'))\n",
    "model2.add(Dense(n_outputs, activation='softmax'))\n",
    "model2.compile(optimizer='adam', metrics=['accuracy'], loss='categorical_crossentropy')"
   ]
  },
  {
   "cell_type": "code",
   "execution_count": 321,
   "id": "0d374112-63ec-4990-b606-00b5daa9cedd",
   "metadata": {},
   "outputs": [
    {
     "data": {
      "text/html": [
       "<pre style=\"white-space:pre;overflow-x:auto;line-height:normal;font-family:Menlo,'DejaVu Sans Mono',consolas,'Courier New',monospace\"><span style=\"font-weight: bold\">Model: \"sequential_5\"</span>\n",
       "</pre>\n"
      ],
      "text/plain": [
       "\u001b[1mModel: \"sequential_5\"\u001b[0m\n"
      ]
     },
     "metadata": {},
     "output_type": "display_data"
    },
    {
     "data": {
      "text/html": [
       "<pre style=\"white-space:pre;overflow-x:auto;line-height:normal;font-family:Menlo,'DejaVu Sans Mono',consolas,'Courier New',monospace\">┏━━━━━━━━━━━━━━━━━━━━━━━━━━━━━━━━━━━━━━┳━━━━━━━━━━━━━━━━━━━━━━━━━━━━━┳━━━━━━━━━━━━━━━━━┓\n",
       "┃<span style=\"font-weight: bold\"> Layer (type)                         </span>┃<span style=\"font-weight: bold\"> Output Shape                </span>┃<span style=\"font-weight: bold\">         Param # </span>┃\n",
       "┡━━━━━━━━━━━━━━━━━━━━━━━━━━━━━━━━━━━━━━╇━━━━━━━━━━━━━━━━━━━━━━━━━━━━━╇━━━━━━━━━━━━━━━━━┩\n",
       "│ lstm_5 (<span style=\"color: #0087ff; text-decoration-color: #0087ff\">LSTM</span>)                        │ (<span style=\"color: #00d7ff; text-decoration-color: #00d7ff\">None</span>, <span style=\"color: #00af00; text-decoration-color: #00af00\">128</span>)                 │          <span style=\"color: #00af00; text-decoration-color: #00af00\">84,480</span> │\n",
       "├──────────────────────────────────────┼─────────────────────────────┼─────────────────┤\n",
       "│ dense_10 (<span style=\"color: #0087ff; text-decoration-color: #0087ff\">Dense</span>)                     │ (<span style=\"color: #00d7ff; text-decoration-color: #00d7ff\">None</span>, <span style=\"color: #00af00; text-decoration-color: #00af00\">128</span>)                 │          <span style=\"color: #00af00; text-decoration-color: #00af00\">16,512</span> │\n",
       "├──────────────────────────────────────┼─────────────────────────────┼─────────────────┤\n",
       "│ dense_11 (<span style=\"color: #0087ff; text-decoration-color: #0087ff\">Dense</span>)                     │ (<span style=\"color: #00d7ff; text-decoration-color: #00d7ff\">None</span>, <span style=\"color: #00af00; text-decoration-color: #00af00\">2</span>)                   │             <span style=\"color: #00af00; text-decoration-color: #00af00\">258</span> │\n",
       "└──────────────────────────────────────┴─────────────────────────────┴─────────────────┘\n",
       "</pre>\n"
      ],
      "text/plain": [
       "┏━━━━━━━━━━━━━━━━━━━━━━━━━━━━━━━━━━━━━━┳━━━━━━━━━━━━━━━━━━━━━━━━━━━━━┳━━━━━━━━━━━━━━━━━┓\n",
       "┃\u001b[1m \u001b[0m\u001b[1mLayer (type)                        \u001b[0m\u001b[1m \u001b[0m┃\u001b[1m \u001b[0m\u001b[1mOutput Shape               \u001b[0m\u001b[1m \u001b[0m┃\u001b[1m \u001b[0m\u001b[1m        Param #\u001b[0m\u001b[1m \u001b[0m┃\n",
       "┡━━━━━━━━━━━━━━━━━━━━━━━━━━━━━━━━━━━━━━╇━━━━━━━━━━━━━━━━━━━━━━━━━━━━━╇━━━━━━━━━━━━━━━━━┩\n",
       "│ lstm_5 (\u001b[38;5;33mLSTM\u001b[0m)                        │ (\u001b[38;5;45mNone\u001b[0m, \u001b[38;5;34m128\u001b[0m)                 │          \u001b[38;5;34m84,480\u001b[0m │\n",
       "├──────────────────────────────────────┼─────────────────────────────┼─────────────────┤\n",
       "│ dense_10 (\u001b[38;5;33mDense\u001b[0m)                     │ (\u001b[38;5;45mNone\u001b[0m, \u001b[38;5;34m128\u001b[0m)                 │          \u001b[38;5;34m16,512\u001b[0m │\n",
       "├──────────────────────────────────────┼─────────────────────────────┼─────────────────┤\n",
       "│ dense_11 (\u001b[38;5;33mDense\u001b[0m)                     │ (\u001b[38;5;45mNone\u001b[0m, \u001b[38;5;34m2\u001b[0m)                   │             \u001b[38;5;34m258\u001b[0m │\n",
       "└──────────────────────────────────────┴─────────────────────────────┴─────────────────┘\n"
      ]
     },
     "metadata": {},
     "output_type": "display_data"
    },
    {
     "data": {
      "text/html": [
       "<pre style=\"white-space:pre;overflow-x:auto;line-height:normal;font-family:Menlo,'DejaVu Sans Mono',consolas,'Courier New',monospace\"><span style=\"font-weight: bold\"> Total params: </span><span style=\"color: #00af00; text-decoration-color: #00af00\">101,250</span> (395.51 KB)\n",
       "</pre>\n"
      ],
      "text/plain": [
       "\u001b[1m Total params: \u001b[0m\u001b[38;5;34m101,250\u001b[0m (395.51 KB)\n"
      ]
     },
     "metadata": {},
     "output_type": "display_data"
    },
    {
     "data": {
      "text/html": [
       "<pre style=\"white-space:pre;overflow-x:auto;line-height:normal;font-family:Menlo,'DejaVu Sans Mono',consolas,'Courier New',monospace\"><span style=\"font-weight: bold\"> Trainable params: </span><span style=\"color: #00af00; text-decoration-color: #00af00\">101,250</span> (395.51 KB)\n",
       "</pre>\n"
      ],
      "text/plain": [
       "\u001b[1m Trainable params: \u001b[0m\u001b[38;5;34m101,250\u001b[0m (395.51 KB)\n"
      ]
     },
     "metadata": {},
     "output_type": "display_data"
    },
    {
     "data": {
      "text/html": [
       "<pre style=\"white-space:pre;overflow-x:auto;line-height:normal;font-family:Menlo,'DejaVu Sans Mono',consolas,'Courier New',monospace\"><span style=\"font-weight: bold\"> Non-trainable params: </span><span style=\"color: #00af00; text-decoration-color: #00af00\">0</span> (0.00 B)\n",
       "</pre>\n"
      ],
      "text/plain": [
       "\u001b[1m Non-trainable params: \u001b[0m\u001b[38;5;34m0\u001b[0m (0.00 B)\n"
      ]
     },
     "metadata": {},
     "output_type": "display_data"
    }
   ],
   "source": [
    "model2.summary()\n"
   ]
  },
  {
   "cell_type": "code",
   "execution_count": 327,
   "id": "83f8b417-c4df-49f1-b7cf-575c80bdbd3d",
   "metadata": {},
   "outputs": [
    {
     "name": "stdout",
     "output_type": "stream",
     "text": [
      "Epoch 1/20\n",
      "\u001b[1m89/89\u001b[0m \u001b[32m━━━━━━━━━━━━━━━━━━━━\u001b[0m\u001b[37m\u001b[0m \u001b[1m2s\u001b[0m 2ms/step - accuracy: 0.8118 - loss: 0.2903 - val_accuracy: 1.0000 - val_loss: 6.6713e-05\n",
      "Epoch 2/20\n",
      "\u001b[1m89/89\u001b[0m \u001b[32m━━━━━━━━━━━━━━━━━━━━\u001b[0m\u001b[37m\u001b[0m \u001b[1m0s\u001b[0m 2ms/step - accuracy: 1.0000 - loss: 4.0408e-05 - val_accuracy: 1.0000 - val_loss: 1.0157e-05\n",
      "Epoch 3/20\n",
      "\u001b[1m89/89\u001b[0m \u001b[32m━━━━━━━━━━━━━━━━━━━━\u001b[0m\u001b[37m\u001b[0m \u001b[1m0s\u001b[0m 2ms/step - accuracy: 1.0000 - loss: 7.8313e-06 - val_accuracy: 1.0000 - val_loss: 3.9137e-06\n",
      "Epoch 4/20\n",
      "\u001b[1m89/89\u001b[0m \u001b[32m━━━━━━━━━━━━━━━━━━━━\u001b[0m\u001b[37m\u001b[0m \u001b[1m0s\u001b[0m 2ms/step - accuracy: 1.0000 - loss: 3.2691e-06 - val_accuracy: 1.0000 - val_loss: 2.0387e-06\n",
      "Epoch 5/20\n",
      "\u001b[1m89/89\u001b[0m \u001b[32m━━━━━━━━━━━━━━━━━━━━\u001b[0m\u001b[37m\u001b[0m \u001b[1m0s\u001b[0m 2ms/step - accuracy: 1.0000 - loss: 1.7821e-06 - val_accuracy: 1.0000 - val_loss: 1.3071e-06\n",
      "Epoch 6/20\n",
      "\u001b[1m89/89\u001b[0m \u001b[32m━━━━━━━━━━━━━━━━━━━━\u001b[0m\u001b[37m\u001b[0m \u001b[1m0s\u001b[0m 2ms/step - accuracy: 1.0000 - loss: 1.1369e-06 - val_accuracy: 1.0000 - val_loss: 8.5160e-07\n",
      "Epoch 7/20\n",
      "\u001b[1m89/89\u001b[0m \u001b[32m━━━━━━━━━━━━━━━━━━━━\u001b[0m\u001b[37m\u001b[0m \u001b[1m0s\u001b[0m 2ms/step - accuracy: 1.0000 - loss: 7.8255e-07 - val_accuracy: 1.0000 - val_loss: 6.1509e-07\n",
      "Epoch 8/20\n",
      "\u001b[1m89/89\u001b[0m \u001b[32m━━━━━━━━━━━━━━━━━━━━\u001b[0m\u001b[37m\u001b[0m \u001b[1m0s\u001b[0m 2ms/step - accuracy: 1.0000 - loss: 5.6946e-07 - val_accuracy: 1.0000 - val_loss: 4.8674e-07\n",
      "Epoch 9/20\n",
      "\u001b[1m89/89\u001b[0m \u001b[32m━━━━━━━━━━━━━━━━━━━━\u001b[0m\u001b[37m\u001b[0m \u001b[1m0s\u001b[0m 2ms/step - accuracy: 1.0000 - loss: 4.4196e-07 - val_accuracy: 1.0000 - val_loss: 3.7362e-07\n",
      "Epoch 10/20\n",
      "\u001b[1m89/89\u001b[0m \u001b[32m━━━━━━━━━━━━━━━━━━━━\u001b[0m\u001b[37m\u001b[0m \u001b[1m0s\u001b[0m 2ms/step - accuracy: 1.0000 - loss: 3.4761e-07 - val_accuracy: 1.0000 - val_loss: 3.3173e-07\n",
      "Epoch 11/20\n",
      "\u001b[1m89/89\u001b[0m \u001b[32m━━━━━━━━━━━━━━━━━━━━\u001b[0m\u001b[37m\u001b[0m \u001b[1m0s\u001b[0m 2ms/step - accuracy: 1.0000 - loss: 2.5090e-07 - val_accuracy: 1.0000 - val_loss: 2.5137e-07\n",
      "Epoch 12/20\n",
      "\u001b[1m89/89\u001b[0m \u001b[32m━━━━━━━━━━━━━━━━━━━━\u001b[0m\u001b[37m\u001b[0m \u001b[1m0s\u001b[0m 2ms/step - accuracy: 1.0000 - loss: 2.3534e-07 - val_accuracy: 1.0000 - val_loss: 2.3651e-07\n",
      "Epoch 13/20\n",
      "\u001b[1m89/89\u001b[0m \u001b[32m━━━━━━━━━━━━━━━━━━━━\u001b[0m\u001b[37m\u001b[0m \u001b[1m0s\u001b[0m 2ms/step - accuracy: 1.0000 - loss: 2.2053e-07 - val_accuracy: 1.0000 - val_loss: 1.3368e-07\n",
      "Epoch 14/20\n",
      "\u001b[1m89/89\u001b[0m \u001b[32m━━━━━━━━━━━━━━━━━━━━\u001b[0m\u001b[37m\u001b[0m \u001b[1m0s\u001b[0m 2ms/step - accuracy: 1.0000 - loss: 1.2202e-07 - val_accuracy: 1.0000 - val_loss: 1.3216e-07\n",
      "Epoch 15/20\n",
      "\u001b[1m89/89\u001b[0m \u001b[32m━━━━━━━━━━━━━━━━━━━━\u001b[0m\u001b[37m\u001b[0m \u001b[1m0s\u001b[0m 2ms/step - accuracy: 1.0000 - loss: 1.2181e-07 - val_accuracy: 1.0000 - val_loss: 1.2949e-07\n",
      "Epoch 16/20\n",
      "\u001b[1m89/89\u001b[0m \u001b[32m━━━━━━━━━━━━━━━━━━━━\u001b[0m\u001b[37m\u001b[0m \u001b[1m0s\u001b[0m 2ms/step - accuracy: 1.0000 - loss: 1.2035e-07 - val_accuracy: 1.0000 - val_loss: 1.2683e-07\n",
      "Epoch 17/20\n",
      "\u001b[1m89/89\u001b[0m \u001b[32m━━━━━━━━━━━━━━━━━━━━\u001b[0m\u001b[37m\u001b[0m \u001b[1m0s\u001b[0m 2ms/step - accuracy: 1.0000 - loss: 1.1860e-07 - val_accuracy: 1.0000 - val_loss: 1.2492e-07\n",
      "Epoch 18/20\n",
      "\u001b[1m89/89\u001b[0m \u001b[32m━━━━━━━━━━━━━━━━━━━━\u001b[0m\u001b[37m\u001b[0m \u001b[1m0s\u001b[0m 2ms/step - accuracy: 1.0000 - loss: 1.1862e-07 - val_accuracy: 1.0000 - val_loss: 1.2264e-07\n",
      "Epoch 19/20\n",
      "\u001b[1m89/89\u001b[0m \u001b[32m━━━━━━━━━━━━━━━━━━━━\u001b[0m\u001b[37m\u001b[0m \u001b[1m0s\u001b[0m 3ms/step - accuracy: 1.0000 - loss: 1.1651e-07 - val_accuracy: 1.0000 - val_loss: 1.1730e-07\n",
      "Epoch 20/20\n",
      "\u001b[1m89/89\u001b[0m \u001b[32m━━━━━━━━━━━━━━━━━━━━\u001b[0m\u001b[37m\u001b[0m \u001b[1m0s\u001b[0m 2ms/step - accuracy: 1.0000 - loss: 1.0925e-07 - val_accuracy: 1.0000 - val_loss: 1.0055e-07\n"
     ]
    }
   ],
   "source": [
    "history2 = model2.fit(X_train_seq, y_train_seq, epochs = 20, batch_size = 32, validation_split = 0.1, shuffle = True)"
   ]
  },
  {
   "cell_type": "code",
   "execution_count": 331,
   "id": "69fe7b79-7400-4aea-931a-ba6715be0651",
   "metadata": {},
   "outputs": [
    {
     "data": {
      "text/plain": [
       "<matplotlib.legend.Legend at 0x12739b26f30>"
      ]
     },
     "execution_count": 331,
     "metadata": {},
     "output_type": "execute_result"
    },
    {
     "data": {
      "image/png": "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",
      "text/plain": [
       "<Figure size 640x480 with 1 Axes>"
      ]
     },
     "metadata": {},
     "output_type": "display_data"
    }
   ],
   "source": [
    "plt.plot(history2.history[\"loss\"], label = \"train\")\n",
    "plt.plot(history2.history[\"val_loss\"], label = \"test\")\n",
    "plt.legend()"
   ]
  },
  {
   "cell_type": "code",
   "execution_count": 341,
   "id": "78e45105-935d-45c0-bb56-1b0d7039138f",
   "metadata": {},
   "outputs": [
    {
     "name": "stdout",
     "output_type": "stream",
     "text": [
      "\u001b[1m98/98\u001b[0m \u001b[32m━━━━━━━━━━━━━━━━━━━━\u001b[0m\u001b[37m\u001b[0m \u001b[1m0s\u001b[0m 1ms/step - accuracy: 1.0000 - loss: 9.9951e-08\n"
     ]
    },
    {
     "data": {
      "text/plain": [
       "[9.856665172947032e-08, 1.0]"
      ]
     },
     "execution_count": 341,
     "metadata": {},
     "output_type": "execute_result"
    }
   ],
   "source": [
    "model2.evaluate(X_train_seq, y_train_seq)\n"
   ]
  },
  {
   "cell_type": "code",
   "execution_count": 343,
   "id": "702c2024-a960-48b4-adb2-58149d24d830",
   "metadata": {},
   "outputs": [
    {
     "name": "stdout",
     "output_type": "stream",
     "text": [
      "\u001b[1m33/33\u001b[0m \u001b[32m━━━━━━━━━━━━━━━━━━━━\u001b[0m\u001b[37m\u001b[0m \u001b[1m0s\u001b[0m 941us/step - accuracy: 1.0000 - loss: 9.5604e-08\n"
     ]
    },
    {
     "data": {
      "text/plain": [
       "[9.726471716930973e-08, 1.0]"
      ]
     },
     "execution_count": 343,
     "metadata": {},
     "output_type": "execute_result"
    }
   ],
   "source": [
    "model2.evaluate(X_test_seq, y_test_seq)\n"
   ]
  },
  {
   "cell_type": "code",
   "execution_count": 351,
   "id": "384e7d86-80c9-4a9b-b931-da1ebfa25e7c",
   "metadata": {},
   "outputs": [
    {
     "name": "stdout",
     "output_type": "stream",
     "text": [
      "\u001b[1m33/33\u001b[0m \u001b[32m━━━━━━━━━━━━━━━━━━━━\u001b[0m\u001b[37m\u001b[0m \u001b[1m0s\u001b[0m 5ms/step\n",
      "Confusion Matrix\n"
     ]
    },
    {
     "name": "stderr",
     "output_type": "stream",
     "text": [
      "C:\\Users\\wjdwl\\anaconda3\\Lib\\site-packages\\sklearn\\metrics\\_classification.py:386: UserWarning: A single label was found in 'y_true' and 'y_pred'. For the confusion matrix to have the correct shape, use the 'labels' parameter to pass all known labels.\n",
      "  warnings.warn(\n"
     ]
    },
    {
     "data": {
      "image/png": "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",
      "text/plain": [
       "<Figure size 800x600 with 2 Axes>"
      ]
     },
     "metadata": {},
     "output_type": "display_data"
    }
   ],
   "source": [
    "import matplotlib.pyplot as plt\n",
    "import seaborn as sns\n",
    "from sklearn.metrics import confusion_matrix\n",
    "\n",
    "from sklearn.metrics import confusion_matrix,classification_report,accuracy_score\n",
    "\n",
    "y_test_arg=np.argmax(y_test_seq, axis=1)\n",
    "Y_pred = np.argmax(model2.predict(X_test_seq),axis=1)\n",
    "print('Confusion Matrix')\n",
    "cm = confusion_matrix(y_test_arg, Y_pred)\n",
    "# 시각화\n",
    "plt.figure(figsize=(8, 6))  # 그래프 크기 조절 (너비 8, 높이 6)\n",
    "sns.heatmap(cm, annot=True, fmt=\"d\", cmap=\"Greens\")\n",
    "\n",
    "# 그래프 표시\n",
    "plt.show()"
   ]
  },
  {
   "cell_type": "code",
   "execution_count": 353,
   "id": "ebd6bbce-3c55-4d84-bbee-62eb5ab699de",
   "metadata": {},
   "outputs": [
    {
     "name": "stdout",
     "output_type": "stream",
     "text": [
      "\u001b[1m33/33\u001b[0m \u001b[32m━━━━━━━━━━━━━━━━━━━━\u001b[0m\u001b[37m\u001b[0m \u001b[1m0s\u001b[0m 1ms/step - accuracy: 1.0000 - loss: 9.5604e-08 \n"
     ]
    },
    {
     "name": "stderr",
     "output_type": "stream",
     "text": [
      "WARNING:absl:You are saving your model as an HDF5 file via `model.save()` or `keras.saving.save_model(model)`. This file format is considered legacy. We recommend using instead the native Keras format, e.g. `model.save('my_model.keras')` or `keras.saving.save_model(model, 'my_model.keras')`. \n"
     ]
    },
    {
     "name": "stdout",
     "output_type": "stream",
     "text": [
      "model saved at  C:/Users/wjdwl/Desktop/Data/Model.h5\n",
      "Accuracy >100.000000\n",
      "Base Loss >0.00\n"
     ]
    }
   ],
   "source": [
    "\n",
    "base_loss,base_accuracy=model2.evaluate(X_test_seq, y_test_seq)\n",
    "\n",
    "model_file2='C:/Users/wjdwl/Desktop/Data/Model.h5'\n",
    "  \n",
    "tf.keras.models.save_model(model2, model_file2, include_optimizer=False)\n",
    "print('model saved at ', model_file2)\n",
    "score=base_accuracy*100\n",
    "print('Accuracy >{:f}'.format(score))\n",
    "print('Base Loss >{:.2f}'.format(base_loss))"
   ]
  },
  {
   "cell_type": "markdown",
   "id": "f063a8a1-f540-4914-8737-b29f66350237",
   "metadata": {},
   "source": [
    "# Pre-trained Model"
   ]
  },
  {
   "cell_type": "code",
   "execution_count": 355,
   "id": "35d4d616-f5e5-4fb6-868e-854579a87dc5",
   "metadata": {},
   "outputs": [],
   "source": [
    "# https://www.tensorflow.org/guide/keras/transfer_learning?hl=ko"
   ]
  },
  {
   "cell_type": "code",
   "execution_count": 357,
   "id": "104e8ed5-231c-42a4-866a-f37ba60eb542",
   "metadata": {},
   "outputs": [
    {
     "name": "stderr",
     "output_type": "stream",
     "text": [
      "WARNING:absl:No training configuration found in the save file, so the model was *not* compiled. Compile it manually.\n"
     ]
    }
   ],
   "source": [
    "# Base 모델을 로드 (LA_Model.h5)\n",
    "from tensorflow.keras.models import load_model\n",
    "\n",
    "base_model = load_model(model_file2)"
   ]
  },
  {
   "cell_type": "code",
   "execution_count": 358,
   "id": "91dd64cd-54b6-4702-81f1-b3e37c390911",
   "metadata": {},
   "outputs": [
    {
     "name": "stdout",
     "output_type": "stream",
     "text": [
      "\u001b[1m33/33\u001b[0m \u001b[32m━━━━━━━━━━━━━━━━━━━━\u001b[0m\u001b[37m\u001b[0m \u001b[1m0s\u001b[0m 2ms/step - accuracy: 1.0000 - loss: 9.5604e-08 \n"
     ]
    },
    {
     "data": {
      "text/plain": [
       "[9.726471716930973e-08, 1.0]"
      ]
     },
     "execution_count": 358,
     "metadata": {},
     "output_type": "execute_result"
    }
   ],
   "source": [
    "base_model.compile(optimizer='adam', metrics=['accuracy'], loss='categorical_crossentropy')\n",
    "base_model.evaluate(X_test_seq, y_test_seq)"
   ]
  },
  {
   "cell_type": "code",
   "execution_count": 360,
   "id": "aa859371-f002-44e4-95c3-79c65dcf61fd",
   "metadata": {},
   "outputs": [
    {
     "name": "stdout",
     "output_type": "stream",
     "text": [
      "Number of layers in the base model:  3\n"
     ]
    }
   ],
   "source": [
    "print(\"Number of layers in the base model: \", len(base_model.layers))"
   ]
  },
  {
   "cell_type": "markdown",
   "id": "4b5f8eee-433c-4858-a034-8a9f9f311f6d",
   "metadata": {},
   "source": [
    "# 기존의 출력층을 빼고 새로운 모델에 해당 레이어들 추가\n"
   ]
  },
  {
   "cell_type": "code",
   "execution_count": 362,
   "id": "48a892e8-31f3-4ddc-9809-32bc9b64f4b1",
   "metadata": {},
   "outputs": [
    {
     "data": {
      "text/html": [
       "<pre style=\"white-space:pre;overflow-x:auto;line-height:normal;font-family:Menlo,'DejaVu Sans Mono',consolas,'Courier New',monospace\"><span style=\"font-weight: bold\">Model: \"sequential_6\"</span>\n",
       "</pre>\n"
      ],
      "text/plain": [
       "\u001b[1mModel: \"sequential_6\"\u001b[0m\n"
      ]
     },
     "metadata": {},
     "output_type": "display_data"
    },
    {
     "data": {
      "text/html": [
       "<pre style=\"white-space:pre;overflow-x:auto;line-height:normal;font-family:Menlo,'DejaVu Sans Mono',consolas,'Courier New',monospace\">┏━━━━━━━━━━━━━━━━━━━━━━━━━━━━━━━━━━━━━━┳━━━━━━━━━━━━━━━━━━━━━━━━━━━━━┳━━━━━━━━━━━━━━━━━┓\n",
       "┃<span style=\"font-weight: bold\"> Layer (type)                         </span>┃<span style=\"font-weight: bold\"> Output Shape                </span>┃<span style=\"font-weight: bold\">         Param # </span>┃\n",
       "┡━━━━━━━━━━━━━━━━━━━━━━━━━━━━━━━━━━━━━━╇━━━━━━━━━━━━━━━━━━━━━━━━━━━━━╇━━━━━━━━━━━━━━━━━┩\n",
       "│ lstm_5 (<span style=\"color: #0087ff; text-decoration-color: #0087ff\">LSTM</span>)                        │ (<span style=\"color: #00d7ff; text-decoration-color: #00d7ff\">None</span>, <span style=\"color: #00af00; text-decoration-color: #00af00\">128</span>)                 │          <span style=\"color: #00af00; text-decoration-color: #00af00\">84,480</span> │\n",
       "├──────────────────────────────────────┼─────────────────────────────┼─────────────────┤\n",
       "│ dense_10 (<span style=\"color: #0087ff; text-decoration-color: #0087ff\">Dense</span>)                     │ (<span style=\"color: #00d7ff; text-decoration-color: #00d7ff\">None</span>, <span style=\"color: #00af00; text-decoration-color: #00af00\">128</span>)                 │          <span style=\"color: #00af00; text-decoration-color: #00af00\">16,512</span> │\n",
       "├──────────────────────────────────────┼─────────────────────────────┼─────────────────┤\n",
       "│ dense_12 (<span style=\"color: #0087ff; text-decoration-color: #0087ff\">Dense</span>)                     │ ?                           │     <span style=\"color: #00af00; text-decoration-color: #00af00\">0</span> (unbuilt) │\n",
       "├──────────────────────────────────────┼─────────────────────────────┼─────────────────┤\n",
       "│ dense_13 (<span style=\"color: #0087ff; text-decoration-color: #0087ff\">Dense</span>)                     │ ?                           │     <span style=\"color: #00af00; text-decoration-color: #00af00\">0</span> (unbuilt) │\n",
       "└──────────────────────────────────────┴─────────────────────────────┴─────────────────┘\n",
       "</pre>\n"
      ],
      "text/plain": [
       "┏━━━━━━━━━━━━━━━━━━━━━━━━━━━━━━━━━━━━━━┳━━━━━━━━━━━━━━━━━━━━━━━━━━━━━┳━━━━━━━━━━━━━━━━━┓\n",
       "┃\u001b[1m \u001b[0m\u001b[1mLayer (type)                        \u001b[0m\u001b[1m \u001b[0m┃\u001b[1m \u001b[0m\u001b[1mOutput Shape               \u001b[0m\u001b[1m \u001b[0m┃\u001b[1m \u001b[0m\u001b[1m        Param #\u001b[0m\u001b[1m \u001b[0m┃\n",
       "┡━━━━━━━━━━━━━━━━━━━━━━━━━━━━━━━━━━━━━━╇━━━━━━━━━━━━━━━━━━━━━━━━━━━━━╇━━━━━━━━━━━━━━━━━┩\n",
       "│ lstm_5 (\u001b[38;5;33mLSTM\u001b[0m)                        │ (\u001b[38;5;45mNone\u001b[0m, \u001b[38;5;34m128\u001b[0m)                 │          \u001b[38;5;34m84,480\u001b[0m │\n",
       "├──────────────────────────────────────┼─────────────────────────────┼─────────────────┤\n",
       "│ dense_10 (\u001b[38;5;33mDense\u001b[0m)                     │ (\u001b[38;5;45mNone\u001b[0m, \u001b[38;5;34m128\u001b[0m)                 │          \u001b[38;5;34m16,512\u001b[0m │\n",
       "├──────────────────────────────────────┼─────────────────────────────┼─────────────────┤\n",
       "│ dense_12 (\u001b[38;5;33mDense\u001b[0m)                     │ ?                           │     \u001b[38;5;34m0\u001b[0m (unbuilt) │\n",
       "├──────────────────────────────────────┼─────────────────────────────┼─────────────────┤\n",
       "│ dense_13 (\u001b[38;5;33mDense\u001b[0m)                     │ ?                           │     \u001b[38;5;34m0\u001b[0m (unbuilt) │\n",
       "└──────────────────────────────────────┴─────────────────────────────┴─────────────────┘\n"
      ]
     },
     "metadata": {},
     "output_type": "display_data"
    },
    {
     "data": {
      "text/html": [
       "<pre style=\"white-space:pre;overflow-x:auto;line-height:normal;font-family:Menlo,'DejaVu Sans Mono',consolas,'Courier New',monospace\"><span style=\"font-weight: bold\"> Total params: </span><span style=\"color: #00af00; text-decoration-color: #00af00\">100,992</span> (394.50 KB)\n",
       "</pre>\n"
      ],
      "text/plain": [
       "\u001b[1m Total params: \u001b[0m\u001b[38;5;34m100,992\u001b[0m (394.50 KB)\n"
      ]
     },
     "metadata": {},
     "output_type": "display_data"
    },
    {
     "data": {
      "text/html": [
       "<pre style=\"white-space:pre;overflow-x:auto;line-height:normal;font-family:Menlo,'DejaVu Sans Mono',consolas,'Courier New',monospace\"><span style=\"font-weight: bold\"> Trainable params: </span><span style=\"color: #00af00; text-decoration-color: #00af00\">0</span> (0.00 B)\n",
       "</pre>\n"
      ],
      "text/plain": [
       "\u001b[1m Trainable params: \u001b[0m\u001b[38;5;34m0\u001b[0m (0.00 B)\n"
      ]
     },
     "metadata": {},
     "output_type": "display_data"
    },
    {
     "data": {
      "text/html": [
       "<pre style=\"white-space:pre;overflow-x:auto;line-height:normal;font-family:Menlo,'DejaVu Sans Mono',consolas,'Courier New',monospace\"><span style=\"font-weight: bold\"> Non-trainable params: </span><span style=\"color: #00af00; text-decoration-color: #00af00\">100,992</span> (394.50 KB)\n",
       "</pre>\n"
      ],
      "text/plain": [
       "\u001b[1m Non-trainable params: \u001b[0m\u001b[38;5;34m100,992\u001b[0m (394.50 KB)\n"
      ]
     },
     "metadata": {},
     "output_type": "display_data"
    }
   ],
   "source": [
    "# 기존 모델의 층을 동결 (학습되지 않도록 설정)\n",
    "base_model.trainable = False\n",
    "\n",
    "from tensorflow.keras.applications import VGG16\n",
    "from tensorflow.keras import layers, models\n",
    "\n",
    "def remove_last_layers(model, num_layers_to_remove):\n",
    "    # 모델의 레이어를 하나씩 슬라이스해서 앞의 레이어만 가져옴\n",
    "    model_layers = model.layers[:-num_layers_to_remove]  # 마지막 레이어부터 지정된 갯수만큼 제외\n",
    "    new_model = models.Sequential(model_layers)  # 새로운 모델에 해당 레이어들만 추가\n",
    "    return new_model\n",
    "\n",
    "\n",
    "# 출력층부터 1개의 레이어를 삭제\n",
    "new_model = remove_last_layers(base_model, 1)\n",
    "\n",
    "# 새로운 출력층 추가\n",
    "new_model.add(layers.Dense(256, activation='relu'))\n",
    "new_model.add(layers.Dense(2, activation='softmax'))  # 예: 10개의 클래스\n",
    "new_model.compile(optimizer='adam', metrics=['accuracy'], loss='categorical_crossentropy')\n",
    "\n",
    "# 모델 요약 출력\n",
    "new_model.summary()"
   ]
  },
  {
   "cell_type": "code",
   "execution_count": 363,
   "id": "a35df0c6-aae6-4d34-9783-c724a7e698af",
   "metadata": {},
   "outputs": [
    {
     "data": {
      "text/html": [
       "<div>\n",
       "<style scoped>\n",
       "    .dataframe tbody tr th:only-of-type {\n",
       "        vertical-align: middle;\n",
       "    }\n",
       "\n",
       "    .dataframe tbody tr th {\n",
       "        vertical-align: top;\n",
       "    }\n",
       "\n",
       "    .dataframe thead th {\n",
       "        text-align: right;\n",
       "    }\n",
       "</style>\n",
       "<table border=\"1\" class=\"dataframe\">\n",
       "  <thead>\n",
       "    <tr style=\"text-align: right;\">\n",
       "      <th></th>\n",
       "      <th>Layer Type</th>\n",
       "      <th>Layer Name</th>\n",
       "      <th>Layer Trainable</th>\n",
       "    </tr>\n",
       "  </thead>\n",
       "  <tbody>\n",
       "    <tr>\n",
       "      <th>0</th>\n",
       "      <td>&lt;LSTM name=lstm_5, built=True&gt;</td>\n",
       "      <td>lstm_5</td>\n",
       "      <td>False</td>\n",
       "    </tr>\n",
       "    <tr>\n",
       "      <th>1</th>\n",
       "      <td>&lt;Dense name=dense_10, built=True&gt;</td>\n",
       "      <td>dense_10</td>\n",
       "      <td>False</td>\n",
       "    </tr>\n",
       "    <tr>\n",
       "      <th>2</th>\n",
       "      <td>&lt;Dense name=dense_12, built=False&gt;</td>\n",
       "      <td>dense_12</td>\n",
       "      <td>True</td>\n",
       "    </tr>\n",
       "    <tr>\n",
       "      <th>3</th>\n",
       "      <td>&lt;Dense name=dense_13, built=False&gt;</td>\n",
       "      <td>dense_13</td>\n",
       "      <td>True</td>\n",
       "    </tr>\n",
       "  </tbody>\n",
       "</table>\n",
       "</div>"
      ],
      "text/plain": [
       "                           Layer Type Layer Name  Layer Trainable\n",
       "0      <LSTM name=lstm_5, built=True>     lstm_5            False\n",
       "1   <Dense name=dense_10, built=True>   dense_10            False\n",
       "2  <Dense name=dense_12, built=False>   dense_12             True\n",
       "3  <Dense name=dense_13, built=False>   dense_13             True"
      ]
     },
     "execution_count": 363,
     "metadata": {},
     "output_type": "execute_result"
    }
   ],
   "source": [
    "import pandas as pd\n",
    "display_layers = [(layer, layer.name, layer.trainable) for layer in new_model.layers]\n",
    "pd.DataFrame(display_layers, columns=['Layer Type', 'Layer Name', 'Layer Trainable'])"
   ]
  },
  {
   "cell_type": "code",
   "execution_count": 364,
   "id": "3941def4-9155-4b96-aaa5-906f50b68a6e",
   "metadata": {},
   "outputs": [
    {
     "name": "stdout",
     "output_type": "stream",
     "text": [
      "Epoch 1/20\n",
      "\u001b[1m89/89\u001b[0m \u001b[32m━━━━━━━━━━━━━━━━━━━━\u001b[0m\u001b[37m\u001b[0m \u001b[1m2s\u001b[0m 4ms/step - accuracy: 0.8969 - loss: 0.2223 - val_accuracy: 1.0000 - val_loss: 6.4030e-06\n",
      "Epoch 2/20\n",
      "\u001b[1m89/89\u001b[0m \u001b[32m━━━━━━━━━━━━━━━━━━━━\u001b[0m\u001b[37m\u001b[0m \u001b[1m0s\u001b[0m 1ms/step - accuracy: 1.0000 - loss: 3.9151e-06 - val_accuracy: 1.0000 - val_loss: 1.0900e-06\n",
      "Epoch 3/20\n",
      "\u001b[1m89/89\u001b[0m \u001b[32m━━━━━━━━━━━━━━━━━━━━\u001b[0m\u001b[37m\u001b[0m \u001b[1m0s\u001b[0m 2ms/step - accuracy: 1.0000 - loss: 8.2192e-07 - val_accuracy: 1.0000 - val_loss: 4.6693e-07\n",
      "Epoch 4/20\n",
      "\u001b[1m89/89\u001b[0m \u001b[32m━━━━━━━━━━━━━━━━━━━━\u001b[0m\u001b[37m\u001b[0m \u001b[1m0s\u001b[0m 1ms/step - accuracy: 1.0000 - loss: 3.5807e-07 - val_accuracy: 1.0000 - val_loss: 2.4908e-07\n",
      "Epoch 5/20\n",
      "\u001b[1m89/89\u001b[0m \u001b[32m━━━━━━━━━━━━━━━━━━━━\u001b[0m\u001b[37m\u001b[0m \u001b[1m0s\u001b[0m 2ms/step - accuracy: 1.0000 - loss: 2.1810e-07 - val_accuracy: 1.0000 - val_loss: 1.3064e-07\n",
      "Epoch 6/20\n",
      "\u001b[1m89/89\u001b[0m \u001b[32m━━━━━━━━━━━━━━━━━━━━\u001b[0m\u001b[37m\u001b[0m \u001b[1m0s\u001b[0m 2ms/step - accuracy: 1.0000 - loss: 1.2087e-07 - val_accuracy: 1.0000 - val_loss: 1.2378e-07\n",
      "Epoch 7/20\n",
      "\u001b[1m89/89\u001b[0m \u001b[32m━━━━━━━━━━━━━━━━━━━━\u001b[0m\u001b[37m\u001b[0m \u001b[1m0s\u001b[0m 1ms/step - accuracy: 1.0000 - loss: 1.1897e-07 - val_accuracy: 1.0000 - val_loss: 1.1769e-07\n",
      "Epoch 8/20\n",
      "\u001b[1m89/89\u001b[0m \u001b[32m━━━━━━━━━━━━━━━━━━━━\u001b[0m\u001b[37m\u001b[0m \u001b[1m0s\u001b[0m 2ms/step - accuracy: 1.0000 - loss: 9.5495e-08 - val_accuracy: 1.0000 - val_loss: 6.0938e-09\n",
      "Epoch 9/20\n",
      "\u001b[1m89/89\u001b[0m \u001b[32m━━━━━━━━━━━━━━━━━━━━\u001b[0m\u001b[37m\u001b[0m \u001b[1m0s\u001b[0m 1ms/step - accuracy: 1.0000 - loss: 1.5355e-09 - val_accuracy: 1.0000 - val_loss: 4.9512e-09\n",
      "Epoch 10/20\n",
      "\u001b[1m89/89\u001b[0m \u001b[32m━━━━━━━━━━━━━━━━━━━━\u001b[0m\u001b[37m\u001b[0m \u001b[1m0s\u001b[0m 1ms/step - accuracy: 1.0000 - loss: 5.6251e-10 - val_accuracy: 1.0000 - val_loss: 4.1895e-09\n",
      "Epoch 11/20\n",
      "\u001b[1m89/89\u001b[0m \u001b[32m━━━━━━━━━━━━━━━━━━━━\u001b[0m\u001b[37m\u001b[0m \u001b[1m0s\u001b[0m 2ms/step - accuracy: 1.0000 - loss: 1.1849e-09 - val_accuracy: 1.0000 - val_loss: 3.8086e-09\n",
      "Epoch 12/20\n",
      "\u001b[1m89/89\u001b[0m \u001b[32m━━━━━━━━━━━━━━━━━━━━\u001b[0m\u001b[37m\u001b[0m \u001b[1m0s\u001b[0m 1ms/step - accuracy: 1.0000 - loss: 1.0275e-09 - val_accuracy: 1.0000 - val_loss: 3.4277e-09\n",
      "Epoch 13/20\n",
      "\u001b[1m89/89\u001b[0m \u001b[32m━━━━━━━━━━━━━━━━━━━━\u001b[0m\u001b[37m\u001b[0m \u001b[1m0s\u001b[0m 1ms/step - accuracy: 1.0000 - loss: 5.0520e-10 - val_accuracy: 1.0000 - val_loss: 3.0469e-09\n",
      "Epoch 14/20\n",
      "\u001b[1m89/89\u001b[0m \u001b[32m━━━━━━━━━━━━━━━━━━━━\u001b[0m\u001b[37m\u001b[0m \u001b[1m0s\u001b[0m 1ms/step - accuracy: 1.0000 - loss: 8.9278e-10 - val_accuracy: 1.0000 - val_loss: 2.6660e-09\n",
      "Epoch 15/20\n",
      "\u001b[1m89/89\u001b[0m \u001b[32m━━━━━━━━━━━━━━━━━━━━\u001b[0m\u001b[37m\u001b[0m \u001b[1m0s\u001b[0m 1ms/step - accuracy: 1.0000 - loss: 4.9243e-10 - val_accuracy: 1.0000 - val_loss: 2.6660e-09\n",
      "Epoch 16/20\n",
      "\u001b[1m89/89\u001b[0m \u001b[32m━━━━━━━━━━━━━━━━━━━━\u001b[0m\u001b[37m\u001b[0m \u001b[1m0s\u001b[0m 1ms/step - accuracy: 1.0000 - loss: 2.9932e-10 - val_accuracy: 1.0000 - val_loss: 2.2852e-09\n",
      "Epoch 17/20\n",
      "\u001b[1m89/89\u001b[0m \u001b[32m━━━━━━━━━━━━━━━━━━━━\u001b[0m\u001b[37m\u001b[0m \u001b[1m0s\u001b[0m 1ms/step - accuracy: 1.0000 - loss: 6.3110e-10 - val_accuracy: 1.0000 - val_loss: 2.2852e-09\n",
      "Epoch 18/20\n",
      "\u001b[1m89/89\u001b[0m \u001b[32m━━━━━━━━━━━━━━━━━━━━\u001b[0m\u001b[37m\u001b[0m \u001b[1m0s\u001b[0m 1ms/step - accuracy: 1.0000 - loss: 7.1348e-10 - val_accuracy: 1.0000 - val_loss: 2.2852e-09\n",
      "Epoch 19/20\n",
      "\u001b[1m89/89\u001b[0m \u001b[32m━━━━━━━━━━━━━━━━━━━━\u001b[0m\u001b[37m\u001b[0m \u001b[1m0s\u001b[0m 1ms/step - accuracy: 1.0000 - loss: 5.5245e-10 - val_accuracy: 1.0000 - val_loss: 1.5234e-09\n",
      "Epoch 20/20\n",
      "\u001b[1m89/89\u001b[0m \u001b[32m━━━━━━━━━━━━━━━━━━━━\u001b[0m\u001b[37m\u001b[0m \u001b[1m0s\u001b[0m 2ms/step - accuracy: 1.0000 - loss: 6.0058e-10 - val_accuracy: 1.0000 - val_loss: 1.5234e-09\n"
     ]
    },
    {
     "data": {
      "text/html": [
       "<pre style=\"white-space:pre;overflow-x:auto;line-height:normal;font-family:Menlo,'DejaVu Sans Mono',consolas,'Courier New',monospace\"><span style=\"font-weight: bold\">Model: \"sequential_6\"</span>\n",
       "</pre>\n"
      ],
      "text/plain": [
       "\u001b[1mModel: \"sequential_6\"\u001b[0m\n"
      ]
     },
     "metadata": {},
     "output_type": "display_data"
    },
    {
     "data": {
      "text/html": [
       "<pre style=\"white-space:pre;overflow-x:auto;line-height:normal;font-family:Menlo,'DejaVu Sans Mono',consolas,'Courier New',monospace\">┏━━━━━━━━━━━━━━━━━━━━━━━━━━━━━━━━━━━━━━┳━━━━━━━━━━━━━━━━━━━━━━━━━━━━━┳━━━━━━━━━━━━━━━━━┓\n",
       "┃<span style=\"font-weight: bold\"> Layer (type)                         </span>┃<span style=\"font-weight: bold\"> Output Shape                </span>┃<span style=\"font-weight: bold\">         Param # </span>┃\n",
       "┡━━━━━━━━━━━━━━━━━━━━━━━━━━━━━━━━━━━━━━╇━━━━━━━━━━━━━━━━━━━━━━━━━━━━━╇━━━━━━━━━━━━━━━━━┩\n",
       "│ lstm_5 (<span style=\"color: #0087ff; text-decoration-color: #0087ff\">LSTM</span>)                        │ (<span style=\"color: #00d7ff; text-decoration-color: #00d7ff\">None</span>, <span style=\"color: #00af00; text-decoration-color: #00af00\">128</span>)                 │          <span style=\"color: #00af00; text-decoration-color: #00af00\">84,480</span> │\n",
       "├──────────────────────────────────────┼─────────────────────────────┼─────────────────┤\n",
       "│ dense_10 (<span style=\"color: #0087ff; text-decoration-color: #0087ff\">Dense</span>)                     │ (<span style=\"color: #00d7ff; text-decoration-color: #00d7ff\">None</span>, <span style=\"color: #00af00; text-decoration-color: #00af00\">128</span>)                 │          <span style=\"color: #00af00; text-decoration-color: #00af00\">16,512</span> │\n",
       "├──────────────────────────────────────┼─────────────────────────────┼─────────────────┤\n",
       "│ dense_12 (<span style=\"color: #0087ff; text-decoration-color: #0087ff\">Dense</span>)                     │ (<span style=\"color: #00d7ff; text-decoration-color: #00d7ff\">None</span>, <span style=\"color: #00af00; text-decoration-color: #00af00\">256</span>)                 │          <span style=\"color: #00af00; text-decoration-color: #00af00\">33,024</span> │\n",
       "├──────────────────────────────────────┼─────────────────────────────┼─────────────────┤\n",
       "│ dense_13 (<span style=\"color: #0087ff; text-decoration-color: #0087ff\">Dense</span>)                     │ (<span style=\"color: #00d7ff; text-decoration-color: #00d7ff\">None</span>, <span style=\"color: #00af00; text-decoration-color: #00af00\">2</span>)                   │             <span style=\"color: #00af00; text-decoration-color: #00af00\">514</span> │\n",
       "└──────────────────────────────────────┴─────────────────────────────┴─────────────────┘\n",
       "</pre>\n"
      ],
      "text/plain": [
       "┏━━━━━━━━━━━━━━━━━━━━━━━━━━━━━━━━━━━━━━┳━━━━━━━━━━━━━━━━━━━━━━━━━━━━━┳━━━━━━━━━━━━━━━━━┓\n",
       "┃\u001b[1m \u001b[0m\u001b[1mLayer (type)                        \u001b[0m\u001b[1m \u001b[0m┃\u001b[1m \u001b[0m\u001b[1mOutput Shape               \u001b[0m\u001b[1m \u001b[0m┃\u001b[1m \u001b[0m\u001b[1m        Param #\u001b[0m\u001b[1m \u001b[0m┃\n",
       "┡━━━━━━━━━━━━━━━━━━━━━━━━━━━━━━━━━━━━━━╇━━━━━━━━━━━━━━━━━━━━━━━━━━━━━╇━━━━━━━━━━━━━━━━━┩\n",
       "│ lstm_5 (\u001b[38;5;33mLSTM\u001b[0m)                        │ (\u001b[38;5;45mNone\u001b[0m, \u001b[38;5;34m128\u001b[0m)                 │          \u001b[38;5;34m84,480\u001b[0m │\n",
       "├──────────────────────────────────────┼─────────────────────────────┼─────────────────┤\n",
       "│ dense_10 (\u001b[38;5;33mDense\u001b[0m)                     │ (\u001b[38;5;45mNone\u001b[0m, \u001b[38;5;34m128\u001b[0m)                 │          \u001b[38;5;34m16,512\u001b[0m │\n",
       "├──────────────────────────────────────┼─────────────────────────────┼─────────────────┤\n",
       "│ dense_12 (\u001b[38;5;33mDense\u001b[0m)                     │ (\u001b[38;5;45mNone\u001b[0m, \u001b[38;5;34m256\u001b[0m)                 │          \u001b[38;5;34m33,024\u001b[0m │\n",
       "├──────────────────────────────────────┼─────────────────────────────┼─────────────────┤\n",
       "│ dense_13 (\u001b[38;5;33mDense\u001b[0m)                     │ (\u001b[38;5;45mNone\u001b[0m, \u001b[38;5;34m2\u001b[0m)                   │             \u001b[38;5;34m514\u001b[0m │\n",
       "└──────────────────────────────────────┴─────────────────────────────┴─────────────────┘\n"
      ]
     },
     "metadata": {},
     "output_type": "display_data"
    },
    {
     "data": {
      "text/html": [
       "<pre style=\"white-space:pre;overflow-x:auto;line-height:normal;font-family:Menlo,'DejaVu Sans Mono',consolas,'Courier New',monospace\"><span style=\"font-weight: bold\"> Total params: </span><span style=\"color: #00af00; text-decoration-color: #00af00\">201,608</span> (787.54 KB)\n",
       "</pre>\n"
      ],
      "text/plain": [
       "\u001b[1m Total params: \u001b[0m\u001b[38;5;34m201,608\u001b[0m (787.54 KB)\n"
      ]
     },
     "metadata": {},
     "output_type": "display_data"
    },
    {
     "data": {
      "text/html": [
       "<pre style=\"white-space:pre;overflow-x:auto;line-height:normal;font-family:Menlo,'DejaVu Sans Mono',consolas,'Courier New',monospace\"><span style=\"font-weight: bold\"> Trainable params: </span><span style=\"color: #00af00; text-decoration-color: #00af00\">33,538</span> (131.01 KB)\n",
       "</pre>\n"
      ],
      "text/plain": [
       "\u001b[1m Trainable params: \u001b[0m\u001b[38;5;34m33,538\u001b[0m (131.01 KB)\n"
      ]
     },
     "metadata": {},
     "output_type": "display_data"
    },
    {
     "data": {
      "text/html": [
       "<pre style=\"white-space:pre;overflow-x:auto;line-height:normal;font-family:Menlo,'DejaVu Sans Mono',consolas,'Courier New',monospace\"><span style=\"font-weight: bold\"> Non-trainable params: </span><span style=\"color: #00af00; text-decoration-color: #00af00\">100,992</span> (394.50 KB)\n",
       "</pre>\n"
      ],
      "text/plain": [
       "\u001b[1m Non-trainable params: \u001b[0m\u001b[38;5;34m100,992\u001b[0m (394.50 KB)\n"
      ]
     },
     "metadata": {},
     "output_type": "display_data"
    },
    {
     "data": {
      "text/html": [
       "<pre style=\"white-space:pre;overflow-x:auto;line-height:normal;font-family:Menlo,'DejaVu Sans Mono',consolas,'Courier New',monospace\"><span style=\"font-weight: bold\"> Optimizer params: </span><span style=\"color: #00af00; text-decoration-color: #00af00\">67,078</span> (262.03 KB)\n",
       "</pre>\n"
      ],
      "text/plain": [
       "\u001b[1m Optimizer params: \u001b[0m\u001b[38;5;34m67,078\u001b[0m (262.03 KB)\n"
      ]
     },
     "metadata": {},
     "output_type": "display_data"
    }
   ],
   "source": [
    "history3 = new_model.fit(X_train_seq, y_train_seq, epochs = 20, batch_size = 32, validation_split = 0.1, shuffle = True)\n",
    "\n",
    "new_model.summary()"
   ]
  },
  {
   "cell_type": "code",
   "execution_count": 365,
   "id": "afd7be11-df29-424c-be2b-75030a715a94",
   "metadata": {},
   "outputs": [
    {
     "name": "stdout",
     "output_type": "stream",
     "text": [
      "\u001b[1m33/33\u001b[0m \u001b[32m━━━━━━━━━━━━━━━━━━━━\u001b[0m\u001b[37m\u001b[0m \u001b[1m0s\u001b[0m 965us/step - accuracy: 1.0000 - loss: 6.6595e-11\n"
     ]
    },
    {
     "data": {
      "text/plain": [
       "[2.2858921699953072e-10, 1.0]"
      ]
     },
     "execution_count": 365,
     "metadata": {},
     "output_type": "execute_result"
    }
   ],
   "source": [
    "new_model.evaluate(X_test_seq, y_test_seq)"
   ]
  },
  {
   "cell_type": "markdown",
   "id": "7fcb6951-7a00-4e8d-ad72-7bfcbaad74c1",
   "metadata": {},
   "source": [
    "# Fine Tunning 미세 조정"
   ]
  },
  {
   "cell_type": "code",
   "execution_count": 367,
   "id": "41f19b75-91d7-40cc-9e9b-9b62753d3135",
   "metadata": {},
   "outputs": [],
   "source": [
    "base_model.trainable = True\n",
    "new_model.compile(optimizer='adam', metrics=['accuracy'], loss='categorical_crossentropy')"
   ]
  },
  {
   "cell_type": "code",
   "execution_count": 368,
   "id": "066acc93-f1f2-418b-8f13-f25011816649",
   "metadata": {},
   "outputs": [
    {
     "data": {
      "text/html": [
       "<div>\n",
       "<style scoped>\n",
       "    .dataframe tbody tr th:only-of-type {\n",
       "        vertical-align: middle;\n",
       "    }\n",
       "\n",
       "    .dataframe tbody tr th {\n",
       "        vertical-align: top;\n",
       "    }\n",
       "\n",
       "    .dataframe thead th {\n",
       "        text-align: right;\n",
       "    }\n",
       "</style>\n",
       "<table border=\"1\" class=\"dataframe\">\n",
       "  <thead>\n",
       "    <tr style=\"text-align: right;\">\n",
       "      <th></th>\n",
       "      <th>Layer Type</th>\n",
       "      <th>Layer Name</th>\n",
       "      <th>Layer Trainable</th>\n",
       "    </tr>\n",
       "  </thead>\n",
       "  <tbody>\n",
       "    <tr>\n",
       "      <th>0</th>\n",
       "      <td>&lt;LSTM name=lstm_5, built=True&gt;</td>\n",
       "      <td>lstm_5</td>\n",
       "      <td>True</td>\n",
       "    </tr>\n",
       "    <tr>\n",
       "      <th>1</th>\n",
       "      <td>&lt;Dense name=dense_10, built=True&gt;</td>\n",
       "      <td>dense_10</td>\n",
       "      <td>True</td>\n",
       "    </tr>\n",
       "    <tr>\n",
       "      <th>2</th>\n",
       "      <td>&lt;Dense name=dense_12, built=True&gt;</td>\n",
       "      <td>dense_12</td>\n",
       "      <td>True</td>\n",
       "    </tr>\n",
       "    <tr>\n",
       "      <th>3</th>\n",
       "      <td>&lt;Dense name=dense_13, built=True&gt;</td>\n",
       "      <td>dense_13</td>\n",
       "      <td>True</td>\n",
       "    </tr>\n",
       "  </tbody>\n",
       "</table>\n",
       "</div>"
      ],
      "text/plain": [
       "                          Layer Type Layer Name  Layer Trainable\n",
       "0     <LSTM name=lstm_5, built=True>     lstm_5             True\n",
       "1  <Dense name=dense_10, built=True>   dense_10             True\n",
       "2  <Dense name=dense_12, built=True>   dense_12             True\n",
       "3  <Dense name=dense_13, built=True>   dense_13             True"
      ]
     },
     "execution_count": 368,
     "metadata": {},
     "output_type": "execute_result"
    }
   ],
   "source": [
    "import pandas as pd\n",
    "display_layers = [(layer, layer.name, layer.trainable) for layer in new_model.layers]\n",
    "pd.DataFrame(display_layers, columns=['Layer Type', 'Layer Name', 'Layer Trainable'])"
   ]
  },
  {
   "cell_type": "code",
   "execution_count": 369,
   "id": "e0cacf46-0cb0-4f88-a7c5-60b7c02552fa",
   "metadata": {},
   "outputs": [
    {
     "name": "stdout",
     "output_type": "stream",
     "text": [
      "Epoch 1/20\n",
      "\u001b[1m89/89\u001b[0m \u001b[32m━━━━━━━━━━━━━━━━━━━━\u001b[0m\u001b[37m\u001b[0m \u001b[1m2s\u001b[0m 5ms/step - accuracy: 1.0000 - loss: 8.7647e-11 - val_accuracy: 1.0000 - val_loss: 7.6172e-10\n",
      "Epoch 2/20\n",
      "\u001b[1m89/89\u001b[0m \u001b[32m━━━━━━━━━━━━━━━━━━━━\u001b[0m\u001b[37m\u001b[0m \u001b[1m0s\u001b[0m 2ms/step - accuracy: 1.0000 - loss: 2.1645e-10 - val_accuracy: 1.0000 - val_loss: 3.8086e-10\n",
      "Epoch 3/20\n",
      "\u001b[1m89/89\u001b[0m \u001b[32m━━━━━━━━━━━━━━━━━━━━\u001b[0m\u001b[37m\u001b[0m \u001b[1m0s\u001b[0m 2ms/step - accuracy: 1.0000 - loss: 6.5724e-11 - val_accuracy: 1.0000 - val_loss: 3.8086e-10\n",
      "Epoch 4/20\n",
      "\u001b[1m89/89\u001b[0m \u001b[32m━━━━━━━━━━━━━━━━━━━━\u001b[0m\u001b[37m\u001b[0m \u001b[1m0s\u001b[0m 2ms/step - accuracy: 1.0000 - loss: 0.0000e+00 - val_accuracy: 1.0000 - val_loss: 3.8086e-10\n",
      "Epoch 5/20\n",
      "\u001b[1m89/89\u001b[0m \u001b[32m━━━━━━━━━━━━━━━━━━━━\u001b[0m\u001b[37m\u001b[0m \u001b[1m0s\u001b[0m 2ms/step - accuracy: 1.0000 - loss: 0.0000e+00 - val_accuracy: 1.0000 - val_loss: 0.0000e+00\n",
      "Epoch 6/20\n",
      "\u001b[1m89/89\u001b[0m \u001b[32m━━━━━━━━━━━━━━━━━━━━\u001b[0m\u001b[37m\u001b[0m \u001b[1m0s\u001b[0m 2ms/step - accuracy: 1.0000 - loss: 0.0000e+00 - val_accuracy: 1.0000 - val_loss: 0.0000e+00\n",
      "Epoch 7/20\n",
      "\u001b[1m89/89\u001b[0m \u001b[32m━━━━━━━━━━━━━━━━━━━━\u001b[0m\u001b[37m\u001b[0m \u001b[1m0s\u001b[0m 2ms/step - accuracy: 1.0000 - loss: 0.0000e+00 - val_accuracy: 1.0000 - val_loss: 0.0000e+00\n",
      "Epoch 8/20\n",
      "\u001b[1m89/89\u001b[0m \u001b[32m━━━━━━━━━━━━━━━━━━━━\u001b[0m\u001b[37m\u001b[0m \u001b[1m0s\u001b[0m 2ms/step - accuracy: 1.0000 - loss: 0.0000e+00 - val_accuracy: 1.0000 - val_loss: 0.0000e+00\n",
      "Epoch 9/20\n",
      "\u001b[1m89/89\u001b[0m \u001b[32m━━━━━━━━━━━━━━━━━━━━\u001b[0m\u001b[37m\u001b[0m \u001b[1m0s\u001b[0m 2ms/step - accuracy: 1.0000 - loss: 0.0000e+00 - val_accuracy: 1.0000 - val_loss: 0.0000e+00\n",
      "Epoch 10/20\n",
      "\u001b[1m89/89\u001b[0m \u001b[32m━━━━━━━━━━━━━━━━━━━━\u001b[0m\u001b[37m\u001b[0m \u001b[1m0s\u001b[0m 2ms/step - accuracy: 1.0000 - loss: 0.0000e+00 - val_accuracy: 1.0000 - val_loss: 0.0000e+00\n",
      "Epoch 11/20\n",
      "\u001b[1m89/89\u001b[0m \u001b[32m━━━━━━━━━━━━━━━━━━━━\u001b[0m\u001b[37m\u001b[0m \u001b[1m0s\u001b[0m 2ms/step - accuracy: 1.0000 - loss: 0.0000e+00 - val_accuracy: 1.0000 - val_loss: 0.0000e+00\n",
      "Epoch 12/20\n",
      "\u001b[1m89/89\u001b[0m \u001b[32m━━━━━━━━━━━━━━━━━━━━\u001b[0m\u001b[37m\u001b[0m \u001b[1m0s\u001b[0m 2ms/step - accuracy: 1.0000 - loss: 0.0000e+00 - val_accuracy: 1.0000 - val_loss: 0.0000e+00\n",
      "Epoch 13/20\n",
      "\u001b[1m89/89\u001b[0m \u001b[32m━━━━━━━━━━━━━━━━━━━━\u001b[0m\u001b[37m\u001b[0m \u001b[1m0s\u001b[0m 2ms/step - accuracy: 1.0000 - loss: 0.0000e+00 - val_accuracy: 1.0000 - val_loss: 0.0000e+00\n",
      "Epoch 14/20\n",
      "\u001b[1m89/89\u001b[0m \u001b[32m━━━━━━━━━━━━━━━━━━━━\u001b[0m\u001b[37m\u001b[0m \u001b[1m0s\u001b[0m 2ms/step - accuracy: 1.0000 - loss: 0.0000e+00 - val_accuracy: 1.0000 - val_loss: 0.0000e+00\n",
      "Epoch 15/20\n",
      "\u001b[1m89/89\u001b[0m \u001b[32m━━━━━━━━━━━━━━━━━━━━\u001b[0m\u001b[37m\u001b[0m \u001b[1m0s\u001b[0m 2ms/step - accuracy: 1.0000 - loss: 0.0000e+00 - val_accuracy: 1.0000 - val_loss: 0.0000e+00\n",
      "Epoch 16/20\n",
      "\u001b[1m89/89\u001b[0m \u001b[32m━━━━━━━━━━━━━━━━━━━━\u001b[0m\u001b[37m\u001b[0m \u001b[1m0s\u001b[0m 2ms/step - accuracy: 1.0000 - loss: 0.0000e+00 - val_accuracy: 1.0000 - val_loss: 0.0000e+00\n",
      "Epoch 17/20\n",
      "\u001b[1m89/89\u001b[0m \u001b[32m━━━━━━━━━━━━━━━━━━━━\u001b[0m\u001b[37m\u001b[0m \u001b[1m0s\u001b[0m 2ms/step - accuracy: 1.0000 - loss: 0.0000e+00 - val_accuracy: 1.0000 - val_loss: 0.0000e+00\n",
      "Epoch 18/20\n",
      "\u001b[1m89/89\u001b[0m \u001b[32m━━━━━━━━━━━━━━━━━━━━\u001b[0m\u001b[37m\u001b[0m \u001b[1m0s\u001b[0m 2ms/step - accuracy: 1.0000 - loss: 0.0000e+00 - val_accuracy: 1.0000 - val_loss: 0.0000e+00\n",
      "Epoch 19/20\n",
      "\u001b[1m89/89\u001b[0m \u001b[32m━━━━━━━━━━━━━━━━━━━━\u001b[0m\u001b[37m\u001b[0m \u001b[1m0s\u001b[0m 2ms/step - accuracy: 1.0000 - loss: 0.0000e+00 - val_accuracy: 1.0000 - val_loss: 0.0000e+00\n",
      "Epoch 20/20\n",
      "\u001b[1m89/89\u001b[0m \u001b[32m━━━━━━━━━━━━━━━━━━━━\u001b[0m\u001b[37m\u001b[0m \u001b[1m0s\u001b[0m 2ms/step - accuracy: 1.0000 - loss: 0.0000e+00 - val_accuracy: 1.0000 - val_loss: 0.0000e+00\n"
     ]
    },
    {
     "data": {
      "text/html": [
       "<pre style=\"white-space:pre;overflow-x:auto;line-height:normal;font-family:Menlo,'DejaVu Sans Mono',consolas,'Courier New',monospace\"><span style=\"font-weight: bold\">Model: \"sequential_6\"</span>\n",
       "</pre>\n"
      ],
      "text/plain": [
       "\u001b[1mModel: \"sequential_6\"\u001b[0m\n"
      ]
     },
     "metadata": {},
     "output_type": "display_data"
    },
    {
     "data": {
      "text/html": [
       "<pre style=\"white-space:pre;overflow-x:auto;line-height:normal;font-family:Menlo,'DejaVu Sans Mono',consolas,'Courier New',monospace\">┏━━━━━━━━━━━━━━━━━━━━━━━━━━━━━━━━━━━━━━┳━━━━━━━━━━━━━━━━━━━━━━━━━━━━━┳━━━━━━━━━━━━━━━━━┓\n",
       "┃<span style=\"font-weight: bold\"> Layer (type)                         </span>┃<span style=\"font-weight: bold\"> Output Shape                </span>┃<span style=\"font-weight: bold\">         Param # </span>┃\n",
       "┡━━━━━━━━━━━━━━━━━━━━━━━━━━━━━━━━━━━━━━╇━━━━━━━━━━━━━━━━━━━━━━━━━━━━━╇━━━━━━━━━━━━━━━━━┩\n",
       "│ lstm_5 (<span style=\"color: #0087ff; text-decoration-color: #0087ff\">LSTM</span>)                        │ (<span style=\"color: #00d7ff; text-decoration-color: #00d7ff\">None</span>, <span style=\"color: #00af00; text-decoration-color: #00af00\">128</span>)                 │          <span style=\"color: #00af00; text-decoration-color: #00af00\">84,480</span> │\n",
       "├──────────────────────────────────────┼─────────────────────────────┼─────────────────┤\n",
       "│ dense_10 (<span style=\"color: #0087ff; text-decoration-color: #0087ff\">Dense</span>)                     │ (<span style=\"color: #00d7ff; text-decoration-color: #00d7ff\">None</span>, <span style=\"color: #00af00; text-decoration-color: #00af00\">128</span>)                 │          <span style=\"color: #00af00; text-decoration-color: #00af00\">16,512</span> │\n",
       "├──────────────────────────────────────┼─────────────────────────────┼─────────────────┤\n",
       "│ dense_12 (<span style=\"color: #0087ff; text-decoration-color: #0087ff\">Dense</span>)                     │ (<span style=\"color: #00d7ff; text-decoration-color: #00d7ff\">None</span>, <span style=\"color: #00af00; text-decoration-color: #00af00\">256</span>)                 │          <span style=\"color: #00af00; text-decoration-color: #00af00\">33,024</span> │\n",
       "├──────────────────────────────────────┼─────────────────────────────┼─────────────────┤\n",
       "│ dense_13 (<span style=\"color: #0087ff; text-decoration-color: #0087ff\">Dense</span>)                     │ (<span style=\"color: #00d7ff; text-decoration-color: #00d7ff\">None</span>, <span style=\"color: #00af00; text-decoration-color: #00af00\">2</span>)                   │             <span style=\"color: #00af00; text-decoration-color: #00af00\">514</span> │\n",
       "└──────────────────────────────────────┴─────────────────────────────┴─────────────────┘\n",
       "</pre>\n"
      ],
      "text/plain": [
       "┏━━━━━━━━━━━━━━━━━━━━━━━━━━━━━━━━━━━━━━┳━━━━━━━━━━━━━━━━━━━━━━━━━━━━━┳━━━━━━━━━━━━━━━━━┓\n",
       "┃\u001b[1m \u001b[0m\u001b[1mLayer (type)                        \u001b[0m\u001b[1m \u001b[0m┃\u001b[1m \u001b[0m\u001b[1mOutput Shape               \u001b[0m\u001b[1m \u001b[0m┃\u001b[1m \u001b[0m\u001b[1m        Param #\u001b[0m\u001b[1m \u001b[0m┃\n",
       "┡━━━━━━━━━━━━━━━━━━━━━━━━━━━━━━━━━━━━━━╇━━━━━━━━━━━━━━━━━━━━━━━━━━━━━╇━━━━━━━━━━━━━━━━━┩\n",
       "│ lstm_5 (\u001b[38;5;33mLSTM\u001b[0m)                        │ (\u001b[38;5;45mNone\u001b[0m, \u001b[38;5;34m128\u001b[0m)                 │          \u001b[38;5;34m84,480\u001b[0m │\n",
       "├──────────────────────────────────────┼─────────────────────────────┼─────────────────┤\n",
       "│ dense_10 (\u001b[38;5;33mDense\u001b[0m)                     │ (\u001b[38;5;45mNone\u001b[0m, \u001b[38;5;34m128\u001b[0m)                 │          \u001b[38;5;34m16,512\u001b[0m │\n",
       "├──────────────────────────────────────┼─────────────────────────────┼─────────────────┤\n",
       "│ dense_12 (\u001b[38;5;33mDense\u001b[0m)                     │ (\u001b[38;5;45mNone\u001b[0m, \u001b[38;5;34m256\u001b[0m)                 │          \u001b[38;5;34m33,024\u001b[0m │\n",
       "├──────────────────────────────────────┼─────────────────────────────┼─────────────────┤\n",
       "│ dense_13 (\u001b[38;5;33mDense\u001b[0m)                     │ (\u001b[38;5;45mNone\u001b[0m, \u001b[38;5;34m2\u001b[0m)                   │             \u001b[38;5;34m514\u001b[0m │\n",
       "└──────────────────────────────────────┴─────────────────────────────┴─────────────────┘\n"
      ]
     },
     "metadata": {},
     "output_type": "display_data"
    },
    {
     "data": {
      "text/html": [
       "<pre style=\"white-space:pre;overflow-x:auto;line-height:normal;font-family:Menlo,'DejaVu Sans Mono',consolas,'Courier New',monospace\"><span style=\"font-weight: bold\"> Total params: </span><span style=\"color: #00af00; text-decoration-color: #00af00\">403,592</span> (1.54 MB)\n",
       "</pre>\n"
      ],
      "text/plain": [
       "\u001b[1m Total params: \u001b[0m\u001b[38;5;34m403,592\u001b[0m (1.54 MB)\n"
      ]
     },
     "metadata": {},
     "output_type": "display_data"
    },
    {
     "data": {
      "text/html": [
       "<pre style=\"white-space:pre;overflow-x:auto;line-height:normal;font-family:Menlo,'DejaVu Sans Mono',consolas,'Courier New',monospace\"><span style=\"font-weight: bold\"> Trainable params: </span><span style=\"color: #00af00; text-decoration-color: #00af00\">134,530</span> (525.51 KB)\n",
       "</pre>\n"
      ],
      "text/plain": [
       "\u001b[1m Trainable params: \u001b[0m\u001b[38;5;34m134,530\u001b[0m (525.51 KB)\n"
      ]
     },
     "metadata": {},
     "output_type": "display_data"
    },
    {
     "data": {
      "text/html": [
       "<pre style=\"white-space:pre;overflow-x:auto;line-height:normal;font-family:Menlo,'DejaVu Sans Mono',consolas,'Courier New',monospace\"><span style=\"font-weight: bold\"> Non-trainable params: </span><span style=\"color: #00af00; text-decoration-color: #00af00\">0</span> (0.00 B)\n",
       "</pre>\n"
      ],
      "text/plain": [
       "\u001b[1m Non-trainable params: \u001b[0m\u001b[38;5;34m0\u001b[0m (0.00 B)\n"
      ]
     },
     "metadata": {},
     "output_type": "display_data"
    },
    {
     "data": {
      "text/html": [
       "<pre style=\"white-space:pre;overflow-x:auto;line-height:normal;font-family:Menlo,'DejaVu Sans Mono',consolas,'Courier New',monospace\"><span style=\"font-weight: bold\"> Optimizer params: </span><span style=\"color: #00af00; text-decoration-color: #00af00\">269,062</span> (1.03 MB)\n",
       "</pre>\n"
      ],
      "text/plain": [
       "\u001b[1m Optimizer params: \u001b[0m\u001b[38;5;34m269,062\u001b[0m (1.03 MB)\n"
      ]
     },
     "metadata": {},
     "output_type": "display_data"
    }
   ],
   "source": [
    "history3 = new_model.fit(X_train_seq, y_train_seq, epochs = 20, batch_size = 32, validation_split = 0.1, shuffle = True)\n",
    "\n",
    "new_model.summary()"
   ]
  },
  {
   "cell_type": "code",
   "execution_count": 370,
   "id": "6c1e3af5-418f-40c1-8f38-7eba01c3f0ad",
   "metadata": {},
   "outputs": [
    {
     "name": "stdout",
     "output_type": "stream",
     "text": [
      "\u001b[1m33/33\u001b[0m \u001b[32m━━━━━━━━━━━━━━━━━━━━\u001b[0m\u001b[37m\u001b[0m \u001b[1m0s\u001b[0m 1ms/step - accuracy: 1.0000 - loss: 0.0000e+00 \n"
     ]
    },
    {
     "data": {
      "text/plain": [
       "[0.0, 1.0]"
      ]
     },
     "execution_count": 370,
     "metadata": {},
     "output_type": "execute_result"
    }
   ],
   "source": [
    "new_model.evaluate(X_test_seq, y_test_seq)"
   ]
  },
  {
   "cell_type": "markdown",
   "id": "76649cdd-9e6e-4025-be01-312adf7c3911",
   "metadata": {},
   "source": [
    "# RA모델을 불러서 LA로"
   ]
  },
  {
   "cell_type": "code",
   "execution_count": 372,
   "id": "34923c2b-16b4-4254-a8f0-88d93dabde29",
   "metadata": {},
   "outputs": [
    {
     "name": "stderr",
     "output_type": "stream",
     "text": [
      "WARNING:absl:No training configuration found in the save file, so the model was *not* compiled. Compile it manually.\n"
     ]
    }
   ],
   "source": [
    "# Base 모델을 로드 (LA_Model.h5)\n",
    "from tensorflow.keras.models import load_model\n",
    "\n",
    "base_model = load_model(model_file)"
   ]
  },
  {
   "cell_type": "code",
   "execution_count": 373,
   "id": "087919ad-39ce-41bb-a005-40e355c01131",
   "metadata": {},
   "outputs": [
    {
     "name": "stdout",
     "output_type": "stream",
     "text": [
      "\u001b[1m33/33\u001b[0m \u001b[32m━━━━━━━━━━━━━━━━━━━━\u001b[0m\u001b[37m\u001b[0m \u001b[1m0s\u001b[0m 1ms/step - accuracy: 1.0000 - loss: 6.3807e-10   \n"
     ]
    },
    {
     "data": {
      "text/plain": [
       "[1.8287127367955236e-09, 1.0]"
      ]
     },
     "execution_count": 373,
     "metadata": {},
     "output_type": "execute_result"
    }
   ],
   "source": [
    "\n",
    "base_model.compile(optimizer='adam', metrics=['accuracy'], loss='categorical_crossentropy')\n",
    "base_model.evaluate(X_test_seq, y_test_seq)"
   ]
  },
  {
   "cell_type": "code",
   "execution_count": 374,
   "id": "4c969683-7bf4-436f-af06-c36bde799149",
   "metadata": {},
   "outputs": [
    {
     "name": "stdout",
     "output_type": "stream",
     "text": [
      "\u001b[1m33/33\u001b[0m \u001b[32m━━━━━━━━━━━━━━━━━━━━\u001b[0m\u001b[37m\u001b[0m \u001b[1m0s\u001b[0m 910us/step - accuracy: 1.0000 - loss: 6.3807e-10\n"
     ]
    },
    {
     "data": {
      "text/plain": [
       "[1.8287127367955236e-09, 1.0]"
      ]
     },
     "execution_count": 374,
     "metadata": {},
     "output_type": "execute_result"
    }
   ],
   "source": [
    "base_model.evaluate(X_test_seq, y_test_seq)"
   ]
  },
  {
   "cell_type": "code",
   "execution_count": 375,
   "id": "c829ff94-6439-4ac1-88d4-ec9c57b5a070",
   "metadata": {},
   "outputs": [
    {
     "name": "stdout",
     "output_type": "stream",
     "text": [
      "Number of layers in the base model:  3\n"
     ]
    }
   ],
   "source": [
    "print(\"Number of layers in the base model: \", len(base_model.layers))"
   ]
  },
  {
   "cell_type": "code",
   "execution_count": 376,
   "id": "d428999d-182a-4b1c-b2ba-a4f8eb961343",
   "metadata": {},
   "outputs": [],
   "source": [
    "# 기존 모델의 층을 동결 (학습되지 않도록 설정)\n",
    "base_model.trainable = False"
   ]
  },
  {
   "cell_type": "code",
   "execution_count": 377,
   "id": "3215adde-83b9-4252-b754-bf3fb94a3860",
   "metadata": {},
   "outputs": [],
   "source": [
    "# 기존 모델의 층을 동결 (학습되지 않도록 설정)\n",
    "base_model.trainable = False\n",
    "\n",
    "from tensorflow.keras.applications import VGG16\n",
    "from tensorflow.keras import layers, models\n",
    "\n",
    "def remove_last_layers(model, num_layers_to_remove):\n",
    "    # 모델의 레이어를 하나씩 슬라이스해서 앞의 레이어만 가져옴\n",
    "    model_layers = model.layers[:-num_layers_to_remove]  # 마지막 레이어부터 지정된 갯수만큼 제외\n",
    "    new_model = models.Sequential(model_layers)  # 새로운 모델에 해당 레이어들만 추가\n",
    "    return new_model"
   ]
  },
  {
   "cell_type": "code",
   "execution_count": 378,
   "id": "bfa3c4be-73f4-4de0-98b0-4617024532ec",
   "metadata": {},
   "outputs": [
    {
     "data": {
      "text/html": [
       "<pre style=\"white-space:pre;overflow-x:auto;line-height:normal;font-family:Menlo,'DejaVu Sans Mono',consolas,'Courier New',monospace\"><span style=\"font-weight: bold\">Model: \"sequential_7\"</span>\n",
       "</pre>\n"
      ],
      "text/plain": [
       "\u001b[1mModel: \"sequential_7\"\u001b[0m\n"
      ]
     },
     "metadata": {},
     "output_type": "display_data"
    },
    {
     "data": {
      "text/html": [
       "<pre style=\"white-space:pre;overflow-x:auto;line-height:normal;font-family:Menlo,'DejaVu Sans Mono',consolas,'Courier New',monospace\">┏━━━━━━━━━━━━━━━━━━━━━━━━━━━━━━━━━━━━━━┳━━━━━━━━━━━━━━━━━━━━━━━━━━━━━┳━━━━━━━━━━━━━━━━━┓\n",
       "┃<span style=\"font-weight: bold\"> Layer (type)                         </span>┃<span style=\"font-weight: bold\"> Output Shape                </span>┃<span style=\"font-weight: bold\">         Param # </span>┃\n",
       "┡━━━━━━━━━━━━━━━━━━━━━━━━━━━━━━━━━━━━━━╇━━━━━━━━━━━━━━━━━━━━━━━━━━━━━╇━━━━━━━━━━━━━━━━━┩\n",
       "│ lstm_3 (<span style=\"color: #0087ff; text-decoration-color: #0087ff\">LSTM</span>)                        │ (<span style=\"color: #00d7ff; text-decoration-color: #00d7ff\">None</span>, <span style=\"color: #00af00; text-decoration-color: #00af00\">128</span>)                 │          <span style=\"color: #00af00; text-decoration-color: #00af00\">84,480</span> │\n",
       "├──────────────────────────────────────┼─────────────────────────────┼─────────────────┤\n",
       "│ dense_6 (<span style=\"color: #0087ff; text-decoration-color: #0087ff\">Dense</span>)                      │ (<span style=\"color: #00d7ff; text-decoration-color: #00d7ff\">None</span>, <span style=\"color: #00af00; text-decoration-color: #00af00\">128</span>)                 │          <span style=\"color: #00af00; text-decoration-color: #00af00\">16,512</span> │\n",
       "├──────────────────────────────────────┼─────────────────────────────┼─────────────────┤\n",
       "│ dense_14 (<span style=\"color: #0087ff; text-decoration-color: #0087ff\">Dense</span>)                     │ ?                           │     <span style=\"color: #00af00; text-decoration-color: #00af00\">0</span> (unbuilt) │\n",
       "├──────────────────────────────────────┼─────────────────────────────┼─────────────────┤\n",
       "│ dense_15 (<span style=\"color: #0087ff; text-decoration-color: #0087ff\">Dense</span>)                     │ ?                           │     <span style=\"color: #00af00; text-decoration-color: #00af00\">0</span> (unbuilt) │\n",
       "└──────────────────────────────────────┴─────────────────────────────┴─────────────────┘\n",
       "</pre>\n"
      ],
      "text/plain": [
       "┏━━━━━━━━━━━━━━━━━━━━━━━━━━━━━━━━━━━━━━┳━━━━━━━━━━━━━━━━━━━━━━━━━━━━━┳━━━━━━━━━━━━━━━━━┓\n",
       "┃\u001b[1m \u001b[0m\u001b[1mLayer (type)                        \u001b[0m\u001b[1m \u001b[0m┃\u001b[1m \u001b[0m\u001b[1mOutput Shape               \u001b[0m\u001b[1m \u001b[0m┃\u001b[1m \u001b[0m\u001b[1m        Param #\u001b[0m\u001b[1m \u001b[0m┃\n",
       "┡━━━━━━━━━━━━━━━━━━━━━━━━━━━━━━━━━━━━━━╇━━━━━━━━━━━━━━━━━━━━━━━━━━━━━╇━━━━━━━━━━━━━━━━━┩\n",
       "│ lstm_3 (\u001b[38;5;33mLSTM\u001b[0m)                        │ (\u001b[38;5;45mNone\u001b[0m, \u001b[38;5;34m128\u001b[0m)                 │          \u001b[38;5;34m84,480\u001b[0m │\n",
       "├──────────────────────────────────────┼─────────────────────────────┼─────────────────┤\n",
       "│ dense_6 (\u001b[38;5;33mDense\u001b[0m)                      │ (\u001b[38;5;45mNone\u001b[0m, \u001b[38;5;34m128\u001b[0m)                 │          \u001b[38;5;34m16,512\u001b[0m │\n",
       "├──────────────────────────────────────┼─────────────────────────────┼─────────────────┤\n",
       "│ dense_14 (\u001b[38;5;33mDense\u001b[0m)                     │ ?                           │     \u001b[38;5;34m0\u001b[0m (unbuilt) │\n",
       "├──────────────────────────────────────┼─────────────────────────────┼─────────────────┤\n",
       "│ dense_15 (\u001b[38;5;33mDense\u001b[0m)                     │ ?                           │     \u001b[38;5;34m0\u001b[0m (unbuilt) │\n",
       "└──────────────────────────────────────┴─────────────────────────────┴─────────────────┘\n"
      ]
     },
     "metadata": {},
     "output_type": "display_data"
    },
    {
     "data": {
      "text/html": [
       "<pre style=\"white-space:pre;overflow-x:auto;line-height:normal;font-family:Menlo,'DejaVu Sans Mono',consolas,'Courier New',monospace\"><span style=\"font-weight: bold\"> Total params: </span><span style=\"color: #00af00; text-decoration-color: #00af00\">100,992</span> (394.50 KB)\n",
       "</pre>\n"
      ],
      "text/plain": [
       "\u001b[1m Total params: \u001b[0m\u001b[38;5;34m100,992\u001b[0m (394.50 KB)\n"
      ]
     },
     "metadata": {},
     "output_type": "display_data"
    },
    {
     "data": {
      "text/html": [
       "<pre style=\"white-space:pre;overflow-x:auto;line-height:normal;font-family:Menlo,'DejaVu Sans Mono',consolas,'Courier New',monospace\"><span style=\"font-weight: bold\"> Trainable params: </span><span style=\"color: #00af00; text-decoration-color: #00af00\">0</span> (0.00 B)\n",
       "</pre>\n"
      ],
      "text/plain": [
       "\u001b[1m Trainable params: \u001b[0m\u001b[38;5;34m0\u001b[0m (0.00 B)\n"
      ]
     },
     "metadata": {},
     "output_type": "display_data"
    },
    {
     "data": {
      "text/html": [
       "<pre style=\"white-space:pre;overflow-x:auto;line-height:normal;font-family:Menlo,'DejaVu Sans Mono',consolas,'Courier New',monospace\"><span style=\"font-weight: bold\"> Non-trainable params: </span><span style=\"color: #00af00; text-decoration-color: #00af00\">100,992</span> (394.50 KB)\n",
       "</pre>\n"
      ],
      "text/plain": [
       "\u001b[1m Non-trainable params: \u001b[0m\u001b[38;5;34m100,992\u001b[0m (394.50 KB)\n"
      ]
     },
     "metadata": {},
     "output_type": "display_data"
    }
   ],
   "source": [
    "# 출력층부터 1개의 레이어를 삭제\n",
    "new_model = remove_last_layers(base_model, 1)\n",
    "\n",
    "# 새로운 출력층 추가\n",
    "new_model.add(layers.Dense(256, activation='relu'))\n",
    "new_model.add(layers.Dense(2, activation='softmax'))  # 예: 10개의 클래스\n",
    "new_model.compile(optimizer='adam', metrics=['accuracy'], loss='categorical_crossentropy')\n",
    "\n",
    "# 모델 요약 출력\n",
    "new_model.summary()"
   ]
  },
  {
   "cell_type": "code",
   "execution_count": 379,
   "id": "1312c86f-494e-48a6-b234-fcef421619ff",
   "metadata": {},
   "outputs": [
    {
     "data": {
      "text/html": [
       "<div>\n",
       "<style scoped>\n",
       "    .dataframe tbody tr th:only-of-type {\n",
       "        vertical-align: middle;\n",
       "    }\n",
       "\n",
       "    .dataframe tbody tr th {\n",
       "        vertical-align: top;\n",
       "    }\n",
       "\n",
       "    .dataframe thead th {\n",
       "        text-align: right;\n",
       "    }\n",
       "</style>\n",
       "<table border=\"1\" class=\"dataframe\">\n",
       "  <thead>\n",
       "    <tr style=\"text-align: right;\">\n",
       "      <th></th>\n",
       "      <th>Layer Type</th>\n",
       "      <th>Layer Name</th>\n",
       "      <th>Layer Trainable</th>\n",
       "    </tr>\n",
       "  </thead>\n",
       "  <tbody>\n",
       "    <tr>\n",
       "      <th>0</th>\n",
       "      <td>&lt;LSTM name=lstm_3, built=True&gt;</td>\n",
       "      <td>lstm_3</td>\n",
       "      <td>False</td>\n",
       "    </tr>\n",
       "    <tr>\n",
       "      <th>1</th>\n",
       "      <td>&lt;Dense name=dense_6, built=True&gt;</td>\n",
       "      <td>dense_6</td>\n",
       "      <td>False</td>\n",
       "    </tr>\n",
       "    <tr>\n",
       "      <th>2</th>\n",
       "      <td>&lt;Dense name=dense_14, built=False&gt;</td>\n",
       "      <td>dense_14</td>\n",
       "      <td>True</td>\n",
       "    </tr>\n",
       "    <tr>\n",
       "      <th>3</th>\n",
       "      <td>&lt;Dense name=dense_15, built=False&gt;</td>\n",
       "      <td>dense_15</td>\n",
       "      <td>True</td>\n",
       "    </tr>\n",
       "  </tbody>\n",
       "</table>\n",
       "</div>"
      ],
      "text/plain": [
       "                           Layer Type Layer Name  Layer Trainable\n",
       "0      <LSTM name=lstm_3, built=True>     lstm_3            False\n",
       "1    <Dense name=dense_6, built=True>    dense_6            False\n",
       "2  <Dense name=dense_14, built=False>   dense_14             True\n",
       "3  <Dense name=dense_15, built=False>   dense_15             True"
      ]
     },
     "execution_count": 379,
     "metadata": {},
     "output_type": "execute_result"
    }
   ],
   "source": [
    "import pandas as pd\n",
    "display_layers = [(layer, layer.name, layer.trainable) for layer in new_model.layers]\n",
    "pd.DataFrame(display_layers, columns=['Layer Type', 'Layer Name', 'Layer Trainable'])"
   ]
  },
  {
   "cell_type": "code",
   "execution_count": 382,
   "id": "a981267c-81df-4de7-9b67-c8fdd2614960",
   "metadata": {},
   "outputs": [
    {
     "name": "stdout",
     "output_type": "stream",
     "text": [
      "Epoch 1/20\n",
      "\u001b[1m89/89\u001b[0m \u001b[32m━━━━━━━━━━━━━━━━━━━━\u001b[0m\u001b[37m\u001b[0m \u001b[1m2s\u001b[0m 5ms/step - accuracy: 1.0000 - loss: 0.0322 - val_accuracy: 1.0000 - val_loss: 5.6112e-06\n",
      "Epoch 2/20\n",
      "\u001b[1m89/89\u001b[0m \u001b[32m━━━━━━━━━━━━━━━━━━━━\u001b[0m\u001b[37m\u001b[0m \u001b[1m0s\u001b[0m 1ms/step - accuracy: 1.0000 - loss: 3.9758e-06 - val_accuracy: 1.0000 - val_loss: 7.7124e-07\n",
      "Epoch 3/20\n",
      "\u001b[1m89/89\u001b[0m \u001b[32m━━━━━━━━━━━━━━━━━━━━\u001b[0m\u001b[37m\u001b[0m \u001b[1m0s\u001b[0m 1ms/step - accuracy: 1.0000 - loss: 4.3862e-07 - val_accuracy: 1.0000 - val_loss: 1.5120e-07\n",
      "Epoch 4/20\n",
      "\u001b[1m89/89\u001b[0m \u001b[32m━━━━━━━━━━━━━━━━━━━━\u001b[0m\u001b[37m\u001b[0m \u001b[1m0s\u001b[0m 1ms/step - accuracy: 1.0000 - loss: 1.1269e-07 - val_accuracy: 1.0000 - val_loss: 1.7900e-08\n",
      "Epoch 5/20\n",
      "\u001b[1m89/89\u001b[0m \u001b[32m━━━━━━━━━━━━━━━━━━━━\u001b[0m\u001b[37m\u001b[0m \u001b[1m0s\u001b[0m 1ms/step - accuracy: 1.0000 - loss: 2.1932e-09 - val_accuracy: 1.0000 - val_loss: 1.4854e-08\n",
      "Epoch 6/20\n",
      "\u001b[1m89/89\u001b[0m \u001b[32m━━━━━━━━━━━━━━━━━━━━\u001b[0m\u001b[37m\u001b[0m \u001b[1m0s\u001b[0m 1ms/step - accuracy: 1.0000 - loss: 2.5599e-09 - val_accuracy: 1.0000 - val_loss: 1.1807e-08\n",
      "Epoch 7/20\n",
      "\u001b[1m89/89\u001b[0m \u001b[32m━━━━━━━━━━━━━━━━━━━━\u001b[0m\u001b[37m\u001b[0m \u001b[1m0s\u001b[0m 1ms/step - accuracy: 1.0000 - loss: 2.0906e-09 - val_accuracy: 1.0000 - val_loss: 1.0283e-08\n",
      "Epoch 8/20\n",
      "\u001b[1m89/89\u001b[0m \u001b[32m━━━━━━━━━━━━━━━━━━━━\u001b[0m\u001b[37m\u001b[0m \u001b[1m0s\u001b[0m 1ms/step - accuracy: 1.0000 - loss: 1.7375e-09 - val_accuracy: 1.0000 - val_loss: 8.3789e-09\n",
      "Epoch 9/20\n",
      "\u001b[1m89/89\u001b[0m \u001b[32m━━━━━━━━━━━━━━━━━━━━\u001b[0m\u001b[37m\u001b[0m \u001b[1m0s\u001b[0m 1ms/step - accuracy: 1.0000 - loss: 7.7035e-10 - val_accuracy: 1.0000 - val_loss: 7.6172e-09\n",
      "Epoch 10/20\n",
      "\u001b[1m89/89\u001b[0m \u001b[32m━━━━━━━━━━━━━━━━━━━━\u001b[0m\u001b[37m\u001b[0m \u001b[1m0s\u001b[0m 1ms/step - accuracy: 1.0000 - loss: 1.1601e-09 - val_accuracy: 1.0000 - val_loss: 6.4746e-09\n",
      "Epoch 11/20\n",
      "\u001b[1m89/89\u001b[0m \u001b[32m━━━━━━━━━━━━━━━━━━━━\u001b[0m\u001b[37m\u001b[0m \u001b[1m0s\u001b[0m 1ms/step - accuracy: 1.0000 - loss: 6.9312e-10 - val_accuracy: 1.0000 - val_loss: 5.7129e-09\n",
      "Epoch 12/20\n",
      "\u001b[1m89/89\u001b[0m \u001b[32m━━━━━━━━━━━━━━━━━━━━\u001b[0m\u001b[37m\u001b[0m \u001b[1m0s\u001b[0m 1ms/step - accuracy: 1.0000 - loss: 5.9791e-10 - val_accuracy: 1.0000 - val_loss: 5.3320e-09\n",
      "Epoch 13/20\n",
      "\u001b[1m89/89\u001b[0m \u001b[32m━━━━━━━━━━━━━━━━━━━━\u001b[0m\u001b[37m\u001b[0m \u001b[1m0s\u001b[0m 1ms/step - accuracy: 1.0000 - loss: 8.1562e-10 - val_accuracy: 1.0000 - val_loss: 4.9512e-09\n",
      "Epoch 14/20\n",
      "\u001b[1m89/89\u001b[0m \u001b[32m━━━━━━━━━━━━━━━━━━━━\u001b[0m\u001b[37m\u001b[0m \u001b[1m0s\u001b[0m 1ms/step - accuracy: 1.0000 - loss: 5.2542e-10 - val_accuracy: 1.0000 - val_loss: 4.1895e-09\n",
      "Epoch 15/20\n",
      "\u001b[1m89/89\u001b[0m \u001b[32m━━━━━━━━━━━━━━━━━━━━\u001b[0m\u001b[37m\u001b[0m \u001b[1m0s\u001b[0m 1ms/step - accuracy: 1.0000 - loss: 6.1348e-10 - val_accuracy: 1.0000 - val_loss: 3.8086e-09\n",
      "Epoch 16/20\n",
      "\u001b[1m89/89\u001b[0m \u001b[32m━━━━━━━━━━━━━━━━━━━━\u001b[0m\u001b[37m\u001b[0m \u001b[1m0s\u001b[0m 1ms/step - accuracy: 1.0000 - loss: 3.5775e-10 - val_accuracy: 1.0000 - val_loss: 3.4277e-09\n",
      "Epoch 17/20\n",
      "\u001b[1m89/89\u001b[0m \u001b[32m━━━━━━━━━━━━━━━━━━━━\u001b[0m\u001b[37m\u001b[0m \u001b[1m0s\u001b[0m 1ms/step - accuracy: 1.0000 - loss: 1.2610e-09 - val_accuracy: 1.0000 - val_loss: 3.0469e-09\n",
      "Epoch 18/20\n",
      "\u001b[1m89/89\u001b[0m \u001b[32m━━━━━━━━━━━━━━━━━━━━\u001b[0m\u001b[37m\u001b[0m \u001b[1m0s\u001b[0m 1ms/step - accuracy: 1.0000 - loss: 7.3027e-10 - val_accuracy: 1.0000 - val_loss: 2.6660e-09\n",
      "Epoch 19/20\n",
      "\u001b[1m89/89\u001b[0m \u001b[32m━━━━━━━━━━━━━━━━━━━━\u001b[0m\u001b[37m\u001b[0m \u001b[1m0s\u001b[0m 1ms/step - accuracy: 1.0000 - loss: 4.6856e-10 - val_accuracy: 1.0000 - val_loss: 2.6660e-09\n",
      "Epoch 20/20\n",
      "\u001b[1m89/89\u001b[0m \u001b[32m━━━━━━━━━━━━━━━━━━━━\u001b[0m\u001b[37m\u001b[0m \u001b[1m0s\u001b[0m 1ms/step - accuracy: 1.0000 - loss: 9.6857e-10 - val_accuracy: 1.0000 - val_loss: 2.2852e-09\n"
     ]
    },
    {
     "data": {
      "text/html": [
       "<pre style=\"white-space:pre;overflow-x:auto;line-height:normal;font-family:Menlo,'DejaVu Sans Mono',consolas,'Courier New',monospace\"><span style=\"font-weight: bold\">Model: \"sequential_7\"</span>\n",
       "</pre>\n"
      ],
      "text/plain": [
       "\u001b[1mModel: \"sequential_7\"\u001b[0m\n"
      ]
     },
     "metadata": {},
     "output_type": "display_data"
    },
    {
     "data": {
      "text/html": [
       "<pre style=\"white-space:pre;overflow-x:auto;line-height:normal;font-family:Menlo,'DejaVu Sans Mono',consolas,'Courier New',monospace\">┏━━━━━━━━━━━━━━━━━━━━━━━━━━━━━━━━━━━━━━┳━━━━━━━━━━━━━━━━━━━━━━━━━━━━━┳━━━━━━━━━━━━━━━━━┓\n",
       "┃<span style=\"font-weight: bold\"> Layer (type)                         </span>┃<span style=\"font-weight: bold\"> Output Shape                </span>┃<span style=\"font-weight: bold\">         Param # </span>┃\n",
       "┡━━━━━━━━━━━━━━━━━━━━━━━━━━━━━━━━━━━━━━╇━━━━━━━━━━━━━━━━━━━━━━━━━━━━━╇━━━━━━━━━━━━━━━━━┩\n",
       "│ lstm_3 (<span style=\"color: #0087ff; text-decoration-color: #0087ff\">LSTM</span>)                        │ (<span style=\"color: #00d7ff; text-decoration-color: #00d7ff\">None</span>, <span style=\"color: #00af00; text-decoration-color: #00af00\">128</span>)                 │          <span style=\"color: #00af00; text-decoration-color: #00af00\">84,480</span> │\n",
       "├──────────────────────────────────────┼─────────────────────────────┼─────────────────┤\n",
       "│ dense_6 (<span style=\"color: #0087ff; text-decoration-color: #0087ff\">Dense</span>)                      │ (<span style=\"color: #00d7ff; text-decoration-color: #00d7ff\">None</span>, <span style=\"color: #00af00; text-decoration-color: #00af00\">128</span>)                 │          <span style=\"color: #00af00; text-decoration-color: #00af00\">16,512</span> │\n",
       "├──────────────────────────────────────┼─────────────────────────────┼─────────────────┤\n",
       "│ dense_14 (<span style=\"color: #0087ff; text-decoration-color: #0087ff\">Dense</span>)                     │ (<span style=\"color: #00d7ff; text-decoration-color: #00d7ff\">None</span>, <span style=\"color: #00af00; text-decoration-color: #00af00\">256</span>)                 │          <span style=\"color: #00af00; text-decoration-color: #00af00\">33,024</span> │\n",
       "├──────────────────────────────────────┼─────────────────────────────┼─────────────────┤\n",
       "│ dense_15 (<span style=\"color: #0087ff; text-decoration-color: #0087ff\">Dense</span>)                     │ (<span style=\"color: #00d7ff; text-decoration-color: #00d7ff\">None</span>, <span style=\"color: #00af00; text-decoration-color: #00af00\">2</span>)                   │             <span style=\"color: #00af00; text-decoration-color: #00af00\">514</span> │\n",
       "└──────────────────────────────────────┴─────────────────────────────┴─────────────────┘\n",
       "</pre>\n"
      ],
      "text/plain": [
       "┏━━━━━━━━━━━━━━━━━━━━━━━━━━━━━━━━━━━━━━┳━━━━━━━━━━━━━━━━━━━━━━━━━━━━━┳━━━━━━━━━━━━━━━━━┓\n",
       "┃\u001b[1m \u001b[0m\u001b[1mLayer (type)                        \u001b[0m\u001b[1m \u001b[0m┃\u001b[1m \u001b[0m\u001b[1mOutput Shape               \u001b[0m\u001b[1m \u001b[0m┃\u001b[1m \u001b[0m\u001b[1m        Param #\u001b[0m\u001b[1m \u001b[0m┃\n",
       "┡━━━━━━━━━━━━━━━━━━━━━━━━━━━━━━━━━━━━━━╇━━━━━━━━━━━━━━━━━━━━━━━━━━━━━╇━━━━━━━━━━━━━━━━━┩\n",
       "│ lstm_3 (\u001b[38;5;33mLSTM\u001b[0m)                        │ (\u001b[38;5;45mNone\u001b[0m, \u001b[38;5;34m128\u001b[0m)                 │          \u001b[38;5;34m84,480\u001b[0m │\n",
       "├──────────────────────────────────────┼─────────────────────────────┼─────────────────┤\n",
       "│ dense_6 (\u001b[38;5;33mDense\u001b[0m)                      │ (\u001b[38;5;45mNone\u001b[0m, \u001b[38;5;34m128\u001b[0m)                 │          \u001b[38;5;34m16,512\u001b[0m │\n",
       "├──────────────────────────────────────┼─────────────────────────────┼─────────────────┤\n",
       "│ dense_14 (\u001b[38;5;33mDense\u001b[0m)                     │ (\u001b[38;5;45mNone\u001b[0m, \u001b[38;5;34m256\u001b[0m)                 │          \u001b[38;5;34m33,024\u001b[0m │\n",
       "├──────────────────────────────────────┼─────────────────────────────┼─────────────────┤\n",
       "│ dense_15 (\u001b[38;5;33mDense\u001b[0m)                     │ (\u001b[38;5;45mNone\u001b[0m, \u001b[38;5;34m2\u001b[0m)                   │             \u001b[38;5;34m514\u001b[0m │\n",
       "└──────────────────────────────────────┴─────────────────────────────┴─────────────────┘\n"
      ]
     },
     "metadata": {},
     "output_type": "display_data"
    },
    {
     "data": {
      "text/html": [
       "<pre style=\"white-space:pre;overflow-x:auto;line-height:normal;font-family:Menlo,'DejaVu Sans Mono',consolas,'Courier New',monospace\"><span style=\"font-weight: bold\"> Total params: </span><span style=\"color: #00af00; text-decoration-color: #00af00\">201,608</span> (787.54 KB)\n",
       "</pre>\n"
      ],
      "text/plain": [
       "\u001b[1m Total params: \u001b[0m\u001b[38;5;34m201,608\u001b[0m (787.54 KB)\n"
      ]
     },
     "metadata": {},
     "output_type": "display_data"
    },
    {
     "data": {
      "text/html": [
       "<pre style=\"white-space:pre;overflow-x:auto;line-height:normal;font-family:Menlo,'DejaVu Sans Mono',consolas,'Courier New',monospace\"><span style=\"font-weight: bold\"> Trainable params: </span><span style=\"color: #00af00; text-decoration-color: #00af00\">33,538</span> (131.01 KB)\n",
       "</pre>\n"
      ],
      "text/plain": [
       "\u001b[1m Trainable params: \u001b[0m\u001b[38;5;34m33,538\u001b[0m (131.01 KB)\n"
      ]
     },
     "metadata": {},
     "output_type": "display_data"
    },
    {
     "data": {
      "text/html": [
       "<pre style=\"white-space:pre;overflow-x:auto;line-height:normal;font-family:Menlo,'DejaVu Sans Mono',consolas,'Courier New',monospace\"><span style=\"font-weight: bold\"> Non-trainable params: </span><span style=\"color: #00af00; text-decoration-color: #00af00\">100,992</span> (394.50 KB)\n",
       "</pre>\n"
      ],
      "text/plain": [
       "\u001b[1m Non-trainable params: \u001b[0m\u001b[38;5;34m100,992\u001b[0m (394.50 KB)\n"
      ]
     },
     "metadata": {},
     "output_type": "display_data"
    },
    {
     "data": {
      "text/html": [
       "<pre style=\"white-space:pre;overflow-x:auto;line-height:normal;font-family:Menlo,'DejaVu Sans Mono',consolas,'Courier New',monospace\"><span style=\"font-weight: bold\"> Optimizer params: </span><span style=\"color: #00af00; text-decoration-color: #00af00\">67,078</span> (262.03 KB)\n",
       "</pre>\n"
      ],
      "text/plain": [
       "\u001b[1m Optimizer params: \u001b[0m\u001b[38;5;34m67,078\u001b[0m (262.03 KB)\n"
      ]
     },
     "metadata": {},
     "output_type": "display_data"
    }
   ],
   "source": [
    "history3 = new_model.fit(X_train_seq, y_train_seq, epochs = 20, batch_size = 32, validation_split = 0.1, shuffle = True)\n",
    "\n",
    "new_model.summary()"
   ]
  },
  {
   "cell_type": "code",
   "execution_count": 385,
   "id": "87949d16-d819-4c1d-b21a-0b717e8df883",
   "metadata": {},
   "outputs": [
    {
     "name": "stdout",
     "output_type": "stream",
     "text": [
      "\u001b[1m33/33\u001b[0m \u001b[32m━━━━━━━━━━━━━━━━━━━━\u001b[0m\u001b[37m\u001b[0m \u001b[1m0s\u001b[0m 1ms/step - accuracy: 1.0000 - loss: 6.6595e-11 \n"
     ]
    },
    {
     "data": {
      "text/plain": [
       "[2.2858921699953072e-10, 1.0]"
      ]
     },
     "execution_count": 385,
     "metadata": {},
     "output_type": "execute_result"
    }
   ],
   "source": [
    "new_model.evaluate(X_test_seq, y_test_seq)"
   ]
  },
  {
   "cell_type": "markdown",
   "id": "c3b39dc2-46db-4dc4-b829-15744d86c760",
   "metadata": {},
   "source": [
    "# 미세조정"
   ]
  },
  {
   "cell_type": "code",
   "execution_count": 387,
   "id": "8ecef4be-a1d9-44b4-8428-91fc26315fe5",
   "metadata": {},
   "outputs": [],
   "source": [
    "base_model.trainable = True\n",
    "new_model.compile(optimizer='adam', metrics=['accuracy'], loss='categorical_crossentropy')"
   ]
  },
  {
   "cell_type": "code",
   "execution_count": 388,
   "id": "736fbd19-182a-42f4-998d-a3ffa05bb559",
   "metadata": {},
   "outputs": [
    {
     "data": {
      "text/html": [
       "<div>\n",
       "<style scoped>\n",
       "    .dataframe tbody tr th:only-of-type {\n",
       "        vertical-align: middle;\n",
       "    }\n",
       "\n",
       "    .dataframe tbody tr th {\n",
       "        vertical-align: top;\n",
       "    }\n",
       "\n",
       "    .dataframe thead th {\n",
       "        text-align: right;\n",
       "    }\n",
       "</style>\n",
       "<table border=\"1\" class=\"dataframe\">\n",
       "  <thead>\n",
       "    <tr style=\"text-align: right;\">\n",
       "      <th></th>\n",
       "      <th>Layer Type</th>\n",
       "      <th>Layer Name</th>\n",
       "      <th>Layer Trainable</th>\n",
       "    </tr>\n",
       "  </thead>\n",
       "  <tbody>\n",
       "    <tr>\n",
       "      <th>0</th>\n",
       "      <td>&lt;LSTM name=lstm_3, built=True&gt;</td>\n",
       "      <td>lstm_3</td>\n",
       "      <td>True</td>\n",
       "    </tr>\n",
       "    <tr>\n",
       "      <th>1</th>\n",
       "      <td>&lt;Dense name=dense_6, built=True&gt;</td>\n",
       "      <td>dense_6</td>\n",
       "      <td>True</td>\n",
       "    </tr>\n",
       "    <tr>\n",
       "      <th>2</th>\n",
       "      <td>&lt;Dense name=dense_14, built=True&gt;</td>\n",
       "      <td>dense_14</td>\n",
       "      <td>True</td>\n",
       "    </tr>\n",
       "    <tr>\n",
       "      <th>3</th>\n",
       "      <td>&lt;Dense name=dense_15, built=True&gt;</td>\n",
       "      <td>dense_15</td>\n",
       "      <td>True</td>\n",
       "    </tr>\n",
       "  </tbody>\n",
       "</table>\n",
       "</div>"
      ],
      "text/plain": [
       "                          Layer Type Layer Name  Layer Trainable\n",
       "0     <LSTM name=lstm_3, built=True>     lstm_3             True\n",
       "1   <Dense name=dense_6, built=True>    dense_6             True\n",
       "2  <Dense name=dense_14, built=True>   dense_14             True\n",
       "3  <Dense name=dense_15, built=True>   dense_15             True"
      ]
     },
     "execution_count": 388,
     "metadata": {},
     "output_type": "execute_result"
    }
   ],
   "source": [
    "import pandas as pd\n",
    "display_layers = [(layer, layer.name, layer.trainable) for layer in new_model.layers]\n",
    "pd.DataFrame(display_layers, columns=['Layer Type', 'Layer Name', 'Layer Trainable'])"
   ]
  },
  {
   "cell_type": "code",
   "execution_count": 389,
   "id": "21192ff1-9f90-4f86-bd39-4d17cb3da374",
   "metadata": {},
   "outputs": [
    {
     "name": "stdout",
     "output_type": "stream",
     "text": [
      "Epoch 1/20\n",
      "\u001b[1m89/89\u001b[0m \u001b[32m━━━━━━━━━━━━━━━━━━━━\u001b[0m\u001b[37m\u001b[0m \u001b[1m2s\u001b[0m 5ms/step - accuracy: 1.0000 - loss: 7.9695e-10 - val_accuracy: 1.0000 - val_loss: 1.5234e-09\n",
      "Epoch 2/20\n",
      "\u001b[1m89/89\u001b[0m \u001b[32m━━━━━━━━━━━━━━━━━━━━\u001b[0m\u001b[37m\u001b[0m \u001b[1m0s\u001b[0m 2ms/step - accuracy: 1.0000 - loss: 1.2776e-10 - val_accuracy: 1.0000 - val_loss: 1.1426e-09\n",
      "Epoch 3/20\n",
      "\u001b[1m89/89\u001b[0m \u001b[32m━━━━━━━━━━━━━━━━━━━━\u001b[0m\u001b[37m\u001b[0m \u001b[1m0s\u001b[0m 2ms/step - accuracy: 1.0000 - loss: 4.8186e-11 - val_accuracy: 1.0000 - val_loss: 7.6172e-10\n",
      "Epoch 4/20\n",
      "\u001b[1m89/89\u001b[0m \u001b[32m━━━━━━━━━━━━━━━━━━━━\u001b[0m\u001b[37m\u001b[0m \u001b[1m0s\u001b[0m 2ms/step - accuracy: 1.0000 - loss: 1.0789e-10 - val_accuracy: 1.0000 - val_loss: 7.6172e-10\n",
      "Epoch 5/20\n",
      "\u001b[1m89/89\u001b[0m \u001b[32m━━━━━━━━━━━━━━━━━━━━\u001b[0m\u001b[37m\u001b[0m \u001b[1m0s\u001b[0m 2ms/step - accuracy: 1.0000 - loss: 1.0352e-11 - val_accuracy: 1.0000 - val_loss: 7.6172e-10\n",
      "Epoch 6/20\n",
      "\u001b[1m89/89\u001b[0m \u001b[32m━━━━━━━━━━━━━━━━━━━━\u001b[0m\u001b[37m\u001b[0m \u001b[1m0s\u001b[0m 2ms/step - accuracy: 1.0000 - loss: 4.7840e-11 - val_accuracy: 1.0000 - val_loss: 7.6172e-10\n",
      "Epoch 7/20\n",
      "\u001b[1m89/89\u001b[0m \u001b[32m━━━━━━━━━━━━━━━━━━━━\u001b[0m\u001b[37m\u001b[0m \u001b[1m0s\u001b[0m 2ms/step - accuracy: 1.0000 - loss: 5.4099e-11 - val_accuracy: 1.0000 - val_loss: 3.8086e-10\n",
      "Epoch 8/20\n",
      "\u001b[1m89/89\u001b[0m \u001b[32m━━━━━━━━━━━━━━━━━━━━\u001b[0m\u001b[37m\u001b[0m \u001b[1m0s\u001b[0m 2ms/step - accuracy: 1.0000 - loss: 1.0352e-11 - val_accuracy: 1.0000 - val_loss: 3.8086e-10\n",
      "Epoch 9/20\n",
      "\u001b[1m89/89\u001b[0m \u001b[32m━━━━━━━━━━━━━━━━━━━━\u001b[0m\u001b[37m\u001b[0m \u001b[1m0s\u001b[0m 2ms/step - accuracy: 1.0000 - loss: 3.5392e-11 - val_accuracy: 1.0000 - val_loss: 3.8086e-10\n",
      "Epoch 10/20\n",
      "\u001b[1m89/89\u001b[0m \u001b[32m━━━━━━━━━━━━━━━━━━━━\u001b[0m\u001b[37m\u001b[0m \u001b[1m0s\u001b[0m 2ms/step - accuracy: 1.0000 - loss: 6.1476e-11 - val_accuracy: 1.0000 - val_loss: 3.8086e-10\n",
      "Epoch 11/20\n",
      "\u001b[1m89/89\u001b[0m \u001b[32m━━━━━━━━━━━━━━━━━━━━\u001b[0m\u001b[37m\u001b[0m \u001b[1m0s\u001b[0m 2ms/step - accuracy: 1.0000 - loss: 2.4990e-11 - val_accuracy: 1.0000 - val_loss: 3.8086e-10\n",
      "Epoch 12/20\n",
      "\u001b[1m89/89\u001b[0m \u001b[32m━━━━━━━━━━━━━━━━━━━━\u001b[0m\u001b[37m\u001b[0m \u001b[1m0s\u001b[0m 2ms/step - accuracy: 1.0000 - loss: 1.4108e-12 - val_accuracy: 1.0000 - val_loss: 3.8086e-10\n",
      "Epoch 13/20\n",
      "\u001b[1m89/89\u001b[0m \u001b[32m━━━━━━━━━━━━━━━━━━━━\u001b[0m\u001b[37m\u001b[0m \u001b[1m0s\u001b[0m 2ms/step - accuracy: 1.0000 - loss: 1.9515e-11 - val_accuracy: 1.0000 - val_loss: 3.8086e-10\n",
      "Epoch 14/20\n",
      "\u001b[1m89/89\u001b[0m \u001b[32m━━━━━━━━━━━━━━━━━━━━\u001b[0m\u001b[37m\u001b[0m \u001b[1m0s\u001b[0m 2ms/step - accuracy: 1.0000 - loss: 0.0000e+00 - val_accuracy: 1.0000 - val_loss: 3.8086e-10\n",
      "Epoch 15/20\n",
      "\u001b[1m89/89\u001b[0m \u001b[32m━━━━━━━━━━━━━━━━━━━━\u001b[0m\u001b[37m\u001b[0m \u001b[1m0s\u001b[0m 2ms/step - accuracy: 1.0000 - loss: 0.0000e+00 - val_accuracy: 1.0000 - val_loss: 3.8086e-10\n",
      "Epoch 16/20\n",
      "\u001b[1m89/89\u001b[0m \u001b[32m━━━━━━━━━━━━━━━━━━━━\u001b[0m\u001b[37m\u001b[0m \u001b[1m0s\u001b[0m 2ms/step - accuracy: 1.0000 - loss: 0.0000e+00 - val_accuracy: 1.0000 - val_loss: 3.8086e-10\n",
      "Epoch 17/20\n",
      "\u001b[1m89/89\u001b[0m \u001b[32m━━━━━━━━━━━━━━━━━━━━\u001b[0m\u001b[37m\u001b[0m \u001b[1m0s\u001b[0m 2ms/step - accuracy: 1.0000 - loss: 0.0000e+00 - val_accuracy: 1.0000 - val_loss: 3.8086e-10\n",
      "Epoch 18/20\n",
      "\u001b[1m89/89\u001b[0m \u001b[32m━━━━━━━━━━━━━━━━━━━━\u001b[0m\u001b[37m\u001b[0m \u001b[1m0s\u001b[0m 2ms/step - accuracy: 1.0000 - loss: 0.0000e+00 - val_accuracy: 1.0000 - val_loss: 3.8086e-10\n",
      "Epoch 19/20\n",
      "\u001b[1m89/89\u001b[0m \u001b[32m━━━━━━━━━━━━━━━━━━━━\u001b[0m\u001b[37m\u001b[0m \u001b[1m0s\u001b[0m 2ms/step - accuracy: 1.0000 - loss: 0.0000e+00 - val_accuracy: 1.0000 - val_loss: 3.8086e-10\n",
      "Epoch 20/20\n",
      "\u001b[1m89/89\u001b[0m \u001b[32m━━━━━━━━━━━━━━━━━━━━\u001b[0m\u001b[37m\u001b[0m \u001b[1m0s\u001b[0m 2ms/step - accuracy: 1.0000 - loss: 0.0000e+00 - val_accuracy: 1.0000 - val_loss: 3.8086e-10\n"
     ]
    },
    {
     "data": {
      "text/html": [
       "<pre style=\"white-space:pre;overflow-x:auto;line-height:normal;font-family:Menlo,'DejaVu Sans Mono',consolas,'Courier New',monospace\"><span style=\"font-weight: bold\">Model: \"sequential_7\"</span>\n",
       "</pre>\n"
      ],
      "text/plain": [
       "\u001b[1mModel: \"sequential_7\"\u001b[0m\n"
      ]
     },
     "metadata": {},
     "output_type": "display_data"
    },
    {
     "data": {
      "text/html": [
       "<pre style=\"white-space:pre;overflow-x:auto;line-height:normal;font-family:Menlo,'DejaVu Sans Mono',consolas,'Courier New',monospace\">┏━━━━━━━━━━━━━━━━━━━━━━━━━━━━━━━━━━━━━━┳━━━━━━━━━━━━━━━━━━━━━━━━━━━━━┳━━━━━━━━━━━━━━━━━┓\n",
       "┃<span style=\"font-weight: bold\"> Layer (type)                         </span>┃<span style=\"font-weight: bold\"> Output Shape                </span>┃<span style=\"font-weight: bold\">         Param # </span>┃\n",
       "┡━━━━━━━━━━━━━━━━━━━━━━━━━━━━━━━━━━━━━━╇━━━━━━━━━━━━━━━━━━━━━━━━━━━━━╇━━━━━━━━━━━━━━━━━┩\n",
       "│ lstm_3 (<span style=\"color: #0087ff; text-decoration-color: #0087ff\">LSTM</span>)                        │ (<span style=\"color: #00d7ff; text-decoration-color: #00d7ff\">None</span>, <span style=\"color: #00af00; text-decoration-color: #00af00\">128</span>)                 │          <span style=\"color: #00af00; text-decoration-color: #00af00\">84,480</span> │\n",
       "├──────────────────────────────────────┼─────────────────────────────┼─────────────────┤\n",
       "│ dense_6 (<span style=\"color: #0087ff; text-decoration-color: #0087ff\">Dense</span>)                      │ (<span style=\"color: #00d7ff; text-decoration-color: #00d7ff\">None</span>, <span style=\"color: #00af00; text-decoration-color: #00af00\">128</span>)                 │          <span style=\"color: #00af00; text-decoration-color: #00af00\">16,512</span> │\n",
       "├──────────────────────────────────────┼─────────────────────────────┼─────────────────┤\n",
       "│ dense_14 (<span style=\"color: #0087ff; text-decoration-color: #0087ff\">Dense</span>)                     │ (<span style=\"color: #00d7ff; text-decoration-color: #00d7ff\">None</span>, <span style=\"color: #00af00; text-decoration-color: #00af00\">256</span>)                 │          <span style=\"color: #00af00; text-decoration-color: #00af00\">33,024</span> │\n",
       "├──────────────────────────────────────┼─────────────────────────────┼─────────────────┤\n",
       "│ dense_15 (<span style=\"color: #0087ff; text-decoration-color: #0087ff\">Dense</span>)                     │ (<span style=\"color: #00d7ff; text-decoration-color: #00d7ff\">None</span>, <span style=\"color: #00af00; text-decoration-color: #00af00\">2</span>)                   │             <span style=\"color: #00af00; text-decoration-color: #00af00\">514</span> │\n",
       "└──────────────────────────────────────┴─────────────────────────────┴─────────────────┘\n",
       "</pre>\n"
      ],
      "text/plain": [
       "┏━━━━━━━━━━━━━━━━━━━━━━━━━━━━━━━━━━━━━━┳━━━━━━━━━━━━━━━━━━━━━━━━━━━━━┳━━━━━━━━━━━━━━━━━┓\n",
       "┃\u001b[1m \u001b[0m\u001b[1mLayer (type)                        \u001b[0m\u001b[1m \u001b[0m┃\u001b[1m \u001b[0m\u001b[1mOutput Shape               \u001b[0m\u001b[1m \u001b[0m┃\u001b[1m \u001b[0m\u001b[1m        Param #\u001b[0m\u001b[1m \u001b[0m┃\n",
       "┡━━━━━━━━━━━━━━━━━━━━━━━━━━━━━━━━━━━━━━╇━━━━━━━━━━━━━━━━━━━━━━━━━━━━━╇━━━━━━━━━━━━━━━━━┩\n",
       "│ lstm_3 (\u001b[38;5;33mLSTM\u001b[0m)                        │ (\u001b[38;5;45mNone\u001b[0m, \u001b[38;5;34m128\u001b[0m)                 │          \u001b[38;5;34m84,480\u001b[0m │\n",
       "├──────────────────────────────────────┼─────────────────────────────┼─────────────────┤\n",
       "│ dense_6 (\u001b[38;5;33mDense\u001b[0m)                      │ (\u001b[38;5;45mNone\u001b[0m, \u001b[38;5;34m128\u001b[0m)                 │          \u001b[38;5;34m16,512\u001b[0m │\n",
       "├──────────────────────────────────────┼─────────────────────────────┼─────────────────┤\n",
       "│ dense_14 (\u001b[38;5;33mDense\u001b[0m)                     │ (\u001b[38;5;45mNone\u001b[0m, \u001b[38;5;34m256\u001b[0m)                 │          \u001b[38;5;34m33,024\u001b[0m │\n",
       "├──────────────────────────────────────┼─────────────────────────────┼─────────────────┤\n",
       "│ dense_15 (\u001b[38;5;33mDense\u001b[0m)                     │ (\u001b[38;5;45mNone\u001b[0m, \u001b[38;5;34m2\u001b[0m)                   │             \u001b[38;5;34m514\u001b[0m │\n",
       "└──────────────────────────────────────┴─────────────────────────────┴─────────────────┘\n"
      ]
     },
     "metadata": {},
     "output_type": "display_data"
    },
    {
     "data": {
      "text/html": [
       "<pre style=\"white-space:pre;overflow-x:auto;line-height:normal;font-family:Menlo,'DejaVu Sans Mono',consolas,'Courier New',monospace\"><span style=\"font-weight: bold\"> Total params: </span><span style=\"color: #00af00; text-decoration-color: #00af00\">403,592</span> (1.54 MB)\n",
       "</pre>\n"
      ],
      "text/plain": [
       "\u001b[1m Total params: \u001b[0m\u001b[38;5;34m403,592\u001b[0m (1.54 MB)\n"
      ]
     },
     "metadata": {},
     "output_type": "display_data"
    },
    {
     "data": {
      "text/html": [
       "<pre style=\"white-space:pre;overflow-x:auto;line-height:normal;font-family:Menlo,'DejaVu Sans Mono',consolas,'Courier New',monospace\"><span style=\"font-weight: bold\"> Trainable params: </span><span style=\"color: #00af00; text-decoration-color: #00af00\">134,530</span> (525.51 KB)\n",
       "</pre>\n"
      ],
      "text/plain": [
       "\u001b[1m Trainable params: \u001b[0m\u001b[38;5;34m134,530\u001b[0m (525.51 KB)\n"
      ]
     },
     "metadata": {},
     "output_type": "display_data"
    },
    {
     "data": {
      "text/html": [
       "<pre style=\"white-space:pre;overflow-x:auto;line-height:normal;font-family:Menlo,'DejaVu Sans Mono',consolas,'Courier New',monospace\"><span style=\"font-weight: bold\"> Non-trainable params: </span><span style=\"color: #00af00; text-decoration-color: #00af00\">0</span> (0.00 B)\n",
       "</pre>\n"
      ],
      "text/plain": [
       "\u001b[1m Non-trainable params: \u001b[0m\u001b[38;5;34m0\u001b[0m (0.00 B)\n"
      ]
     },
     "metadata": {},
     "output_type": "display_data"
    },
    {
     "data": {
      "text/html": [
       "<pre style=\"white-space:pre;overflow-x:auto;line-height:normal;font-family:Menlo,'DejaVu Sans Mono',consolas,'Courier New',monospace\"><span style=\"font-weight: bold\"> Optimizer params: </span><span style=\"color: #00af00; text-decoration-color: #00af00\">269,062</span> (1.03 MB)\n",
       "</pre>\n"
      ],
      "text/plain": [
       "\u001b[1m Optimizer params: \u001b[0m\u001b[38;5;34m269,062\u001b[0m (1.03 MB)\n"
      ]
     },
     "metadata": {},
     "output_type": "display_data"
    }
   ],
   "source": [
    "history3 = new_model.fit(X_train_seq, y_train_seq, epochs = 20, batch_size = 32, validation_split = 0.1, shuffle = True)\n",
    "\n",
    "new_model.summary()"
   ]
  },
  {
   "cell_type": "code",
   "execution_count": 390,
   "id": "73040c47-c061-42f6-a708-0e8773eb9115",
   "metadata": {},
   "outputs": [
    {
     "name": "stdout",
     "output_type": "stream",
     "text": [
      "\u001b[1m33/33\u001b[0m \u001b[32m━━━━━━━━━━━━━━━━━━━━\u001b[0m\u001b[37m\u001b[0m \u001b[1m0s\u001b[0m 1ms/step - accuracy: 1.0000 - loss: 0.0000e+00 \n"
     ]
    },
    {
     "data": {
      "text/plain": [
       "[0.0, 1.0]"
      ]
     },
     "execution_count": 390,
     "metadata": {},
     "output_type": "execute_result"
    }
   ],
   "source": [
    "new_model.evaluate(X_test_seq, y_test_seq)"
   ]
  }
 ],
 "metadata": {
  "kernelspec": {
   "display_name": "Python 3 (ipykernel)",
   "language": "python",
   "name": "python3"
  },
  "language_info": {
   "codemirror_mode": {
    "name": "ipython",
    "version": 3
   },
   "file_extension": ".py",
   "mimetype": "text/x-python",
   "name": "python",
   "nbconvert_exporter": "python",
   "pygments_lexer": "ipython3",
   "version": "3.12.4"
  }
 },
 "nbformat": 4,
 "nbformat_minor": 5
}
>>>>>>> be6e586b7a396f0798f366fae48fc07f559f2448
