<<<<<<< HEAD
{
 "cells": [
  {
   "cell_type": "markdown",
   "id": "b1e07355-1150-424c-ac73-242a7992a4da",
   "metadata": {},
   "source": [
    "#### 1. 전복 분류를 CNN으로 구현\n",
    "#### 2. 모델 저장한 후에\n",
    "#### 3. 사전학습 모델로 불러서 새로운 층과 출력층을 추가하고\n",
    "#### 4. 미세조정 fine-tunning\n",
    "\n",
    " # index_col=0"
   ]
  },
  {
   "cell_type": "markdown",
   "id": "f311ec7c-b1b2-4897-8362-3742c4016526",
   "metadata": {},
   "source": [
    "# 1. 데이터 불러오기"
   ]
  },
  {
   "cell_type": "code",
   "execution_count": 21,
   "id": "2e6b550c-c5a3-4746-8d3c-b4ae39a7fddc",
   "metadata": {},
   "outputs": [
    {
     "data": {
      "text/html": [
       "<div>\n",
       "<style scoped>\n",
       "    .dataframe tbody tr th:only-of-type {\n",
       "        vertical-align: middle;\n",
       "    }\n",
       "\n",
       "    .dataframe tbody tr th {\n",
       "        vertical-align: top;\n",
       "    }\n",
       "\n",
       "    .dataframe thead th {\n",
       "        text-align: right;\n",
       "    }\n",
       "</style>\n",
       "<table border=\"1\" class=\"dataframe\">\n",
       "  <thead>\n",
       "    <tr style=\"text-align: right;\">\n",
       "      <th></th>\n",
       "      <th>id</th>\n",
       "      <th>Sex</th>\n",
       "      <th>Length</th>\n",
       "      <th>Diameter</th>\n",
       "      <th>Height</th>\n",
       "      <th>Whole_weight</th>\n",
       "      <th>Shucked_weight</th>\n",
       "      <th>Viscera_weight</th>\n",
       "      <th>Shell_weight</th>\n",
       "      <th>Rings</th>\n",
       "    </tr>\n",
       "  </thead>\n",
       "  <tbody>\n",
       "    <tr>\n",
       "      <th>0</th>\n",
       "      <td>0</td>\n",
       "      <td>M</td>\n",
       "      <td>0.455</td>\n",
       "      <td>0.365</td>\n",
       "      <td>0.095</td>\n",
       "      <td>0.5140</td>\n",
       "      <td>0.2245</td>\n",
       "      <td>0.1010</td>\n",
       "      <td>0.1500</td>\n",
       "      <td>15</td>\n",
       "    </tr>\n",
       "    <tr>\n",
       "      <th>1</th>\n",
       "      <td>1</td>\n",
       "      <td>M</td>\n",
       "      <td>0.350</td>\n",
       "      <td>0.265</td>\n",
       "      <td>0.090</td>\n",
       "      <td>0.2255</td>\n",
       "      <td>0.0995</td>\n",
       "      <td>0.0485</td>\n",
       "      <td>0.0700</td>\n",
       "      <td>7</td>\n",
       "    </tr>\n",
       "    <tr>\n",
       "      <th>2</th>\n",
       "      <td>2</td>\n",
       "      <td>F</td>\n",
       "      <td>0.530</td>\n",
       "      <td>0.420</td>\n",
       "      <td>0.135</td>\n",
       "      <td>0.6770</td>\n",
       "      <td>0.2565</td>\n",
       "      <td>0.1415</td>\n",
       "      <td>0.2100</td>\n",
       "      <td>9</td>\n",
       "    </tr>\n",
       "    <tr>\n",
       "      <th>3</th>\n",
       "      <td>3</td>\n",
       "      <td>M</td>\n",
       "      <td>0.440</td>\n",
       "      <td>0.365</td>\n",
       "      <td>0.125</td>\n",
       "      <td>0.5160</td>\n",
       "      <td>0.2155</td>\n",
       "      <td>0.1140</td>\n",
       "      <td>0.1550</td>\n",
       "      <td>10</td>\n",
       "    </tr>\n",
       "    <tr>\n",
       "      <th>4</th>\n",
       "      <td>4</td>\n",
       "      <td>I</td>\n",
       "      <td>0.330</td>\n",
       "      <td>0.255</td>\n",
       "      <td>0.080</td>\n",
       "      <td>0.2050</td>\n",
       "      <td>0.0895</td>\n",
       "      <td>0.0395</td>\n",
       "      <td>0.0550</td>\n",
       "      <td>7</td>\n",
       "    </tr>\n",
       "    <tr>\n",
       "      <th>...</th>\n",
       "      <td>...</td>\n",
       "      <td>...</td>\n",
       "      <td>...</td>\n",
       "      <td>...</td>\n",
       "      <td>...</td>\n",
       "      <td>...</td>\n",
       "      <td>...</td>\n",
       "      <td>...</td>\n",
       "      <td>...</td>\n",
       "      <td>...</td>\n",
       "    </tr>\n",
       "    <tr>\n",
       "      <th>4172</th>\n",
       "      <td>4172</td>\n",
       "      <td>F</td>\n",
       "      <td>0.565</td>\n",
       "      <td>0.450</td>\n",
       "      <td>0.165</td>\n",
       "      <td>0.8870</td>\n",
       "      <td>0.3700</td>\n",
       "      <td>0.2390</td>\n",
       "      <td>0.2490</td>\n",
       "      <td>11</td>\n",
       "    </tr>\n",
       "    <tr>\n",
       "      <th>4173</th>\n",
       "      <td>4173</td>\n",
       "      <td>M</td>\n",
       "      <td>0.590</td>\n",
       "      <td>0.440</td>\n",
       "      <td>0.135</td>\n",
       "      <td>0.9660</td>\n",
       "      <td>0.4390</td>\n",
       "      <td>0.2145</td>\n",
       "      <td>0.2605</td>\n",
       "      <td>10</td>\n",
       "    </tr>\n",
       "    <tr>\n",
       "      <th>4174</th>\n",
       "      <td>4174</td>\n",
       "      <td>M</td>\n",
       "      <td>0.600</td>\n",
       "      <td>0.475</td>\n",
       "      <td>0.205</td>\n",
       "      <td>1.1760</td>\n",
       "      <td>0.5255</td>\n",
       "      <td>0.2875</td>\n",
       "      <td>0.3080</td>\n",
       "      <td>9</td>\n",
       "    </tr>\n",
       "    <tr>\n",
       "      <th>4175</th>\n",
       "      <td>4175</td>\n",
       "      <td>F</td>\n",
       "      <td>0.625</td>\n",
       "      <td>0.485</td>\n",
       "      <td>0.150</td>\n",
       "      <td>1.0945</td>\n",
       "      <td>0.5310</td>\n",
       "      <td>0.2610</td>\n",
       "      <td>0.2960</td>\n",
       "      <td>10</td>\n",
       "    </tr>\n",
       "    <tr>\n",
       "      <th>4176</th>\n",
       "      <td>4176</td>\n",
       "      <td>M</td>\n",
       "      <td>0.710</td>\n",
       "      <td>0.555</td>\n",
       "      <td>0.195</td>\n",
       "      <td>1.9485</td>\n",
       "      <td>0.9455</td>\n",
       "      <td>0.3765</td>\n",
       "      <td>0.4950</td>\n",
       "      <td>12</td>\n",
       "    </tr>\n",
       "  </tbody>\n",
       "</table>\n",
       "<p>4177 rows × 10 columns</p>\n",
       "</div>"
      ],
      "text/plain": [
       "        id Sex  Length  Diameter  Height  Whole_weight  Shucked_weight  \\\n",
       "0        0   M   0.455     0.365   0.095        0.5140          0.2245   \n",
       "1        1   M   0.350     0.265   0.090        0.2255          0.0995   \n",
       "2        2   F   0.530     0.420   0.135        0.6770          0.2565   \n",
       "3        3   M   0.440     0.365   0.125        0.5160          0.2155   \n",
       "4        4   I   0.330     0.255   0.080        0.2050          0.0895   \n",
       "...    ...  ..     ...       ...     ...           ...             ...   \n",
       "4172  4172   F   0.565     0.450   0.165        0.8870          0.3700   \n",
       "4173  4173   M   0.590     0.440   0.135        0.9660          0.4390   \n",
       "4174  4174   M   0.600     0.475   0.205        1.1760          0.5255   \n",
       "4175  4175   F   0.625     0.485   0.150        1.0945          0.5310   \n",
       "4176  4176   M   0.710     0.555   0.195        1.9485          0.9455   \n",
       "\n",
       "      Viscera_weight  Shell_weight  Rings  \n",
       "0             0.1010        0.1500     15  \n",
       "1             0.0485        0.0700      7  \n",
       "2             0.1415        0.2100      9  \n",
       "3             0.1140        0.1550     10  \n",
       "4             0.0395        0.0550      7  \n",
       "...              ...           ...    ...  \n",
       "4172          0.2390        0.2490     11  \n",
       "4173          0.2145        0.2605     10  \n",
       "4174          0.2875        0.3080      9  \n",
       "4175          0.2610        0.2960     10  \n",
       "4176          0.3765        0.4950     12  \n",
       "\n",
       "[4177 rows x 10 columns]"
      ]
     },
     "execution_count": 21,
     "metadata": {},
     "output_type": "execute_result"
    }
   ],
   "source": [
    "import pandas as pd\n",
    "\n",
    "data = pd.read_csv(\"C:/Users/wjdwl/Desktop/Data/abalone.csv\")\n",
    "data"
   ]
  },
  {
   "cell_type": "code",
   "execution_count": 23,
   "id": "bab8f8d8-fcb3-42ad-96ca-ff9fff5688e6",
   "metadata": {},
   "outputs": [
    {
     "name": "stdout",
     "output_type": "stream",
     "text": [
      "<class 'pandas.core.frame.DataFrame'>\n",
      "RangeIndex: 4177 entries, 0 to 4176\n",
      "Data columns (total 10 columns):\n",
      " #   Column          Non-Null Count  Dtype  \n",
      "---  ------          --------------  -----  \n",
      " 0   id              4177 non-null   int64  \n",
      " 1   Sex             4177 non-null   object \n",
      " 2   Length          4177 non-null   float64\n",
      " 3   Diameter        4177 non-null   float64\n",
      " 4   Height          4177 non-null   float64\n",
      " 5   Whole_weight    4177 non-null   float64\n",
      " 6   Shucked_weight  4177 non-null   float64\n",
      " 7   Viscera_weight  4177 non-null   float64\n",
      " 8   Shell_weight    4177 non-null   float64\n",
      " 9   Rings           4177 non-null   int64  \n",
      "dtypes: float64(7), int64(2), object(1)\n",
      "memory usage: 326.5+ KB\n"
     ]
    }
   ],
   "source": [
    "data.info()"
   ]
  },
  {
   "cell_type": "code",
   "execution_count": 25,
   "id": "1d48f3a4-1124-421d-9bdf-30f24cf49292",
   "metadata": {},
   "outputs": [
    {
     "name": "stdout",
     "output_type": "stream",
     "text": [
      "Min ; 1, Max : 29, mean : 9.933684462532918\n"
     ]
    }
   ],
   "source": [
    "# 데이터의 최대 최소 평균 값을 찾아서 데이터가 고르게 나눠질 수 있도록 범위를 조절\n",
    "\n",
    "min=data['Rings'].min()\n",
    "max=data['Rings'].max()\n",
    "mean = data['Rings'].mean()\n",
    "\n",
    "print(f\"Min ; {min}, Max : {max}, mean : {mean}\")"
   ]
  },
  {
   "cell_type": "code",
   "execution_count": 27,
   "id": "365a958b-450d-413f-8069-41e6a6790319",
   "metadata": {},
   "outputs": [],
   "source": [
    "# 전복 나이를 카테고리로 나누기\n",
    "data['Age'] = pd.cut(data['Rings'], bins=[0, 7, 12, 30], labels=['Young', 'Middle', 'Old'])"
   ]
  },
  {
   "cell_type": "code",
   "execution_count": 29,
   "id": "9aee279b-aecb-4855-a743-0ab17f5c2f00",
   "metadata": {},
   "outputs": [
    {
     "name": "stdout",
     "output_type": "stream",
     "text": [
      "Age\n",
      "Middle    2645\n",
      "Young      839\n",
      "Old        693\n",
      "Name: count, dtype: int64\n"
     ]
    }
   ],
   "source": [
    "age_category_counts = data['Age'].value_counts()\n",
    "print(age_category_counts)"
   ]
  },
  {
   "cell_type": "code",
   "execution_count": 34,
   "id": "7ec7baf4-3b43-46cb-b11f-eaa9b1e70a6f",
   "metadata": {},
   "outputs": [],
   "source": [
    "input = data.drop(['Age','Rings','id'],axis=1)\n",
    "target = data['Age']"
   ]
  },
  {
   "cell_type": "code",
   "execution_count": 38,
   "id": "c830b792-e4b8-463b-84be-71b9ef9f389a",
   "metadata": {},
   "outputs": [],
   "source": [
    "# target data 가 category 이므로 label을 LabelEncoder 를 통해 수치형 데이터로 바꿔준다\n",
    "from sklearn.preprocessing import LabelEncoder\n",
    "\n",
    "le = LabelEncoder()\n",
    "target = le.fit_transform(target)"
   ]
  },
  {
   "cell_type": "code",
   "execution_count": 40,
   "id": "7df56b09-f308-429d-8aaa-88fe96a1d903",
   "metadata": {},
   "outputs": [],
   "source": [
    "from sklearn.compose import ColumnTransformer\n",
    "from sklearn.preprocessing import OneHotEncoder\n",
    "import numpy as np\n",
    "\n",
    "ct = ColumnTransformer(transformers=[('encoder', OneHotEncoder(), [0])], remainder='passthrough')\n",
    "input = np.array(ct.fit_transform(input))"
   ]
  },
  {
   "cell_type": "code",
   "execution_count": 42,
   "id": "3f2e0d5c-a98d-41b4-a5fc-ad13bf40bcbd",
   "metadata": {},
   "outputs": [
    {
     "name": "stdout",
     "output_type": "stream",
     "text": [
      "[[0.     0.     1.     ... 0.2245 0.101  0.15  ]\n",
      " [0.     0.     1.     ... 0.0995 0.0485 0.07  ]\n",
      " [1.     0.     0.     ... 0.2565 0.1415 0.21  ]\n",
      " ...\n",
      " [0.     0.     1.     ... 0.5255 0.2875 0.308 ]\n",
      " [1.     0.     0.     ... 0.531  0.261  0.296 ]\n",
      " [0.     0.     1.     ... 0.9455 0.3765 0.495 ]]\n"
     ]
    }
   ],
   "source": [
    "print(input)"
   ]
  },
  {
   "cell_type": "code",
   "execution_count": 44,
   "id": "c254d0da-ac45-43cc-bda2-3e072c499aeb",
   "metadata": {},
   "outputs": [],
   "source": [
    "\n",
    "from sklearn.preprocessing import StandardScaler\n",
    "\n",
    "sc = StandardScaler()\n",
    "input = sc.fit_transform(input)"
   ]
  },
  {
   "cell_type": "code",
   "execution_count": 46,
   "id": "bc3e2b99-82ce-491d-b50d-9c407f0b0c63",
   "metadata": {},
   "outputs": [
    {
     "data": {
      "text/plain": [
       "(4177, 10)"
      ]
     },
     "execution_count": 46,
     "metadata": {},
     "output_type": "execute_result"
    }
   ],
   "source": [
    "input.shape"
   ]
  },
  {
   "cell_type": "code",
   "execution_count": 48,
   "id": "7d84a9e6-b69f-4194-8e45-0a6b88950ed8",
   "metadata": {},
   "outputs": [
    {
     "data": {
      "text/plain": [
       "(4177, 10, 1)"
      ]
     },
     "execution_count": 48,
     "metadata": {},
     "output_type": "execute_result"
    }
   ],
   "source": [
    "# 현재 input 차원은 (4177,10) 인데 CNN 모델은 최소 3차원 데이터 부터 입력데이터로 들어가야함 Conv1D는 (batch_size,length,channels)가 필요하니깐 차원 하나를 늘려준다\n",
    "input= np.expand_dims(input,axis=-1)\n",
    "input.shape"
   ]
  },
  {
   "cell_type": "code",
   "execution_count": 50,
   "id": "eb1c67f4-fae6-42c4-9be6-e40626b22f2d",
   "metadata": {},
   "outputs": [
    {
     "data": {
      "text/plain": [
       "(4177,)"
      ]
     },
     "execution_count": 50,
     "metadata": {},
     "output_type": "execute_result"
    }
   ],
   "source": [
    "target.shape"
   ]
  },
  {
   "cell_type": "code",
   "execution_count": 52,
   "id": "40d2d71a-ff10-4ffe-8161-9a558bd72f51",
   "metadata": {},
   "outputs": [],
   "source": [
    "from sklearn.model_selection import train_test_split\n",
    "\n",
    "x_train,x_test, y_train, y_test = train_test_split (input,target, test_size=0.2,stratify=target)"
   ]
  },
  {
   "cell_type": "markdown",
   "id": "9f548612-c876-4c9f-8ab2-0a989648f22a",
   "metadata": {},
   "source": [
    "# 1. CNN 모델"
   ]
  },
  {
   "cell_type": "code",
   "execution_count": 55,
   "id": "5dab915c-46c9-4bae-b02c-e6b8087bf364",
   "metadata": {},
   "outputs": [
    {
     "name": "stderr",
     "output_type": "stream",
     "text": [
      "C:\\Users\\wjdwl\\anaconda3\\Lib\\site-packages\\keras\\src\\layers\\convolutional\\base_conv.py:107: UserWarning: Do not pass an `input_shape`/`input_dim` argument to a layer. When using Sequential models, prefer using an `Input(shape)` object as the first layer in the model instead.\n",
      "  super().__init__(activity_regularizer=activity_regularizer, **kwargs)\n"
     ]
    },
    {
     "data": {
      "text/html": [
       "<pre style=\"white-space:pre;overflow-x:auto;line-height:normal;font-family:Menlo,'DejaVu Sans Mono',consolas,'Courier New',monospace\"><span style=\"font-weight: bold\">Model: \"sequential\"</span>\n",
       "</pre>\n"
      ],
      "text/plain": [
       "\u001b[1mModel: \"sequential\"\u001b[0m\n"
      ]
     },
     "metadata": {},
     "output_type": "display_data"
    },
    {
     "data": {
      "text/html": [
       "<pre style=\"white-space:pre;overflow-x:auto;line-height:normal;font-family:Menlo,'DejaVu Sans Mono',consolas,'Courier New',monospace\">┏━━━━━━━━━━━━━━━━━━━━━━━━━━━━━━━━━━━━━━┳━━━━━━━━━━━━━━━━━━━━━━━━━━━━━┳━━━━━━━━━━━━━━━━━┓\n",
       "┃<span style=\"font-weight: bold\"> Layer (type)                         </span>┃<span style=\"font-weight: bold\"> Output Shape                </span>┃<span style=\"font-weight: bold\">         Param # </span>┃\n",
       "┡━━━━━━━━━━━━━━━━━━━━━━━━━━━━━━━━━━━━━━╇━━━━━━━━━━━━━━━━━━━━━━━━━━━━━╇━━━━━━━━━━━━━━━━━┩\n",
       "│ conv1d (<span style=\"color: #0087ff; text-decoration-color: #0087ff\">Conv1D</span>)                      │ (<span style=\"color: #00d7ff; text-decoration-color: #00d7ff\">None</span>, <span style=\"color: #00af00; text-decoration-color: #00af00\">8</span>, <span style=\"color: #00af00; text-decoration-color: #00af00\">32</span>)               │             <span style=\"color: #00af00; text-decoration-color: #00af00\">128</span> │\n",
       "├──────────────────────────────────────┼─────────────────────────────┼─────────────────┤\n",
       "│ max_pooling1d (<span style=\"color: #0087ff; text-decoration-color: #0087ff\">MaxPooling1D</span>)         │ (<span style=\"color: #00d7ff; text-decoration-color: #00d7ff\">None</span>, <span style=\"color: #00af00; text-decoration-color: #00af00\">4</span>, <span style=\"color: #00af00; text-decoration-color: #00af00\">32</span>)               │               <span style=\"color: #00af00; text-decoration-color: #00af00\">0</span> │\n",
       "├──────────────────────────────────────┼─────────────────────────────┼─────────────────┤\n",
       "│ flatten (<span style=\"color: #0087ff; text-decoration-color: #0087ff\">Flatten</span>)                    │ (<span style=\"color: #00d7ff; text-decoration-color: #00d7ff\">None</span>, <span style=\"color: #00af00; text-decoration-color: #00af00\">128</span>)                 │               <span style=\"color: #00af00; text-decoration-color: #00af00\">0</span> │\n",
       "├──────────────────────────────────────┼─────────────────────────────┼─────────────────┤\n",
       "│ dense (<span style=\"color: #0087ff; text-decoration-color: #0087ff\">Dense</span>)                        │ (<span style=\"color: #00d7ff; text-decoration-color: #00d7ff\">None</span>, <span style=\"color: #00af00; text-decoration-color: #00af00\">128</span>)                 │          <span style=\"color: #00af00; text-decoration-color: #00af00\">16,512</span> │\n",
       "├──────────────────────────────────────┼─────────────────────────────┼─────────────────┤\n",
       "│ dense_1 (<span style=\"color: #0087ff; text-decoration-color: #0087ff\">Dense</span>)                      │ (<span style=\"color: #00d7ff; text-decoration-color: #00d7ff\">None</span>, <span style=\"color: #00af00; text-decoration-color: #00af00\">3</span>)                   │             <span style=\"color: #00af00; text-decoration-color: #00af00\">387</span> │\n",
       "└──────────────────────────────────────┴─────────────────────────────┴─────────────────┘\n",
       "</pre>\n"
      ],
      "text/plain": [
       "┏━━━━━━━━━━━━━━━━━━━━━━━━━━━━━━━━━━━━━━┳━━━━━━━━━━━━━━━━━━━━━━━━━━━━━┳━━━━━━━━━━━━━━━━━┓\n",
       "┃\u001b[1m \u001b[0m\u001b[1mLayer (type)                        \u001b[0m\u001b[1m \u001b[0m┃\u001b[1m \u001b[0m\u001b[1mOutput Shape               \u001b[0m\u001b[1m \u001b[0m┃\u001b[1m \u001b[0m\u001b[1m        Param #\u001b[0m\u001b[1m \u001b[0m┃\n",
       "┡━━━━━━━━━━━━━━━━━━━━━━━━━━━━━━━━━━━━━━╇━━━━━━━━━━━━━━━━━━━━━━━━━━━━━╇━━━━━━━━━━━━━━━━━┩\n",
       "│ conv1d (\u001b[38;5;33mConv1D\u001b[0m)                      │ (\u001b[38;5;45mNone\u001b[0m, \u001b[38;5;34m8\u001b[0m, \u001b[38;5;34m32\u001b[0m)               │             \u001b[38;5;34m128\u001b[0m │\n",
       "├──────────────────────────────────────┼─────────────────────────────┼─────────────────┤\n",
       "│ max_pooling1d (\u001b[38;5;33mMaxPooling1D\u001b[0m)         │ (\u001b[38;5;45mNone\u001b[0m, \u001b[38;5;34m4\u001b[0m, \u001b[38;5;34m32\u001b[0m)               │               \u001b[38;5;34m0\u001b[0m │\n",
       "├──────────────────────────────────────┼─────────────────────────────┼─────────────────┤\n",
       "│ flatten (\u001b[38;5;33mFlatten\u001b[0m)                    │ (\u001b[38;5;45mNone\u001b[0m, \u001b[38;5;34m128\u001b[0m)                 │               \u001b[38;5;34m0\u001b[0m │\n",
       "├──────────────────────────────────────┼─────────────────────────────┼─────────────────┤\n",
       "│ dense (\u001b[38;5;33mDense\u001b[0m)                        │ (\u001b[38;5;45mNone\u001b[0m, \u001b[38;5;34m128\u001b[0m)                 │          \u001b[38;5;34m16,512\u001b[0m │\n",
       "├──────────────────────────────────────┼─────────────────────────────┼─────────────────┤\n",
       "│ dense_1 (\u001b[38;5;33mDense\u001b[0m)                      │ (\u001b[38;5;45mNone\u001b[0m, \u001b[38;5;34m3\u001b[0m)                   │             \u001b[38;5;34m387\u001b[0m │\n",
       "└──────────────────────────────────────┴─────────────────────────────┴─────────────────┘\n"
      ]
     },
     "metadata": {},
     "output_type": "display_data"
    },
    {
     "data": {
      "text/html": [
       "<pre style=\"white-space:pre;overflow-x:auto;line-height:normal;font-family:Menlo,'DejaVu Sans Mono',consolas,'Courier New',monospace\"><span style=\"font-weight: bold\"> Total params: </span><span style=\"color: #00af00; text-decoration-color: #00af00\">17,027</span> (66.51 KB)\n",
       "</pre>\n"
      ],
      "text/plain": [
       "\u001b[1m Total params: \u001b[0m\u001b[38;5;34m17,027\u001b[0m (66.51 KB)\n"
      ]
     },
     "metadata": {},
     "output_type": "display_data"
    },
    {
     "data": {
      "text/html": [
       "<pre style=\"white-space:pre;overflow-x:auto;line-height:normal;font-family:Menlo,'DejaVu Sans Mono',consolas,'Courier New',monospace\"><span style=\"font-weight: bold\"> Trainable params: </span><span style=\"color: #00af00; text-decoration-color: #00af00\">17,027</span> (66.51 KB)\n",
       "</pre>\n"
      ],
      "text/plain": [
       "\u001b[1m Trainable params: \u001b[0m\u001b[38;5;34m17,027\u001b[0m (66.51 KB)\n"
      ]
     },
     "metadata": {},
     "output_type": "display_data"
    },
    {
     "data": {
      "text/html": [
       "<pre style=\"white-space:pre;overflow-x:auto;line-height:normal;font-family:Menlo,'DejaVu Sans Mono',consolas,'Courier New',monospace\"><span style=\"font-weight: bold\"> Non-trainable params: </span><span style=\"color: #00af00; text-decoration-color: #00af00\">0</span> (0.00 B)\n",
       "</pre>\n"
      ],
      "text/plain": [
       "\u001b[1m Non-trainable params: \u001b[0m\u001b[38;5;34m0\u001b[0m (0.00 B)\n"
      ]
     },
     "metadata": {},
     "output_type": "display_data"
    }
   ],
   "source": [
    "from tensorflow.keras.models import Sequential\n",
    "from tensorflow.keras.layers import Conv1D, MaxPooling1D, Flatten, Dense, Dropout\n",
    "\n",
    "model = Sequential()\n",
    "model.add(Conv1D(32,kernel_size=3,activation='relu',input_shape=(10,1)))\n",
    "model.add(MaxPooling1D(pool_size=2))\n",
    "model.add(Flatten())\n",
    "model.add(Dense(128,activation='relu'))\n",
    "model.add(Dense(3,activation='softmax'))\n",
    "\n",
    "model.summary()"
   ]
  },
  {
   "cell_type": "code",
   "execution_count": 57,
   "id": "dd86ce53-bdb7-4d9c-a467-aff9416f11d0",
   "metadata": {},
   "outputs": [],
   "source": [
    "# target 이 0 1 2의 정수형 데이터이므로 sparse_categorical_crossentropy 사용\n",
    "model.compile(optimizer='adam',loss='sparse_categorical_crossentropy',metrics=['accuracy'])"
   ]
  },
  {
   "cell_type": "code",
   "execution_count": 59,
   "id": "5227a434-90c4-4da0-a063-6d1497eaaa87",
   "metadata": {},
   "outputs": [
    {
     "name": "stdout",
     "output_type": "stream",
     "text": [
      "Epoch 1/100\n",
      "\u001b[1m105/105\u001b[0m \u001b[32m━━━━━━━━━━━━━━━━━━━━\u001b[0m\u001b[37m\u001b[0m \u001b[1m4s\u001b[0m 8ms/step - accuracy: 0.6964 - loss: 0.7653 - val_accuracy: 0.7452 - val_loss: 0.6157\n",
      "Epoch 2/100\n",
      "\u001b[1m105/105\u001b[0m \u001b[32m━━━━━━━━━━━━━━━━━━━━\u001b[0m\u001b[37m\u001b[0m \u001b[1m0s\u001b[0m 4ms/step - accuracy: 0.7401 - loss: 0.6014 - val_accuracy: 0.7548 - val_loss: 0.5934\n",
      "Epoch 3/100\n",
      "\u001b[1m105/105\u001b[0m \u001b[32m━━━━━━━━━━━━━━━━━━━━\u001b[0m\u001b[37m\u001b[0m \u001b[1m0s\u001b[0m 4ms/step - accuracy: 0.7687 - loss: 0.5704 - val_accuracy: 0.7524 - val_loss: 0.5781\n",
      "Epoch 4/100\n",
      "\u001b[1m105/105\u001b[0m \u001b[32m━━━━━━━━━━━━━━━━━━━━\u001b[0m\u001b[37m\u001b[0m \u001b[1m0s\u001b[0m 4ms/step - accuracy: 0.7682 - loss: 0.5511 - val_accuracy: 0.7524 - val_loss: 0.5703\n",
      "Epoch 5/100\n",
      "\u001b[1m105/105\u001b[0m \u001b[32m━━━━━━━━━━━━━━━━━━━━\u001b[0m\u001b[37m\u001b[0m \u001b[1m1s\u001b[0m 4ms/step - accuracy: 0.7788 - loss: 0.5355 - val_accuracy: 0.7356 - val_loss: 0.5956\n",
      "Epoch 6/100\n",
      "\u001b[1m105/105\u001b[0m \u001b[32m━━━━━━━━━━━━━━━━━━━━\u001b[0m\u001b[37m\u001b[0m \u001b[1m0s\u001b[0m 4ms/step - accuracy: 0.7753 - loss: 0.5347 - val_accuracy: 0.7644 - val_loss: 0.5514\n",
      "Epoch 7/100\n",
      "\u001b[1m105/105\u001b[0m \u001b[32m━━━━━━━━━━━━━━━━━━━━\u001b[0m\u001b[37m\u001b[0m \u001b[1m1s\u001b[0m 4ms/step - accuracy: 0.7746 - loss: 0.5371 - val_accuracy: 0.7775 - val_loss: 0.5476\n",
      "Epoch 8/100\n",
      "\u001b[1m105/105\u001b[0m \u001b[32m━━━━━━━━━━━━━━━━━━━━\u001b[0m\u001b[37m\u001b[0m \u001b[1m0s\u001b[0m 4ms/step - accuracy: 0.7806 - loss: 0.5249 - val_accuracy: 0.7811 - val_loss: 0.5441\n",
      "Epoch 9/100\n",
      "\u001b[1m105/105\u001b[0m \u001b[32m━━━━━━━━━━━━━━━━━━━━\u001b[0m\u001b[37m\u001b[0m \u001b[1m0s\u001b[0m 4ms/step - accuracy: 0.7762 - loss: 0.5444 - val_accuracy: 0.7644 - val_loss: 0.5418\n",
      "Epoch 10/100\n",
      "\u001b[1m105/105\u001b[0m \u001b[32m━━━━━━━━━━━━━━━━━━━━\u001b[0m\u001b[37m\u001b[0m \u001b[1m0s\u001b[0m 4ms/step - accuracy: 0.7813 - loss: 0.5124 - val_accuracy: 0.7811 - val_loss: 0.5391\n",
      "Epoch 11/100\n",
      "\u001b[1m105/105\u001b[0m \u001b[32m━━━━━━━━━━━━━━━━━━━━\u001b[0m\u001b[37m\u001b[0m \u001b[1m1s\u001b[0m 5ms/step - accuracy: 0.7753 - loss: 0.5269 - val_accuracy: 0.7775 - val_loss: 0.5467\n",
      "Epoch 12/100\n",
      "\u001b[1m105/105\u001b[0m \u001b[32m━━━━━━━━━━━━━━━━━━━━\u001b[0m\u001b[37m\u001b[0m \u001b[1m1s\u001b[0m 4ms/step - accuracy: 0.7832 - loss: 0.5167 - val_accuracy: 0.7811 - val_loss: 0.5420\n",
      "Epoch 13/100\n",
      "\u001b[1m105/105\u001b[0m \u001b[32m━━━━━━━━━━━━━━━━━━━━\u001b[0m\u001b[37m\u001b[0m \u001b[1m0s\u001b[0m 4ms/step - accuracy: 0.7831 - loss: 0.5202 - val_accuracy: 0.7620 - val_loss: 0.5505\n",
      "Epoch 14/100\n",
      "\u001b[1m105/105\u001b[0m \u001b[32m━━━━━━━━━━━━━━━━━━━━\u001b[0m\u001b[37m\u001b[0m \u001b[1m1s\u001b[0m 4ms/step - accuracy: 0.7867 - loss: 0.5028 - val_accuracy: 0.7715 - val_loss: 0.5411\n",
      "Epoch 15/100\n",
      "\u001b[1m105/105\u001b[0m \u001b[32m━━━━━━━━━━━━━━━━━━━━\u001b[0m\u001b[37m\u001b[0m \u001b[1m0s\u001b[0m 4ms/step - accuracy: 0.7891 - loss: 0.5157 - val_accuracy: 0.7727 - val_loss: 0.5372\n",
      "Epoch 16/100\n",
      "\u001b[1m105/105\u001b[0m \u001b[32m━━━━━━━━━━━━━━━━━━━━\u001b[0m\u001b[37m\u001b[0m \u001b[1m1s\u001b[0m 4ms/step - accuracy: 0.7856 - loss: 0.5168 - val_accuracy: 0.7787 - val_loss: 0.5387\n",
      "Epoch 17/100\n",
      "\u001b[1m105/105\u001b[0m \u001b[32m━━━━━━━━━━━━━━━━━━━━\u001b[0m\u001b[37m\u001b[0m \u001b[1m1s\u001b[0m 4ms/step - accuracy: 0.7887 - loss: 0.5048 - val_accuracy: 0.7787 - val_loss: 0.5405\n",
      "Epoch 18/100\n",
      "\u001b[1m105/105\u001b[0m \u001b[32m━━━━━━━━━━━━━━━━━━━━\u001b[0m\u001b[37m\u001b[0m \u001b[1m1s\u001b[0m 4ms/step - accuracy: 0.7956 - loss: 0.5124 - val_accuracy: 0.7620 - val_loss: 0.5455\n",
      "Epoch 19/100\n",
      "\u001b[1m105/105\u001b[0m \u001b[32m━━━━━━━━━━━━━━━━━━━━\u001b[0m\u001b[37m\u001b[0m \u001b[1m1s\u001b[0m 4ms/step - accuracy: 0.7867 - loss: 0.5053 - val_accuracy: 0.7811 - val_loss: 0.5444\n",
      "Epoch 20/100\n",
      "\u001b[1m105/105\u001b[0m \u001b[32m━━━━━━━━━━━━━━━━━━━━\u001b[0m\u001b[37m\u001b[0m \u001b[1m1s\u001b[0m 4ms/step - accuracy: 0.7866 - loss: 0.5131 - val_accuracy: 0.7715 - val_loss: 0.5397\n",
      "Epoch 21/100\n",
      "\u001b[1m105/105\u001b[0m \u001b[32m━━━━━━━━━━━━━━━━━━━━\u001b[0m\u001b[37m\u001b[0m \u001b[1m1s\u001b[0m 4ms/step - accuracy: 0.7801 - loss: 0.5128 - val_accuracy: 0.7835 - val_loss: 0.5397\n",
      "Epoch 22/100\n",
      "\u001b[1m105/105\u001b[0m \u001b[32m━━━━━━━━━━━━━━━━━━━━\u001b[0m\u001b[37m\u001b[0m \u001b[1m1s\u001b[0m 4ms/step - accuracy: 0.7807 - loss: 0.5304 - val_accuracy: 0.7775 - val_loss: 0.5356\n",
      "Epoch 23/100\n",
      "\u001b[1m105/105\u001b[0m \u001b[32m━━━━━━━━━━━━━━━━━━━━\u001b[0m\u001b[37m\u001b[0m \u001b[1m0s\u001b[0m 4ms/step - accuracy: 0.7821 - loss: 0.5092 - val_accuracy: 0.7847 - val_loss: 0.5518\n",
      "Epoch 24/100\n",
      "\u001b[1m105/105\u001b[0m \u001b[32m━━━━━━━━━━━━━━━━━━━━\u001b[0m\u001b[37m\u001b[0m \u001b[1m1s\u001b[0m 4ms/step - accuracy: 0.7798 - loss: 0.5181 - val_accuracy: 0.7727 - val_loss: 0.5334\n",
      "Epoch 25/100\n",
      "\u001b[1m105/105\u001b[0m \u001b[32m━━━━━━━━━━━━━━━━━━━━\u001b[0m\u001b[37m\u001b[0m \u001b[1m1s\u001b[0m 4ms/step - accuracy: 0.8002 - loss: 0.4980 - val_accuracy: 0.7584 - val_loss: 0.5471\n",
      "Epoch 26/100\n",
      "\u001b[1m105/105\u001b[0m \u001b[32m━━━━━━━━━━━━━━━━━━━━\u001b[0m\u001b[37m\u001b[0m \u001b[1m1s\u001b[0m 4ms/step - accuracy: 0.7860 - loss: 0.4908 - val_accuracy: 0.7632 - val_loss: 0.5460\n",
      "Epoch 27/100\n",
      "\u001b[1m105/105\u001b[0m \u001b[32m━━━━━━━━━━━━━━━━━━━━\u001b[0m\u001b[37m\u001b[0m \u001b[1m0s\u001b[0m 4ms/step - accuracy: 0.7842 - loss: 0.4846 - val_accuracy: 0.7799 - val_loss: 0.5341\n",
      "Epoch 28/100\n",
      "\u001b[1m105/105\u001b[0m \u001b[32m━━━━━━━━━━━━━━━━━━━━\u001b[0m\u001b[37m\u001b[0m \u001b[1m1s\u001b[0m 4ms/step - accuracy: 0.8018 - loss: 0.4864 - val_accuracy: 0.7739 - val_loss: 0.5386\n",
      "Epoch 29/100\n",
      "\u001b[1m105/105\u001b[0m \u001b[32m━━━━━━━━━━━━━━━━━━━━\u001b[0m\u001b[37m\u001b[0m \u001b[1m1s\u001b[0m 5ms/step - accuracy: 0.7981 - loss: 0.4807 - val_accuracy: 0.7811 - val_loss: 0.5395\n",
      "Epoch 30/100\n",
      "\u001b[1m105/105\u001b[0m \u001b[32m━━━━━━━━━━━━━━━━━━━━\u001b[0m\u001b[37m\u001b[0m \u001b[1m0s\u001b[0m 4ms/step - accuracy: 0.7954 - loss: 0.4977 - val_accuracy: 0.7823 - val_loss: 0.5317\n",
      "Epoch 31/100\n",
      "\u001b[1m105/105\u001b[0m \u001b[32m━━━━━━━━━━━━━━━━━━━━\u001b[0m\u001b[37m\u001b[0m \u001b[1m0s\u001b[0m 4ms/step - accuracy: 0.7838 - loss: 0.5119 - val_accuracy: 0.7667 - val_loss: 0.5382\n",
      "Epoch 32/100\n",
      "\u001b[1m105/105\u001b[0m \u001b[32m━━━━━━━━━━━━━━━━━━━━\u001b[0m\u001b[37m\u001b[0m \u001b[1m0s\u001b[0m 4ms/step - accuracy: 0.7744 - loss: 0.5061 - val_accuracy: 0.7787 - val_loss: 0.5247\n",
      "Epoch 33/100\n",
      "\u001b[1m105/105\u001b[0m \u001b[32m━━━━━━━━━━━━━━━━━━━━\u001b[0m\u001b[37m\u001b[0m \u001b[1m0s\u001b[0m 4ms/step - accuracy: 0.8081 - loss: 0.4784 - val_accuracy: 0.7823 - val_loss: 0.5274\n",
      "Epoch 34/100\n",
      "\u001b[1m105/105\u001b[0m \u001b[32m━━━━━━━━━━━━━━━━━━━━\u001b[0m\u001b[37m\u001b[0m \u001b[1m0s\u001b[0m 4ms/step - accuracy: 0.8075 - loss: 0.4801 - val_accuracy: 0.7632 - val_loss: 0.5317\n",
      "Epoch 35/100\n",
      "\u001b[1m105/105\u001b[0m \u001b[32m━━━━━━━━━━━━━━━━━━━━\u001b[0m\u001b[37m\u001b[0m \u001b[1m1s\u001b[0m 4ms/step - accuracy: 0.7827 - loss: 0.4976 - val_accuracy: 0.7847 - val_loss: 0.5302\n",
      "Epoch 36/100\n",
      "\u001b[1m105/105\u001b[0m \u001b[32m━━━━━━━━━━━━━━━━━━━━\u001b[0m\u001b[37m\u001b[0m \u001b[1m1s\u001b[0m 4ms/step - accuracy: 0.8005 - loss: 0.4934 - val_accuracy: 0.7847 - val_loss: 0.5322\n",
      "Epoch 37/100\n",
      "\u001b[1m105/105\u001b[0m \u001b[32m━━━━━━━━━━━━━━━━━━━━\u001b[0m\u001b[37m\u001b[0m \u001b[1m1s\u001b[0m 4ms/step - accuracy: 0.7910 - loss: 0.4956 - val_accuracy: 0.7679 - val_loss: 0.5329\n",
      "Epoch 38/100\n",
      "\u001b[1m105/105\u001b[0m \u001b[32m━━━━━━━━━━━━━━━━━━━━\u001b[0m\u001b[37m\u001b[0m \u001b[1m0s\u001b[0m 4ms/step - accuracy: 0.7899 - loss: 0.4832 - val_accuracy: 0.7727 - val_loss: 0.5274\n",
      "Epoch 39/100\n",
      "\u001b[1m105/105\u001b[0m \u001b[32m━━━━━━━━━━━━━━━━━━━━\u001b[0m\u001b[37m\u001b[0m \u001b[1m0s\u001b[0m 4ms/step - accuracy: 0.8035 - loss: 0.4631 - val_accuracy: 0.7799 - val_loss: 0.5263\n",
      "Epoch 40/100\n",
      "\u001b[1m105/105\u001b[0m \u001b[32m━━━━━━━━━━━━━━━━━━━━\u001b[0m\u001b[37m\u001b[0m \u001b[1m0s\u001b[0m 4ms/step - accuracy: 0.7900 - loss: 0.4922 - val_accuracy: 0.7644 - val_loss: 0.5286\n",
      "Epoch 41/100\n",
      "\u001b[1m105/105\u001b[0m \u001b[32m━━━━━━━━━━━━━━━━━━━━\u001b[0m\u001b[37m\u001b[0m \u001b[1m1s\u001b[0m 5ms/step - accuracy: 0.8107 - loss: 0.4613 - val_accuracy: 0.7799 - val_loss: 0.5263\n",
      "Epoch 42/100\n",
      "\u001b[1m105/105\u001b[0m \u001b[32m━━━━━━━━━━━━━━━━━━━━\u001b[0m\u001b[37m\u001b[0m \u001b[1m1s\u001b[0m 4ms/step - accuracy: 0.7935 - loss: 0.4971 - val_accuracy: 0.7895 - val_loss: 0.5404\n",
      "Epoch 43/100\n",
      "\u001b[1m105/105\u001b[0m \u001b[32m━━━━━━━━━━━━━━━━━━━━\u001b[0m\u001b[37m\u001b[0m \u001b[1m1s\u001b[0m 4ms/step - accuracy: 0.7890 - loss: 0.4877 - val_accuracy: 0.7847 - val_loss: 0.5324\n",
      "Epoch 44/100\n",
      "\u001b[1m105/105\u001b[0m \u001b[32m━━━━━━━━━━━━━━━━━━━━\u001b[0m\u001b[37m\u001b[0m \u001b[1m0s\u001b[0m 4ms/step - accuracy: 0.7857 - loss: 0.4914 - val_accuracy: 0.7811 - val_loss: 0.5356\n",
      "Epoch 45/100\n",
      "\u001b[1m105/105\u001b[0m \u001b[32m━━━━━━━━━━━━━━━━━━━━\u001b[0m\u001b[37m\u001b[0m \u001b[1m1s\u001b[0m 4ms/step - accuracy: 0.7982 - loss: 0.4698 - val_accuracy: 0.7835 - val_loss: 0.5402\n",
      "Epoch 46/100\n",
      "\u001b[1m105/105\u001b[0m \u001b[32m━━━━━━━━━━━━━━━━━━━━\u001b[0m\u001b[37m\u001b[0m \u001b[1m1s\u001b[0m 4ms/step - accuracy: 0.7931 - loss: 0.4876 - val_accuracy: 0.7596 - val_loss: 0.5427\n",
      "Epoch 47/100\n",
      "\u001b[1m105/105\u001b[0m \u001b[32m━━━━━━━━━━━━━━━━━━━━\u001b[0m\u001b[37m\u001b[0m \u001b[1m1s\u001b[0m 4ms/step - accuracy: 0.7988 - loss: 0.4772 - val_accuracy: 0.7632 - val_loss: 0.5340\n",
      "Epoch 48/100\n",
      "\u001b[1m105/105\u001b[0m \u001b[32m━━━━━━━━━━━━━━━━━━━━\u001b[0m\u001b[37m\u001b[0m \u001b[1m1s\u001b[0m 4ms/step - accuracy: 0.7938 - loss: 0.4811 - val_accuracy: 0.7703 - val_loss: 0.5265\n",
      "Epoch 49/100\n",
      "\u001b[1m105/105\u001b[0m \u001b[32m━━━━━━━━━━━━━━━━━━━━\u001b[0m\u001b[37m\u001b[0m \u001b[1m0s\u001b[0m 4ms/step - accuracy: 0.8023 - loss: 0.4688 - val_accuracy: 0.7644 - val_loss: 0.5237\n",
      "Epoch 50/100\n",
      "\u001b[1m105/105\u001b[0m \u001b[32m━━━━━━━━━━━━━━━━━━━━\u001b[0m\u001b[37m\u001b[0m \u001b[1m1s\u001b[0m 4ms/step - accuracy: 0.7920 - loss: 0.4907 - val_accuracy: 0.7739 - val_loss: 0.5326\n",
      "Epoch 51/100\n",
      "\u001b[1m105/105\u001b[0m \u001b[32m━━━━━━━━━━━━━━━━━━━━\u001b[0m\u001b[37m\u001b[0m \u001b[1m1s\u001b[0m 4ms/step - accuracy: 0.8028 - loss: 0.4724 - val_accuracy: 0.7608 - val_loss: 0.5290\n",
      "Epoch 52/100\n",
      "\u001b[1m105/105\u001b[0m \u001b[32m━━━━━━━━━━━━━━━━━━━━\u001b[0m\u001b[37m\u001b[0m \u001b[1m0s\u001b[0m 4ms/step - accuracy: 0.8006 - loss: 0.4806 - val_accuracy: 0.7679 - val_loss: 0.5509\n",
      "Epoch 53/100\n",
      "\u001b[1m105/105\u001b[0m \u001b[32m━━━━━━━━━━━━━━━━━━━━\u001b[0m\u001b[37m\u001b[0m \u001b[1m1s\u001b[0m 4ms/step - accuracy: 0.7942 - loss: 0.4861 - val_accuracy: 0.7787 - val_loss: 0.5251\n",
      "Epoch 54/100\n",
      "\u001b[1m105/105\u001b[0m \u001b[32m━━━━━━━━━━━━━━━━━━━━\u001b[0m\u001b[37m\u001b[0m \u001b[1m0s\u001b[0m 4ms/step - accuracy: 0.8014 - loss: 0.4725 - val_accuracy: 0.7656 - val_loss: 0.5296\n",
      "Epoch 55/100\n",
      "\u001b[1m105/105\u001b[0m \u001b[32m━━━━━━━━━━━━━━━━━━━━\u001b[0m\u001b[37m\u001b[0m \u001b[1m0s\u001b[0m 4ms/step - accuracy: 0.8010 - loss: 0.4700 - val_accuracy: 0.7811 - val_loss: 0.5259\n",
      "Epoch 56/100\n",
      "\u001b[1m105/105\u001b[0m \u001b[32m━━━━━━━━━━━━━━━━━━━━\u001b[0m\u001b[37m\u001b[0m \u001b[1m1s\u001b[0m 4ms/step - accuracy: 0.7929 - loss: 0.4942 - val_accuracy: 0.7715 - val_loss: 0.5265\n",
      "Epoch 57/100\n",
      "\u001b[1m105/105\u001b[0m \u001b[32m━━━━━━━━━━━━━━━━━━━━\u001b[0m\u001b[37m\u001b[0m \u001b[1m0s\u001b[0m 4ms/step - accuracy: 0.8009 - loss: 0.4761 - val_accuracy: 0.7883 - val_loss: 0.5401\n",
      "Epoch 58/100\n",
      "\u001b[1m105/105\u001b[0m \u001b[32m━━━━━━━━━━━━━━━━━━━━\u001b[0m\u001b[37m\u001b[0m \u001b[1m0s\u001b[0m 4ms/step - accuracy: 0.7903 - loss: 0.4785 - val_accuracy: 0.7823 - val_loss: 0.5335\n",
      "Epoch 59/100\n",
      "\u001b[1m105/105\u001b[0m \u001b[32m━━━━━━━━━━━━━━━━━━━━\u001b[0m\u001b[37m\u001b[0m \u001b[1m0s\u001b[0m 4ms/step - accuracy: 0.8173 - loss: 0.4395 - val_accuracy: 0.7464 - val_loss: 0.5432\n",
      "Epoch 60/100\n",
      "\u001b[1m105/105\u001b[0m \u001b[32m━━━━━━━━━━━━━━━━━━━━\u001b[0m\u001b[37m\u001b[0m \u001b[1m0s\u001b[0m 4ms/step - accuracy: 0.7990 - loss: 0.4762 - val_accuracy: 0.7715 - val_loss: 0.5361\n",
      "Epoch 61/100\n",
      "\u001b[1m105/105\u001b[0m \u001b[32m━━━━━━━━━━━━━━━━━━━━\u001b[0m\u001b[37m\u001b[0m \u001b[1m0s\u001b[0m 4ms/step - accuracy: 0.8015 - loss: 0.4743 - val_accuracy: 0.7847 - val_loss: 0.5247\n",
      "Epoch 62/100\n",
      "\u001b[1m105/105\u001b[0m \u001b[32m━━━━━━━━━━━━━━━━━━━━\u001b[0m\u001b[37m\u001b[0m \u001b[1m1s\u001b[0m 4ms/step - accuracy: 0.7982 - loss: 0.4701 - val_accuracy: 0.7727 - val_loss: 0.5290\n",
      "Epoch 63/100\n",
      "\u001b[1m105/105\u001b[0m \u001b[32m━━━━━━━━━━━━━━━━━━━━\u001b[0m\u001b[37m\u001b[0m \u001b[1m0s\u001b[0m 4ms/step - accuracy: 0.8010 - loss: 0.4673 - val_accuracy: 0.7656 - val_loss: 0.5277\n",
      "Epoch 64/100\n",
      "\u001b[1m105/105\u001b[0m \u001b[32m━━━━━━━━━━━━━━━━━━━━\u001b[0m\u001b[37m\u001b[0m \u001b[1m0s\u001b[0m 4ms/step - accuracy: 0.8033 - loss: 0.4610 - val_accuracy: 0.7811 - val_loss: 0.5320\n",
      "Epoch 65/100\n",
      "\u001b[1m105/105\u001b[0m \u001b[32m━━━━━━━━━━━━━━━━━━━━\u001b[0m\u001b[37m\u001b[0m \u001b[1m0s\u001b[0m 4ms/step - accuracy: 0.8054 - loss: 0.4623 - val_accuracy: 0.7667 - val_loss: 0.5328\n",
      "Epoch 66/100\n",
      "\u001b[1m105/105\u001b[0m \u001b[32m━━━━━━━━━━━━━━━━━━━━\u001b[0m\u001b[37m\u001b[0m \u001b[1m1s\u001b[0m 4ms/step - accuracy: 0.8078 - loss: 0.4596 - val_accuracy: 0.7739 - val_loss: 0.5233\n",
      "Epoch 67/100\n",
      "\u001b[1m105/105\u001b[0m \u001b[32m━━━━━━━━━━━━━━━━━━━━\u001b[0m\u001b[37m\u001b[0m \u001b[1m1s\u001b[0m 4ms/step - accuracy: 0.8064 - loss: 0.4599 - val_accuracy: 0.7787 - val_loss: 0.5332\n",
      "Epoch 68/100\n",
      "\u001b[1m105/105\u001b[0m \u001b[32m━━━━━━━━━━━━━━━━━━━━\u001b[0m\u001b[37m\u001b[0m \u001b[1m1s\u001b[0m 4ms/step - accuracy: 0.7955 - loss: 0.4672 - val_accuracy: 0.7775 - val_loss: 0.5261\n",
      "Epoch 69/100\n",
      "\u001b[1m105/105\u001b[0m \u001b[32m━━━━━━━━━━━━━━━━━━━━\u001b[0m\u001b[37m\u001b[0m \u001b[1m0s\u001b[0m 4ms/step - accuracy: 0.8151 - loss: 0.4438 - val_accuracy: 0.7512 - val_loss: 0.5384\n",
      "Epoch 70/100\n",
      "\u001b[1m105/105\u001b[0m \u001b[32m━━━━━━━━━━━━━━━━━━━━\u001b[0m\u001b[37m\u001b[0m \u001b[1m1s\u001b[0m 5ms/step - accuracy: 0.8030 - loss: 0.4632 - val_accuracy: 0.7895 - val_loss: 0.5338\n",
      "Epoch 71/100\n",
      "\u001b[1m105/105\u001b[0m \u001b[32m━━━━━━━━━━━━━━━━━━━━\u001b[0m\u001b[37m\u001b[0m \u001b[1m0s\u001b[0m 4ms/step - accuracy: 0.7980 - loss: 0.4787 - val_accuracy: 0.7679 - val_loss: 0.5317\n",
      "Epoch 72/100\n",
      "\u001b[1m105/105\u001b[0m \u001b[32m━━━━━━━━━━━━━━━━━━━━\u001b[0m\u001b[37m\u001b[0m \u001b[1m0s\u001b[0m 4ms/step - accuracy: 0.8054 - loss: 0.4616 - val_accuracy: 0.7787 - val_loss: 0.5308\n",
      "Epoch 73/100\n",
      "\u001b[1m105/105\u001b[0m \u001b[32m━━━━━━━━━━━━━━━━━━━━\u001b[0m\u001b[37m\u001b[0m \u001b[1m1s\u001b[0m 4ms/step - accuracy: 0.8070 - loss: 0.4469 - val_accuracy: 0.7691 - val_loss: 0.5271\n",
      "Epoch 74/100\n",
      "\u001b[1m105/105\u001b[0m \u001b[32m━━━━━━━━━━━━━━━━━━━━\u001b[0m\u001b[37m\u001b[0m \u001b[1m0s\u001b[0m 4ms/step - accuracy: 0.8109 - loss: 0.4565 - val_accuracy: 0.7572 - val_loss: 0.5371\n",
      "Epoch 75/100\n",
      "\u001b[1m105/105\u001b[0m \u001b[32m━━━━━━━━━━━━━━━━━━━━\u001b[0m\u001b[37m\u001b[0m \u001b[1m1s\u001b[0m 4ms/step - accuracy: 0.8113 - loss: 0.4566 - val_accuracy: 0.7895 - val_loss: 0.5304\n",
      "Epoch 76/100\n",
      "\u001b[1m105/105\u001b[0m \u001b[32m━━━━━━━━━━━━━━━━━━━━\u001b[0m\u001b[37m\u001b[0m \u001b[1m0s\u001b[0m 4ms/step - accuracy: 0.8014 - loss: 0.4626 - val_accuracy: 0.7703 - val_loss: 0.5292\n",
      "Epoch 77/100\n",
      "\u001b[1m105/105\u001b[0m \u001b[32m━━━━━━━━━━━━━━━━━━━━\u001b[0m\u001b[37m\u001b[0m \u001b[1m0s\u001b[0m 4ms/step - accuracy: 0.8016 - loss: 0.4701 - val_accuracy: 0.7739 - val_loss: 0.5321\n",
      "Epoch 78/100\n",
      "\u001b[1m105/105\u001b[0m \u001b[32m━━━━━━━━━━━━━━━━━━━━\u001b[0m\u001b[37m\u001b[0m \u001b[1m0s\u001b[0m 4ms/step - accuracy: 0.8041 - loss: 0.4732 - val_accuracy: 0.7763 - val_loss: 0.5308\n",
      "Epoch 79/100\n",
      "\u001b[1m105/105\u001b[0m \u001b[32m━━━━━━━━━━━━━━━━━━━━\u001b[0m\u001b[37m\u001b[0m \u001b[1m0s\u001b[0m 4ms/step - accuracy: 0.8121 - loss: 0.4333 - val_accuracy: 0.7787 - val_loss: 0.5331\n",
      "Epoch 80/100\n",
      "\u001b[1m105/105\u001b[0m \u001b[32m━━━━━━━━━━━━━━━━━━━━\u001b[0m\u001b[37m\u001b[0m \u001b[1m0s\u001b[0m 4ms/step - accuracy: 0.8088 - loss: 0.4545 - val_accuracy: 0.7787 - val_loss: 0.5347\n",
      "Epoch 81/100\n",
      "\u001b[1m105/105\u001b[0m \u001b[32m━━━━━━━━━━━━━━━━━━━━\u001b[0m\u001b[37m\u001b[0m \u001b[1m0s\u001b[0m 4ms/step - accuracy: 0.8081 - loss: 0.4596 - val_accuracy: 0.7799 - val_loss: 0.5299\n",
      "Epoch 82/100\n",
      "\u001b[1m105/105\u001b[0m \u001b[32m━━━━━━━━━━━━━━━━━━━━\u001b[0m\u001b[37m\u001b[0m \u001b[1m0s\u001b[0m 4ms/step - accuracy: 0.8156 - loss: 0.4390 - val_accuracy: 0.7787 - val_loss: 0.5304\n",
      "Epoch 83/100\n",
      "\u001b[1m105/105\u001b[0m \u001b[32m━━━━━━━━━━━━━━━━━━━━\u001b[0m\u001b[37m\u001b[0m \u001b[1m0s\u001b[0m 4ms/step - accuracy: 0.8044 - loss: 0.4552 - val_accuracy: 0.7691 - val_loss: 0.5341\n",
      "Epoch 84/100\n",
      "\u001b[1m105/105\u001b[0m \u001b[32m━━━━━━━━━━━━━━━━━━━━\u001b[0m\u001b[37m\u001b[0m \u001b[1m0s\u001b[0m 4ms/step - accuracy: 0.8248 - loss: 0.4346 - val_accuracy: 0.7859 - val_loss: 0.5325\n",
      "Epoch 85/100\n",
      "\u001b[1m105/105\u001b[0m \u001b[32m━━━━━━━━━━━━━━━━━━━━\u001b[0m\u001b[37m\u001b[0m \u001b[1m1s\u001b[0m 4ms/step - accuracy: 0.7977 - loss: 0.4738 - val_accuracy: 0.7811 - val_loss: 0.5271\n",
      "Epoch 86/100\n",
      "\u001b[1m105/105\u001b[0m \u001b[32m━━━━━━━━━━━━━━━━━━━━\u001b[0m\u001b[37m\u001b[0m \u001b[1m0s\u001b[0m 4ms/step - accuracy: 0.8089 - loss: 0.4496 - val_accuracy: 0.7428 - val_loss: 0.5478\n",
      "Epoch 87/100\n",
      "\u001b[1m105/105\u001b[0m \u001b[32m━━━━━━━━━━━━━━━━━━━━\u001b[0m\u001b[37m\u001b[0m \u001b[1m1s\u001b[0m 4ms/step - accuracy: 0.8124 - loss: 0.4585 - val_accuracy: 0.7823 - val_loss: 0.5290\n",
      "Epoch 88/100\n",
      "\u001b[1m105/105\u001b[0m \u001b[32m━━━━━━━━━━━━━━━━━━━━\u001b[0m\u001b[37m\u001b[0m \u001b[1m0s\u001b[0m 4ms/step - accuracy: 0.8055 - loss: 0.4558 - val_accuracy: 0.7679 - val_loss: 0.5330\n",
      "Epoch 89/100\n",
      "\u001b[1m105/105\u001b[0m \u001b[32m━━━━━━━━━━━━━━━━━━━━\u001b[0m\u001b[37m\u001b[0m \u001b[1m0s\u001b[0m 4ms/step - accuracy: 0.8118 - loss: 0.4415 - val_accuracy: 0.7739 - val_loss: 0.5523\n",
      "Epoch 90/100\n",
      "\u001b[1m105/105\u001b[0m \u001b[32m━━━━━━━━━━━━━━━━━━━━\u001b[0m\u001b[37m\u001b[0m \u001b[1m0s\u001b[0m 4ms/step - accuracy: 0.8064 - loss: 0.4571 - val_accuracy: 0.7751 - val_loss: 0.5402\n",
      "Epoch 91/100\n",
      "\u001b[1m105/105\u001b[0m \u001b[32m━━━━━━━━━━━━━━━━━━━━\u001b[0m\u001b[37m\u001b[0m \u001b[1m0s\u001b[0m 4ms/step - accuracy: 0.8079 - loss: 0.4623 - val_accuracy: 0.7584 - val_loss: 0.5438\n",
      "Epoch 92/100\n",
      "\u001b[1m105/105\u001b[0m \u001b[32m━━━━━━━━━━━━━━━━━━━━\u001b[0m\u001b[37m\u001b[0m \u001b[1m0s\u001b[0m 4ms/step - accuracy: 0.8147 - loss: 0.4355 - val_accuracy: 0.7739 - val_loss: 0.5300\n",
      "Epoch 93/100\n",
      "\u001b[1m105/105\u001b[0m \u001b[32m━━━━━━━━━━━━━━━━━━━━\u001b[0m\u001b[37m\u001b[0m \u001b[1m1s\u001b[0m 4ms/step - accuracy: 0.8078 - loss: 0.4492 - val_accuracy: 0.7488 - val_loss: 0.5521\n",
      "Epoch 94/100\n",
      "\u001b[1m105/105\u001b[0m \u001b[32m━━━━━━━━━━━━━━━━━━━━\u001b[0m\u001b[37m\u001b[0m \u001b[1m1s\u001b[0m 4ms/step - accuracy: 0.8141 - loss: 0.4504 - val_accuracy: 0.7847 - val_loss: 0.5441\n",
      "Epoch 95/100\n",
      "\u001b[1m105/105\u001b[0m \u001b[32m━━━━━━━━━━━━━━━━━━━━\u001b[0m\u001b[37m\u001b[0m \u001b[1m0s\u001b[0m 4ms/step - accuracy: 0.8058 - loss: 0.4569 - val_accuracy: 0.7787 - val_loss: 0.5386\n",
      "Epoch 96/100\n",
      "\u001b[1m105/105\u001b[0m \u001b[32m━━━━━━━━━━━━━━━━━━━━\u001b[0m\u001b[37m\u001b[0m \u001b[1m0s\u001b[0m 4ms/step - accuracy: 0.8015 - loss: 0.4669 - val_accuracy: 0.7823 - val_loss: 0.5413\n",
      "Epoch 97/100\n",
      "\u001b[1m105/105\u001b[0m \u001b[32m━━━━━━━━━━━━━━━━━━━━\u001b[0m\u001b[37m\u001b[0m \u001b[1m0s\u001b[0m 4ms/step - accuracy: 0.8143 - loss: 0.4414 - val_accuracy: 0.7656 - val_loss: 0.5374\n",
      "Epoch 98/100\n",
      "\u001b[1m105/105\u001b[0m \u001b[32m━━━━━━━━━━━━━━━━━━━━\u001b[0m\u001b[37m\u001b[0m \u001b[1m0s\u001b[0m 4ms/step - accuracy: 0.8152 - loss: 0.4477 - val_accuracy: 0.7691 - val_loss: 0.5509\n",
      "Epoch 99/100\n",
      "\u001b[1m105/105\u001b[0m \u001b[32m━━━━━━━━━━━━━━━━━━━━\u001b[0m\u001b[37m\u001b[0m \u001b[1m0s\u001b[0m 4ms/step - accuracy: 0.7940 - loss: 0.4700 - val_accuracy: 0.7679 - val_loss: 0.5401\n",
      "Epoch 100/100\n",
      "\u001b[1m105/105\u001b[0m \u001b[32m━━━━━━━━━━━━━━━━━━━━\u001b[0m\u001b[37m\u001b[0m \u001b[1m0s\u001b[0m 4ms/step - accuracy: 0.8114 - loss: 0.4563 - val_accuracy: 0.7775 - val_loss: 0.5375\n"
     ]
    }
   ],
   "source": [
    "history = model.fit(x_train,y_train,epochs=100,validation_data=(x_test,y_test))"
   ]
  },
  {
   "cell_type": "code",
   "execution_count": 60,
   "id": "02f467b4-27f7-4165-a94e-15c99e79f394",
   "metadata": {},
   "outputs": [
    {
     "data": {
      "text/plain": [
       "dict_keys(['accuracy', 'loss', 'val_accuracy', 'val_loss'])"
      ]
     },
     "execution_count": 60,
     "metadata": {},
     "output_type": "execute_result"
    }
   ],
   "source": [
    "history.history.keys()"
   ]
  },
  {
   "cell_type": "code",
   "execution_count": 61,
   "id": "f12ff8a0-22ca-4d80-94e2-8a16207dfdda",
   "metadata": {},
   "outputs": [
    {
     "data": {
      "text/plain": [
       "<matplotlib.legend.Legend at 0x18083c7a2a0>"
      ]
     },
     "execution_count": 61,
     "metadata": {},
     "output_type": "execute_result"
    },
    {
     "data": {
      "image/png": "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",
      "text/plain": [
       "<Figure size 640x480 with 1 Axes>"
      ]
     },
     "metadata": {},
     "output_type": "display_data"
    }
   ],
   "source": [
    "import matplotlib.pyplot as plt\n",
    "\n",
    "plt.plot(history.history[\"loss\"], label = \"train\")\n",
    "plt.plot(history.history[\"val_loss\"], label = \"test\")\n",
    "plt.legend()"
   ]
  },
  {
   "cell_type": "code",
   "execution_count": 62,
   "id": "5265fc52-9347-45fc-ac9f-31f4a9fa7385",
   "metadata": {},
   "outputs": [
    {
     "data": {
      "text/plain": [
       "<matplotlib.legend.Legend at 0x18083d34e90>"
      ]
     },
     "execution_count": 62,
     "metadata": {},
     "output_type": "execute_result"
    },
    {
     "data": {
      "image/png": "iVBORw0KGgoAAAANSUhEUgAAAiwAAAGdCAYAAAAxCSikAAAAOXRFWHRTb2Z0d2FyZQBNYXRwbG90bGliIHZlcnNpb24zLjguNCwgaHR0cHM6Ly9tYXRwbG90bGliLm9yZy8fJSN1AAAACXBIWXMAAA9hAAAPYQGoP6dpAACu9ElEQVR4nO2dd5gb5fW2n1HbXrx9ba+97r0bGzdMNTFgWqgBJyaQXwgd0iCQj4QESCUmJJBAKCkQCGBCM8UOYLAN7r239a7tXW/vRStpvj/eeWdGoxlp1KXdc1/XXtKqjEYjaeaZc55zjiCKogiCIAiCIIgExhLvFSAIgiAIgggECRaCIAiCIBIeEiwEQRAEQSQ8JFgIgiAIgkh4SLAQBEEQBJHwkGAhCIIgCCLhIcFCEARBEETCQ4KFIAiCIIiExxbvFYgUHo8Hp06dQlZWFgRBiPfqEARBEARhAlEU0dbWhoEDB8JiMY6j9BnBcurUKZSVlcV7NQiCIAiCCIGqqioMHjzY8P4+I1iysrIAsDecnZ0d57UhCIIgCMIMra2tKCsrk4/jRvQZwcLTQNnZ2SRYCIIgCCLJCGTnINMtQRAEQRAJDwkWgiAIgiASHhIsBEEQBEEkPH3Gw2IGt9uN3t7eeK9GUmK1WmGz2ahknCAIgogL/UawtLe348SJExBFMd6rkrSkp6ejtLQUDocj3qtCEARB9DP6hWBxu904ceIE0tPTUVhYSFGCIBFFEU6nE3V1dTh27BhGjRrlt7kPQRAEQUSafiFYent7IYoiCgsLkZaWFu/VSUrS0tJgt9tx/PhxOJ1OpKamxnuVCIIgiH5EvzpNpshKeFBUhSAIgogXdAQiCIIgCCLhIcFCEARBEETCQ4Kln1BeXo7ly5fHezUIgiAIIiT6hek2WTn77LMxderUiAiNTZs2ISMjI/yVIgiCIIg4QBGWJEYURbhcLlOPLSwsRHp6epTXiCAIgkg2Pj9Yh/d2nor3agSkXwoWURTR6XTF5c9s47ply5ZhzZo1ePLJJyEIAgRBwEsvvQRBEPDRRx9h5syZSElJwRdffIEjR47gsssuQ3FxMTIzM3HGGWdg9erVXsvTpoQEQcDf/vY3XHHFFUhPT8eoUaPwzjvvRHIzEwRBEHFm98kWHDrdZnh/fXsPbv77JtzxyjYcq++I4ZoFT79MCXX1ujH+/30Ul9fe+8iFSHcE3uxPPvkkDh48iIkTJ+KRRx4BAOzZswcA8KMf/Qi/+93vMHz4cOTm5uLEiRO46KKL8Mtf/hKpqan4+9//jiVLluDAgQMYMmSI4Wv8/Oc/x29+8xv89re/xVNPPYUbbrgBx48fR15eXmTeLEEQBBE3alq6ceUz6+GwWrD2x+cgN923S/lbW0+i181OpNcdrsewgsS1DvTLCEsykJOTA4fDgfT0dJSUlKCkpARWqxUA8Mgjj+CCCy7AiBEjkJ+fjylTpuC73/0uJk2ahFGjRuGXv/wlhg8fHjBismzZMlx//fUYOXIkHnvsMXR0dGDjxo2xeHsEQRBElHl3xyk4XR6097jw6qYqn/tFUcSrmyrl/9cfqY/l6gVNv4ywpNmt2PvIhXF77XCZOXOm1/8dHR34+c9/jvfeew+nTp2Cy+VCV1cXKisrDZbAmDx5snw9IyMDWVlZqK2tDXv9CIIgiPjz3+0n5ev//PI4bpk/DDarEqfYWtmEI3VKGujLIw3weERYLInZZLVfChZBEEylZRIVbbXPD3/4Q3z00Uf43e9+h5EjRyItLQ1XXXUVnE6n3+XY7Xav/wVBgMfjifj6EgRBJDOiKOL5tcfw7o5T+PVVkzG2JDveq4Qelxu3v7wV4wfm4L4LRvvcf7i2DXtOtcJmEZCZasPJ5i6s2nsaiyeVyo95dSOLulwxbRA+2lODps5e7K9pw/iB8X9/elBKKIFxOBxwu90BH/fFF19g2bJluOKKKzBp0iSUlJSgoqIi+itIEATRx2nt7sWt/9qCX76/DztOtOCtbScDP0miob0HT3x8AE/975DpgguzbDzWiNX7avHH/x3C/ppWn/vf3s6qfhaOLsSNs4cCAF5cVyHf39bdi/d2VgMAbjxzCGYNY97FRE4LkWBJYMrLy7FhwwZUVFSgvr7eMPoxcuRIrFixAtu3b8eOHTvwjW98gyIlBEEQYbKvuhWXPrUWH+05Ld+256SvONDS3OnEbz/ajwW/+RR//OQwfr/qIDZVNEV03Q6ebpev/+mTw173iaIoC5ZLpw7EjWcOhc0iYGNFI3afbAEAvLezGl29bowozMD0IQMwb0QBAGD9kQbd13v28yNYvvog6tp6Ivo+goEESwLzgx/8AFarFePHj0dhYaGhJ+UPf/gDBgwYgLlz52LJkiW48MILMX369BivLUEQhDn2nGrBqeaueK+GX1ZsPYErnl6HioZODMpNw6NXTAQA7D7VYhgtcbk9eHL1ISz49af486dH0Ol0y75FtZ8kEhysUUqV399VjSN1ioDZVtWMysZOpDusuGB8MUpyUuVU0EvrKwBANuFed8YQCIKAOSPyAQAbjjag1+19wtvldOPpz45g+epD2FoZWeEVDMlr5OgHjB49Gl9++aXXbcuWLfN5XHl5OT755BOv226//Xav/7UpIr0fXHNzc0jrSRAEYZYDNW247E/rMLwwAx/fuzDeq6PLmoN1uO8/OwCwlMrya6ciPcWKh9/eg+bOXpxs7sLgAb6NOP+29hj+sPogAGBsSRbuvWA00h1WLH1+I1buqsbPlkyAwxaZOMHBWiZYslNtaO124c+fHsYT10wFALwtpa0WjS+W/Zo3zSvHuztO4Z3tp3DFtEHYUdUMm0XAFdMHAQDGl2YjN92O5s5e7DzRghlDB8iv9fb2k2ju7MXgAWk4f1xxRNY/FCjCQhAEQcSMFdtOwOURcfB0O1q7e+O9Oj6097jwkxW7AADXnVGGF5edgQEZDqTYrBhdnAUA2G2QFlpzoA4AcPs5I7DyrgW4cEIJ5o4oQGFWCpo7e/H5wbqIrKMoijgkpYT+35IJAJhnpbKhE71uj+xNuWzaIPk504cMwJSyXDjdHtzxylYAwAXji1GQmQIAsFgEzBnOoizrD9d7vRb3vnxrTjmscawgIsFCEARBxASPR8S725UW8Edq2/08Oj787qMDUgQlDf9vyXivEt+Jg1j1zJ5TLT7Pc7k92F7VDAC4dMog+XlWi4AlkwcCAN7eEZn296dautHe44LNIuDSKQOxcHQh3B4Rz6w5jHWH69HQ4URehgPzRxZ4Pe/b88oBAE2dTChec0aZ1/1zpbSQ2sfy5ZEGHDjdhnSH1efxsYYEC0EQBBETNlU04lRLt/z/oQQTLJsrGvH3LysAAL+6crJP+4uJg3IAAHtO+UZY9lW3oavXjaxUG0YVZXrdd/k0JlhW7a1Be4+5+W/+OCi12h9WkAGHzYI7zx0JAHhjywk8+/lRAMAlk0tht3of4hdPLEVRFouolOak4qxRhV73z5UEzpbKJnT3sgrVFyXPy9enD0ZOmncrjFhDgoUgCIKICf/d7h1hSKQIS3evGz9+cydEEbh6xmDMH1Xg85gJA5lg4ZU2arYcbwTAUi/axmuTBuVgWEEGuns9WLW3JuC6NHU48bN39uCLQ/opJD4baHQJS1HNLM/DnOH56HWLcnTksqkDfZ7nsFnw3YUjADBPiza9M7wgA8XZKXC6PNhyvAmVDZ1YvY9VSH1rbnnA9Y42JFgIgiCIqON0ebByF/NWLJ5YAiCxIix/+uQwjtR1oDArBQ9dPF73MeNKsyAIQG1bD2pbu73u23ycVc/MVJlVOYIgyALiv9v8p4Vaunqx9IUNeGl9BR5+Z4/uY3hJ8+iiLPm2O88bKV8fPCAN04f4rgfA0kJrfng2vrNguO56zpXLm+vxjy8rIIrAWaMLMVITNYoHJFgIgiCIqLPmYB1aunpRlJWCpWeyRmaHE0Sw7DnVgr+sOQIA+MVlE5CTrp/6SHfYMKIwU3qOd1poqyRYZugIFgC4bCozwK49XI/6dv1eJm3dvfjWCxtlU+/Rug7dvic8JTS6WBERc4bny699+dRBEAR9c6wgCBian2F4P/ex/G9fLV7bzEqfb5K8L/GGBAtBEAQRdXgfkiVTBsqpjKqmTtkrEU+e+PggXB4RiyeW4GsTS/0+dqLUtl6dFjrV3IVTLd2wWgRMHZKr+7xhBRmYMjgHbo+I96UqHjUdPS58+6VN2F7VjJw0OwbmpAJgvh81Ho9SITSqWImwCIKAP14/DT+8cAxuO2dE4DdtAPex7K9pQ1u3C8MLMrBQ43WJFyRYCIIg+jiiKPr8xZL2HhdW72VeiMunDkJ+hgO56XaIIrwansUDt0fEhmNMFNx+zsgAj1aMt7tVlUJbpOjK+NJsv3PqLpWiLG9rmsh1Od245e+bsamiCVmpNvzr5tlYNIGlzTYc9e48e7K5C129bjisFpTne/eCGZSbhtvPGRnWrLxBuWley/3W3PKEGYZIjeMIgiCSlL99cRTPrz2Gp66fhpnlebqP+ceXFXhs5T5093p3L509LA///s6ZMTkYfbS7Bj0uD4YXZGDioGwIgoBRRZnYVNGEw7Xtspk1Hhw83Yb2HhcyHFaMKw089I+vqzoltCVAOoizZHIpHn1/L7ZWNmPL8SacaOrEl0ca8MWhepxs7kKGw4q/f3sWJg3OQVVTJ15aXyGLKc4BqcPt8MIMr8nLkWTOiAJUNFQiK8WGr88YHJXXCAWKsCQwZ599Nu65556ILW/ZsmW4/PLLI7Y8giDiy9vbT6G6pRvfe3mrjwkUANYeqsfP3tnjI1YAYMOxRmyrik2bdd5/5DKVt4KbOOPtY+Fm2WlDBphqisYnGZ9o6kJzp1NaBhMVgQRLUXaqbGr9+jPrcfer2/HqpiqcbO5CVqoNL940SzbLniEJ0AOn2+TXAZQOt6NV6aBIc9WMwXBYLbj93JHITEmcuEbirAlBEAQRFFVNnQCAurYe3P7KVrzynTPl3hunmrtw16vb4JHKdO9fPFZ+3sPv7MF7O6vxwa4azBiqH5mJFHVtPVgrleeqS21HShUuh07HV7AEMstqyUmzY0heOiobO7HnVCumluViXzUTETPLAy/jhtlDsPZwPQQBmDAwG3OG52PuiAKcMSzPSxwUZqVgRGEGjtR1YHNFE84fz1ri8+01piR6gmXG0AE48MuvGRpz4wVFWBKUZcuWYc2aNXjyySchCAIEQUBFRQX27t2Liy66CJmZmSguLsbSpUtRX6+0UX7jjTcwadIkpKWlIT8/H+effz46Ojrws5/9DH//+9/x9ttvy8v77LPP4vcGCaIP0NzpxOubq+B0xX46elt3L5qljqWZKTZsqmjCrz7YDwDocbnxvZe3orHDiYmDsvGLyyciPzNF/rtE6rz6we6aqPtZVmw9AY8ITCnLRXlBhny7HGGJs4eFR0fMiA0O73i7+2QLdlQ1w+0RMTAnFaU5aQGfu3hSKVbfdxa2/fQCvHfnAjx48XicM7ZIN5Ixa5g0kPCY4mPhKSFtc7pIk2hiBeivgkUUAWdHfP5M7hyefPJJzJkzB9/5zndQXV2N6upq2O12LFy4EFOnTsXmzZvx4Ycf4vTp07jmmmsAANXV1bj++uvx7W9/G/v27cNnn32GK6+8EqIo4gc/+AGuueYafO1rX5OXN3fu3GhuZYLo8yxffQg/fGMnXlx3LOavXdXIph0PSLfjd1dPAQA8v/YY3tt5Co+8uxc7pGqTZ26YgVRpYjBn4ehCpNmtONncZTgXJ1z2nGrBLX/fhMclEXXZFO9GZvyAW1Hf4TMdOFbUtnajqrELFgGYWpZr+nlyA7lTrYp/xcBDpMfIoizkpjsCPm72MLbMjZKPxe0RZZNyNFNCiUr/TAn1dgKP+XYBjAk/OQU4MgI+LCcnBw6HA+np6SgpYW7x//f//h+mT5+Oxx57TH7cCy+8gLKyMhw8eBDt7e1wuVy48sorMXQo63MwadIk+bFpaWno6emRl0cQRHjsq2YH+w3HGuUOorGCp4OG5KXjaxNLcOvCEfjLmiO477UdcLo9EARg+XVTUZbnO1U4zWHFOWMLsXJXDT7YXY1JgyNnej1c24Y/rDqE96UmcRYBuHpGGW6Ueq9wSnNSkeGwosPpxvGGDjlFFEu42BhTko2sVPNt5+UW/Sdb0NrFolwzDMqZw2GWJFh2n2pFe48LdW096HF5kGq36H6ufZ3+GWFJUrZs2YJPP/0UmZmZ8t/YsSwvfeTIEUyZMgXnnXceJk2ahKuvvhrPPfccmppiY6ojiP5IZSMTDdsqm2JeKlwlvfZg6cD1g0WjMWd4PpxStOLu80bhnDFFhs/n/UY+jGBa6NDpNlz8x7V4f1c1BIH1XFl130L8+qrJcNi8DzeCIMhpoXj5WDbL/pXcoJ43QTLeHmvowOYKnlKKvBdoYG4ayvLS4PaI2Hq8SW4YN7IoM65Tk+NF/4yw2NNZpCNerx0iHo8HS5Yswa9//Wuf+0pLS2G1WrFq1SqsX78eH3/8MZ566ik8+OCD2LBhA4YNGxbOWhMEoaG7141qaZBfU2cvKhs7MTQ/cPQ0UnDBUjaA7VNsVgue+sY03PnKNgwvzMBd547y+/xzxxbBYbPgaH0HDp5uj4iJ840tJ9Dj8mDy4Bz85qrJGFviv0x4RFEmdpxo8akU6nV7sPT5DbAIAv72rZlh9RV5fOU+fH6oHv/49iwUSoP/OEo7/eDERkFmCkpzUlHd0o0OpxvpDivGRskEO6s8H1WNJ7DhWANSbSy1NzoO0ahEoH9GWASBpWXi8ReEkcnhcMDtVrpATp8+HXv27EF5eTlGjhzp9ZeRkSG9NQHz5s3Dz3/+c2zbtg0OhwNvvfWW7vIIgggdLhg42yqbY/v6TczDUpanGD0LMlPw7/87E49eMSlgf5XMFBvOkgb8fbDbt/NqsIiiiA92s8F+ty4cEVCsAMAoXimkESz/21eLr442Yv2RBjz41u6QI0A9LjdeWl+BfdWt+Ls0dZjT3evGHqlbrdkKITU8ygIw/0u0eqKofSwHa3073PYn+qdgSRLKy8uxYcMGVFRUoL6+HrfffjsaGxtx/fXXY+PGjTh69Cg+/vhjfPvb34bb7caGDRvw2GOPYfPmzaisrMSKFStQV1eHcePGycvbuXMnDhw4gPr6evT29sb5HRJE8lLR4C1Ytlc1x/T1tRGWUFCnhcJlb3UrKhs7kWq34Owx5lq5G/VieW1TpXz9rW0n8a+vjoe0TrtOtKBHquB6ZWOl1xiAHVXNcHlEFGWlYPCAwNU9WtTN7vQGHkYK7mPZUdUijwMYUxL/QYTxgARLAvODH/wAVqsV48ePR2FhIZxOJ9atWwe3240LL7wQEydOxN13342cnBxYLBZkZ2fj888/x0UXXYTRo0fjoYcewu9//3ssXrwYAPCd73wHY8aMwcyZM1FYWIh169bF+R0SRPJyvKEDAJBqZ7vRbTEULKIo4oQUYRkShvnygnHFsFkE7K9pw1FNefGW44145rMjXn/PfX4Up5q7dJfFRc/C0YWmUzi8UuhIXTvcHhZFqW7pwpqDrG/LjWcOAQA88t5ebK0M3o+n7hLb2OHEOzsUK8AWaXkzyweEVMLLjbcAMD2KgmVofjqKs1PgdHtwrJ5950b105RQ//SwJAmjR4/Gl19+6XP7ihUrdB8/btw4fPjhh4bLKywsxMcffxyx9SOIeCOKIvacasXYkqyoheSNOC5FWC4YX4J3d5zC3lMt6O51+5QQR4P6die6et0QBGbMDJWcdDvmjMjHF4fq8cHuGtx+zki4PSL+sOog/vTpYd3nfLSnBq/fOsfnIM/TQYsDDA9UU5aXDofNgh6XByebujAkPx1vbGZ9W2YNy8MvLpuIhnYnW7eXt+K9O+cjPzMl8IIluGAZVpCBY/UdeHFdBa6eMRiCIGBLBRMsvLNssEwalANBAKyCgGkhLsMMgiBg1rB8vCuJrXSHFYPC+MyTGYqwEASRtLy+5QQueWot/viJ/sE1mlRIEZb5I/ORn+FAr1vE3uro9DTRwquTSrNTfapvgmWxKi3U0N6Db76wQRYr548rwtUzBuPqGYNZu3abBZuPN+FLzUC+w7VtOFzbDrtVwLnjjCuTtFgtAoZLzeQO1bbB4xHxny1VAIBrZ5ZBEAT89uopGF6YgeqWbtz16jY5EhMIl9uDLVIFz6OXT0Sq3YJ91a3YcKwRHo+oirCEVt1TkpOKP1wzFX/6xjTkpJkviQ4FnhYCmH8lUYYRxhoSLARBJC1rDrDUwXs7Y1/1x0XD0PwMuenY9hgZb080eZc0h8MF44shCMCuky1Y/OQXWHe4AWl2K568bir+9q0z8Nurp+C3V0/B766eguvOKAMA/EkjED/YxaIr80cWIDuIfiaAt4/ly6MNqGrsQlaKDRdNYkIqM8WGv944A+kOK9YdbsALa8016dtb3YoOpxtZqTbMHp6PK6ezIX4vravA0foONHf2ItVu8TLPBsvl0wbJPqBoMlslWEZHucNtIkOChSCIpGXHiWYAwNG6Dp+qnWjS6/bIHpLy/AxMk5qGxcrHEgnDLacwK0UetFfb1oMRhRl45455uGzqIJ/HfnfhCNitAtYfacCW44o/JJR0EEddKfTaJhZduWzaQKQ5lNTaqOIs/OQiVjzw6qZKU1VDvDvsrPI8WC0CbppbDgD4eG8N3tl+EgAweXCuPHspkRlVlIm8DNYZtz92uOUk/idFEAShQ2OHUxYNAPC5NGAvFpxq7oLbIyLVbkFRVgqmljEPw/YYTT/mbfnDMdyquWE2M7deMrkUb98x37BsdlBuGr4uRSqekqIslQ2d2FvdCqtFwAXSgL5g4BGWrZVN+HAPEz7Xzhzi87jLpg5Eis2CI3Ud2HMqcOrtq6OSYJGiE6OKszB/ZAE8IvD0Z0cARLe6J5IIgoArpw2Cw2bBOWPNVWD1Rch0SxBEUrJTiq5wPj9YhxtmD9V/cIThJc1D8tJhsQiYXMYMmFWNXahv70FBAGPouztO4QsTAmtgbhruPHeUT1dT3pZf3YMlHC6bOgjnji0y1Z7+trNH4vUtJ/DZgTrsPNGML48wP8uZw/MwICPwfBwto4qZYDlaxzxB40uz5eGCarJS7Th/XDHe31WNt7ef9KrS0eLxiNhU4S1YAOCmeeVYe7geLskHE8zAw3jzk4vG4f7FY2NuLk8k+pVgiXXr7L4GbT8ikdh1gvWkGF6YgaN1HVh/uAG9bk9MQvyVkuGWd7bNTrVjZGEmDtW2Y3tlM873E2nYeaIZd7+6DSa9o5g8OAfnjvVeHvfPRHKejNlZOkPy03HZlIFYse0knvrkMOraegAgZC9HeX4GrBZBNtNee0aZYZnxZVMH4v1d1Xhnxyncv3icYXv6g7VtaOnqRbrD6iVszhlThPL8dFlwhlohFA8sFgEW9E+zLadfCBarleVCnU4n0tL6ZzlYJOjsZD9yuz26jniCMMNOqYnW9WcMwZ8/O4zmzl5sr2qW/RjRhB/whqoEw9SyXCZYqowFi9PlwY/e2AmPCMwbmY95IwsMX+PT/bXYVNGEr442egkWl9sjjwSIhIclFG47ZyTe2n4Sq/aeBsAaeF84Ifh0EAA4bBYMzU/H0boOOGwWXK7jneEsHFOI7FQbTrf2YMOxBswdob/9uH9lxtABXgLWYhHwrbnl+Pm7ezGqKNPUxGQicegXgsVmsyE9PR11dXWw2+2wWPpvSC0URFFEZ2cnamtrkZubKwtAgognPCU0dUguFowqxLs7TuHzg3UREyyiKMIjQvcsnjeNG1qgzA6aOiQXr285gW1+fCx/XXME+2vakJfhwB+vm+a3p0hpTio2VTR5NT8DgOqWbrg9Ihw25p+JByOLMnHRpFK8v5O19J85dACKslJDXt6ookwcrevARRNLkJNufEKUYrPi4sml+PfGKry97ZShYNlwVDHcarlh9lC0drkwb2R+yOtLxId+IVgEQUBpaSmOHTuG48dDa/FMALm5uSgpKYn3ahAETrd243RrDywCm+ly1qgCWbB8f9GYiLzGrz88gOfXHsWK783DpMHefonjOhGWaZLxdmdVCzwe0adXxqHTbbJR9eEl4wM2QJs1jB1Qd59sQUePCxkpbHctT2kekBbXfhx3nDNSFizhlvZ+Z8FwuNwi7r1gdMDHXjplEP69sQord1fjkcsnIMXmfQIliqIs8tT+FY7DZsHd5/sfDEkkJiEJlqeffhq//e1vUV1djQkTJmD58uVYsGCB4eNffvll/OY3v8GhQ4eQk5ODr33ta/jd736H/HxF4b755pv46U9/iiNHjmDEiBF49NFHccUVV4Syero4HA6MGjUKTqczYsvsT9jtdoqsEAnDTsm/MqooC+kOG84azSondp5sQWOHUy4BDZX69h68sPYYet0iVmw74SVYPB4RxyXRUK6azjy6OBNpdivaelw4UtfuVWnj9oj48Zs74XR7cO7YIlw6ZWDAdRiUm4ZBuWk42dyFrZVNWDCKvUfZcBundBBnXGk2bppXjvWHG3DZ1MDvxx8zy/Pw/DJzkbHZw/JQkp2KmtZufLq/Dl+b6H0Sday+A/XtPXDYLJgi9cch+gZB50Zee+013HPPPXjwwQexbds2LFiwAIsXL0ZlZaXu49euXYtvfvObuPnmm7Fnzx68/vrr2LRpE2655Rb5MV9++SWuvfZaLF26FDt27MDSpUtxzTXXYMOGDaG/Mx0sFgtSU1PpL4Q/EitErNlzqgV3/nubbn+VXVI6aLIkJIqzUzG2JAuiCJ/qm5PNXbjr39tMVeVw/r2hEk43G5rH59pwTrd1w+nywGYRMDBXSYPYrBZZ2GgnN//jywpsrWxGZooNv7x8ounZNbxhGE9xAEpJc6QqhMLh4SUT8NG9ZwWsiookFouASyWB9M6Okz73c//K1LLcmIxJIGJH0ILliSeewM0334xbbrkF48aNw/Lly1FWVoZnnnlG9/FfffUVysvLcdddd2HYsGGYP38+vvvd72Lz5s3yY5YvX44LLrgADzzwAMaOHYsHHngA5513HpYvXx7yGyMIIrn5y5qjeHfHKfzu4wM+9+2QIiyTVZEPHmX5/GC9fFt3rxu3/nML3tlxCr//+KCp13W6PPinajrw0boOubMsAFTUKykZbYnpNOmMnjeQO93ajRVbT+C3H7H3cP/isUHN/pk9nAmWjSofS2UEm8YlKzyis3pfLVq7vafO8201WycdRCQ3QQkWp9OJLVu2YNGiRV63L1q0COvXr9d9zty5c3HixAmsXLkSoiji9OnTeOONN3DxxRfLj/nyyy99lnnhhRcaLhMAenp60Nra6vVHEETfYb80l+eD3TVo6VQOSqIoYtdJLlhy5dvPklImXxyqk0vwf/bOHvmxe6ThhIH4YHc1att6UJiVgimSIFKLoMpG75JmNbzj7Ud7anDu7z/D7Mf+h/v+swOdTjdmDcvDN2b5NkTzB/exbK9qltedp4Qi1TQuGRlfmo2RRZlwujz4SOqyy/HnXyGSm6AES319PdxuN4qLvcvXiouLUVNTo/ucuXPn4uWXX8a1114Lh8OBkpIS5Obm4qmnnpIfU1NTE9QyAeDxxx9HTk6O/FdWVhbMWyEIIoHpcblxtJ4JA6fLg/9uV0L/J5q60NjhhN0qYGyp4hOZWT4AaXYratt6sL+mDa9tqsSrm6ogCGzCba9blL0v/nhxXQUA4MbZQ+Vy4s9VaSG5pDnfVzDwqb2NHU4creuAILAo0K0LR+CvN84I2iRbnp+OwqwUON0e7JCiNkpKqP8KFkEQcLkUZXltUxW+OtqAr4424MPdNTjZ3AWbRcCMJOliS5gnpPpebf5VFEXDnOzevXtx11134f/9v/+HLVu24MMPP8SxY8dw6623hrxMAHjggQfQ0tIi/1VVVYXyVgiCSEAO17Z7TeV9dVOVHDXhEZMxJVleFSKpdivOlFIof1lzBD99ew8A4PsXjMZCKV20+bh3ibCWbZVN2F7VDIfVgm/MHoKFY9jz1h2ph0vytFQ2KEMPtRRnp+LRKybi5vnD8OzSGdj+00V45475uH/x2JC6wAqCIEcKNhxrRJfTjfp21qitP6eEAFYtBACbjzfhume/wnXPfoVb/7UFADBxUA7SHf2iCLZfEdQnWlBQAKvV6hP5qK2t9YmQcB5//HHMmzcPP/zhDwEAkydPRkZGBhYsWIBf/vKXKC0tRUlJSVDLBICUlBSkpMSnBwFBENHlQE0bAGBsSRaO1ndgX3Urdp9sxaTBOfLAQ3U6iHPW6EJ8eqAOb29n05vPH1eE284eiRfWHcMHu2uw9bj/WT8vra8AAFwypRSFWSnIy3AgN90uN6WbWZ6HCt6DxSDCEenxAGcOy8P7O6ux8VgjFksVMVmpNr/9SvoDQ/LTcevCEVi977TX7TaLgNvOHhGntSKiSVARFofDgRkzZmDVqlVet69atQpz587VfU5nZ6dPozZeccLPmObMmeOzzI8//thwmQQRDf72xVFc9ud1aOqg0vd4wwXLGeV58kH61U2sEpG35J+sM0uGG28BlrL5/TVTYVGlB7YcbzIcMXG6tVvuK/LtecMAsKZx86VutGsOMm8M78FSXhCbCAf3sWw53oQj0ryd/h5d4dy/eCxW37fQ6+/De87CognUL6ovEnRK6L777sPf/vY3vPDCC9i3bx/uvfdeVFZWyimeBx54AN/85jflxy9ZsgQrVqzAM888g6NHj2LdunW46667MGvWLAwcyHKQd999Nz7++GP8+te/xv79+/HrX/8aq1evxj333BOZd0kQJnhxXQV2VDXHdOovoc8+SbCMKcnCtTOZP+2d7afQ6XTpGm45wwsyMHlwDrJSbHjmhhnISWNRiAkDc5Bis6Cps1f2xmj511fH4fKIOKN8gNf8GaX6qA6NHU6097ggCMDgGIkG1kLejq5eNz7czQRVfzbcEv2XoJN81157LRoaGvDII4+guroaEydOxMqVKzF0KAuDVldXe/VkWbZsGdra2vCnP/0J3//+95Gbm4tzzz0Xv/71r+XHzJ07F6+++ioeeugh/PSnP8WIESPw2muvYfbs2RF4iwQRmLbuXpxsZmZGPjWWiB8HaliF0LjSLEwrG4AheemobOzE058eQVu3Cyk2izzlV40gCHj91jno7vXIYgVg3U2nDM7FxopGbKlowohC7+d297rxyga231o2d5jXfbz6aOfJFmyXjK+l2akx6/FhsQiYVZ6Hj/eexod7WOo8EXqwEESsCcmVdNttt+G2227Tve+ll17yue3OO+/EnXfe6XeZV111Fa666qpQVocgwuZQbbt8/ZjBGTgRG5o7nTjdyoylo4uzYLEIuGbmYPzu44N49vOjAIDxA7MNpzKn2Kw+7doBYEb5AGysaMTm44245gzvqsIPd9egocOJ0pxUnyF+JTmpGFOchQOn2/CyJGr0DLfRZNYwJli6e5nxtz9XCBH9F5oCSBBgc144/UGweDwiqlu6YvZ6ta3dpnqgAMB+KR00KDcNWaksSnLVjDJYBMjdZ6fopIMCMWOI4mPRwv0x150xxKcZHACcNZr5WD49UAtAv6Q5mswe5j2ojzwsRH+EBAtBADh4WomwHK1rNzRm9gVq27px/XNfYc7jn3h1dI0Ge0614Ja/b8Ksx/6HO17ZZuo5vGHcOFWPlZKcVJw9pkj+f5KO4TYQ3Hh7pK7Dy1hdUd+Br442QhCAq2YO1n3uwtHstfnXItYRlnGlWchMUQLilBIi+iMkWAgCwEFVhKXD6UZdW08c1yY8/rLmCCY+/BEefGuXTxRl47FGXPzHtXI30CdXHzQd+QiGQ6fbcNvLW3DxH9di9T4Wlfjf/tNoaA+8XQ+cVgy3aq5VpXGmlAUvWAZkODCikAmNrZVKlOU/m1kPp7NGFWKQQdv8meUDkGpXdpexjrDYrBbMLFcaocXK8EsQiQQJFoKAIlh4r0KjSpJEx+0R8bcvjqK9x4WXN1Ri4W8/w8/f3YPatm48+/kRXP/cV6hr68Ho4kwMzElFfbsT/96oP7g0VJ7+7DAWLf8cK3fVQBCAS6cMxPDCDIgi8OmBwBVY++UKoWyv288dW4QzygfgzOF5GFbga7g1A4+ybJbSQi63B29sOQEAuO4M427ZrCmdkpaJtWABlFbzRVkpNNSP6JeQYCH6PS2dvbLJc7rkc0iESqG27l789L+7sanCf3dWNZsqGlHf7kR2qg2zyvPgdHnw4roKzHn8Ezy2cj/cHhFXTBuE/94+D7edMxIA8Nc1R9HjikyUpa6tB8tXHYIoAhdOKMaHd5+FP14/DZdMKgUAfLL/tN/nezwiDqqaxqmxWy14/da5ePX/5sAaZIt7zsyh7KDPfSyfHahDbVsP8jMcOG+ccaNKQKkWAmKfEgKAReOLkWKzYJ7UF4Yg+hskWIh+z8FadoAcmJMqT/89Vt/u7ykx4cV1FfjnV8fxy/f2mn7Oh9IguAvGl+C1756Jf948C1PKcuH2iHBYLfjF5RPxxDVTkO6w4eqZg1GcnYKa1m68ueVkgCWb45UNlXC6PZhalou/Lp0pp3XOHcdn8tTD6fIYPv9EUxc6nG44rBYMK4i8KJguRVh2VDXD6fLg1U0sHXTl9EFw2PzvDs8bVwSH1YKRRZlefpJYMbIoCxt+ch5+/fXJMX9tgkgEaNgC0e/h6aBRxVkYLh0k410pJIqiPPBv96lWtPe4Ah4kPR5RFiyLJ5ZAEAQsGFWI+SMLsOFYIwoyUzCySEmlpNis+O5ZI/DIe3vx9GeHcfXMwYalwmZwujz41wZm4r1pXrnXfZMH5aAgMwX17T3YeKwR80fpRwn2S/1XRhRlhrUuRowozMCAdDuaOnvx6YFauernWj/pIM7Q/Az89/Z5yE6L324zNz34eUQE0VegCAvR7zkkVQiNLs7EcKmhWLw9LHtOtcppKbdH1C3F1bL9RDNqWruR4bB6CQJBEHDm8HwvscK5ftYQFGQ6cKKpS56/Eyord1Wjrq0HRVkpWDyx1Os+i0XAuWNZSkU7+0XNAYN0UKQQBKVN/y/e2wu3R8SMoQMwssjc640fmE2GV4KIEyRYiH4Pj7CMLs6S0xCVDZ3odRunLqLN29u9UzQbjzUEfA6Prpw7rti0KTPNYcUtC4YDAJ7+9LDXhORgEEURL647BgBYeuZQ3fQK94j8b/9pw7Lx/TX6FUKRhKeFTjSxCioz0RWCIOIPCRai36MWLCXZqUi1W+DyiPIBLda4PSLe2cGnDbOD/MZj/o23oijiA2nODB8WaJYbzxyK3HQ7jtZ34P1d1SGsMbC1shk7TrTAYbXg+tlDdB8zf2QBHDYLqhq7cLhW3yPEU0LRirAAivEWADJTbLh4UqmfRxMEkSiQYCH6NY0dTtS3syZiI4syYbEIcslsvIy3G4424HRrD7JTbfjx18YAAHZUtfjtl7LnVCuqGruQarfg7DGFho/TIzPFhpul6cR/+uQQPCFEWV5aXwEAuHTqQBRkpug+JiPFhjlSaTDvzaKmu9eNCmkS8lhNSXMkmTw4B3YrqzJaMqUUGXEw0BIEETwkWIh+DY+ulOWlyQcubrzVK23eUdWMn72zB82dTp/7IgX3klw8uRQjizJRnJ0Cp9uDbZXNhs/h6aCFowuR7gj+APzNueXITLHh4Ol2fHG4Pqjn1rR04wMpMrNsbrnfx54/jnWM1StvPlzbDrdHRE6aHcXZ+qInEqTarVg4uggOmwU3njk0aq9DEERkIcFC9GvkdJDKdMl9LHrG24ff2YOX1lfg9x8fDOp11h2uxz+/Oo6Dp9v8tv3v7nVjpZTauXTKIAiCgFnSHBl/aSElHRRaeiMnzY6rpbb03Itiln99dRwuj4hZ5XmYGKBlPi9v3nK8yas9PqD4V8aWZEEQQuuzYpY/fWMa1v7oHEwYGHzHXIIg4gMJFqJfoy5p5gyX2rcf00RY6tp6sONEMwDgtc1VON3abeo1Wrt7cdOLm/DT/+7Goj98jjMeXY07XtmKf2+sRHuPy+uxnx2oQ1u3CyXZqZgtdTbllxsr9I23h0634UhdB+xWAeeOK9J9jBmWzS2HILB1OFpnLh3W3evGK1KnXG0psx6DctMwtiQLHlEZJMg5EAP/CifVbkVRdmrUX4cgiMhBgoXo1xxUlTRzhhn0Yvn0QK08/M7p8uDZz4+aeo1tlc1wuj1ItVuQaregvt2J93ZW44EVu7DkqbWy0RRQqoMunToQFqmbKxcsW4436TZd+0BKB80fWYBsabpxKAzNz8B5Y5ng+bvkSQnEfzZXobHDiUG5abhgvP9OsZzz5Wohb8Fi1JKfIAgCIMFC9GNEUcQhVYUQhwuWmtZudKgiIP+T+ofMKmcC4uUNx00N89sitda/aGIpdjy8CP/57hzcc/4olOak4lh9By7/8zq8te0EWrt75YP4ZVMHys8fWZSJvAwHuns92HWyxWf5H8jN4sKvdlk2l5lv39jC1scfrd29WL76EADguwuHw2ay0dt5UhTo8wN16HG5IYoiRFGUe7BEs6SZIIjkhQQL0efYVNGIWY+uxu2vbMXh2jbDx9W196CpsxcWAV5N1XLTHcjLYB1FeZSlx+XGF4eYGfWhS8Zh8uAcdPd68Le1gf0efNDejPIBSLFZMWtYHu45fzTev2sBFowqQHevB/e+tgNL/7YBTpcHo4oyMb5UiTIIgoAzpEm9Wh/LodNt2FfdCqtFMB3h8Me8kfkYVZSJDqcbr28+4fexf/nsCBo7nBhemIHrZ+mXMusxZXAuCjIdaOtxYcxDH2LYAysx7IGVqJUmZJNgIQhCDxIsRJ/jqU8Oo7atB+/vrMaiP3yO+17bjuMNvgZa3uF2SF66T6M1bYv+r442otPpRlFWCiYOzMGd544CAPxjfYXfiiGX24PtVc0AlEnBnLwMB166aRbuOm8UBAHYcYJFTy6bOtDHdDpbMt5uUDWQ83hEPPTf3QCAc8YUYUBG+G3bBUHAMsmL8vf1FYaN5E42d+F5Saw9sHhcUG30LRbBUOCcNbowLnN6CIJIfGjPQPQpTjR14otDdQCAs8cU4rMDdVix7STe3nEK188qw08vGY8UGxMnB3XSQZxhBRnYfLxJLm3m6aDzxhXBYhFw/rgijC3Jwv6aNry4rgL3XjBad33217Sh0+lGVqrNqxKJY7UIuO+C0Zg+JBf3vLYdXU43Lp82yOdxsyQfy+aKJrg9IqwWAf/eVIkNxxqRZrfi4SXjg91Uhlw5bTB+8+EBVDZ24pP9tbqRm999dAA9Lg9mD8uTS5WD4fuLxuCW+cPh8nh7cvIiILoIguibUISF6FO8vvkERJGlNl66aRbeuWMezh5TCLdHxL++qsQdr2yTW+77FSy8Uqi+HaIo4n9So7PzxrKDtyAIcpTlxXXH0Gbg9+AzgKYPGSCbaPU4e0wR1vzgHKy+b6HurJpxpdnISrGhvceFfdWtqG7pwuMr9wMAfnjhGJTlRW6+TZrDiutmsXb1eiXOu0604K1tzBz80MXjQy5Bzkm3Iz8zxesv2uXMBEEkLyRYiD6D2yPijS3Md3HNTHbAnTw4Fy/dNAsvLJsJh82CVXtP455Xt8Pl9sgVQqOKfYcCDpe73XbgwOk2nGzuQorNgnkjlaGCX5tYghGFGWjtduEfXx7XXSfZv6JJB+mRk243FB5Wi4CZko/lq6MNePCt3WjvcWHakFx8K0CztlBYeuZQWARg/ZEGbK1UBi+KoohHV+4FAFwxbRAmDaY+JgRBxAYSLESfYe3hepxs7kJOmh0XTvCep3Pu2GL89cYZsFsFvL+rGt9/fYccYdEzefJeLEfrOuToyryRBUhzKF4Xq0XAHeeOBAC8sPaYbsnxVkmwzDQhWAIxW2pr/9fPj+KT/bVwWC34zdcnw+onchMqgweky9vwyqfXY+FvP8UDK3biiVUH8dXRRqTYLPjBhWMi/roEQRBGkGAh+gyvbWINzK6YNkh3WvE5Y4vw529Mh80i4O3tp9DW7YLVIshlzGqG5KVDEIC2Hhde31wFADh3rK9XY8nkgSjKSkFDhxOr93m3m69u6cLJ5i5YLQKmlOWG/f64j6VOqqa549yRXg3vIs1PLhqHWcPyYLUION7QiX9vrMJTnxwGANw8fxgG5aZF7bUJgiC0kGAh+gQN7T1YtZcJhmvPKDN83KIJJXjyumngQYny/HTZhKsm1W6VD8h8IN95OuZSm9Uit7R/bVOV132bK1h0ZVxpVkQG7E0cmIM0SYiNLcnCrQtHhL1Mf5TlpeM/352D7f/vArywbCZumT8M40uzcUb5ANx6dnRfmyAIQgtVCRF+eXL1IXQ4XXhg8diENkS+te0ket0iJg/OwbhS/51SL55cCpdnKn70xk5cML7E8HHDCzNxoqkLADBhYDZKc/QjCtfMLMOfPz2Czw/V4WRzlyx0uOF2xpDw00EA4LBZsGRKKT7YXYPfXDUZDltszjeyUu04d2wxzh0bfp8XgiCIUKEIC2FIc6cTf1h9EM9+fhS7T7YGfkKcEEVRjm74i66ouWzqIOx4eBHuXzzW8DHDVami83TSQZyh+RmYMzwfogi8oWq2JgsWqTNuJPjNVVOw5aELMHlwbsSWSRAEkQyQYCEMOVyrDMDT+jMSia2VzThU245UuwVLpgwM/AQJPZ+LGrW35bxx/qMLvAz4P5ur4PaI6HS6sLeaibxIGG7VxCqyQhAEkUjQno8w5JBKsHyiGVSXSHCz7cWTBoY1/E8L789SlJWCSYP8l+9eOKEE2ak2nGzuwrrD9dhe1Qy3R0RpTioGkjmVIAgibEiwEIaoIyy7TrbgdGt3HNdGn06nC+/trAagRDkixZnD8/DQxePw5xum+236BrBozRVSh9rXNlfJ5cxm+q8QBEEQgSHBQhiijrAAiRllWbX3NDqdbgzNT4946kUQBNyyYDjOMOlBuUbyz3y8pwarpN4tJFgIgiAiAwkWwpAjkmBZOLoQgDJPJxCHa9tw9m8/xWV/Xodff7gfXxyqQ5fTHZV1fHv7KQDAZVN8BwbGmgkDczBpUA563SJ2SAMPZw6NnOGWIAiiP0NlzYQuHT0unGxmJb3fXTgcaw7WYe3henT3uv2aVUVRxM/e2ct6lzR0YkdVM5757AjsVgHThgzA3BH5mDM8H1OH5Or2PwmGxg4nPj/IBh1eOtV3YGA8uPaMMuw6yaYup9mtGFcavcZuBEEQ/QmKsBC6HKlj0ZWCTAfmDM/HwJxUdPd6sP5Ivd/ncWHjsFrwyGUT8PXpgzEwJxW9bhEbjzVi+epDuPbZrzDl5x9j6fMb8NmB0NNM7++qhssjYuKgbIws8p0HFA8unToQqXb2s5palgubNYl+Yr3dgLMj3mtBxIsO/7/tkPF4gI6G6Cyb6Fck0d6UiCWHpMGAIwozIQiCXNa7ep+xwHC5PXhs5T4AwLJ55fjmnHL8/popWHf/ufjsB2fj8SsnYcmUgSjIdKC714MvDtXj//6xBdul9EmwvC1NDL48QaIrAJCdaseSyay0eu6I/DivTRC4XcBf5rM/V0+814aINbveAH47Atj4XOSX/eH9bNknt0Z+2US/ggQLocvhOu9JxudKbek/2VcLURR1n/P6lhM4eLoduel23H72SPl2QRBQXpCB62cNwVPXT8OmB8/Hx/eehfPGFsHp9uC2f21BY4czqPWrauzE5uNNEATgksnme6/EgocvnYDfXT0F3zlreLxXxTytJ4GGQ0DjUTqw9EdO72aX1dsjv+yaXQBEoGZn5JdN9CtIsBC68AjLyEImWOYMz0ea3Yqa1m7sOeXb9bajx4Xff3wQAHDXuaOQk27cD0UQBIwuzsIfrpuK4QUZONXSjbv+vQ1uj74Q0uOdHafk9SrJSTX9vFiQmWLDVTMGB2xMl1C0qOYgHV8Xv/Ug4gOPqvW0RWHZzAuH7sTtlk0kByRYCF2OyBEWZhpNtVsxf1QBAP3y5r9+fhT17T0oz0/HjWcONfUa2al2/GXpDKTZrVh7uB5/WHXQ9Pq9w6uDpiZWdCVpaSbB0q+JpmDp5YKlJfLLJvoVJFgIH7p73TjewMyXajPr+VJaSFveXNPSjWc/PwIAuH/x2KBax48uzsKvvj4JAPCnTw9j9d7ApdP7qltx4HQbHFYLvjax1PRrEX5QR1gqNzBPS3+nqQLY/ALg7o33mkSfWAiWHoqwEOFBZc2EDxUNHfCIQFaqDUVZKfLt50gDAHecaEFtazd6PSK+PNKA1zZVorvXg5lDB+DCCcbTj424bOogbKtsxkvrK3D3q9swYaB3G/zxA7Px3YXD5WnJvPfKOWMLkZMWuVb8/ZrmSuV6bwdQswMYNCN+65MIfPxTYN87gD0DmHJtvNcmurikLtZRSQlJy6YICxEmJFgIH2T/SlGmVzO2oqxUTBmcgx0nWnDh8s/R1KmceVotAh68eFzIzdt+ctE47D7Zgs3Hm7CxotHrvo0VjXhlYyVumD0E31s4Au9sT7zqoKSHR1gsNsDjAirWkWBpZd8znNzcjwRLu//HhUIvCRYiMpBgIXzgM4RG6fQ2WTShBDtOtKCpsxdWi4BJg3Iwd0Q+LppUiokBBgT6w2Gz4JXvnIm1h+vQ0+uRb+9xefDKhkpsrGjEi+sq8K+vjqPXLSIrxSZHfIgIwCMsI88HDn4IHF8PzLsrvusUb7rYPChU74jvesSCqKaEOtklmW6JMCHBQvjABYteM7ab5w9Ddpodg3JTcUZ5HrIiOB3ZYbPg3LHFPrdfNnUg1h6ux+8+Pii3vL9wYklyVeEkMh4P0HKCXZ98LRMslevZ7ZZ+bHPjgqVmF+BxA5Y+/H1zc8HSCogiEKkxFx434JEisRRhIcKEBAvhgxJh8W0rn2q3YqnJKqBIIQgCFowqxPyRBfjfvlqsPVyP284eEdN16NN01AJuJyBYgDGLAUcmO7jU7gFKJsV77eKDx6McYHs7gYbDQOGY+K5TNJGbBYqs23FKhDpHc8MtQKZbImz68ekToYfL7cHReuMISzwRBAHnjy/Gzy6dgKLsxOq9ktTwkuasUsCeBpTNZv8fXx+/dYo3Pa2AqKQm+3xaiHtYgMimhdTLpQgLESYkWAgvKhs70esWkWq3YFBuWrxXh4gFLZJ/JXcIuxw6l132534sPB3E6fOCRTWOIZKCxSvC0sYiVwQRIiRYCC8O1SozhCyWCOWxicSGR1hyytjl0Hns8vh65mfoj/Q7waKKhDijJFggUlqICAsSLP2Eo3Xt+POnh9HW7b8Jlr8KIaKPwkuacyXBMmg6YEsFOuqA+kPxW694wgWLVepDVL2zb4s3l2qWV0RTQl3e/yeqYBFFSlklASRY+gA1Ld347IDxUEKX24Nb/7UFv/3oAO55dTs8fmb2+KsQIvoo2giLLQUYfAa73l/TQt3N7HLgVMDqAHpaWOfbvkq0PCy93d7/J6oo+PB+4NflNPgzwSHBkuQ0dTjx9WfWY9mLm/DKxkrdx/ApygDwv/21+POnhw2XpwgW3wohoo/Ce7DwCAtAPhYeYcksAorGs+t9OS0ULQ+LNsKSqIKlaiMzWe97N95rQviBBEsS4/aIuPu17TjZzHYKj6/cj+oW7x2EeoryAml44ROrD+Lzg3U+y/N4RIqw9DdEUZUSUpWrc8FSsa5vp0KM4IIlbQBQOoVd79OCJVoRFq1gSdCUEI+o9efKuCSABEsS8+T/DuHzg3VItVswtiQL7T0uPPjWbq/UEJ+iPDQ/Hc9/6wxcP6sMogjc/eo2nGjq9FreqZYudPW6YbcKGJqfHuu3Q8SDribAKbVjzxms3D74DNamv+0U0Hw8PusWT7qa2WVqLlA6mV3vq4LF7QJEt/J/JH0mPoIlQSMsXKCe3OK7zkTCQIIlSfl0fy3++D9miHzsikl46vppcFgt+GR/Ld7ZwYYDek1R/hqbovzwkgmYNCgHTZ29uO3lrejuVXZUvEKoPD8DdmuCfjW6moBtL0enhXi8qd4JrP2D99/6p5QutNGAR1cyClkPFo4jAxg4nV3vj2edXhGWqex69Y7Qok097cD2V4DOxsCPjQfuHu//IzlPyKXxsCSi6dbjUQSqpxc4sSmuqxMU+94DanbHey1iBnW6TUIqGzpx96vbAAA3njkEV05nZ8Z3njsSv191ED9/dy/mjyzA7z8+IE9R/tpENkU51W7FMzdOxyVPrcXOEy34+jPrUShNZK5uZjuXUcUJnA764vfsIN5+GlhwX7zXJrL855tA0zHf209sAq75R3ReU2u4VTN0LnBiI3DkU2DqN6Lz+omKWrAUTwAEK9BZD7RVA9kDg1vWlheBjx8C5t4JLPpl5Nc1XFxawRLNlFACRlh6WgCohOjx9cCws+K2OqZpPAq8dgNL5d6zM95rExMS9DSaMKK7143vvbwFrd0uTC3LxU8vGS/f992FIzC2JAuNHU58719b8cZWdmaunaI8eEA6nrxuGgQB2HOqFZ8dqMNnB+pw4DTbUU0ZnBvT9xQUPCzfeDS+6xENWllkDBOuBKbeCAw/h/0fiwhLro5gGX0huzz4kXfZa3+An3GnDWCRJ96WP5S0UOMx78tEwycK0s8Ei7bnTrIYzdslH2LzcaC9Nr7rEiMowpJk/HtjJfacakVehgNP3zAdKTZlIJvDZsFvrpqMy/+8DhsrWPj5ksmlmDZkgM9yFo4uxAd3L8CuE947kMxEn4Jcd4Bd9rUfqKtHCc1f8gcgLRc4/iVw9FPfHWok8RdhKZsNZBSxWUPH1gCjLojeeiQa6ggLwIy3tXuZYBmzOLhldUgHlvbTkVu/SBJNwZIMVUJcnApW5uWp2sQEus0R19UKiPpzq94JjDo/fusSIyjCkkR4PCL+vr4CAHDvBaMxUKd1/uTBufjOguEAAIfVgh9/bazh8saWZOPqmWVef4snlSbuFOSuJmWn314T33WJNGrfQIpUUs4PllEVLJKhVl0hxLFYgXGXsOt7347eOiQismDJZZfhVApxwdKWqIJFEz2LRh8WQdqnJKRgkT7rwrFAej4TWae2xXedzKBO5VVvj9tqxBISLEnEpwdqUdHQiexUG74+fZDh4+69YDSWzS3Hb6+ejLK8JKr2OfIJ8O/rgdZq/fvrDirXE3XnHyrcjGhPZ0IBUAmW5ujNYPGXEgKAcZeyy/3vs2oSLW2ngddvAg7/LzrrFw9EUT/CAoQmWHg0sL0mMUvEo2mM5cvOLIr8siMF/6zT84Ahc9j1ZEgLqaNXfbWCTQMJliTiJSm6ct2sIUh3GGfzUu1W/OzSCbhsqrGoSUi+egY4sBLY8W/9++sPKNc7agGPW/9xyQg/q01RNezjZ/cQJWNgFPCXEgKA8vnsoN3VqL8T/+QXwJ4VwFdPR2f94kFvl5Ke44KlZBK7bD0JdNQHtzz+eLczutGyUImF6TazmF0mcoQlLdd7jlai4xVhIcFCJBCHTrfhi0P1sAjA0jN1wvd9AR5ZMfrx1akEi+gJ/sCRyPBeKGrBYkthERdAybNH9DU7mBABjCMsVjsw9mJ2fd873vc1VyriMlEbgoUCbyJmsQEOqWIuJQvIG8GuB3Nw6O32FpuJ6GORIyySMd8ZwbJmLliyWJViQn5P1AbrckmwVH6lH1FMJNSRsebjiSmGIwwJliThRSm6csH44uRK8wQD35nXGJToqQUL0Ld8LHoRFiC6PhYeXUnJAVJzjB837jJ2ue8979TUuicBj7RTd3ZEfv3ihTodpKquCykt1KHpKN2WgN9Zfqaenscuo2G6TeQICxeoaQOA4olASjabWH16V1xXKyDayFh13y9tJsGSBLR09mKFVKJ807xhcV6bKOF2KTv3xqP6OzYuWATpaxsvH4t2oJsZPG7//oV4CBbZvzLE/+OGL2Q78fYa1pcFYNGwrf9UHuPsQ438+LZOzfW+PRKCJREjLDz9lVHILl3dkStj578VLlh6WhPPx6P+vC1WYMiZ7H8zaSGXM36paW3JuNH30u1KvG0eIiRYkoBXN1Wiu9eDsSVZmD0sL96rEx066uDVvKlGc3bj7ABapCF9A6exy1hHWNwu4M1bgMcHAye2BPG8XuDZs4G/LDDeuXEzYkq29+1RjbDoDD3Uw5YCjP4au75XSgutf4od6LJK2f99NcKips9HWPKV2yKVFuIRlixJsLidvibfeKP9vLmPpSKA8dbtAp4+E3junPgIAm2ERS8y7ewEnpkDvHBhnxAtJFgSHJfbg398yUpPvz1vmFcDuD6FVnxoDwr1UoVQegFQNI5dj2WExeMG3vousOt11r67aoP551Z8wXYmp3cZ+254hMWh6TLMjbfRjLAYGW7VjJeqhfa9yxpWbX6B/X/2/ewyku3c442RYOGRqM4G88vS9gtKxAgLFxCODMAmtUqIVDUPjwJkFCqR0URLCxkJlsr1/qvzOhuAxiNsXxWPUSH8c8sfyS71hPThVWzfWbWhT8xIIsGS4Kzedxonm7uQl+HApVODbAmeTGjFh/bHx9NBhWOBTMnAF6sIi8cDvHMnsPsN5bauIObC7FWZVY0OBEYpIZ6W4Hn2SGI2wgIAI85jBuCWSuCt/2NnzgOnK2XP7h4WSeoLqE2YamxshEVQEYKkiLBI78eWonz/InUA5gdJe7oSPUw0461WsAycyta3qwmo22/8PPX3oDMOBQD89QfPYpf1h3xPHNT7nj5gyiXBkuC8sLYCAHD9rLLEbegWCbj44Gd4hoJltJIPj8XO3+MB3rsH2P4ya37Fdw5mz7I9bmD/e8r/RmeXAT0szWbX2DyBSprVONKVTrdHPmGXZ/3QOyIUyeqSeGIUYeHfTbfTfF8cLlhypOhMQkZYpNSCLVUlWCKVEuJiKBVI5YIl0SIszeySf95WO1Am/c799WNxq3w+HUFE3SIF37a5ZVJqVgROqwYhunrYWA0OCRYimmw81ojTx/diju0Alp5ZbvzAlpPKQcSI7hbW/CtaDcgC0VzFqkyM8qg8wjJ8IbusP8jyrxx1hIXnw6O98xdF4MMfA1v/zsLZVz4LTPw6u8/s5N3Kr7zPsg0Fi05ZMxAj060JwQIo0RQAKJ7EWtTbHIBVamGeTD6WxmPAgQ/079N2ueXwCAtgPsrCU0K8j0swIrvxGHDgQ/OPDxVZsEQjwiJtJ3uaUokWrZ5CoeDVJDBXuV3ux+JHsCRKhMWWqu+vOvKptxk+GlHaGEOCJYH50//242XHY3jZ9guUePwcnN+7B/jnFd5qWss7dwGvfgPYF6cW6+/cwSaLVn6pfz+PsJROYREU0QOc3qPcz5vGFYxWpYSiLFhObQU2PgtAAC57Gph0lVL6aTYlpO1dYihYuOk2RoLF5VQOnnpt+fUYfSFglQ7aZ/1AKfl1ZLDLZPKx/Pd7wL+v0zdPG0ZYUpXrZgULF6slE9llMDOw3vou8O9ro98UjAsWq1qwRMrDIp102NNY+TyQWBEWvSaBgNLx1p+5Xl1JFYyvKVL0BhAs2n1Pf42wPP300xg2bBhSU1MxY8YMfPHFF4aPXbZsGQRB8PmbMGGC1+OWL1+OMWPGIC0tDWVlZbj33nvR3Z1gbvIYsr2qGV1HvsRgoR4WeJSZL3o0HGGXu17Xv7+nTTmbjNfEWJ5+qN2rfz+PsGQWASWT2XU+H8PVo0xnVkdY2k5H1/l+Snr9kecBU69n19MkwdJp4sfv8TCTKqCkTgJ6WGJUJdR6AoDI0hzq6hB/pGQBX38OOP/n3tEWh3SQS6YIS1MFu6zb53ufkWCx2lgzOcC3QsMILliKJcHibDO/nfg6Rvs3qz5Tj3SExSslxAVLAnlY+GetbhIIKKME/JXrq0VrPJpYqr1HsmCRKoXcvSyiDij7rP4oWF577TXcc889ePDBB7Ft2zYsWLAAixcvRmVlpe7jn3zySVRXV8t/VVVVyMvLw9VXXy0/5uWXX8b999+Phx9+GPv27cPzzz+P1157DQ888EDo7yzJ+dMnh7DYulG5wd+Xjd938CP9HenBj5SziHjN8uCvy4WLFh5hySzxPVtoOMIiLik5rGMmj7C4e6Ib5uSVSYWqAZLpXECYiLCc2spauTsygZHSJNWgPSy50us1m1lj8zSr0kHBVJ6NvwyYfw9gUe06eIQlWXqxiKJyRqz3fTQSLIASZdFOITaCR1Tyhitdi82khdTrGO10Q1RTQtx0m5aYHhajJoGywdqPMI17SkhaN3uass+s28ciLxVfsH1jeoGy7+mPguWJJ57AzTffjFtuuQXjxo3D8uXLUVZWhmeeeUb38Tk5OSgpKZH/Nm/ejKamJtx0003yY7788kvMmzcP3/jGN1BeXo5Fixbh+uuvx+bNm0N/Z0nMnlMtWL3vNC60blJuNDpgeTzKQbunFTj6me9j1KHBeO0s+Ou2GAgWHmHJ0hEs3KlfOJrtVOyqs7VoljbLr6sSLHKExUQImE84HrUocKdPWbBoy5qjFGEJpqQ5EHydkyXC4uxQDJN630d151MtZg5kHI9b+Z5kFinfATOpzJ42pYtwtA2d/GQm0hEWdy8gupVlpyZgSsjos5aFqZ/POVFMt7YUIHsQi5R6XCyKzfc94y5RIqj9TbA4nU5s2bIFixYt8rp90aJFWL/e3LCo559/Hueffz6GDlXy5vPnz8eWLVuwcSOLKBw9ehQrV67ExRdfbLicnp4etLa2ev31Ff786WFMEY5gkKD6ERh92ZxtLPrA2avJWzo7gUOrlP/jEY7t7VZ+3HpntKKo7MQzixXBUruP5YnlSMcY5TnhljZ3NrImcIdWGz+mTud1+Y/f1e1tCtYiiopQHH+p6uwyyLJmtWAxm/46ugZ442b/YepgSpoDkWweFnV0rFknMsxPDrSdbgGlUsiMh6WzAawZosCELp+nYybCol7HaPsj9CIskaj4Uvf9UJc1RzPK23AEePM75s3KRl2NuTAV3cYzheIeYVGl2wRB2W+e2qqkg8ZdGt1KwxgTlGCpr6+H2+1GcXGx1+3FxcWoqQn8I6yursYHH3yAW265xev26667Dr/4xS8wf/582O12jBgxAueccw7uv/9+w2U9/vjjyMnJkf/KyiKw400ADp1uwwe7a7BYHV0BjAWL9vYD73v3wzjyP8X4BsTn7Eb9mnpntF1NrBkbwARL7hC2A/H0shAnj3QUqISD2scSCoc+Zp6fTx81Xue2U9LrjlZuT8lSfAz+0kI1u5gHwZYKjLwg8NllIA+Lu8d846fPf8t6xnD/jB6t0nvLHmxumf7guf9kKWtWV3hpv4/uXuWAGm6EhftX0vOZ/yWYCIt6HaOeEtLrwxIBUSF/XwW27GhHWBqPAi9dAuz6Dysw0J686WHoVzJRERZv061asACKYNn4N/bdS80Fhp0V3UrDGBOS6VbbbVUURVMdWF966SXk5ubi8ssv97r9s88+w6OPPoqnn34aW7duxYoVK/Dee+/hF7/4heGyHnjgAbS0tMh/VVUGqYYk4+nPjkAURVyZKrnTiyRzciDBklHEdoxdTUDFWuV+/qPllSDx8LCoX7Otxndnz8840/JYmaz6bKF6h3dJMyfsCIu0gzm9R7/hWf0hdplV6l3uKAiqtJAfwcKjKyPPZykTf2eXHo/+tGaAiQFZIJnc4XCB5+9Ax5fFq57CwZFkKSG10Gw56V3qrz6Y6g2E5AcHM+KR+1f4jJ5QIyzRNnR6RVj49zQCKSHu8+ERgGiabpsrgb9fyk4y7OksMvLGtwNHWgwrwtSCxUCcxtt026sRLLxYgRvJx1zEesr0V8FSUFAAq9XqE02pra31ibpoEUURL7zwApYuXQqHw+F1309/+lMsXboUt9xyCyZNmoQrrrgCjz32GB5//HF4DPqGpKSkIDs72+sv2TlW34G3t5/EOKESRa5T7Is4WTInBxQsBcBYKYXGD5auHuCg9IOdtpRdxjvCAhFoOeF9PxcdfIcOKILl5Bag4TC7XqiKdIQbYeHbzd3jOwUaUEV1RvveZ6a0Wc4hS9U0/s4uezsgz1HSChZBCK7bbWejcmbvr5KJi61ICJaUJI6weHq9RS//XqTksKiIllAiLJmSYAkqwqL67KKeEopSlZDcg0U6oEbLdNtykkVWWqpYm/o7twATrmSf7X+WAof9pH2NuhpbrIDFzq67DT5rd7wjLCrvEaDsMzl8nEZ/FSwOhwMzZszAqlWrvG5ftWoV5s6d6/e5a9asweHDh3HzzTf73NfZ2QmLxXtVrFYrRFGE2AcGNpnB6fLgvv9sh0cEbi2SuhWOPF8xRRodrNQ/uPGXsev73mOGv6Nr2Bl9ZgkrzQUis7NwdrKdvvrPX1t27bprw/BtKv8Kh//49r/Pdgy2NKVbKBB+hEX949UbGqYX1eEEirDU7me+G4ud9S4B/J9d8oODxebd60N+vSB2OGrx5U9Q8fvMljT7Q64SSpAIiyga+w4A389N7auSf0860RWAVWQA5jwsXLBkSCWywURY1AfAYA+GgSaDa1FHWOTyewPB4m+7+ixX1ZYfUDWOCyPC0tPuvd9pOAL8fQlr+zCgHPjWu0D2QNbkcewlbN/x6g1sX6iHqYowo5SQ6nZne2hT3MPBpRGEA4YpETJHJjD8HHY9WpWGcUDnFMI/9913H5YuXYqZM2dizpw5ePbZZ1FZWYlbb70VAEvVnDx5Ev/4xz+8nvf8889j9uzZmDhxos8ylyxZgieeeALTpk3D7NmzcfjwYfz0pz/FpZdeCqu1D7ejV/HL9/diW2UzslNtin9l3KWBh9+pf3DlZ7GdQkctG3Yln+UvUZYTbjj26GfAv65SPCecrFLg9o3KWZQa7Wtqjbe6EZap7JLv9AtGeZfSyjv/MCMsAEs7Tf2G9/3qUQBaeFTC6EDCW/EPP1vZ7v7OLtWGW73UalCCRTX7xF/Kiq97WgRTQvEYAKfHK9eySonbNyhiSo1WyLVUAZgt3efnAAYEN09ImxIKJsKiTQmJorny865m4Ok5QM5g4Ib/GL8PNbqN43Q+y5NbWCRj4Y+A+fcGXm6vKiUEqGYJhXjStPN1YMV34DXVnZNTpogVgKVCrnqRRVgOfsiaBN61XYnMcoy6GgMsPe2En5SQ5vbOBiBnkPn3Ey7aCIvFwtJCx9eyEyUuZPh3oD92ur322muxfPlyPPLII5g6dSo+//xzrFy5Uq76qa6u9unJ0tLSgjfffFM3ugIADz30EL7//e/joYcewvjx43HzzTfjwgsvxF//+tcQ3lLy8da2E/JE5mcvyoKjUXV2Hsjhrf7B2RwsbwkAu1cwAy4gVanksuu9HeENqdv3nq9YAYC2av3UCuC7gzITYckb7t3ISRvpkHf+EYiw6HUS1Stp5sgpIQMBwbdD+XzlNjmt40ewOLJ87wOCEyy8ogowjrCo25H3NQ+L28Um1LZUeW8LNT4RFlVTxoCCJcBZtxptSiioCIsmbWU2KnH0M+bjOLER+OeV5sSBbkpIJ7137HNm4D/4sbl1UfdgAcIz3bp7gU8ega5YKRzHxEruEO/bbQ7g6r8DeSPYep8MoqsxYCLCohUsMfaxyB4hld9m+lJ28njm7cpt/L31tCb9gNKgIywAcNttt+G2227Tve+ll17yuS0nJwedncYloDabDQ8//DAefvjhUFYnqdlX3YoHVuwCANx17kic2S35T/jZeaCDlfYHN+5SYMe/gS0vsR1dej4wZC68fug9baEfqPjB/crnlLk6z53DbjdaR+3O1kyExWJh81d4K39tpCPsCEuzcr16JzNe8giOs1Mpd1VXJnECpYTk91Oq3MbPLp1tLGRvUUUOjdryy68X4QhLT6vS4yMiERaeEkoAD0tHrVLm316n/xgu5ByZbJ29UkJmBUsQHhaeEuJpzK5GVmFic+g/T72O8rLq9U3AWo6r2kuc2gq8fDVw45vG3y3AvOm2tZpd6pWC6y5XYwrl6+9sZ8JSzyNkxM7/sNfNKALu2qaIIIDN+TKKPtlTgeIJQOMRgxJ2f4IlgF9JK2Riabz1eBQPjTqNPOU69qdG/b3pbmF+xySFZgnFkZauXnzvX1vQ3evBglEFuPv80UpVDzdM8TNzZ7u+Otb2jBhxLtsR8yjI2IvZjsFqB+zSgSXU0KDHzcp1AWDgNMmYZg3c+pmfUfGdgmGEpcj7drWJzCjCEkyrczXqde3tYDs0TsMhACJ7X3o/7kCmW7kJnipipE6VaQWcUQ8WTjA56DpVVMEoZcWFjD1dCRuHQyI1juPl2oD30Ek1/P3zqoqWEARLKFVC6XmKkbMjwEwhrdg0O2yTD+tb8AO2T6jawFJk/j4b3QhLq68PpvUku2w7Ze5MXRthSfHzG/CHxw188Xt2fe6d7PvG9z0Wa+BUGY+8BN0kMIA4VZtugdgab9VGYD3fmxqLVREtSW68JcESR+5/cycqGjoxKDcNf7xuGqzNFcwAKliBMVLFT2oOAOkHqXfA0v7g7Kmssypn3GXK9XDLCusPsTCkPYOFWTmBIgD89fg8Fe2Zjrotvxp/giUlS2niFcoQRG3DKHVaSN0wTtdTYjLCon4/thRlfbXb32hSs/x6JiMsPW3SjCCJ7ha2s9fChVYkoitAYnlY+EEVMBYF/P0PnMou1REW/nvSaxoHhFclJAiK0A4UGdQe/MykGzoblYGhs78LLH2LiYTj64B/X29sCpXP1FUeFoi+IoeLQdHjLQyN0AoWm0Mx4AYjWHavYCcUaXnAzG+bfx6HFy74axIYiQhLLAWLWjAHEiyA8n0OR7DseA3Y/u/odhcPAAmWOFHb2o0PdtdAEIBnbpyOARkOpfxu6FwgQ6reCKSO9c4IeXQmJYc1DuKEW1bIq2lKJnkbYAMZg/nrlUxil60nvQ+k6rb8arjx1prCKgDUCELopc0et7JOfPt4CRbuX9FJBwH+Iyy93cqytQY/o+0fMMJiUrBwz4Zc+SPqi9xIljQDieVh4WkLwDglxA8sXBC3VCnRhEARFrNVQqLomxIClO9EIO+Vdj3MpBuqNgAQgfxRLFo5aDpLBzkygWNrgJ2v6j9P3TjOnsZSLICvAG1TbVujERu6y1UdUIM13no8wBe/Y9fn3OY7usIMvJuzvyaBegKVN48z0zgOiG1KiIsowWoutRaJ0uY1vwL+e6vSZiIOkGCJEluON2F/jfFZxMYKdtAYV5KNyYNz2Y387LBYU0nl78umt4Mdu4SFhK/4i3eePNxOk/ygrq33D+RC5zuFgtGsdNfjUnZ+PW1SHxJ4m24BoHg8sOiXwOVPs5SWllBLm7tbIHt6hi9kl2rBUu+npBlQBIHeGRWP9lhTfHeCRmWdkRIs3OxbNF45MOiJqogLlgTysHhFWIwEi7QduYDu7VS2SaSqhLpblMgFTwkBqghLgO8sXx/uoTITYeENI8vnKbeVzVI8DS0nfZ8DeHtYBEG/Usjd673ORkNM1WgjLEDwUd7977ITiJQcYNb/mXuOFp4S0q5zwCaBJiMscsQ1loKFlzSn+X8cJ9z2/B6P0j8rEuM8QoQESxSob+/B9c99heue/Qo9Lp2QPICNx9gOadYw1UGDnxFqfRP+Ihh6O1irDTjvp8DYi7wfG+4sj0CCxYyHJVsq++M7Dx4dcWTqnz3NvROYdJX+ckONsHBhZc8ABp/BrlfvUM6y+YFfr2kcoNpB6bxf9UwkbTrJ6OwyUqZbde8Y/hy9tFWkU0Ly/JlEiLCoPSw6KSGXU5kqnVWqCIgWKV0QqSohLpZSsr19QmZKm109iogvGMUuzaQbuOF26Dzv27mg7NUpfBBF30iInvG2/TS8jPuhRliCifKKIhszAbAUlxnTsR48JdRZ7z3/K2CTwACfNRekfJ8W0wiLKipmhnAjLO2n2fsVrEDWwNCWEQFIsESBQ6fb4XR50NzZi80V+l+QDUfZQWO2WrDwHazWfGoqwpIbeMXCibB4POELltQcXwOc7Pfw3ylZl1AjLOqDUuE4ZoTsbmY5bpeTzSQB/ERYpM+sp8W3kRY/C9WmgwDj7R8owmK2060sWMb4T1tFM8IS70aPbQFSQvyzFyzs85D9DVXe9weMsATwsMjpoELv282UNvPPR7ACecOk5QUQLD1tyu9zqKaJp91PBMzjUqqq+HuTBahKsKhTbYB3KbgRcoQlXbktmH3QwY+Yyd+RCZz5vcCPNyItVxFh6i7bsn8lV/95fHsYdbrlooH3fjFrjI4EemLQH4HS9oHg++vsgcFVd0UYEixRoLJROdP8/KDvTrOpw4kDp9nO4AwvwaKT8waMUy69XaqwpIkGUYEmBvujuYJFAqwpvt4Os6bb1GxfA1y7gX/FDKFGWNQHJZsDKBrH/q/ewcSKx8V6omQbnEmoUz3a96yOsPg8z2D7m04JNevfz1F7b/ylraJluhU95gc0RotAKSH+3lNzmT8sV/N9DHQCwI3Tgd6ntkKIYybCIn8+A4B0KdoaKN1QtYHNz8kdyprGqZEFpU6ERS285AiLTkqoVZNOCiolpONhCRTlVUdXzrg5fHGtZ7wNt4Sd386bxcU0JaRpGheIcCMsfLvlxC8dBJBgiQoVDcqOYY2OYNkk+VdGFmWiIFMV0ms3OCsz+rLxA5hg9Z3yq0c4ERZ+9lY8wddPEsiBLkdYcn0NcHpN48wScoSlmV3ygxKPGNXsVB30RxuXS1ptKiO05qxKjrDoCLBQIyxmGj/1dilnvQVj/FcyRTrCoj6DjqePRRS9IwGd9b5VUtr3ro74iSqTcqQiLJmhRFgalHXk6eFA6QajdBAAOKTPRy8lpH4fVk2ExUuwSKk2fjJlKiXEG5vpeVgC7IOOfgqc3MyeO+fOwK8VCHm/oydYcvWfw/1/gRrH8RObWKaEtF2EAxGuYOGft7Y5X4whwRIFjjcoEZb9NW2obfX+wuv6V0RRlRIyK1hUPzgzbbvDmeVRLVUIlU72vc9fBMDjVkLL6pSQHGHxc4APRNgRllx2qZ4MzStt9BrGqZEFgSaCYVSiDRhvf6NJzdrnAcY7+obDLMKRmstSin5TQvyAGIE5QgCrGJMrheIoWDobvcP3okenn4lmJIE6JdTTxqIUQOQ8LKFEWDpVETA5whIgJSQLFp2Zbv5SQvx9WOxK5Z+eYGmTBMsQaYRBywnvKdd6aIcfAuajvGuk6MrMm3z3h6GgTf0BEYiw8JTQIGV5em0EooHaKG2GcNvz8+0WR8MtQIIlKhyXIixWCxMRnx/yVt4bjun4V3pa9asKAOMIRqAfnJZwZnkY+VfUr9/V5OthUB+cU7J9dxxxjbBI683Lp6t3BC5p5sgpF22ERadpHEfe/s3etwcy3VptzBgIBB4HwHvH+IuwRDolBChpB72W7rGCpy0yipT3pk0LdRlFWCqVbWtLNa6+sAc4iHHklJAmvcuFeXut8cFNPZgyw4Rg6e1S2s6X60VY/KWEdLwQcl8d1W+XR1gGzWD+H7czcPM77fBDwFyEpWIdULkesDqY6T4S6JU2hytY+P5aPtkSY+djCdrDQikhQgdRFGXBsmg8O2ip00Jt3b3Yc4r9WHUrhBxZvjvLgBEWk4Il1JSQKAYQLLnS49y+vRv4mZQtjYVY5R3HCbbccEy3fEfR2eDbE8Ef2u1WPIHthNtPs50lYEKwGEQwzERYDD0sftJ6gbrdqgWLv/UDlOqmdJPfGzMkQi8WflDNHqgY17UH1U6NWFMLaDO/J/kgFsDDYpQSyigCILDfSqBOxOkDFGHsbxrwic3s4JlVyib2avGXElI3jePoVQnxbZs7VKkSCeRj0UtbyFFGP/ugz3/DLqctNfaRBYteabO/LreA+bJme4aqKs9k87hwzenaSc2BCLdxXAtFWPokjR1OtPe4IAjADbOHAgDWHqqD28O+oFuON8EjAkPy0lGaoxImRukgwDjlEqgrp5ZQBUvrKeYHEKxA0QTf++1pSp5a+4OQ/SvSTjB7MACB7fA76v1HJAKRlsf6ugCBz/bUaA9MjnSlhJkLjkCCxSiC4e/9hOphAQK7/HnvGJ7KknegepVlUYywxFOwtKkEC49SaiuFfCIs0g64u1nZKfv7PYVbJWS1KVETIx+L/P3MY98Z/h03MnWq00F6qWEzKSGv5m46AxDVYlA2KgeoFNLrw5ISYB9UtYkNcLTYgPn3+F9+MOTotOcPt4TdpRJ7Zs3RALDrDeA3w4CNzwV+rBGxjLCIoiL0+HaMEyRYIgw33JZkp2L28DxkpdjQ1NmL3SfZD1TXvwIYVwgB8Y+w8OhK0ThjRW90QFWXNAMsysIjIy2V/iMSgbBYzHkCtOhtN3XkyJrCziT9oRfBcLtUZ9YhmG4dOn1oOIF2OOoeLIBxlVBvt3KmHSnTLaCKsMSxPX+rjmDRpoTk6JL03lOyFIHC52T5jbCY7HRrlBICVKlMA5GtNgYLgv+KLwA4LjWM0zPcAuaqhNQNJrUeFo9HKRfPHqhEpQIZb3X7sARoHMcrg6ZcF1mDJxdZracUoaEdz6HFyk23ASIstlTz5ug9/wVW/B977UMmp17rvnaIHpau5uCjO11NSl8gbQVajCHBEmF4SfPQ/HTYrRbMHcl2Nry8eYORYJF3cDrD9iIlWEJtHOcvHcQxWkfZn6FKd/AdXsMR5fGhmG4B87NZ1OhFptTvrWC09zRlPfQiLB11AESWXtL7HPVMt64eJSzvN8LiR7C4e5V22XyqtVFKiP9vsZmrLDNLIgxANJMS0osu8YMZN5b7FSzSAcIoPcPhBy5tTyUgcHt+rTE43c/B0OVkUQnAj2DxVyXkL8LSpqyP2wlAYGLLqHOsFtl0q64S8uOjO7UdOPQR+/3Mv8//soMlo1B6j6LidQo3wiKn0xwqUelHsOx/H3jzZsXYHWrXWfU62Qy8Vlr8pe0Dwf0rGUWRGZYaBiRYIkxFPdspDM1jZzVnjWZnep8fqkOX042dJ5oBaAy3gOrMXC/Ckssuu5u9nfkhR1hag1PZXLDw6bZ6GLnQtREWQDlAnNjMLq0O8+9Bi2xiDMJ4GyjCEigdBCj+D7Vg4euQUaQvePRMz+qdR6iCpfEY6x1jz5BSbvAWVOrPWn0wNFNZZpaEMN1KgiXLT0pIXTLM4dG0GjOCxUSVUG+XEmnSE648wmKYEtKkrTL8RFiqt7P0anq+8ffWrkrXaX/3emfqWsHCU20ZhRofWiDBIgkk3db8OoKFR1cmXgXkj/C9PxwEQYkO8PU22yRQO5WZoxZ7RiZ8zqFVwH++xX6nxZO8Xz8UuBg0G2Hxl7YPRIKUNAMkWCJOZaMkWArYWc1Zo9iOc2tlMz4/VIdet4iS7FQMyUv3fqJRzhtQIgGix/vsPGjBIh0wRXdwZ8J8Rx5KhEVuGqcWLNIX/4R0ZqjXxt4soURY9LYbnysDmBQs0g5KHcHgUTIjP46eYOQHBXuG/6iOv7JEXtlUMEopTeUHO0+vt3ch0j1YONEoa3Z2Akc+Ne49o8VUSkgnwsIjfvzM21/XaDNVQvx7YE3Rj2JlBUhjyp9RvvelXoSFzw8y8q8AipiE6NvwTq8BmSxYpN+uersC+iXCevgbftijOWk6vRfY/x4AATjrB/6XGyo+XY2b2WUoERaPm4kPgH3O/lJCRz4FXr2B/RbHX8ZmowH+hYMoMm+SUYfjYD0sQOjdbhOkpBkgwRJxKqQeLOX5bCdRlpeO4YUZcHtEPLn6EACWDhK0OxejzpgA20ny0kD1AStQa2mf5aQrBj6zPpb2OmlHLgAlE40fF9DDopMS4p6BUCqEOJkBwutaRFFfsKTmAHnD2XWjlvxq9FJC/IzZ6P3wbeDpVQ4cZgy3gH+Xv96wRnu60ghMvY7RMNwC0REsX/wO+OflwNZ/mHu8fGAdFDgllK6TEuL4+z2ZqRJSp4P0RESgAYjaz8ifobNqA7scotN/haMuK9amhbhgsfrxsHAhx/uNaJvtGeFv+KHH5b0uX0kH8fGXmTthCAV1ZMhoP6DG5sfD4tUh2I/p1uNhnhV3DzDmYuDrzyv7eL02EJwTm4EXFwNv365/P3/9YFI0oRpvE6SkGSDBEnF4SbM6gsKjLHur2RmLj38F8J8SAvS/bMFGWAQheONtjZQOyh/p/6BqdEDt8RNh8UhnzqH6V4Dgm8f1diohXu12W/xb4MzbgDGLAy9HzyPiry0/wA7qgvST49vFrGDxt7ORDbeqYY1qs6Z6HaMVYYmGh4UL2vpDgR/b3aqkYbJLFbOrOiXk8SjbT900T7sjNpMS8rh850hxOvz40QD/RnGPWzkRkVNCfnqx1O5llwOnGq+zxaKkA7SC0p+HhT+Wdw/OLmWXPLXibPd/8NObKOzIYNWGgBJ9dfdK0RUAZ9xivLxwUXtvvJoE5uo/3l+ERX2bLcU4CtZ0jH0fbKnAVS+wLuFm/CQN0ndePUrA6/WD7HQLhC5YKCXUN2nt7kVjBzsYDs1XBMvC0d5REx//CuA/JQRERrAAwRtvzRhujdYPUCJCeqZbTlgRliA9LPxgYLGrQuUSo84Hvva47+gBPfjZr/osyV9bfoCJCK2PRRYsfiqEAJOCRRMZ4gc89YFOPacmkkTDw8JD0WZK1nkVS2oOWxc5RF+nSr+1KIP+9Ey3HDOmW8B4KJ6/CiHAf3v+rmbIU5H5ehgdDJ0dygEtUGdmo0ohvam/PhEWTUrInqbsp4wOqKKoRFDUxlBB8DXeVnzBvtfpBfqdeiMFL8ltPm6uSaBcwq4jWPhJj2BhUesMAw9L9XZ2WTxRiYbY0xShYSQe+HKMIpbBVgkBoXe7pQhL36RSiq7kZziQlaoc9GYPz4PDyjZ1XoYDI4t0Dk7yHCGDnZxeBCNQDlZ3OUFGWIIWLM3et/sz3XJiGWEJdpyBEbJHxKWIv0ARFsB3+4cbYfF4lAiE9qCl14slWTwsoqga32BCsGjTFvyA6u5RPh/+3h2Z3mW82t4SZiIsgHGlkFHTOI46wqJNCXBBmZKtCGejCAv/3NMLlAOmEUaVQv48LK5uVoWk3bZA4NJmdcpEm7bQVsvtfYddjr04cHVeOKhTQkE1CdQx3XIRY02RopkGKaFAE+6NxAP/HhhFLIOtEgJC97AkSNM4gARLROHpIHV0BQDSHTacMYx9QWeV6/hX1FUFRjs57ZfN41a6RQYlWIKY2CyKrNQQ0J8h5LV+RoKFp4RyldscGd5nuJGIsHTUBp5tAoQWldLDnqZ4A/iBJFCEBfDtQ6FX9q2H0fZtqWThYasDGFDufZ9e2kpr6IwUkRYs6t4PZobKyRVCUtrCka6sEz8Z0DPcAmw72VXRNn/fDYuVRecA40qhQNFS/v1wdfueOHTqRMCMIiza7sb+MGoe59Y5U3eoxLOzXYle8W0LBC5tVnt8tAdVdZTR41bSQeMv8/8ewkUWWSfNRRr9poQ0HYLVplu1CA0kWAwjLNI+Ra8UHQi+SggIrdttjyrtRxGWvgU33A7Nz/C5b9ncYchJs+O6WTofOt/BWR3GBy7tAUu9o1NHLwIhHzCb/T9OFIGPfsLCp1aHiQhLrrR+Jky3gHc+NCzBIkWkPC79NvRaIiVYAJXxVlqmHGExI1ia2WWgwYfya+WyS61Rj/cOKRjNuqjqrl8MTLeR9rCoUw1mUkKyz0LVyl1bKSQbbjWfvSB4nz0G6hwdqLQ5UErInqa8RssJ7/v0TMFGAxDrgxAshikhHcFitSkio7uFHeAB7whLoNJmfkAVLDrT3VVRxsqv2OeTmgsMOyvw+wiHrFLmn/H0ArVSZZ2//YC/xnFa7w8XlZ5e5STEa6SJ5oQvoGCRvge9nfozp0KqEgrBw6Lu/qzdh8cBEiwRpNIgwgIAF4wvxo6HF+HsMTo7MXU6yChNof2y8UtHljnPBSdFE47VQxSB1T9TnPsXPxH4AB+ocZxWVKkPEKG05edY7crO38wcj0gKFn7g65J6nXDB4u/9aMPhwaaEtEY93pa9bLbO+vmLsEQ6JRRhD4v6QNjZaGxw5eilLbSVQkYRFsD77DHQdyNQaXOgCAugjILg08E5ehEwfvaunQbMIyyB/CuAn5SQwYGPfx/bqpVIV7YqwiL7QQKYQu3pvvs0tWDZJ6WDxlwU3H4sFKw25fvBWzX4HcPgR5iqm8YBUsRV+g3w/RBPPVlsQNF47+cHEg/q23Ub/oXhYQmmYR3/fBMgHQSQYIko2pJm0/ibI8TRDr8L9cBrxsPy2ePAuuXs+sVPANOXBl6uoelWeh1t5EjtGwilLb8as22xgcADz4JBHcHoalJ2Yv4iRoam2wCCxciox9uy603p1WtmFbWyZk1lSbh4pRrEwGJUNoaqDqpy8zjp99WlIwY4fIcsWAKn5wKVNgfysABKVISLDo7e5yNfF70/y0ikhIwOfPz7yF+Dm5k58jwhA8GiN/iQo44y7nuXXR9/qd/Vjxg8shtMV2O9xnF6Qo/7iHjvFPVIE+32DZSeUX/OelFLWRAG42EJQ7DEeYYQhwRLBJFLmnUiLH4xc0ZmFGEx24OFY2aWx5pfs+tf+zVwxs3mlsvXz9WlhINFUb9xHKBS7IL/920GM22xOYHmhwT1uqoIBvevpA3wf9bj42ExKVj4sgHVd6AZqNnNruv14ZAFlepgH+0IS6QEizbVECgtJA8+VEVYtCkhf++dR1hSc5Xme0YEGoDoby4YRxYs+71v1+vEa7WpoojSd9zlBBqPei/LHwGrhAwiLFywqLcrENh0q9eWX162JAiPfMoiY45MYPg5/tc/UvD9Dt/upnrudBt3CLaqfuta4y0XRf4m3BuJh65AgiWUCAt/zRBSQhRh6Vt097pR08p+pEFHWALlvAE/giXYCIufWR67VwCf/JJdv+AR4MxbzS83JVvVX6GZXfZ2Kb1WtIKF7/AyCn29F8Hib9aKlqh4WBrMD3H0qRKShIu/wYfy62m+A1UbAIis4Z06ssDRpoTcLlWEKYk8LEDgSiFt6S2gSglpPCx6752feZs5AfA3ANHtUoSRPyHOS9CNUkLaddRWCjUeYenBlGxvM6wRckpI8/lozaMcWbBIB3b1dgWUA1hXk34a0F+fEP4bqPiCXY6+MHYzavh+R+7BYiLCInqUrrYcPcGgjfTK/pWpvsv2lxISNZE0s1O2AxGKh0We0kyCpU/BW/JnpdgwID3IXKyZELK2DC7YLrccfykhPj105s3AvLuDW666KR3/QfCDsWD17XlSNou9p5HnB/c6ehj1QNAjoh4W1eu2mfCvAL6CUY6wmDC08bNs/h04vo5dGg2905qC1UbriPdhkQSLqzuw38QMXLDwRnv+xGhvt3Ig1zPdcrGjF73gDJnD/F1mzvT9DUDsaYVPHxU9ZA/LIe/tpWe6BXxFuTyOYbS58nx7gAiLVStYpO8jj7BoRVFqjuKH04uy+IuwaE9exsUoHQSE3nNHK071+tdoI73+WkL4Ew/ODu8eP3onAb0xEiwJFmEJ89SW4MglzQXpvmXLgQgrJRTkgcdf4ziupkNt3pQ2gO1w+bqpK4S02ySzCPjBIWVUQDj4a12uJaKCRRXBCDbCEqzpFvD9DlQEECzaCAsXdKk54Ue1tKgFqbM9eCGthe8oC8eybq7+UkK87NaW5p3qM0oJ6ZpuBwE/OmLO+OnPjMnPhm2p/rdxThkzpPZ2Ak0VQMFIaR0Nvp8Zmu+4UbNAI+SUkDbCEsDDopdq4+QOAU7vYvuNonHe9+kNPuSoq01sacCoCwKvf6Tw6Wqca/xYtYhz9Xj/Rt06kSlZsDSwFHF7DQABKJ7gu2x/KSFttaNWZALhRVhcXSz6bcb/QhGWvslxXtKcF2Q6CDCXEtKatKJhug23o6H2gGpkuOVY7ZGZGOxvOJyWUJrtGaE23fLP0Gi0AsfHdGuyrBnw3r497UoXTSOByR/vbGc73GgZbgG24+b9ScJNC6l7Pwyazi79pYTU6SD198knJSQtU1vWzDFbpeLPw8LfuzaiqMViYcMqAW8fi5ExOF1j6NQbx+APw5SQkYdFk6LUpoQAVWmzjvHW3wFVHWEZeV7gbRVJtO3l/fbcsRiXNutFpuSUUIN3uwG99+cv2qGNFOumhELwsKjT9maMt64e5USMTzSPMyRYIoRR0zhTyBEWg9kjgEoddzN1HLaHRRNhcbuU0tBQw38+gsXAcBtptGef/gg1laaHnuk2UNfesEy3udLrNbFJ1x4XE5cDDHYmqblKSqWzMXqGW04wxtuedmWnrkXu/ZAD5I1g1/2JUT3/CqBKCWlNt2E2zeNnpnpVQvxs2MxBWPaxqCqFjD4j9dk7EHyExSglpBcpAHy/j3oRFnn6sY5g0Rt8KC9bdQIT7WZxWrTvI9D+0yiapuf9UUd6A3UI99fp1ifCome69ZNyM8JrlpzO62rhPYLs6dHbZwQJCZYIEXJJMxB48CHAdiCyOm6KfISlrZoZ0Sz20MuMfZrbNXu/ZrQwaqylR7Qax5lpyw/48bAEGWHh/Vf8pe8sFtVzGpXtE40IC+A7NM8fHz8I/HUBcGi1731yGHqIKq3jLyUUQLA42ySRH6EIk98Ii/TezZiouY+Fiw9RNP6M1KLc7QIaDnsvIxCGKSGDjqk+gkXH2CuXNut4WPwdUPnBz2JnhttYYk/13r8F2g8EirCoI0jqSC+PfgYSLKYiLJrPzONWihmCSQkFel0t6oh7JCLhEYA8LBEi5JJmr6oCP4JFENiXrbOeCQJZDOQG93pcPLi62FkCb3zEz2pzBgUu6zRCWzZn1DQu0mj7Hxjh7lVGIESycVxng7LDNxth6WllowScQZhu1XnvxmPseiC/UVoeW7/ORmNDZ6QIpnlchdQ/5uinbOikGp5iyC3zTevoYRRhSc1hBxy3k+18+UEm3Pfv18MiHVzsJvYDPDrCBYuzXTkQ+TPdNh9npkxbmvkJugEbxxmYbjl6KSF/pc16gw85xROBOXewcuxo7xv0yC1TUh2hRljkkQaqmVTqSi4eEQwkWHo7mYFWXSWlFRNGE7aB4FJC6tc1I1gSzHALUIQlIvS6PTjZzEKgQUdYOusBiCx0H2hHqv6yhWu6BbyNt5EwVxl5WKIeYVG587X9EtSo87aRWCf+uq4uJXwa0HSbyy6d7d5h2UDTmgFl+7bVACc2s+tD5wdYR1Xayp/pNBLI84QCeFhcPUoPER46V6P+LmrTOnrodbkFmMjnz+c+EYvdXPTDH/wgplclZNbDAniXNns8yudjTfEVPBmqlJDc4Xak+WGB9kCmW4M+LABbF70TI38RFrlKSCcCIAjAhY8C078ZcLWjAt/HCRbvuUl6GEXT9LYb3x+0nlJEd8kk/eU6spR0rTY9o40UG31m2tc3Q1ARlsQy3AIkWCLCyaYuuD0iUmwWFGUFqXj5mWN6fuCdjzqCEapgsViVH6k6LSSf1YZhrjLysJiJHoQDP/t0O73b1mtRp6giMRU2JVupcuJnXIHKmtUHAn6gtdjM7Xj49j21lb1eRhGQPyLAc9TdeKM0+JBj1sPScIT1tgCYj0UrMtXtwNWVPkZilM8R0utHIgsW6SCfnhd+eNtMlZAZUTSgnEWAejulNu6qCJh2HdUeFi6+zPpXACXCYpgS8iNYskr1txnvftpeo3NA531YgvBYxAoutEw1CZS2i9tAsFh1Iiw8SjZgmLFXzmIx7nYbKCXE/UEWe/D7MYqwEMcbFcOtxRLkztBMhRBH7UcIx4uh1zyuOQJfznhFWBzpqsnJfsyZkexyCyhpOo49I7AXxWpXznb5ULmULHMHUXmekHSwHzo38PP4gU4dYTGqkgkXsx4WdVVMTwsr61XTohNh8fQaGwWNUkKAklKSO5tGILoUiSohgJU950vlzPUH/ZuC1SmhYGYIcfj6+KSEDEy3asGlt10BdoDmgkQ7xNFfhCXe8IiBmX1nMBGWlGylUg4IfcK9dpK02couMxiVU+/8D7B2ufesKrWXLEEgwRIBeEnzkFBKmnmu01+FEId/gVtOKp0XQxIsOsbbcEua1eui14cl2sjGWz/N4yJpuOWoD4Bmhzjy7dEq7eTNGG4B3/UuD5AOAlQ+G7XIjbOHRdvdVZsWksXzEHbA4w3K9NJCbpfiR9CrZJEjLNJrRiK65LdKKAjBAqiMt/tVKTud76f67P2klA4005KfY5gSMmocp/pO6m1XgInlnMHsulawhDLrJlbwnjFmTs5kwWKicZwgeH+/Ak64N4h28O8B3xeb7Z1jBr3X7GgA3roVWP0w8O5dLD0JqKLuJFj6FNxwWx5SSbPJ/h2A8mVrkgyXVkdoOwS95nGRCP9pO7HGynQLKF4Nf+Wv0RAsat+R2eoqvj3kCItJQaeNDJlp8KdOCfnr9BoJzHpYZD+JlE5TCxav3g/SjlLub6FTKdRRyyJOFpt+40V+GxdJkYgumaoSMilY1MZbf6Zo9TRgXiEUkZSQUeM41XdSr0KIw03mvEqO05vAKaGh84Br/gks+WPgxxp91kbl4OoTz1AFS1cgwRKGGNR7zQPvK6MKtv0LWPl9diLA90+UEupbnGhigqUsLwTBEkpKiBsW0waElo/XRlhEUTlDSkbTLWCuF0tUBIvqjMp0hIULliAjLCnZilEvbQBQOM7/44EYm25Nelh4tGOk1OG0RtWPhW8TW5qybf1VCvF0UFapvh+BP5d7ECKSEvLjYeEpF7PGXt74re5A4M8nQ/Vds9iAvGHmXkO9Pu4eJewviuY8LEYRFkARLLwPEUfuw5KAKSFBYNOhjfoXqZE/axON4wDv/UFJIMGSyy6NIiy5MYqw7H2HXQ6dD0AANr8ArPhO+G0uogAJlgjQ1MFMVvmZjgCP1CGYlBA/w1YLllDQNi/rqJN+gIL/nVMg5GZILWynGCvTLWBuAGIku9xy1Msy+8Pm26NV5WExg9qoN2SuufJzXdNtHPuwuF1AwyF2ffLV7PLUdsVQq470cTHur1JIrhAy8llooi6ReO9GBzEg+JSQunlcoM9HfTDMH2m+My/gXXXE19HdC3nukb8+LEbbFlD6DmkjLLIQSsAISzAYpoQCRFiyB/mfDQcEkRIyKGsOycOiHfHSDBz9jF2/5A/AZX9i1/eskNYhjDYXUSBx1iSJaepkX94B6aEIlhBSQnJzqVAFi8Z0yz0DWaXefQWCRe2I726JU4TFTy+WaKeEgo6wSNs9mDJbvu5m5z3x9WuuVPme4uhhaT7Owum2NGD011gzxM56ZR6QnpfKX/M4dYRFD61giWSEpVfPw8JTQiajrfkjWdSsuwWo3ed/HdNVJzVmG8ZxbClKdE4WLH7KY+1pSqNKf9OguWDxibCE0Ik1EQkUYdEKFi4qA6WDAP1uty6n0pvJKMISyuBDjjZtf/BD5osqHMuifdNuZMKFk0AlzQAJlogQlmCRU0IB1Djge6ANO8IiCYpImausqh4XXU0qD0ssIiw8kmBGsORG7nXVBxfTHhYeYZEOtmYjLAAwdA472I9ZbO7xfAfKfSG2NPMH02Ax42GRpwyPYgKHG0e5j0WvWs1fSog30DP67mpPBCISYTFTJWRShNpSWPkroPTWMVpHdRQ2GP8KwKJVfJ142kq9/laH7+OHzGHfaX/mXkMPi5/hh8mE3OlW2zjOIMIyZA4ThmMuCrxsvQiLfF0AsiVDs9lSdDNoX5Ong9QTs2d+G1j8W5Z2HHFO8K8RRajTbZiIooimTpYSyssIJyUUgmAJtTxXa7pV970Il7QB7Cyzo14524xUGbE/TKWEom26NRElAxTByCMewQiWS//EdiZmRYf2bD2aM0HMeFi0M3BKp7BpzNU7mAhTlzRz+IFaLyUk9yQxOKj6pIQiUCVkptNtMAP9CscCjUcUM6XROqpvD6ZCiGNPZ795vo6yD8OhH/b/1jvsO+rPK2EUYQnnoJpIBIywaN7fxCtZ5NDM71NXsHAfU65yYhMNDwuPgB/5H/t//KXej5v9fyzaEq2TmxChCEuYtHa74PawPHBuehA5ZYDl7c3MEeJoIwORirBEsqMhX8fm48ptwRyQQyVepluvsuYgPSxG//tDEILbifhE5aIoWMx4WLRThnnonA9ClCMsKkMkN6TrpYR49Y9RxCE9X0mFAJF5//ZICxZNescwJRSmYNFWChl1ueVYrIEPioGqhJI9wsLfv2HjOJ3tY/b3qdc4Tm28thtVdoWRblMfQ3a9zpY1YBgbl6AlwcQKQIIlbJqldFC6w4pUe5BdB7uaVLNDgujDYvS/WbQTmyPZ0VAuvZYEiz0jOHNgqJgZgMjzttGqEgq2rJkTTUFnc3i3H49W0zjAeMCeGm2XVlmwSCmhFp1on1FKqLtF8b4YeTosVu/PKKKm2zA73XK0YitgSkhQGs4Fg9w8ThNhCeVMncMjLD2t3pOgwzmoJhKGEZYwohwcfxGW9Dzl8/L0KiZfILzPzWpX9gdb/8Eux1+aMMMNA0GCJUwaO8Ix3ErRgJQcc+V/2tRKqF4MwwhLBBoEyYKlwvu1oo08KTXGplt+ELE6zB8MYylYAG+REs0ISyDTrccD1EsVQrxLK5+10noCaDut+Hr0TLfalBAvj84a6N8npU4LRb3TLS9rDiLCohVbRt9P/j4GDA1NCMjN4zQeFr0ogVlSc5SDujrK4m/4YTIRTOO4YNHrdKue1q3+DqmjluGm2/hxg58kjLsstOXEARIsYdIs+VcGZIQQRZArhEz4VwDWyludPgg5wpLLLnu46TaCERa+bJ4SioXhFlB6VDjb9A8kHk/kW/MD7Ex3+jeBcx40f5YSa8GiPkhHa44QoJy5GUVYWk+ws3uLXekhkpIF5EnzkA59xDwTFpt3eo0fqHs7vJcdyL+ifT6EyBiu+UFYt0oohJSQWrAIFuPv57CzmDny7J+YX7Yaw5RQGAddQdAvbU7k1vzBEGzjuGDQtoEAvMczWO2KmFR/78P93NS/gezBwKDpoS0nDpDpNkzCirAEUyHESctVzLKhCpYUVVlzV7OyvIh4WDQpoVhFWFJz2YHO42KRqxxNPxlnmzKDJ5JVQoIAXPpUcM/xESxhTg8ORKRTIkbIKaE25s/SCjgeEdH2ECmdwkyn+95l/2cP8h7qlpLFziZd3SwtxF+nnvthAggWnlKK1NBLo4OYx6OkW+xBCJaUTPbba6nyP5DPkQFc+8+gV9fr+YBOSihMUZFVwk5QuPHW41E8H0kfYTFI/xk1jgsGeT8ksn1xep5vLx5HBtDV4y1Ywu0irD5ujFuSNOkggCIsYRNeD5YgKoQ46rOvsFNCrUokJL0gMiYr/mOQ5+TEKMKinuOh52Ph0RVbWvzz6uGYbkNBLVKiarqVhJfo0fd3yBERTQqE+1h4AyttibIg6KeF6kwKFv7cSEWXjA5i6sGCwURYAOU9RDMCZpQSCidKAPhGWNTbJd6/tXCRxanT+3ajxnHBoG0DAQCdmrS1XquAsCMsKsGirQ5KcEiwhIkiWMJJCZkshwW8v2zhmm4hKs2qIjUvQjtROFYRFkAlWHQqhaLR5TZU4poSiqJgUUcV9HwsckREYzLlgoWH2fUifXrN48xOLZYFS4TeO09ziG6pW6yEfFARgj9Q820S1QiYJiUkR0EiEGEBlAhLnxIsASIs4Yo9rY9FL8ICeE9sDjcyxk96M4uBstmhLSNOkGAJk8YO7mGJVUooAoLFlqo0RDq9m11GqqOhT6+YOAgWPeNtNAy3oRJz022MIiwWi+osXkewyALDIMLC0WsCp60UcnYo/YMCNVEbUM4uI/UdVx8o1AcydYVQsGF2vg2i2VnUJyXEBUsY3a0B3wgLjzRZ7JFJwcUTuXGcKv3ndinDAsMVezxK3s0jLJp5UnpDK+UKrBBfm/8exl+edJ8PeVjCpDnWKSH5gCuw6qJQEASWhuisB2okwRKpEeLaNFWsTLeA/14s0ehyGyr2NMVvA/SdCAvADoq9Hb6CRRR9m8ap14l7OAD9aJ+2eVz9IQAiE6kZAdIo45YAlz/DTKuRQO1bcPWo+s+EYLjlTLiCRWuGnx326hnikxKKoIcFUCIsfaUtP6AfYfEaaRDhCIt2orpeq4BwP7dZ/8fmQ41LrnQQQBGWsJFNtyF1uQ0jJZSWG95QKn6Wf3oPu+wTERY/vVgSKcIiCN7bJZieHaGQHkPBkqKTcwdYNLG7mVXB6PUQUUdZdFNCmuZxgRrGqbHaganfAHIGB36sGSwWRbSoK4XCESxWOzDtBl+zeCSJRpUQoPQfkj0s3BSa5BVCgH7jOK+RBmFuO23zuC5VlRCg8rCoy5rD/NxSMoEp1yVkY7hAkGAJE7msORQPS6hVQkD4pbk88sEPAJH2sHBiZboFVCkhnQiL3DQuN1Zr4x++XewZ0Q/LxiolBBj3YuH+lQHl+qFstWDR+y5qU0LyTKIghwBGCr2GYr1hCJZYELUqIU17/j4ZYdERLIKVtZoIB3XzOHXrhTQ/EZZwq4SSGBIsYdIYr5RQuJECbeQjYimhOEZYTKWEEiDCAijbJRZjC/jOT7BG//OQe7FoBEsgg6wsWFRD39Roq4SM0kuxQq+hWLCDD2NNtKuEOutZWquvDD4E9FNCkTLcAt6CpadFKVbwmxKK0OeWhJCHJQxEUVQ8LMGmhNy9yplOMAfRgdPYgWfwGcG9nhbtgStSKSF7OjOq8YoPMt3qwyNcsRAs+SOYaCkYHf2eC0YDEAM1eSubxaKGhWP0TaBylZBWsCRQhEUWLAkaajdKCYWb1kgvYPsk0c0+n74y+BBQvoteptsIlDRz1B4Wbri1ZyjL1k0J9aHtGyQkWMKgvceFXjcbfJgXbIRFrZiDCSGXTAJ+dDR8IaBO1aRkRy5VIgjswMNTTXGJsOgJlmZ2mTCCJYYRlpQs4J5dsTkjM/KwBOqZkjYAuHe38U44U+VhcTmBxqPS8uIUYZEHIEbIwxILojFLCGCenswiNteprabvDD4E/EdYwhV6gHeEhZ9UqVO4Dk1UTP36/TDCQimhMOD+lRSbBWmOIH0I/EctWJTSObOk5YZ/pqwWEpEupVSLgoTpwxKFtvzhEEvBAjAhEYshlLKHpc37djNN3lKyjNeRR1i6mli0RnSz9FNWaXjrGyq6KaEQBh/GEsOUUATO1NWlzX1l8CGg3zguEk3jOPxEsavJt0II8F8l1Be2b5CQYAkDXiGUF0qFkJznzYhPa2S1kIiU4ZajFiwxNd3yCEujMpuDk2gRlpQYC5ZYoTdPqLNRibiFapJNy2NpBwA4vp5dFo6JX1txvymhRI2waFNCEUwtqEub+8rgQ8A7wiKKynUg8h4WbQ8WgKXYgchWCSUxJFjCIKy2/PE2pvXJCAv/oYveI9sBJeqSKFVCfD1iKehigZ6HpXYvu8weHLpAs1iUlF/FF+wyXukgQDmQRaqsORbwyA/f90TSi6GOsPSVwYeAatuISldjdwQFg1dKSNPlFjBozd9/PSwkWMJAFiyhTGrmO7p4GfTUB8qIR1hy2aXFFltBZrUrKR+1j6XlBNuRClb9HiDxYPzlrEnYtBvivSaRRS+EfeADdjnkzPCWzdNCFWvZZbwMt4BBhIWnhBJUsNhVERZRjGykQB1hkfuw9IEIi1eTQGl7RTKVFijColvWTIKFCIEm3pY/lAgL/wLa4yRYvFJCESpp5vAfYWpO7EP2er1YeAqhdEripGAKRwPffBsonx/vNYksKZqyZlEE9r3Droc7aI0LFt5TJ64RFj0PixS5SFQPCz85Et3soBvJ1IJuhKUPCBb1tuERqUhVVwHKvtLTy06sAPMeFhIsRDCElxKKs5PeKyUURcESa/R6sRxfxy7L58V+ffob2sZx1TvYzB9bGjDy/PCWre1XFK+mcYDyu9Xtw5KoERbVevV2Rs/DwiMsfSElJAiKMPGJsERAsNjT2cwlAGg8wi7VE7u1Zc1ec4zIw0IEQVOoPVgAlYclXhGWaKaEJMESD38GN96qIywVkmAZSoIl6mhz7jy6Mur88A/k6hEWtrTIRwaDwV+VULx+04Gw2pSDr7MjwhEWVXv+vtaJVZv+i2QqTRCU/WXDYXaplxLixwt1GX1fiGAFCQmWMFBSQqF4WOIsWDKLAUgzbYLptGuGbGkeSjxKTvkgPO5haa8FGg4BEML3UBCBUZtuRRHYKwmWcZeFv2z197RgZHwnzfqtEkrQlBCgpIV6OyOb2shSp4T6UIQFUDWPk4RKJM3KgLePBQDSVUUL2pRQJOcYJSHUOC4MwitrjnNKKLMIuOYfLPwYaZ/JqAuAS5ZHbjpuMKRrBAv3rxRPTJyS5r6M2sNSt5+JRasDGH1h+MtWC5Z4+leA5KwSApiY6mpin08kIyx8OKXHBbSelJbbRyIA2uZxkWwcB/jul4xMtx6P6rUd4Q2/TVJIsIQBTwnlhmO6jefOLVwTpBFWOzDzpugsOxDalBD3rwydG5/16W+oPSw8ujLiXO8UZKioU0JGM4liRTL2YQFUlUIR9rDYHOxkobMBaKqQXquvCBZN87hINo4DfAWLnukWIksHyRVCfWTbBkn/k2gRhAuWoNvyA/GPsPRVtKZbHmEhwRIb1B4W7l8ZFyFh7BVhSRTBkkSdbgH9lFCkqk24j6W5il32lX2bUYQlYoIlV/O/SrDY0gBIEXBnR79uyw+EKFiefvppDBs2DKmpqZgxYwa++OILw8cuW7YMgiD4/E2YMMHrcc3Nzbj99ttRWlqK1NRUjBs3DitXrgxl9WKCKIpoklrz5yajh6WvIkdYGlhfg9N72P8kWGIDP1i7uoDTu1kvnjGLI7PshBIsOqZb/ptO6AiLymMUyQZogBIBk6tY+oqHhX/W0vaK9HZTR1gsdu/WCxaLty8s0iIzyQhasLz22mu455578OCDD2Lbtm1YsGABFi9ejMrKSt3HP/nkk6iurpb/qqqqkJeXh6uvvlp+jNPpxAUXXICKigq88cYbOHDgAJ577jkMGjQo9HcWZTqdbjhdbBR4eK35SbBEFB5O7WwAKr8CILLyV3U6gYgeKZroQvkC7xB3OGQWs2652YOBvOGRWWaoaMuaXU7FjJnIgkU9TC/SZ+u8tJnTVyIshmXNERINasGSnufrKVT7WOSmfP0zwhK0h+WJJ57AzTffjFtuuQUAsHz5cnz00Ud45pln8Pjjj/s8PicnBzk5Sj+O//73v2hqasJNNykehxdeeAGNjY1Yv3497HYWrRg6dGjQbyaW8HSQw2pBerCDDwFKCUULdUqI/Cuxx+pgURWPi/0fSZ+U1Qbc9qU0MDQGgxz9oT3r5hOQgQQXLHopoUhFWIq9/+8r+zbtZx3J6irAW7Ck6Yh7PZHZVyqwgiSoCIvT6cSWLVuwaNEir9sXLVqE9evXm1rG888/j/PPP99LkLzzzjuYM2cObr/9dhQXF2PixIl47LHH4Ha7DZfT09OD1tZWr79YIpc0Z9ghhFJlkwwGvWSEp4TcTuDgR+w69V+JHYKg8nAIwNhLIrv81GzfKE480Poa+O/Z6oi/mPIHTwn1tEW+Y6o2wtJXjKF8+7g1giVSQk89QV4vGkkpIZmgBEt9fT3cbjeKi72VdHFxMWpqagI+v7q6Gh988IEcneEcPXoUb7zxBtxuN1auXImHHnoIv//97/Hoo48aLuvxxx+Xozc5OTkoK4tw87MAhNXlFqAIS7RwpCtptoZD7JIiLLGFC5ahc/tuKk4ua9YIlkQ/AeHr192i3Ba1CEsfOaj6RFgibbodoH+dozayy035+si2DZKQTLfaiIIoiqaiDC+99BJyc3Nx+eWXe93u8XhQVFSEZ599FjNmzMB1112HBx98EM8884zhsh544AG0tLTIf1VVVaG8lZCJnGAhD0vEUbe2zh0K5AyO37r0R7hpMFLVQYmIT4QlCSqEACUlxCcDAxRhCYT2s45W4zjAe9/FUQ+t7OcRlqA8LAUFBbBarT7RlNraWp+oixZRFPHCCy9g6dKlcDi8D/KlpaWw2+2wWhUvyLhx41BTUwOn0+nzeABISUlBSkr8jEdNHWFMagaUnDcJlsiTng+0SAKW0kGx58zvAQdWAlOui/eaRA/tWXeyRFh4SqhTJVisIZ50aemzHhZNp9uIN47LVa4HSgkJUoyhn5pug4qwOBwOzJgxA6tWrfK6fdWqVZg713/Yfc2aNTh8+DBuvvlmn/vmzZuHw4cPw+PxyLcdPHgQpaWlumIlEWjsDGNSM0ApoWjCjbcADTyMBzO+BXzjNd/+En0JuUpI+h0ni2BxaASLNSVyna77apWQHGGJQeM4XdOtKiXUzyMsQaeE7rvvPvztb3/DCy+8gH379uHee+9FZWUlbr31VgAsVfPNb37T53nPP/88Zs+ejYkTJ/rc973vfQ8NDQ24++67cfDgQbz//vt47LHHcPvtt4fwlmJDM28aF0pJM5AcPRuSlXSVYCH/ChENkjXCok0JRfLA58gAHKoeIn3loKrtuRNpD4t6qr3fCIuqrLmv+IOCJOiy5muvvRYNDQ145JFHUF1djYkTJ2LlypVy1U91dbVPT5aWlha8+eabePLJJ3WXWVZWho8//hj33nsvJk+ejEGDBuHuu+/Gj3/84xDeUmzgc4RCassPsBI1oO+chSQSPMKSVQoMGBbfdSH6JkZVQonuYdGmhCKdWsgqBhrapGX3kYOqdgxDpBvHWaxMtHS3+C9r7u1UomF9ZdsGSUizhG677Tbcdtttuve99NJLPrfl5OSgs7PT7zLnzJmDr776KpTViQvNUkooL2QPC5luowafFl2+IPKDHQkCUA5W2iqhRP8984MfnwwcacGSWQI0HGYH1L4ynC/ajeMAIGsgEyzZA33vk1NC7cqEchIsRDCEFWERRep0G02m3QB4eoEJV8Z7TYi+ik3V6VYUky8lJLfPj0KEBehbB9RoN44DgMv+BFTvAEqn+N6nTgnx1+ynplsSLCHSHM7gQ1c3AJFdp5RQ5EnNAebdHe+1IPoy8gFDBNy9yVPWbNcIqkgLCz4AsS/t16LdOA4ABs9kf3o4VGXN/AS3r5SMB0kfidnFnsZw+rDwdBBAERaCSEbUB3pXVxJFWLSChSIsAYl247hAqFNC0RBLSQQJlhDocrrR3ctKsEPqw+LVxpuCXASRdKgPGK6eJBIsmhOkiEdYJMHSFyMs0WocFwjd4Yd9SBAGAQmWEOBdbm0WAZkpIQgO6sFCEMmNIHgfyOSUUIILFm1KKFJN4zilUwEIbEJ6X0FuHKeJsETSw+IPL8EirQOVNRNmaZS73DpCG3wod7lN8J0bQRDG2FLYwau3W9VXKcE9LD4poQgf+IrGAvfuBjL60AwptTB1uwBRanAalwhLhAdWJhkUYQmBZrnLbbglzRRhIYikRV0plCwpIXsaANVJVjQOujmDlahEX0D2sDgVwaC+Pdp4DT+MsX8mwSDBEgJhGW4B1dkYGW4JImlRmzHllFCC/6YFwdvo30/P1IPCK8LiVG6PS0qIC5b+ebJLgiUEmsMVLE7qwUIQSY+XhyVJOt0C3lGgfnqmHhRqYcoFg8UWu4IJfpxwq4RxP/3cSLCEgNrDEhKUEiKI5Ec9YyZZUkKAdxSonx74gkLd6TYaTeMCoRbBnQ3ssp9GxkiwhED4HhYeYUmCnRtBEPrYk9DDAnjvd0iwBEbdOC4efVBsDsAiHWu6mtllP60SIsESAjzCEvakZoqwEETyop4nlLQpof554AsKvZRQrIWe/JlJHdL76edGgiUERtavxmihKvRJzWS6JYjkhx80upogH0iSIcJCKaHgUHuV4tVpViuE++nnRn1YgqVmF+5q+CVucGRhV8qFoS2DTLcEkfzwAxn3FUBIjuoNO0VYgkJdot3Txi5j6WEBot8/J0mgCEuw1B0AAOQLbRhZ+UZoyyDTLUEkP1rBYk8HLEmwS1Uf/GJ94E1G1OKgp0W6jQRLPEiCX1eC0VwpXy3Z/az3IEOzkOmWIJIfftDqrGeXyZAOAiglFCzq8QXdreySBEtcIMESJK4mRbDYOmuBbf8KfiFkuiWI5If/fnmEJVkEC6WEgkM9N6qHC5YYb7doT9lOEkiwBIm7kQmWnZ7h7Ia1y1nL5mCglBBBJD9yhKWRXSZDhRBAjeNCgW+nbiklFOmhkYHQVnaFMsOuD0CCJVhaqgAAL9iuATJLgNYTwI5/B7eMZOrZQBCEPvwsu4NSQn0e7vXpToAISz/+zEiwBIMowtZ2AgBQnzoUmHcXu33tE2yKp1kowkIQyY/WdJssgoUaxwUP/6y742W6VUXv+nEajwRLMHQ1wepi/pM2RzEw4yYgvQBoqgB2B1ExRKZbgkh++IHDwzpfJ41gcdDww6DhAqUnAUy3/fgzI8ESDM3HAQC1Yi7sKWnshz/3Dnbf578DGo54/7l79ZdDpluCSH60By3ysPRd5AgLCZZ4Qo3jgqGZ+VdOigVIc1jZbWfcwoy3DYeAp6Z7P37gdOD/PvVdDqWECCL50R44kqVzNVUJBY+P6TaeKaH+KzIpwhIMLYpgSbVLgiUlC7jg50BaHpCSzf4cWey+U1v1oyxkuiWI5Ed7wpEsv2e1sKLGceaId0rITmk8gCIswSFFWE6IBUjnERYAmLGM/XE8buCRPHa9qxnILPReDkVYCCL5oZRQ/8GmrRKKY0qon05qBijCEhyqCEua3Wr8OIsVSM1h17uavO/zuNmYcoBMtwSRzPikhJLk90wpoeDxaRxHVULxgARLMEht+U+IhYqHxYi0AexSK1i44RagCAtBJDPJKlioD0vwyNtJmsodz+GH/fgzI8ESDJJgCRhhAfwIFtXsoX6slAki6fERLEmSEkrNAQQLYLHTPsgsWoES18Zx/fdElzwsZulpA7qbAZgULKm57FJ6joxc0pwkk10JgtDHx8OSJBGWlCxgyR9Ze3lbjFvMJyvazzquZc39N8JCgsUskuG2w5KFDqSFnhJyUg8WgugTJGuVEABMXxrvNUgutBEV8rDEBTrFN4tkuG2wFQNAGB4WXiGUJD0bCILQR3vQIhN93yXuERbV8YKqhIiASP6VOisrUQ7dwyL1YCHBQhDJTbKabong0X7WsTbdUh8WACRYzCNFWKqFIgDw7sOiR8AIC6WECCKpIcHSf9B6fWIdYbFYFdHSjz0sJFjMInlYTokswpIaMMKSyy67mr1v56Zb2rkRRHJDgqX/EG8PC6B8v/pxlRAJFrOoSpoBIN0RwK9MpluC6NtY7QAE5f9kKWsmgsdHsMQhLSMLFoqwEIGQUkIVrnwA4XhYSLAQRJ9AEJQDl8VOJcJ9Ga1IsMbhs+aCmDwshF96u4H20wCAChebEZTmCLDpAgoWCh8TRNLDKzYoHdS3SagIS/8VLNSHxQytJ9mlPR3VXekARKSZTQl1NwMej9Ikjky3BNF3sJFg6RdoIyrxSMuMv4ydOA85M/avnSCQYDGD5F8Rc8rgbGOzJEx3uhU9gLNNGYZIpluC6DvwAxf9nvs2iWC6nXM7++vHUErIDJJ/xZ1dJt8UsKzZnqq4udVpITLdEkTfgf/GSbD0beLdOI4AQILFHFJJc2/WIPmmFJuJTafnY6GUEEH0HeQIC1UI9Wni3TiOAECCxRxSSqgnnQmWNLsVgiD4ewZDV7CQ6ZYg+gzkYekfUIQlISDBYgYpJdSZPhCAiXQQRxYszcptVNZMEH0HqhLqH6gFisXGOs8SMYcEixmklFB7aikAE11uOXK3W50IC+3gCCL5oQhL/0CdEurHZcXxhgRLINwuuay5NbUEgIlJzRw9wUKmW4LoO5CHpX+gjrDEo2kcAYAES2DaqgHRDVjsaLWxLrfBp4TIdEsQfRJ+tk3T1/s2FGFJCEiwBELyryBnMDp7WQ8W8ykhfx4WCiETRNKTO5RdDiiP62oQUUYdVSHDbdygxnGBkPwryC1Dl9MNIIgIC28e192s3EamW4LoOyz4PjDiXGDwGfFeEyKaeEVYSLDECxIsgZBKmpEzBN29TLAE7HLL8ZsSohAyQSQ99lRg6Jx4rwURbeTJ3CIJljhCKaFAtEiCJbcMnc4wBYsoAs4Odt1BgoUgCCIpUE/mpqZxcYMESyB4SiinDF08whKq6dbdywy8AKWECIIgkgkeWaEIS9wgwRKI7hZ2qfKwBB9haWaX3L8CkOmWIAgimSDBEnfIwxKI//sU6GkDrCno2nkQQAh9WFxdzLvCBYtglXKiBEEQRFIgCxYqa44XJFjMkJIFAEqExaxgSclm4kR0syiL2nBrZhYRQRAEkRjIHhZqHBcvKCUUBJ3BVgkJgne3W7ktPxluCYIgkgqKsMQdEixB0B1sHxbA23hLbfkJgiCSEy5UyMMSN0iwBAGvEjLd6RZQBEt3M3W5JQiCSFasZLqNN+RhCYKg+7AASrdbdfM4irAQBEEkF1QlFHdIsAQB73Sb7ghis6lTQvKgNBIsBEEQSQU1jos7lBIKAjnC4ghis6kFi2y6pZQQQRBEUkERlrhDgiUIwvKwdDWT6ZYgCCJZyRnELrMHxXc9+jGUEgoCpUooxJSQbLqlsmaCIIikYuH9bDJ3+YJ4r0m/hQSLSURRDL4PC6Dfh4UEC0EQRHKRkskECxE3KCVkkl63CLdHBBBEp1tAE2HhnW4pJUQQBEEQwUCCxSTcvwIEG2Eh0y1BEARBhAsJFpPwOUJWiwC7NYg5QOrGcWS6JQiCIIiQIMFiEh5hSbdbIQQzuJA3jutuAZzt7Dp5WAiCIAgiKEISLE8//TSGDRuG1NRUzJgxA1988YXhY5ctWwZBEHz+JkyYoPv4V199FYIg4PLLLw9l1aJGp9MFAEgNxr8CKKZbAGirZpckWAiCIAgiKIIWLK+99hruuecePPjgg9i2bRsWLFiAxYsXo7KyUvfxTz75JKqrq+W/qqoq5OXl4eqrr/Z57PHjx/GDH/wACxYkXtlYdygVQgBgtQOOLHa95SS7pJQQQRAEQQRF0ILliSeewM0334xbbrkF48aNw/Lly1FWVoZnnnlG9/E5OTkoKSmR/zZv3oympibcdNNNXo9zu9244YYb8POf/xzDhw8P7d1EkS6nB0CQk5o53MfSfppdkumWIAiCIIIiKMHidDqxZcsWLFq0yOv2RYsWYf369aaW8fzzz+P888/H0KFDvW5/5JFHUFhYiJtvvtnUcnp6etDa2ur1F03klFCwERZAlRZiZdEUYSEIgiCI4AiqcVx9fT3cbjeKi4u9bi8uLkZNTU3A51dXV+ODDz7AK6+84nX7unXr8Pzzz2P79u2m1+Xxxx/Hz3/+c9OPDxfZdBtShCXX+3/ysBAEQRBEUIRkutVWyYiiaKpy5qWXXkJubq6XobatrQ033ngjnnvuORQUFJhehwceeAAtLS3yX1VVlennhkLIHhZASQlxSLAQBEEQRFAEFWEpKCiA1Wr1iabU1tb6RF20iKKIF154AUuXLoXD4ZBvP3LkCCoqKrBkyRL5No+H+UVsNhsOHDiAESNG+CwvJSUFKSmxm5rJJzUHXSUE6AgWSgkRBEEQRDAEFWFxOByYMWMGVq1a5XX7qlWrMHfuXL/PXbNmDQ4fPuzjURk7dix27dqF7du3y3+XXnopzjnnHGzfvh1lZWXBrGLUUPdhCRqKsBAEQRBEWAQ9/PC+++7D0qVLMXPmTMyZMwfPPvssKisrceuttwJgqZqTJ0/iH//4h9fznn/+ecyePRsTJ070uj01NdXnttzcXADwuT2e8E63Qc0R4mgFi4MEC0EQBEEEQ9CC5dprr0VDQwMeeeQRVFdXY+LEiVi5cqVc9VNdXe3Tk6WlpQVvvvkmnnzyycisdRyQBUsoERbe7ZZDERaCIAiCCIqgBQsA3Hbbbbjtttt073vppZd8bsvJyUFnZ6fp5estI97wlFDYERZrCmAJYRkEQRAE0Y+hWUImCSvCohYsZLglCIIgiKAhwWKS8PqwqAULpYMIgiAIIlhIsJiEC5bQOt2qBAsZbgmCIAgiaEiwmKQzrCqhXOU6pYQIgiAIImhIsJikO5yUkD0dsErN8uw0+JAgCIIggoUEi0nkTrehpIQEQUkLUYSFIAiCIIKGBItJeJVQuiOkSnCVYCEPC0EQBEEECwkWk4Q1/BBQmseR6ZYgCIIggoYEi0k6w+nDAlBKiCAIgiDCgASLCURRDK/TLUApIYIgCIIIAxIsJuhxeeTrIQuW3CHsMqskAmtEEARBEP2LEB2k/QueDgLCSAnNuR0oGAWM/lqE1oogCIIg+g8kWEzA00EOmwVWixDaQlKzgUlXRXCtCIIgCKL/QCkhE3Q5XQDCiK4QBEEQBBEWJFhM0OVkHpaQutwSBEEQBBE2JFhM0BVuDxaCIAiCIMKCBIsJOqWUUEht+QmCIAiCCBsSLCYIa/AhQRAEQRBhQ4LFBGE3jSMIgiAIIixIsJggrEnNBEEQBEGEDQkWEyiTmkmwEARBEEQ8IMFigq5wBx8SBEEQBBEWJFhMQB4WgiAIgogvJFhMQH1YCIIgCCK+kGAxAaWECIIgCCK+kGAxAaWECIIgCCK+kGAxgRxhIcFCEARBEHGBBIsJyMNCEARBEPGFBIsJqA8LQRAEQcQXEiwmoE63BEEQBBFfSLCYQBl+aIvzmhAEQRBE/4QEiwnIw0IQBEEQ8YUEiwk65Soh2lwEQRAEEQ/oCGwCpQ8LpYQIgiAIIh6QYAmA2yPC6fIAoJQQQRAEQcQLEiwB4NEVgAQLQRAEQcQLEiwB4D1YACDVTpuLIAiCIOIBHYEDoB58KAhCnNeGIAiCIPonJFgC0NVLXW4JgiAIIt6QYAkAFyzU5ZYgCIIg4gcJlgB0Ol0AaFIzQRAEQcQTEiwB6KaUEEEQBEHEHRIsAehysh4slBIiCIIgiPhBgiUAPCVEERaCIAiCiB8kWALQTYMPCYIgCCLukGAJQKeTBAtBEARBxBsSLAFQBh+SYCEIgiCIeEGCJQBdlBIiCIIgiLhDgiUAcmt+irAQBEEQRNwgwRIAEiwEQRAEEX9IsASAUkIEQRAEEX9IsASAR1ioDwtBEARBxA8SLAGg4YcEQRAEEX9IsASA+rAQBEEQRPyxxXsFEp1rZpbhzOH5GF6YGe9VIQiCIIh+CwmWAHxj9pB4rwJBEARB9HsoJUQQBEEQRMJDgoUgCIIgiISHBAtBEARBEAkPCRaCIAiCIBIeEiwEQRAEQSQ8JFgIgiAIgkh4SLAQBEEQBJHwkGAhCIIgCCLhIcFCEARBEETCQ4KFIAiCIIiEhwQLQRAEQRAJDwkWgiAIgiASHhIsBEEQBEEkPH1mWrMoigCA1tbWOK8JQRAEQRBm4cdtfhw3os8Ilra2NgBAWVlZnNeEIAiCIIhgaWtrQ05OjuH9ghhI0iQJHo8Hp06dQlZWFgRBiNhyW1tbUVZWhqqqKmRnZ0dsuYQvtK1jB23r2ELbO3bQto4dkdrWoiiira0NAwcOhMVi7FTpMxEWi8WCwYMHR2352dnZ9OWPEbStYwdt69hC2zt20LaOHZHY1v4iKxwy3RIEQRAEkfCQYCEIgiAIIuEhwRKAlJQUPPzww0hJSYn3qvR5aFvHDtrWsYW2d+ygbR07Yr2t+4zpliAIgiCIvgtFWAiCIAiCSHhIsBAEQRAEkfCQYCEIgiAIIuEhwUIQBEEQRMJDgiUATz/9NIYNG4bU1FTMmDEDX3zxRbxXKal5/PHHccYZZyArKwtFRUW4/PLLceDAAa/HiKKIn/3sZxg4cCDS0tJw9tlnY8+ePXFa477D448/DkEQcM8998i30baOLCdPnsSNN96I/Px8pKenY+rUqdiyZYt8P23vyOByufDQQw9h2LBhSEtLw/Dhw/HII4/A4/HIj6FtHRqff/45lixZgoEDB0IQBPz3v//1ut/Mdu3p6cGdd96JgoICZGRk4NJLL8WJEyfCXzmRMOTVV18V7Xa7+Nxzz4l79+4V7777bjEjI0M8fvx4vFctabnwwgvFF198Udy9e7e4fft28eKLLxaHDBkitre3y4/51a9+JWZlZYlvvvmmuGvXLvHaa68VS0tLxdbW1jiueXKzceNGsby8XJw8ebJ49913y7fTto4cjY2N4tChQ8Vly5aJGzZsEI8dOyauXr1aPHz4sPwY2t6R4Ze//KWYn58vvvfee+KxY8fE119/XczMzBSXL18uP4a2dWisXLlSfPDBB8U333xTBCC+9dZbXveb2a633nqrOGjQIHHVqlXi1q1bxXPOOUecMmWK6HK5wlo3Eix+mDVrlnjrrbd63TZ27Fjx/vvvj9Ma9T1qa2tFAOKaNWtEURRFj8cjlpSUiL/61a/kx3R3d4s5OTniX/7yl3itZlLT1tYmjho1Sly1apW4cOFCWbDQto4sP/7xj8X58+cb3k/bO3JcfPHF4re//W2v26688krxxhtvFEWRtnWk0AoWM9u1ublZtNvt4quvvio/5uTJk6LFYhE//PDDsNaHUkIGOJ1ObNmyBYsWLfK6fdGiRVi/fn2c1qrv0dLSAgDIy8sDABw7dgw1NTVe2z0lJQULFy6k7R4it99+Oy6++GKcf/75XrfTto4s77zzDmbOnImrr74aRUVFmDZtGp577jn5ftrekWP+/Pn43//+h4MHDwIAduzYgbVr1+Kiiy4CQNs6WpjZrlu2bEFvb6/XYwYOHIiJEyeGve37zPDDSFNfXw+3243i4mKv24uLi1FTUxOntepbiKKI++67D/Pnz8fEiRMBQN62etv9+PHjMV/HZOfVV1/F1q1bsWnTJp/7aFtHlqNHj+KZZ57Bfffdh5/85CfYuHEj7rrrLqSkpOCb3/wmbe8I8uMf/xgtLS0YO3YsrFYr3G43Hn30UVx//fUA6LsdLcxs15qaGjgcDgwYMMDnMeEeO0mwBEAQBK//RVH0uY0IjTvuuAM7d+7E2rVrfe6j7R4+VVVVuPvuu/Hxxx8jNTXV8HG0rSODx+PBzJkz8dhjjwEApk2bhj179uCZZ57BN7/5TflxtL3D57XXXsO//vUvvPLKK5gwYQK2b9+Oe+65BwMHDsS3vvUt+XG0raNDKNs1EtueUkIGFBQUwGq1+ijC2tpaH3VJBM+dd96Jd955B59++ikGDx4s315SUgIAtN0jwJYtW1BbW4sZM2bAZrPBZrNhzZo1+OMf/wibzSZvT9rWkaG0tBTjx4/3um3cuHGorKwEQN/tSPLDH/4Q999/P6677jpMmjQJS5cuxb333ovHH38cAG3raGFmu5aUlMDpdKKpqcnwMaFCgsUAh8OBGTNmYNWqVV63r1q1CnPnzo3TWiU/oijijjvuwIoVK/DJJ59g2LBhXvcPGzYMJSUlXtvd6XRizZo1tN2D5LzzzsOuXbuwfft2+W/mzJm44YYbsH37dgwfPpy2dQSZN2+eT4n+wYMHMXToUAD03Y4knZ2dsFi8D19Wq1Uua6ZtHR3MbNcZM2bAbrd7Paa6uhq7d+8Of9uHZdnt4/Cy5ueff17cu3eveM8994gZGRliRUVFvFctafne974n5uTkiJ999plYXV0t/3V2dsqP+dWvfiXm5OSIK1asEHft2iVef/31VI4YIdRVQqJI2zqSbNy4UbTZbOKjjz4qHjp0SHz55ZfF9PR08V//+pf8GNrekeFb3/qWOGjQILmsecWKFWJBQYH4ox/9SH4MbevQaGtrE7dt2yZu27ZNBCA+8cQT4rZt2+R2Hma266233ioOHjxYXL16tbh161bx3HPPpbLmWPDnP/9ZHDp0qOhwOMTp06fL5bdEaADQ/XvxxRflx3g8HvHhhx8WS0pKxJSUFPGss84Sd+3aFb+V7kNoBQtt68jy7rvvihMnThRTUlLEsWPHis8++6zX/bS9I0Nra6t49913i0OGDBFTU1PF4cOHiw8++KDY09MjP4a2dWh8+umnuvvob33rW6IomtuuXV1d4h133CHm5eWJaWlp4iWXXCJWVlaGvW6CKIpieDEagiAIgiCI6EIeFoIgCIIgEh4SLARBEARBJDwkWAiCIAiCSHhIsBAEQRAEkfCQYCEIgiAIIuEhwUIQBEEQRMJDgoUgCIIgiISHBAtBEARBEAkPCRaCIAiCIBIeEiwEQRAEQSQ8JFgIgiAIgkh4SLAQBEEQBJHw/H8d+4kOIodENgAAAABJRU5ErkJggg==",
      "text/plain": [
       "<Figure size 640x480 with 1 Axes>"
      ]
     },
     "metadata": {},
     "output_type": "display_data"
    }
   ],
   "source": [
    "plt.plot(history.history[\"accuracy\"],label=\"train\")\n",
    "plt.plot(history.history[\"val_accuracy\"],label=\"test\")\n",
    "plt.legend()"
   ]
  },
  {
   "cell_type": "code",
   "execution_count": 63,
   "id": "48eec2e0-f328-4ab8-a19f-fb0cded34b9a",
   "metadata": {},
   "outputs": [
    {
     "name": "stdout",
     "output_type": "stream",
     "text": [
      "\u001b[1m27/27\u001b[0m \u001b[32m━━━━━━━━━━━━━━━━━━━━\u001b[0m\u001b[37m\u001b[0m \u001b[1m0s\u001b[0m 2ms/step - accuracy: 0.7658 - loss: 0.5544\n"
     ]
    },
    {
     "data": {
      "text/plain": [
       "[0.537501335144043, 0.7775119543075562]"
      ]
     },
     "execution_count": 63,
     "metadata": {},
     "output_type": "execute_result"
    }
   ],
   "source": [
    "model.evaluate(x_test,y_test)"
   ]
  },
  {
   "cell_type": "code",
   "execution_count": 64,
   "id": "d9978902-15f6-46c5-a060-2ee1ad9e3670",
   "metadata": {},
   "outputs": [
    {
     "name": "stdout",
     "output_type": "stream",
     "text": [
      "\u001b[1m105/105\u001b[0m \u001b[32m━━━━━━━━━━━━━━━━━━━━\u001b[0m\u001b[37m\u001b[0m \u001b[1m0s\u001b[0m 2ms/step - accuracy: 0.8146 - loss: 0.4394\n"
     ]
    },
    {
     "data": {
      "text/plain": [
       "[0.4386710524559021, 0.8168213367462158]"
      ]
     },
     "execution_count": 64,
     "metadata": {},
     "output_type": "execute_result"
    }
   ],
   "source": [
    "model.evaluate(x_train,y_train)"
   ]
  },
  {
   "cell_type": "markdown",
   "id": "aa6a3647-8741-4cc1-9a4e-78b976c88672",
   "metadata": {},
   "source": [
    "# 2. 사전 학습 모델로 저장"
   ]
  },
  {
   "cell_type": "code",
   "execution_count": 73,
   "id": "6c33a617-bd86-4aed-aba5-96340c15541b",
   "metadata": {},
   "outputs": [
    {
     "name": "stdout",
     "output_type": "stream",
     "text": [
      "\u001b[1m27/27\u001b[0m \u001b[32m━━━━━━━━━━━━━━━━━━━━\u001b[0m\u001b[37m\u001b[0m \u001b[1m0s\u001b[0m 2ms/step - accuracy: 0.7658 - loss: 0.5544\n"
     ]
    },
    {
     "name": "stderr",
     "output_type": "stream",
     "text": [
      "WARNING:absl:You are saving your model as an HDF5 file via `model.save()` or `keras.saving.save_model(model)`. This file format is considered legacy. We recommend using instead the native Keras format, e.g. `model.save('my_model.keras')` or `keras.saving.save_model(model, 'my_model.keras')`. \n"
     ]
    },
    {
     "name": "stdout",
     "output_type": "stream",
     "text": [
      "model saved at  .abalone.h5\n",
      "Accuracy >77.751195\n",
      "Base Loss >0.54\n"
     ]
    }
   ],
   "source": [
    "import tensorflow as tf\n",
    "\n",
    "base_loss,base_accuracy=model.evaluate(x_test, y_test)\n",
    "\n",
    "model_file='.abalone.h5'\n",
    "\n",
    "tf.keras.models.save_model(model, model_file, include_optimizer=False)\n",
    "print('model saved at ', model_file)\n",
    "#score,keras_file=evaluate_model(trainX,trainy,testX,testy)\n",
    "score=base_accuracy*100\n",
    "print('Accuracy >{:f}'.format(score))\n",
    "print('Base Loss >{:.2f}'.format(base_loss))"
   ]
  },
  {
   "cell_type": "markdown",
   "id": "f1f1ac87-0e0a-4c38-b17e-6d4e3c053385",
   "metadata": {},
   "source": [
    "# 3.  사전 학습 모델 불러와서 새로운 층과 출력층 추가하기"
   ]
  },
  {
   "cell_type": "code",
   "execution_count": 77,
   "id": "5cac0313-3af0-4175-847c-f394ee76d560",
   "metadata": {},
   "outputs": [
    {
     "name": "stderr",
     "output_type": "stream",
     "text": [
      "WARNING:absl:No training configuration found in the save file, so the model was *not* compiled. Compile it manually.\n"
     ]
    }
   ],
   "source": [
    "from tensorflow.keras.models import load_model\n",
    "\n",
    "base_model = load_model(model_file)"
   ]
  },
  {
   "cell_type": "code",
   "execution_count": 79,
   "id": "f366b54f-2299-4880-832b-4b315a210bde",
   "metadata": {},
   "outputs": [
    {
     "name": "stdout",
     "output_type": "stream",
     "text": [
      "\u001b[1m27/27\u001b[0m \u001b[32m━━━━━━━━━━━━━━━━━━━━\u001b[0m\u001b[37m\u001b[0m \u001b[1m1s\u001b[0m 2ms/step - accuracy: 0.7658 - loss: 0.5544 \n"
     ]
    },
    {
     "data": {
      "text/plain": [
       "[0.537501335144043, 0.7775119543075562]"
      ]
     },
     "execution_count": 79,
     "metadata": {},
     "output_type": "execute_result"
    }
   ],
   "source": [
    "base_model.compile(optimizer='adam', metrics=['accuracy'], loss='sparse_categorical_crossentropy')\n",
    "base_model.evaluate(x_test, y_test)"
   ]
  },
  {
   "cell_type": "code",
   "execution_count": 81,
   "id": "1cf1a4ba-2258-46c4-bf72-0ea20ba2268b",
   "metadata": {},
   "outputs": [
    {
     "name": "stdout",
     "output_type": "stream",
     "text": [
      "Number of layers in the base model:  5\n"
     ]
    }
   ],
   "source": [
    "print(\"Number of layers in the base model: \", len(base_model.layers))"
   ]
  },
  {
   "cell_type": "code",
   "execution_count": 83,
   "id": "a2d65fa4-74d3-4b1d-a9c8-d47e0671fa7b",
   "metadata": {},
   "outputs": [],
   "source": [
    "from tensorflow.keras import layers, models\n",
    "\n",
    "def remove_last_layers(model, num_layers_to_remove):\n",
    "    # 모델의 레이어를 하나씩 슬라이스해서 앞의 레이어만 가져옴\n",
    "    model_layers = model.layers[:-num_layers_to_remove]  # 마지막 레이어부터 지정된 갯수만큼 제외\n",
    "    new_model = models.Sequential(model_layers)  # 새로운 모델에 해당 레이어들만 추가\n",
    "    return new_model"
   ]
  },
  {
   "cell_type": "code",
   "execution_count": 85,
   "id": "cb4d8861-fff2-4864-83dc-f5dc09c472c5",
   "metadata": {},
   "outputs": [],
   "source": [
    "# 출력층부터 1개의 레이어를 삭제\n",
    "new_model = remove_last_layers(base_model, 3)"
   ]
  },
  {
   "cell_type": "code",
   "execution_count": 87,
   "id": "a86fbf54-b029-40fe-b939-c59e4d41540b",
   "metadata": {},
   "outputs": [
    {
     "data": {
      "text/html": [
       "<pre style=\"white-space:pre;overflow-x:auto;line-height:normal;font-family:Menlo,'DejaVu Sans Mono',consolas,'Courier New',monospace\"><span style=\"font-weight: bold\">Model: \"sequential_1\"</span>\n",
       "</pre>\n"
      ],
      "text/plain": [
       "\u001b[1mModel: \"sequential_1\"\u001b[0m\n"
      ]
     },
     "metadata": {},
     "output_type": "display_data"
    },
    {
     "data": {
      "text/html": [
       "<pre style=\"white-space:pre;overflow-x:auto;line-height:normal;font-family:Menlo,'DejaVu Sans Mono',consolas,'Courier New',monospace\">┏━━━━━━━━━━━━━━━━━━━━━━━━━━━━━━━━━━━━━━┳━━━━━━━━━━━━━━━━━━━━━━━━━━━━━┳━━━━━━━━━━━━━━━━━┓\n",
       "┃<span style=\"font-weight: bold\"> Layer (type)                         </span>┃<span style=\"font-weight: bold\"> Output Shape                </span>┃<span style=\"font-weight: bold\">         Param # </span>┃\n",
       "┡━━━━━━━━━━━━━━━━━━━━━━━━━━━━━━━━━━━━━━╇━━━━━━━━━━━━━━━━━━━━━━━━━━━━━╇━━━━━━━━━━━━━━━━━┩\n",
       "│ conv1d (<span style=\"color: #0087ff; text-decoration-color: #0087ff\">Conv1D</span>)                      │ (<span style=\"color: #00d7ff; text-decoration-color: #00d7ff\">None</span>, <span style=\"color: #00af00; text-decoration-color: #00af00\">8</span>, <span style=\"color: #00af00; text-decoration-color: #00af00\">32</span>)               │             <span style=\"color: #00af00; text-decoration-color: #00af00\">128</span> │\n",
       "├──────────────────────────────────────┼─────────────────────────────┼─────────────────┤\n",
       "│ max_pooling1d (<span style=\"color: #0087ff; text-decoration-color: #0087ff\">MaxPooling1D</span>)         │ (<span style=\"color: #00d7ff; text-decoration-color: #00d7ff\">None</span>, <span style=\"color: #00af00; text-decoration-color: #00af00\">4</span>, <span style=\"color: #00af00; text-decoration-color: #00af00\">32</span>)               │               <span style=\"color: #00af00; text-decoration-color: #00af00\">0</span> │\n",
       "└──────────────────────────────────────┴─────────────────────────────┴─────────────────┘\n",
       "</pre>\n"
      ],
      "text/plain": [
       "┏━━━━━━━━━━━━━━━━━━━━━━━━━━━━━━━━━━━━━━┳━━━━━━━━━━━━━━━━━━━━━━━━━━━━━┳━━━━━━━━━━━━━━━━━┓\n",
       "┃\u001b[1m \u001b[0m\u001b[1mLayer (type)                        \u001b[0m\u001b[1m \u001b[0m┃\u001b[1m \u001b[0m\u001b[1mOutput Shape               \u001b[0m\u001b[1m \u001b[0m┃\u001b[1m \u001b[0m\u001b[1m        Param #\u001b[0m\u001b[1m \u001b[0m┃\n",
       "┡━━━━━━━━━━━━━━━━━━━━━━━━━━━━━━━━━━━━━━╇━━━━━━━━━━━━━━━━━━━━━━━━━━━━━╇━━━━━━━━━━━━━━━━━┩\n",
       "│ conv1d (\u001b[38;5;33mConv1D\u001b[0m)                      │ (\u001b[38;5;45mNone\u001b[0m, \u001b[38;5;34m8\u001b[0m, \u001b[38;5;34m32\u001b[0m)               │             \u001b[38;5;34m128\u001b[0m │\n",
       "├──────────────────────────────────────┼─────────────────────────────┼─────────────────┤\n",
       "│ max_pooling1d (\u001b[38;5;33mMaxPooling1D\u001b[0m)         │ (\u001b[38;5;45mNone\u001b[0m, \u001b[38;5;34m4\u001b[0m, \u001b[38;5;34m32\u001b[0m)               │               \u001b[38;5;34m0\u001b[0m │\n",
       "└──────────────────────────────────────┴─────────────────────────────┴─────────────────┘\n"
      ]
     },
     "metadata": {},
     "output_type": "display_data"
    },
    {
     "data": {
      "text/html": [
       "<pre style=\"white-space:pre;overflow-x:auto;line-height:normal;font-family:Menlo,'DejaVu Sans Mono',consolas,'Courier New',monospace\"><span style=\"font-weight: bold\"> Total params: </span><span style=\"color: #00af00; text-decoration-color: #00af00\">128</span> (512.00 B)\n",
       "</pre>\n"
      ],
      "text/plain": [
       "\u001b[1m Total params: \u001b[0m\u001b[38;5;34m128\u001b[0m (512.00 B)\n"
      ]
     },
     "metadata": {},
     "output_type": "display_data"
    },
    {
     "data": {
      "text/html": [
       "<pre style=\"white-space:pre;overflow-x:auto;line-height:normal;font-family:Menlo,'DejaVu Sans Mono',consolas,'Courier New',monospace\"><span style=\"font-weight: bold\"> Trainable params: </span><span style=\"color: #00af00; text-decoration-color: #00af00\">128</span> (512.00 B)\n",
       "</pre>\n"
      ],
      "text/plain": [
       "\u001b[1m Trainable params: \u001b[0m\u001b[38;5;34m128\u001b[0m (512.00 B)\n"
      ]
     },
     "metadata": {},
     "output_type": "display_data"
    },
    {
     "data": {
      "text/html": [
       "<pre style=\"white-space:pre;overflow-x:auto;line-height:normal;font-family:Menlo,'DejaVu Sans Mono',consolas,'Courier New',monospace\"><span style=\"font-weight: bold\"> Non-trainable params: </span><span style=\"color: #00af00; text-decoration-color: #00af00\">0</span> (0.00 B)\n",
       "</pre>\n"
      ],
      "text/plain": [
       "\u001b[1m Non-trainable params: \u001b[0m\u001b[38;5;34m0\u001b[0m (0.00 B)\n"
      ]
     },
     "metadata": {},
     "output_type": "display_data"
    }
   ],
   "source": [
    "new_model.summary()"
   ]
  },
  {
   "cell_type": "code",
   "execution_count": 89,
   "id": "01bf477a-6a30-45a4-b45c-bbf34e42cd8e",
   "metadata": {},
   "outputs": [],
   "source": [
    "# 새로운 층으로 Conv1D 층과 Dense층 추가하고 출력층 추가\n",
    "\n",
    "new_model.add(Conv1D(64,kernel_size=3,activation='relu'))\n",
    "new_model.add(MaxPooling1D(pool_size=2))\n",
    "new_model.add(Flatten())\n",
    "new_model.add(Dense(64,activation='relu'))\n",
    "new_model.add(Dense(3,activation='softmax'))"
   ]
  },
  {
   "cell_type": "code",
   "execution_count": 91,
   "id": "1dfadfcd-c760-461f-9f74-00fec54ef433",
   "metadata": {},
   "outputs": [
    {
     "data": {
      "text/html": [
       "<pre style=\"white-space:pre;overflow-x:auto;line-height:normal;font-family:Menlo,'DejaVu Sans Mono',consolas,'Courier New',monospace\"><span style=\"font-weight: bold\">Model: \"sequential_1\"</span>\n",
       "</pre>\n"
      ],
      "text/plain": [
       "\u001b[1mModel: \"sequential_1\"\u001b[0m\n"
      ]
     },
     "metadata": {},
     "output_type": "display_data"
    },
    {
     "data": {
      "text/html": [
       "<pre style=\"white-space:pre;overflow-x:auto;line-height:normal;font-family:Menlo,'DejaVu Sans Mono',consolas,'Courier New',monospace\">┏━━━━━━━━━━━━━━━━━━━━━━━━━━━━━━━━━━━━━━┳━━━━━━━━━━━━━━━━━━━━━━━━━━━━━┳━━━━━━━━━━━━━━━━━┓\n",
       "┃<span style=\"font-weight: bold\"> Layer (type)                         </span>┃<span style=\"font-weight: bold\"> Output Shape                </span>┃<span style=\"font-weight: bold\">         Param # </span>┃\n",
       "┡━━━━━━━━━━━━━━━━━━━━━━━━━━━━━━━━━━━━━━╇━━━━━━━━━━━━━━━━━━━━━━━━━━━━━╇━━━━━━━━━━━━━━━━━┩\n",
       "│ conv1d (<span style=\"color: #0087ff; text-decoration-color: #0087ff\">Conv1D</span>)                      │ (<span style=\"color: #00d7ff; text-decoration-color: #00d7ff\">None</span>, <span style=\"color: #00af00; text-decoration-color: #00af00\">8</span>, <span style=\"color: #00af00; text-decoration-color: #00af00\">32</span>)               │             <span style=\"color: #00af00; text-decoration-color: #00af00\">128</span> │\n",
       "├──────────────────────────────────────┼─────────────────────────────┼─────────────────┤\n",
       "│ max_pooling1d (<span style=\"color: #0087ff; text-decoration-color: #0087ff\">MaxPooling1D</span>)         │ (<span style=\"color: #00d7ff; text-decoration-color: #00d7ff\">None</span>, <span style=\"color: #00af00; text-decoration-color: #00af00\">4</span>, <span style=\"color: #00af00; text-decoration-color: #00af00\">32</span>)               │               <span style=\"color: #00af00; text-decoration-color: #00af00\">0</span> │\n",
       "├──────────────────────────────────────┼─────────────────────────────┼─────────────────┤\n",
       "│ conv1d_1 (<span style=\"color: #0087ff; text-decoration-color: #0087ff\">Conv1D</span>)                    │ ?                           │     <span style=\"color: #00af00; text-decoration-color: #00af00\">0</span> (unbuilt) │\n",
       "├──────────────────────────────────────┼─────────────────────────────┼─────────────────┤\n",
       "│ max_pooling1d_1 (<span style=\"color: #0087ff; text-decoration-color: #0087ff\">MaxPooling1D</span>)       │ ?                           │     <span style=\"color: #00af00; text-decoration-color: #00af00\">0</span> (unbuilt) │\n",
       "├──────────────────────────────────────┼─────────────────────────────┼─────────────────┤\n",
       "│ flatten_1 (<span style=\"color: #0087ff; text-decoration-color: #0087ff\">Flatten</span>)                  │ ?                           │     <span style=\"color: #00af00; text-decoration-color: #00af00\">0</span> (unbuilt) │\n",
       "├──────────────────────────────────────┼─────────────────────────────┼─────────────────┤\n",
       "│ dense_2 (<span style=\"color: #0087ff; text-decoration-color: #0087ff\">Dense</span>)                      │ ?                           │     <span style=\"color: #00af00; text-decoration-color: #00af00\">0</span> (unbuilt) │\n",
       "├──────────────────────────────────────┼─────────────────────────────┼─────────────────┤\n",
       "│ dense_3 (<span style=\"color: #0087ff; text-decoration-color: #0087ff\">Dense</span>)                      │ ?                           │     <span style=\"color: #00af00; text-decoration-color: #00af00\">0</span> (unbuilt) │\n",
       "└──────────────────────────────────────┴─────────────────────────────┴─────────────────┘\n",
       "</pre>\n"
      ],
      "text/plain": [
       "┏━━━━━━━━━━━━━━━━━━━━━━━━━━━━━━━━━━━━━━┳━━━━━━━━━━━━━━━━━━━━━━━━━━━━━┳━━━━━━━━━━━━━━━━━┓\n",
       "┃\u001b[1m \u001b[0m\u001b[1mLayer (type)                        \u001b[0m\u001b[1m \u001b[0m┃\u001b[1m \u001b[0m\u001b[1mOutput Shape               \u001b[0m\u001b[1m \u001b[0m┃\u001b[1m \u001b[0m\u001b[1m        Param #\u001b[0m\u001b[1m \u001b[0m┃\n",
       "┡━━━━━━━━━━━━━━━━━━━━━━━━━━━━━━━━━━━━━━╇━━━━━━━━━━━━━━━━━━━━━━━━━━━━━╇━━━━━━━━━━━━━━━━━┩\n",
       "│ conv1d (\u001b[38;5;33mConv1D\u001b[0m)                      │ (\u001b[38;5;45mNone\u001b[0m, \u001b[38;5;34m8\u001b[0m, \u001b[38;5;34m32\u001b[0m)               │             \u001b[38;5;34m128\u001b[0m │\n",
       "├──────────────────────────────────────┼─────────────────────────────┼─────────────────┤\n",
       "│ max_pooling1d (\u001b[38;5;33mMaxPooling1D\u001b[0m)         │ (\u001b[38;5;45mNone\u001b[0m, \u001b[38;5;34m4\u001b[0m, \u001b[38;5;34m32\u001b[0m)               │               \u001b[38;5;34m0\u001b[0m │\n",
       "├──────────────────────────────────────┼─────────────────────────────┼─────────────────┤\n",
       "│ conv1d_1 (\u001b[38;5;33mConv1D\u001b[0m)                    │ ?                           │     \u001b[38;5;34m0\u001b[0m (unbuilt) │\n",
       "├──────────────────────────────────────┼─────────────────────────────┼─────────────────┤\n",
       "│ max_pooling1d_1 (\u001b[38;5;33mMaxPooling1D\u001b[0m)       │ ?                           │     \u001b[38;5;34m0\u001b[0m (unbuilt) │\n",
       "├──────────────────────────────────────┼─────────────────────────────┼─────────────────┤\n",
       "│ flatten_1 (\u001b[38;5;33mFlatten\u001b[0m)                  │ ?                           │     \u001b[38;5;34m0\u001b[0m (unbuilt) │\n",
       "├──────────────────────────────────────┼─────────────────────────────┼─────────────────┤\n",
       "│ dense_2 (\u001b[38;5;33mDense\u001b[0m)                      │ ?                           │     \u001b[38;5;34m0\u001b[0m (unbuilt) │\n",
       "├──────────────────────────────────────┼─────────────────────────────┼─────────────────┤\n",
       "│ dense_3 (\u001b[38;5;33mDense\u001b[0m)                      │ ?                           │     \u001b[38;5;34m0\u001b[0m (unbuilt) │\n",
       "└──────────────────────────────────────┴─────────────────────────────┴─────────────────┘\n"
      ]
     },
     "metadata": {},
     "output_type": "display_data"
    },
    {
     "data": {
      "text/html": [
       "<pre style=\"white-space:pre;overflow-x:auto;line-height:normal;font-family:Menlo,'DejaVu Sans Mono',consolas,'Courier New',monospace\"><span style=\"font-weight: bold\"> Total params: </span><span style=\"color: #00af00; text-decoration-color: #00af00\">128</span> (512.00 B)\n",
       "</pre>\n"
      ],
      "text/plain": [
       "\u001b[1m Total params: \u001b[0m\u001b[38;5;34m128\u001b[0m (512.00 B)\n"
      ]
     },
     "metadata": {},
     "output_type": "display_data"
    },
    {
     "data": {
      "text/html": [
       "<pre style=\"white-space:pre;overflow-x:auto;line-height:normal;font-family:Menlo,'DejaVu Sans Mono',consolas,'Courier New',monospace\"><span style=\"font-weight: bold\"> Trainable params: </span><span style=\"color: #00af00; text-decoration-color: #00af00\">128</span> (512.00 B)\n",
       "</pre>\n"
      ],
      "text/plain": [
       "\u001b[1m Trainable params: \u001b[0m\u001b[38;5;34m128\u001b[0m (512.00 B)\n"
      ]
     },
     "metadata": {},
     "output_type": "display_data"
    },
    {
     "data": {
      "text/html": [
       "<pre style=\"white-space:pre;overflow-x:auto;line-height:normal;font-family:Menlo,'DejaVu Sans Mono',consolas,'Courier New',monospace\"><span style=\"font-weight: bold\"> Non-trainable params: </span><span style=\"color: #00af00; text-decoration-color: #00af00\">0</span> (0.00 B)\n",
       "</pre>\n"
      ],
      "text/plain": [
       "\u001b[1m Non-trainable params: \u001b[0m\u001b[38;5;34m0\u001b[0m (0.00 B)\n"
      ]
     },
     "metadata": {},
     "output_type": "display_data"
    }
   ],
   "source": [
    "new_model.compile(optimizer='adam',loss='sparse_categorical_crossentropy',metrics=['accuracy'])\n",
    "new_model.summary()"
   ]
  },
  {
   "cell_type": "code",
   "execution_count": 93,
   "id": "9727f973-46de-4f77-ac2b-0a7006421641",
   "metadata": {},
   "outputs": [
    {
     "name": "stdout",
     "output_type": "stream",
     "text": [
      "Epoch 1/100\n",
      "\u001b[1m105/105\u001b[0m \u001b[32m━━━━━━━━━━━━━━━━━━━━\u001b[0m\u001b[37m\u001b[0m \u001b[1m5s\u001b[0m 10ms/step - accuracy: 0.7039 - loss: 0.7336 - val_accuracy: 0.7368 - val_loss: 0.6127\n",
      "Epoch 2/100\n",
      "\u001b[1m105/105\u001b[0m \u001b[32m━━━━━━━━━━━━━━━━━━━━\u001b[0m\u001b[37m\u001b[0m \u001b[1m1s\u001b[0m 5ms/step - accuracy: 0.7602 - loss: 0.5793 - val_accuracy: 0.7560 - val_loss: 0.5791\n",
      "Epoch 3/100\n",
      "\u001b[1m105/105\u001b[0m \u001b[32m━━━━━━━━━━━━━━━━━━━━\u001b[0m\u001b[37m\u001b[0m \u001b[1m1s\u001b[0m 5ms/step - accuracy: 0.7772 - loss: 0.5568 - val_accuracy: 0.7476 - val_loss: 0.5796\n",
      "Epoch 4/100\n",
      "\u001b[1m105/105\u001b[0m \u001b[32m━━━━━━━━━━━━━━━━━━━━\u001b[0m\u001b[37m\u001b[0m \u001b[1m1s\u001b[0m 5ms/step - accuracy: 0.7713 - loss: 0.5455 - val_accuracy: 0.7632 - val_loss: 0.5575\n",
      "Epoch 5/100\n",
      "\u001b[1m105/105\u001b[0m \u001b[32m━━━━━━━━━━━━━━━━━━━━\u001b[0m\u001b[37m\u001b[0m \u001b[1m1s\u001b[0m 5ms/step - accuracy: 0.7860 - loss: 0.5267 - val_accuracy: 0.7548 - val_loss: 0.5547\n",
      "Epoch 6/100\n",
      "\u001b[1m105/105\u001b[0m \u001b[32m━━━━━━━━━━━━━━━━━━━━\u001b[0m\u001b[37m\u001b[0m \u001b[1m1s\u001b[0m 5ms/step - accuracy: 0.7748 - loss: 0.5344 - val_accuracy: 0.7691 - val_loss: 0.5552\n",
      "Epoch 7/100\n",
      "\u001b[1m105/105\u001b[0m \u001b[32m━━━━━━━━━━━━━━━━━━━━\u001b[0m\u001b[37m\u001b[0m \u001b[1m1s\u001b[0m 6ms/step - accuracy: 0.7777 - loss: 0.5287 - val_accuracy: 0.7644 - val_loss: 0.5447\n",
      "Epoch 8/100\n",
      "\u001b[1m105/105\u001b[0m \u001b[32m━━━━━━━━━━━━━━━━━━━━\u001b[0m\u001b[37m\u001b[0m \u001b[1m1s\u001b[0m 5ms/step - accuracy: 0.7877 - loss: 0.5097 - val_accuracy: 0.7703 - val_loss: 0.5539\n",
      "Epoch 9/100\n",
      "\u001b[1m105/105\u001b[0m \u001b[32m━━━━━━━━━━━━━━━━━━━━\u001b[0m\u001b[37m\u001b[0m \u001b[1m1s\u001b[0m 5ms/step - accuracy: 0.7789 - loss: 0.5249 - val_accuracy: 0.7632 - val_loss: 0.5394\n",
      "Epoch 10/100\n",
      "\u001b[1m105/105\u001b[0m \u001b[32m━━━━━━━━━━━━━━━━━━━━\u001b[0m\u001b[37m\u001b[0m \u001b[1m1s\u001b[0m 5ms/step - accuracy: 0.7983 - loss: 0.5111 - val_accuracy: 0.7763 - val_loss: 0.5510\n",
      "Epoch 11/100\n",
      "\u001b[1m105/105\u001b[0m \u001b[32m━━━━━━━━━━━━━━━━━━━━\u001b[0m\u001b[37m\u001b[0m \u001b[1m1s\u001b[0m 5ms/step - accuracy: 0.7805 - loss: 0.5158 - val_accuracy: 0.7644 - val_loss: 0.5386\n",
      "Epoch 12/100\n",
      "\u001b[1m105/105\u001b[0m \u001b[32m━━━━━━━━━━━━━━━━━━━━\u001b[0m\u001b[37m\u001b[0m \u001b[1m1s\u001b[0m 5ms/step - accuracy: 0.7967 - loss: 0.4956 - val_accuracy: 0.7644 - val_loss: 0.5494\n",
      "Epoch 13/100\n",
      "\u001b[1m105/105\u001b[0m \u001b[32m━━━━━━━━━━━━━━━━━━━━\u001b[0m\u001b[37m\u001b[0m \u001b[1m1s\u001b[0m 6ms/step - accuracy: 0.7864 - loss: 0.5088 - val_accuracy: 0.7512 - val_loss: 0.5355\n",
      "Epoch 14/100\n",
      "\u001b[1m105/105\u001b[0m \u001b[32m━━━━━━━━━━━━━━━━━━━━\u001b[0m\u001b[37m\u001b[0m \u001b[1m1s\u001b[0m 5ms/step - accuracy: 0.7999 - loss: 0.4929 - val_accuracy: 0.7667 - val_loss: 0.5390\n",
      "Epoch 15/100\n",
      "\u001b[1m105/105\u001b[0m \u001b[32m━━━━━━━━━━━━━━━━━━━━\u001b[0m\u001b[37m\u001b[0m \u001b[1m1s\u001b[0m 5ms/step - accuracy: 0.7882 - loss: 0.5026 - val_accuracy: 0.7739 - val_loss: 0.5375\n",
      "Epoch 16/100\n",
      "\u001b[1m105/105\u001b[0m \u001b[32m━━━━━━━━━━━━━━━━━━━━\u001b[0m\u001b[37m\u001b[0m \u001b[1m1s\u001b[0m 6ms/step - accuracy: 0.8006 - loss: 0.4897 - val_accuracy: 0.7667 - val_loss: 0.5303\n",
      "Epoch 17/100\n",
      "\u001b[1m105/105\u001b[0m \u001b[32m━━━━━━━━━━━━━━━━━━━━\u001b[0m\u001b[37m\u001b[0m \u001b[1m1s\u001b[0m 5ms/step - accuracy: 0.8055 - loss: 0.4836 - val_accuracy: 0.7763 - val_loss: 0.5320\n",
      "Epoch 18/100\n",
      "\u001b[1m105/105\u001b[0m \u001b[32m━━━━━━━━━━━━━━━━━━━━\u001b[0m\u001b[37m\u001b[0m \u001b[1m1s\u001b[0m 5ms/step - accuracy: 0.8052 - loss: 0.4714 - val_accuracy: 0.7536 - val_loss: 0.5442\n",
      "Epoch 19/100\n",
      "\u001b[1m105/105\u001b[0m \u001b[32m━━━━━━━━━━━━━━━━━━━━\u001b[0m\u001b[37m\u001b[0m \u001b[1m1s\u001b[0m 5ms/step - accuracy: 0.7865 - loss: 0.5047 - val_accuracy: 0.7739 - val_loss: 0.5377\n",
      "Epoch 20/100\n",
      "\u001b[1m105/105\u001b[0m \u001b[32m━━━━━━━━━━━━━━━━━━━━\u001b[0m\u001b[37m\u001b[0m \u001b[1m1s\u001b[0m 5ms/step - accuracy: 0.8046 - loss: 0.4804 - val_accuracy: 0.7608 - val_loss: 0.5372\n",
      "Epoch 21/100\n",
      "\u001b[1m105/105\u001b[0m \u001b[32m━━━━━━━━━━━━━━━━━━━━\u001b[0m\u001b[37m\u001b[0m \u001b[1m1s\u001b[0m 5ms/step - accuracy: 0.7996 - loss: 0.4913 - val_accuracy: 0.7751 - val_loss: 0.5282\n",
      "Epoch 22/100\n",
      "\u001b[1m105/105\u001b[0m \u001b[32m━━━━━━━━━━━━━━━━━━━━\u001b[0m\u001b[37m\u001b[0m \u001b[1m1s\u001b[0m 5ms/step - accuracy: 0.8034 - loss: 0.4741 - val_accuracy: 0.7620 - val_loss: 0.5277\n",
      "Epoch 23/100\n",
      "\u001b[1m105/105\u001b[0m \u001b[32m━━━━━━━━━━━━━━━━━━━━\u001b[0m\u001b[37m\u001b[0m \u001b[1m1s\u001b[0m 5ms/step - accuracy: 0.7994 - loss: 0.4920 - val_accuracy: 0.7679 - val_loss: 0.5435\n",
      "Epoch 24/100\n",
      "\u001b[1m105/105\u001b[0m \u001b[32m━━━━━━━━━━━━━━━━━━━━\u001b[0m\u001b[37m\u001b[0m \u001b[1m1s\u001b[0m 5ms/step - accuracy: 0.7928 - loss: 0.4986 - val_accuracy: 0.7847 - val_loss: 0.5266\n",
      "Epoch 25/100\n",
      "\u001b[1m105/105\u001b[0m \u001b[32m━━━━━━━━━━━━━━━━━━━━\u001b[0m\u001b[37m\u001b[0m \u001b[1m1s\u001b[0m 5ms/step - accuracy: 0.8059 - loss: 0.4660 - val_accuracy: 0.7835 - val_loss: 0.5353\n",
      "Epoch 26/100\n",
      "\u001b[1m105/105\u001b[0m \u001b[32m━━━━━━━━━━━━━━━━━━━━\u001b[0m\u001b[37m\u001b[0m \u001b[1m1s\u001b[0m 5ms/step - accuracy: 0.8140 - loss: 0.4498 - val_accuracy: 0.7823 - val_loss: 0.5307\n",
      "Epoch 27/100\n",
      "\u001b[1m105/105\u001b[0m \u001b[32m━━━━━━━━━━━━━━━━━━━━\u001b[0m\u001b[37m\u001b[0m \u001b[1m1s\u001b[0m 5ms/step - accuracy: 0.8078 - loss: 0.4734 - val_accuracy: 0.7632 - val_loss: 0.5288\n",
      "Epoch 28/100\n",
      "\u001b[1m105/105\u001b[0m \u001b[32m━━━━━━━━━━━━━━━━━━━━\u001b[0m\u001b[37m\u001b[0m \u001b[1m1s\u001b[0m 5ms/step - accuracy: 0.8086 - loss: 0.4829 - val_accuracy: 0.7691 - val_loss: 0.5241\n",
      "Epoch 29/100\n",
      "\u001b[1m105/105\u001b[0m \u001b[32m━━━━━━━━━━━━━━━━━━━━\u001b[0m\u001b[37m\u001b[0m \u001b[1m1s\u001b[0m 5ms/step - accuracy: 0.8033 - loss: 0.4754 - val_accuracy: 0.7667 - val_loss: 0.5329\n",
      "Epoch 30/100\n",
      "\u001b[1m105/105\u001b[0m \u001b[32m━━━━━━━━━━━━━━━━━━━━\u001b[0m\u001b[37m\u001b[0m \u001b[1m1s\u001b[0m 6ms/step - accuracy: 0.8042 - loss: 0.4533 - val_accuracy: 0.7811 - val_loss: 0.5422\n",
      "Epoch 31/100\n",
      "\u001b[1m105/105\u001b[0m \u001b[32m━━━━━━━━━━━━━━━━━━━━\u001b[0m\u001b[37m\u001b[0m \u001b[1m1s\u001b[0m 5ms/step - accuracy: 0.7863 - loss: 0.4940 - val_accuracy: 0.7847 - val_loss: 0.5627\n",
      "Epoch 32/100\n",
      "\u001b[1m105/105\u001b[0m \u001b[32m━━━━━━━━━━━━━━━━━━━━\u001b[0m\u001b[37m\u001b[0m \u001b[1m1s\u001b[0m 5ms/step - accuracy: 0.8034 - loss: 0.4748 - val_accuracy: 0.7620 - val_loss: 0.5400\n",
      "Epoch 33/100\n",
      "\u001b[1m105/105\u001b[0m \u001b[32m━━━━━━━━━━━━━━━━━━━━\u001b[0m\u001b[37m\u001b[0m \u001b[1m1s\u001b[0m 5ms/step - accuracy: 0.8009 - loss: 0.4804 - val_accuracy: 0.7763 - val_loss: 0.5348\n",
      "Epoch 34/100\n",
      "\u001b[1m105/105\u001b[0m \u001b[32m━━━━━━━━━━━━━━━━━━━━\u001b[0m\u001b[37m\u001b[0m \u001b[1m1s\u001b[0m 5ms/step - accuracy: 0.7904 - loss: 0.4796 - val_accuracy: 0.7823 - val_loss: 0.5291\n",
      "Epoch 35/100\n",
      "\u001b[1m105/105\u001b[0m \u001b[32m━━━━━━━━━━━━━━━━━━━━\u001b[0m\u001b[37m\u001b[0m \u001b[1m1s\u001b[0m 5ms/step - accuracy: 0.8080 - loss: 0.4722 - val_accuracy: 0.7679 - val_loss: 0.5288\n",
      "Epoch 36/100\n",
      "\u001b[1m105/105\u001b[0m \u001b[32m━━━━━━━━━━━━━━━━━━━━\u001b[0m\u001b[37m\u001b[0m \u001b[1m1s\u001b[0m 5ms/step - accuracy: 0.8056 - loss: 0.4688 - val_accuracy: 0.7787 - val_loss: 0.5321\n",
      "Epoch 37/100\n",
      "\u001b[1m105/105\u001b[0m \u001b[32m━━━━━━━━━━━━━━━━━━━━\u001b[0m\u001b[37m\u001b[0m \u001b[1m1s\u001b[0m 5ms/step - accuracy: 0.7902 - loss: 0.4810 - val_accuracy: 0.7823 - val_loss: 0.5312\n",
      "Epoch 38/100\n",
      "\u001b[1m105/105\u001b[0m \u001b[32m━━━━━━━━━━━━━━━━━━━━\u001b[0m\u001b[37m\u001b[0m \u001b[1m1s\u001b[0m 5ms/step - accuracy: 0.8041 - loss: 0.4747 - val_accuracy: 0.7691 - val_loss: 0.5296\n",
      "Epoch 39/100\n",
      "\u001b[1m105/105\u001b[0m \u001b[32m━━━━━━━━━━━━━━━━━━━━\u001b[0m\u001b[37m\u001b[0m \u001b[1m1s\u001b[0m 5ms/step - accuracy: 0.7955 - loss: 0.4700 - val_accuracy: 0.7799 - val_loss: 0.5281\n",
      "Epoch 40/100\n",
      "\u001b[1m105/105\u001b[0m \u001b[32m━━━━━━━━━━━━━━━━━━━━\u001b[0m\u001b[37m\u001b[0m \u001b[1m1s\u001b[0m 5ms/step - accuracy: 0.8031 - loss: 0.4586 - val_accuracy: 0.7739 - val_loss: 0.5444\n",
      "Epoch 41/100\n",
      "\u001b[1m105/105\u001b[0m \u001b[32m━━━━━━━━━━━━━━━━━━━━\u001b[0m\u001b[37m\u001b[0m \u001b[1m1s\u001b[0m 5ms/step - accuracy: 0.8055 - loss: 0.4674 - val_accuracy: 0.7799 - val_loss: 0.5428\n",
      "Epoch 42/100\n",
      "\u001b[1m105/105\u001b[0m \u001b[32m━━━━━━━━━━━━━━━━━━━━\u001b[0m\u001b[37m\u001b[0m \u001b[1m1s\u001b[0m 5ms/step - accuracy: 0.7964 - loss: 0.4690 - val_accuracy: 0.7835 - val_loss: 0.5352\n",
      "Epoch 43/100\n",
      "\u001b[1m105/105\u001b[0m \u001b[32m━━━━━━━━━━━━━━━━━━━━\u001b[0m\u001b[37m\u001b[0m \u001b[1m1s\u001b[0m 4ms/step - accuracy: 0.8008 - loss: 0.4604 - val_accuracy: 0.7667 - val_loss: 0.5385\n",
      "Epoch 44/100\n",
      "\u001b[1m105/105\u001b[0m \u001b[32m━━━━━━━━━━━━━━━━━━━━\u001b[0m\u001b[37m\u001b[0m \u001b[1m1s\u001b[0m 5ms/step - accuracy: 0.8022 - loss: 0.4563 - val_accuracy: 0.7787 - val_loss: 0.5343\n",
      "Epoch 45/100\n",
      "\u001b[1m105/105\u001b[0m \u001b[32m━━━━━━━━━━━━━━━━━━━━\u001b[0m\u001b[37m\u001b[0m \u001b[1m1s\u001b[0m 5ms/step - accuracy: 0.8017 - loss: 0.4774 - val_accuracy: 0.7727 - val_loss: 0.5462\n",
      "Epoch 46/100\n",
      "\u001b[1m105/105\u001b[0m \u001b[32m━━━━━━━━━━━━━━━━━━━━\u001b[0m\u001b[37m\u001b[0m \u001b[1m1s\u001b[0m 5ms/step - accuracy: 0.8169 - loss: 0.4503 - val_accuracy: 0.7727 - val_loss: 0.5422\n",
      "Epoch 47/100\n",
      "\u001b[1m105/105\u001b[0m \u001b[32m━━━━━━━━━━━━━━━━━━━━\u001b[0m\u001b[37m\u001b[0m \u001b[1m1s\u001b[0m 5ms/step - accuracy: 0.8007 - loss: 0.4643 - val_accuracy: 0.7656 - val_loss: 0.5407\n",
      "Epoch 48/100\n",
      "\u001b[1m105/105\u001b[0m \u001b[32m━━━━━━━━━━━━━━━━━━━━\u001b[0m\u001b[37m\u001b[0m \u001b[1m1s\u001b[0m 5ms/step - accuracy: 0.8124 - loss: 0.4381 - val_accuracy: 0.7811 - val_loss: 0.5494\n",
      "Epoch 49/100\n",
      "\u001b[1m105/105\u001b[0m \u001b[32m━━━━━━━━━━━━━━━━━━━━\u001b[0m\u001b[37m\u001b[0m \u001b[1m1s\u001b[0m 5ms/step - accuracy: 0.8091 - loss: 0.4457 - val_accuracy: 0.7775 - val_loss: 0.5427\n",
      "Epoch 50/100\n",
      "\u001b[1m105/105\u001b[0m \u001b[32m━━━━━━━━━━━━━━━━━━━━\u001b[0m\u001b[37m\u001b[0m \u001b[1m1s\u001b[0m 5ms/step - accuracy: 0.8054 - loss: 0.4384 - val_accuracy: 0.7691 - val_loss: 0.5376\n",
      "Epoch 51/100\n",
      "\u001b[1m105/105\u001b[0m \u001b[32m━━━━━━━━━━━━━━━━━━━━\u001b[0m\u001b[37m\u001b[0m \u001b[1m1s\u001b[0m 5ms/step - accuracy: 0.8140 - loss: 0.4335 - val_accuracy: 0.7763 - val_loss: 0.5537\n",
      "Epoch 52/100\n",
      "\u001b[1m105/105\u001b[0m \u001b[32m━━━━━━━━━━━━━━━━━━━━\u001b[0m\u001b[37m\u001b[0m \u001b[1m1s\u001b[0m 5ms/step - accuracy: 0.8085 - loss: 0.4482 - val_accuracy: 0.7775 - val_loss: 0.5568\n",
      "Epoch 53/100\n",
      "\u001b[1m105/105\u001b[0m \u001b[32m━━━━━━━━━━━━━━━━━━━━\u001b[0m\u001b[37m\u001b[0m \u001b[1m1s\u001b[0m 5ms/step - accuracy: 0.8211 - loss: 0.4436 - val_accuracy: 0.7787 - val_loss: 0.5575\n",
      "Epoch 54/100\n",
      "\u001b[1m105/105\u001b[0m \u001b[32m━━━━━━━━━━━━━━━━━━━━\u001b[0m\u001b[37m\u001b[0m \u001b[1m1s\u001b[0m 5ms/step - accuracy: 0.7999 - loss: 0.4526 - val_accuracy: 0.7799 - val_loss: 0.5428\n",
      "Epoch 55/100\n",
      "\u001b[1m105/105\u001b[0m \u001b[32m━━━━━━━━━━━━━━━━━━━━\u001b[0m\u001b[37m\u001b[0m \u001b[1m1s\u001b[0m 5ms/step - accuracy: 0.8213 - loss: 0.4484 - val_accuracy: 0.7620 - val_loss: 0.5511\n",
      "Epoch 56/100\n",
      "\u001b[1m105/105\u001b[0m \u001b[32m━━━━━━━━━━━━━━━━━━━━\u001b[0m\u001b[37m\u001b[0m \u001b[1m1s\u001b[0m 5ms/step - accuracy: 0.8076 - loss: 0.4457 - val_accuracy: 0.7763 - val_loss: 0.5554\n",
      "Epoch 57/100\n",
      "\u001b[1m105/105\u001b[0m \u001b[32m━━━━━━━━━━━━━━━━━━━━\u001b[0m\u001b[37m\u001b[0m \u001b[1m1s\u001b[0m 5ms/step - accuracy: 0.8117 - loss: 0.4593 - val_accuracy: 0.7667 - val_loss: 0.5476\n",
      "Epoch 58/100\n",
      "\u001b[1m105/105\u001b[0m \u001b[32m━━━━━━━━━━━━━━━━━━━━\u001b[0m\u001b[37m\u001b[0m \u001b[1m1s\u001b[0m 5ms/step - accuracy: 0.8099 - loss: 0.4352 - val_accuracy: 0.7799 - val_loss: 0.5552\n",
      "Epoch 59/100\n",
      "\u001b[1m105/105\u001b[0m \u001b[32m━━━━━━━━━━━━━━━━━━━━\u001b[0m\u001b[37m\u001b[0m \u001b[1m1s\u001b[0m 6ms/step - accuracy: 0.8179 - loss: 0.4328 - val_accuracy: 0.7691 - val_loss: 0.5491\n",
      "Epoch 60/100\n",
      "\u001b[1m105/105\u001b[0m \u001b[32m━━━━━━━━━━━━━━━━━━━━\u001b[0m\u001b[37m\u001b[0m \u001b[1m1s\u001b[0m 5ms/step - accuracy: 0.8081 - loss: 0.4327 - val_accuracy: 0.7739 - val_loss: 0.5449\n",
      "Epoch 61/100\n",
      "\u001b[1m105/105\u001b[0m \u001b[32m━━━━━━━━━━━━━━━━━━━━\u001b[0m\u001b[37m\u001b[0m \u001b[1m1s\u001b[0m 5ms/step - accuracy: 0.7971 - loss: 0.4661 - val_accuracy: 0.7775 - val_loss: 0.5628\n",
      "Epoch 62/100\n",
      "\u001b[1m105/105\u001b[0m \u001b[32m━━━━━━━━━━━━━━━━━━━━\u001b[0m\u001b[37m\u001b[0m \u001b[1m1s\u001b[0m 5ms/step - accuracy: 0.8108 - loss: 0.4369 - val_accuracy: 0.7584 - val_loss: 0.5524\n",
      "Epoch 63/100\n",
      "\u001b[1m105/105\u001b[0m \u001b[32m━━━━━━━━━━━━━━━━━━━━\u001b[0m\u001b[37m\u001b[0m \u001b[1m1s\u001b[0m 5ms/step - accuracy: 0.8145 - loss: 0.4385 - val_accuracy: 0.7739 - val_loss: 0.5580\n",
      "Epoch 64/100\n",
      "\u001b[1m105/105\u001b[0m \u001b[32m━━━━━━━━━━━━━━━━━━━━\u001b[0m\u001b[37m\u001b[0m \u001b[1m1s\u001b[0m 5ms/step - accuracy: 0.8037 - loss: 0.4396 - val_accuracy: 0.7703 - val_loss: 0.5635\n",
      "Epoch 65/100\n",
      "\u001b[1m105/105\u001b[0m \u001b[32m━━━━━━━━━━━━━━━━━━━━\u001b[0m\u001b[37m\u001b[0m \u001b[1m1s\u001b[0m 5ms/step - accuracy: 0.8046 - loss: 0.4617 - val_accuracy: 0.7620 - val_loss: 0.5510\n",
      "Epoch 66/100\n",
      "\u001b[1m105/105\u001b[0m \u001b[32m━━━━━━━━━━━━━━━━━━━━\u001b[0m\u001b[37m\u001b[0m \u001b[1m1s\u001b[0m 5ms/step - accuracy: 0.8214 - loss: 0.4164 - val_accuracy: 0.7584 - val_loss: 0.5549\n",
      "Epoch 67/100\n",
      "\u001b[1m105/105\u001b[0m \u001b[32m━━━━━━━━━━━━━━━━━━━━\u001b[0m\u001b[37m\u001b[0m \u001b[1m1s\u001b[0m 5ms/step - accuracy: 0.8140 - loss: 0.4363 - val_accuracy: 0.7560 - val_loss: 0.5611\n",
      "Epoch 68/100\n",
      "\u001b[1m105/105\u001b[0m \u001b[32m━━━━━━━━━━━━━━━━━━━━\u001b[0m\u001b[37m\u001b[0m \u001b[1m1s\u001b[0m 5ms/step - accuracy: 0.8073 - loss: 0.4397 - val_accuracy: 0.7691 - val_loss: 0.5601\n",
      "Epoch 69/100\n",
      "\u001b[1m105/105\u001b[0m \u001b[32m━━━━━━━━━━━━━━━━━━━━\u001b[0m\u001b[37m\u001b[0m \u001b[1m1s\u001b[0m 4ms/step - accuracy: 0.8274 - loss: 0.3967 - val_accuracy: 0.7775 - val_loss: 0.5587\n",
      "Epoch 70/100\n",
      "\u001b[1m105/105\u001b[0m \u001b[32m━━━━━━━━━━━━━━━━━━━━\u001b[0m\u001b[37m\u001b[0m \u001b[1m1s\u001b[0m 5ms/step - accuracy: 0.8080 - loss: 0.4393 - val_accuracy: 0.7596 - val_loss: 0.5821\n",
      "Epoch 71/100\n",
      "\u001b[1m105/105\u001b[0m \u001b[32m━━━━━━━━━━━━━━━━━━━━\u001b[0m\u001b[37m\u001b[0m \u001b[1m1s\u001b[0m 5ms/step - accuracy: 0.8229 - loss: 0.4124 - val_accuracy: 0.7644 - val_loss: 0.5581\n",
      "Epoch 72/100\n",
      "\u001b[1m105/105\u001b[0m \u001b[32m━━━━━━━━━━━━━━━━━━━━\u001b[0m\u001b[37m\u001b[0m \u001b[1m1s\u001b[0m 5ms/step - accuracy: 0.8134 - loss: 0.4359 - val_accuracy: 0.7679 - val_loss: 0.5684\n",
      "Epoch 73/100\n",
      "\u001b[1m105/105\u001b[0m \u001b[32m━━━━━━━━━━━━━━━━━━━━\u001b[0m\u001b[37m\u001b[0m \u001b[1m1s\u001b[0m 5ms/step - accuracy: 0.8235 - loss: 0.4042 - val_accuracy: 0.7644 - val_loss: 0.5641\n",
      "Epoch 74/100\n",
      "\u001b[1m105/105\u001b[0m \u001b[32m━━━━━━━━━━━━━━━━━━━━\u001b[0m\u001b[37m\u001b[0m \u001b[1m1s\u001b[0m 5ms/step - accuracy: 0.8257 - loss: 0.4146 - val_accuracy: 0.7691 - val_loss: 0.5780\n",
      "Epoch 75/100\n",
      "\u001b[1m105/105\u001b[0m \u001b[32m━━━━━━━━━━━━━━━━━━━━\u001b[0m\u001b[37m\u001b[0m \u001b[1m1s\u001b[0m 4ms/step - accuracy: 0.8076 - loss: 0.4272 - val_accuracy: 0.7524 - val_loss: 0.5722\n",
      "Epoch 76/100\n",
      "\u001b[1m105/105\u001b[0m \u001b[32m━━━━━━━━━━━━━━━━━━━━\u001b[0m\u001b[37m\u001b[0m \u001b[1m1s\u001b[0m 5ms/step - accuracy: 0.8135 - loss: 0.4154 - val_accuracy: 0.7667 - val_loss: 0.5752\n",
      "Epoch 77/100\n",
      "\u001b[1m105/105\u001b[0m \u001b[32m━━━━━━━━━━━━━━━━━━━━\u001b[0m\u001b[37m\u001b[0m \u001b[1m1s\u001b[0m 5ms/step - accuracy: 0.8204 - loss: 0.4156 - val_accuracy: 0.7548 - val_loss: 0.5798\n",
      "Epoch 78/100\n",
      "\u001b[1m105/105\u001b[0m \u001b[32m━━━━━━━━━━━━━━━━━━━━\u001b[0m\u001b[37m\u001b[0m \u001b[1m1s\u001b[0m 5ms/step - accuracy: 0.8227 - loss: 0.4105 - val_accuracy: 0.7584 - val_loss: 0.5666\n",
      "Epoch 79/100\n",
      "\u001b[1m105/105\u001b[0m \u001b[32m━━━━━━━━━━━━━━━━━━━━\u001b[0m\u001b[37m\u001b[0m \u001b[1m1s\u001b[0m 5ms/step - accuracy: 0.8213 - loss: 0.4111 - val_accuracy: 0.7572 - val_loss: 0.5759\n",
      "Epoch 80/100\n",
      "\u001b[1m105/105\u001b[0m \u001b[32m━━━━━━━━━━━━━━━━━━━━\u001b[0m\u001b[37m\u001b[0m \u001b[1m1s\u001b[0m 5ms/step - accuracy: 0.8200 - loss: 0.4127 - val_accuracy: 0.7620 - val_loss: 0.5813\n",
      "Epoch 81/100\n",
      "\u001b[1m105/105\u001b[0m \u001b[32m━━━━━━━━━━━━━━━━━━━━\u001b[0m\u001b[37m\u001b[0m \u001b[1m1s\u001b[0m 5ms/step - accuracy: 0.8206 - loss: 0.4203 - val_accuracy: 0.7524 - val_loss: 0.5931\n",
      "Epoch 82/100\n",
      "\u001b[1m105/105\u001b[0m \u001b[32m━━━━━━━━━━━━━━━━━━━━\u001b[0m\u001b[37m\u001b[0m \u001b[1m1s\u001b[0m 5ms/step - accuracy: 0.8366 - loss: 0.4007 - val_accuracy: 0.7584 - val_loss: 0.5795\n",
      "Epoch 83/100\n",
      "\u001b[1m105/105\u001b[0m \u001b[32m━━━━━━━━━━━━━━━━━━━━\u001b[0m\u001b[37m\u001b[0m \u001b[1m1s\u001b[0m 5ms/step - accuracy: 0.8211 - loss: 0.4167 - val_accuracy: 0.7715 - val_loss: 0.5869\n",
      "Epoch 84/100\n",
      "\u001b[1m105/105\u001b[0m \u001b[32m━━━━━━━━━━━━━━━━━━━━\u001b[0m\u001b[37m\u001b[0m \u001b[1m1s\u001b[0m 5ms/step - accuracy: 0.8264 - loss: 0.4008 - val_accuracy: 0.7703 - val_loss: 0.5810\n",
      "Epoch 85/100\n",
      "\u001b[1m105/105\u001b[0m \u001b[32m━━━━━━━━━━━━━━━━━━━━\u001b[0m\u001b[37m\u001b[0m \u001b[1m1s\u001b[0m 6ms/step - accuracy: 0.8250 - loss: 0.4122 - val_accuracy: 0.7667 - val_loss: 0.6178\n",
      "Epoch 86/100\n",
      "\u001b[1m105/105\u001b[0m \u001b[32m━━━━━━━━━━━━━━━━━━━━\u001b[0m\u001b[37m\u001b[0m \u001b[1m1s\u001b[0m 5ms/step - accuracy: 0.8276 - loss: 0.4076 - val_accuracy: 0.7608 - val_loss: 0.5802\n",
      "Epoch 87/100\n",
      "\u001b[1m105/105\u001b[0m \u001b[32m━━━━━━━━━━━━━━━━━━━━\u001b[0m\u001b[37m\u001b[0m \u001b[1m1s\u001b[0m 5ms/step - accuracy: 0.8281 - loss: 0.4003 - val_accuracy: 0.7632 - val_loss: 0.5919\n",
      "Epoch 88/100\n",
      "\u001b[1m105/105\u001b[0m \u001b[32m━━━━━━━━━━━━━━━━━━━━\u001b[0m\u001b[37m\u001b[0m \u001b[1m1s\u001b[0m 5ms/step - accuracy: 0.8243 - loss: 0.3941 - val_accuracy: 0.7620 - val_loss: 0.5951\n",
      "Epoch 89/100\n",
      "\u001b[1m105/105\u001b[0m \u001b[32m━━━━━━━━━━━━━━━━━━━━\u001b[0m\u001b[37m\u001b[0m \u001b[1m1s\u001b[0m 5ms/step - accuracy: 0.8300 - loss: 0.4019 - val_accuracy: 0.7632 - val_loss: 0.5894\n",
      "Epoch 90/100\n",
      "\u001b[1m105/105\u001b[0m \u001b[32m━━━━━━━━━━━━━━━━━━━━\u001b[0m\u001b[37m\u001b[0m \u001b[1m1s\u001b[0m 5ms/step - accuracy: 0.8279 - loss: 0.4041 - val_accuracy: 0.7679 - val_loss: 0.6196\n",
      "Epoch 91/100\n",
      "\u001b[1m105/105\u001b[0m \u001b[32m━━━━━━━━━━━━━━━━━━━━\u001b[0m\u001b[37m\u001b[0m \u001b[1m1s\u001b[0m 5ms/step - accuracy: 0.8231 - loss: 0.4134 - val_accuracy: 0.7584 - val_loss: 0.5944\n",
      "Epoch 92/100\n",
      "\u001b[1m105/105\u001b[0m \u001b[32m━━━━━━━━━━━━━━━━━━━━\u001b[0m\u001b[37m\u001b[0m \u001b[1m1s\u001b[0m 5ms/step - accuracy: 0.8347 - loss: 0.3946 - val_accuracy: 0.7584 - val_loss: 0.5832\n",
      "Epoch 93/100\n",
      "\u001b[1m105/105\u001b[0m \u001b[32m━━━━━━━━━━━━━━━━━━━━\u001b[0m\u001b[37m\u001b[0m \u001b[1m1s\u001b[0m 5ms/step - accuracy: 0.8131 - loss: 0.4131 - val_accuracy: 0.7667 - val_loss: 0.6119\n",
      "Epoch 94/100\n",
      "\u001b[1m105/105\u001b[0m \u001b[32m━━━━━━━━━━━━━━━━━━━━\u001b[0m\u001b[37m\u001b[0m \u001b[1m1s\u001b[0m 5ms/step - accuracy: 0.8302 - loss: 0.3858 - val_accuracy: 0.7644 - val_loss: 0.6155\n",
      "Epoch 95/100\n",
      "\u001b[1m105/105\u001b[0m \u001b[32m━━━━━━━━━━━━━━━━━━━━\u001b[0m\u001b[37m\u001b[0m \u001b[1m1s\u001b[0m 5ms/step - accuracy: 0.8397 - loss: 0.3860 - val_accuracy: 0.7691 - val_loss: 0.6141\n",
      "Epoch 96/100\n",
      "\u001b[1m105/105\u001b[0m \u001b[32m━━━━━━━━━━━━━━━━━━━━\u001b[0m\u001b[37m\u001b[0m \u001b[1m1s\u001b[0m 5ms/step - accuracy: 0.8270 - loss: 0.3907 - val_accuracy: 0.7715 - val_loss: 0.6112\n",
      "Epoch 97/100\n",
      "\u001b[1m105/105\u001b[0m \u001b[32m━━━━━━━━━━━━━━━━━━━━\u001b[0m\u001b[37m\u001b[0m \u001b[1m1s\u001b[0m 5ms/step - accuracy: 0.8302 - loss: 0.3849 - val_accuracy: 0.7584 - val_loss: 0.5979\n",
      "Epoch 98/100\n",
      "\u001b[1m105/105\u001b[0m \u001b[32m━━━━━━━━━━━━━━━━━━━━\u001b[0m\u001b[37m\u001b[0m \u001b[1m1s\u001b[0m 5ms/step - accuracy: 0.8365 - loss: 0.3865 - val_accuracy: 0.7536 - val_loss: 0.5978\n",
      "Epoch 99/100\n",
      "\u001b[1m105/105\u001b[0m \u001b[32m━━━━━━━━━━━━━━━━━━━━\u001b[0m\u001b[37m\u001b[0m \u001b[1m1s\u001b[0m 5ms/step - accuracy: 0.8372 - loss: 0.3714 - val_accuracy: 0.7536 - val_loss: 0.5976\n",
      "Epoch 100/100\n",
      "\u001b[1m105/105\u001b[0m \u001b[32m━━━━━━━━━━━━━━━━━━━━\u001b[0m\u001b[37m\u001b[0m \u001b[1m1s\u001b[0m 5ms/step - accuracy: 0.8357 - loss: 0.3864 - val_accuracy: 0.7644 - val_loss: 0.6016\n"
     ]
    }
   ],
   "source": [
    "history2 = new_model.fit(x_train,y_train,epochs=100,validation_data=(x_test,y_test))"
   ]
  },
  {
   "cell_type": "code",
   "execution_count": 94,
   "id": "d99b429e-88d5-47da-b5c8-b3cb06e79cdc",
   "metadata": {},
   "outputs": [
    {
     "name": "stdout",
     "output_type": "stream",
     "text": [
      "\u001b[1m27/27\u001b[0m \u001b[32m━━━━━━━━━━━━━━━━━━━━\u001b[0m\u001b[37m\u001b[0m \u001b[1m0s\u001b[0m 3ms/step - accuracy: 0.7559 - loss: 0.6288\n"
     ]
    },
    {
     "data": {
      "text/plain": [
       "[0.6016276478767395, 0.7643540501594543]"
      ]
     },
     "execution_count": 94,
     "metadata": {},
     "output_type": "execute_result"
    }
   ],
   "source": [
    "new_model.evaluate(x_test,y_test)"
   ]
  },
  {
   "cell_type": "code",
   "execution_count": 95,
   "id": "262a0eea-20d8-4cd6-9e48-a4042179c026",
   "metadata": {},
   "outputs": [
    {
     "name": "stdout",
     "output_type": "stream",
     "text": [
      "\u001b[1m105/105\u001b[0m \u001b[32m━━━━━━━━━━━━━━━━━━━━\u001b[0m\u001b[37m\u001b[0m \u001b[1m0s\u001b[0m 3ms/step - accuracy: 0.8375 - loss: 0.3730\n"
     ]
    },
    {
     "data": {
      "text/plain": [
       "[0.3686041533946991, 0.8407662510871887]"
      ]
     },
     "execution_count": 95,
     "metadata": {},
     "output_type": "execute_result"
    }
   ],
   "source": [
    "new_model.evaluate(x_train,y_train)"
   ]
  },
  {
   "cell_type": "code",
   "execution_count": 96,
   "id": "06925671-2c03-4204-a772-750e333d3adb",
   "metadata": {},
   "outputs": [
    {
     "data": {
      "text/plain": [
       "<matplotlib.legend.Legend at 0x18083dfa630>"
      ]
     },
     "execution_count": 96,
     "metadata": {},
     "output_type": "execute_result"
    },
    {
     "data": {
      "image/png": "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",
      "text/plain": [
       "<Figure size 640x480 with 1 Axes>"
      ]
     },
     "metadata": {},
     "output_type": "display_data"
    }
   ],
   "source": [
    "\n",
    "plt.plot(history2.history[\"loss\"], label = \"train\")\n",
    "plt.plot(history2.history[\"val_loss\"], label = \"test\")\n",
    "plt.legend()"
   ]
  },
  {
   "cell_type": "code",
   "execution_count": 97,
   "id": "761b62eb-9ca7-41f5-8541-a1343bf78a21",
   "metadata": {},
   "outputs": [
    {
     "data": {
      "text/plain": [
       "<matplotlib.legend.Legend at 0x18087bbe210>"
      ]
     },
     "execution_count": 97,
     "metadata": {},
     "output_type": "execute_result"
    },
    {
     "data": {
      "image/png": "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",
      "text/plain": [
       "<Figure size 640x480 with 1 Axes>"
      ]
     },
     "metadata": {},
     "output_type": "display_data"
    }
   ],
   "source": [
    "plt.plot(history2.history[\"accuracy\"],label=\"train\")\n",
    "plt.plot(history2.history[\"val_accuracy\"],label=\"test\")\n",
    "plt.legend()"
   ]
  },
  {
   "cell_type": "markdown",
   "id": "7a1fe136-8102-4eca-906d-503f589e5467",
   "metadata": {},
   "source": [
    "# 4. Fine tunning"
   ]
  },
  {
   "cell_type": "code",
   "execution_count": 99,
   "id": "cf66d675-8060-45c4-8943-8ece3797a5b4",
   "metadata": {},
   "outputs": [],
   "source": [
    "base_model.trainable = True"
   ]
  },
  {
   "cell_type": "code",
   "execution_count": 100,
   "id": "5490bbc3-0c85-4821-8570-ecfafe72fabe",
   "metadata": {},
   "outputs": [
    {
     "data": {
      "text/html": [
       "<div>\n",
       "<style scoped>\n",
       "    .dataframe tbody tr th:only-of-type {\n",
       "        vertical-align: middle;\n",
       "    }\n",
       "\n",
       "    .dataframe tbody tr th {\n",
       "        vertical-align: top;\n",
       "    }\n",
       "\n",
       "    .dataframe thead th {\n",
       "        text-align: right;\n",
       "    }\n",
       "</style>\n",
       "<table border=\"1\" class=\"dataframe\">\n",
       "  <thead>\n",
       "    <tr style=\"text-align: right;\">\n",
       "      <th></th>\n",
       "      <th>Layer Type</th>\n",
       "      <th>Layer Name</th>\n",
       "      <th>Layer Trainable</th>\n",
       "    </tr>\n",
       "  </thead>\n",
       "  <tbody>\n",
       "    <tr>\n",
       "      <th>0</th>\n",
       "      <td>&lt;Conv1D name=conv1d, built=True&gt;</td>\n",
       "      <td>conv1d</td>\n",
       "      <td>True</td>\n",
       "    </tr>\n",
       "    <tr>\n",
       "      <th>1</th>\n",
       "      <td>&lt;MaxPooling1D name=max_pooling1d, built=True&gt;</td>\n",
       "      <td>max_pooling1d</td>\n",
       "      <td>True</td>\n",
       "    </tr>\n",
       "    <tr>\n",
       "      <th>2</th>\n",
       "      <td>&lt;Conv1D name=conv1d_1, built=True&gt;</td>\n",
       "      <td>conv1d_1</td>\n",
       "      <td>True</td>\n",
       "    </tr>\n",
       "    <tr>\n",
       "      <th>3</th>\n",
       "      <td>&lt;MaxPooling1D name=max_pooling1d_1, built=True&gt;</td>\n",
       "      <td>max_pooling1d_1</td>\n",
       "      <td>True</td>\n",
       "    </tr>\n",
       "    <tr>\n",
       "      <th>4</th>\n",
       "      <td>&lt;Flatten name=flatten_1, built=True&gt;</td>\n",
       "      <td>flatten_1</td>\n",
       "      <td>True</td>\n",
       "    </tr>\n",
       "    <tr>\n",
       "      <th>5</th>\n",
       "      <td>&lt;Dense name=dense_2, built=True&gt;</td>\n",
       "      <td>dense_2</td>\n",
       "      <td>True</td>\n",
       "    </tr>\n",
       "    <tr>\n",
       "      <th>6</th>\n",
       "      <td>&lt;Dense name=dense_3, built=True&gt;</td>\n",
       "      <td>dense_3</td>\n",
       "      <td>True</td>\n",
       "    </tr>\n",
       "  </tbody>\n",
       "</table>\n",
       "</div>"
      ],
      "text/plain": [
       "                                        Layer Type       Layer Name  \\\n",
       "0                 <Conv1D name=conv1d, built=True>           conv1d   \n",
       "1    <MaxPooling1D name=max_pooling1d, built=True>    max_pooling1d   \n",
       "2               <Conv1D name=conv1d_1, built=True>         conv1d_1   \n",
       "3  <MaxPooling1D name=max_pooling1d_1, built=True>  max_pooling1d_1   \n",
       "4             <Flatten name=flatten_1, built=True>        flatten_1   \n",
       "5                 <Dense name=dense_2, built=True>          dense_2   \n",
       "6                 <Dense name=dense_3, built=True>          dense_3   \n",
       "\n",
       "   Layer Trainable  \n",
       "0             True  \n",
       "1             True  \n",
       "2             True  \n",
       "3             True  \n",
       "4             True  \n",
       "5             True  \n",
       "6             True  "
      ]
     },
     "execution_count": 100,
     "metadata": {},
     "output_type": "execute_result"
    }
   ],
   "source": [
    "new_model.compile(optimizer='adam', metrics=['accuracy'], loss='sparse_categorical_crossentropy')\n",
    "import pandas as pd\n",
    "display_layers = [(layer, layer.name, layer.trainable) for layer in new_model.layers]\n",
    "pd.DataFrame(display_layers, columns=['Layer Type', 'Layer Name', 'Layer Trainable'])"
   ]
  },
  {
   "cell_type": "code",
   "execution_count": 101,
   "id": "18e0457d-7283-4eb7-bbb0-60b25448fe05",
   "metadata": {},
   "outputs": [
    {
     "name": "stdout",
     "output_type": "stream",
     "text": [
      "Epoch 1/100\n",
      "\u001b[1m105/105\u001b[0m \u001b[32m━━━━━━━━━━━━━━━━━━━━\u001b[0m\u001b[37m\u001b[0m \u001b[1m4s\u001b[0m 10ms/step - accuracy: 0.8433 - loss: 0.3721 - val_accuracy: 0.7333 - val_loss: 0.6334\n",
      "Epoch 2/100\n",
      "\u001b[1m105/105\u001b[0m \u001b[32m━━━━━━━━━━━━━━━━━━━━\u001b[0m\u001b[37m\u001b[0m \u001b[1m1s\u001b[0m 5ms/step - accuracy: 0.8307 - loss: 0.3890 - val_accuracy: 0.7548 - val_loss: 0.6227\n",
      "Epoch 3/100\n",
      "\u001b[1m105/105\u001b[0m \u001b[32m━━━━━━━━━━━━━━━━━━━━\u001b[0m\u001b[37m\u001b[0m \u001b[1m1s\u001b[0m 5ms/step - accuracy: 0.8386 - loss: 0.3748 - val_accuracy: 0.7476 - val_loss: 0.6106\n",
      "Epoch 4/100\n",
      "\u001b[1m105/105\u001b[0m \u001b[32m━━━━━━━━━━━━━━━━━━━━\u001b[0m\u001b[37m\u001b[0m \u001b[1m1s\u001b[0m 5ms/step - accuracy: 0.8331 - loss: 0.3726 - val_accuracy: 0.7560 - val_loss: 0.6116\n",
      "Epoch 5/100\n",
      "\u001b[1m105/105\u001b[0m \u001b[32m━━━━━━━━━━━━━━━━━━━━\u001b[0m\u001b[37m\u001b[0m \u001b[1m1s\u001b[0m 5ms/step - accuracy: 0.8486 - loss: 0.3699 - val_accuracy: 0.7632 - val_loss: 0.6014\n",
      "Epoch 6/100\n",
      "\u001b[1m105/105\u001b[0m \u001b[32m━━━━━━━━━━━━━━━━━━━━\u001b[0m\u001b[37m\u001b[0m \u001b[1m1s\u001b[0m 5ms/step - accuracy: 0.8407 - loss: 0.3706 - val_accuracy: 0.7476 - val_loss: 0.6089\n",
      "Epoch 7/100\n",
      "\u001b[1m105/105\u001b[0m \u001b[32m━━━━━━━━━━━━━━━━━━━━\u001b[0m\u001b[37m\u001b[0m \u001b[1m1s\u001b[0m 4ms/step - accuracy: 0.8364 - loss: 0.3784 - val_accuracy: 0.7703 - val_loss: 0.6697\n",
      "Epoch 8/100\n",
      "\u001b[1m105/105\u001b[0m \u001b[32m━━━━━━━━━━━━━━━━━━━━\u001b[0m\u001b[37m\u001b[0m \u001b[1m1s\u001b[0m 5ms/step - accuracy: 0.8359 - loss: 0.3827 - val_accuracy: 0.7584 - val_loss: 0.6240\n",
      "Epoch 9/100\n",
      "\u001b[1m105/105\u001b[0m \u001b[32m━━━━━━━━━━━━━━━━━━━━\u001b[0m\u001b[37m\u001b[0m \u001b[1m1s\u001b[0m 5ms/step - accuracy: 0.8413 - loss: 0.3615 - val_accuracy: 0.7608 - val_loss: 0.6325\n",
      "Epoch 10/100\n",
      "\u001b[1m105/105\u001b[0m \u001b[32m━━━━━━━━━━━━━━━━━━━━\u001b[0m\u001b[37m\u001b[0m \u001b[1m1s\u001b[0m 5ms/step - accuracy: 0.8519 - loss: 0.3569 - val_accuracy: 0.7524 - val_loss: 0.6253\n",
      "Epoch 11/100\n",
      "\u001b[1m105/105\u001b[0m \u001b[32m━━━━━━━━━━━━━━━━━━━━\u001b[0m\u001b[37m\u001b[0m \u001b[1m1s\u001b[0m 5ms/step - accuracy: 0.8456 - loss: 0.3623 - val_accuracy: 0.7667 - val_loss: 0.6717\n",
      "Epoch 12/100\n",
      "\u001b[1m105/105\u001b[0m \u001b[32m━━━━━━━━━━━━━━━━━━━━\u001b[0m\u001b[37m\u001b[0m \u001b[1m1s\u001b[0m 5ms/step - accuracy: 0.8350 - loss: 0.3784 - val_accuracy: 0.7620 - val_loss: 0.6225\n",
      "Epoch 13/100\n",
      "\u001b[1m105/105\u001b[0m \u001b[32m━━━━━━━━━━━━━━━━━━━━\u001b[0m\u001b[37m\u001b[0m \u001b[1m1s\u001b[0m 5ms/step - accuracy: 0.8313 - loss: 0.3748 - val_accuracy: 0.7572 - val_loss: 0.6213\n",
      "Epoch 14/100\n",
      "\u001b[1m105/105\u001b[0m \u001b[32m━━━━━━━━━━━━━━━━━━━━\u001b[0m\u001b[37m\u001b[0m \u001b[1m1s\u001b[0m 5ms/step - accuracy: 0.8493 - loss: 0.3535 - val_accuracy: 0.7584 - val_loss: 0.6793\n",
      "Epoch 15/100\n",
      "\u001b[1m105/105\u001b[0m \u001b[32m━━━━━━━━━━━━━━━━━━━━\u001b[0m\u001b[37m\u001b[0m \u001b[1m1s\u001b[0m 5ms/step - accuracy: 0.8363 - loss: 0.3573 - val_accuracy: 0.7632 - val_loss: 0.6601\n",
      "Epoch 16/100\n",
      "\u001b[1m105/105\u001b[0m \u001b[32m━━━━━━━━━━━━━━━━━━━━\u001b[0m\u001b[37m\u001b[0m \u001b[1m1s\u001b[0m 5ms/step - accuracy: 0.8369 - loss: 0.3828 - val_accuracy: 0.7368 - val_loss: 0.6392\n",
      "Epoch 17/100\n",
      "\u001b[1m105/105\u001b[0m \u001b[32m━━━━━━━━━━━━━━━━━━━━\u001b[0m\u001b[37m\u001b[0m \u001b[1m1s\u001b[0m 4ms/step - accuracy: 0.8382 - loss: 0.3690 - val_accuracy: 0.7632 - val_loss: 0.6506\n",
      "Epoch 18/100\n",
      "\u001b[1m105/105\u001b[0m \u001b[32m━━━━━━━━━━━━━━━━━━━━\u001b[0m\u001b[37m\u001b[0m \u001b[1m1s\u001b[0m 5ms/step - accuracy: 0.8475 - loss: 0.3465 - val_accuracy: 0.7584 - val_loss: 0.6227\n",
      "Epoch 19/100\n",
      "\u001b[1m105/105\u001b[0m \u001b[32m━━━━━━━━━━━━━━━━━━━━\u001b[0m\u001b[37m\u001b[0m \u001b[1m1s\u001b[0m 5ms/step - accuracy: 0.8453 - loss: 0.3687 - val_accuracy: 0.7584 - val_loss: 0.6405\n",
      "Epoch 20/100\n",
      "\u001b[1m105/105\u001b[0m \u001b[32m━━━━━━━━━━━━━━━━━━━━\u001b[0m\u001b[37m\u001b[0m \u001b[1m1s\u001b[0m 5ms/step - accuracy: 0.8475 - loss: 0.3567 - val_accuracy: 0.7524 - val_loss: 0.6374\n",
      "Epoch 21/100\n",
      "\u001b[1m105/105\u001b[0m \u001b[32m━━━━━━━━━━━━━━━━━━━━\u001b[0m\u001b[37m\u001b[0m \u001b[1m1s\u001b[0m 5ms/step - accuracy: 0.8424 - loss: 0.3574 - val_accuracy: 0.7536 - val_loss: 0.6565\n",
      "Epoch 22/100\n",
      "\u001b[1m105/105\u001b[0m \u001b[32m━━━━━━━━━━━━━━━━━━━━\u001b[0m\u001b[37m\u001b[0m \u001b[1m1s\u001b[0m 5ms/step - accuracy: 0.8486 - loss: 0.3501 - val_accuracy: 0.7524 - val_loss: 0.6537\n",
      "Epoch 23/100\n",
      "\u001b[1m105/105\u001b[0m \u001b[32m━━━━━━━━━━━━━━━━━━━━\u001b[0m\u001b[37m\u001b[0m \u001b[1m0s\u001b[0m 4ms/step - accuracy: 0.8548 - loss: 0.3436 - val_accuracy: 0.7476 - val_loss: 0.6708\n",
      "Epoch 24/100\n",
      "\u001b[1m105/105\u001b[0m \u001b[32m━━━━━━━━━━━━━━━━━━━━\u001b[0m\u001b[37m\u001b[0m \u001b[1m1s\u001b[0m 5ms/step - accuracy: 0.8394 - loss: 0.3653 - val_accuracy: 0.7584 - val_loss: 0.6497\n",
      "Epoch 25/100\n",
      "\u001b[1m105/105\u001b[0m \u001b[32m━━━━━━━━━━━━━━━━━━━━\u001b[0m\u001b[37m\u001b[0m \u001b[1m1s\u001b[0m 5ms/step - accuracy: 0.8515 - loss: 0.3577 - val_accuracy: 0.7560 - val_loss: 0.6364\n",
      "Epoch 26/100\n",
      "\u001b[1m105/105\u001b[0m \u001b[32m━━━━━━━━━━━━━━━━━━━━\u001b[0m\u001b[37m\u001b[0m \u001b[1m1s\u001b[0m 5ms/step - accuracy: 0.8369 - loss: 0.3663 - val_accuracy: 0.7608 - val_loss: 0.6656\n",
      "Epoch 27/100\n",
      "\u001b[1m105/105\u001b[0m \u001b[32m━━━━━━━━━━━━━━━━━━━━\u001b[0m\u001b[37m\u001b[0m \u001b[1m1s\u001b[0m 5ms/step - accuracy: 0.8451 - loss: 0.3482 - val_accuracy: 0.7452 - val_loss: 0.6889\n",
      "Epoch 28/100\n",
      "\u001b[1m105/105\u001b[0m \u001b[32m━━━━━━━━━━━━━━━━━━━━\u001b[0m\u001b[37m\u001b[0m \u001b[1m1s\u001b[0m 5ms/step - accuracy: 0.8393 - loss: 0.3646 - val_accuracy: 0.7679 - val_loss: 0.6770\n",
      "Epoch 29/100\n",
      "\u001b[1m105/105\u001b[0m \u001b[32m━━━━━━━━━━━━━━━━━━━━\u001b[0m\u001b[37m\u001b[0m \u001b[1m1s\u001b[0m 5ms/step - accuracy: 0.8461 - loss: 0.3604 - val_accuracy: 0.7572 - val_loss: 0.6583\n",
      "Epoch 30/100\n",
      "\u001b[1m105/105\u001b[0m \u001b[32m━━━━━━━━━━━━━━━━━━━━\u001b[0m\u001b[37m\u001b[0m \u001b[1m1s\u001b[0m 5ms/step - accuracy: 0.8514 - loss: 0.3444 - val_accuracy: 0.7572 - val_loss: 0.6591\n",
      "Epoch 31/100\n",
      "\u001b[1m105/105\u001b[0m \u001b[32m━━━━━━━━━━━━━━━━━━━━\u001b[0m\u001b[37m\u001b[0m \u001b[1m1s\u001b[0m 5ms/step - accuracy: 0.8440 - loss: 0.3596 - val_accuracy: 0.7560 - val_loss: 0.6682\n",
      "Epoch 32/100\n",
      "\u001b[1m105/105\u001b[0m \u001b[32m━━━━━━━━━━━━━━━━━━━━\u001b[0m\u001b[37m\u001b[0m \u001b[1m1s\u001b[0m 5ms/step - accuracy: 0.8526 - loss: 0.3319 - val_accuracy: 0.7608 - val_loss: 0.6800\n",
      "Epoch 33/100\n",
      "\u001b[1m105/105\u001b[0m \u001b[32m━━━━━━━━━━━━━━━━━━━━\u001b[0m\u001b[37m\u001b[0m \u001b[1m1s\u001b[0m 5ms/step - accuracy: 0.8464 - loss: 0.3474 - val_accuracy: 0.7464 - val_loss: 0.6820\n",
      "Epoch 34/100\n",
      "\u001b[1m105/105\u001b[0m \u001b[32m━━━━━━━━━━━━━━━━━━━━\u001b[0m\u001b[37m\u001b[0m \u001b[1m1s\u001b[0m 5ms/step - accuracy: 0.8527 - loss: 0.3289 - val_accuracy: 0.7536 - val_loss: 0.6810\n",
      "Epoch 35/100\n",
      "\u001b[1m105/105\u001b[0m \u001b[32m━━━━━━━━━━━━━━━━━━━━\u001b[0m\u001b[37m\u001b[0m \u001b[1m1s\u001b[0m 6ms/step - accuracy: 0.8659 - loss: 0.3268 - val_accuracy: 0.7476 - val_loss: 0.6785\n",
      "Epoch 36/100\n",
      "\u001b[1m105/105\u001b[0m \u001b[32m━━━━━━━━━━━━━━━━━━━━\u001b[0m\u001b[37m\u001b[0m \u001b[1m1s\u001b[0m 4ms/step - accuracy: 0.8503 - loss: 0.3428 - val_accuracy: 0.7512 - val_loss: 0.6914\n",
      "Epoch 37/100\n",
      "\u001b[1m105/105\u001b[0m \u001b[32m━━━━━━━━━━━━━━━━━━━━\u001b[0m\u001b[37m\u001b[0m \u001b[1m1s\u001b[0m 5ms/step - accuracy: 0.8505 - loss: 0.3443 - val_accuracy: 0.7524 - val_loss: 0.6867\n",
      "Epoch 38/100\n",
      "\u001b[1m105/105\u001b[0m \u001b[32m━━━━━━━━━━━━━━━━━━━━\u001b[0m\u001b[37m\u001b[0m \u001b[1m1s\u001b[0m 5ms/step - accuracy: 0.8487 - loss: 0.3498 - val_accuracy: 0.7608 - val_loss: 0.6975\n",
      "Epoch 39/100\n",
      "\u001b[1m105/105\u001b[0m \u001b[32m━━━━━━━━━━━━━━━━━━━━\u001b[0m\u001b[37m\u001b[0m \u001b[1m1s\u001b[0m 5ms/step - accuracy: 0.8512 - loss: 0.3347 - val_accuracy: 0.7596 - val_loss: 0.6939\n",
      "Epoch 40/100\n",
      "\u001b[1m105/105\u001b[0m \u001b[32m━━━━━━━━━━━━━━━━━━━━\u001b[0m\u001b[37m\u001b[0m \u001b[1m1s\u001b[0m 5ms/step - accuracy: 0.8527 - loss: 0.3309 - val_accuracy: 0.7416 - val_loss: 0.6846\n",
      "Epoch 41/100\n",
      "\u001b[1m105/105\u001b[0m \u001b[32m━━━━━━━━━━━━━━━━━━━━\u001b[0m\u001b[37m\u001b[0m \u001b[1m1s\u001b[0m 5ms/step - accuracy: 0.8639 - loss: 0.3247 - val_accuracy: 0.7572 - val_loss: 0.6923\n",
      "Epoch 42/100\n",
      "\u001b[1m105/105\u001b[0m \u001b[32m━━━━━━━━━━━━━━━━━━━━\u001b[0m\u001b[37m\u001b[0m \u001b[1m1s\u001b[0m 5ms/step - accuracy: 0.8503 - loss: 0.3383 - val_accuracy: 0.7452 - val_loss: 0.7270\n",
      "Epoch 43/100\n",
      "\u001b[1m105/105\u001b[0m \u001b[32m━━━━━━━━━━━━━━━━━━━━\u001b[0m\u001b[37m\u001b[0m \u001b[1m1s\u001b[0m 5ms/step - accuracy: 0.8579 - loss: 0.3367 - val_accuracy: 0.7512 - val_loss: 0.6956\n",
      "Epoch 44/100\n",
      "\u001b[1m105/105\u001b[0m \u001b[32m━━━━━━━━━━━━━━━━━━━━\u001b[0m\u001b[37m\u001b[0m \u001b[1m1s\u001b[0m 4ms/step - accuracy: 0.8621 - loss: 0.3297 - val_accuracy: 0.7512 - val_loss: 0.7097\n",
      "Epoch 45/100\n",
      "\u001b[1m105/105\u001b[0m \u001b[32m━━━━━━━━━━━━━━━━━━━━\u001b[0m\u001b[37m\u001b[0m \u001b[1m1s\u001b[0m 5ms/step - accuracy: 0.8501 - loss: 0.3317 - val_accuracy: 0.7321 - val_loss: 0.7009\n",
      "Epoch 46/100\n",
      "\u001b[1m105/105\u001b[0m \u001b[32m━━━━━━━━━━━━━━━━━━━━\u001b[0m\u001b[37m\u001b[0m \u001b[1m1s\u001b[0m 5ms/step - accuracy: 0.8637 - loss: 0.3200 - val_accuracy: 0.7416 - val_loss: 0.7000\n",
      "Epoch 47/100\n",
      "\u001b[1m105/105\u001b[0m \u001b[32m━━━━━━━━━━━━━━━━━━━━\u001b[0m\u001b[37m\u001b[0m \u001b[1m1s\u001b[0m 4ms/step - accuracy: 0.8657 - loss: 0.3251 - val_accuracy: 0.7452 - val_loss: 0.7010\n",
      "Epoch 48/100\n",
      "\u001b[1m105/105\u001b[0m \u001b[32m━━━━━━━━━━━━━━━━━━━━\u001b[0m\u001b[37m\u001b[0m \u001b[1m1s\u001b[0m 5ms/step - accuracy: 0.8556 - loss: 0.3285 - val_accuracy: 0.7368 - val_loss: 0.6907\n",
      "Epoch 49/100\n",
      "\u001b[1m105/105\u001b[0m \u001b[32m━━━━━━━━━━━━━━━━━━━━\u001b[0m\u001b[37m\u001b[0m \u001b[1m0s\u001b[0m 4ms/step - accuracy: 0.8653 - loss: 0.3209 - val_accuracy: 0.7500 - val_loss: 0.7146\n",
      "Epoch 50/100\n",
      "\u001b[1m105/105\u001b[0m \u001b[32m━━━━━━━━━━━━━━━━━━━━\u001b[0m\u001b[37m\u001b[0m \u001b[1m1s\u001b[0m 5ms/step - accuracy: 0.8599 - loss: 0.3273 - val_accuracy: 0.7488 - val_loss: 0.7062\n",
      "Epoch 51/100\n",
      "\u001b[1m105/105\u001b[0m \u001b[32m━━━━━━━━━━━━━━━━━━━━\u001b[0m\u001b[37m\u001b[0m \u001b[1m1s\u001b[0m 5ms/step - accuracy: 0.8454 - loss: 0.3390 - val_accuracy: 0.7428 - val_loss: 0.7258\n",
      "Epoch 52/100\n",
      "\u001b[1m105/105\u001b[0m \u001b[32m━━━━━━━━━━━━━━━━━━━━\u001b[0m\u001b[37m\u001b[0m \u001b[1m1s\u001b[0m 4ms/step - accuracy: 0.8616 - loss: 0.3271 - val_accuracy: 0.7464 - val_loss: 0.7177\n",
      "Epoch 53/100\n",
      "\u001b[1m105/105\u001b[0m \u001b[32m━━━━━━━━━━━━━━━━━━━━\u001b[0m\u001b[37m\u001b[0m \u001b[1m1s\u001b[0m 5ms/step - accuracy: 0.8570 - loss: 0.3362 - val_accuracy: 0.7464 - val_loss: 0.7423\n",
      "Epoch 54/100\n",
      "\u001b[1m105/105\u001b[0m \u001b[32m━━━━━━━━━━━━━━━━━━━━\u001b[0m\u001b[37m\u001b[0m \u001b[1m1s\u001b[0m 5ms/step - accuracy: 0.8718 - loss: 0.3080 - val_accuracy: 0.7476 - val_loss: 0.7498\n",
      "Epoch 55/100\n",
      "\u001b[1m105/105\u001b[0m \u001b[32m━━━━━━━━━━━━━━━━━━━━\u001b[0m\u001b[37m\u001b[0m \u001b[1m1s\u001b[0m 5ms/step - accuracy: 0.8595 - loss: 0.3300 - val_accuracy: 0.7452 - val_loss: 0.7423\n",
      "Epoch 56/100\n",
      "\u001b[1m105/105\u001b[0m \u001b[32m━━━━━━━━━━━━━━━━━━━━\u001b[0m\u001b[37m\u001b[0m \u001b[1m1s\u001b[0m 5ms/step - accuracy: 0.8661 - loss: 0.3123 - val_accuracy: 0.7416 - val_loss: 0.7144\n",
      "Epoch 57/100\n",
      "\u001b[1m105/105\u001b[0m \u001b[32m━━━━━━━━━━━━━━━━━━━━\u001b[0m\u001b[37m\u001b[0m \u001b[1m1s\u001b[0m 5ms/step - accuracy: 0.8607 - loss: 0.3201 - val_accuracy: 0.7524 - val_loss: 0.7343\n",
      "Epoch 58/100\n",
      "\u001b[1m105/105\u001b[0m \u001b[32m━━━━━━━━━━━━━━━━━━━━\u001b[0m\u001b[37m\u001b[0m \u001b[1m1s\u001b[0m 5ms/step - accuracy: 0.8790 - loss: 0.2997 - val_accuracy: 0.7440 - val_loss: 0.7314\n",
      "Epoch 59/100\n",
      "\u001b[1m105/105\u001b[0m \u001b[32m━━━━━━━━━━━━━━━━━━━━\u001b[0m\u001b[37m\u001b[0m \u001b[1m1s\u001b[0m 5ms/step - accuracy: 0.8642 - loss: 0.3136 - val_accuracy: 0.7452 - val_loss: 0.7469\n",
      "Epoch 60/100\n",
      "\u001b[1m105/105\u001b[0m \u001b[32m━━━━━━━━━━━━━━━━━━━━\u001b[0m\u001b[37m\u001b[0m \u001b[1m1s\u001b[0m 6ms/step - accuracy: 0.8686 - loss: 0.3046 - val_accuracy: 0.7500 - val_loss: 0.7483\n",
      "Epoch 61/100\n",
      "\u001b[1m105/105\u001b[0m \u001b[32m━━━━━━━━━━━━━━━━━━━━\u001b[0m\u001b[37m\u001b[0m \u001b[1m1s\u001b[0m 5ms/step - accuracy: 0.8660 - loss: 0.2990 - val_accuracy: 0.7452 - val_loss: 0.7731\n",
      "Epoch 62/100\n",
      "\u001b[1m105/105\u001b[0m \u001b[32m━━━━━━━━━━━━━━━━━━━━\u001b[0m\u001b[37m\u001b[0m \u001b[1m1s\u001b[0m 5ms/step - accuracy: 0.8610 - loss: 0.3203 - val_accuracy: 0.7380 - val_loss: 0.7599\n",
      "Epoch 63/100\n",
      "\u001b[1m105/105\u001b[0m \u001b[32m━━━━━━━━━━━━━━━━━━━━\u001b[0m\u001b[37m\u001b[0m \u001b[1m1s\u001b[0m 5ms/step - accuracy: 0.8658 - loss: 0.3097 - val_accuracy: 0.7500 - val_loss: 0.7545\n",
      "Epoch 64/100\n",
      "\u001b[1m105/105\u001b[0m \u001b[32m━━━━━━━━━━━━━━━━━━━━\u001b[0m\u001b[37m\u001b[0m \u001b[1m1s\u001b[0m 5ms/step - accuracy: 0.8609 - loss: 0.3144 - val_accuracy: 0.7285 - val_loss: 0.7739\n",
      "Epoch 65/100\n",
      "\u001b[1m105/105\u001b[0m \u001b[32m━━━━━━━━━━━━━━━━━━━━\u001b[0m\u001b[37m\u001b[0m \u001b[1m1s\u001b[0m 5ms/step - accuracy: 0.8638 - loss: 0.3115 - val_accuracy: 0.7201 - val_loss: 0.7953\n",
      "Epoch 66/100\n",
      "\u001b[1m105/105\u001b[0m \u001b[32m━━━━━━━━━━━━━━━━━━━━\u001b[0m\u001b[37m\u001b[0m \u001b[1m1s\u001b[0m 5ms/step - accuracy: 0.8559 - loss: 0.3115 - val_accuracy: 0.7524 - val_loss: 0.7437\n",
      "Epoch 67/100\n",
      "\u001b[1m105/105\u001b[0m \u001b[32m━━━━━━━━━━━━━━━━━━━━\u001b[0m\u001b[37m\u001b[0m \u001b[1m1s\u001b[0m 5ms/step - accuracy: 0.8619 - loss: 0.3060 - val_accuracy: 0.7368 - val_loss: 0.7823\n",
      "Epoch 68/100\n",
      "\u001b[1m105/105\u001b[0m \u001b[32m━━━━━━━━━━━━━━━━━━━━\u001b[0m\u001b[37m\u001b[0m \u001b[1m1s\u001b[0m 5ms/step - accuracy: 0.8676 - loss: 0.3173 - val_accuracy: 0.7488 - val_loss: 0.7425\n",
      "Epoch 69/100\n",
      "\u001b[1m105/105\u001b[0m \u001b[32m━━━━━━━━━━━━━━━━━━━━\u001b[0m\u001b[37m\u001b[0m \u001b[1m1s\u001b[0m 5ms/step - accuracy: 0.8674 - loss: 0.3048 - val_accuracy: 0.7476 - val_loss: 0.7634\n",
      "Epoch 70/100\n",
      "\u001b[1m105/105\u001b[0m \u001b[32m━━━━━━━━━━━━━━━━━━━━\u001b[0m\u001b[37m\u001b[0m \u001b[1m1s\u001b[0m 5ms/step - accuracy: 0.8757 - loss: 0.2865 - val_accuracy: 0.7404 - val_loss: 0.7545\n",
      "Epoch 71/100\n",
      "\u001b[1m105/105\u001b[0m \u001b[32m━━━━━━━━━━━━━━━━━━━━\u001b[0m\u001b[37m\u001b[0m \u001b[1m1s\u001b[0m 5ms/step - accuracy: 0.8799 - loss: 0.2924 - val_accuracy: 0.7464 - val_loss: 0.7916\n",
      "Epoch 72/100\n",
      "\u001b[1m105/105\u001b[0m \u001b[32m━━━━━━━━━━━━━━━━━━━━\u001b[0m\u001b[37m\u001b[0m \u001b[1m1s\u001b[0m 5ms/step - accuracy: 0.8737 - loss: 0.2891 - val_accuracy: 0.7464 - val_loss: 0.8024\n",
      "Epoch 73/100\n",
      "\u001b[1m105/105\u001b[0m \u001b[32m━━━━━━━━━━━━━━━━━━━━\u001b[0m\u001b[37m\u001b[0m \u001b[1m1s\u001b[0m 5ms/step - accuracy: 0.8742 - loss: 0.2881 - val_accuracy: 0.7344 - val_loss: 0.7646\n",
      "Epoch 74/100\n",
      "\u001b[1m105/105\u001b[0m \u001b[32m━━━━━━━━━━━━━━━━━━━━\u001b[0m\u001b[37m\u001b[0m \u001b[1m0s\u001b[0m 4ms/step - accuracy: 0.8713 - loss: 0.2869 - val_accuracy: 0.7512 - val_loss: 0.7869\n",
      "Epoch 75/100\n",
      "\u001b[1m105/105\u001b[0m \u001b[32m━━━━━━━━━━━━━━━━━━━━\u001b[0m\u001b[37m\u001b[0m \u001b[1m1s\u001b[0m 5ms/step - accuracy: 0.8800 - loss: 0.2899 - val_accuracy: 0.7512 - val_loss: 0.7930\n",
      "Epoch 76/100\n",
      "\u001b[1m105/105\u001b[0m \u001b[32m━━━━━━━━━━━━━━━━━━━━\u001b[0m\u001b[37m\u001b[0m \u001b[1m1s\u001b[0m 5ms/step - accuracy: 0.8691 - loss: 0.2962 - val_accuracy: 0.7464 - val_loss: 0.7917\n",
      "Epoch 77/100\n",
      "\u001b[1m105/105\u001b[0m \u001b[32m━━━━━━━━━━━━━━━━━━━━\u001b[0m\u001b[37m\u001b[0m \u001b[1m1s\u001b[0m 5ms/step - accuracy: 0.8800 - loss: 0.2858 - val_accuracy: 0.7524 - val_loss: 0.8005\n",
      "Epoch 78/100\n",
      "\u001b[1m105/105\u001b[0m \u001b[32m━━━━━━━━━━━━━━━━━━━━\u001b[0m\u001b[37m\u001b[0m \u001b[1m1s\u001b[0m 5ms/step - accuracy: 0.8733 - loss: 0.2845 - val_accuracy: 0.7321 - val_loss: 0.8138\n",
      "Epoch 79/100\n",
      "\u001b[1m105/105\u001b[0m \u001b[32m━━━━━━━━━━━━━━━━━━━━\u001b[0m\u001b[37m\u001b[0m \u001b[1m1s\u001b[0m 5ms/step - accuracy: 0.8787 - loss: 0.2822 - val_accuracy: 0.7500 - val_loss: 0.8192\n",
      "Epoch 80/100\n",
      "\u001b[1m105/105\u001b[0m \u001b[32m━━━━━━━━━━━━━━━━━━━━\u001b[0m\u001b[37m\u001b[0m \u001b[1m1s\u001b[0m 5ms/step - accuracy: 0.8782 - loss: 0.2826 - val_accuracy: 0.7309 - val_loss: 0.7968\n",
      "Epoch 81/100\n",
      "\u001b[1m105/105\u001b[0m \u001b[32m━━━━━━━━━━━━━━━━━━━━\u001b[0m\u001b[37m\u001b[0m \u001b[1m1s\u001b[0m 5ms/step - accuracy: 0.8695 - loss: 0.2988 - val_accuracy: 0.7380 - val_loss: 0.7925\n",
      "Epoch 82/100\n",
      "\u001b[1m105/105\u001b[0m \u001b[32m━━━━━━━━━━━━━━━━━━━━\u001b[0m\u001b[37m\u001b[0m \u001b[1m0s\u001b[0m 4ms/step - accuracy: 0.8788 - loss: 0.2765 - val_accuracy: 0.7464 - val_loss: 0.8147\n",
      "Epoch 83/100\n",
      "\u001b[1m105/105\u001b[0m \u001b[32m━━━━━━━━━━━━━━━━━━━━\u001b[0m\u001b[37m\u001b[0m \u001b[1m1s\u001b[0m 5ms/step - accuracy: 0.8772 - loss: 0.2828 - val_accuracy: 0.7404 - val_loss: 0.8204\n",
      "Epoch 84/100\n",
      "\u001b[1m105/105\u001b[0m \u001b[32m━━━━━━━━━━━━━━━━━━━━\u001b[0m\u001b[37m\u001b[0m \u001b[1m1s\u001b[0m 5ms/step - accuracy: 0.8688 - loss: 0.2944 - val_accuracy: 0.7428 - val_loss: 0.8123\n",
      "Epoch 85/100\n",
      "\u001b[1m105/105\u001b[0m \u001b[32m━━━━━━━━━━━━━━━━━━━━\u001b[0m\u001b[37m\u001b[0m \u001b[1m1s\u001b[0m 5ms/step - accuracy: 0.8831 - loss: 0.2652 - val_accuracy: 0.7177 - val_loss: 0.8083\n",
      "Epoch 86/100\n",
      "\u001b[1m105/105\u001b[0m \u001b[32m━━━━━━━━━━━━━━━━━━━━\u001b[0m\u001b[37m\u001b[0m \u001b[1m1s\u001b[0m 5ms/step - accuracy: 0.8757 - loss: 0.2756 - val_accuracy: 0.7488 - val_loss: 0.8384\n",
      "Epoch 87/100\n",
      "\u001b[1m105/105\u001b[0m \u001b[32m━━━━━━━━━━━━━━━━━━━━\u001b[0m\u001b[37m\u001b[0m \u001b[1m1s\u001b[0m 5ms/step - accuracy: 0.8842 - loss: 0.2767 - val_accuracy: 0.7512 - val_loss: 0.8365\n",
      "Epoch 88/100\n",
      "\u001b[1m105/105\u001b[0m \u001b[32m━━━━━━━━━━━━━━━━━━━━\u001b[0m\u001b[37m\u001b[0m \u001b[1m1s\u001b[0m 5ms/step - accuracy: 0.8810 - loss: 0.2864 - val_accuracy: 0.7273 - val_loss: 0.8479\n",
      "Epoch 89/100\n",
      "\u001b[1m105/105\u001b[0m \u001b[32m━━━━━━━━━━━━━━━━━━━━\u001b[0m\u001b[37m\u001b[0m \u001b[1m1s\u001b[0m 5ms/step - accuracy: 0.8866 - loss: 0.2665 - val_accuracy: 0.7416 - val_loss: 0.8513\n",
      "Epoch 90/100\n",
      "\u001b[1m105/105\u001b[0m \u001b[32m━━━━━━━━━━━━━━━━━━━━\u001b[0m\u001b[37m\u001b[0m \u001b[1m1s\u001b[0m 5ms/step - accuracy: 0.8852 - loss: 0.2676 - val_accuracy: 0.7404 - val_loss: 0.8454\n",
      "Epoch 91/100\n",
      "\u001b[1m105/105\u001b[0m \u001b[32m━━━━━━━━━━━━━━━━━━━━\u001b[0m\u001b[37m\u001b[0m \u001b[1m1s\u001b[0m 5ms/step - accuracy: 0.8860 - loss: 0.2690 - val_accuracy: 0.7428 - val_loss: 0.8523\n",
      "Epoch 92/100\n",
      "\u001b[1m105/105\u001b[0m \u001b[32m━━━━━━━━━━━━━━━━━━━━\u001b[0m\u001b[37m\u001b[0m \u001b[1m1s\u001b[0m 5ms/step - accuracy: 0.8770 - loss: 0.2743 - val_accuracy: 0.7356 - val_loss: 0.8552\n",
      "Epoch 93/100\n",
      "\u001b[1m105/105\u001b[0m \u001b[32m━━━━━━━━━━━━━━━━━━━━\u001b[0m\u001b[37m\u001b[0m \u001b[1m1s\u001b[0m 4ms/step - accuracy: 0.8817 - loss: 0.2660 - val_accuracy: 0.7344 - val_loss: 0.8584\n",
      "Epoch 94/100\n",
      "\u001b[1m105/105\u001b[0m \u001b[32m━━━━━━━━━━━━━━━━━━━━\u001b[0m\u001b[37m\u001b[0m \u001b[1m1s\u001b[0m 5ms/step - accuracy: 0.8852 - loss: 0.2632 - val_accuracy: 0.7356 - val_loss: 0.8787\n",
      "Epoch 95/100\n",
      "\u001b[1m105/105\u001b[0m \u001b[32m━━━━━━━━━━━━━━━━━━━━\u001b[0m\u001b[37m\u001b[0m \u001b[1m1s\u001b[0m 5ms/step - accuracy: 0.8838 - loss: 0.2676 - val_accuracy: 0.7392 - val_loss: 0.8616\n",
      "Epoch 96/100\n",
      "\u001b[1m105/105\u001b[0m \u001b[32m━━━━━━━━━━━━━━━━━━━━\u001b[0m\u001b[37m\u001b[0m \u001b[1m1s\u001b[0m 5ms/step - accuracy: 0.8900 - loss: 0.2616 - val_accuracy: 0.7392 - val_loss: 0.8877\n",
      "Epoch 97/100\n",
      "\u001b[1m105/105\u001b[0m \u001b[32m━━━━━━━━━━━━━━━━━━━━\u001b[0m\u001b[37m\u001b[0m \u001b[1m1s\u001b[0m 5ms/step - accuracy: 0.8887 - loss: 0.2567 - val_accuracy: 0.7368 - val_loss: 0.8992\n",
      "Epoch 98/100\n",
      "\u001b[1m105/105\u001b[0m \u001b[32m━━━━━━━━━━━━━━━━━━━━\u001b[0m\u001b[37m\u001b[0m \u001b[1m1s\u001b[0m 5ms/step - accuracy: 0.8716 - loss: 0.2898 - val_accuracy: 0.7464 - val_loss: 0.8713\n",
      "Epoch 99/100\n",
      "\u001b[1m105/105\u001b[0m \u001b[32m━━━━━━━━━━━━━━━━━━━━\u001b[0m\u001b[37m\u001b[0m \u001b[1m1s\u001b[0m 5ms/step - accuracy: 0.8910 - loss: 0.2577 - val_accuracy: 0.7333 - val_loss: 0.8614\n",
      "Epoch 100/100\n",
      "\u001b[1m105/105\u001b[0m \u001b[32m━━━━━━━━━━━━━━━━━━━━\u001b[0m\u001b[37m\u001b[0m \u001b[1m1s\u001b[0m 5ms/step - accuracy: 0.8930 - loss: 0.2511 - val_accuracy: 0.7333 - val_loss: 0.8820\n"
     ]
    }
   ],
   "source": [
    "history3 = new_model.fit(x_train,y_train,epochs=100,validation_data=(x_test,y_test),shuffle=True)"
   ]
  },
  {
   "cell_type": "code",
   "execution_count": 102,
   "id": "c82c5e92-d25b-4541-952f-871742202c72",
   "metadata": {},
   "outputs": [
    {
     "name": "stdout",
     "output_type": "stream",
     "text": [
      "\u001b[1m27/27\u001b[0m \u001b[32m━━━━━━━━━━━━━━━━━━━━\u001b[0m\u001b[37m\u001b[0m \u001b[1m0s\u001b[0m 3ms/step - accuracy: 0.7200 - loss: 0.9171\n"
     ]
    },
    {
     "data": {
      "text/plain": [
       "[0.8820018768310547, 0.7332535982131958]"
      ]
     },
     "execution_count": 102,
     "metadata": {},
     "output_type": "execute_result"
    }
   ],
   "source": [
    "new_model.evaluate(x_test,y_test)"
   ]
  },
  {
   "cell_type": "code",
   "execution_count": 110,
   "id": "a499ae07-6bbb-419a-93e4-88bc110a6e86",
   "metadata": {},
   "outputs": [
    {
     "name": "stdout",
     "output_type": "stream",
     "text": [
      "\u001b[1m105/105\u001b[0m \u001b[32m━━━━━━━━━━━━━━━━━━━━\u001b[0m\u001b[37m\u001b[0m \u001b[1m0s\u001b[0m 3ms/step - accuracy: 0.8852 - loss: 0.2651\n"
     ]
    },
    {
     "data": {
      "text/plain": [
       "[0.26094239950180054, 0.8919485211372375]"
      ]
     },
     "execution_count": 110,
     "metadata": {},
     "output_type": "execute_result"
    }
   ],
   "source": [
    "new_model.evaluate(x_train,y_train)"
   ]
  },
  {
   "cell_type": "code",
   "execution_count": 111,
   "id": "01e5fa35-730a-46fc-a984-b1c969aff55e",
   "metadata": {},
   "outputs": [
    {
     "data": {
      "text/plain": [
       "<matplotlib.legend.Legend at 0x1808809a630>"
      ]
     },
     "execution_count": 111,
     "metadata": {},
     "output_type": "execute_result"
    },
    {
     "data": {
      "image/png": "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",
      "text/plain": [
       "<Figure size 640x480 with 1 Axes>"
      ]
     },
     "metadata": {},
     "output_type": "display_data"
    }
   ],
   "source": [
    "plt.plot(history3.history[\"loss\"], label = \"train\")\n",
    "plt.plot(history3.history[\"val_loss\"], label = \"test\")\n",
    "plt.legend()"
   ]
  },
  {
   "cell_type": "markdown",
   "id": "a3f21b15-14ad-4ab9-a2e1-b39cfa6ec0b1",
   "metadata": {},
   "source": [
    "#####  Dropout, BatchNormalization 추가\r\n",
    "\r\n"
   ]
  },
  {
   "cell_type": "code",
   "execution_count": 118,
   "id": "1cd78668-1b40-45a5-b376-6cd089166031",
   "metadata": {},
   "outputs": [
    {
     "ename": "NameError",
     "evalue": "name 'time_steps' is not defined",
     "output_type": "error",
     "traceback": [
      "\u001b[1;31m---------------------------------------------------------------------------\u001b[0m",
      "\u001b[1;31mNameError\u001b[0m                                 Traceback (most recent call last)",
      "Cell \u001b[1;32mIn[118], line 21\u001b[0m\n\u001b[0;32m     18\u001b[0m \u001b[38;5;28;01mfrom\u001b[39;00m \u001b[38;5;21;01mtensorflow\u001b[39;00m\u001b[38;5;21;01m.\u001b[39;00m\u001b[38;5;21;01mkeras\u001b[39;00m\u001b[38;5;21;01m.\u001b[39;00m\u001b[38;5;21;01mlayers\u001b[39;00m \u001b[38;5;28;01mimport\u001b[39;00m Input, Conv1D, MaxPooling1D, Flatten, Dense, Dropout, BatchNormalization\n\u001b[0;32m     20\u001b[0m new_model \u001b[38;5;241m=\u001b[39m Sequential()\n\u001b[1;32m---> 21\u001b[0m new_model\u001b[38;5;241m.\u001b[39madd(Input(shape\u001b[38;5;241m=\u001b[39m(time_steps, features)))  \u001b[38;5;66;03m# 입력 데이터의 shape을 지정해야 합니다.\u001b[39;00m\n\u001b[0;32m     22\u001b[0m new_model\u001b[38;5;241m.\u001b[39madd(Dropout(\u001b[38;5;241m0.5\u001b[39m))\n\u001b[0;32m     23\u001b[0m new_model\u001b[38;5;241m.\u001b[39madd(Conv1D(\u001b[38;5;241m64\u001b[39m, kernel_size\u001b[38;5;241m=\u001b[39m\u001b[38;5;241m3\u001b[39m, activation\u001b[38;5;241m=\u001b[39m\u001b[38;5;124m'\u001b[39m\u001b[38;5;124mrelu\u001b[39m\u001b[38;5;124m'\u001b[39m))\n",
      "\u001b[1;31mNameError\u001b[0m: name 'time_steps' is not defined"
     ]
    }
   ],
   "source": [
    "# from tensorflow.keras.layers import Dropout, BatchNormalization\n",
    "\n",
    "# new_model.add(Dropout(0.5))\n",
    "# new_model.add(Conv1D(64,kernel_size=3,activation='relu'))\n",
    "# new_model.add(BatchNormalization())\n",
    "# new_model.add(MaxPooling1D(pool_size=2))\n",
    "# new_model.add(Dropout(0.5))\n",
    "\n",
    "# new_model.add(Flatten())\n",
    "# new_model.add(Dense(64,activation='relu'))\n",
    "# new_model.add(BatchNormalization())\n",
    "# new_model.add(Dropout(0.5))\n",
    "# new_model.add(Dense(3,activation='softmax'))\n",
    "\n",
    "# new_model.summary()\n",
    "\n",
    "\n",
    "from tensorflow.keras.layers import Input, Conv1D, MaxPooling1D, Flatten, Dense, Dropout, BatchNormalization\n",
    "\n",
    "new_model = Sequential()\n",
    "new_model.add(Input(shape=(time_steps, features)))  # 입력 데이터의 shape을 지정해야 합니다.\n",
    "new_model.add(Dropout(0.5))\n",
    "new_model.add(Conv1D(64, kernel_size=3, activation='relu'))\n",
    "new_model.add(BatchNormalization())\n",
    "new_model.add(MaxPooling1D(pool_size=2))\n",
    "new_model.add(Dropout(0.5))\n",
    "\n",
    "new_model.add(Flatten())\n",
    "new_model.add(Dense(64, activation='relu'))\n",
    "new_model.add(BatchNormalization())\n",
    "new_model.add(Dropout(0.5))\n",
    "new_model.add(Dense(3, activation='softmax'))\n",
    "\n",
    "new_model.summary()"
   ]
  },
  {
   "cell_type": "code",
   "execution_count": 120,
   "id": "4ceed5a8-99ed-43cc-a7ad-2c99691f5334",
   "metadata": {},
   "outputs": [],
   "source": [
    "new_model.compile(optimizer='adam',loss='sparse_categorical_crossentropy',metrics=['accuracy'])"
   ]
  },
  {
   "cell_type": "code",
   "execution_count": 122,
   "id": "1e99ad90-cb16-4321-af5e-7ed86c6ad191",
   "metadata": {},
   "outputs": [
    {
     "name": "stdout",
     "output_type": "stream",
     "text": [
      "Epoch 1/100\n"
     ]
    },
    {
     "ename": "ValueError",
     "evalue": "Sequential model sequential_2 cannot be built because it has no layers. Call `model.add(layer)`.",
     "output_type": "error",
     "traceback": [
      "\u001b[1;31m---------------------------------------------------------------------------\u001b[0m",
      "\u001b[1;31mValueError\u001b[0m                                Traceback (most recent call last)",
      "Cell \u001b[1;32mIn[122], line 1\u001b[0m\n\u001b[1;32m----> 1\u001b[0m history4 \u001b[38;5;241m=\u001b[39m new_model\u001b[38;5;241m.\u001b[39mfit(x_train,y_train,epochs\u001b[38;5;241m=\u001b[39m\u001b[38;5;241m100\u001b[39m,validation_data\u001b[38;5;241m=\u001b[39m(x_test,y_test),shuffle\u001b[38;5;241m=\u001b[39m\u001b[38;5;28;01mTrue\u001b[39;00m)\n",
      "File \u001b[1;32m~\\anaconda3\\Lib\\site-packages\\keras\\src\\utils\\traceback_utils.py:122\u001b[0m, in \u001b[0;36mfilter_traceback.<locals>.error_handler\u001b[1;34m(*args, **kwargs)\u001b[0m\n\u001b[0;32m    119\u001b[0m     filtered_tb \u001b[38;5;241m=\u001b[39m _process_traceback_frames(e\u001b[38;5;241m.\u001b[39m__traceback__)\n\u001b[0;32m    120\u001b[0m     \u001b[38;5;66;03m# To get the full stack trace, call:\u001b[39;00m\n\u001b[0;32m    121\u001b[0m     \u001b[38;5;66;03m# `keras.config.disable_traceback_filtering()`\u001b[39;00m\n\u001b[1;32m--> 122\u001b[0m     \u001b[38;5;28;01mraise\u001b[39;00m e\u001b[38;5;241m.\u001b[39mwith_traceback(filtered_tb) \u001b[38;5;28;01mfrom\u001b[39;00m \u001b[38;5;28;01mNone\u001b[39;00m\n\u001b[0;32m    123\u001b[0m \u001b[38;5;28;01mfinally\u001b[39;00m:\n\u001b[0;32m    124\u001b[0m     \u001b[38;5;28;01mdel\u001b[39;00m filtered_tb\n",
      "File \u001b[1;32m~\\anaconda3\\Lib\\site-packages\\keras\\src\\models\\sequential.py:163\u001b[0m, in \u001b[0;36mSequential.build\u001b[1;34m(self, input_shape)\u001b[0m\n\u001b[0;32m    161\u001b[0m     \u001b[38;5;28;01mreturn\u001b[39;00m\n\u001b[0;32m    162\u001b[0m \u001b[38;5;28;01mif\u001b[39;00m \u001b[38;5;129;01mnot\u001b[39;00m \u001b[38;5;28mself\u001b[39m\u001b[38;5;241m.\u001b[39m_layers:\n\u001b[1;32m--> 163\u001b[0m     \u001b[38;5;28;01mraise\u001b[39;00m \u001b[38;5;167;01mValueError\u001b[39;00m(\n\u001b[0;32m    164\u001b[0m         \u001b[38;5;124mf\u001b[39m\u001b[38;5;124m\"\u001b[39m\u001b[38;5;124mSequential model \u001b[39m\u001b[38;5;132;01m{\u001b[39;00m\u001b[38;5;28mself\u001b[39m\u001b[38;5;241m.\u001b[39mname\u001b[38;5;132;01m}\u001b[39;00m\u001b[38;5;124m cannot be built because it has \u001b[39m\u001b[38;5;124m\"\u001b[39m\n\u001b[0;32m    165\u001b[0m         \u001b[38;5;124m\"\u001b[39m\u001b[38;5;124mno layers. Call `model.add(layer)`.\u001b[39m\u001b[38;5;124m\"\u001b[39m\n\u001b[0;32m    166\u001b[0m     )\n\u001b[0;32m    167\u001b[0m \u001b[38;5;28;01mif\u001b[39;00m \u001b[38;5;28misinstance\u001b[39m(\u001b[38;5;28mself\u001b[39m\u001b[38;5;241m.\u001b[39m_layers[\u001b[38;5;241m0\u001b[39m], InputLayer):\n\u001b[0;32m    168\u001b[0m     \u001b[38;5;28;01mif\u001b[39;00m \u001b[38;5;28mself\u001b[39m\u001b[38;5;241m.\u001b[39m_layers[\u001b[38;5;241m0\u001b[39m]\u001b[38;5;241m.\u001b[39mbatch_shape \u001b[38;5;241m!=\u001b[39m input_shape:\n",
      "\u001b[1;31mValueError\u001b[0m: Sequential model sequential_2 cannot be built because it has no layers. Call `model.add(layer)`."
     ]
    }
   ],
   "source": [
    "history4 = new_model.fit(x_train,y_train,epochs=100,validation_data=(x_test,y_test),shuffle=True)"
   ]
  },
  {
   "cell_type": "code",
   "execution_count": null,
   "id": "7a1fd736-4a0e-4b82-9d23-2e4eeb6e9e10",
   "metadata": {},
   "outputs": [],
   "source": [
    "new_model.summary()"
   ]
  },
  {
   "cell_type": "code",
   "execution_count": 125,
   "id": "d50bd75d-36a8-4836-84e7-cd9f02bee699",
   "metadata": {},
   "outputs": [
    {
     "ename": "ValueError",
     "evalue": "Sequential model sequential_2 cannot be built because it has no layers. Call `model.add(layer)`.",
     "output_type": "error",
     "traceback": [
      "\u001b[1;31m---------------------------------------------------------------------------\u001b[0m",
      "\u001b[1;31mValueError\u001b[0m                                Traceback (most recent call last)",
      "Cell \u001b[1;32mIn[125], line 1\u001b[0m\n\u001b[1;32m----> 1\u001b[0m new_model\u001b[38;5;241m.\u001b[39mevaluate(x_test,y_test)\n",
      "File \u001b[1;32m~\\anaconda3\\Lib\\site-packages\\keras\\src\\utils\\traceback_utils.py:122\u001b[0m, in \u001b[0;36mfilter_traceback.<locals>.error_handler\u001b[1;34m(*args, **kwargs)\u001b[0m\n\u001b[0;32m    119\u001b[0m     filtered_tb \u001b[38;5;241m=\u001b[39m _process_traceback_frames(e\u001b[38;5;241m.\u001b[39m__traceback__)\n\u001b[0;32m    120\u001b[0m     \u001b[38;5;66;03m# To get the full stack trace, call:\u001b[39;00m\n\u001b[0;32m    121\u001b[0m     \u001b[38;5;66;03m# `keras.config.disable_traceback_filtering()`\u001b[39;00m\n\u001b[1;32m--> 122\u001b[0m     \u001b[38;5;28;01mraise\u001b[39;00m e\u001b[38;5;241m.\u001b[39mwith_traceback(filtered_tb) \u001b[38;5;28;01mfrom\u001b[39;00m \u001b[38;5;28;01mNone\u001b[39;00m\n\u001b[0;32m    123\u001b[0m \u001b[38;5;28;01mfinally\u001b[39;00m:\n\u001b[0;32m    124\u001b[0m     \u001b[38;5;28;01mdel\u001b[39;00m filtered_tb\n",
      "File \u001b[1;32m~\\anaconda3\\Lib\\site-packages\\keras\\src\\models\\sequential.py:163\u001b[0m, in \u001b[0;36mSequential.build\u001b[1;34m(self, input_shape)\u001b[0m\n\u001b[0;32m    161\u001b[0m     \u001b[38;5;28;01mreturn\u001b[39;00m\n\u001b[0;32m    162\u001b[0m \u001b[38;5;28;01mif\u001b[39;00m \u001b[38;5;129;01mnot\u001b[39;00m \u001b[38;5;28mself\u001b[39m\u001b[38;5;241m.\u001b[39m_layers:\n\u001b[1;32m--> 163\u001b[0m     \u001b[38;5;28;01mraise\u001b[39;00m \u001b[38;5;167;01mValueError\u001b[39;00m(\n\u001b[0;32m    164\u001b[0m         \u001b[38;5;124mf\u001b[39m\u001b[38;5;124m\"\u001b[39m\u001b[38;5;124mSequential model \u001b[39m\u001b[38;5;132;01m{\u001b[39;00m\u001b[38;5;28mself\u001b[39m\u001b[38;5;241m.\u001b[39mname\u001b[38;5;132;01m}\u001b[39;00m\u001b[38;5;124m cannot be built because it has \u001b[39m\u001b[38;5;124m\"\u001b[39m\n\u001b[0;32m    165\u001b[0m         \u001b[38;5;124m\"\u001b[39m\u001b[38;5;124mno layers. Call `model.add(layer)`.\u001b[39m\u001b[38;5;124m\"\u001b[39m\n\u001b[0;32m    166\u001b[0m     )\n\u001b[0;32m    167\u001b[0m \u001b[38;5;28;01mif\u001b[39;00m \u001b[38;5;28misinstance\u001b[39m(\u001b[38;5;28mself\u001b[39m\u001b[38;5;241m.\u001b[39m_layers[\u001b[38;5;241m0\u001b[39m], InputLayer):\n\u001b[0;32m    168\u001b[0m     \u001b[38;5;28;01mif\u001b[39;00m \u001b[38;5;28mself\u001b[39m\u001b[38;5;241m.\u001b[39m_layers[\u001b[38;5;241m0\u001b[39m]\u001b[38;5;241m.\u001b[39mbatch_shape \u001b[38;5;241m!=\u001b[39m input_shape:\n",
      "\u001b[1;31mValueError\u001b[0m: Sequential model sequential_2 cannot be built because it has no layers. Call `model.add(layer)`."
     ]
    }
   ],
   "source": [
    "new_model.evaluate(x_test,y_test)"
   ]
  },
  {
   "cell_type": "code",
   "execution_count": null,
   "id": "f21b603a-046a-4a0b-b0ec-ae19652e9745",
   "metadata": {},
   "outputs": [],
   "source": [
    "plt.plot(history4.history[\"loss\"], label = \"train\")\n",
    "plt.plot(history4.history[\"val_loss\"], label = \"test\")\n",
    "plt.legend()"
   ]
  },
  {
   "cell_type": "code",
   "execution_count": null,
   "id": "8a5e575e-1842-45de-9311-ff46eefbe5b4",
   "metadata": {},
   "outputs": [],
   "source": [
    "plt.plot(history4.history[\"accuracy\"],label=\"train\")\n",
    "plt.plot(history4.history[\"val_accuracy\"],label=\"test\")\n",
    "plt.legend()"
   ]
  },
  {
   "cell_type": "code",
   "execution_count": null,
   "id": "54ac6a08-1778-467b-ac92-6abf269a34f3",
   "metadata": {},
   "outputs": [],
   "source": []
  },
  {
   "cell_type": "markdown",
   "id": "c11141ca-7f7b-468d-be4d-263bb804442d",
   "metadata": {},
   "source": [
    "#### CNN+LSTM"
   ]
  },
  {
   "cell_type": "code",
   "execution_count": null,
   "id": "4ac48981-24e2-4f9a-9696-96078e7dfc27",
   "metadata": {},
   "outputs": [],
   "source": [
    "# def cnn_lstm_model(input_shape):\n",
    "    \n",
    "#     model = Sequential()\n",
    "#     model.add(Conv1D(32,kernel_size=1,activation='relu',input_shape=input_shape))\n",
    "#     model.add(MaxPooling1D(pool_size=1))\n",
    "#     model.add(LSTM(units=32))\n",
    "#     model.add(Dense(16, activation='relu'))\n",
    "#     model.add(Dense(n_outputs, activation='softmax'))\n",
    "    \n",
    "#     model.compile(optimizer='adam', metrics=['accuracy'], loss='categorical_crossentropy')\n",
    "\n",
    "#     return model\n",
    "\n",
    "# input_shape = (n_timesteps,n_features)\n",
    "# model_2 = cnn_lstm_model(input_shape)\n",
    "\n",
    "# model_2.summary()\n"
   ]
  },
  {
   "cell_type": "code",
   "execution_count": null,
   "id": "002189da-5dfe-4b51-901b-7d48336aecb9",
   "metadata": {},
   "outputs": [],
   "source": []
  },
  {
   "cell_type": "code",
   "execution_count": null,
   "id": "a024a626-5815-459b-a97a-b24975cfe04e",
   "metadata": {},
   "outputs": [],
   "source": []
  }
 ],
 "metadata": {
  "kernelspec": {
   "display_name": "Python 3 (ipykernel)",
   "language": "python",
   "name": "python3"
  },
  "language_info": {
   "codemirror_mode": {
    "name": "ipython",
    "version": 3
   },
   "file_extension": ".py",
   "mimetype": "text/x-python",
   "name": "python",
   "nbconvert_exporter": "python",
   "pygments_lexer": "ipython3",
   "version": "3.12.4"
  }
 },
 "nbformat": 4,
 "nbformat_minor": 5
}
=======
{
 "cells": [
  {
   "cell_type": "markdown",
   "id": "b1e07355-1150-424c-ac73-242a7992a4da",
   "metadata": {},
   "source": [
    "#### 1. 전복 분류를 CNN으로 구현\n",
    "#### 2. 모델 저장한 후에\n",
    "#### 3. 사전학습 모델로 불러서 새로운 층과 출력층을 추가하고\n",
    "#### 4. 미세조정 fine-tunning\n",
    "\n",
    " # index_col=0"
   ]
  },
  {
   "cell_type": "markdown",
   "id": "f311ec7c-b1b2-4897-8362-3742c4016526",
   "metadata": {},
   "source": [
    "# 1. 데이터 불러오기"
   ]
  },
  {
   "cell_type": "code",
   "execution_count": 21,
   "id": "2e6b550c-c5a3-4746-8d3c-b4ae39a7fddc",
   "metadata": {},
   "outputs": [
    {
     "data": {
      "text/html": [
       "<div>\n",
       "<style scoped>\n",
       "    .dataframe tbody tr th:only-of-type {\n",
       "        vertical-align: middle;\n",
       "    }\n",
       "\n",
       "    .dataframe tbody tr th {\n",
       "        vertical-align: top;\n",
       "    }\n",
       "\n",
       "    .dataframe thead th {\n",
       "        text-align: right;\n",
       "    }\n",
       "</style>\n",
       "<table border=\"1\" class=\"dataframe\">\n",
       "  <thead>\n",
       "    <tr style=\"text-align: right;\">\n",
       "      <th></th>\n",
       "      <th>id</th>\n",
       "      <th>Sex</th>\n",
       "      <th>Length</th>\n",
       "      <th>Diameter</th>\n",
       "      <th>Height</th>\n",
       "      <th>Whole_weight</th>\n",
       "      <th>Shucked_weight</th>\n",
       "      <th>Viscera_weight</th>\n",
       "      <th>Shell_weight</th>\n",
       "      <th>Rings</th>\n",
       "    </tr>\n",
       "  </thead>\n",
       "  <tbody>\n",
       "    <tr>\n",
       "      <th>0</th>\n",
       "      <td>0</td>\n",
       "      <td>M</td>\n",
       "      <td>0.455</td>\n",
       "      <td>0.365</td>\n",
       "      <td>0.095</td>\n",
       "      <td>0.5140</td>\n",
       "      <td>0.2245</td>\n",
       "      <td>0.1010</td>\n",
       "      <td>0.1500</td>\n",
       "      <td>15</td>\n",
       "    </tr>\n",
       "    <tr>\n",
       "      <th>1</th>\n",
       "      <td>1</td>\n",
       "      <td>M</td>\n",
       "      <td>0.350</td>\n",
       "      <td>0.265</td>\n",
       "      <td>0.090</td>\n",
       "      <td>0.2255</td>\n",
       "      <td>0.0995</td>\n",
       "      <td>0.0485</td>\n",
       "      <td>0.0700</td>\n",
       "      <td>7</td>\n",
       "    </tr>\n",
       "    <tr>\n",
       "      <th>2</th>\n",
       "      <td>2</td>\n",
       "      <td>F</td>\n",
       "      <td>0.530</td>\n",
       "      <td>0.420</td>\n",
       "      <td>0.135</td>\n",
       "      <td>0.6770</td>\n",
       "      <td>0.2565</td>\n",
       "      <td>0.1415</td>\n",
       "      <td>0.2100</td>\n",
       "      <td>9</td>\n",
       "    </tr>\n",
       "    <tr>\n",
       "      <th>3</th>\n",
       "      <td>3</td>\n",
       "      <td>M</td>\n",
       "      <td>0.440</td>\n",
       "      <td>0.365</td>\n",
       "      <td>0.125</td>\n",
       "      <td>0.5160</td>\n",
       "      <td>0.2155</td>\n",
       "      <td>0.1140</td>\n",
       "      <td>0.1550</td>\n",
       "      <td>10</td>\n",
       "    </tr>\n",
       "    <tr>\n",
       "      <th>4</th>\n",
       "      <td>4</td>\n",
       "      <td>I</td>\n",
       "      <td>0.330</td>\n",
       "      <td>0.255</td>\n",
       "      <td>0.080</td>\n",
       "      <td>0.2050</td>\n",
       "      <td>0.0895</td>\n",
       "      <td>0.0395</td>\n",
       "      <td>0.0550</td>\n",
       "      <td>7</td>\n",
       "    </tr>\n",
       "    <tr>\n",
       "      <th>...</th>\n",
       "      <td>...</td>\n",
       "      <td>...</td>\n",
       "      <td>...</td>\n",
       "      <td>...</td>\n",
       "      <td>...</td>\n",
       "      <td>...</td>\n",
       "      <td>...</td>\n",
       "      <td>...</td>\n",
       "      <td>...</td>\n",
       "      <td>...</td>\n",
       "    </tr>\n",
       "    <tr>\n",
       "      <th>4172</th>\n",
       "      <td>4172</td>\n",
       "      <td>F</td>\n",
       "      <td>0.565</td>\n",
       "      <td>0.450</td>\n",
       "      <td>0.165</td>\n",
       "      <td>0.8870</td>\n",
       "      <td>0.3700</td>\n",
       "      <td>0.2390</td>\n",
       "      <td>0.2490</td>\n",
       "      <td>11</td>\n",
       "    </tr>\n",
       "    <tr>\n",
       "      <th>4173</th>\n",
       "      <td>4173</td>\n",
       "      <td>M</td>\n",
       "      <td>0.590</td>\n",
       "      <td>0.440</td>\n",
       "      <td>0.135</td>\n",
       "      <td>0.9660</td>\n",
       "      <td>0.4390</td>\n",
       "      <td>0.2145</td>\n",
       "      <td>0.2605</td>\n",
       "      <td>10</td>\n",
       "    </tr>\n",
       "    <tr>\n",
       "      <th>4174</th>\n",
       "      <td>4174</td>\n",
       "      <td>M</td>\n",
       "      <td>0.600</td>\n",
       "      <td>0.475</td>\n",
       "      <td>0.205</td>\n",
       "      <td>1.1760</td>\n",
       "      <td>0.5255</td>\n",
       "      <td>0.2875</td>\n",
       "      <td>0.3080</td>\n",
       "      <td>9</td>\n",
       "    </tr>\n",
       "    <tr>\n",
       "      <th>4175</th>\n",
       "      <td>4175</td>\n",
       "      <td>F</td>\n",
       "      <td>0.625</td>\n",
       "      <td>0.485</td>\n",
       "      <td>0.150</td>\n",
       "      <td>1.0945</td>\n",
       "      <td>0.5310</td>\n",
       "      <td>0.2610</td>\n",
       "      <td>0.2960</td>\n",
       "      <td>10</td>\n",
       "    </tr>\n",
       "    <tr>\n",
       "      <th>4176</th>\n",
       "      <td>4176</td>\n",
       "      <td>M</td>\n",
       "      <td>0.710</td>\n",
       "      <td>0.555</td>\n",
       "      <td>0.195</td>\n",
       "      <td>1.9485</td>\n",
       "      <td>0.9455</td>\n",
       "      <td>0.3765</td>\n",
       "      <td>0.4950</td>\n",
       "      <td>12</td>\n",
       "    </tr>\n",
       "  </tbody>\n",
       "</table>\n",
       "<p>4177 rows × 10 columns</p>\n",
       "</div>"
      ],
      "text/plain": [
       "        id Sex  Length  Diameter  Height  Whole_weight  Shucked_weight  \\\n",
       "0        0   M   0.455     0.365   0.095        0.5140          0.2245   \n",
       "1        1   M   0.350     0.265   0.090        0.2255          0.0995   \n",
       "2        2   F   0.530     0.420   0.135        0.6770          0.2565   \n",
       "3        3   M   0.440     0.365   0.125        0.5160          0.2155   \n",
       "4        4   I   0.330     0.255   0.080        0.2050          0.0895   \n",
       "...    ...  ..     ...       ...     ...           ...             ...   \n",
       "4172  4172   F   0.565     0.450   0.165        0.8870          0.3700   \n",
       "4173  4173   M   0.590     0.440   0.135        0.9660          0.4390   \n",
       "4174  4174   M   0.600     0.475   0.205        1.1760          0.5255   \n",
       "4175  4175   F   0.625     0.485   0.150        1.0945          0.5310   \n",
       "4176  4176   M   0.710     0.555   0.195        1.9485          0.9455   \n",
       "\n",
       "      Viscera_weight  Shell_weight  Rings  \n",
       "0             0.1010        0.1500     15  \n",
       "1             0.0485        0.0700      7  \n",
       "2             0.1415        0.2100      9  \n",
       "3             0.1140        0.1550     10  \n",
       "4             0.0395        0.0550      7  \n",
       "...              ...           ...    ...  \n",
       "4172          0.2390        0.2490     11  \n",
       "4173          0.2145        0.2605     10  \n",
       "4174          0.2875        0.3080      9  \n",
       "4175          0.2610        0.2960     10  \n",
       "4176          0.3765        0.4950     12  \n",
       "\n",
       "[4177 rows x 10 columns]"
      ]
     },
     "execution_count": 21,
     "metadata": {},
     "output_type": "execute_result"
    }
   ],
   "source": [
    "import pandas as pd\n",
    "\n",
    "data = pd.read_csv(\"C:/Users/wjdwl/Desktop/Data/abalone.csv\")\n",
    "data"
   ]
  },
  {
   "cell_type": "code",
   "execution_count": 23,
   "id": "bab8f8d8-fcb3-42ad-96ca-ff9fff5688e6",
   "metadata": {},
   "outputs": [
    {
     "name": "stdout",
     "output_type": "stream",
     "text": [
      "<class 'pandas.core.frame.DataFrame'>\n",
      "RangeIndex: 4177 entries, 0 to 4176\n",
      "Data columns (total 10 columns):\n",
      " #   Column          Non-Null Count  Dtype  \n",
      "---  ------          --------------  -----  \n",
      " 0   id              4177 non-null   int64  \n",
      " 1   Sex             4177 non-null   object \n",
      " 2   Length          4177 non-null   float64\n",
      " 3   Diameter        4177 non-null   float64\n",
      " 4   Height          4177 non-null   float64\n",
      " 5   Whole_weight    4177 non-null   float64\n",
      " 6   Shucked_weight  4177 non-null   float64\n",
      " 7   Viscera_weight  4177 non-null   float64\n",
      " 8   Shell_weight    4177 non-null   float64\n",
      " 9   Rings           4177 non-null   int64  \n",
      "dtypes: float64(7), int64(2), object(1)\n",
      "memory usage: 326.5+ KB\n"
     ]
    }
   ],
   "source": [
    "data.info()"
   ]
  },
  {
   "cell_type": "code",
   "execution_count": 25,
   "id": "1d48f3a4-1124-421d-9bdf-30f24cf49292",
   "metadata": {},
   "outputs": [
    {
     "name": "stdout",
     "output_type": "stream",
     "text": [
      "Min ; 1, Max : 29, mean : 9.933684462532918\n"
     ]
    }
   ],
   "source": [
    "# 데이터의 최대 최소 평균 값을 찾아서 데이터가 고르게 나눠질 수 있도록 범위를 조절\n",
    "\n",
    "min=data['Rings'].min()\n",
    "max=data['Rings'].max()\n",
    "mean = data['Rings'].mean()\n",
    "\n",
    "print(f\"Min ; {min}, Max : {max}, mean : {mean}\")"
   ]
  },
  {
   "cell_type": "code",
   "execution_count": 27,
   "id": "365a958b-450d-413f-8069-41e6a6790319",
   "metadata": {},
   "outputs": [],
   "source": [
    "# 전복 나이를 카테고리로 나누기\n",
    "data['Age'] = pd.cut(data['Rings'], bins=[0, 7, 12, 30], labels=['Young', 'Middle', 'Old'])"
   ]
  },
  {
   "cell_type": "code",
   "execution_count": 29,
   "id": "9aee279b-aecb-4855-a743-0ab17f5c2f00",
   "metadata": {},
   "outputs": [
    {
     "name": "stdout",
     "output_type": "stream",
     "text": [
      "Age\n",
      "Middle    2645\n",
      "Young      839\n",
      "Old        693\n",
      "Name: count, dtype: int64\n"
     ]
    }
   ],
   "source": [
    "age_category_counts = data['Age'].value_counts()\n",
    "print(age_category_counts)"
   ]
  },
  {
   "cell_type": "code",
   "execution_count": 34,
   "id": "7ec7baf4-3b43-46cb-b11f-eaa9b1e70a6f",
   "metadata": {},
   "outputs": [],
   "source": [
    "input = data.drop(['Age','Rings','id'],axis=1)\n",
    "target = data['Age']"
   ]
  },
  {
   "cell_type": "code",
   "execution_count": 38,
   "id": "c830b792-e4b8-463b-84be-71b9ef9f389a",
   "metadata": {},
   "outputs": [],
   "source": [
    "# target data 가 category 이므로 label을 LabelEncoder 를 통해 수치형 데이터로 바꿔준다\n",
    "from sklearn.preprocessing import LabelEncoder\n",
    "\n",
    "le = LabelEncoder()\n",
    "target = le.fit_transform(target)"
   ]
  },
  {
   "cell_type": "code",
   "execution_count": 40,
   "id": "7df56b09-f308-429d-8aaa-88fe96a1d903",
   "metadata": {},
   "outputs": [],
   "source": [
    "from sklearn.compose import ColumnTransformer\n",
    "from sklearn.preprocessing import OneHotEncoder\n",
    "import numpy as np\n",
    "\n",
    "ct = ColumnTransformer(transformers=[('encoder', OneHotEncoder(), [0])], remainder='passthrough')\n",
    "input = np.array(ct.fit_transform(input))"
   ]
  },
  {
   "cell_type": "code",
   "execution_count": 42,
   "id": "3f2e0d5c-a98d-41b4-a5fc-ad13bf40bcbd",
   "metadata": {},
   "outputs": [
    {
     "name": "stdout",
     "output_type": "stream",
     "text": [
      "[[0.     0.     1.     ... 0.2245 0.101  0.15  ]\n",
      " [0.     0.     1.     ... 0.0995 0.0485 0.07  ]\n",
      " [1.     0.     0.     ... 0.2565 0.1415 0.21  ]\n",
      " ...\n",
      " [0.     0.     1.     ... 0.5255 0.2875 0.308 ]\n",
      " [1.     0.     0.     ... 0.531  0.261  0.296 ]\n",
      " [0.     0.     1.     ... 0.9455 0.3765 0.495 ]]\n"
     ]
    }
   ],
   "source": [
    "print(input)"
   ]
  },
  {
   "cell_type": "code",
   "execution_count": 44,
   "id": "c254d0da-ac45-43cc-bda2-3e072c499aeb",
   "metadata": {},
   "outputs": [],
   "source": [
    "\n",
    "from sklearn.preprocessing import StandardScaler\n",
    "\n",
    "sc = StandardScaler()\n",
    "input = sc.fit_transform(input)"
   ]
  },
  {
   "cell_type": "code",
   "execution_count": 46,
   "id": "bc3e2b99-82ce-491d-b50d-9c407f0b0c63",
   "metadata": {},
   "outputs": [
    {
     "data": {
      "text/plain": [
       "(4177, 10)"
      ]
     },
     "execution_count": 46,
     "metadata": {},
     "output_type": "execute_result"
    }
   ],
   "source": [
    "input.shape"
   ]
  },
  {
   "cell_type": "code",
   "execution_count": 48,
   "id": "7d84a9e6-b69f-4194-8e45-0a6b88950ed8",
   "metadata": {},
   "outputs": [
    {
     "data": {
      "text/plain": [
       "(4177, 10, 1)"
      ]
     },
     "execution_count": 48,
     "metadata": {},
     "output_type": "execute_result"
    }
   ],
   "source": [
    "# 현재 input 차원은 (4177,10) 인데 CNN 모델은 최소 3차원 데이터 부터 입력데이터로 들어가야함 Conv1D는 (batch_size,length,channels)가 필요하니깐 차원 하나를 늘려준다\n",
    "input= np.expand_dims(input,axis=-1)\n",
    "input.shape"
   ]
  },
  {
   "cell_type": "code",
   "execution_count": 50,
   "id": "eb1c67f4-fae6-42c4-9be6-e40626b22f2d",
   "metadata": {},
   "outputs": [
    {
     "data": {
      "text/plain": [
       "(4177,)"
      ]
     },
     "execution_count": 50,
     "metadata": {},
     "output_type": "execute_result"
    }
   ],
   "source": [
    "target.shape"
   ]
  },
  {
   "cell_type": "code",
   "execution_count": 52,
   "id": "40d2d71a-ff10-4ffe-8161-9a558bd72f51",
   "metadata": {},
   "outputs": [],
   "source": [
    "from sklearn.model_selection import train_test_split\n",
    "\n",
    "x_train,x_test, y_train, y_test = train_test_split (input,target, test_size=0.2,stratify=target)"
   ]
  },
  {
   "cell_type": "markdown",
   "id": "9f548612-c876-4c9f-8ab2-0a989648f22a",
   "metadata": {},
   "source": [
    "# 1. CNN 모델"
   ]
  },
  {
   "cell_type": "code",
   "execution_count": 55,
   "id": "5dab915c-46c9-4bae-b02c-e6b8087bf364",
   "metadata": {},
   "outputs": [
    {
     "name": "stderr",
     "output_type": "stream",
     "text": [
      "C:\\Users\\wjdwl\\anaconda3\\Lib\\site-packages\\keras\\src\\layers\\convolutional\\base_conv.py:107: UserWarning: Do not pass an `input_shape`/`input_dim` argument to a layer. When using Sequential models, prefer using an `Input(shape)` object as the first layer in the model instead.\n",
      "  super().__init__(activity_regularizer=activity_regularizer, **kwargs)\n"
     ]
    },
    {
     "data": {
      "text/html": [
       "<pre style=\"white-space:pre;overflow-x:auto;line-height:normal;font-family:Menlo,'DejaVu Sans Mono',consolas,'Courier New',monospace\"><span style=\"font-weight: bold\">Model: \"sequential\"</span>\n",
       "</pre>\n"
      ],
      "text/plain": [
       "\u001b[1mModel: \"sequential\"\u001b[0m\n"
      ]
     },
     "metadata": {},
     "output_type": "display_data"
    },
    {
     "data": {
      "text/html": [
       "<pre style=\"white-space:pre;overflow-x:auto;line-height:normal;font-family:Menlo,'DejaVu Sans Mono',consolas,'Courier New',monospace\">┏━━━━━━━━━━━━━━━━━━━━━━━━━━━━━━━━━━━━━━┳━━━━━━━━━━━━━━━━━━━━━━━━━━━━━┳━━━━━━━━━━━━━━━━━┓\n",
       "┃<span style=\"font-weight: bold\"> Layer (type)                         </span>┃<span style=\"font-weight: bold\"> Output Shape                </span>┃<span style=\"font-weight: bold\">         Param # </span>┃\n",
       "┡━━━━━━━━━━━━━━━━━━━━━━━━━━━━━━━━━━━━━━╇━━━━━━━━━━━━━━━━━━━━━━━━━━━━━╇━━━━━━━━━━━━━━━━━┩\n",
       "│ conv1d (<span style=\"color: #0087ff; text-decoration-color: #0087ff\">Conv1D</span>)                      │ (<span style=\"color: #00d7ff; text-decoration-color: #00d7ff\">None</span>, <span style=\"color: #00af00; text-decoration-color: #00af00\">8</span>, <span style=\"color: #00af00; text-decoration-color: #00af00\">32</span>)               │             <span style=\"color: #00af00; text-decoration-color: #00af00\">128</span> │\n",
       "├──────────────────────────────────────┼─────────────────────────────┼─────────────────┤\n",
       "│ max_pooling1d (<span style=\"color: #0087ff; text-decoration-color: #0087ff\">MaxPooling1D</span>)         │ (<span style=\"color: #00d7ff; text-decoration-color: #00d7ff\">None</span>, <span style=\"color: #00af00; text-decoration-color: #00af00\">4</span>, <span style=\"color: #00af00; text-decoration-color: #00af00\">32</span>)               │               <span style=\"color: #00af00; text-decoration-color: #00af00\">0</span> │\n",
       "├──────────────────────────────────────┼─────────────────────────────┼─────────────────┤\n",
       "│ flatten (<span style=\"color: #0087ff; text-decoration-color: #0087ff\">Flatten</span>)                    │ (<span style=\"color: #00d7ff; text-decoration-color: #00d7ff\">None</span>, <span style=\"color: #00af00; text-decoration-color: #00af00\">128</span>)                 │               <span style=\"color: #00af00; text-decoration-color: #00af00\">0</span> │\n",
       "├──────────────────────────────────────┼─────────────────────────────┼─────────────────┤\n",
       "│ dense (<span style=\"color: #0087ff; text-decoration-color: #0087ff\">Dense</span>)                        │ (<span style=\"color: #00d7ff; text-decoration-color: #00d7ff\">None</span>, <span style=\"color: #00af00; text-decoration-color: #00af00\">128</span>)                 │          <span style=\"color: #00af00; text-decoration-color: #00af00\">16,512</span> │\n",
       "├──────────────────────────────────────┼─────────────────────────────┼─────────────────┤\n",
       "│ dense_1 (<span style=\"color: #0087ff; text-decoration-color: #0087ff\">Dense</span>)                      │ (<span style=\"color: #00d7ff; text-decoration-color: #00d7ff\">None</span>, <span style=\"color: #00af00; text-decoration-color: #00af00\">3</span>)                   │             <span style=\"color: #00af00; text-decoration-color: #00af00\">387</span> │\n",
       "└──────────────────────────────────────┴─────────────────────────────┴─────────────────┘\n",
       "</pre>\n"
      ],
      "text/plain": [
       "┏━━━━━━━━━━━━━━━━━━━━━━━━━━━━━━━━━━━━━━┳━━━━━━━━━━━━━━━━━━━━━━━━━━━━━┳━━━━━━━━━━━━━━━━━┓\n",
       "┃\u001b[1m \u001b[0m\u001b[1mLayer (type)                        \u001b[0m\u001b[1m \u001b[0m┃\u001b[1m \u001b[0m\u001b[1mOutput Shape               \u001b[0m\u001b[1m \u001b[0m┃\u001b[1m \u001b[0m\u001b[1m        Param #\u001b[0m\u001b[1m \u001b[0m┃\n",
       "┡━━━━━━━━━━━━━━━━━━━━━━━━━━━━━━━━━━━━━━╇━━━━━━━━━━━━━━━━━━━━━━━━━━━━━╇━━━━━━━━━━━━━━━━━┩\n",
       "│ conv1d (\u001b[38;5;33mConv1D\u001b[0m)                      │ (\u001b[38;5;45mNone\u001b[0m, \u001b[38;5;34m8\u001b[0m, \u001b[38;5;34m32\u001b[0m)               │             \u001b[38;5;34m128\u001b[0m │\n",
       "├──────────────────────────────────────┼─────────────────────────────┼─────────────────┤\n",
       "│ max_pooling1d (\u001b[38;5;33mMaxPooling1D\u001b[0m)         │ (\u001b[38;5;45mNone\u001b[0m, \u001b[38;5;34m4\u001b[0m, \u001b[38;5;34m32\u001b[0m)               │               \u001b[38;5;34m0\u001b[0m │\n",
       "├──────────────────────────────────────┼─────────────────────────────┼─────────────────┤\n",
       "│ flatten (\u001b[38;5;33mFlatten\u001b[0m)                    │ (\u001b[38;5;45mNone\u001b[0m, \u001b[38;5;34m128\u001b[0m)                 │               \u001b[38;5;34m0\u001b[0m │\n",
       "├──────────────────────────────────────┼─────────────────────────────┼─────────────────┤\n",
       "│ dense (\u001b[38;5;33mDense\u001b[0m)                        │ (\u001b[38;5;45mNone\u001b[0m, \u001b[38;5;34m128\u001b[0m)                 │          \u001b[38;5;34m16,512\u001b[0m │\n",
       "├──────────────────────────────────────┼─────────────────────────────┼─────────────────┤\n",
       "│ dense_1 (\u001b[38;5;33mDense\u001b[0m)                      │ (\u001b[38;5;45mNone\u001b[0m, \u001b[38;5;34m3\u001b[0m)                   │             \u001b[38;5;34m387\u001b[0m │\n",
       "└──────────────────────────────────────┴─────────────────────────────┴─────────────────┘\n"
      ]
     },
     "metadata": {},
     "output_type": "display_data"
    },
    {
     "data": {
      "text/html": [
       "<pre style=\"white-space:pre;overflow-x:auto;line-height:normal;font-family:Menlo,'DejaVu Sans Mono',consolas,'Courier New',monospace\"><span style=\"font-weight: bold\"> Total params: </span><span style=\"color: #00af00; text-decoration-color: #00af00\">17,027</span> (66.51 KB)\n",
       "</pre>\n"
      ],
      "text/plain": [
       "\u001b[1m Total params: \u001b[0m\u001b[38;5;34m17,027\u001b[0m (66.51 KB)\n"
      ]
     },
     "metadata": {},
     "output_type": "display_data"
    },
    {
     "data": {
      "text/html": [
       "<pre style=\"white-space:pre;overflow-x:auto;line-height:normal;font-family:Menlo,'DejaVu Sans Mono',consolas,'Courier New',monospace\"><span style=\"font-weight: bold\"> Trainable params: </span><span style=\"color: #00af00; text-decoration-color: #00af00\">17,027</span> (66.51 KB)\n",
       "</pre>\n"
      ],
      "text/plain": [
       "\u001b[1m Trainable params: \u001b[0m\u001b[38;5;34m17,027\u001b[0m (66.51 KB)\n"
      ]
     },
     "metadata": {},
     "output_type": "display_data"
    },
    {
     "data": {
      "text/html": [
       "<pre style=\"white-space:pre;overflow-x:auto;line-height:normal;font-family:Menlo,'DejaVu Sans Mono',consolas,'Courier New',monospace\"><span style=\"font-weight: bold\"> Non-trainable params: </span><span style=\"color: #00af00; text-decoration-color: #00af00\">0</span> (0.00 B)\n",
       "</pre>\n"
      ],
      "text/plain": [
       "\u001b[1m Non-trainable params: \u001b[0m\u001b[38;5;34m0\u001b[0m (0.00 B)\n"
      ]
     },
     "metadata": {},
     "output_type": "display_data"
    }
   ],
   "source": [
    "from tensorflow.keras.models import Sequential\n",
    "from tensorflow.keras.layers import Conv1D, MaxPooling1D, Flatten, Dense, Dropout\n",
    "\n",
    "model = Sequential()\n",
    "model.add(Conv1D(32,kernel_size=3,activation='relu',input_shape=(10,1)))\n",
    "model.add(MaxPooling1D(pool_size=2))\n",
    "model.add(Flatten())\n",
    "model.add(Dense(128,activation='relu'))\n",
    "model.add(Dense(3,activation='softmax'))\n",
    "\n",
    "model.summary()"
   ]
  },
  {
   "cell_type": "code",
   "execution_count": 57,
   "id": "dd86ce53-bdb7-4d9c-a467-aff9416f11d0",
   "metadata": {},
   "outputs": [],
   "source": [
    "# target 이 0 1 2의 정수형 데이터이므로 sparse_categorical_crossentropy 사용\n",
    "model.compile(optimizer='adam',loss='sparse_categorical_crossentropy',metrics=['accuracy'])"
   ]
  },
  {
   "cell_type": "code",
   "execution_count": 59,
   "id": "5227a434-90c4-4da0-a063-6d1497eaaa87",
   "metadata": {},
   "outputs": [
    {
     "name": "stdout",
     "output_type": "stream",
     "text": [
      "Epoch 1/100\n",
      "\u001b[1m105/105\u001b[0m \u001b[32m━━━━━━━━━━━━━━━━━━━━\u001b[0m\u001b[37m\u001b[0m \u001b[1m4s\u001b[0m 8ms/step - accuracy: 0.6964 - loss: 0.7653 - val_accuracy: 0.7452 - val_loss: 0.6157\n",
      "Epoch 2/100\n",
      "\u001b[1m105/105\u001b[0m \u001b[32m━━━━━━━━━━━━━━━━━━━━\u001b[0m\u001b[37m\u001b[0m \u001b[1m0s\u001b[0m 4ms/step - accuracy: 0.7401 - loss: 0.6014 - val_accuracy: 0.7548 - val_loss: 0.5934\n",
      "Epoch 3/100\n",
      "\u001b[1m105/105\u001b[0m \u001b[32m━━━━━━━━━━━━━━━━━━━━\u001b[0m\u001b[37m\u001b[0m \u001b[1m0s\u001b[0m 4ms/step - accuracy: 0.7687 - loss: 0.5704 - val_accuracy: 0.7524 - val_loss: 0.5781\n",
      "Epoch 4/100\n",
      "\u001b[1m105/105\u001b[0m \u001b[32m━━━━━━━━━━━━━━━━━━━━\u001b[0m\u001b[37m\u001b[0m \u001b[1m0s\u001b[0m 4ms/step - accuracy: 0.7682 - loss: 0.5511 - val_accuracy: 0.7524 - val_loss: 0.5703\n",
      "Epoch 5/100\n",
      "\u001b[1m105/105\u001b[0m \u001b[32m━━━━━━━━━━━━━━━━━━━━\u001b[0m\u001b[37m\u001b[0m \u001b[1m1s\u001b[0m 4ms/step - accuracy: 0.7788 - loss: 0.5355 - val_accuracy: 0.7356 - val_loss: 0.5956\n",
      "Epoch 6/100\n",
      "\u001b[1m105/105\u001b[0m \u001b[32m━━━━━━━━━━━━━━━━━━━━\u001b[0m\u001b[37m\u001b[0m \u001b[1m0s\u001b[0m 4ms/step - accuracy: 0.7753 - loss: 0.5347 - val_accuracy: 0.7644 - val_loss: 0.5514\n",
      "Epoch 7/100\n",
      "\u001b[1m105/105\u001b[0m \u001b[32m━━━━━━━━━━━━━━━━━━━━\u001b[0m\u001b[37m\u001b[0m \u001b[1m1s\u001b[0m 4ms/step - accuracy: 0.7746 - loss: 0.5371 - val_accuracy: 0.7775 - val_loss: 0.5476\n",
      "Epoch 8/100\n",
      "\u001b[1m105/105\u001b[0m \u001b[32m━━━━━━━━━━━━━━━━━━━━\u001b[0m\u001b[37m\u001b[0m \u001b[1m0s\u001b[0m 4ms/step - accuracy: 0.7806 - loss: 0.5249 - val_accuracy: 0.7811 - val_loss: 0.5441\n",
      "Epoch 9/100\n",
      "\u001b[1m105/105\u001b[0m \u001b[32m━━━━━━━━━━━━━━━━━━━━\u001b[0m\u001b[37m\u001b[0m \u001b[1m0s\u001b[0m 4ms/step - accuracy: 0.7762 - loss: 0.5444 - val_accuracy: 0.7644 - val_loss: 0.5418\n",
      "Epoch 10/100\n",
      "\u001b[1m105/105\u001b[0m \u001b[32m━━━━━━━━━━━━━━━━━━━━\u001b[0m\u001b[37m\u001b[0m \u001b[1m0s\u001b[0m 4ms/step - accuracy: 0.7813 - loss: 0.5124 - val_accuracy: 0.7811 - val_loss: 0.5391\n",
      "Epoch 11/100\n",
      "\u001b[1m105/105\u001b[0m \u001b[32m━━━━━━━━━━━━━━━━━━━━\u001b[0m\u001b[37m\u001b[0m \u001b[1m1s\u001b[0m 5ms/step - accuracy: 0.7753 - loss: 0.5269 - val_accuracy: 0.7775 - val_loss: 0.5467\n",
      "Epoch 12/100\n",
      "\u001b[1m105/105\u001b[0m \u001b[32m━━━━━━━━━━━━━━━━━━━━\u001b[0m\u001b[37m\u001b[0m \u001b[1m1s\u001b[0m 4ms/step - accuracy: 0.7832 - loss: 0.5167 - val_accuracy: 0.7811 - val_loss: 0.5420\n",
      "Epoch 13/100\n",
      "\u001b[1m105/105\u001b[0m \u001b[32m━━━━━━━━━━━━━━━━━━━━\u001b[0m\u001b[37m\u001b[0m \u001b[1m0s\u001b[0m 4ms/step - accuracy: 0.7831 - loss: 0.5202 - val_accuracy: 0.7620 - val_loss: 0.5505\n",
      "Epoch 14/100\n",
      "\u001b[1m105/105\u001b[0m \u001b[32m━━━━━━━━━━━━━━━━━━━━\u001b[0m\u001b[37m\u001b[0m \u001b[1m1s\u001b[0m 4ms/step - accuracy: 0.7867 - loss: 0.5028 - val_accuracy: 0.7715 - val_loss: 0.5411\n",
      "Epoch 15/100\n",
      "\u001b[1m105/105\u001b[0m \u001b[32m━━━━━━━━━━━━━━━━━━━━\u001b[0m\u001b[37m\u001b[0m \u001b[1m0s\u001b[0m 4ms/step - accuracy: 0.7891 - loss: 0.5157 - val_accuracy: 0.7727 - val_loss: 0.5372\n",
      "Epoch 16/100\n",
      "\u001b[1m105/105\u001b[0m \u001b[32m━━━━━━━━━━━━━━━━━━━━\u001b[0m\u001b[37m\u001b[0m \u001b[1m1s\u001b[0m 4ms/step - accuracy: 0.7856 - loss: 0.5168 - val_accuracy: 0.7787 - val_loss: 0.5387\n",
      "Epoch 17/100\n",
      "\u001b[1m105/105\u001b[0m \u001b[32m━━━━━━━━━━━━━━━━━━━━\u001b[0m\u001b[37m\u001b[0m \u001b[1m1s\u001b[0m 4ms/step - accuracy: 0.7887 - loss: 0.5048 - val_accuracy: 0.7787 - val_loss: 0.5405\n",
      "Epoch 18/100\n",
      "\u001b[1m105/105\u001b[0m \u001b[32m━━━━━━━━━━━━━━━━━━━━\u001b[0m\u001b[37m\u001b[0m \u001b[1m1s\u001b[0m 4ms/step - accuracy: 0.7956 - loss: 0.5124 - val_accuracy: 0.7620 - val_loss: 0.5455\n",
      "Epoch 19/100\n",
      "\u001b[1m105/105\u001b[0m \u001b[32m━━━━━━━━━━━━━━━━━━━━\u001b[0m\u001b[37m\u001b[0m \u001b[1m1s\u001b[0m 4ms/step - accuracy: 0.7867 - loss: 0.5053 - val_accuracy: 0.7811 - val_loss: 0.5444\n",
      "Epoch 20/100\n",
      "\u001b[1m105/105\u001b[0m \u001b[32m━━━━━━━━━━━━━━━━━━━━\u001b[0m\u001b[37m\u001b[0m \u001b[1m1s\u001b[0m 4ms/step - accuracy: 0.7866 - loss: 0.5131 - val_accuracy: 0.7715 - val_loss: 0.5397\n",
      "Epoch 21/100\n",
      "\u001b[1m105/105\u001b[0m \u001b[32m━━━━━━━━━━━━━━━━━━━━\u001b[0m\u001b[37m\u001b[0m \u001b[1m1s\u001b[0m 4ms/step - accuracy: 0.7801 - loss: 0.5128 - val_accuracy: 0.7835 - val_loss: 0.5397\n",
      "Epoch 22/100\n",
      "\u001b[1m105/105\u001b[0m \u001b[32m━━━━━━━━━━━━━━━━━━━━\u001b[0m\u001b[37m\u001b[0m \u001b[1m1s\u001b[0m 4ms/step - accuracy: 0.7807 - loss: 0.5304 - val_accuracy: 0.7775 - val_loss: 0.5356\n",
      "Epoch 23/100\n",
      "\u001b[1m105/105\u001b[0m \u001b[32m━━━━━━━━━━━━━━━━━━━━\u001b[0m\u001b[37m\u001b[0m \u001b[1m0s\u001b[0m 4ms/step - accuracy: 0.7821 - loss: 0.5092 - val_accuracy: 0.7847 - val_loss: 0.5518\n",
      "Epoch 24/100\n",
      "\u001b[1m105/105\u001b[0m \u001b[32m━━━━━━━━━━━━━━━━━━━━\u001b[0m\u001b[37m\u001b[0m \u001b[1m1s\u001b[0m 4ms/step - accuracy: 0.7798 - loss: 0.5181 - val_accuracy: 0.7727 - val_loss: 0.5334\n",
      "Epoch 25/100\n",
      "\u001b[1m105/105\u001b[0m \u001b[32m━━━━━━━━━━━━━━━━━━━━\u001b[0m\u001b[37m\u001b[0m \u001b[1m1s\u001b[0m 4ms/step - accuracy: 0.8002 - loss: 0.4980 - val_accuracy: 0.7584 - val_loss: 0.5471\n",
      "Epoch 26/100\n",
      "\u001b[1m105/105\u001b[0m \u001b[32m━━━━━━━━━━━━━━━━━━━━\u001b[0m\u001b[37m\u001b[0m \u001b[1m1s\u001b[0m 4ms/step - accuracy: 0.7860 - loss: 0.4908 - val_accuracy: 0.7632 - val_loss: 0.5460\n",
      "Epoch 27/100\n",
      "\u001b[1m105/105\u001b[0m \u001b[32m━━━━━━━━━━━━━━━━━━━━\u001b[0m\u001b[37m\u001b[0m \u001b[1m0s\u001b[0m 4ms/step - accuracy: 0.7842 - loss: 0.4846 - val_accuracy: 0.7799 - val_loss: 0.5341\n",
      "Epoch 28/100\n",
      "\u001b[1m105/105\u001b[0m \u001b[32m━━━━━━━━━━━━━━━━━━━━\u001b[0m\u001b[37m\u001b[0m \u001b[1m1s\u001b[0m 4ms/step - accuracy: 0.8018 - loss: 0.4864 - val_accuracy: 0.7739 - val_loss: 0.5386\n",
      "Epoch 29/100\n",
      "\u001b[1m105/105\u001b[0m \u001b[32m━━━━━━━━━━━━━━━━━━━━\u001b[0m\u001b[37m\u001b[0m \u001b[1m1s\u001b[0m 5ms/step - accuracy: 0.7981 - loss: 0.4807 - val_accuracy: 0.7811 - val_loss: 0.5395\n",
      "Epoch 30/100\n",
      "\u001b[1m105/105\u001b[0m \u001b[32m━━━━━━━━━━━━━━━━━━━━\u001b[0m\u001b[37m\u001b[0m \u001b[1m0s\u001b[0m 4ms/step - accuracy: 0.7954 - loss: 0.4977 - val_accuracy: 0.7823 - val_loss: 0.5317\n",
      "Epoch 31/100\n",
      "\u001b[1m105/105\u001b[0m \u001b[32m━━━━━━━━━━━━━━━━━━━━\u001b[0m\u001b[37m\u001b[0m \u001b[1m0s\u001b[0m 4ms/step - accuracy: 0.7838 - loss: 0.5119 - val_accuracy: 0.7667 - val_loss: 0.5382\n",
      "Epoch 32/100\n",
      "\u001b[1m105/105\u001b[0m \u001b[32m━━━━━━━━━━━━━━━━━━━━\u001b[0m\u001b[37m\u001b[0m \u001b[1m0s\u001b[0m 4ms/step - accuracy: 0.7744 - loss: 0.5061 - val_accuracy: 0.7787 - val_loss: 0.5247\n",
      "Epoch 33/100\n",
      "\u001b[1m105/105\u001b[0m \u001b[32m━━━━━━━━━━━━━━━━━━━━\u001b[0m\u001b[37m\u001b[0m \u001b[1m0s\u001b[0m 4ms/step - accuracy: 0.8081 - loss: 0.4784 - val_accuracy: 0.7823 - val_loss: 0.5274\n",
      "Epoch 34/100\n",
      "\u001b[1m105/105\u001b[0m \u001b[32m━━━━━━━━━━━━━━━━━━━━\u001b[0m\u001b[37m\u001b[0m \u001b[1m0s\u001b[0m 4ms/step - accuracy: 0.8075 - loss: 0.4801 - val_accuracy: 0.7632 - val_loss: 0.5317\n",
      "Epoch 35/100\n",
      "\u001b[1m105/105\u001b[0m \u001b[32m━━━━━━━━━━━━━━━━━━━━\u001b[0m\u001b[37m\u001b[0m \u001b[1m1s\u001b[0m 4ms/step - accuracy: 0.7827 - loss: 0.4976 - val_accuracy: 0.7847 - val_loss: 0.5302\n",
      "Epoch 36/100\n",
      "\u001b[1m105/105\u001b[0m \u001b[32m━━━━━━━━━━━━━━━━━━━━\u001b[0m\u001b[37m\u001b[0m \u001b[1m1s\u001b[0m 4ms/step - accuracy: 0.8005 - loss: 0.4934 - val_accuracy: 0.7847 - val_loss: 0.5322\n",
      "Epoch 37/100\n",
      "\u001b[1m105/105\u001b[0m \u001b[32m━━━━━━━━━━━━━━━━━━━━\u001b[0m\u001b[37m\u001b[0m \u001b[1m1s\u001b[0m 4ms/step - accuracy: 0.7910 - loss: 0.4956 - val_accuracy: 0.7679 - val_loss: 0.5329\n",
      "Epoch 38/100\n",
      "\u001b[1m105/105\u001b[0m \u001b[32m━━━━━━━━━━━━━━━━━━━━\u001b[0m\u001b[37m\u001b[0m \u001b[1m0s\u001b[0m 4ms/step - accuracy: 0.7899 - loss: 0.4832 - val_accuracy: 0.7727 - val_loss: 0.5274\n",
      "Epoch 39/100\n",
      "\u001b[1m105/105\u001b[0m \u001b[32m━━━━━━━━━━━━━━━━━━━━\u001b[0m\u001b[37m\u001b[0m \u001b[1m0s\u001b[0m 4ms/step - accuracy: 0.8035 - loss: 0.4631 - val_accuracy: 0.7799 - val_loss: 0.5263\n",
      "Epoch 40/100\n",
      "\u001b[1m105/105\u001b[0m \u001b[32m━━━━━━━━━━━━━━━━━━━━\u001b[0m\u001b[37m\u001b[0m \u001b[1m0s\u001b[0m 4ms/step - accuracy: 0.7900 - loss: 0.4922 - val_accuracy: 0.7644 - val_loss: 0.5286\n",
      "Epoch 41/100\n",
      "\u001b[1m105/105\u001b[0m \u001b[32m━━━━━━━━━━━━━━━━━━━━\u001b[0m\u001b[37m\u001b[0m \u001b[1m1s\u001b[0m 5ms/step - accuracy: 0.8107 - loss: 0.4613 - val_accuracy: 0.7799 - val_loss: 0.5263\n",
      "Epoch 42/100\n",
      "\u001b[1m105/105\u001b[0m \u001b[32m━━━━━━━━━━━━━━━━━━━━\u001b[0m\u001b[37m\u001b[0m \u001b[1m1s\u001b[0m 4ms/step - accuracy: 0.7935 - loss: 0.4971 - val_accuracy: 0.7895 - val_loss: 0.5404\n",
      "Epoch 43/100\n",
      "\u001b[1m105/105\u001b[0m \u001b[32m━━━━━━━━━━━━━━━━━━━━\u001b[0m\u001b[37m\u001b[0m \u001b[1m1s\u001b[0m 4ms/step - accuracy: 0.7890 - loss: 0.4877 - val_accuracy: 0.7847 - val_loss: 0.5324\n",
      "Epoch 44/100\n",
      "\u001b[1m105/105\u001b[0m \u001b[32m━━━━━━━━━━━━━━━━━━━━\u001b[0m\u001b[37m\u001b[0m \u001b[1m0s\u001b[0m 4ms/step - accuracy: 0.7857 - loss: 0.4914 - val_accuracy: 0.7811 - val_loss: 0.5356\n",
      "Epoch 45/100\n",
      "\u001b[1m105/105\u001b[0m \u001b[32m━━━━━━━━━━━━━━━━━━━━\u001b[0m\u001b[37m\u001b[0m \u001b[1m1s\u001b[0m 4ms/step - accuracy: 0.7982 - loss: 0.4698 - val_accuracy: 0.7835 - val_loss: 0.5402\n",
      "Epoch 46/100\n",
      "\u001b[1m105/105\u001b[0m \u001b[32m━━━━━━━━━━━━━━━━━━━━\u001b[0m\u001b[37m\u001b[0m \u001b[1m1s\u001b[0m 4ms/step - accuracy: 0.7931 - loss: 0.4876 - val_accuracy: 0.7596 - val_loss: 0.5427\n",
      "Epoch 47/100\n",
      "\u001b[1m105/105\u001b[0m \u001b[32m━━━━━━━━━━━━━━━━━━━━\u001b[0m\u001b[37m\u001b[0m \u001b[1m1s\u001b[0m 4ms/step - accuracy: 0.7988 - loss: 0.4772 - val_accuracy: 0.7632 - val_loss: 0.5340\n",
      "Epoch 48/100\n",
      "\u001b[1m105/105\u001b[0m \u001b[32m━━━━━━━━━━━━━━━━━━━━\u001b[0m\u001b[37m\u001b[0m \u001b[1m1s\u001b[0m 4ms/step - accuracy: 0.7938 - loss: 0.4811 - val_accuracy: 0.7703 - val_loss: 0.5265\n",
      "Epoch 49/100\n",
      "\u001b[1m105/105\u001b[0m \u001b[32m━━━━━━━━━━━━━━━━━━━━\u001b[0m\u001b[37m\u001b[0m \u001b[1m0s\u001b[0m 4ms/step - accuracy: 0.8023 - loss: 0.4688 - val_accuracy: 0.7644 - val_loss: 0.5237\n",
      "Epoch 50/100\n",
      "\u001b[1m105/105\u001b[0m \u001b[32m━━━━━━━━━━━━━━━━━━━━\u001b[0m\u001b[37m\u001b[0m \u001b[1m1s\u001b[0m 4ms/step - accuracy: 0.7920 - loss: 0.4907 - val_accuracy: 0.7739 - val_loss: 0.5326\n",
      "Epoch 51/100\n",
      "\u001b[1m105/105\u001b[0m \u001b[32m━━━━━━━━━━━━━━━━━━━━\u001b[0m\u001b[37m\u001b[0m \u001b[1m1s\u001b[0m 4ms/step - accuracy: 0.8028 - loss: 0.4724 - val_accuracy: 0.7608 - val_loss: 0.5290\n",
      "Epoch 52/100\n",
      "\u001b[1m105/105\u001b[0m \u001b[32m━━━━━━━━━━━━━━━━━━━━\u001b[0m\u001b[37m\u001b[0m \u001b[1m0s\u001b[0m 4ms/step - accuracy: 0.8006 - loss: 0.4806 - val_accuracy: 0.7679 - val_loss: 0.5509\n",
      "Epoch 53/100\n",
      "\u001b[1m105/105\u001b[0m \u001b[32m━━━━━━━━━━━━━━━━━━━━\u001b[0m\u001b[37m\u001b[0m \u001b[1m1s\u001b[0m 4ms/step - accuracy: 0.7942 - loss: 0.4861 - val_accuracy: 0.7787 - val_loss: 0.5251\n",
      "Epoch 54/100\n",
      "\u001b[1m105/105\u001b[0m \u001b[32m━━━━━━━━━━━━━━━━━━━━\u001b[0m\u001b[37m\u001b[0m \u001b[1m0s\u001b[0m 4ms/step - accuracy: 0.8014 - loss: 0.4725 - val_accuracy: 0.7656 - val_loss: 0.5296\n",
      "Epoch 55/100\n",
      "\u001b[1m105/105\u001b[0m \u001b[32m━━━━━━━━━━━━━━━━━━━━\u001b[0m\u001b[37m\u001b[0m \u001b[1m0s\u001b[0m 4ms/step - accuracy: 0.8010 - loss: 0.4700 - val_accuracy: 0.7811 - val_loss: 0.5259\n",
      "Epoch 56/100\n",
      "\u001b[1m105/105\u001b[0m \u001b[32m━━━━━━━━━━━━━━━━━━━━\u001b[0m\u001b[37m\u001b[0m \u001b[1m1s\u001b[0m 4ms/step - accuracy: 0.7929 - loss: 0.4942 - val_accuracy: 0.7715 - val_loss: 0.5265\n",
      "Epoch 57/100\n",
      "\u001b[1m105/105\u001b[0m \u001b[32m━━━━━━━━━━━━━━━━━━━━\u001b[0m\u001b[37m\u001b[0m \u001b[1m0s\u001b[0m 4ms/step - accuracy: 0.8009 - loss: 0.4761 - val_accuracy: 0.7883 - val_loss: 0.5401\n",
      "Epoch 58/100\n",
      "\u001b[1m105/105\u001b[0m \u001b[32m━━━━━━━━━━━━━━━━━━━━\u001b[0m\u001b[37m\u001b[0m \u001b[1m0s\u001b[0m 4ms/step - accuracy: 0.7903 - loss: 0.4785 - val_accuracy: 0.7823 - val_loss: 0.5335\n",
      "Epoch 59/100\n",
      "\u001b[1m105/105\u001b[0m \u001b[32m━━━━━━━━━━━━━━━━━━━━\u001b[0m\u001b[37m\u001b[0m \u001b[1m0s\u001b[0m 4ms/step - accuracy: 0.8173 - loss: 0.4395 - val_accuracy: 0.7464 - val_loss: 0.5432\n",
      "Epoch 60/100\n",
      "\u001b[1m105/105\u001b[0m \u001b[32m━━━━━━━━━━━━━━━━━━━━\u001b[0m\u001b[37m\u001b[0m \u001b[1m0s\u001b[0m 4ms/step - accuracy: 0.7990 - loss: 0.4762 - val_accuracy: 0.7715 - val_loss: 0.5361\n",
      "Epoch 61/100\n",
      "\u001b[1m105/105\u001b[0m \u001b[32m━━━━━━━━━━━━━━━━━━━━\u001b[0m\u001b[37m\u001b[0m \u001b[1m0s\u001b[0m 4ms/step - accuracy: 0.8015 - loss: 0.4743 - val_accuracy: 0.7847 - val_loss: 0.5247\n",
      "Epoch 62/100\n",
      "\u001b[1m105/105\u001b[0m \u001b[32m━━━━━━━━━━━━━━━━━━━━\u001b[0m\u001b[37m\u001b[0m \u001b[1m1s\u001b[0m 4ms/step - accuracy: 0.7982 - loss: 0.4701 - val_accuracy: 0.7727 - val_loss: 0.5290\n",
      "Epoch 63/100\n",
      "\u001b[1m105/105\u001b[0m \u001b[32m━━━━━━━━━━━━━━━━━━━━\u001b[0m\u001b[37m\u001b[0m \u001b[1m0s\u001b[0m 4ms/step - accuracy: 0.8010 - loss: 0.4673 - val_accuracy: 0.7656 - val_loss: 0.5277\n",
      "Epoch 64/100\n",
      "\u001b[1m105/105\u001b[0m \u001b[32m━━━━━━━━━━━━━━━━━━━━\u001b[0m\u001b[37m\u001b[0m \u001b[1m0s\u001b[0m 4ms/step - accuracy: 0.8033 - loss: 0.4610 - val_accuracy: 0.7811 - val_loss: 0.5320\n",
      "Epoch 65/100\n",
      "\u001b[1m105/105\u001b[0m \u001b[32m━━━━━━━━━━━━━━━━━━━━\u001b[0m\u001b[37m\u001b[0m \u001b[1m0s\u001b[0m 4ms/step - accuracy: 0.8054 - loss: 0.4623 - val_accuracy: 0.7667 - val_loss: 0.5328\n",
      "Epoch 66/100\n",
      "\u001b[1m105/105\u001b[0m \u001b[32m━━━━━━━━━━━━━━━━━━━━\u001b[0m\u001b[37m\u001b[0m \u001b[1m1s\u001b[0m 4ms/step - accuracy: 0.8078 - loss: 0.4596 - val_accuracy: 0.7739 - val_loss: 0.5233\n",
      "Epoch 67/100\n",
      "\u001b[1m105/105\u001b[0m \u001b[32m━━━━━━━━━━━━━━━━━━━━\u001b[0m\u001b[37m\u001b[0m \u001b[1m1s\u001b[0m 4ms/step - accuracy: 0.8064 - loss: 0.4599 - val_accuracy: 0.7787 - val_loss: 0.5332\n",
      "Epoch 68/100\n",
      "\u001b[1m105/105\u001b[0m \u001b[32m━━━━━━━━━━━━━━━━━━━━\u001b[0m\u001b[37m\u001b[0m \u001b[1m1s\u001b[0m 4ms/step - accuracy: 0.7955 - loss: 0.4672 - val_accuracy: 0.7775 - val_loss: 0.5261\n",
      "Epoch 69/100\n",
      "\u001b[1m105/105\u001b[0m \u001b[32m━━━━━━━━━━━━━━━━━━━━\u001b[0m\u001b[37m\u001b[0m \u001b[1m0s\u001b[0m 4ms/step - accuracy: 0.8151 - loss: 0.4438 - val_accuracy: 0.7512 - val_loss: 0.5384\n",
      "Epoch 70/100\n",
      "\u001b[1m105/105\u001b[0m \u001b[32m━━━━━━━━━━━━━━━━━━━━\u001b[0m\u001b[37m\u001b[0m \u001b[1m1s\u001b[0m 5ms/step - accuracy: 0.8030 - loss: 0.4632 - val_accuracy: 0.7895 - val_loss: 0.5338\n",
      "Epoch 71/100\n",
      "\u001b[1m105/105\u001b[0m \u001b[32m━━━━━━━━━━━━━━━━━━━━\u001b[0m\u001b[37m\u001b[0m \u001b[1m0s\u001b[0m 4ms/step - accuracy: 0.7980 - loss: 0.4787 - val_accuracy: 0.7679 - val_loss: 0.5317\n",
      "Epoch 72/100\n",
      "\u001b[1m105/105\u001b[0m \u001b[32m━━━━━━━━━━━━━━━━━━━━\u001b[0m\u001b[37m\u001b[0m \u001b[1m0s\u001b[0m 4ms/step - accuracy: 0.8054 - loss: 0.4616 - val_accuracy: 0.7787 - val_loss: 0.5308\n",
      "Epoch 73/100\n",
      "\u001b[1m105/105\u001b[0m \u001b[32m━━━━━━━━━━━━━━━━━━━━\u001b[0m\u001b[37m\u001b[0m \u001b[1m1s\u001b[0m 4ms/step - accuracy: 0.8070 - loss: 0.4469 - val_accuracy: 0.7691 - val_loss: 0.5271\n",
      "Epoch 74/100\n",
      "\u001b[1m105/105\u001b[0m \u001b[32m━━━━━━━━━━━━━━━━━━━━\u001b[0m\u001b[37m\u001b[0m \u001b[1m0s\u001b[0m 4ms/step - accuracy: 0.8109 - loss: 0.4565 - val_accuracy: 0.7572 - val_loss: 0.5371\n",
      "Epoch 75/100\n",
      "\u001b[1m105/105\u001b[0m \u001b[32m━━━━━━━━━━━━━━━━━━━━\u001b[0m\u001b[37m\u001b[0m \u001b[1m1s\u001b[0m 4ms/step - accuracy: 0.8113 - loss: 0.4566 - val_accuracy: 0.7895 - val_loss: 0.5304\n",
      "Epoch 76/100\n",
      "\u001b[1m105/105\u001b[0m \u001b[32m━━━━━━━━━━━━━━━━━━━━\u001b[0m\u001b[37m\u001b[0m \u001b[1m0s\u001b[0m 4ms/step - accuracy: 0.8014 - loss: 0.4626 - val_accuracy: 0.7703 - val_loss: 0.5292\n",
      "Epoch 77/100\n",
      "\u001b[1m105/105\u001b[0m \u001b[32m━━━━━━━━━━━━━━━━━━━━\u001b[0m\u001b[37m\u001b[0m \u001b[1m0s\u001b[0m 4ms/step - accuracy: 0.8016 - loss: 0.4701 - val_accuracy: 0.7739 - val_loss: 0.5321\n",
      "Epoch 78/100\n",
      "\u001b[1m105/105\u001b[0m \u001b[32m━━━━━━━━━━━━━━━━━━━━\u001b[0m\u001b[37m\u001b[0m \u001b[1m0s\u001b[0m 4ms/step - accuracy: 0.8041 - loss: 0.4732 - val_accuracy: 0.7763 - val_loss: 0.5308\n",
      "Epoch 79/100\n",
      "\u001b[1m105/105\u001b[0m \u001b[32m━━━━━━━━━━━━━━━━━━━━\u001b[0m\u001b[37m\u001b[0m \u001b[1m0s\u001b[0m 4ms/step - accuracy: 0.8121 - loss: 0.4333 - val_accuracy: 0.7787 - val_loss: 0.5331\n",
      "Epoch 80/100\n",
      "\u001b[1m105/105\u001b[0m \u001b[32m━━━━━━━━━━━━━━━━━━━━\u001b[0m\u001b[37m\u001b[0m \u001b[1m0s\u001b[0m 4ms/step - accuracy: 0.8088 - loss: 0.4545 - val_accuracy: 0.7787 - val_loss: 0.5347\n",
      "Epoch 81/100\n",
      "\u001b[1m105/105\u001b[0m \u001b[32m━━━━━━━━━━━━━━━━━━━━\u001b[0m\u001b[37m\u001b[0m \u001b[1m0s\u001b[0m 4ms/step - accuracy: 0.8081 - loss: 0.4596 - val_accuracy: 0.7799 - val_loss: 0.5299\n",
      "Epoch 82/100\n",
      "\u001b[1m105/105\u001b[0m \u001b[32m━━━━━━━━━━━━━━━━━━━━\u001b[0m\u001b[37m\u001b[0m \u001b[1m0s\u001b[0m 4ms/step - accuracy: 0.8156 - loss: 0.4390 - val_accuracy: 0.7787 - val_loss: 0.5304\n",
      "Epoch 83/100\n",
      "\u001b[1m105/105\u001b[0m \u001b[32m━━━━━━━━━━━━━━━━━━━━\u001b[0m\u001b[37m\u001b[0m \u001b[1m0s\u001b[0m 4ms/step - accuracy: 0.8044 - loss: 0.4552 - val_accuracy: 0.7691 - val_loss: 0.5341\n",
      "Epoch 84/100\n",
      "\u001b[1m105/105\u001b[0m \u001b[32m━━━━━━━━━━━━━━━━━━━━\u001b[0m\u001b[37m\u001b[0m \u001b[1m0s\u001b[0m 4ms/step - accuracy: 0.8248 - loss: 0.4346 - val_accuracy: 0.7859 - val_loss: 0.5325\n",
      "Epoch 85/100\n",
      "\u001b[1m105/105\u001b[0m \u001b[32m━━━━━━━━━━━━━━━━━━━━\u001b[0m\u001b[37m\u001b[0m \u001b[1m1s\u001b[0m 4ms/step - accuracy: 0.7977 - loss: 0.4738 - val_accuracy: 0.7811 - val_loss: 0.5271\n",
      "Epoch 86/100\n",
      "\u001b[1m105/105\u001b[0m \u001b[32m━━━━━━━━━━━━━━━━━━━━\u001b[0m\u001b[37m\u001b[0m \u001b[1m0s\u001b[0m 4ms/step - accuracy: 0.8089 - loss: 0.4496 - val_accuracy: 0.7428 - val_loss: 0.5478\n",
      "Epoch 87/100\n",
      "\u001b[1m105/105\u001b[0m \u001b[32m━━━━━━━━━━━━━━━━━━━━\u001b[0m\u001b[37m\u001b[0m \u001b[1m1s\u001b[0m 4ms/step - accuracy: 0.8124 - loss: 0.4585 - val_accuracy: 0.7823 - val_loss: 0.5290\n",
      "Epoch 88/100\n",
      "\u001b[1m105/105\u001b[0m \u001b[32m━━━━━━━━━━━━━━━━━━━━\u001b[0m\u001b[37m\u001b[0m \u001b[1m0s\u001b[0m 4ms/step - accuracy: 0.8055 - loss: 0.4558 - val_accuracy: 0.7679 - val_loss: 0.5330\n",
      "Epoch 89/100\n",
      "\u001b[1m105/105\u001b[0m \u001b[32m━━━━━━━━━━━━━━━━━━━━\u001b[0m\u001b[37m\u001b[0m \u001b[1m0s\u001b[0m 4ms/step - accuracy: 0.8118 - loss: 0.4415 - val_accuracy: 0.7739 - val_loss: 0.5523\n",
      "Epoch 90/100\n",
      "\u001b[1m105/105\u001b[0m \u001b[32m━━━━━━━━━━━━━━━━━━━━\u001b[0m\u001b[37m\u001b[0m \u001b[1m0s\u001b[0m 4ms/step - accuracy: 0.8064 - loss: 0.4571 - val_accuracy: 0.7751 - val_loss: 0.5402\n",
      "Epoch 91/100\n",
      "\u001b[1m105/105\u001b[0m \u001b[32m━━━━━━━━━━━━━━━━━━━━\u001b[0m\u001b[37m\u001b[0m \u001b[1m0s\u001b[0m 4ms/step - accuracy: 0.8079 - loss: 0.4623 - val_accuracy: 0.7584 - val_loss: 0.5438\n",
      "Epoch 92/100\n",
      "\u001b[1m105/105\u001b[0m \u001b[32m━━━━━━━━━━━━━━━━━━━━\u001b[0m\u001b[37m\u001b[0m \u001b[1m0s\u001b[0m 4ms/step - accuracy: 0.8147 - loss: 0.4355 - val_accuracy: 0.7739 - val_loss: 0.5300\n",
      "Epoch 93/100\n",
      "\u001b[1m105/105\u001b[0m \u001b[32m━━━━━━━━━━━━━━━━━━━━\u001b[0m\u001b[37m\u001b[0m \u001b[1m1s\u001b[0m 4ms/step - accuracy: 0.8078 - loss: 0.4492 - val_accuracy: 0.7488 - val_loss: 0.5521\n",
      "Epoch 94/100\n",
      "\u001b[1m105/105\u001b[0m \u001b[32m━━━━━━━━━━━━━━━━━━━━\u001b[0m\u001b[37m\u001b[0m \u001b[1m1s\u001b[0m 4ms/step - accuracy: 0.8141 - loss: 0.4504 - val_accuracy: 0.7847 - val_loss: 0.5441\n",
      "Epoch 95/100\n",
      "\u001b[1m105/105\u001b[0m \u001b[32m━━━━━━━━━━━━━━━━━━━━\u001b[0m\u001b[37m\u001b[0m \u001b[1m0s\u001b[0m 4ms/step - accuracy: 0.8058 - loss: 0.4569 - val_accuracy: 0.7787 - val_loss: 0.5386\n",
      "Epoch 96/100\n",
      "\u001b[1m105/105\u001b[0m \u001b[32m━━━━━━━━━━━━━━━━━━━━\u001b[0m\u001b[37m\u001b[0m \u001b[1m0s\u001b[0m 4ms/step - accuracy: 0.8015 - loss: 0.4669 - val_accuracy: 0.7823 - val_loss: 0.5413\n",
      "Epoch 97/100\n",
      "\u001b[1m105/105\u001b[0m \u001b[32m━━━━━━━━━━━━━━━━━━━━\u001b[0m\u001b[37m\u001b[0m \u001b[1m0s\u001b[0m 4ms/step - accuracy: 0.8143 - loss: 0.4414 - val_accuracy: 0.7656 - val_loss: 0.5374\n",
      "Epoch 98/100\n",
      "\u001b[1m105/105\u001b[0m \u001b[32m━━━━━━━━━━━━━━━━━━━━\u001b[0m\u001b[37m\u001b[0m \u001b[1m0s\u001b[0m 4ms/step - accuracy: 0.8152 - loss: 0.4477 - val_accuracy: 0.7691 - val_loss: 0.5509\n",
      "Epoch 99/100\n",
      "\u001b[1m105/105\u001b[0m \u001b[32m━━━━━━━━━━━━━━━━━━━━\u001b[0m\u001b[37m\u001b[0m \u001b[1m0s\u001b[0m 4ms/step - accuracy: 0.7940 - loss: 0.4700 - val_accuracy: 0.7679 - val_loss: 0.5401\n",
      "Epoch 100/100\n",
      "\u001b[1m105/105\u001b[0m \u001b[32m━━━━━━━━━━━━━━━━━━━━\u001b[0m\u001b[37m\u001b[0m \u001b[1m0s\u001b[0m 4ms/step - accuracy: 0.8114 - loss: 0.4563 - val_accuracy: 0.7775 - val_loss: 0.5375\n"
     ]
    }
   ],
   "source": [
    "history = model.fit(x_train,y_train,epochs=100,validation_data=(x_test,y_test))"
   ]
  },
  {
   "cell_type": "code",
   "execution_count": 60,
   "id": "02f467b4-27f7-4165-a94e-15c99e79f394",
   "metadata": {},
   "outputs": [
    {
     "data": {
      "text/plain": [
       "dict_keys(['accuracy', 'loss', 'val_accuracy', 'val_loss'])"
      ]
     },
     "execution_count": 60,
     "metadata": {},
     "output_type": "execute_result"
    }
   ],
   "source": [
    "history.history.keys()"
   ]
  },
  {
   "cell_type": "code",
   "execution_count": 61,
   "id": "f12ff8a0-22ca-4d80-94e2-8a16207dfdda",
   "metadata": {},
   "outputs": [
    {
     "data": {
      "text/plain": [
       "<matplotlib.legend.Legend at 0x18083c7a2a0>"
      ]
     },
     "execution_count": 61,
     "metadata": {},
     "output_type": "execute_result"
    },
    {
     "data": {
      "image/png": "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",
      "text/plain": [
       "<Figure size 640x480 with 1 Axes>"
      ]
     },
     "metadata": {},
     "output_type": "display_data"
    }
   ],
   "source": [
    "import matplotlib.pyplot as plt\n",
    "\n",
    "plt.plot(history.history[\"loss\"], label = \"train\")\n",
    "plt.plot(history.history[\"val_loss\"], label = \"test\")\n",
    "plt.legend()"
   ]
  },
  {
   "cell_type": "code",
   "execution_count": 62,
   "id": "5265fc52-9347-45fc-ac9f-31f4a9fa7385",
   "metadata": {},
   "outputs": [
    {
     "data": {
      "text/plain": [
       "<matplotlib.legend.Legend at 0x18083d34e90>"
      ]
     },
     "execution_count": 62,
     "metadata": {},
     "output_type": "execute_result"
    },
    {
     "data": {
      "image/png": "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",
      "text/plain": [
       "<Figure size 640x480 with 1 Axes>"
      ]
     },
     "metadata": {},
     "output_type": "display_data"
    }
   ],
   "source": [
    "plt.plot(history.history[\"accuracy\"],label=\"train\")\n",
    "plt.plot(history.history[\"val_accuracy\"],label=\"test\")\n",
    "plt.legend()"
   ]
  },
  {
   "cell_type": "code",
   "execution_count": 63,
   "id": "48eec2e0-f328-4ab8-a19f-fb0cded34b9a",
   "metadata": {},
   "outputs": [
    {
     "name": "stdout",
     "output_type": "stream",
     "text": [
      "\u001b[1m27/27\u001b[0m \u001b[32m━━━━━━━━━━━━━━━━━━━━\u001b[0m\u001b[37m\u001b[0m \u001b[1m0s\u001b[0m 2ms/step - accuracy: 0.7658 - loss: 0.5544\n"
     ]
    },
    {
     "data": {
      "text/plain": [
       "[0.537501335144043, 0.7775119543075562]"
      ]
     },
     "execution_count": 63,
     "metadata": {},
     "output_type": "execute_result"
    }
   ],
   "source": [
    "model.evaluate(x_test,y_test)"
   ]
  },
  {
   "cell_type": "code",
   "execution_count": 64,
   "id": "d9978902-15f6-46c5-a060-2ee1ad9e3670",
   "metadata": {},
   "outputs": [
    {
     "name": "stdout",
     "output_type": "stream",
     "text": [
      "\u001b[1m105/105\u001b[0m \u001b[32m━━━━━━━━━━━━━━━━━━━━\u001b[0m\u001b[37m\u001b[0m \u001b[1m0s\u001b[0m 2ms/step - accuracy: 0.8146 - loss: 0.4394\n"
     ]
    },
    {
     "data": {
      "text/plain": [
       "[0.4386710524559021, 0.8168213367462158]"
      ]
     },
     "execution_count": 64,
     "metadata": {},
     "output_type": "execute_result"
    }
   ],
   "source": [
    "model.evaluate(x_train,y_train)"
   ]
  },
  {
   "cell_type": "markdown",
   "id": "aa6a3647-8741-4cc1-9a4e-78b976c88672",
   "metadata": {},
   "source": [
    "# 2. 사전 학습 모델로 저장"
   ]
  },
  {
   "cell_type": "code",
   "execution_count": 73,
   "id": "6c33a617-bd86-4aed-aba5-96340c15541b",
   "metadata": {},
   "outputs": [
    {
     "name": "stdout",
     "output_type": "stream",
     "text": [
      "\u001b[1m27/27\u001b[0m \u001b[32m━━━━━━━━━━━━━━━━━━━━\u001b[0m\u001b[37m\u001b[0m \u001b[1m0s\u001b[0m 2ms/step - accuracy: 0.7658 - loss: 0.5544\n"
     ]
    },
    {
     "name": "stderr",
     "output_type": "stream",
     "text": [
      "WARNING:absl:You are saving your model as an HDF5 file via `model.save()` or `keras.saving.save_model(model)`. This file format is considered legacy. We recommend using instead the native Keras format, e.g. `model.save('my_model.keras')` or `keras.saving.save_model(model, 'my_model.keras')`. \n"
     ]
    },
    {
     "name": "stdout",
     "output_type": "stream",
     "text": [
      "model saved at  .abalone.h5\n",
      "Accuracy >77.751195\n",
      "Base Loss >0.54\n"
     ]
    }
   ],
   "source": [
    "import tensorflow as tf\n",
    "\n",
    "base_loss,base_accuracy=model.evaluate(x_test, y_test)\n",
    "\n",
    "model_file='.abalone.h5'\n",
    "\n",
    "tf.keras.models.save_model(model, model_file, include_optimizer=False)\n",
    "print('model saved at ', model_file)\n",
    "#score,keras_file=evaluate_model(trainX,trainy,testX,testy)\n",
    "score=base_accuracy*100\n",
    "print('Accuracy >{:f}'.format(score))\n",
    "print('Base Loss >{:.2f}'.format(base_loss))"
   ]
  },
  {
   "cell_type": "markdown",
   "id": "f1f1ac87-0e0a-4c38-b17e-6d4e3c053385",
   "metadata": {},
   "source": [
    "# 3.  사전 학습 모델 불러와서 새로운 층과 출력층 추가하기"
   ]
  },
  {
   "cell_type": "code",
   "execution_count": 77,
   "id": "5cac0313-3af0-4175-847c-f394ee76d560",
   "metadata": {},
   "outputs": [
    {
     "name": "stderr",
     "output_type": "stream",
     "text": [
      "WARNING:absl:No training configuration found in the save file, so the model was *not* compiled. Compile it manually.\n"
     ]
    }
   ],
   "source": [
    "from tensorflow.keras.models import load_model\n",
    "\n",
    "base_model = load_model(model_file)"
   ]
  },
  {
   "cell_type": "code",
   "execution_count": 79,
   "id": "f366b54f-2299-4880-832b-4b315a210bde",
   "metadata": {},
   "outputs": [
    {
     "name": "stdout",
     "output_type": "stream",
     "text": [
      "\u001b[1m27/27\u001b[0m \u001b[32m━━━━━━━━━━━━━━━━━━━━\u001b[0m\u001b[37m\u001b[0m \u001b[1m1s\u001b[0m 2ms/step - accuracy: 0.7658 - loss: 0.5544 \n"
     ]
    },
    {
     "data": {
      "text/plain": [
       "[0.537501335144043, 0.7775119543075562]"
      ]
     },
     "execution_count": 79,
     "metadata": {},
     "output_type": "execute_result"
    }
   ],
   "source": [
    "base_model.compile(optimizer='adam', metrics=['accuracy'], loss='sparse_categorical_crossentropy')\n",
    "base_model.evaluate(x_test, y_test)"
   ]
  },
  {
   "cell_type": "code",
   "execution_count": 81,
   "id": "1cf1a4ba-2258-46c4-bf72-0ea20ba2268b",
   "metadata": {},
   "outputs": [
    {
     "name": "stdout",
     "output_type": "stream",
     "text": [
      "Number of layers in the base model:  5\n"
     ]
    }
   ],
   "source": [
    "print(\"Number of layers in the base model: \", len(base_model.layers))"
   ]
  },
  {
   "cell_type": "code",
   "execution_count": 83,
   "id": "a2d65fa4-74d3-4b1d-a9c8-d47e0671fa7b",
   "metadata": {},
   "outputs": [],
   "source": [
    "from tensorflow.keras import layers, models\n",
    "\n",
    "def remove_last_layers(model, num_layers_to_remove):\n",
    "    # 모델의 레이어를 하나씩 슬라이스해서 앞의 레이어만 가져옴\n",
    "    model_layers = model.layers[:-num_layers_to_remove]  # 마지막 레이어부터 지정된 갯수만큼 제외\n",
    "    new_model = models.Sequential(model_layers)  # 새로운 모델에 해당 레이어들만 추가\n",
    "    return new_model"
   ]
  },
  {
   "cell_type": "code",
   "execution_count": 85,
   "id": "cb4d8861-fff2-4864-83dc-f5dc09c472c5",
   "metadata": {},
   "outputs": [],
   "source": [
    "# 출력층부터 1개의 레이어를 삭제\n",
    "new_model = remove_last_layers(base_model, 3)"
   ]
  },
  {
   "cell_type": "code",
   "execution_count": 87,
   "id": "a86fbf54-b029-40fe-b939-c59e4d41540b",
   "metadata": {},
   "outputs": [
    {
     "data": {
      "text/html": [
       "<pre style=\"white-space:pre;overflow-x:auto;line-height:normal;font-family:Menlo,'DejaVu Sans Mono',consolas,'Courier New',monospace\"><span style=\"font-weight: bold\">Model: \"sequential_1\"</span>\n",
       "</pre>\n"
      ],
      "text/plain": [
       "\u001b[1mModel: \"sequential_1\"\u001b[0m\n"
      ]
     },
     "metadata": {},
     "output_type": "display_data"
    },
    {
     "data": {
      "text/html": [
       "<pre style=\"white-space:pre;overflow-x:auto;line-height:normal;font-family:Menlo,'DejaVu Sans Mono',consolas,'Courier New',monospace\">┏━━━━━━━━━━━━━━━━━━━━━━━━━━━━━━━━━━━━━━┳━━━━━━━━━━━━━━━━━━━━━━━━━━━━━┳━━━━━━━━━━━━━━━━━┓\n",
       "┃<span style=\"font-weight: bold\"> Layer (type)                         </span>┃<span style=\"font-weight: bold\"> Output Shape                </span>┃<span style=\"font-weight: bold\">         Param # </span>┃\n",
       "┡━━━━━━━━━━━━━━━━━━━━━━━━━━━━━━━━━━━━━━╇━━━━━━━━━━━━━━━━━━━━━━━━━━━━━╇━━━━━━━━━━━━━━━━━┩\n",
       "│ conv1d (<span style=\"color: #0087ff; text-decoration-color: #0087ff\">Conv1D</span>)                      │ (<span style=\"color: #00d7ff; text-decoration-color: #00d7ff\">None</span>, <span style=\"color: #00af00; text-decoration-color: #00af00\">8</span>, <span style=\"color: #00af00; text-decoration-color: #00af00\">32</span>)               │             <span style=\"color: #00af00; text-decoration-color: #00af00\">128</span> │\n",
       "├──────────────────────────────────────┼─────────────────────────────┼─────────────────┤\n",
       "│ max_pooling1d (<span style=\"color: #0087ff; text-decoration-color: #0087ff\">MaxPooling1D</span>)         │ (<span style=\"color: #00d7ff; text-decoration-color: #00d7ff\">None</span>, <span style=\"color: #00af00; text-decoration-color: #00af00\">4</span>, <span style=\"color: #00af00; text-decoration-color: #00af00\">32</span>)               │               <span style=\"color: #00af00; text-decoration-color: #00af00\">0</span> │\n",
       "└──────────────────────────────────────┴─────────────────────────────┴─────────────────┘\n",
       "</pre>\n"
      ],
      "text/plain": [
       "┏━━━━━━━━━━━━━━━━━━━━━━━━━━━━━━━━━━━━━━┳━━━━━━━━━━━━━━━━━━━━━━━━━━━━━┳━━━━━━━━━━━━━━━━━┓\n",
       "┃\u001b[1m \u001b[0m\u001b[1mLayer (type)                        \u001b[0m\u001b[1m \u001b[0m┃\u001b[1m \u001b[0m\u001b[1mOutput Shape               \u001b[0m\u001b[1m \u001b[0m┃\u001b[1m \u001b[0m\u001b[1m        Param #\u001b[0m\u001b[1m \u001b[0m┃\n",
       "┡━━━━━━━━━━━━━━━━━━━━━━━━━━━━━━━━━━━━━━╇━━━━━━━━━━━━━━━━━━━━━━━━━━━━━╇━━━━━━━━━━━━━━━━━┩\n",
       "│ conv1d (\u001b[38;5;33mConv1D\u001b[0m)                      │ (\u001b[38;5;45mNone\u001b[0m, \u001b[38;5;34m8\u001b[0m, \u001b[38;5;34m32\u001b[0m)               │             \u001b[38;5;34m128\u001b[0m │\n",
       "├──────────────────────────────────────┼─────────────────────────────┼─────────────────┤\n",
       "│ max_pooling1d (\u001b[38;5;33mMaxPooling1D\u001b[0m)         │ (\u001b[38;5;45mNone\u001b[0m, \u001b[38;5;34m4\u001b[0m, \u001b[38;5;34m32\u001b[0m)               │               \u001b[38;5;34m0\u001b[0m │\n",
       "└──────────────────────────────────────┴─────────────────────────────┴─────────────────┘\n"
      ]
     },
     "metadata": {},
     "output_type": "display_data"
    },
    {
     "data": {
      "text/html": [
       "<pre style=\"white-space:pre;overflow-x:auto;line-height:normal;font-family:Menlo,'DejaVu Sans Mono',consolas,'Courier New',monospace\"><span style=\"font-weight: bold\"> Total params: </span><span style=\"color: #00af00; text-decoration-color: #00af00\">128</span> (512.00 B)\n",
       "</pre>\n"
      ],
      "text/plain": [
       "\u001b[1m Total params: \u001b[0m\u001b[38;5;34m128\u001b[0m (512.00 B)\n"
      ]
     },
     "metadata": {},
     "output_type": "display_data"
    },
    {
     "data": {
      "text/html": [
       "<pre style=\"white-space:pre;overflow-x:auto;line-height:normal;font-family:Menlo,'DejaVu Sans Mono',consolas,'Courier New',monospace\"><span style=\"font-weight: bold\"> Trainable params: </span><span style=\"color: #00af00; text-decoration-color: #00af00\">128</span> (512.00 B)\n",
       "</pre>\n"
      ],
      "text/plain": [
       "\u001b[1m Trainable params: \u001b[0m\u001b[38;5;34m128\u001b[0m (512.00 B)\n"
      ]
     },
     "metadata": {},
     "output_type": "display_data"
    },
    {
     "data": {
      "text/html": [
       "<pre style=\"white-space:pre;overflow-x:auto;line-height:normal;font-family:Menlo,'DejaVu Sans Mono',consolas,'Courier New',monospace\"><span style=\"font-weight: bold\"> Non-trainable params: </span><span style=\"color: #00af00; text-decoration-color: #00af00\">0</span> (0.00 B)\n",
       "</pre>\n"
      ],
      "text/plain": [
       "\u001b[1m Non-trainable params: \u001b[0m\u001b[38;5;34m0\u001b[0m (0.00 B)\n"
      ]
     },
     "metadata": {},
     "output_type": "display_data"
    }
   ],
   "source": [
    "new_model.summary()"
   ]
  },
  {
   "cell_type": "code",
   "execution_count": 89,
   "id": "01bf477a-6a30-45a4-b45c-bbf34e42cd8e",
   "metadata": {},
   "outputs": [],
   "source": [
    "# 새로운 층으로 Conv1D 층과 Dense층 추가하고 출력층 추가\n",
    "\n",
    "new_model.add(Conv1D(64,kernel_size=3,activation='relu'))\n",
    "new_model.add(MaxPooling1D(pool_size=2))\n",
    "new_model.add(Flatten())\n",
    "new_model.add(Dense(64,activation='relu'))\n",
    "new_model.add(Dense(3,activation='softmax'))"
   ]
  },
  {
   "cell_type": "code",
   "execution_count": 91,
   "id": "1dfadfcd-c760-461f-9f74-00fec54ef433",
   "metadata": {},
   "outputs": [
    {
     "data": {
      "text/html": [
       "<pre style=\"white-space:pre;overflow-x:auto;line-height:normal;font-family:Menlo,'DejaVu Sans Mono',consolas,'Courier New',monospace\"><span style=\"font-weight: bold\">Model: \"sequential_1\"</span>\n",
       "</pre>\n"
      ],
      "text/plain": [
       "\u001b[1mModel: \"sequential_1\"\u001b[0m\n"
      ]
     },
     "metadata": {},
     "output_type": "display_data"
    },
    {
     "data": {
      "text/html": [
       "<pre style=\"white-space:pre;overflow-x:auto;line-height:normal;font-family:Menlo,'DejaVu Sans Mono',consolas,'Courier New',monospace\">┏━━━━━━━━━━━━━━━━━━━━━━━━━━━━━━━━━━━━━━┳━━━━━━━━━━━━━━━━━━━━━━━━━━━━━┳━━━━━━━━━━━━━━━━━┓\n",
       "┃<span style=\"font-weight: bold\"> Layer (type)                         </span>┃<span style=\"font-weight: bold\"> Output Shape                </span>┃<span style=\"font-weight: bold\">         Param # </span>┃\n",
       "┡━━━━━━━━━━━━━━━━━━━━━━━━━━━━━━━━━━━━━━╇━━━━━━━━━━━━━━━━━━━━━━━━━━━━━╇━━━━━━━━━━━━━━━━━┩\n",
       "│ conv1d (<span style=\"color: #0087ff; text-decoration-color: #0087ff\">Conv1D</span>)                      │ (<span style=\"color: #00d7ff; text-decoration-color: #00d7ff\">None</span>, <span style=\"color: #00af00; text-decoration-color: #00af00\">8</span>, <span style=\"color: #00af00; text-decoration-color: #00af00\">32</span>)               │             <span style=\"color: #00af00; text-decoration-color: #00af00\">128</span> │\n",
       "├──────────────────────────────────────┼─────────────────────────────┼─────────────────┤\n",
       "│ max_pooling1d (<span style=\"color: #0087ff; text-decoration-color: #0087ff\">MaxPooling1D</span>)         │ (<span style=\"color: #00d7ff; text-decoration-color: #00d7ff\">None</span>, <span style=\"color: #00af00; text-decoration-color: #00af00\">4</span>, <span style=\"color: #00af00; text-decoration-color: #00af00\">32</span>)               │               <span style=\"color: #00af00; text-decoration-color: #00af00\">0</span> │\n",
       "├──────────────────────────────────────┼─────────────────────────────┼─────────────────┤\n",
       "│ conv1d_1 (<span style=\"color: #0087ff; text-decoration-color: #0087ff\">Conv1D</span>)                    │ ?                           │     <span style=\"color: #00af00; text-decoration-color: #00af00\">0</span> (unbuilt) │\n",
       "├──────────────────────────────────────┼─────────────────────────────┼─────────────────┤\n",
       "│ max_pooling1d_1 (<span style=\"color: #0087ff; text-decoration-color: #0087ff\">MaxPooling1D</span>)       │ ?                           │     <span style=\"color: #00af00; text-decoration-color: #00af00\">0</span> (unbuilt) │\n",
       "├──────────────────────────────────────┼─────────────────────────────┼─────────────────┤\n",
       "│ flatten_1 (<span style=\"color: #0087ff; text-decoration-color: #0087ff\">Flatten</span>)                  │ ?                           │     <span style=\"color: #00af00; text-decoration-color: #00af00\">0</span> (unbuilt) │\n",
       "├──────────────────────────────────────┼─────────────────────────────┼─────────────────┤\n",
       "│ dense_2 (<span style=\"color: #0087ff; text-decoration-color: #0087ff\">Dense</span>)                      │ ?                           │     <span style=\"color: #00af00; text-decoration-color: #00af00\">0</span> (unbuilt) │\n",
       "├──────────────────────────────────────┼─────────────────────────────┼─────────────────┤\n",
       "│ dense_3 (<span style=\"color: #0087ff; text-decoration-color: #0087ff\">Dense</span>)                      │ ?                           │     <span style=\"color: #00af00; text-decoration-color: #00af00\">0</span> (unbuilt) │\n",
       "└──────────────────────────────────────┴─────────────────────────────┴─────────────────┘\n",
       "</pre>\n"
      ],
      "text/plain": [
       "┏━━━━━━━━━━━━━━━━━━━━━━━━━━━━━━━━━━━━━━┳━━━━━━━━━━━━━━━━━━━━━━━━━━━━━┳━━━━━━━━━━━━━━━━━┓\n",
       "┃\u001b[1m \u001b[0m\u001b[1mLayer (type)                        \u001b[0m\u001b[1m \u001b[0m┃\u001b[1m \u001b[0m\u001b[1mOutput Shape               \u001b[0m\u001b[1m \u001b[0m┃\u001b[1m \u001b[0m\u001b[1m        Param #\u001b[0m\u001b[1m \u001b[0m┃\n",
       "┡━━━━━━━━━━━━━━━━━━━━━━━━━━━━━━━━━━━━━━╇━━━━━━━━━━━━━━━━━━━━━━━━━━━━━╇━━━━━━━━━━━━━━━━━┩\n",
       "│ conv1d (\u001b[38;5;33mConv1D\u001b[0m)                      │ (\u001b[38;5;45mNone\u001b[0m, \u001b[38;5;34m8\u001b[0m, \u001b[38;5;34m32\u001b[0m)               │             \u001b[38;5;34m128\u001b[0m │\n",
       "├──────────────────────────────────────┼─────────────────────────────┼─────────────────┤\n",
       "│ max_pooling1d (\u001b[38;5;33mMaxPooling1D\u001b[0m)         │ (\u001b[38;5;45mNone\u001b[0m, \u001b[38;5;34m4\u001b[0m, \u001b[38;5;34m32\u001b[0m)               │               \u001b[38;5;34m0\u001b[0m │\n",
       "├──────────────────────────────────────┼─────────────────────────────┼─────────────────┤\n",
       "│ conv1d_1 (\u001b[38;5;33mConv1D\u001b[0m)                    │ ?                           │     \u001b[38;5;34m0\u001b[0m (unbuilt) │\n",
       "├──────────────────────────────────────┼─────────────────────────────┼─────────────────┤\n",
       "│ max_pooling1d_1 (\u001b[38;5;33mMaxPooling1D\u001b[0m)       │ ?                           │     \u001b[38;5;34m0\u001b[0m (unbuilt) │\n",
       "├──────────────────────────────────────┼─────────────────────────────┼─────────────────┤\n",
       "│ flatten_1 (\u001b[38;5;33mFlatten\u001b[0m)                  │ ?                           │     \u001b[38;5;34m0\u001b[0m (unbuilt) │\n",
       "├──────────────────────────────────────┼─────────────────────────────┼─────────────────┤\n",
       "│ dense_2 (\u001b[38;5;33mDense\u001b[0m)                      │ ?                           │     \u001b[38;5;34m0\u001b[0m (unbuilt) │\n",
       "├──────────────────────────────────────┼─────────────────────────────┼─────────────────┤\n",
       "│ dense_3 (\u001b[38;5;33mDense\u001b[0m)                      │ ?                           │     \u001b[38;5;34m0\u001b[0m (unbuilt) │\n",
       "└──────────────────────────────────────┴─────────────────────────────┴─────────────────┘\n"
      ]
     },
     "metadata": {},
     "output_type": "display_data"
    },
    {
     "data": {
      "text/html": [
       "<pre style=\"white-space:pre;overflow-x:auto;line-height:normal;font-family:Menlo,'DejaVu Sans Mono',consolas,'Courier New',monospace\"><span style=\"font-weight: bold\"> Total params: </span><span style=\"color: #00af00; text-decoration-color: #00af00\">128</span> (512.00 B)\n",
       "</pre>\n"
      ],
      "text/plain": [
       "\u001b[1m Total params: \u001b[0m\u001b[38;5;34m128\u001b[0m (512.00 B)\n"
      ]
     },
     "metadata": {},
     "output_type": "display_data"
    },
    {
     "data": {
      "text/html": [
       "<pre style=\"white-space:pre;overflow-x:auto;line-height:normal;font-family:Menlo,'DejaVu Sans Mono',consolas,'Courier New',monospace\"><span style=\"font-weight: bold\"> Trainable params: </span><span style=\"color: #00af00; text-decoration-color: #00af00\">128</span> (512.00 B)\n",
       "</pre>\n"
      ],
      "text/plain": [
       "\u001b[1m Trainable params: \u001b[0m\u001b[38;5;34m128\u001b[0m (512.00 B)\n"
      ]
     },
     "metadata": {},
     "output_type": "display_data"
    },
    {
     "data": {
      "text/html": [
       "<pre style=\"white-space:pre;overflow-x:auto;line-height:normal;font-family:Menlo,'DejaVu Sans Mono',consolas,'Courier New',monospace\"><span style=\"font-weight: bold\"> Non-trainable params: </span><span style=\"color: #00af00; text-decoration-color: #00af00\">0</span> (0.00 B)\n",
       "</pre>\n"
      ],
      "text/plain": [
       "\u001b[1m Non-trainable params: \u001b[0m\u001b[38;5;34m0\u001b[0m (0.00 B)\n"
      ]
     },
     "metadata": {},
     "output_type": "display_data"
    }
   ],
   "source": [
    "new_model.compile(optimizer='adam',loss='sparse_categorical_crossentropy',metrics=['accuracy'])\n",
    "new_model.summary()"
   ]
  },
  {
   "cell_type": "code",
   "execution_count": 93,
   "id": "9727f973-46de-4f77-ac2b-0a7006421641",
   "metadata": {},
   "outputs": [
    {
     "name": "stdout",
     "output_type": "stream",
     "text": [
      "Epoch 1/100\n",
      "\u001b[1m105/105\u001b[0m \u001b[32m━━━━━━━━━━━━━━━━━━━━\u001b[0m\u001b[37m\u001b[0m \u001b[1m5s\u001b[0m 10ms/step - accuracy: 0.7039 - loss: 0.7336 - val_accuracy: 0.7368 - val_loss: 0.6127\n",
      "Epoch 2/100\n",
      "\u001b[1m105/105\u001b[0m \u001b[32m━━━━━━━━━━━━━━━━━━━━\u001b[0m\u001b[37m\u001b[0m \u001b[1m1s\u001b[0m 5ms/step - accuracy: 0.7602 - loss: 0.5793 - val_accuracy: 0.7560 - val_loss: 0.5791\n",
      "Epoch 3/100\n",
      "\u001b[1m105/105\u001b[0m \u001b[32m━━━━━━━━━━━━━━━━━━━━\u001b[0m\u001b[37m\u001b[0m \u001b[1m1s\u001b[0m 5ms/step - accuracy: 0.7772 - loss: 0.5568 - val_accuracy: 0.7476 - val_loss: 0.5796\n",
      "Epoch 4/100\n",
      "\u001b[1m105/105\u001b[0m \u001b[32m━━━━━━━━━━━━━━━━━━━━\u001b[0m\u001b[37m\u001b[0m \u001b[1m1s\u001b[0m 5ms/step - accuracy: 0.7713 - loss: 0.5455 - val_accuracy: 0.7632 - val_loss: 0.5575\n",
      "Epoch 5/100\n",
      "\u001b[1m105/105\u001b[0m \u001b[32m━━━━━━━━━━━━━━━━━━━━\u001b[0m\u001b[37m\u001b[0m \u001b[1m1s\u001b[0m 5ms/step - accuracy: 0.7860 - loss: 0.5267 - val_accuracy: 0.7548 - val_loss: 0.5547\n",
      "Epoch 6/100\n",
      "\u001b[1m105/105\u001b[0m \u001b[32m━━━━━━━━━━━━━━━━━━━━\u001b[0m\u001b[37m\u001b[0m \u001b[1m1s\u001b[0m 5ms/step - accuracy: 0.7748 - loss: 0.5344 - val_accuracy: 0.7691 - val_loss: 0.5552\n",
      "Epoch 7/100\n",
      "\u001b[1m105/105\u001b[0m \u001b[32m━━━━━━━━━━━━━━━━━━━━\u001b[0m\u001b[37m\u001b[0m \u001b[1m1s\u001b[0m 6ms/step - accuracy: 0.7777 - loss: 0.5287 - val_accuracy: 0.7644 - val_loss: 0.5447\n",
      "Epoch 8/100\n",
      "\u001b[1m105/105\u001b[0m \u001b[32m━━━━━━━━━━━━━━━━━━━━\u001b[0m\u001b[37m\u001b[0m \u001b[1m1s\u001b[0m 5ms/step - accuracy: 0.7877 - loss: 0.5097 - val_accuracy: 0.7703 - val_loss: 0.5539\n",
      "Epoch 9/100\n",
      "\u001b[1m105/105\u001b[0m \u001b[32m━━━━━━━━━━━━━━━━━━━━\u001b[0m\u001b[37m\u001b[0m \u001b[1m1s\u001b[0m 5ms/step - accuracy: 0.7789 - loss: 0.5249 - val_accuracy: 0.7632 - val_loss: 0.5394\n",
      "Epoch 10/100\n",
      "\u001b[1m105/105\u001b[0m \u001b[32m━━━━━━━━━━━━━━━━━━━━\u001b[0m\u001b[37m\u001b[0m \u001b[1m1s\u001b[0m 5ms/step - accuracy: 0.7983 - loss: 0.5111 - val_accuracy: 0.7763 - val_loss: 0.5510\n",
      "Epoch 11/100\n",
      "\u001b[1m105/105\u001b[0m \u001b[32m━━━━━━━━━━━━━━━━━━━━\u001b[0m\u001b[37m\u001b[0m \u001b[1m1s\u001b[0m 5ms/step - accuracy: 0.7805 - loss: 0.5158 - val_accuracy: 0.7644 - val_loss: 0.5386\n",
      "Epoch 12/100\n",
      "\u001b[1m105/105\u001b[0m \u001b[32m━━━━━━━━━━━━━━━━━━━━\u001b[0m\u001b[37m\u001b[0m \u001b[1m1s\u001b[0m 5ms/step - accuracy: 0.7967 - loss: 0.4956 - val_accuracy: 0.7644 - val_loss: 0.5494\n",
      "Epoch 13/100\n",
      "\u001b[1m105/105\u001b[0m \u001b[32m━━━━━━━━━━━━━━━━━━━━\u001b[0m\u001b[37m\u001b[0m \u001b[1m1s\u001b[0m 6ms/step - accuracy: 0.7864 - loss: 0.5088 - val_accuracy: 0.7512 - val_loss: 0.5355\n",
      "Epoch 14/100\n",
      "\u001b[1m105/105\u001b[0m \u001b[32m━━━━━━━━━━━━━━━━━━━━\u001b[0m\u001b[37m\u001b[0m \u001b[1m1s\u001b[0m 5ms/step - accuracy: 0.7999 - loss: 0.4929 - val_accuracy: 0.7667 - val_loss: 0.5390\n",
      "Epoch 15/100\n",
      "\u001b[1m105/105\u001b[0m \u001b[32m━━━━━━━━━━━━━━━━━━━━\u001b[0m\u001b[37m\u001b[0m \u001b[1m1s\u001b[0m 5ms/step - accuracy: 0.7882 - loss: 0.5026 - val_accuracy: 0.7739 - val_loss: 0.5375\n",
      "Epoch 16/100\n",
      "\u001b[1m105/105\u001b[0m \u001b[32m━━━━━━━━━━━━━━━━━━━━\u001b[0m\u001b[37m\u001b[0m \u001b[1m1s\u001b[0m 6ms/step - accuracy: 0.8006 - loss: 0.4897 - val_accuracy: 0.7667 - val_loss: 0.5303\n",
      "Epoch 17/100\n",
      "\u001b[1m105/105\u001b[0m \u001b[32m━━━━━━━━━━━━━━━━━━━━\u001b[0m\u001b[37m\u001b[0m \u001b[1m1s\u001b[0m 5ms/step - accuracy: 0.8055 - loss: 0.4836 - val_accuracy: 0.7763 - val_loss: 0.5320\n",
      "Epoch 18/100\n",
      "\u001b[1m105/105\u001b[0m \u001b[32m━━━━━━━━━━━━━━━━━━━━\u001b[0m\u001b[37m\u001b[0m \u001b[1m1s\u001b[0m 5ms/step - accuracy: 0.8052 - loss: 0.4714 - val_accuracy: 0.7536 - val_loss: 0.5442\n",
      "Epoch 19/100\n",
      "\u001b[1m105/105\u001b[0m \u001b[32m━━━━━━━━━━━━━━━━━━━━\u001b[0m\u001b[37m\u001b[0m \u001b[1m1s\u001b[0m 5ms/step - accuracy: 0.7865 - loss: 0.5047 - val_accuracy: 0.7739 - val_loss: 0.5377\n",
      "Epoch 20/100\n",
      "\u001b[1m105/105\u001b[0m \u001b[32m━━━━━━━━━━━━━━━━━━━━\u001b[0m\u001b[37m\u001b[0m \u001b[1m1s\u001b[0m 5ms/step - accuracy: 0.8046 - loss: 0.4804 - val_accuracy: 0.7608 - val_loss: 0.5372\n",
      "Epoch 21/100\n",
      "\u001b[1m105/105\u001b[0m \u001b[32m━━━━━━━━━━━━━━━━━━━━\u001b[0m\u001b[37m\u001b[0m \u001b[1m1s\u001b[0m 5ms/step - accuracy: 0.7996 - loss: 0.4913 - val_accuracy: 0.7751 - val_loss: 0.5282\n",
      "Epoch 22/100\n",
      "\u001b[1m105/105\u001b[0m \u001b[32m━━━━━━━━━━━━━━━━━━━━\u001b[0m\u001b[37m\u001b[0m \u001b[1m1s\u001b[0m 5ms/step - accuracy: 0.8034 - loss: 0.4741 - val_accuracy: 0.7620 - val_loss: 0.5277\n",
      "Epoch 23/100\n",
      "\u001b[1m105/105\u001b[0m \u001b[32m━━━━━━━━━━━━━━━━━━━━\u001b[0m\u001b[37m\u001b[0m \u001b[1m1s\u001b[0m 5ms/step - accuracy: 0.7994 - loss: 0.4920 - val_accuracy: 0.7679 - val_loss: 0.5435\n",
      "Epoch 24/100\n",
      "\u001b[1m105/105\u001b[0m \u001b[32m━━━━━━━━━━━━━━━━━━━━\u001b[0m\u001b[37m\u001b[0m \u001b[1m1s\u001b[0m 5ms/step - accuracy: 0.7928 - loss: 0.4986 - val_accuracy: 0.7847 - val_loss: 0.5266\n",
      "Epoch 25/100\n",
      "\u001b[1m105/105\u001b[0m \u001b[32m━━━━━━━━━━━━━━━━━━━━\u001b[0m\u001b[37m\u001b[0m \u001b[1m1s\u001b[0m 5ms/step - accuracy: 0.8059 - loss: 0.4660 - val_accuracy: 0.7835 - val_loss: 0.5353\n",
      "Epoch 26/100\n",
      "\u001b[1m105/105\u001b[0m \u001b[32m━━━━━━━━━━━━━━━━━━━━\u001b[0m\u001b[37m\u001b[0m \u001b[1m1s\u001b[0m 5ms/step - accuracy: 0.8140 - loss: 0.4498 - val_accuracy: 0.7823 - val_loss: 0.5307\n",
      "Epoch 27/100\n",
      "\u001b[1m105/105\u001b[0m \u001b[32m━━━━━━━━━━━━━━━━━━━━\u001b[0m\u001b[37m\u001b[0m \u001b[1m1s\u001b[0m 5ms/step - accuracy: 0.8078 - loss: 0.4734 - val_accuracy: 0.7632 - val_loss: 0.5288\n",
      "Epoch 28/100\n",
      "\u001b[1m105/105\u001b[0m \u001b[32m━━━━━━━━━━━━━━━━━━━━\u001b[0m\u001b[37m\u001b[0m \u001b[1m1s\u001b[0m 5ms/step - accuracy: 0.8086 - loss: 0.4829 - val_accuracy: 0.7691 - val_loss: 0.5241\n",
      "Epoch 29/100\n",
      "\u001b[1m105/105\u001b[0m \u001b[32m━━━━━━━━━━━━━━━━━━━━\u001b[0m\u001b[37m\u001b[0m \u001b[1m1s\u001b[0m 5ms/step - accuracy: 0.8033 - loss: 0.4754 - val_accuracy: 0.7667 - val_loss: 0.5329\n",
      "Epoch 30/100\n",
      "\u001b[1m105/105\u001b[0m \u001b[32m━━━━━━━━━━━━━━━━━━━━\u001b[0m\u001b[37m\u001b[0m \u001b[1m1s\u001b[0m 6ms/step - accuracy: 0.8042 - loss: 0.4533 - val_accuracy: 0.7811 - val_loss: 0.5422\n",
      "Epoch 31/100\n",
      "\u001b[1m105/105\u001b[0m \u001b[32m━━━━━━━━━━━━━━━━━━━━\u001b[0m\u001b[37m\u001b[0m \u001b[1m1s\u001b[0m 5ms/step - accuracy: 0.7863 - loss: 0.4940 - val_accuracy: 0.7847 - val_loss: 0.5627\n",
      "Epoch 32/100\n",
      "\u001b[1m105/105\u001b[0m \u001b[32m━━━━━━━━━━━━━━━━━━━━\u001b[0m\u001b[37m\u001b[0m \u001b[1m1s\u001b[0m 5ms/step - accuracy: 0.8034 - loss: 0.4748 - val_accuracy: 0.7620 - val_loss: 0.5400\n",
      "Epoch 33/100\n",
      "\u001b[1m105/105\u001b[0m \u001b[32m━━━━━━━━━━━━━━━━━━━━\u001b[0m\u001b[37m\u001b[0m \u001b[1m1s\u001b[0m 5ms/step - accuracy: 0.8009 - loss: 0.4804 - val_accuracy: 0.7763 - val_loss: 0.5348\n",
      "Epoch 34/100\n",
      "\u001b[1m105/105\u001b[0m \u001b[32m━━━━━━━━━━━━━━━━━━━━\u001b[0m\u001b[37m\u001b[0m \u001b[1m1s\u001b[0m 5ms/step - accuracy: 0.7904 - loss: 0.4796 - val_accuracy: 0.7823 - val_loss: 0.5291\n",
      "Epoch 35/100\n",
      "\u001b[1m105/105\u001b[0m \u001b[32m━━━━━━━━━━━━━━━━━━━━\u001b[0m\u001b[37m\u001b[0m \u001b[1m1s\u001b[0m 5ms/step - accuracy: 0.8080 - loss: 0.4722 - val_accuracy: 0.7679 - val_loss: 0.5288\n",
      "Epoch 36/100\n",
      "\u001b[1m105/105\u001b[0m \u001b[32m━━━━━━━━━━━━━━━━━━━━\u001b[0m\u001b[37m\u001b[0m \u001b[1m1s\u001b[0m 5ms/step - accuracy: 0.8056 - loss: 0.4688 - val_accuracy: 0.7787 - val_loss: 0.5321\n",
      "Epoch 37/100\n",
      "\u001b[1m105/105\u001b[0m \u001b[32m━━━━━━━━━━━━━━━━━━━━\u001b[0m\u001b[37m\u001b[0m \u001b[1m1s\u001b[0m 5ms/step - accuracy: 0.7902 - loss: 0.4810 - val_accuracy: 0.7823 - val_loss: 0.5312\n",
      "Epoch 38/100\n",
      "\u001b[1m105/105\u001b[0m \u001b[32m━━━━━━━━━━━━━━━━━━━━\u001b[0m\u001b[37m\u001b[0m \u001b[1m1s\u001b[0m 5ms/step - accuracy: 0.8041 - loss: 0.4747 - val_accuracy: 0.7691 - val_loss: 0.5296\n",
      "Epoch 39/100\n",
      "\u001b[1m105/105\u001b[0m \u001b[32m━━━━━━━━━━━━━━━━━━━━\u001b[0m\u001b[37m\u001b[0m \u001b[1m1s\u001b[0m 5ms/step - accuracy: 0.7955 - loss: 0.4700 - val_accuracy: 0.7799 - val_loss: 0.5281\n",
      "Epoch 40/100\n",
      "\u001b[1m105/105\u001b[0m \u001b[32m━━━━━━━━━━━━━━━━━━━━\u001b[0m\u001b[37m\u001b[0m \u001b[1m1s\u001b[0m 5ms/step - accuracy: 0.8031 - loss: 0.4586 - val_accuracy: 0.7739 - val_loss: 0.5444\n",
      "Epoch 41/100\n",
      "\u001b[1m105/105\u001b[0m \u001b[32m━━━━━━━━━━━━━━━━━━━━\u001b[0m\u001b[37m\u001b[0m \u001b[1m1s\u001b[0m 5ms/step - accuracy: 0.8055 - loss: 0.4674 - val_accuracy: 0.7799 - val_loss: 0.5428\n",
      "Epoch 42/100\n",
      "\u001b[1m105/105\u001b[0m \u001b[32m━━━━━━━━━━━━━━━━━━━━\u001b[0m\u001b[37m\u001b[0m \u001b[1m1s\u001b[0m 5ms/step - accuracy: 0.7964 - loss: 0.4690 - val_accuracy: 0.7835 - val_loss: 0.5352\n",
      "Epoch 43/100\n",
      "\u001b[1m105/105\u001b[0m \u001b[32m━━━━━━━━━━━━━━━━━━━━\u001b[0m\u001b[37m\u001b[0m \u001b[1m1s\u001b[0m 4ms/step - accuracy: 0.8008 - loss: 0.4604 - val_accuracy: 0.7667 - val_loss: 0.5385\n",
      "Epoch 44/100\n",
      "\u001b[1m105/105\u001b[0m \u001b[32m━━━━━━━━━━━━━━━━━━━━\u001b[0m\u001b[37m\u001b[0m \u001b[1m1s\u001b[0m 5ms/step - accuracy: 0.8022 - loss: 0.4563 - val_accuracy: 0.7787 - val_loss: 0.5343\n",
      "Epoch 45/100\n",
      "\u001b[1m105/105\u001b[0m \u001b[32m━━━━━━━━━━━━━━━━━━━━\u001b[0m\u001b[37m\u001b[0m \u001b[1m1s\u001b[0m 5ms/step - accuracy: 0.8017 - loss: 0.4774 - val_accuracy: 0.7727 - val_loss: 0.5462\n",
      "Epoch 46/100\n",
      "\u001b[1m105/105\u001b[0m \u001b[32m━━━━━━━━━━━━━━━━━━━━\u001b[0m\u001b[37m\u001b[0m \u001b[1m1s\u001b[0m 5ms/step - accuracy: 0.8169 - loss: 0.4503 - val_accuracy: 0.7727 - val_loss: 0.5422\n",
      "Epoch 47/100\n",
      "\u001b[1m105/105\u001b[0m \u001b[32m━━━━━━━━━━━━━━━━━━━━\u001b[0m\u001b[37m\u001b[0m \u001b[1m1s\u001b[0m 5ms/step - accuracy: 0.8007 - loss: 0.4643 - val_accuracy: 0.7656 - val_loss: 0.5407\n",
      "Epoch 48/100\n",
      "\u001b[1m105/105\u001b[0m \u001b[32m━━━━━━━━━━━━━━━━━━━━\u001b[0m\u001b[37m\u001b[0m \u001b[1m1s\u001b[0m 5ms/step - accuracy: 0.8124 - loss: 0.4381 - val_accuracy: 0.7811 - val_loss: 0.5494\n",
      "Epoch 49/100\n",
      "\u001b[1m105/105\u001b[0m \u001b[32m━━━━━━━━━━━━━━━━━━━━\u001b[0m\u001b[37m\u001b[0m \u001b[1m1s\u001b[0m 5ms/step - accuracy: 0.8091 - loss: 0.4457 - val_accuracy: 0.7775 - val_loss: 0.5427\n",
      "Epoch 50/100\n",
      "\u001b[1m105/105\u001b[0m \u001b[32m━━━━━━━━━━━━━━━━━━━━\u001b[0m\u001b[37m\u001b[0m \u001b[1m1s\u001b[0m 5ms/step - accuracy: 0.8054 - loss: 0.4384 - val_accuracy: 0.7691 - val_loss: 0.5376\n",
      "Epoch 51/100\n",
      "\u001b[1m105/105\u001b[0m \u001b[32m━━━━━━━━━━━━━━━━━━━━\u001b[0m\u001b[37m\u001b[0m \u001b[1m1s\u001b[0m 5ms/step - accuracy: 0.8140 - loss: 0.4335 - val_accuracy: 0.7763 - val_loss: 0.5537\n",
      "Epoch 52/100\n",
      "\u001b[1m105/105\u001b[0m \u001b[32m━━━━━━━━━━━━━━━━━━━━\u001b[0m\u001b[37m\u001b[0m \u001b[1m1s\u001b[0m 5ms/step - accuracy: 0.8085 - loss: 0.4482 - val_accuracy: 0.7775 - val_loss: 0.5568\n",
      "Epoch 53/100\n",
      "\u001b[1m105/105\u001b[0m \u001b[32m━━━━━━━━━━━━━━━━━━━━\u001b[0m\u001b[37m\u001b[0m \u001b[1m1s\u001b[0m 5ms/step - accuracy: 0.8211 - loss: 0.4436 - val_accuracy: 0.7787 - val_loss: 0.5575\n",
      "Epoch 54/100\n",
      "\u001b[1m105/105\u001b[0m \u001b[32m━━━━━━━━━━━━━━━━━━━━\u001b[0m\u001b[37m\u001b[0m \u001b[1m1s\u001b[0m 5ms/step - accuracy: 0.7999 - loss: 0.4526 - val_accuracy: 0.7799 - val_loss: 0.5428\n",
      "Epoch 55/100\n",
      "\u001b[1m105/105\u001b[0m \u001b[32m━━━━━━━━━━━━━━━━━━━━\u001b[0m\u001b[37m\u001b[0m \u001b[1m1s\u001b[0m 5ms/step - accuracy: 0.8213 - loss: 0.4484 - val_accuracy: 0.7620 - val_loss: 0.5511\n",
      "Epoch 56/100\n",
      "\u001b[1m105/105\u001b[0m \u001b[32m━━━━━━━━━━━━━━━━━━━━\u001b[0m\u001b[37m\u001b[0m \u001b[1m1s\u001b[0m 5ms/step - accuracy: 0.8076 - loss: 0.4457 - val_accuracy: 0.7763 - val_loss: 0.5554\n",
      "Epoch 57/100\n",
      "\u001b[1m105/105\u001b[0m \u001b[32m━━━━━━━━━━━━━━━━━━━━\u001b[0m\u001b[37m\u001b[0m \u001b[1m1s\u001b[0m 5ms/step - accuracy: 0.8117 - loss: 0.4593 - val_accuracy: 0.7667 - val_loss: 0.5476\n",
      "Epoch 58/100\n",
      "\u001b[1m105/105\u001b[0m \u001b[32m━━━━━━━━━━━━━━━━━━━━\u001b[0m\u001b[37m\u001b[0m \u001b[1m1s\u001b[0m 5ms/step - accuracy: 0.8099 - loss: 0.4352 - val_accuracy: 0.7799 - val_loss: 0.5552\n",
      "Epoch 59/100\n",
      "\u001b[1m105/105\u001b[0m \u001b[32m━━━━━━━━━━━━━━━━━━━━\u001b[0m\u001b[37m\u001b[0m \u001b[1m1s\u001b[0m 6ms/step - accuracy: 0.8179 - loss: 0.4328 - val_accuracy: 0.7691 - val_loss: 0.5491\n",
      "Epoch 60/100\n",
      "\u001b[1m105/105\u001b[0m \u001b[32m━━━━━━━━━━━━━━━━━━━━\u001b[0m\u001b[37m\u001b[0m \u001b[1m1s\u001b[0m 5ms/step - accuracy: 0.8081 - loss: 0.4327 - val_accuracy: 0.7739 - val_loss: 0.5449\n",
      "Epoch 61/100\n",
      "\u001b[1m105/105\u001b[0m \u001b[32m━━━━━━━━━━━━━━━━━━━━\u001b[0m\u001b[37m\u001b[0m \u001b[1m1s\u001b[0m 5ms/step - accuracy: 0.7971 - loss: 0.4661 - val_accuracy: 0.7775 - val_loss: 0.5628\n",
      "Epoch 62/100\n",
      "\u001b[1m105/105\u001b[0m \u001b[32m━━━━━━━━━━━━━━━━━━━━\u001b[0m\u001b[37m\u001b[0m \u001b[1m1s\u001b[0m 5ms/step - accuracy: 0.8108 - loss: 0.4369 - val_accuracy: 0.7584 - val_loss: 0.5524\n",
      "Epoch 63/100\n",
      "\u001b[1m105/105\u001b[0m \u001b[32m━━━━━━━━━━━━━━━━━━━━\u001b[0m\u001b[37m\u001b[0m \u001b[1m1s\u001b[0m 5ms/step - accuracy: 0.8145 - loss: 0.4385 - val_accuracy: 0.7739 - val_loss: 0.5580\n",
      "Epoch 64/100\n",
      "\u001b[1m105/105\u001b[0m \u001b[32m━━━━━━━━━━━━━━━━━━━━\u001b[0m\u001b[37m\u001b[0m \u001b[1m1s\u001b[0m 5ms/step - accuracy: 0.8037 - loss: 0.4396 - val_accuracy: 0.7703 - val_loss: 0.5635\n",
      "Epoch 65/100\n",
      "\u001b[1m105/105\u001b[0m \u001b[32m━━━━━━━━━━━━━━━━━━━━\u001b[0m\u001b[37m\u001b[0m \u001b[1m1s\u001b[0m 5ms/step - accuracy: 0.8046 - loss: 0.4617 - val_accuracy: 0.7620 - val_loss: 0.5510\n",
      "Epoch 66/100\n",
      "\u001b[1m105/105\u001b[0m \u001b[32m━━━━━━━━━━━━━━━━━━━━\u001b[0m\u001b[37m\u001b[0m \u001b[1m1s\u001b[0m 5ms/step - accuracy: 0.8214 - loss: 0.4164 - val_accuracy: 0.7584 - val_loss: 0.5549\n",
      "Epoch 67/100\n",
      "\u001b[1m105/105\u001b[0m \u001b[32m━━━━━━━━━━━━━━━━━━━━\u001b[0m\u001b[37m\u001b[0m \u001b[1m1s\u001b[0m 5ms/step - accuracy: 0.8140 - loss: 0.4363 - val_accuracy: 0.7560 - val_loss: 0.5611\n",
      "Epoch 68/100\n",
      "\u001b[1m105/105\u001b[0m \u001b[32m━━━━━━━━━━━━━━━━━━━━\u001b[0m\u001b[37m\u001b[0m \u001b[1m1s\u001b[0m 5ms/step - accuracy: 0.8073 - loss: 0.4397 - val_accuracy: 0.7691 - val_loss: 0.5601\n",
      "Epoch 69/100\n",
      "\u001b[1m105/105\u001b[0m \u001b[32m━━━━━━━━━━━━━━━━━━━━\u001b[0m\u001b[37m\u001b[0m \u001b[1m1s\u001b[0m 4ms/step - accuracy: 0.8274 - loss: 0.3967 - val_accuracy: 0.7775 - val_loss: 0.5587\n",
      "Epoch 70/100\n",
      "\u001b[1m105/105\u001b[0m \u001b[32m━━━━━━━━━━━━━━━━━━━━\u001b[0m\u001b[37m\u001b[0m \u001b[1m1s\u001b[0m 5ms/step - accuracy: 0.8080 - loss: 0.4393 - val_accuracy: 0.7596 - val_loss: 0.5821\n",
      "Epoch 71/100\n",
      "\u001b[1m105/105\u001b[0m \u001b[32m━━━━━━━━━━━━━━━━━━━━\u001b[0m\u001b[37m\u001b[0m \u001b[1m1s\u001b[0m 5ms/step - accuracy: 0.8229 - loss: 0.4124 - val_accuracy: 0.7644 - val_loss: 0.5581\n",
      "Epoch 72/100\n",
      "\u001b[1m105/105\u001b[0m \u001b[32m━━━━━━━━━━━━━━━━━━━━\u001b[0m\u001b[37m\u001b[0m \u001b[1m1s\u001b[0m 5ms/step - accuracy: 0.8134 - loss: 0.4359 - val_accuracy: 0.7679 - val_loss: 0.5684\n",
      "Epoch 73/100\n",
      "\u001b[1m105/105\u001b[0m \u001b[32m━━━━━━━━━━━━━━━━━━━━\u001b[0m\u001b[37m\u001b[0m \u001b[1m1s\u001b[0m 5ms/step - accuracy: 0.8235 - loss: 0.4042 - val_accuracy: 0.7644 - val_loss: 0.5641\n",
      "Epoch 74/100\n",
      "\u001b[1m105/105\u001b[0m \u001b[32m━━━━━━━━━━━━━━━━━━━━\u001b[0m\u001b[37m\u001b[0m \u001b[1m1s\u001b[0m 5ms/step - accuracy: 0.8257 - loss: 0.4146 - val_accuracy: 0.7691 - val_loss: 0.5780\n",
      "Epoch 75/100\n",
      "\u001b[1m105/105\u001b[0m \u001b[32m━━━━━━━━━━━━━━━━━━━━\u001b[0m\u001b[37m\u001b[0m \u001b[1m1s\u001b[0m 4ms/step - accuracy: 0.8076 - loss: 0.4272 - val_accuracy: 0.7524 - val_loss: 0.5722\n",
      "Epoch 76/100\n",
      "\u001b[1m105/105\u001b[0m \u001b[32m━━━━━━━━━━━━━━━━━━━━\u001b[0m\u001b[37m\u001b[0m \u001b[1m1s\u001b[0m 5ms/step - accuracy: 0.8135 - loss: 0.4154 - val_accuracy: 0.7667 - val_loss: 0.5752\n",
      "Epoch 77/100\n",
      "\u001b[1m105/105\u001b[0m \u001b[32m━━━━━━━━━━━━━━━━━━━━\u001b[0m\u001b[37m\u001b[0m \u001b[1m1s\u001b[0m 5ms/step - accuracy: 0.8204 - loss: 0.4156 - val_accuracy: 0.7548 - val_loss: 0.5798\n",
      "Epoch 78/100\n",
      "\u001b[1m105/105\u001b[0m \u001b[32m━━━━━━━━━━━━━━━━━━━━\u001b[0m\u001b[37m\u001b[0m \u001b[1m1s\u001b[0m 5ms/step - accuracy: 0.8227 - loss: 0.4105 - val_accuracy: 0.7584 - val_loss: 0.5666\n",
      "Epoch 79/100\n",
      "\u001b[1m105/105\u001b[0m \u001b[32m━━━━━━━━━━━━━━━━━━━━\u001b[0m\u001b[37m\u001b[0m \u001b[1m1s\u001b[0m 5ms/step - accuracy: 0.8213 - loss: 0.4111 - val_accuracy: 0.7572 - val_loss: 0.5759\n",
      "Epoch 80/100\n",
      "\u001b[1m105/105\u001b[0m \u001b[32m━━━━━━━━━━━━━━━━━━━━\u001b[0m\u001b[37m\u001b[0m \u001b[1m1s\u001b[0m 5ms/step - accuracy: 0.8200 - loss: 0.4127 - val_accuracy: 0.7620 - val_loss: 0.5813\n",
      "Epoch 81/100\n",
      "\u001b[1m105/105\u001b[0m \u001b[32m━━━━━━━━━━━━━━━━━━━━\u001b[0m\u001b[37m\u001b[0m \u001b[1m1s\u001b[0m 5ms/step - accuracy: 0.8206 - loss: 0.4203 - val_accuracy: 0.7524 - val_loss: 0.5931\n",
      "Epoch 82/100\n",
      "\u001b[1m105/105\u001b[0m \u001b[32m━━━━━━━━━━━━━━━━━━━━\u001b[0m\u001b[37m\u001b[0m \u001b[1m1s\u001b[0m 5ms/step - accuracy: 0.8366 - loss: 0.4007 - val_accuracy: 0.7584 - val_loss: 0.5795\n",
      "Epoch 83/100\n",
      "\u001b[1m105/105\u001b[0m \u001b[32m━━━━━━━━━━━━━━━━━━━━\u001b[0m\u001b[37m\u001b[0m \u001b[1m1s\u001b[0m 5ms/step - accuracy: 0.8211 - loss: 0.4167 - val_accuracy: 0.7715 - val_loss: 0.5869\n",
      "Epoch 84/100\n",
      "\u001b[1m105/105\u001b[0m \u001b[32m━━━━━━━━━━━━━━━━━━━━\u001b[0m\u001b[37m\u001b[0m \u001b[1m1s\u001b[0m 5ms/step - accuracy: 0.8264 - loss: 0.4008 - val_accuracy: 0.7703 - val_loss: 0.5810\n",
      "Epoch 85/100\n",
      "\u001b[1m105/105\u001b[0m \u001b[32m━━━━━━━━━━━━━━━━━━━━\u001b[0m\u001b[37m\u001b[0m \u001b[1m1s\u001b[0m 6ms/step - accuracy: 0.8250 - loss: 0.4122 - val_accuracy: 0.7667 - val_loss: 0.6178\n",
      "Epoch 86/100\n",
      "\u001b[1m105/105\u001b[0m \u001b[32m━━━━━━━━━━━━━━━━━━━━\u001b[0m\u001b[37m\u001b[0m \u001b[1m1s\u001b[0m 5ms/step - accuracy: 0.8276 - loss: 0.4076 - val_accuracy: 0.7608 - val_loss: 0.5802\n",
      "Epoch 87/100\n",
      "\u001b[1m105/105\u001b[0m \u001b[32m━━━━━━━━━━━━━━━━━━━━\u001b[0m\u001b[37m\u001b[0m \u001b[1m1s\u001b[0m 5ms/step - accuracy: 0.8281 - loss: 0.4003 - val_accuracy: 0.7632 - val_loss: 0.5919\n",
      "Epoch 88/100\n",
      "\u001b[1m105/105\u001b[0m \u001b[32m━━━━━━━━━━━━━━━━━━━━\u001b[0m\u001b[37m\u001b[0m \u001b[1m1s\u001b[0m 5ms/step - accuracy: 0.8243 - loss: 0.3941 - val_accuracy: 0.7620 - val_loss: 0.5951\n",
      "Epoch 89/100\n",
      "\u001b[1m105/105\u001b[0m \u001b[32m━━━━━━━━━━━━━━━━━━━━\u001b[0m\u001b[37m\u001b[0m \u001b[1m1s\u001b[0m 5ms/step - accuracy: 0.8300 - loss: 0.4019 - val_accuracy: 0.7632 - val_loss: 0.5894\n",
      "Epoch 90/100\n",
      "\u001b[1m105/105\u001b[0m \u001b[32m━━━━━━━━━━━━━━━━━━━━\u001b[0m\u001b[37m\u001b[0m \u001b[1m1s\u001b[0m 5ms/step - accuracy: 0.8279 - loss: 0.4041 - val_accuracy: 0.7679 - val_loss: 0.6196\n",
      "Epoch 91/100\n",
      "\u001b[1m105/105\u001b[0m \u001b[32m━━━━━━━━━━━━━━━━━━━━\u001b[0m\u001b[37m\u001b[0m \u001b[1m1s\u001b[0m 5ms/step - accuracy: 0.8231 - loss: 0.4134 - val_accuracy: 0.7584 - val_loss: 0.5944\n",
      "Epoch 92/100\n",
      "\u001b[1m105/105\u001b[0m \u001b[32m━━━━━━━━━━━━━━━━━━━━\u001b[0m\u001b[37m\u001b[0m \u001b[1m1s\u001b[0m 5ms/step - accuracy: 0.8347 - loss: 0.3946 - val_accuracy: 0.7584 - val_loss: 0.5832\n",
      "Epoch 93/100\n",
      "\u001b[1m105/105\u001b[0m \u001b[32m━━━━━━━━━━━━━━━━━━━━\u001b[0m\u001b[37m\u001b[0m \u001b[1m1s\u001b[0m 5ms/step - accuracy: 0.8131 - loss: 0.4131 - val_accuracy: 0.7667 - val_loss: 0.6119\n",
      "Epoch 94/100\n",
      "\u001b[1m105/105\u001b[0m \u001b[32m━━━━━━━━━━━━━━━━━━━━\u001b[0m\u001b[37m\u001b[0m \u001b[1m1s\u001b[0m 5ms/step - accuracy: 0.8302 - loss: 0.3858 - val_accuracy: 0.7644 - val_loss: 0.6155\n",
      "Epoch 95/100\n",
      "\u001b[1m105/105\u001b[0m \u001b[32m━━━━━━━━━━━━━━━━━━━━\u001b[0m\u001b[37m\u001b[0m \u001b[1m1s\u001b[0m 5ms/step - accuracy: 0.8397 - loss: 0.3860 - val_accuracy: 0.7691 - val_loss: 0.6141\n",
      "Epoch 96/100\n",
      "\u001b[1m105/105\u001b[0m \u001b[32m━━━━━━━━━━━━━━━━━━━━\u001b[0m\u001b[37m\u001b[0m \u001b[1m1s\u001b[0m 5ms/step - accuracy: 0.8270 - loss: 0.3907 - val_accuracy: 0.7715 - val_loss: 0.6112\n",
      "Epoch 97/100\n",
      "\u001b[1m105/105\u001b[0m \u001b[32m━━━━━━━━━━━━━━━━━━━━\u001b[0m\u001b[37m\u001b[0m \u001b[1m1s\u001b[0m 5ms/step - accuracy: 0.8302 - loss: 0.3849 - val_accuracy: 0.7584 - val_loss: 0.5979\n",
      "Epoch 98/100\n",
      "\u001b[1m105/105\u001b[0m \u001b[32m━━━━━━━━━━━━━━━━━━━━\u001b[0m\u001b[37m\u001b[0m \u001b[1m1s\u001b[0m 5ms/step - accuracy: 0.8365 - loss: 0.3865 - val_accuracy: 0.7536 - val_loss: 0.5978\n",
      "Epoch 99/100\n",
      "\u001b[1m105/105\u001b[0m \u001b[32m━━━━━━━━━━━━━━━━━━━━\u001b[0m\u001b[37m\u001b[0m \u001b[1m1s\u001b[0m 5ms/step - accuracy: 0.8372 - loss: 0.3714 - val_accuracy: 0.7536 - val_loss: 0.5976\n",
      "Epoch 100/100\n",
      "\u001b[1m105/105\u001b[0m \u001b[32m━━━━━━━━━━━━━━━━━━━━\u001b[0m\u001b[37m\u001b[0m \u001b[1m1s\u001b[0m 5ms/step - accuracy: 0.8357 - loss: 0.3864 - val_accuracy: 0.7644 - val_loss: 0.6016\n"
     ]
    }
   ],
   "source": [
    "history2 = new_model.fit(x_train,y_train,epochs=100,validation_data=(x_test,y_test))"
   ]
  },
  {
   "cell_type": "code",
   "execution_count": 94,
   "id": "d99b429e-88d5-47da-b5c8-b3cb06e79cdc",
   "metadata": {},
   "outputs": [
    {
     "name": "stdout",
     "output_type": "stream",
     "text": [
      "\u001b[1m27/27\u001b[0m \u001b[32m━━━━━━━━━━━━━━━━━━━━\u001b[0m\u001b[37m\u001b[0m \u001b[1m0s\u001b[0m 3ms/step - accuracy: 0.7559 - loss: 0.6288\n"
     ]
    },
    {
     "data": {
      "text/plain": [
       "[0.6016276478767395, 0.7643540501594543]"
      ]
     },
     "execution_count": 94,
     "metadata": {},
     "output_type": "execute_result"
    }
   ],
   "source": [
    "new_model.evaluate(x_test,y_test)"
   ]
  },
  {
   "cell_type": "code",
   "execution_count": 95,
   "id": "262a0eea-20d8-4cd6-9e48-a4042179c026",
   "metadata": {},
   "outputs": [
    {
     "name": "stdout",
     "output_type": "stream",
     "text": [
      "\u001b[1m105/105\u001b[0m \u001b[32m━━━━━━━━━━━━━━━━━━━━\u001b[0m\u001b[37m\u001b[0m \u001b[1m0s\u001b[0m 3ms/step - accuracy: 0.8375 - loss: 0.3730\n"
     ]
    },
    {
     "data": {
      "text/plain": [
       "[0.3686041533946991, 0.8407662510871887]"
      ]
     },
     "execution_count": 95,
     "metadata": {},
     "output_type": "execute_result"
    }
   ],
   "source": [
    "new_model.evaluate(x_train,y_train)"
   ]
  },
  {
   "cell_type": "code",
   "execution_count": 96,
   "id": "06925671-2c03-4204-a772-750e333d3adb",
   "metadata": {},
   "outputs": [
    {
     "data": {
      "text/plain": [
       "<matplotlib.legend.Legend at 0x18083dfa630>"
      ]
     },
     "execution_count": 96,
     "metadata": {},
     "output_type": "execute_result"
    },
    {
     "data": {
      "image/png": "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",
      "text/plain": [
       "<Figure size 640x480 with 1 Axes>"
      ]
     },
     "metadata": {},
     "output_type": "display_data"
    }
   ],
   "source": [
    "\n",
    "plt.plot(history2.history[\"loss\"], label = \"train\")\n",
    "plt.plot(history2.history[\"val_loss\"], label = \"test\")\n",
    "plt.legend()"
   ]
  },
  {
   "cell_type": "code",
   "execution_count": 97,
   "id": "761b62eb-9ca7-41f5-8541-a1343bf78a21",
   "metadata": {},
   "outputs": [
    {
     "data": {
      "text/plain": [
       "<matplotlib.legend.Legend at 0x18087bbe210>"
      ]
     },
     "execution_count": 97,
     "metadata": {},
     "output_type": "execute_result"
    },
    {
     "data": {
      "image/png": "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",
      "text/plain": [
       "<Figure size 640x480 with 1 Axes>"
      ]
     },
     "metadata": {},
     "output_type": "display_data"
    }
   ],
   "source": [
    "plt.plot(history2.history[\"accuracy\"],label=\"train\")\n",
    "plt.plot(history2.history[\"val_accuracy\"],label=\"test\")\n",
    "plt.legend()"
   ]
  },
  {
   "cell_type": "markdown",
   "id": "7a1fe136-8102-4eca-906d-503f589e5467",
   "metadata": {},
   "source": [
    "# 4. Fine tunning"
   ]
  },
  {
   "cell_type": "code",
   "execution_count": 99,
   "id": "cf66d675-8060-45c4-8943-8ece3797a5b4",
   "metadata": {},
   "outputs": [],
   "source": [
    "base_model.trainable = True"
   ]
  },
  {
   "cell_type": "code",
   "execution_count": 100,
   "id": "5490bbc3-0c85-4821-8570-ecfafe72fabe",
   "metadata": {},
   "outputs": [
    {
     "data": {
      "text/html": [
       "<div>\n",
       "<style scoped>\n",
       "    .dataframe tbody tr th:only-of-type {\n",
       "        vertical-align: middle;\n",
       "    }\n",
       "\n",
       "    .dataframe tbody tr th {\n",
       "        vertical-align: top;\n",
       "    }\n",
       "\n",
       "    .dataframe thead th {\n",
       "        text-align: right;\n",
       "    }\n",
       "</style>\n",
       "<table border=\"1\" class=\"dataframe\">\n",
       "  <thead>\n",
       "    <tr style=\"text-align: right;\">\n",
       "      <th></th>\n",
       "      <th>Layer Type</th>\n",
       "      <th>Layer Name</th>\n",
       "      <th>Layer Trainable</th>\n",
       "    </tr>\n",
       "  </thead>\n",
       "  <tbody>\n",
       "    <tr>\n",
       "      <th>0</th>\n",
       "      <td>&lt;Conv1D name=conv1d, built=True&gt;</td>\n",
       "      <td>conv1d</td>\n",
       "      <td>True</td>\n",
       "    </tr>\n",
       "    <tr>\n",
       "      <th>1</th>\n",
       "      <td>&lt;MaxPooling1D name=max_pooling1d, built=True&gt;</td>\n",
       "      <td>max_pooling1d</td>\n",
       "      <td>True</td>\n",
       "    </tr>\n",
       "    <tr>\n",
       "      <th>2</th>\n",
       "      <td>&lt;Conv1D name=conv1d_1, built=True&gt;</td>\n",
       "      <td>conv1d_1</td>\n",
       "      <td>True</td>\n",
       "    </tr>\n",
       "    <tr>\n",
       "      <th>3</th>\n",
       "      <td>&lt;MaxPooling1D name=max_pooling1d_1, built=True&gt;</td>\n",
       "      <td>max_pooling1d_1</td>\n",
       "      <td>True</td>\n",
       "    </tr>\n",
       "    <tr>\n",
       "      <th>4</th>\n",
       "      <td>&lt;Flatten name=flatten_1, built=True&gt;</td>\n",
       "      <td>flatten_1</td>\n",
       "      <td>True</td>\n",
       "    </tr>\n",
       "    <tr>\n",
       "      <th>5</th>\n",
       "      <td>&lt;Dense name=dense_2, built=True&gt;</td>\n",
       "      <td>dense_2</td>\n",
       "      <td>True</td>\n",
       "    </tr>\n",
       "    <tr>\n",
       "      <th>6</th>\n",
       "      <td>&lt;Dense name=dense_3, built=True&gt;</td>\n",
       "      <td>dense_3</td>\n",
       "      <td>True</td>\n",
       "    </tr>\n",
       "  </tbody>\n",
       "</table>\n",
       "</div>"
      ],
      "text/plain": [
       "                                        Layer Type       Layer Name  \\\n",
       "0                 <Conv1D name=conv1d, built=True>           conv1d   \n",
       "1    <MaxPooling1D name=max_pooling1d, built=True>    max_pooling1d   \n",
       "2               <Conv1D name=conv1d_1, built=True>         conv1d_1   \n",
       "3  <MaxPooling1D name=max_pooling1d_1, built=True>  max_pooling1d_1   \n",
       "4             <Flatten name=flatten_1, built=True>        flatten_1   \n",
       "5                 <Dense name=dense_2, built=True>          dense_2   \n",
       "6                 <Dense name=dense_3, built=True>          dense_3   \n",
       "\n",
       "   Layer Trainable  \n",
       "0             True  \n",
       "1             True  \n",
       "2             True  \n",
       "3             True  \n",
       "4             True  \n",
       "5             True  \n",
       "6             True  "
      ]
     },
     "execution_count": 100,
     "metadata": {},
     "output_type": "execute_result"
    }
   ],
   "source": [
    "new_model.compile(optimizer='adam', metrics=['accuracy'], loss='sparse_categorical_crossentropy')\n",
    "import pandas as pd\n",
    "display_layers = [(layer, layer.name, layer.trainable) for layer in new_model.layers]\n",
    "pd.DataFrame(display_layers, columns=['Layer Type', 'Layer Name', 'Layer Trainable'])"
   ]
  },
  {
   "cell_type": "code",
   "execution_count": 101,
   "id": "18e0457d-7283-4eb7-bbb0-60b25448fe05",
   "metadata": {},
   "outputs": [
    {
     "name": "stdout",
     "output_type": "stream",
     "text": [
      "Epoch 1/100\n",
      "\u001b[1m105/105\u001b[0m \u001b[32m━━━━━━━━━━━━━━━━━━━━\u001b[0m\u001b[37m\u001b[0m \u001b[1m4s\u001b[0m 10ms/step - accuracy: 0.8433 - loss: 0.3721 - val_accuracy: 0.7333 - val_loss: 0.6334\n",
      "Epoch 2/100\n",
      "\u001b[1m105/105\u001b[0m \u001b[32m━━━━━━━━━━━━━━━━━━━━\u001b[0m\u001b[37m\u001b[0m \u001b[1m1s\u001b[0m 5ms/step - accuracy: 0.8307 - loss: 0.3890 - val_accuracy: 0.7548 - val_loss: 0.6227\n",
      "Epoch 3/100\n",
      "\u001b[1m105/105\u001b[0m \u001b[32m━━━━━━━━━━━━━━━━━━━━\u001b[0m\u001b[37m\u001b[0m \u001b[1m1s\u001b[0m 5ms/step - accuracy: 0.8386 - loss: 0.3748 - val_accuracy: 0.7476 - val_loss: 0.6106\n",
      "Epoch 4/100\n",
      "\u001b[1m105/105\u001b[0m \u001b[32m━━━━━━━━━━━━━━━━━━━━\u001b[0m\u001b[37m\u001b[0m \u001b[1m1s\u001b[0m 5ms/step - accuracy: 0.8331 - loss: 0.3726 - val_accuracy: 0.7560 - val_loss: 0.6116\n",
      "Epoch 5/100\n",
      "\u001b[1m105/105\u001b[0m \u001b[32m━━━━━━━━━━━━━━━━━━━━\u001b[0m\u001b[37m\u001b[0m \u001b[1m1s\u001b[0m 5ms/step - accuracy: 0.8486 - loss: 0.3699 - val_accuracy: 0.7632 - val_loss: 0.6014\n",
      "Epoch 6/100\n",
      "\u001b[1m105/105\u001b[0m \u001b[32m━━━━━━━━━━━━━━━━━━━━\u001b[0m\u001b[37m\u001b[0m \u001b[1m1s\u001b[0m 5ms/step - accuracy: 0.8407 - loss: 0.3706 - val_accuracy: 0.7476 - val_loss: 0.6089\n",
      "Epoch 7/100\n",
      "\u001b[1m105/105\u001b[0m \u001b[32m━━━━━━━━━━━━━━━━━━━━\u001b[0m\u001b[37m\u001b[0m \u001b[1m1s\u001b[0m 4ms/step - accuracy: 0.8364 - loss: 0.3784 - val_accuracy: 0.7703 - val_loss: 0.6697\n",
      "Epoch 8/100\n",
      "\u001b[1m105/105\u001b[0m \u001b[32m━━━━━━━━━━━━━━━━━━━━\u001b[0m\u001b[37m\u001b[0m \u001b[1m1s\u001b[0m 5ms/step - accuracy: 0.8359 - loss: 0.3827 - val_accuracy: 0.7584 - val_loss: 0.6240\n",
      "Epoch 9/100\n",
      "\u001b[1m105/105\u001b[0m \u001b[32m━━━━━━━━━━━━━━━━━━━━\u001b[0m\u001b[37m\u001b[0m \u001b[1m1s\u001b[0m 5ms/step - accuracy: 0.8413 - loss: 0.3615 - val_accuracy: 0.7608 - val_loss: 0.6325\n",
      "Epoch 10/100\n",
      "\u001b[1m105/105\u001b[0m \u001b[32m━━━━━━━━━━━━━━━━━━━━\u001b[0m\u001b[37m\u001b[0m \u001b[1m1s\u001b[0m 5ms/step - accuracy: 0.8519 - loss: 0.3569 - val_accuracy: 0.7524 - val_loss: 0.6253\n",
      "Epoch 11/100\n",
      "\u001b[1m105/105\u001b[0m \u001b[32m━━━━━━━━━━━━━━━━━━━━\u001b[0m\u001b[37m\u001b[0m \u001b[1m1s\u001b[0m 5ms/step - accuracy: 0.8456 - loss: 0.3623 - val_accuracy: 0.7667 - val_loss: 0.6717\n",
      "Epoch 12/100\n",
      "\u001b[1m105/105\u001b[0m \u001b[32m━━━━━━━━━━━━━━━━━━━━\u001b[0m\u001b[37m\u001b[0m \u001b[1m1s\u001b[0m 5ms/step - accuracy: 0.8350 - loss: 0.3784 - val_accuracy: 0.7620 - val_loss: 0.6225\n",
      "Epoch 13/100\n",
      "\u001b[1m105/105\u001b[0m \u001b[32m━━━━━━━━━━━━━━━━━━━━\u001b[0m\u001b[37m\u001b[0m \u001b[1m1s\u001b[0m 5ms/step - accuracy: 0.8313 - loss: 0.3748 - val_accuracy: 0.7572 - val_loss: 0.6213\n",
      "Epoch 14/100\n",
      "\u001b[1m105/105\u001b[0m \u001b[32m━━━━━━━━━━━━━━━━━━━━\u001b[0m\u001b[37m\u001b[0m \u001b[1m1s\u001b[0m 5ms/step - accuracy: 0.8493 - loss: 0.3535 - val_accuracy: 0.7584 - val_loss: 0.6793\n",
      "Epoch 15/100\n",
      "\u001b[1m105/105\u001b[0m \u001b[32m━━━━━━━━━━━━━━━━━━━━\u001b[0m\u001b[37m\u001b[0m \u001b[1m1s\u001b[0m 5ms/step - accuracy: 0.8363 - loss: 0.3573 - val_accuracy: 0.7632 - val_loss: 0.6601\n",
      "Epoch 16/100\n",
      "\u001b[1m105/105\u001b[0m \u001b[32m━━━━━━━━━━━━━━━━━━━━\u001b[0m\u001b[37m\u001b[0m \u001b[1m1s\u001b[0m 5ms/step - accuracy: 0.8369 - loss: 0.3828 - val_accuracy: 0.7368 - val_loss: 0.6392\n",
      "Epoch 17/100\n",
      "\u001b[1m105/105\u001b[0m \u001b[32m━━━━━━━━━━━━━━━━━━━━\u001b[0m\u001b[37m\u001b[0m \u001b[1m1s\u001b[0m 4ms/step - accuracy: 0.8382 - loss: 0.3690 - val_accuracy: 0.7632 - val_loss: 0.6506\n",
      "Epoch 18/100\n",
      "\u001b[1m105/105\u001b[0m \u001b[32m━━━━━━━━━━━━━━━━━━━━\u001b[0m\u001b[37m\u001b[0m \u001b[1m1s\u001b[0m 5ms/step - accuracy: 0.8475 - loss: 0.3465 - val_accuracy: 0.7584 - val_loss: 0.6227\n",
      "Epoch 19/100\n",
      "\u001b[1m105/105\u001b[0m \u001b[32m━━━━━━━━━━━━━━━━━━━━\u001b[0m\u001b[37m\u001b[0m \u001b[1m1s\u001b[0m 5ms/step - accuracy: 0.8453 - loss: 0.3687 - val_accuracy: 0.7584 - val_loss: 0.6405\n",
      "Epoch 20/100\n",
      "\u001b[1m105/105\u001b[0m \u001b[32m━━━━━━━━━━━━━━━━━━━━\u001b[0m\u001b[37m\u001b[0m \u001b[1m1s\u001b[0m 5ms/step - accuracy: 0.8475 - loss: 0.3567 - val_accuracy: 0.7524 - val_loss: 0.6374\n",
      "Epoch 21/100\n",
      "\u001b[1m105/105\u001b[0m \u001b[32m━━━━━━━━━━━━━━━━━━━━\u001b[0m\u001b[37m\u001b[0m \u001b[1m1s\u001b[0m 5ms/step - accuracy: 0.8424 - loss: 0.3574 - val_accuracy: 0.7536 - val_loss: 0.6565\n",
      "Epoch 22/100\n",
      "\u001b[1m105/105\u001b[0m \u001b[32m━━━━━━━━━━━━━━━━━━━━\u001b[0m\u001b[37m\u001b[0m \u001b[1m1s\u001b[0m 5ms/step - accuracy: 0.8486 - loss: 0.3501 - val_accuracy: 0.7524 - val_loss: 0.6537\n",
      "Epoch 23/100\n",
      "\u001b[1m105/105\u001b[0m \u001b[32m━━━━━━━━━━━━━━━━━━━━\u001b[0m\u001b[37m\u001b[0m \u001b[1m0s\u001b[0m 4ms/step - accuracy: 0.8548 - loss: 0.3436 - val_accuracy: 0.7476 - val_loss: 0.6708\n",
      "Epoch 24/100\n",
      "\u001b[1m105/105\u001b[0m \u001b[32m━━━━━━━━━━━━━━━━━━━━\u001b[0m\u001b[37m\u001b[0m \u001b[1m1s\u001b[0m 5ms/step - accuracy: 0.8394 - loss: 0.3653 - val_accuracy: 0.7584 - val_loss: 0.6497\n",
      "Epoch 25/100\n",
      "\u001b[1m105/105\u001b[0m \u001b[32m━━━━━━━━━━━━━━━━━━━━\u001b[0m\u001b[37m\u001b[0m \u001b[1m1s\u001b[0m 5ms/step - accuracy: 0.8515 - loss: 0.3577 - val_accuracy: 0.7560 - val_loss: 0.6364\n",
      "Epoch 26/100\n",
      "\u001b[1m105/105\u001b[0m \u001b[32m━━━━━━━━━━━━━━━━━━━━\u001b[0m\u001b[37m\u001b[0m \u001b[1m1s\u001b[0m 5ms/step - accuracy: 0.8369 - loss: 0.3663 - val_accuracy: 0.7608 - val_loss: 0.6656\n",
      "Epoch 27/100\n",
      "\u001b[1m105/105\u001b[0m \u001b[32m━━━━━━━━━━━━━━━━━━━━\u001b[0m\u001b[37m\u001b[0m \u001b[1m1s\u001b[0m 5ms/step - accuracy: 0.8451 - loss: 0.3482 - val_accuracy: 0.7452 - val_loss: 0.6889\n",
      "Epoch 28/100\n",
      "\u001b[1m105/105\u001b[0m \u001b[32m━━━━━━━━━━━━━━━━━━━━\u001b[0m\u001b[37m\u001b[0m \u001b[1m1s\u001b[0m 5ms/step - accuracy: 0.8393 - loss: 0.3646 - val_accuracy: 0.7679 - val_loss: 0.6770\n",
      "Epoch 29/100\n",
      "\u001b[1m105/105\u001b[0m \u001b[32m━━━━━━━━━━━━━━━━━━━━\u001b[0m\u001b[37m\u001b[0m \u001b[1m1s\u001b[0m 5ms/step - accuracy: 0.8461 - loss: 0.3604 - val_accuracy: 0.7572 - val_loss: 0.6583\n",
      "Epoch 30/100\n",
      "\u001b[1m105/105\u001b[0m \u001b[32m━━━━━━━━━━━━━━━━━━━━\u001b[0m\u001b[37m\u001b[0m \u001b[1m1s\u001b[0m 5ms/step - accuracy: 0.8514 - loss: 0.3444 - val_accuracy: 0.7572 - val_loss: 0.6591\n",
      "Epoch 31/100\n",
      "\u001b[1m105/105\u001b[0m \u001b[32m━━━━━━━━━━━━━━━━━━━━\u001b[0m\u001b[37m\u001b[0m \u001b[1m1s\u001b[0m 5ms/step - accuracy: 0.8440 - loss: 0.3596 - val_accuracy: 0.7560 - val_loss: 0.6682\n",
      "Epoch 32/100\n",
      "\u001b[1m105/105\u001b[0m \u001b[32m━━━━━━━━━━━━━━━━━━━━\u001b[0m\u001b[37m\u001b[0m \u001b[1m1s\u001b[0m 5ms/step - accuracy: 0.8526 - loss: 0.3319 - val_accuracy: 0.7608 - val_loss: 0.6800\n",
      "Epoch 33/100\n",
      "\u001b[1m105/105\u001b[0m \u001b[32m━━━━━━━━━━━━━━━━━━━━\u001b[0m\u001b[37m\u001b[0m \u001b[1m1s\u001b[0m 5ms/step - accuracy: 0.8464 - loss: 0.3474 - val_accuracy: 0.7464 - val_loss: 0.6820\n",
      "Epoch 34/100\n",
      "\u001b[1m105/105\u001b[0m \u001b[32m━━━━━━━━━━━━━━━━━━━━\u001b[0m\u001b[37m\u001b[0m \u001b[1m1s\u001b[0m 5ms/step - accuracy: 0.8527 - loss: 0.3289 - val_accuracy: 0.7536 - val_loss: 0.6810\n",
      "Epoch 35/100\n",
      "\u001b[1m105/105\u001b[0m \u001b[32m━━━━━━━━━━━━━━━━━━━━\u001b[0m\u001b[37m\u001b[0m \u001b[1m1s\u001b[0m 6ms/step - accuracy: 0.8659 - loss: 0.3268 - val_accuracy: 0.7476 - val_loss: 0.6785\n",
      "Epoch 36/100\n",
      "\u001b[1m105/105\u001b[0m \u001b[32m━━━━━━━━━━━━━━━━━━━━\u001b[0m\u001b[37m\u001b[0m \u001b[1m1s\u001b[0m 4ms/step - accuracy: 0.8503 - loss: 0.3428 - val_accuracy: 0.7512 - val_loss: 0.6914\n",
      "Epoch 37/100\n",
      "\u001b[1m105/105\u001b[0m \u001b[32m━━━━━━━━━━━━━━━━━━━━\u001b[0m\u001b[37m\u001b[0m \u001b[1m1s\u001b[0m 5ms/step - accuracy: 0.8505 - loss: 0.3443 - val_accuracy: 0.7524 - val_loss: 0.6867\n",
      "Epoch 38/100\n",
      "\u001b[1m105/105\u001b[0m \u001b[32m━━━━━━━━━━━━━━━━━━━━\u001b[0m\u001b[37m\u001b[0m \u001b[1m1s\u001b[0m 5ms/step - accuracy: 0.8487 - loss: 0.3498 - val_accuracy: 0.7608 - val_loss: 0.6975\n",
      "Epoch 39/100\n",
      "\u001b[1m105/105\u001b[0m \u001b[32m━━━━━━━━━━━━━━━━━━━━\u001b[0m\u001b[37m\u001b[0m \u001b[1m1s\u001b[0m 5ms/step - accuracy: 0.8512 - loss: 0.3347 - val_accuracy: 0.7596 - val_loss: 0.6939\n",
      "Epoch 40/100\n",
      "\u001b[1m105/105\u001b[0m \u001b[32m━━━━━━━━━━━━━━━━━━━━\u001b[0m\u001b[37m\u001b[0m \u001b[1m1s\u001b[0m 5ms/step - accuracy: 0.8527 - loss: 0.3309 - val_accuracy: 0.7416 - val_loss: 0.6846\n",
      "Epoch 41/100\n",
      "\u001b[1m105/105\u001b[0m \u001b[32m━━━━━━━━━━━━━━━━━━━━\u001b[0m\u001b[37m\u001b[0m \u001b[1m1s\u001b[0m 5ms/step - accuracy: 0.8639 - loss: 0.3247 - val_accuracy: 0.7572 - val_loss: 0.6923\n",
      "Epoch 42/100\n",
      "\u001b[1m105/105\u001b[0m \u001b[32m━━━━━━━━━━━━━━━━━━━━\u001b[0m\u001b[37m\u001b[0m \u001b[1m1s\u001b[0m 5ms/step - accuracy: 0.8503 - loss: 0.3383 - val_accuracy: 0.7452 - val_loss: 0.7270\n",
      "Epoch 43/100\n",
      "\u001b[1m105/105\u001b[0m \u001b[32m━━━━━━━━━━━━━━━━━━━━\u001b[0m\u001b[37m\u001b[0m \u001b[1m1s\u001b[0m 5ms/step - accuracy: 0.8579 - loss: 0.3367 - val_accuracy: 0.7512 - val_loss: 0.6956\n",
      "Epoch 44/100\n",
      "\u001b[1m105/105\u001b[0m \u001b[32m━━━━━━━━━━━━━━━━━━━━\u001b[0m\u001b[37m\u001b[0m \u001b[1m1s\u001b[0m 4ms/step - accuracy: 0.8621 - loss: 0.3297 - val_accuracy: 0.7512 - val_loss: 0.7097\n",
      "Epoch 45/100\n",
      "\u001b[1m105/105\u001b[0m \u001b[32m━━━━━━━━━━━━━━━━━━━━\u001b[0m\u001b[37m\u001b[0m \u001b[1m1s\u001b[0m 5ms/step - accuracy: 0.8501 - loss: 0.3317 - val_accuracy: 0.7321 - val_loss: 0.7009\n",
      "Epoch 46/100\n",
      "\u001b[1m105/105\u001b[0m \u001b[32m━━━━━━━━━━━━━━━━━━━━\u001b[0m\u001b[37m\u001b[0m \u001b[1m1s\u001b[0m 5ms/step - accuracy: 0.8637 - loss: 0.3200 - val_accuracy: 0.7416 - val_loss: 0.7000\n",
      "Epoch 47/100\n",
      "\u001b[1m105/105\u001b[0m \u001b[32m━━━━━━━━━━━━━━━━━━━━\u001b[0m\u001b[37m\u001b[0m \u001b[1m1s\u001b[0m 4ms/step - accuracy: 0.8657 - loss: 0.3251 - val_accuracy: 0.7452 - val_loss: 0.7010\n",
      "Epoch 48/100\n",
      "\u001b[1m105/105\u001b[0m \u001b[32m━━━━━━━━━━━━━━━━━━━━\u001b[0m\u001b[37m\u001b[0m \u001b[1m1s\u001b[0m 5ms/step - accuracy: 0.8556 - loss: 0.3285 - val_accuracy: 0.7368 - val_loss: 0.6907\n",
      "Epoch 49/100\n",
      "\u001b[1m105/105\u001b[0m \u001b[32m━━━━━━━━━━━━━━━━━━━━\u001b[0m\u001b[37m\u001b[0m \u001b[1m0s\u001b[0m 4ms/step - accuracy: 0.8653 - loss: 0.3209 - val_accuracy: 0.7500 - val_loss: 0.7146\n",
      "Epoch 50/100\n",
      "\u001b[1m105/105\u001b[0m \u001b[32m━━━━━━━━━━━━━━━━━━━━\u001b[0m\u001b[37m\u001b[0m \u001b[1m1s\u001b[0m 5ms/step - accuracy: 0.8599 - loss: 0.3273 - val_accuracy: 0.7488 - val_loss: 0.7062\n",
      "Epoch 51/100\n",
      "\u001b[1m105/105\u001b[0m \u001b[32m━━━━━━━━━━━━━━━━━━━━\u001b[0m\u001b[37m\u001b[0m \u001b[1m1s\u001b[0m 5ms/step - accuracy: 0.8454 - loss: 0.3390 - val_accuracy: 0.7428 - val_loss: 0.7258\n",
      "Epoch 52/100\n",
      "\u001b[1m105/105\u001b[0m \u001b[32m━━━━━━━━━━━━━━━━━━━━\u001b[0m\u001b[37m\u001b[0m \u001b[1m1s\u001b[0m 4ms/step - accuracy: 0.8616 - loss: 0.3271 - val_accuracy: 0.7464 - val_loss: 0.7177\n",
      "Epoch 53/100\n",
      "\u001b[1m105/105\u001b[0m \u001b[32m━━━━━━━━━━━━━━━━━━━━\u001b[0m\u001b[37m\u001b[0m \u001b[1m1s\u001b[0m 5ms/step - accuracy: 0.8570 - loss: 0.3362 - val_accuracy: 0.7464 - val_loss: 0.7423\n",
      "Epoch 54/100\n",
      "\u001b[1m105/105\u001b[0m \u001b[32m━━━━━━━━━━━━━━━━━━━━\u001b[0m\u001b[37m\u001b[0m \u001b[1m1s\u001b[0m 5ms/step - accuracy: 0.8718 - loss: 0.3080 - val_accuracy: 0.7476 - val_loss: 0.7498\n",
      "Epoch 55/100\n",
      "\u001b[1m105/105\u001b[0m \u001b[32m━━━━━━━━━━━━━━━━━━━━\u001b[0m\u001b[37m\u001b[0m \u001b[1m1s\u001b[0m 5ms/step - accuracy: 0.8595 - loss: 0.3300 - val_accuracy: 0.7452 - val_loss: 0.7423\n",
      "Epoch 56/100\n",
      "\u001b[1m105/105\u001b[0m \u001b[32m━━━━━━━━━━━━━━━━━━━━\u001b[0m\u001b[37m\u001b[0m \u001b[1m1s\u001b[0m 5ms/step - accuracy: 0.8661 - loss: 0.3123 - val_accuracy: 0.7416 - val_loss: 0.7144\n",
      "Epoch 57/100\n",
      "\u001b[1m105/105\u001b[0m \u001b[32m━━━━━━━━━━━━━━━━━━━━\u001b[0m\u001b[37m\u001b[0m \u001b[1m1s\u001b[0m 5ms/step - accuracy: 0.8607 - loss: 0.3201 - val_accuracy: 0.7524 - val_loss: 0.7343\n",
      "Epoch 58/100\n",
      "\u001b[1m105/105\u001b[0m \u001b[32m━━━━━━━━━━━━━━━━━━━━\u001b[0m\u001b[37m\u001b[0m \u001b[1m1s\u001b[0m 5ms/step - accuracy: 0.8790 - loss: 0.2997 - val_accuracy: 0.7440 - val_loss: 0.7314\n",
      "Epoch 59/100\n",
      "\u001b[1m105/105\u001b[0m \u001b[32m━━━━━━━━━━━━━━━━━━━━\u001b[0m\u001b[37m\u001b[0m \u001b[1m1s\u001b[0m 5ms/step - accuracy: 0.8642 - loss: 0.3136 - val_accuracy: 0.7452 - val_loss: 0.7469\n",
      "Epoch 60/100\n",
      "\u001b[1m105/105\u001b[0m \u001b[32m━━━━━━━━━━━━━━━━━━━━\u001b[0m\u001b[37m\u001b[0m \u001b[1m1s\u001b[0m 6ms/step - accuracy: 0.8686 - loss: 0.3046 - val_accuracy: 0.7500 - val_loss: 0.7483\n",
      "Epoch 61/100\n",
      "\u001b[1m105/105\u001b[0m \u001b[32m━━━━━━━━━━━━━━━━━━━━\u001b[0m\u001b[37m\u001b[0m \u001b[1m1s\u001b[0m 5ms/step - accuracy: 0.8660 - loss: 0.2990 - val_accuracy: 0.7452 - val_loss: 0.7731\n",
      "Epoch 62/100\n",
      "\u001b[1m105/105\u001b[0m \u001b[32m━━━━━━━━━━━━━━━━━━━━\u001b[0m\u001b[37m\u001b[0m \u001b[1m1s\u001b[0m 5ms/step - accuracy: 0.8610 - loss: 0.3203 - val_accuracy: 0.7380 - val_loss: 0.7599\n",
      "Epoch 63/100\n",
      "\u001b[1m105/105\u001b[0m \u001b[32m━━━━━━━━━━━━━━━━━━━━\u001b[0m\u001b[37m\u001b[0m \u001b[1m1s\u001b[0m 5ms/step - accuracy: 0.8658 - loss: 0.3097 - val_accuracy: 0.7500 - val_loss: 0.7545\n",
      "Epoch 64/100\n",
      "\u001b[1m105/105\u001b[0m \u001b[32m━━━━━━━━━━━━━━━━━━━━\u001b[0m\u001b[37m\u001b[0m \u001b[1m1s\u001b[0m 5ms/step - accuracy: 0.8609 - loss: 0.3144 - val_accuracy: 0.7285 - val_loss: 0.7739\n",
      "Epoch 65/100\n",
      "\u001b[1m105/105\u001b[0m \u001b[32m━━━━━━━━━━━━━━━━━━━━\u001b[0m\u001b[37m\u001b[0m \u001b[1m1s\u001b[0m 5ms/step - accuracy: 0.8638 - loss: 0.3115 - val_accuracy: 0.7201 - val_loss: 0.7953\n",
      "Epoch 66/100\n",
      "\u001b[1m105/105\u001b[0m \u001b[32m━━━━━━━━━━━━━━━━━━━━\u001b[0m\u001b[37m\u001b[0m \u001b[1m1s\u001b[0m 5ms/step - accuracy: 0.8559 - loss: 0.3115 - val_accuracy: 0.7524 - val_loss: 0.7437\n",
      "Epoch 67/100\n",
      "\u001b[1m105/105\u001b[0m \u001b[32m━━━━━━━━━━━━━━━━━━━━\u001b[0m\u001b[37m\u001b[0m \u001b[1m1s\u001b[0m 5ms/step - accuracy: 0.8619 - loss: 0.3060 - val_accuracy: 0.7368 - val_loss: 0.7823\n",
      "Epoch 68/100\n",
      "\u001b[1m105/105\u001b[0m \u001b[32m━━━━━━━━━━━━━━━━━━━━\u001b[0m\u001b[37m\u001b[0m \u001b[1m1s\u001b[0m 5ms/step - accuracy: 0.8676 - loss: 0.3173 - val_accuracy: 0.7488 - val_loss: 0.7425\n",
      "Epoch 69/100\n",
      "\u001b[1m105/105\u001b[0m \u001b[32m━━━━━━━━━━━━━━━━━━━━\u001b[0m\u001b[37m\u001b[0m \u001b[1m1s\u001b[0m 5ms/step - accuracy: 0.8674 - loss: 0.3048 - val_accuracy: 0.7476 - val_loss: 0.7634\n",
      "Epoch 70/100\n",
      "\u001b[1m105/105\u001b[0m \u001b[32m━━━━━━━━━━━━━━━━━━━━\u001b[0m\u001b[37m\u001b[0m \u001b[1m1s\u001b[0m 5ms/step - accuracy: 0.8757 - loss: 0.2865 - val_accuracy: 0.7404 - val_loss: 0.7545\n",
      "Epoch 71/100\n",
      "\u001b[1m105/105\u001b[0m \u001b[32m━━━━━━━━━━━━━━━━━━━━\u001b[0m\u001b[37m\u001b[0m \u001b[1m1s\u001b[0m 5ms/step - accuracy: 0.8799 - loss: 0.2924 - val_accuracy: 0.7464 - val_loss: 0.7916\n",
      "Epoch 72/100\n",
      "\u001b[1m105/105\u001b[0m \u001b[32m━━━━━━━━━━━━━━━━━━━━\u001b[0m\u001b[37m\u001b[0m \u001b[1m1s\u001b[0m 5ms/step - accuracy: 0.8737 - loss: 0.2891 - val_accuracy: 0.7464 - val_loss: 0.8024\n",
      "Epoch 73/100\n",
      "\u001b[1m105/105\u001b[0m \u001b[32m━━━━━━━━━━━━━━━━━━━━\u001b[0m\u001b[37m\u001b[0m \u001b[1m1s\u001b[0m 5ms/step - accuracy: 0.8742 - loss: 0.2881 - val_accuracy: 0.7344 - val_loss: 0.7646\n",
      "Epoch 74/100\n",
      "\u001b[1m105/105\u001b[0m \u001b[32m━━━━━━━━━━━━━━━━━━━━\u001b[0m\u001b[37m\u001b[0m \u001b[1m0s\u001b[0m 4ms/step - accuracy: 0.8713 - loss: 0.2869 - val_accuracy: 0.7512 - val_loss: 0.7869\n",
      "Epoch 75/100\n",
      "\u001b[1m105/105\u001b[0m \u001b[32m━━━━━━━━━━━━━━━━━━━━\u001b[0m\u001b[37m\u001b[0m \u001b[1m1s\u001b[0m 5ms/step - accuracy: 0.8800 - loss: 0.2899 - val_accuracy: 0.7512 - val_loss: 0.7930\n",
      "Epoch 76/100\n",
      "\u001b[1m105/105\u001b[0m \u001b[32m━━━━━━━━━━━━━━━━━━━━\u001b[0m\u001b[37m\u001b[0m \u001b[1m1s\u001b[0m 5ms/step - accuracy: 0.8691 - loss: 0.2962 - val_accuracy: 0.7464 - val_loss: 0.7917\n",
      "Epoch 77/100\n",
      "\u001b[1m105/105\u001b[0m \u001b[32m━━━━━━━━━━━━━━━━━━━━\u001b[0m\u001b[37m\u001b[0m \u001b[1m1s\u001b[0m 5ms/step - accuracy: 0.8800 - loss: 0.2858 - val_accuracy: 0.7524 - val_loss: 0.8005\n",
      "Epoch 78/100\n",
      "\u001b[1m105/105\u001b[0m \u001b[32m━━━━━━━━━━━━━━━━━━━━\u001b[0m\u001b[37m\u001b[0m \u001b[1m1s\u001b[0m 5ms/step - accuracy: 0.8733 - loss: 0.2845 - val_accuracy: 0.7321 - val_loss: 0.8138\n",
      "Epoch 79/100\n",
      "\u001b[1m105/105\u001b[0m \u001b[32m━━━━━━━━━━━━━━━━━━━━\u001b[0m\u001b[37m\u001b[0m \u001b[1m1s\u001b[0m 5ms/step - accuracy: 0.8787 - loss: 0.2822 - val_accuracy: 0.7500 - val_loss: 0.8192\n",
      "Epoch 80/100\n",
      "\u001b[1m105/105\u001b[0m \u001b[32m━━━━━━━━━━━━━━━━━━━━\u001b[0m\u001b[37m\u001b[0m \u001b[1m1s\u001b[0m 5ms/step - accuracy: 0.8782 - loss: 0.2826 - val_accuracy: 0.7309 - val_loss: 0.7968\n",
      "Epoch 81/100\n",
      "\u001b[1m105/105\u001b[0m \u001b[32m━━━━━━━━━━━━━━━━━━━━\u001b[0m\u001b[37m\u001b[0m \u001b[1m1s\u001b[0m 5ms/step - accuracy: 0.8695 - loss: 0.2988 - val_accuracy: 0.7380 - val_loss: 0.7925\n",
      "Epoch 82/100\n",
      "\u001b[1m105/105\u001b[0m \u001b[32m━━━━━━━━━━━━━━━━━━━━\u001b[0m\u001b[37m\u001b[0m \u001b[1m0s\u001b[0m 4ms/step - accuracy: 0.8788 - loss: 0.2765 - val_accuracy: 0.7464 - val_loss: 0.8147\n",
      "Epoch 83/100\n",
      "\u001b[1m105/105\u001b[0m \u001b[32m━━━━━━━━━━━━━━━━━━━━\u001b[0m\u001b[37m\u001b[0m \u001b[1m1s\u001b[0m 5ms/step - accuracy: 0.8772 - loss: 0.2828 - val_accuracy: 0.7404 - val_loss: 0.8204\n",
      "Epoch 84/100\n",
      "\u001b[1m105/105\u001b[0m \u001b[32m━━━━━━━━━━━━━━━━━━━━\u001b[0m\u001b[37m\u001b[0m \u001b[1m1s\u001b[0m 5ms/step - accuracy: 0.8688 - loss: 0.2944 - val_accuracy: 0.7428 - val_loss: 0.8123\n",
      "Epoch 85/100\n",
      "\u001b[1m105/105\u001b[0m \u001b[32m━━━━━━━━━━━━━━━━━━━━\u001b[0m\u001b[37m\u001b[0m \u001b[1m1s\u001b[0m 5ms/step - accuracy: 0.8831 - loss: 0.2652 - val_accuracy: 0.7177 - val_loss: 0.8083\n",
      "Epoch 86/100\n",
      "\u001b[1m105/105\u001b[0m \u001b[32m━━━━━━━━━━━━━━━━━━━━\u001b[0m\u001b[37m\u001b[0m \u001b[1m1s\u001b[0m 5ms/step - accuracy: 0.8757 - loss: 0.2756 - val_accuracy: 0.7488 - val_loss: 0.8384\n",
      "Epoch 87/100\n",
      "\u001b[1m105/105\u001b[0m \u001b[32m━━━━━━━━━━━━━━━━━━━━\u001b[0m\u001b[37m\u001b[0m \u001b[1m1s\u001b[0m 5ms/step - accuracy: 0.8842 - loss: 0.2767 - val_accuracy: 0.7512 - val_loss: 0.8365\n",
      "Epoch 88/100\n",
      "\u001b[1m105/105\u001b[0m \u001b[32m━━━━━━━━━━━━━━━━━━━━\u001b[0m\u001b[37m\u001b[0m \u001b[1m1s\u001b[0m 5ms/step - accuracy: 0.8810 - loss: 0.2864 - val_accuracy: 0.7273 - val_loss: 0.8479\n",
      "Epoch 89/100\n",
      "\u001b[1m105/105\u001b[0m \u001b[32m━━━━━━━━━━━━━━━━━━━━\u001b[0m\u001b[37m\u001b[0m \u001b[1m1s\u001b[0m 5ms/step - accuracy: 0.8866 - loss: 0.2665 - val_accuracy: 0.7416 - val_loss: 0.8513\n",
      "Epoch 90/100\n",
      "\u001b[1m105/105\u001b[0m \u001b[32m━━━━━━━━━━━━━━━━━━━━\u001b[0m\u001b[37m\u001b[0m \u001b[1m1s\u001b[0m 5ms/step - accuracy: 0.8852 - loss: 0.2676 - val_accuracy: 0.7404 - val_loss: 0.8454\n",
      "Epoch 91/100\n",
      "\u001b[1m105/105\u001b[0m \u001b[32m━━━━━━━━━━━━━━━━━━━━\u001b[0m\u001b[37m\u001b[0m \u001b[1m1s\u001b[0m 5ms/step - accuracy: 0.8860 - loss: 0.2690 - val_accuracy: 0.7428 - val_loss: 0.8523\n",
      "Epoch 92/100\n",
      "\u001b[1m105/105\u001b[0m \u001b[32m━━━━━━━━━━━━━━━━━━━━\u001b[0m\u001b[37m\u001b[0m \u001b[1m1s\u001b[0m 5ms/step - accuracy: 0.8770 - loss: 0.2743 - val_accuracy: 0.7356 - val_loss: 0.8552\n",
      "Epoch 93/100\n",
      "\u001b[1m105/105\u001b[0m \u001b[32m━━━━━━━━━━━━━━━━━━━━\u001b[0m\u001b[37m\u001b[0m \u001b[1m1s\u001b[0m 4ms/step - accuracy: 0.8817 - loss: 0.2660 - val_accuracy: 0.7344 - val_loss: 0.8584\n",
      "Epoch 94/100\n",
      "\u001b[1m105/105\u001b[0m \u001b[32m━━━━━━━━━━━━━━━━━━━━\u001b[0m\u001b[37m\u001b[0m \u001b[1m1s\u001b[0m 5ms/step - accuracy: 0.8852 - loss: 0.2632 - val_accuracy: 0.7356 - val_loss: 0.8787\n",
      "Epoch 95/100\n",
      "\u001b[1m105/105\u001b[0m \u001b[32m━━━━━━━━━━━━━━━━━━━━\u001b[0m\u001b[37m\u001b[0m \u001b[1m1s\u001b[0m 5ms/step - accuracy: 0.8838 - loss: 0.2676 - val_accuracy: 0.7392 - val_loss: 0.8616\n",
      "Epoch 96/100\n",
      "\u001b[1m105/105\u001b[0m \u001b[32m━━━━━━━━━━━━━━━━━━━━\u001b[0m\u001b[37m\u001b[0m \u001b[1m1s\u001b[0m 5ms/step - accuracy: 0.8900 - loss: 0.2616 - val_accuracy: 0.7392 - val_loss: 0.8877\n",
      "Epoch 97/100\n",
      "\u001b[1m105/105\u001b[0m \u001b[32m━━━━━━━━━━━━━━━━━━━━\u001b[0m\u001b[37m\u001b[0m \u001b[1m1s\u001b[0m 5ms/step - accuracy: 0.8887 - loss: 0.2567 - val_accuracy: 0.7368 - val_loss: 0.8992\n",
      "Epoch 98/100\n",
      "\u001b[1m105/105\u001b[0m \u001b[32m━━━━━━━━━━━━━━━━━━━━\u001b[0m\u001b[37m\u001b[0m \u001b[1m1s\u001b[0m 5ms/step - accuracy: 0.8716 - loss: 0.2898 - val_accuracy: 0.7464 - val_loss: 0.8713\n",
      "Epoch 99/100\n",
      "\u001b[1m105/105\u001b[0m \u001b[32m━━━━━━━━━━━━━━━━━━━━\u001b[0m\u001b[37m\u001b[0m \u001b[1m1s\u001b[0m 5ms/step - accuracy: 0.8910 - loss: 0.2577 - val_accuracy: 0.7333 - val_loss: 0.8614\n",
      "Epoch 100/100\n",
      "\u001b[1m105/105\u001b[0m \u001b[32m━━━━━━━━━━━━━━━━━━━━\u001b[0m\u001b[37m\u001b[0m \u001b[1m1s\u001b[0m 5ms/step - accuracy: 0.8930 - loss: 0.2511 - val_accuracy: 0.7333 - val_loss: 0.8820\n"
     ]
    }
   ],
   "source": [
    "history3 = new_model.fit(x_train,y_train,epochs=100,validation_data=(x_test,y_test),shuffle=True)"
   ]
  },
  {
   "cell_type": "code",
   "execution_count": 102,
   "id": "c82c5e92-d25b-4541-952f-871742202c72",
   "metadata": {},
   "outputs": [
    {
     "name": "stdout",
     "output_type": "stream",
     "text": [
      "\u001b[1m27/27\u001b[0m \u001b[32m━━━━━━━━━━━━━━━━━━━━\u001b[0m\u001b[37m\u001b[0m \u001b[1m0s\u001b[0m 3ms/step - accuracy: 0.7200 - loss: 0.9171\n"
     ]
    },
    {
     "data": {
      "text/plain": [
       "[0.8820018768310547, 0.7332535982131958]"
      ]
     },
     "execution_count": 102,
     "metadata": {},
     "output_type": "execute_result"
    }
   ],
   "source": [
    "new_model.evaluate(x_test,y_test)"
   ]
  },
  {
   "cell_type": "code",
   "execution_count": 110,
   "id": "a499ae07-6bbb-419a-93e4-88bc110a6e86",
   "metadata": {},
   "outputs": [
    {
     "name": "stdout",
     "output_type": "stream",
     "text": [
      "\u001b[1m105/105\u001b[0m \u001b[32m━━━━━━━━━━━━━━━━━━━━\u001b[0m\u001b[37m\u001b[0m \u001b[1m0s\u001b[0m 3ms/step - accuracy: 0.8852 - loss: 0.2651\n"
     ]
    },
    {
     "data": {
      "text/plain": [
       "[0.26094239950180054, 0.8919485211372375]"
      ]
     },
     "execution_count": 110,
     "metadata": {},
     "output_type": "execute_result"
    }
   ],
   "source": [
    "new_model.evaluate(x_train,y_train)"
   ]
  },
  {
   "cell_type": "code",
   "execution_count": 111,
   "id": "01e5fa35-730a-46fc-a984-b1c969aff55e",
   "metadata": {},
   "outputs": [
    {
     "data": {
      "text/plain": [
       "<matplotlib.legend.Legend at 0x1808809a630>"
      ]
     },
     "execution_count": 111,
     "metadata": {},
     "output_type": "execute_result"
    },
    {
     "data": {
      "image/png": "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",
      "text/plain": [
       "<Figure size 640x480 with 1 Axes>"
      ]
     },
     "metadata": {},
     "output_type": "display_data"
    }
   ],
   "source": [
    "plt.plot(history3.history[\"loss\"], label = \"train\")\n",
    "plt.plot(history3.history[\"val_loss\"], label = \"test\")\n",
    "plt.legend()"
   ]
  },
  {
   "cell_type": "markdown",
   "id": "a3f21b15-14ad-4ab9-a2e1-b39cfa6ec0b1",
   "metadata": {},
   "source": [
    "#####  Dropout, BatchNormalization 추가\r\n",
    "\r\n"
   ]
  },
  {
   "cell_type": "code",
   "execution_count": 118,
   "id": "1cd78668-1b40-45a5-b376-6cd089166031",
   "metadata": {},
   "outputs": [
    {
     "ename": "NameError",
     "evalue": "name 'time_steps' is not defined",
     "output_type": "error",
     "traceback": [
      "\u001b[1;31m---------------------------------------------------------------------------\u001b[0m",
      "\u001b[1;31mNameError\u001b[0m                                 Traceback (most recent call last)",
      "Cell \u001b[1;32mIn[118], line 21\u001b[0m\n\u001b[0;32m     18\u001b[0m \u001b[38;5;28;01mfrom\u001b[39;00m \u001b[38;5;21;01mtensorflow\u001b[39;00m\u001b[38;5;21;01m.\u001b[39;00m\u001b[38;5;21;01mkeras\u001b[39;00m\u001b[38;5;21;01m.\u001b[39;00m\u001b[38;5;21;01mlayers\u001b[39;00m \u001b[38;5;28;01mimport\u001b[39;00m Input, Conv1D, MaxPooling1D, Flatten, Dense, Dropout, BatchNormalization\n\u001b[0;32m     20\u001b[0m new_model \u001b[38;5;241m=\u001b[39m Sequential()\n\u001b[1;32m---> 21\u001b[0m new_model\u001b[38;5;241m.\u001b[39madd(Input(shape\u001b[38;5;241m=\u001b[39m(time_steps, features)))  \u001b[38;5;66;03m# 입력 데이터의 shape을 지정해야 합니다.\u001b[39;00m\n\u001b[0;32m     22\u001b[0m new_model\u001b[38;5;241m.\u001b[39madd(Dropout(\u001b[38;5;241m0.5\u001b[39m))\n\u001b[0;32m     23\u001b[0m new_model\u001b[38;5;241m.\u001b[39madd(Conv1D(\u001b[38;5;241m64\u001b[39m, kernel_size\u001b[38;5;241m=\u001b[39m\u001b[38;5;241m3\u001b[39m, activation\u001b[38;5;241m=\u001b[39m\u001b[38;5;124m'\u001b[39m\u001b[38;5;124mrelu\u001b[39m\u001b[38;5;124m'\u001b[39m))\n",
      "\u001b[1;31mNameError\u001b[0m: name 'time_steps' is not defined"
     ]
    }
   ],
   "source": [
    "# from tensorflow.keras.layers import Dropout, BatchNormalization\n",
    "\n",
    "# new_model.add(Dropout(0.5))\n",
    "# new_model.add(Conv1D(64,kernel_size=3,activation='relu'))\n",
    "# new_model.add(BatchNormalization())\n",
    "# new_model.add(MaxPooling1D(pool_size=2))\n",
    "# new_model.add(Dropout(0.5))\n",
    "\n",
    "# new_model.add(Flatten())\n",
    "# new_model.add(Dense(64,activation='relu'))\n",
    "# new_model.add(BatchNormalization())\n",
    "# new_model.add(Dropout(0.5))\n",
    "# new_model.add(Dense(3,activation='softmax'))\n",
    "\n",
    "# new_model.summary()\n",
    "\n",
    "\n",
    "from tensorflow.keras.layers import Input, Conv1D, MaxPooling1D, Flatten, Dense, Dropout, BatchNormalization\n",
    "\n",
    "new_model = Sequential()\n",
    "new_model.add(Input(shape=(time_steps, features)))  # 입력 데이터의 shape을 지정해야 합니다.\n",
    "new_model.add(Dropout(0.5))\n",
    "new_model.add(Conv1D(64, kernel_size=3, activation='relu'))\n",
    "new_model.add(BatchNormalization())\n",
    "new_model.add(MaxPooling1D(pool_size=2))\n",
    "new_model.add(Dropout(0.5))\n",
    "\n",
    "new_model.add(Flatten())\n",
    "new_model.add(Dense(64, activation='relu'))\n",
    "new_model.add(BatchNormalization())\n",
    "new_model.add(Dropout(0.5))\n",
    "new_model.add(Dense(3, activation='softmax'))\n",
    "\n",
    "new_model.summary()"
   ]
  },
  {
   "cell_type": "code",
   "execution_count": 120,
   "id": "4ceed5a8-99ed-43cc-a7ad-2c99691f5334",
   "metadata": {},
   "outputs": [],
   "source": [
    "new_model.compile(optimizer='adam',loss='sparse_categorical_crossentropy',metrics=['accuracy'])"
   ]
  },
  {
   "cell_type": "code",
   "execution_count": 122,
   "id": "1e99ad90-cb16-4321-af5e-7ed86c6ad191",
   "metadata": {},
   "outputs": [
    {
     "name": "stdout",
     "output_type": "stream",
     "text": [
      "Epoch 1/100\n"
     ]
    },
    {
     "ename": "ValueError",
     "evalue": "Sequential model sequential_2 cannot be built because it has no layers. Call `model.add(layer)`.",
     "output_type": "error",
     "traceback": [
      "\u001b[1;31m---------------------------------------------------------------------------\u001b[0m",
      "\u001b[1;31mValueError\u001b[0m                                Traceback (most recent call last)",
      "Cell \u001b[1;32mIn[122], line 1\u001b[0m\n\u001b[1;32m----> 1\u001b[0m history4 \u001b[38;5;241m=\u001b[39m new_model\u001b[38;5;241m.\u001b[39mfit(x_train,y_train,epochs\u001b[38;5;241m=\u001b[39m\u001b[38;5;241m100\u001b[39m,validation_data\u001b[38;5;241m=\u001b[39m(x_test,y_test),shuffle\u001b[38;5;241m=\u001b[39m\u001b[38;5;28;01mTrue\u001b[39;00m)\n",
      "File \u001b[1;32m~\\anaconda3\\Lib\\site-packages\\keras\\src\\utils\\traceback_utils.py:122\u001b[0m, in \u001b[0;36mfilter_traceback.<locals>.error_handler\u001b[1;34m(*args, **kwargs)\u001b[0m\n\u001b[0;32m    119\u001b[0m     filtered_tb \u001b[38;5;241m=\u001b[39m _process_traceback_frames(e\u001b[38;5;241m.\u001b[39m__traceback__)\n\u001b[0;32m    120\u001b[0m     \u001b[38;5;66;03m# To get the full stack trace, call:\u001b[39;00m\n\u001b[0;32m    121\u001b[0m     \u001b[38;5;66;03m# `keras.config.disable_traceback_filtering()`\u001b[39;00m\n\u001b[1;32m--> 122\u001b[0m     \u001b[38;5;28;01mraise\u001b[39;00m e\u001b[38;5;241m.\u001b[39mwith_traceback(filtered_tb) \u001b[38;5;28;01mfrom\u001b[39;00m \u001b[38;5;28;01mNone\u001b[39;00m\n\u001b[0;32m    123\u001b[0m \u001b[38;5;28;01mfinally\u001b[39;00m:\n\u001b[0;32m    124\u001b[0m     \u001b[38;5;28;01mdel\u001b[39;00m filtered_tb\n",
      "File \u001b[1;32m~\\anaconda3\\Lib\\site-packages\\keras\\src\\models\\sequential.py:163\u001b[0m, in \u001b[0;36mSequential.build\u001b[1;34m(self, input_shape)\u001b[0m\n\u001b[0;32m    161\u001b[0m     \u001b[38;5;28;01mreturn\u001b[39;00m\n\u001b[0;32m    162\u001b[0m \u001b[38;5;28;01mif\u001b[39;00m \u001b[38;5;129;01mnot\u001b[39;00m \u001b[38;5;28mself\u001b[39m\u001b[38;5;241m.\u001b[39m_layers:\n\u001b[1;32m--> 163\u001b[0m     \u001b[38;5;28;01mraise\u001b[39;00m \u001b[38;5;167;01mValueError\u001b[39;00m(\n\u001b[0;32m    164\u001b[0m         \u001b[38;5;124mf\u001b[39m\u001b[38;5;124m\"\u001b[39m\u001b[38;5;124mSequential model \u001b[39m\u001b[38;5;132;01m{\u001b[39;00m\u001b[38;5;28mself\u001b[39m\u001b[38;5;241m.\u001b[39mname\u001b[38;5;132;01m}\u001b[39;00m\u001b[38;5;124m cannot be built because it has \u001b[39m\u001b[38;5;124m\"\u001b[39m\n\u001b[0;32m    165\u001b[0m         \u001b[38;5;124m\"\u001b[39m\u001b[38;5;124mno layers. Call `model.add(layer)`.\u001b[39m\u001b[38;5;124m\"\u001b[39m\n\u001b[0;32m    166\u001b[0m     )\n\u001b[0;32m    167\u001b[0m \u001b[38;5;28;01mif\u001b[39;00m \u001b[38;5;28misinstance\u001b[39m(\u001b[38;5;28mself\u001b[39m\u001b[38;5;241m.\u001b[39m_layers[\u001b[38;5;241m0\u001b[39m], InputLayer):\n\u001b[0;32m    168\u001b[0m     \u001b[38;5;28;01mif\u001b[39;00m \u001b[38;5;28mself\u001b[39m\u001b[38;5;241m.\u001b[39m_layers[\u001b[38;5;241m0\u001b[39m]\u001b[38;5;241m.\u001b[39mbatch_shape \u001b[38;5;241m!=\u001b[39m input_shape:\n",
      "\u001b[1;31mValueError\u001b[0m: Sequential model sequential_2 cannot be built because it has no layers. Call `model.add(layer)`."
     ]
    }
   ],
   "source": [
    "history4 = new_model.fit(x_train,y_train,epochs=100,validation_data=(x_test,y_test),shuffle=True)"
   ]
  },
  {
   "cell_type": "code",
   "execution_count": null,
   "id": "7a1fd736-4a0e-4b82-9d23-2e4eeb6e9e10",
   "metadata": {},
   "outputs": [],
   "source": [
    "new_model.summary()"
   ]
  },
  {
   "cell_type": "code",
   "execution_count": 125,
   "id": "d50bd75d-36a8-4836-84e7-cd9f02bee699",
   "metadata": {},
   "outputs": [
    {
     "ename": "ValueError",
     "evalue": "Sequential model sequential_2 cannot be built because it has no layers. Call `model.add(layer)`.",
     "output_type": "error",
     "traceback": [
      "\u001b[1;31m---------------------------------------------------------------------------\u001b[0m",
      "\u001b[1;31mValueError\u001b[0m                                Traceback (most recent call last)",
      "Cell \u001b[1;32mIn[125], line 1\u001b[0m\n\u001b[1;32m----> 1\u001b[0m new_model\u001b[38;5;241m.\u001b[39mevaluate(x_test,y_test)\n",
      "File \u001b[1;32m~\\anaconda3\\Lib\\site-packages\\keras\\src\\utils\\traceback_utils.py:122\u001b[0m, in \u001b[0;36mfilter_traceback.<locals>.error_handler\u001b[1;34m(*args, **kwargs)\u001b[0m\n\u001b[0;32m    119\u001b[0m     filtered_tb \u001b[38;5;241m=\u001b[39m _process_traceback_frames(e\u001b[38;5;241m.\u001b[39m__traceback__)\n\u001b[0;32m    120\u001b[0m     \u001b[38;5;66;03m# To get the full stack trace, call:\u001b[39;00m\n\u001b[0;32m    121\u001b[0m     \u001b[38;5;66;03m# `keras.config.disable_traceback_filtering()`\u001b[39;00m\n\u001b[1;32m--> 122\u001b[0m     \u001b[38;5;28;01mraise\u001b[39;00m e\u001b[38;5;241m.\u001b[39mwith_traceback(filtered_tb) \u001b[38;5;28;01mfrom\u001b[39;00m \u001b[38;5;28;01mNone\u001b[39;00m\n\u001b[0;32m    123\u001b[0m \u001b[38;5;28;01mfinally\u001b[39;00m:\n\u001b[0;32m    124\u001b[0m     \u001b[38;5;28;01mdel\u001b[39;00m filtered_tb\n",
      "File \u001b[1;32m~\\anaconda3\\Lib\\site-packages\\keras\\src\\models\\sequential.py:163\u001b[0m, in \u001b[0;36mSequential.build\u001b[1;34m(self, input_shape)\u001b[0m\n\u001b[0;32m    161\u001b[0m     \u001b[38;5;28;01mreturn\u001b[39;00m\n\u001b[0;32m    162\u001b[0m \u001b[38;5;28;01mif\u001b[39;00m \u001b[38;5;129;01mnot\u001b[39;00m \u001b[38;5;28mself\u001b[39m\u001b[38;5;241m.\u001b[39m_layers:\n\u001b[1;32m--> 163\u001b[0m     \u001b[38;5;28;01mraise\u001b[39;00m \u001b[38;5;167;01mValueError\u001b[39;00m(\n\u001b[0;32m    164\u001b[0m         \u001b[38;5;124mf\u001b[39m\u001b[38;5;124m\"\u001b[39m\u001b[38;5;124mSequential model \u001b[39m\u001b[38;5;132;01m{\u001b[39;00m\u001b[38;5;28mself\u001b[39m\u001b[38;5;241m.\u001b[39mname\u001b[38;5;132;01m}\u001b[39;00m\u001b[38;5;124m cannot be built because it has \u001b[39m\u001b[38;5;124m\"\u001b[39m\n\u001b[0;32m    165\u001b[0m         \u001b[38;5;124m\"\u001b[39m\u001b[38;5;124mno layers. Call `model.add(layer)`.\u001b[39m\u001b[38;5;124m\"\u001b[39m\n\u001b[0;32m    166\u001b[0m     )\n\u001b[0;32m    167\u001b[0m \u001b[38;5;28;01mif\u001b[39;00m \u001b[38;5;28misinstance\u001b[39m(\u001b[38;5;28mself\u001b[39m\u001b[38;5;241m.\u001b[39m_layers[\u001b[38;5;241m0\u001b[39m], InputLayer):\n\u001b[0;32m    168\u001b[0m     \u001b[38;5;28;01mif\u001b[39;00m \u001b[38;5;28mself\u001b[39m\u001b[38;5;241m.\u001b[39m_layers[\u001b[38;5;241m0\u001b[39m]\u001b[38;5;241m.\u001b[39mbatch_shape \u001b[38;5;241m!=\u001b[39m input_shape:\n",
      "\u001b[1;31mValueError\u001b[0m: Sequential model sequential_2 cannot be built because it has no layers. Call `model.add(layer)`."
     ]
    }
   ],
   "source": [
    "new_model.evaluate(x_test,y_test)"
   ]
  },
  {
   "cell_type": "code",
   "execution_count": null,
   "id": "f21b603a-046a-4a0b-b0ec-ae19652e9745",
   "metadata": {},
   "outputs": [],
   "source": [
    "plt.plot(history4.history[\"loss\"], label = \"train\")\n",
    "plt.plot(history4.history[\"val_loss\"], label = \"test\")\n",
    "plt.legend()"
   ]
  },
  {
   "cell_type": "code",
   "execution_count": null,
   "id": "8a5e575e-1842-45de-9311-ff46eefbe5b4",
   "metadata": {},
   "outputs": [],
   "source": [
    "plt.plot(history4.history[\"accuracy\"],label=\"train\")\n",
    "plt.plot(history4.history[\"val_accuracy\"],label=\"test\")\n",
    "plt.legend()"
   ]
  },
  {
   "cell_type": "code",
   "execution_count": null,
   "id": "54ac6a08-1778-467b-ac92-6abf269a34f3",
   "metadata": {},
   "outputs": [],
   "source": []
  },
  {
   "cell_type": "markdown",
   "id": "c11141ca-7f7b-468d-be4d-263bb804442d",
   "metadata": {},
   "source": [
    "#### CNN+LSTM"
   ]
  },
  {
   "cell_type": "code",
   "execution_count": null,
   "id": "4ac48981-24e2-4f9a-9696-96078e7dfc27",
   "metadata": {},
   "outputs": [],
   "source": [
    "# def cnn_lstm_model(input_shape):\n",
    "    \n",
    "#     model = Sequential()\n",
    "#     model.add(Conv1D(32,kernel_size=1,activation='relu',input_shape=input_shape))\n",
    "#     model.add(MaxPooling1D(pool_size=1))\n",
    "#     model.add(LSTM(units=32))\n",
    "#     model.add(Dense(16, activation='relu'))\n",
    "#     model.add(Dense(n_outputs, activation='softmax'))\n",
    "    \n",
    "#     model.compile(optimizer='adam', metrics=['accuracy'], loss='categorical_crossentropy')\n",
    "\n",
    "#     return model\n",
    "\n",
    "# input_shape = (n_timesteps,n_features)\n",
    "# model_2 = cnn_lstm_model(input_shape)\n",
    "\n",
    "# model_2.summary()\n"
   ]
  },
  {
   "cell_type": "code",
   "execution_count": null,
   "id": "002189da-5dfe-4b51-901b-7d48336aecb9",
   "metadata": {},
   "outputs": [],
   "source": []
  },
  {
   "cell_type": "code",
   "execution_count": null,
   "id": "a024a626-5815-459b-a97a-b24975cfe04e",
   "metadata": {},
   "outputs": [],
   "source": []
  }
 ],
 "metadata": {
  "kernelspec": {
   "display_name": "Python 3 (ipykernel)",
   "language": "python",
   "name": "python3"
  },
  "language_info": {
   "codemirror_mode": {
    "name": "ipython",
    "version": 3
   },
   "file_extension": ".py",
   "mimetype": "text/x-python",
   "name": "python",
   "nbconvert_exporter": "python",
   "pygments_lexer": "ipython3",
   "version": "3.12.4"
  }
 },
 "nbformat": 4,
 "nbformat_minor": 5
}
>>>>>>> be6e586b7a396f0798f366fae48fc07f559f2448
